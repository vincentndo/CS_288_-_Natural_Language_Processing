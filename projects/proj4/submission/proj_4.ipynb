{
  "nbformat": 4,
  "nbformat_minor": 0,
  "metadata": {
    "colab": {
      "name": "Project 4 Done",
      "provenance": [],
      "collapsed_sections": [],
      "toc_visible": true
    },
    "kernelspec": {
      "name": "python3",
      "display_name": "Python 3"
    },
    "widgets": {
      "application/vnd.jupyter.widget-state+json": {
        "be57d39a81e44a1ead34b65ab0ac6b03": {
          "model_module": "@jupyter-widgets/controls",
          "model_name": "HBoxModel",
          "state": {
            "_view_name": "HBoxView",
            "_dom_classes": [],
            "_model_name": "HBoxModel",
            "_view_module": "@jupyter-widgets/controls",
            "_model_module_version": "1.5.0",
            "_view_count": null,
            "_view_module_version": "1.5.0",
            "box_style": "",
            "layout": "IPY_MODEL_7720239a051f475693ca26fc287984e1",
            "_model_module": "@jupyter-widgets/controls",
            "children": [
              "IPY_MODEL_c1b4ace2eb9f4afead581f004743162e",
              "IPY_MODEL_2d8cc37510f043caaa3d5d5dc4588db2"
            ]
          }
        },
        "7720239a051f475693ca26fc287984e1": {
          "model_module": "@jupyter-widgets/base",
          "model_name": "LayoutModel",
          "state": {
            "_view_name": "LayoutView",
            "grid_template_rows": null,
            "right": null,
            "justify_content": null,
            "_view_module": "@jupyter-widgets/base",
            "overflow": null,
            "_model_module_version": "1.2.0",
            "_view_count": null,
            "flex_flow": null,
            "width": null,
            "min_width": null,
            "border": null,
            "align_items": null,
            "bottom": null,
            "_model_module": "@jupyter-widgets/base",
            "top": null,
            "grid_column": null,
            "overflow_y": null,
            "overflow_x": null,
            "grid_auto_flow": null,
            "grid_area": null,
            "grid_template_columns": null,
            "flex": null,
            "_model_name": "LayoutModel",
            "justify_items": null,
            "grid_row": null,
            "max_height": null,
            "align_content": null,
            "visibility": null,
            "align_self": null,
            "height": null,
            "min_height": null,
            "padding": null,
            "grid_auto_rows": null,
            "grid_gap": null,
            "max_width": null,
            "order": null,
            "_view_module_version": "1.2.0",
            "grid_template_areas": null,
            "object_position": null,
            "object_fit": null,
            "grid_auto_columns": null,
            "margin": null,
            "display": null,
            "left": null
          }
        },
        "c1b4ace2eb9f4afead581f004743162e": {
          "model_module": "@jupyter-widgets/controls",
          "model_name": "FloatProgressModel",
          "state": {
            "_view_name": "ProgressView",
            "style": "IPY_MODEL_0577841a66324f4286c0f7202d02ddc3",
            "_dom_classes": [],
            "description": "training: 100%",
            "_model_name": "FloatProgressModel",
            "bar_style": "success",
            "max": 10,
            "_view_module": "@jupyter-widgets/controls",
            "_model_module_version": "1.5.0",
            "value": 10,
            "_view_count": null,
            "_view_module_version": "1.5.0",
            "orientation": "horizontal",
            "min": 0,
            "description_tooltip": null,
            "_model_module": "@jupyter-widgets/controls",
            "layout": "IPY_MODEL_af1a13c15e0a44928350d8d9fd31612a"
          }
        },
        "2d8cc37510f043caaa3d5d5dc4588db2": {
          "model_module": "@jupyter-widgets/controls",
          "model_name": "HTMLModel",
          "state": {
            "_view_name": "HTMLView",
            "style": "IPY_MODEL_e28ed8bbd8e24fab8298e617bb92e56c",
            "_dom_classes": [],
            "description": "",
            "_model_name": "HTMLModel",
            "placeholder": "​",
            "_view_module": "@jupyter-widgets/controls",
            "_model_module_version": "1.5.0",
            "value": " 10/10 [04:31&lt;00:00, 27.18s/epoch]",
            "_view_count": null,
            "_view_module_version": "1.5.0",
            "description_tooltip": null,
            "_model_module": "@jupyter-widgets/controls",
            "layout": "IPY_MODEL_07e1248edc814d4b9ded7eda34d13706"
          }
        },
        "0577841a66324f4286c0f7202d02ddc3": {
          "model_module": "@jupyter-widgets/controls",
          "model_name": "ProgressStyleModel",
          "state": {
            "_view_name": "StyleView",
            "_model_name": "ProgressStyleModel",
            "description_width": "initial",
            "_view_module": "@jupyter-widgets/base",
            "_model_module_version": "1.5.0",
            "_view_count": null,
            "_view_module_version": "1.2.0",
            "bar_color": null,
            "_model_module": "@jupyter-widgets/controls"
          }
        },
        "af1a13c15e0a44928350d8d9fd31612a": {
          "model_module": "@jupyter-widgets/base",
          "model_name": "LayoutModel",
          "state": {
            "_view_name": "LayoutView",
            "grid_template_rows": null,
            "right": null,
            "justify_content": null,
            "_view_module": "@jupyter-widgets/base",
            "overflow": null,
            "_model_module_version": "1.2.0",
            "_view_count": null,
            "flex_flow": null,
            "width": null,
            "min_width": null,
            "border": null,
            "align_items": null,
            "bottom": null,
            "_model_module": "@jupyter-widgets/base",
            "top": null,
            "grid_column": null,
            "overflow_y": null,
            "overflow_x": null,
            "grid_auto_flow": null,
            "grid_area": null,
            "grid_template_columns": null,
            "flex": null,
            "_model_name": "LayoutModel",
            "justify_items": null,
            "grid_row": null,
            "max_height": null,
            "align_content": null,
            "visibility": null,
            "align_self": null,
            "height": null,
            "min_height": null,
            "padding": null,
            "grid_auto_rows": null,
            "grid_gap": null,
            "max_width": null,
            "order": null,
            "_view_module_version": "1.2.0",
            "grid_template_areas": null,
            "object_position": null,
            "object_fit": null,
            "grid_auto_columns": null,
            "margin": null,
            "display": null,
            "left": null
          }
        },
        "e28ed8bbd8e24fab8298e617bb92e56c": {
          "model_module": "@jupyter-widgets/controls",
          "model_name": "DescriptionStyleModel",
          "state": {
            "_view_name": "StyleView",
            "_model_name": "DescriptionStyleModel",
            "description_width": "",
            "_view_module": "@jupyter-widgets/base",
            "_model_module_version": "1.5.0",
            "_view_count": null,
            "_view_module_version": "1.2.0",
            "_model_module": "@jupyter-widgets/controls"
          }
        },
        "07e1248edc814d4b9ded7eda34d13706": {
          "model_module": "@jupyter-widgets/base",
          "model_name": "LayoutModel",
          "state": {
            "_view_name": "LayoutView",
            "grid_template_rows": null,
            "right": null,
            "justify_content": null,
            "_view_module": "@jupyter-widgets/base",
            "overflow": null,
            "_model_module_version": "1.2.0",
            "_view_count": null,
            "flex_flow": null,
            "width": null,
            "min_width": null,
            "border": null,
            "align_items": null,
            "bottom": null,
            "_model_module": "@jupyter-widgets/base",
            "top": null,
            "grid_column": null,
            "overflow_y": null,
            "overflow_x": null,
            "grid_auto_flow": null,
            "grid_area": null,
            "grid_template_columns": null,
            "flex": null,
            "_model_name": "LayoutModel",
            "justify_items": null,
            "grid_row": null,
            "max_height": null,
            "align_content": null,
            "visibility": null,
            "align_self": null,
            "height": null,
            "min_height": null,
            "padding": null,
            "grid_auto_rows": null,
            "grid_gap": null,
            "max_width": null,
            "order": null,
            "_view_module_version": "1.2.0",
            "grid_template_areas": null,
            "object_position": null,
            "object_fit": null,
            "grid_auto_columns": null,
            "margin": null,
            "display": null,
            "left": null
          }
        },
        "e7e7e6ad29c149e099b42c4106b190c2": {
          "model_module": "@jupyter-widgets/controls",
          "model_name": "HBoxModel",
          "state": {
            "_view_name": "HBoxView",
            "_dom_classes": [],
            "_model_name": "HBoxModel",
            "_view_module": "@jupyter-widgets/controls",
            "_model_module_version": "1.5.0",
            "_view_count": null,
            "_view_module_version": "1.5.0",
            "box_style": "",
            "layout": "IPY_MODEL_666ed6684a234970a0c53df28d613e7b",
            "_model_module": "@jupyter-widgets/controls",
            "children": [
              "IPY_MODEL_6d212d9d9fbc4bb0855239d9eefffe4a",
              "IPY_MODEL_3ea7376a4d91447fbdea32094e617186"
            ]
          }
        },
        "666ed6684a234970a0c53df28d613e7b": {
          "model_module": "@jupyter-widgets/base",
          "model_name": "LayoutModel",
          "state": {
            "_view_name": "LayoutView",
            "grid_template_rows": null,
            "right": null,
            "justify_content": null,
            "_view_module": "@jupyter-widgets/base",
            "overflow": null,
            "_model_module_version": "1.2.0",
            "_view_count": null,
            "flex_flow": null,
            "width": null,
            "min_width": null,
            "border": null,
            "align_items": null,
            "bottom": null,
            "_model_module": "@jupyter-widgets/base",
            "top": null,
            "grid_column": null,
            "overflow_y": null,
            "overflow_x": null,
            "grid_auto_flow": null,
            "grid_area": null,
            "grid_template_columns": null,
            "flex": null,
            "_model_name": "LayoutModel",
            "justify_items": null,
            "grid_row": null,
            "max_height": null,
            "align_content": null,
            "visibility": null,
            "align_self": null,
            "height": null,
            "min_height": null,
            "padding": null,
            "grid_auto_rows": null,
            "grid_gap": null,
            "max_width": null,
            "order": null,
            "_view_module_version": "1.2.0",
            "grid_template_areas": null,
            "object_position": null,
            "object_fit": null,
            "grid_auto_columns": null,
            "margin": null,
            "display": null,
            "left": null
          }
        },
        "6d212d9d9fbc4bb0855239d9eefffe4a": {
          "model_module": "@jupyter-widgets/controls",
          "model_name": "FloatProgressModel",
          "state": {
            "_view_name": "ProgressView",
            "style": "IPY_MODEL_e745b5f657594f34b2fd050f267da302",
            "_dom_classes": [],
            "description": "epoch 1: 100%",
            "_model_name": "FloatProgressModel",
            "bar_style": "success",
            "max": 133,
            "_view_module": "@jupyter-widgets/controls",
            "_model_module_version": "1.5.0",
            "value": 133,
            "_view_count": null,
            "_view_module_version": "1.5.0",
            "orientation": "horizontal",
            "min": 0,
            "description_tooltip": null,
            "_model_module": "@jupyter-widgets/controls",
            "layout": "IPY_MODEL_5693b1a5d2294e5f81157488f1bb0670"
          }
        },
        "3ea7376a4d91447fbdea32094e617186": {
          "model_module": "@jupyter-widgets/controls",
          "model_name": "HTMLModel",
          "state": {
            "_view_name": "HTMLView",
            "style": "IPY_MODEL_57d0da575ef44c84960a27d1305654a1",
            "_dom_classes": [],
            "description": "",
            "_model_name": "HTMLModel",
            "placeholder": "​",
            "_view_module": "@jupyter-widgets/controls",
            "_model_module_version": "1.5.0",
            "value": " 133/133 [04:31&lt;00:00,  2.04s/instance, train_loss=2.81, train_denotation_acc=0.737, dev_denotation_acc=0.585, dev_loss=2.62]",
            "_view_count": null,
            "_view_module_version": "1.5.0",
            "description_tooltip": null,
            "_model_module": "@jupyter-widgets/controls",
            "layout": "IPY_MODEL_88eef2deed3f4053be96e98abe23b746"
          }
        },
        "e745b5f657594f34b2fd050f267da302": {
          "model_module": "@jupyter-widgets/controls",
          "model_name": "ProgressStyleModel",
          "state": {
            "_view_name": "StyleView",
            "_model_name": "ProgressStyleModel",
            "description_width": "initial",
            "_view_module": "@jupyter-widgets/base",
            "_model_module_version": "1.5.0",
            "_view_count": null,
            "_view_module_version": "1.2.0",
            "bar_color": null,
            "_model_module": "@jupyter-widgets/controls"
          }
        },
        "5693b1a5d2294e5f81157488f1bb0670": {
          "model_module": "@jupyter-widgets/base",
          "model_name": "LayoutModel",
          "state": {
            "_view_name": "LayoutView",
            "grid_template_rows": null,
            "right": null,
            "justify_content": null,
            "_view_module": "@jupyter-widgets/base",
            "overflow": null,
            "_model_module_version": "1.2.0",
            "_view_count": null,
            "flex_flow": null,
            "width": null,
            "min_width": null,
            "border": null,
            "align_items": null,
            "bottom": null,
            "_model_module": "@jupyter-widgets/base",
            "top": null,
            "grid_column": null,
            "overflow_y": null,
            "overflow_x": null,
            "grid_auto_flow": null,
            "grid_area": null,
            "grid_template_columns": null,
            "flex": null,
            "_model_name": "LayoutModel",
            "justify_items": null,
            "grid_row": null,
            "max_height": null,
            "align_content": null,
            "visibility": null,
            "align_self": null,
            "height": null,
            "min_height": null,
            "padding": null,
            "grid_auto_rows": null,
            "grid_gap": null,
            "max_width": null,
            "order": null,
            "_view_module_version": "1.2.0",
            "grid_template_areas": null,
            "object_position": null,
            "object_fit": null,
            "grid_auto_columns": null,
            "margin": null,
            "display": null,
            "left": null
          }
        },
        "57d0da575ef44c84960a27d1305654a1": {
          "model_module": "@jupyter-widgets/controls",
          "model_name": "DescriptionStyleModel",
          "state": {
            "_view_name": "StyleView",
            "_model_name": "DescriptionStyleModel",
            "description_width": "",
            "_view_module": "@jupyter-widgets/base",
            "_model_module_version": "1.5.0",
            "_view_count": null,
            "_view_module_version": "1.2.0",
            "_model_module": "@jupyter-widgets/controls"
          }
        },
        "88eef2deed3f4053be96e98abe23b746": {
          "model_module": "@jupyter-widgets/base",
          "model_name": "LayoutModel",
          "state": {
            "_view_name": "LayoutView",
            "grid_template_rows": null,
            "right": null,
            "justify_content": null,
            "_view_module": "@jupyter-widgets/base",
            "overflow": null,
            "_model_module_version": "1.2.0",
            "_view_count": null,
            "flex_flow": null,
            "width": null,
            "min_width": null,
            "border": null,
            "align_items": null,
            "bottom": null,
            "_model_module": "@jupyter-widgets/base",
            "top": null,
            "grid_column": null,
            "overflow_y": null,
            "overflow_x": null,
            "grid_auto_flow": null,
            "grid_area": null,
            "grid_template_columns": null,
            "flex": null,
            "_model_name": "LayoutModel",
            "justify_items": null,
            "grid_row": null,
            "max_height": null,
            "align_content": null,
            "visibility": null,
            "align_self": null,
            "height": null,
            "min_height": null,
            "padding": null,
            "grid_auto_rows": null,
            "grid_gap": null,
            "max_width": null,
            "order": null,
            "_view_module_version": "1.2.0",
            "grid_template_areas": null,
            "object_position": null,
            "object_fit": null,
            "grid_auto_columns": null,
            "margin": null,
            "display": null,
            "left": null
          }
        },
        "8367aba95ab247be94e3b7d59ba9f20d": {
          "model_module": "@jupyter-widgets/controls",
          "model_name": "HBoxModel",
          "state": {
            "_view_name": "HBoxView",
            "_dom_classes": [],
            "_model_name": "HBoxModel",
            "_view_module": "@jupyter-widgets/controls",
            "_model_module_version": "1.5.0",
            "_view_count": null,
            "_view_module_version": "1.5.0",
            "box_style": "",
            "layout": "IPY_MODEL_2995c79f70ef4f5b826d945abd8f5201",
            "_model_module": "@jupyter-widgets/controls",
            "children": [
              "IPY_MODEL_dafbb608275743f98b1b226ac98d9d98",
              "IPY_MODEL_12363304c70c45549a223c45880a4f8c"
            ]
          }
        },
        "2995c79f70ef4f5b826d945abd8f5201": {
          "model_module": "@jupyter-widgets/base",
          "model_name": "LayoutModel",
          "state": {
            "_view_name": "LayoutView",
            "grid_template_rows": null,
            "right": null,
            "justify_content": null,
            "_view_module": "@jupyter-widgets/base",
            "overflow": null,
            "_model_module_version": "1.2.0",
            "_view_count": null,
            "flex_flow": null,
            "width": null,
            "min_width": null,
            "border": null,
            "align_items": null,
            "bottom": null,
            "_model_module": "@jupyter-widgets/base",
            "top": null,
            "grid_column": null,
            "overflow_y": null,
            "overflow_x": null,
            "grid_auto_flow": null,
            "grid_area": null,
            "grid_template_columns": null,
            "flex": null,
            "_model_name": "LayoutModel",
            "justify_items": null,
            "grid_row": null,
            "max_height": null,
            "align_content": null,
            "visibility": null,
            "align_self": null,
            "height": null,
            "min_height": null,
            "padding": null,
            "grid_auto_rows": null,
            "grid_gap": null,
            "max_width": null,
            "order": null,
            "_view_module_version": "1.2.0",
            "grid_template_areas": null,
            "object_position": null,
            "object_fit": null,
            "grid_auto_columns": null,
            "margin": null,
            "display": null,
            "left": null
          }
        },
        "dafbb608275743f98b1b226ac98d9d98": {
          "model_module": "@jupyter-widgets/controls",
          "model_name": "FloatProgressModel",
          "state": {
            "_view_name": "ProgressView",
            "style": "IPY_MODEL_6d9c9e6c0c9e4f45b2d45f64e454d3f1",
            "_dom_classes": [],
            "description": "epoch 2: 100%",
            "_model_name": "FloatProgressModel",
            "bar_style": "success",
            "max": 133,
            "_view_module": "@jupyter-widgets/controls",
            "_model_module_version": "1.5.0",
            "value": 133,
            "_view_count": null,
            "_view_module_version": "1.5.0",
            "orientation": "horizontal",
            "min": 0,
            "description_tooltip": null,
            "_model_module": "@jupyter-widgets/controls",
            "layout": "IPY_MODEL_8183e00179d34aad9a9b2095f0412190"
          }
        },
        "12363304c70c45549a223c45880a4f8c": {
          "model_module": "@jupyter-widgets/controls",
          "model_name": "HTMLModel",
          "state": {
            "_view_name": "HTMLView",
            "style": "IPY_MODEL_bf7b4c6f0e014fcdb5e657a48fe7a8f0",
            "_dom_classes": [],
            "description": "",
            "_model_name": "HTMLModel",
            "placeholder": "​",
            "_view_module": "@jupyter-widgets/controls",
            "_model_module_version": "1.5.0",
            "value": " 133/133 [04:15&lt;00:00,  1.92s/instance, train_loss=1.8, train_denotation_acc=0.82, dev_denotation_acc=0.927, dev_loss=1.85]",
            "_view_count": null,
            "_view_module_version": "1.5.0",
            "description_tooltip": null,
            "_model_module": "@jupyter-widgets/controls",
            "layout": "IPY_MODEL_5436b1839db8407e93cbf4217cf7f812"
          }
        },
        "6d9c9e6c0c9e4f45b2d45f64e454d3f1": {
          "model_module": "@jupyter-widgets/controls",
          "model_name": "ProgressStyleModel",
          "state": {
            "_view_name": "StyleView",
            "_model_name": "ProgressStyleModel",
            "description_width": "initial",
            "_view_module": "@jupyter-widgets/base",
            "_model_module_version": "1.5.0",
            "_view_count": null,
            "_view_module_version": "1.2.0",
            "bar_color": null,
            "_model_module": "@jupyter-widgets/controls"
          }
        },
        "8183e00179d34aad9a9b2095f0412190": {
          "model_module": "@jupyter-widgets/base",
          "model_name": "LayoutModel",
          "state": {
            "_view_name": "LayoutView",
            "grid_template_rows": null,
            "right": null,
            "justify_content": null,
            "_view_module": "@jupyter-widgets/base",
            "overflow": null,
            "_model_module_version": "1.2.0",
            "_view_count": null,
            "flex_flow": null,
            "width": null,
            "min_width": null,
            "border": null,
            "align_items": null,
            "bottom": null,
            "_model_module": "@jupyter-widgets/base",
            "top": null,
            "grid_column": null,
            "overflow_y": null,
            "overflow_x": null,
            "grid_auto_flow": null,
            "grid_area": null,
            "grid_template_columns": null,
            "flex": null,
            "_model_name": "LayoutModel",
            "justify_items": null,
            "grid_row": null,
            "max_height": null,
            "align_content": null,
            "visibility": null,
            "align_self": null,
            "height": null,
            "min_height": null,
            "padding": null,
            "grid_auto_rows": null,
            "grid_gap": null,
            "max_width": null,
            "order": null,
            "_view_module_version": "1.2.0",
            "grid_template_areas": null,
            "object_position": null,
            "object_fit": null,
            "grid_auto_columns": null,
            "margin": null,
            "display": null,
            "left": null
          }
        },
        "bf7b4c6f0e014fcdb5e657a48fe7a8f0": {
          "model_module": "@jupyter-widgets/controls",
          "model_name": "DescriptionStyleModel",
          "state": {
            "_view_name": "StyleView",
            "_model_name": "DescriptionStyleModel",
            "description_width": "",
            "_view_module": "@jupyter-widgets/base",
            "_model_module_version": "1.5.0",
            "_view_count": null,
            "_view_module_version": "1.2.0",
            "_model_module": "@jupyter-widgets/controls"
          }
        },
        "5436b1839db8407e93cbf4217cf7f812": {
          "model_module": "@jupyter-widgets/base",
          "model_name": "LayoutModel",
          "state": {
            "_view_name": "LayoutView",
            "grid_template_rows": null,
            "right": null,
            "justify_content": null,
            "_view_module": "@jupyter-widgets/base",
            "overflow": null,
            "_model_module_version": "1.2.0",
            "_view_count": null,
            "flex_flow": null,
            "width": null,
            "min_width": null,
            "border": null,
            "align_items": null,
            "bottom": null,
            "_model_module": "@jupyter-widgets/base",
            "top": null,
            "grid_column": null,
            "overflow_y": null,
            "overflow_x": null,
            "grid_auto_flow": null,
            "grid_area": null,
            "grid_template_columns": null,
            "flex": null,
            "_model_name": "LayoutModel",
            "justify_items": null,
            "grid_row": null,
            "max_height": null,
            "align_content": null,
            "visibility": null,
            "align_self": null,
            "height": null,
            "min_height": null,
            "padding": null,
            "grid_auto_rows": null,
            "grid_gap": null,
            "max_width": null,
            "order": null,
            "_view_module_version": "1.2.0",
            "grid_template_areas": null,
            "object_position": null,
            "object_fit": null,
            "grid_auto_columns": null,
            "margin": null,
            "display": null,
            "left": null
          }
        },
        "c0c65d92cd174ed8b7833c3e8a11c867": {
          "model_module": "@jupyter-widgets/controls",
          "model_name": "HBoxModel",
          "state": {
            "_view_name": "HBoxView",
            "_dom_classes": [],
            "_model_name": "HBoxModel",
            "_view_module": "@jupyter-widgets/controls",
            "_model_module_version": "1.5.0",
            "_view_count": null,
            "_view_module_version": "1.5.0",
            "box_style": "",
            "layout": "IPY_MODEL_67b7bf1fea0649c9b46080e8e602ae80",
            "_model_module": "@jupyter-widgets/controls",
            "children": [
              "IPY_MODEL_1b785ae72c2a4101a20df749a31f7f59",
              "IPY_MODEL_cb147b7771914a0f90a316293d7915e3"
            ]
          }
        },
        "67b7bf1fea0649c9b46080e8e602ae80": {
          "model_module": "@jupyter-widgets/base",
          "model_name": "LayoutModel",
          "state": {
            "_view_name": "LayoutView",
            "grid_template_rows": null,
            "right": null,
            "justify_content": null,
            "_view_module": "@jupyter-widgets/base",
            "overflow": null,
            "_model_module_version": "1.2.0",
            "_view_count": null,
            "flex_flow": null,
            "width": null,
            "min_width": null,
            "border": null,
            "align_items": null,
            "bottom": null,
            "_model_module": "@jupyter-widgets/base",
            "top": null,
            "grid_column": null,
            "overflow_y": null,
            "overflow_x": null,
            "grid_auto_flow": null,
            "grid_area": null,
            "grid_template_columns": null,
            "flex": null,
            "_model_name": "LayoutModel",
            "justify_items": null,
            "grid_row": null,
            "max_height": null,
            "align_content": null,
            "visibility": null,
            "align_self": null,
            "height": null,
            "min_height": null,
            "padding": null,
            "grid_auto_rows": null,
            "grid_gap": null,
            "max_width": null,
            "order": null,
            "_view_module_version": "1.2.0",
            "grid_template_areas": null,
            "object_position": null,
            "object_fit": null,
            "grid_auto_columns": null,
            "margin": null,
            "display": null,
            "left": null
          }
        },
        "1b785ae72c2a4101a20df749a31f7f59": {
          "model_module": "@jupyter-widgets/controls",
          "model_name": "FloatProgressModel",
          "state": {
            "_view_name": "ProgressView",
            "style": "IPY_MODEL_4f96237eca0745f2b6c28d07de63f8d2",
            "_dom_classes": [],
            "description": "epoch 3: 100%",
            "_model_name": "FloatProgressModel",
            "bar_style": "success",
            "max": 133,
            "_view_module": "@jupyter-widgets/controls",
            "_model_module_version": "1.5.0",
            "value": 133,
            "_view_count": null,
            "_view_module_version": "1.5.0",
            "orientation": "horizontal",
            "min": 0,
            "description_tooltip": null,
            "_model_module": "@jupyter-widgets/controls",
            "layout": "IPY_MODEL_d841931fa8b34968961e1ab7828929d5"
          }
        },
        "cb147b7771914a0f90a316293d7915e3": {
          "model_module": "@jupyter-widgets/controls",
          "model_name": "HTMLModel",
          "state": {
            "_view_name": "HTMLView",
            "style": "IPY_MODEL_7a465ebc06be40a685c81e9de99af95b",
            "_dom_classes": [],
            "description": "",
            "_model_name": "HTMLModel",
            "placeholder": "​",
            "_view_module": "@jupyter-widgets/controls",
            "_model_module_version": "1.5.0",
            "value": " 133/133 [03:59&lt;00:00,  1.80s/instance, train_loss=1.34, train_denotation_acc=0.895, dev_denotation_acc=0.829, dev_loss=1.73]",
            "_view_count": null,
            "_view_module_version": "1.5.0",
            "description_tooltip": null,
            "_model_module": "@jupyter-widgets/controls",
            "layout": "IPY_MODEL_32177cc08d6b4e429498881a95f009c4"
          }
        },
        "4f96237eca0745f2b6c28d07de63f8d2": {
          "model_module": "@jupyter-widgets/controls",
          "model_name": "ProgressStyleModel",
          "state": {
            "_view_name": "StyleView",
            "_model_name": "ProgressStyleModel",
            "description_width": "initial",
            "_view_module": "@jupyter-widgets/base",
            "_model_module_version": "1.5.0",
            "_view_count": null,
            "_view_module_version": "1.2.0",
            "bar_color": null,
            "_model_module": "@jupyter-widgets/controls"
          }
        },
        "d841931fa8b34968961e1ab7828929d5": {
          "model_module": "@jupyter-widgets/base",
          "model_name": "LayoutModel",
          "state": {
            "_view_name": "LayoutView",
            "grid_template_rows": null,
            "right": null,
            "justify_content": null,
            "_view_module": "@jupyter-widgets/base",
            "overflow": null,
            "_model_module_version": "1.2.0",
            "_view_count": null,
            "flex_flow": null,
            "width": null,
            "min_width": null,
            "border": null,
            "align_items": null,
            "bottom": null,
            "_model_module": "@jupyter-widgets/base",
            "top": null,
            "grid_column": null,
            "overflow_y": null,
            "overflow_x": null,
            "grid_auto_flow": null,
            "grid_area": null,
            "grid_template_columns": null,
            "flex": null,
            "_model_name": "LayoutModel",
            "justify_items": null,
            "grid_row": null,
            "max_height": null,
            "align_content": null,
            "visibility": null,
            "align_self": null,
            "height": null,
            "min_height": null,
            "padding": null,
            "grid_auto_rows": null,
            "grid_gap": null,
            "max_width": null,
            "order": null,
            "_view_module_version": "1.2.0",
            "grid_template_areas": null,
            "object_position": null,
            "object_fit": null,
            "grid_auto_columns": null,
            "margin": null,
            "display": null,
            "left": null
          }
        },
        "7a465ebc06be40a685c81e9de99af95b": {
          "model_module": "@jupyter-widgets/controls",
          "model_name": "DescriptionStyleModel",
          "state": {
            "_view_name": "StyleView",
            "_model_name": "DescriptionStyleModel",
            "description_width": "",
            "_view_module": "@jupyter-widgets/base",
            "_model_module_version": "1.5.0",
            "_view_count": null,
            "_view_module_version": "1.2.0",
            "_model_module": "@jupyter-widgets/controls"
          }
        },
        "32177cc08d6b4e429498881a95f009c4": {
          "model_module": "@jupyter-widgets/base",
          "model_name": "LayoutModel",
          "state": {
            "_view_name": "LayoutView",
            "grid_template_rows": null,
            "right": null,
            "justify_content": null,
            "_view_module": "@jupyter-widgets/base",
            "overflow": null,
            "_model_module_version": "1.2.0",
            "_view_count": null,
            "flex_flow": null,
            "width": null,
            "min_width": null,
            "border": null,
            "align_items": null,
            "bottom": null,
            "_model_module": "@jupyter-widgets/base",
            "top": null,
            "grid_column": null,
            "overflow_y": null,
            "overflow_x": null,
            "grid_auto_flow": null,
            "grid_area": null,
            "grid_template_columns": null,
            "flex": null,
            "_model_name": "LayoutModel",
            "justify_items": null,
            "grid_row": null,
            "max_height": null,
            "align_content": null,
            "visibility": null,
            "align_self": null,
            "height": null,
            "min_height": null,
            "padding": null,
            "grid_auto_rows": null,
            "grid_gap": null,
            "max_width": null,
            "order": null,
            "_view_module_version": "1.2.0",
            "grid_template_areas": null,
            "object_position": null,
            "object_fit": null,
            "grid_auto_columns": null,
            "margin": null,
            "display": null,
            "left": null
          }
        },
        "2aea98ef35e3463a811f6699f8041f3d": {
          "model_module": "@jupyter-widgets/controls",
          "model_name": "HBoxModel",
          "state": {
            "_view_name": "HBoxView",
            "_dom_classes": [],
            "_model_name": "HBoxModel",
            "_view_module": "@jupyter-widgets/controls",
            "_model_module_version": "1.5.0",
            "_view_count": null,
            "_view_module_version": "1.5.0",
            "box_style": "",
            "layout": "IPY_MODEL_20a251346b844a5aa7526fcf4e0abd9d",
            "_model_module": "@jupyter-widgets/controls",
            "children": [
              "IPY_MODEL_09fea4225d474cde8d172472fdb309c2",
              "IPY_MODEL_9ab4868d087144d38cc567944ad9bd29"
            ]
          }
        },
        "20a251346b844a5aa7526fcf4e0abd9d": {
          "model_module": "@jupyter-widgets/base",
          "model_name": "LayoutModel",
          "state": {
            "_view_name": "LayoutView",
            "grid_template_rows": null,
            "right": null,
            "justify_content": null,
            "_view_module": "@jupyter-widgets/base",
            "overflow": null,
            "_model_module_version": "1.2.0",
            "_view_count": null,
            "flex_flow": null,
            "width": null,
            "min_width": null,
            "border": null,
            "align_items": null,
            "bottom": null,
            "_model_module": "@jupyter-widgets/base",
            "top": null,
            "grid_column": null,
            "overflow_y": null,
            "overflow_x": null,
            "grid_auto_flow": null,
            "grid_area": null,
            "grid_template_columns": null,
            "flex": null,
            "_model_name": "LayoutModel",
            "justify_items": null,
            "grid_row": null,
            "max_height": null,
            "align_content": null,
            "visibility": null,
            "align_self": null,
            "height": null,
            "min_height": null,
            "padding": null,
            "grid_auto_rows": null,
            "grid_gap": null,
            "max_width": null,
            "order": null,
            "_view_module_version": "1.2.0",
            "grid_template_areas": null,
            "object_position": null,
            "object_fit": null,
            "grid_auto_columns": null,
            "margin": null,
            "display": null,
            "left": null
          }
        },
        "09fea4225d474cde8d172472fdb309c2": {
          "model_module": "@jupyter-widgets/controls",
          "model_name": "FloatProgressModel",
          "state": {
            "_view_name": "ProgressView",
            "style": "IPY_MODEL_4c3856e8c14e48a5a5fad0656ed84456",
            "_dom_classes": [],
            "description": "epoch 4: 100%",
            "_model_name": "FloatProgressModel",
            "bar_style": "success",
            "max": 133,
            "_view_module": "@jupyter-widgets/controls",
            "_model_module_version": "1.5.0",
            "value": 133,
            "_view_count": null,
            "_view_module_version": "1.5.0",
            "orientation": "horizontal",
            "min": 0,
            "description_tooltip": null,
            "_model_module": "@jupyter-widgets/controls",
            "layout": "IPY_MODEL_c3b8d114c7934a52a9566f4097210946"
          }
        },
        "9ab4868d087144d38cc567944ad9bd29": {
          "model_module": "@jupyter-widgets/controls",
          "model_name": "HTMLModel",
          "state": {
            "_view_name": "HTMLView",
            "style": "IPY_MODEL_2cebd4eab3f7416fa07e6651a4a36a94",
            "_dom_classes": [],
            "description": "",
            "_model_name": "HTMLModel",
            "placeholder": "​",
            "_view_module": "@jupyter-widgets/controls",
            "_model_module_version": "1.5.0",
            "value": " 133/133 [03:42&lt;00:00,  1.68s/instance, train_loss=1.19, train_denotation_acc=0.872, dev_denotation_acc=0.854, dev_loss=1.46]",
            "_view_count": null,
            "_view_module_version": "1.5.0",
            "description_tooltip": null,
            "_model_module": "@jupyter-widgets/controls",
            "layout": "IPY_MODEL_edd4d7f2d09841f3b15ef92620b83a15"
          }
        },
        "4c3856e8c14e48a5a5fad0656ed84456": {
          "model_module": "@jupyter-widgets/controls",
          "model_name": "ProgressStyleModel",
          "state": {
            "_view_name": "StyleView",
            "_model_name": "ProgressStyleModel",
            "description_width": "initial",
            "_view_module": "@jupyter-widgets/base",
            "_model_module_version": "1.5.0",
            "_view_count": null,
            "_view_module_version": "1.2.0",
            "bar_color": null,
            "_model_module": "@jupyter-widgets/controls"
          }
        },
        "c3b8d114c7934a52a9566f4097210946": {
          "model_module": "@jupyter-widgets/base",
          "model_name": "LayoutModel",
          "state": {
            "_view_name": "LayoutView",
            "grid_template_rows": null,
            "right": null,
            "justify_content": null,
            "_view_module": "@jupyter-widgets/base",
            "overflow": null,
            "_model_module_version": "1.2.0",
            "_view_count": null,
            "flex_flow": null,
            "width": null,
            "min_width": null,
            "border": null,
            "align_items": null,
            "bottom": null,
            "_model_module": "@jupyter-widgets/base",
            "top": null,
            "grid_column": null,
            "overflow_y": null,
            "overflow_x": null,
            "grid_auto_flow": null,
            "grid_area": null,
            "grid_template_columns": null,
            "flex": null,
            "_model_name": "LayoutModel",
            "justify_items": null,
            "grid_row": null,
            "max_height": null,
            "align_content": null,
            "visibility": null,
            "align_self": null,
            "height": null,
            "min_height": null,
            "padding": null,
            "grid_auto_rows": null,
            "grid_gap": null,
            "max_width": null,
            "order": null,
            "_view_module_version": "1.2.0",
            "grid_template_areas": null,
            "object_position": null,
            "object_fit": null,
            "grid_auto_columns": null,
            "margin": null,
            "display": null,
            "left": null
          }
        },
        "2cebd4eab3f7416fa07e6651a4a36a94": {
          "model_module": "@jupyter-widgets/controls",
          "model_name": "DescriptionStyleModel",
          "state": {
            "_view_name": "StyleView",
            "_model_name": "DescriptionStyleModel",
            "description_width": "",
            "_view_module": "@jupyter-widgets/base",
            "_model_module_version": "1.5.0",
            "_view_count": null,
            "_view_module_version": "1.2.0",
            "_model_module": "@jupyter-widgets/controls"
          }
        },
        "edd4d7f2d09841f3b15ef92620b83a15": {
          "model_module": "@jupyter-widgets/base",
          "model_name": "LayoutModel",
          "state": {
            "_view_name": "LayoutView",
            "grid_template_rows": null,
            "right": null,
            "justify_content": null,
            "_view_module": "@jupyter-widgets/base",
            "overflow": null,
            "_model_module_version": "1.2.0",
            "_view_count": null,
            "flex_flow": null,
            "width": null,
            "min_width": null,
            "border": null,
            "align_items": null,
            "bottom": null,
            "_model_module": "@jupyter-widgets/base",
            "top": null,
            "grid_column": null,
            "overflow_y": null,
            "overflow_x": null,
            "grid_auto_flow": null,
            "grid_area": null,
            "grid_template_columns": null,
            "flex": null,
            "_model_name": "LayoutModel",
            "justify_items": null,
            "grid_row": null,
            "max_height": null,
            "align_content": null,
            "visibility": null,
            "align_self": null,
            "height": null,
            "min_height": null,
            "padding": null,
            "grid_auto_rows": null,
            "grid_gap": null,
            "max_width": null,
            "order": null,
            "_view_module_version": "1.2.0",
            "grid_template_areas": null,
            "object_position": null,
            "object_fit": null,
            "grid_auto_columns": null,
            "margin": null,
            "display": null,
            "left": null
          }
        },
        "ab5a522e3fab4f4c98cd629c26a828f7": {
          "model_module": "@jupyter-widgets/controls",
          "model_name": "HBoxModel",
          "state": {
            "_view_name": "HBoxView",
            "_dom_classes": [],
            "_model_name": "HBoxModel",
            "_view_module": "@jupyter-widgets/controls",
            "_model_module_version": "1.5.0",
            "_view_count": null,
            "_view_module_version": "1.5.0",
            "box_style": "",
            "layout": "IPY_MODEL_0319a4b4bafb47e69a47a4ce1bd727e6",
            "_model_module": "@jupyter-widgets/controls",
            "children": [
              "IPY_MODEL_045e71d419cc444a841b38b51a96a71a",
              "IPY_MODEL_61f7bc68b9784c21a95ddbfa6c399a3a"
            ]
          }
        },
        "0319a4b4bafb47e69a47a4ce1bd727e6": {
          "model_module": "@jupyter-widgets/base",
          "model_name": "LayoutModel",
          "state": {
            "_view_name": "LayoutView",
            "grid_template_rows": null,
            "right": null,
            "justify_content": null,
            "_view_module": "@jupyter-widgets/base",
            "overflow": null,
            "_model_module_version": "1.2.0",
            "_view_count": null,
            "flex_flow": null,
            "width": null,
            "min_width": null,
            "border": null,
            "align_items": null,
            "bottom": null,
            "_model_module": "@jupyter-widgets/base",
            "top": null,
            "grid_column": null,
            "overflow_y": null,
            "overflow_x": null,
            "grid_auto_flow": null,
            "grid_area": null,
            "grid_template_columns": null,
            "flex": null,
            "_model_name": "LayoutModel",
            "justify_items": null,
            "grid_row": null,
            "max_height": null,
            "align_content": null,
            "visibility": null,
            "align_self": null,
            "height": null,
            "min_height": null,
            "padding": null,
            "grid_auto_rows": null,
            "grid_gap": null,
            "max_width": null,
            "order": null,
            "_view_module_version": "1.2.0",
            "grid_template_areas": null,
            "object_position": null,
            "object_fit": null,
            "grid_auto_columns": null,
            "margin": null,
            "display": null,
            "left": null
          }
        },
        "045e71d419cc444a841b38b51a96a71a": {
          "model_module": "@jupyter-widgets/controls",
          "model_name": "FloatProgressModel",
          "state": {
            "_view_name": "ProgressView",
            "style": "IPY_MODEL_039a39450bb34ad89f0294dbd458859d",
            "_dom_classes": [],
            "description": "epoch 5: 100%",
            "_model_name": "FloatProgressModel",
            "bar_style": "success",
            "max": 133,
            "_view_module": "@jupyter-widgets/controls",
            "_model_module_version": "1.5.0",
            "value": 133,
            "_view_count": null,
            "_view_module_version": "1.5.0",
            "orientation": "horizontal",
            "min": 0,
            "description_tooltip": null,
            "_model_module": "@jupyter-widgets/controls",
            "layout": "IPY_MODEL_9a97db82bca44325807239e776d93253"
          }
        },
        "61f7bc68b9784c21a95ddbfa6c399a3a": {
          "model_module": "@jupyter-widgets/controls",
          "model_name": "HTMLModel",
          "state": {
            "_view_name": "HTMLView",
            "style": "IPY_MODEL_2292ae4a4125494a95644f672f352ffe",
            "_dom_classes": [],
            "description": "",
            "_model_name": "HTMLModel",
            "placeholder": "​",
            "_view_module": "@jupyter-widgets/controls",
            "_model_module_version": "1.5.0",
            "value": " 133/133 [03:26&lt;00:00,  1.56s/instance, train_loss=0.945, train_denotation_acc=0.925, dev_denotation_acc=0.78, dev_loss=1.44]",
            "_view_count": null,
            "_view_module_version": "1.5.0",
            "description_tooltip": null,
            "_model_module": "@jupyter-widgets/controls",
            "layout": "IPY_MODEL_20d6130490614fdbb4a86e39d6535bb9"
          }
        },
        "039a39450bb34ad89f0294dbd458859d": {
          "model_module": "@jupyter-widgets/controls",
          "model_name": "ProgressStyleModel",
          "state": {
            "_view_name": "StyleView",
            "_model_name": "ProgressStyleModel",
            "description_width": "initial",
            "_view_module": "@jupyter-widgets/base",
            "_model_module_version": "1.5.0",
            "_view_count": null,
            "_view_module_version": "1.2.0",
            "bar_color": null,
            "_model_module": "@jupyter-widgets/controls"
          }
        },
        "9a97db82bca44325807239e776d93253": {
          "model_module": "@jupyter-widgets/base",
          "model_name": "LayoutModel",
          "state": {
            "_view_name": "LayoutView",
            "grid_template_rows": null,
            "right": null,
            "justify_content": null,
            "_view_module": "@jupyter-widgets/base",
            "overflow": null,
            "_model_module_version": "1.2.0",
            "_view_count": null,
            "flex_flow": null,
            "width": null,
            "min_width": null,
            "border": null,
            "align_items": null,
            "bottom": null,
            "_model_module": "@jupyter-widgets/base",
            "top": null,
            "grid_column": null,
            "overflow_y": null,
            "overflow_x": null,
            "grid_auto_flow": null,
            "grid_area": null,
            "grid_template_columns": null,
            "flex": null,
            "_model_name": "LayoutModel",
            "justify_items": null,
            "grid_row": null,
            "max_height": null,
            "align_content": null,
            "visibility": null,
            "align_self": null,
            "height": null,
            "min_height": null,
            "padding": null,
            "grid_auto_rows": null,
            "grid_gap": null,
            "max_width": null,
            "order": null,
            "_view_module_version": "1.2.0",
            "grid_template_areas": null,
            "object_position": null,
            "object_fit": null,
            "grid_auto_columns": null,
            "margin": null,
            "display": null,
            "left": null
          }
        },
        "2292ae4a4125494a95644f672f352ffe": {
          "model_module": "@jupyter-widgets/controls",
          "model_name": "DescriptionStyleModel",
          "state": {
            "_view_name": "StyleView",
            "_model_name": "DescriptionStyleModel",
            "description_width": "",
            "_view_module": "@jupyter-widgets/base",
            "_model_module_version": "1.5.0",
            "_view_count": null,
            "_view_module_version": "1.2.0",
            "_model_module": "@jupyter-widgets/controls"
          }
        },
        "20d6130490614fdbb4a86e39d6535bb9": {
          "model_module": "@jupyter-widgets/base",
          "model_name": "LayoutModel",
          "state": {
            "_view_name": "LayoutView",
            "grid_template_rows": null,
            "right": null,
            "justify_content": null,
            "_view_module": "@jupyter-widgets/base",
            "overflow": null,
            "_model_module_version": "1.2.0",
            "_view_count": null,
            "flex_flow": null,
            "width": null,
            "min_width": null,
            "border": null,
            "align_items": null,
            "bottom": null,
            "_model_module": "@jupyter-widgets/base",
            "top": null,
            "grid_column": null,
            "overflow_y": null,
            "overflow_x": null,
            "grid_auto_flow": null,
            "grid_area": null,
            "grid_template_columns": null,
            "flex": null,
            "_model_name": "LayoutModel",
            "justify_items": null,
            "grid_row": null,
            "max_height": null,
            "align_content": null,
            "visibility": null,
            "align_self": null,
            "height": null,
            "min_height": null,
            "padding": null,
            "grid_auto_rows": null,
            "grid_gap": null,
            "max_width": null,
            "order": null,
            "_view_module_version": "1.2.0",
            "grid_template_areas": null,
            "object_position": null,
            "object_fit": null,
            "grid_auto_columns": null,
            "margin": null,
            "display": null,
            "left": null
          }
        },
        "c165ee0a0f444f1dbaed23e7c2a60fe0": {
          "model_module": "@jupyter-widgets/controls",
          "model_name": "HBoxModel",
          "state": {
            "_view_name": "HBoxView",
            "_dom_classes": [],
            "_model_name": "HBoxModel",
            "_view_module": "@jupyter-widgets/controls",
            "_model_module_version": "1.5.0",
            "_view_count": null,
            "_view_module_version": "1.5.0",
            "box_style": "",
            "layout": "IPY_MODEL_73b71e2d266c436282381d1753a11197",
            "_model_module": "@jupyter-widgets/controls",
            "children": [
              "IPY_MODEL_7b9f6c1bbb7a4beba2aa7c6604ff1a32",
              "IPY_MODEL_4bb3b0815a2c4261badc990d7768e0de"
            ]
          }
        },
        "73b71e2d266c436282381d1753a11197": {
          "model_module": "@jupyter-widgets/base",
          "model_name": "LayoutModel",
          "state": {
            "_view_name": "LayoutView",
            "grid_template_rows": null,
            "right": null,
            "justify_content": null,
            "_view_module": "@jupyter-widgets/base",
            "overflow": null,
            "_model_module_version": "1.2.0",
            "_view_count": null,
            "flex_flow": null,
            "width": null,
            "min_width": null,
            "border": null,
            "align_items": null,
            "bottom": null,
            "_model_module": "@jupyter-widgets/base",
            "top": null,
            "grid_column": null,
            "overflow_y": null,
            "overflow_x": null,
            "grid_auto_flow": null,
            "grid_area": null,
            "grid_template_columns": null,
            "flex": null,
            "_model_name": "LayoutModel",
            "justify_items": null,
            "grid_row": null,
            "max_height": null,
            "align_content": null,
            "visibility": null,
            "align_self": null,
            "height": null,
            "min_height": null,
            "padding": null,
            "grid_auto_rows": null,
            "grid_gap": null,
            "max_width": null,
            "order": null,
            "_view_module_version": "1.2.0",
            "grid_template_areas": null,
            "object_position": null,
            "object_fit": null,
            "grid_auto_columns": null,
            "margin": null,
            "display": null,
            "left": null
          }
        },
        "7b9f6c1bbb7a4beba2aa7c6604ff1a32": {
          "model_module": "@jupyter-widgets/controls",
          "model_name": "FloatProgressModel",
          "state": {
            "_view_name": "ProgressView",
            "style": "IPY_MODEL_3467bca1c12446f5a96474b60c1eccea",
            "_dom_classes": [],
            "description": "epoch 6: 100%",
            "_model_name": "FloatProgressModel",
            "bar_style": "success",
            "max": 133,
            "_view_module": "@jupyter-widgets/controls",
            "_model_module_version": "1.5.0",
            "value": 133,
            "_view_count": null,
            "_view_module_version": "1.5.0",
            "orientation": "horizontal",
            "min": 0,
            "description_tooltip": null,
            "_model_module": "@jupyter-widgets/controls",
            "layout": "IPY_MODEL_ef9f2fdc26e04535bdf1fe0de26b3ed3"
          }
        },
        "4bb3b0815a2c4261badc990d7768e0de": {
          "model_module": "@jupyter-widgets/controls",
          "model_name": "HTMLModel",
          "state": {
            "_view_name": "HTMLView",
            "style": "IPY_MODEL_b5e7f0d4fedd4366a196ff1c0eab339c",
            "_dom_classes": [],
            "description": "",
            "_model_name": "HTMLModel",
            "placeholder": "​",
            "_view_module": "@jupyter-widgets/controls",
            "_model_module_version": "1.5.0",
            "value": " 133/133 [03:10&lt;00:00,  1.43s/instance, train_loss=0.854, train_denotation_acc=0.947, dev_denotation_acc=0.805, dev_loss=1.38]",
            "_view_count": null,
            "_view_module_version": "1.5.0",
            "description_tooltip": null,
            "_model_module": "@jupyter-widgets/controls",
            "layout": "IPY_MODEL_7600a810cf7840e5a470a84999835af9"
          }
        },
        "3467bca1c12446f5a96474b60c1eccea": {
          "model_module": "@jupyter-widgets/controls",
          "model_name": "ProgressStyleModel",
          "state": {
            "_view_name": "StyleView",
            "_model_name": "ProgressStyleModel",
            "description_width": "initial",
            "_view_module": "@jupyter-widgets/base",
            "_model_module_version": "1.5.0",
            "_view_count": null,
            "_view_module_version": "1.2.0",
            "bar_color": null,
            "_model_module": "@jupyter-widgets/controls"
          }
        },
        "ef9f2fdc26e04535bdf1fe0de26b3ed3": {
          "model_module": "@jupyter-widgets/base",
          "model_name": "LayoutModel",
          "state": {
            "_view_name": "LayoutView",
            "grid_template_rows": null,
            "right": null,
            "justify_content": null,
            "_view_module": "@jupyter-widgets/base",
            "overflow": null,
            "_model_module_version": "1.2.0",
            "_view_count": null,
            "flex_flow": null,
            "width": null,
            "min_width": null,
            "border": null,
            "align_items": null,
            "bottom": null,
            "_model_module": "@jupyter-widgets/base",
            "top": null,
            "grid_column": null,
            "overflow_y": null,
            "overflow_x": null,
            "grid_auto_flow": null,
            "grid_area": null,
            "grid_template_columns": null,
            "flex": null,
            "_model_name": "LayoutModel",
            "justify_items": null,
            "grid_row": null,
            "max_height": null,
            "align_content": null,
            "visibility": null,
            "align_self": null,
            "height": null,
            "min_height": null,
            "padding": null,
            "grid_auto_rows": null,
            "grid_gap": null,
            "max_width": null,
            "order": null,
            "_view_module_version": "1.2.0",
            "grid_template_areas": null,
            "object_position": null,
            "object_fit": null,
            "grid_auto_columns": null,
            "margin": null,
            "display": null,
            "left": null
          }
        },
        "b5e7f0d4fedd4366a196ff1c0eab339c": {
          "model_module": "@jupyter-widgets/controls",
          "model_name": "DescriptionStyleModel",
          "state": {
            "_view_name": "StyleView",
            "_model_name": "DescriptionStyleModel",
            "description_width": "",
            "_view_module": "@jupyter-widgets/base",
            "_model_module_version": "1.5.0",
            "_view_count": null,
            "_view_module_version": "1.2.0",
            "_model_module": "@jupyter-widgets/controls"
          }
        },
        "7600a810cf7840e5a470a84999835af9": {
          "model_module": "@jupyter-widgets/base",
          "model_name": "LayoutModel",
          "state": {
            "_view_name": "LayoutView",
            "grid_template_rows": null,
            "right": null,
            "justify_content": null,
            "_view_module": "@jupyter-widgets/base",
            "overflow": null,
            "_model_module_version": "1.2.0",
            "_view_count": null,
            "flex_flow": null,
            "width": null,
            "min_width": null,
            "border": null,
            "align_items": null,
            "bottom": null,
            "_model_module": "@jupyter-widgets/base",
            "top": null,
            "grid_column": null,
            "overflow_y": null,
            "overflow_x": null,
            "grid_auto_flow": null,
            "grid_area": null,
            "grid_template_columns": null,
            "flex": null,
            "_model_name": "LayoutModel",
            "justify_items": null,
            "grid_row": null,
            "max_height": null,
            "align_content": null,
            "visibility": null,
            "align_self": null,
            "height": null,
            "min_height": null,
            "padding": null,
            "grid_auto_rows": null,
            "grid_gap": null,
            "max_width": null,
            "order": null,
            "_view_module_version": "1.2.0",
            "grid_template_areas": null,
            "object_position": null,
            "object_fit": null,
            "grid_auto_columns": null,
            "margin": null,
            "display": null,
            "left": null
          }
        },
        "fe515dcb128743f5bf781a1c091be59d": {
          "model_module": "@jupyter-widgets/controls",
          "model_name": "HBoxModel",
          "state": {
            "_view_name": "HBoxView",
            "_dom_classes": [],
            "_model_name": "HBoxModel",
            "_view_module": "@jupyter-widgets/controls",
            "_model_module_version": "1.5.0",
            "_view_count": null,
            "_view_module_version": "1.5.0",
            "box_style": "",
            "layout": "IPY_MODEL_2a32efe9967b4877988fb256035ab159",
            "_model_module": "@jupyter-widgets/controls",
            "children": [
              "IPY_MODEL_fdcd903f91d14d3bb411d0e56d3a5096",
              "IPY_MODEL_1df95e353c2546d39ff5771d723a93e8"
            ]
          }
        },
        "2a32efe9967b4877988fb256035ab159": {
          "model_module": "@jupyter-widgets/base",
          "model_name": "LayoutModel",
          "state": {
            "_view_name": "LayoutView",
            "grid_template_rows": null,
            "right": null,
            "justify_content": null,
            "_view_module": "@jupyter-widgets/base",
            "overflow": null,
            "_model_module_version": "1.2.0",
            "_view_count": null,
            "flex_flow": null,
            "width": null,
            "min_width": null,
            "border": null,
            "align_items": null,
            "bottom": null,
            "_model_module": "@jupyter-widgets/base",
            "top": null,
            "grid_column": null,
            "overflow_y": null,
            "overflow_x": null,
            "grid_auto_flow": null,
            "grid_area": null,
            "grid_template_columns": null,
            "flex": null,
            "_model_name": "LayoutModel",
            "justify_items": null,
            "grid_row": null,
            "max_height": null,
            "align_content": null,
            "visibility": null,
            "align_self": null,
            "height": null,
            "min_height": null,
            "padding": null,
            "grid_auto_rows": null,
            "grid_gap": null,
            "max_width": null,
            "order": null,
            "_view_module_version": "1.2.0",
            "grid_template_areas": null,
            "object_position": null,
            "object_fit": null,
            "grid_auto_columns": null,
            "margin": null,
            "display": null,
            "left": null
          }
        },
        "fdcd903f91d14d3bb411d0e56d3a5096": {
          "model_module": "@jupyter-widgets/controls",
          "model_name": "FloatProgressModel",
          "state": {
            "_view_name": "ProgressView",
            "style": "IPY_MODEL_6ab86b5ed2b94d4a96e9bf137c1cba7d",
            "_dom_classes": [],
            "description": "epoch 7: 100%",
            "_model_name": "FloatProgressModel",
            "bar_style": "success",
            "max": 133,
            "_view_module": "@jupyter-widgets/controls",
            "_model_module_version": "1.5.0",
            "value": 133,
            "_view_count": null,
            "_view_module_version": "1.5.0",
            "orientation": "horizontal",
            "min": 0,
            "description_tooltip": null,
            "_model_module": "@jupyter-widgets/controls",
            "layout": "IPY_MODEL_16c381020fbc43f7b49cc81fbe9bb992"
          }
        },
        "1df95e353c2546d39ff5771d723a93e8": {
          "model_module": "@jupyter-widgets/controls",
          "model_name": "HTMLModel",
          "state": {
            "_view_name": "HTMLView",
            "style": "IPY_MODEL_3eadd38a641643b4b3e6ea06e06321c3",
            "_dom_classes": [],
            "description": "",
            "_model_name": "HTMLModel",
            "placeholder": "​",
            "_view_module": "@jupyter-widgets/controls",
            "_model_module_version": "1.5.0",
            "value": " 133/133 [02:54&lt;00:00,  1.31s/instance, train_loss=0.888, train_denotation_acc=0.925, dev_denotation_acc=0.878, dev_loss=1.27]",
            "_view_count": null,
            "_view_module_version": "1.5.0",
            "description_tooltip": null,
            "_model_module": "@jupyter-widgets/controls",
            "layout": "IPY_MODEL_f02ecf420ff64fceae567e72f1ff5b9d"
          }
        },
        "6ab86b5ed2b94d4a96e9bf137c1cba7d": {
          "model_module": "@jupyter-widgets/controls",
          "model_name": "ProgressStyleModel",
          "state": {
            "_view_name": "StyleView",
            "_model_name": "ProgressStyleModel",
            "description_width": "initial",
            "_view_module": "@jupyter-widgets/base",
            "_model_module_version": "1.5.0",
            "_view_count": null,
            "_view_module_version": "1.2.0",
            "bar_color": null,
            "_model_module": "@jupyter-widgets/controls"
          }
        },
        "16c381020fbc43f7b49cc81fbe9bb992": {
          "model_module": "@jupyter-widgets/base",
          "model_name": "LayoutModel",
          "state": {
            "_view_name": "LayoutView",
            "grid_template_rows": null,
            "right": null,
            "justify_content": null,
            "_view_module": "@jupyter-widgets/base",
            "overflow": null,
            "_model_module_version": "1.2.0",
            "_view_count": null,
            "flex_flow": null,
            "width": null,
            "min_width": null,
            "border": null,
            "align_items": null,
            "bottom": null,
            "_model_module": "@jupyter-widgets/base",
            "top": null,
            "grid_column": null,
            "overflow_y": null,
            "overflow_x": null,
            "grid_auto_flow": null,
            "grid_area": null,
            "grid_template_columns": null,
            "flex": null,
            "_model_name": "LayoutModel",
            "justify_items": null,
            "grid_row": null,
            "max_height": null,
            "align_content": null,
            "visibility": null,
            "align_self": null,
            "height": null,
            "min_height": null,
            "padding": null,
            "grid_auto_rows": null,
            "grid_gap": null,
            "max_width": null,
            "order": null,
            "_view_module_version": "1.2.0",
            "grid_template_areas": null,
            "object_position": null,
            "object_fit": null,
            "grid_auto_columns": null,
            "margin": null,
            "display": null,
            "left": null
          }
        },
        "3eadd38a641643b4b3e6ea06e06321c3": {
          "model_module": "@jupyter-widgets/controls",
          "model_name": "DescriptionStyleModel",
          "state": {
            "_view_name": "StyleView",
            "_model_name": "DescriptionStyleModel",
            "description_width": "",
            "_view_module": "@jupyter-widgets/base",
            "_model_module_version": "1.5.0",
            "_view_count": null,
            "_view_module_version": "1.2.0",
            "_model_module": "@jupyter-widgets/controls"
          }
        },
        "f02ecf420ff64fceae567e72f1ff5b9d": {
          "model_module": "@jupyter-widgets/base",
          "model_name": "LayoutModel",
          "state": {
            "_view_name": "LayoutView",
            "grid_template_rows": null,
            "right": null,
            "justify_content": null,
            "_view_module": "@jupyter-widgets/base",
            "overflow": null,
            "_model_module_version": "1.2.0",
            "_view_count": null,
            "flex_flow": null,
            "width": null,
            "min_width": null,
            "border": null,
            "align_items": null,
            "bottom": null,
            "_model_module": "@jupyter-widgets/base",
            "top": null,
            "grid_column": null,
            "overflow_y": null,
            "overflow_x": null,
            "grid_auto_flow": null,
            "grid_area": null,
            "grid_template_columns": null,
            "flex": null,
            "_model_name": "LayoutModel",
            "justify_items": null,
            "grid_row": null,
            "max_height": null,
            "align_content": null,
            "visibility": null,
            "align_self": null,
            "height": null,
            "min_height": null,
            "padding": null,
            "grid_auto_rows": null,
            "grid_gap": null,
            "max_width": null,
            "order": null,
            "_view_module_version": "1.2.0",
            "grid_template_areas": null,
            "object_position": null,
            "object_fit": null,
            "grid_auto_columns": null,
            "margin": null,
            "display": null,
            "left": null
          }
        },
        "576a6ab0245744af9be07238b9cc9b7a": {
          "model_module": "@jupyter-widgets/controls",
          "model_name": "HBoxModel",
          "state": {
            "_view_name": "HBoxView",
            "_dom_classes": [],
            "_model_name": "HBoxModel",
            "_view_module": "@jupyter-widgets/controls",
            "_model_module_version": "1.5.0",
            "_view_count": null,
            "_view_module_version": "1.5.0",
            "box_style": "",
            "layout": "IPY_MODEL_874b2a0b95224f23843a77d2d0697cdf",
            "_model_module": "@jupyter-widgets/controls",
            "children": [
              "IPY_MODEL_287808b3868a490bb3fb6a0ce57e6f08",
              "IPY_MODEL_e20b28a57d9f417db3a6e6e9212c8c7d"
            ]
          }
        },
        "874b2a0b95224f23843a77d2d0697cdf": {
          "model_module": "@jupyter-widgets/base",
          "model_name": "LayoutModel",
          "state": {
            "_view_name": "LayoutView",
            "grid_template_rows": null,
            "right": null,
            "justify_content": null,
            "_view_module": "@jupyter-widgets/base",
            "overflow": null,
            "_model_module_version": "1.2.0",
            "_view_count": null,
            "flex_flow": null,
            "width": null,
            "min_width": null,
            "border": null,
            "align_items": null,
            "bottom": null,
            "_model_module": "@jupyter-widgets/base",
            "top": null,
            "grid_column": null,
            "overflow_y": null,
            "overflow_x": null,
            "grid_auto_flow": null,
            "grid_area": null,
            "grid_template_columns": null,
            "flex": null,
            "_model_name": "LayoutModel",
            "justify_items": null,
            "grid_row": null,
            "max_height": null,
            "align_content": null,
            "visibility": null,
            "align_self": null,
            "height": null,
            "min_height": null,
            "padding": null,
            "grid_auto_rows": null,
            "grid_gap": null,
            "max_width": null,
            "order": null,
            "_view_module_version": "1.2.0",
            "grid_template_areas": null,
            "object_position": null,
            "object_fit": null,
            "grid_auto_columns": null,
            "margin": null,
            "display": null,
            "left": null
          }
        },
        "287808b3868a490bb3fb6a0ce57e6f08": {
          "model_module": "@jupyter-widgets/controls",
          "model_name": "FloatProgressModel",
          "state": {
            "_view_name": "ProgressView",
            "style": "IPY_MODEL_fd878f1ce08b41d8a0a84d0c0ce846c7",
            "_dom_classes": [],
            "description": "epoch 8: 100%",
            "_model_name": "FloatProgressModel",
            "bar_style": "success",
            "max": 133,
            "_view_module": "@jupyter-widgets/controls",
            "_model_module_version": "1.5.0",
            "value": 133,
            "_view_count": null,
            "_view_module_version": "1.5.0",
            "orientation": "horizontal",
            "min": 0,
            "description_tooltip": null,
            "_model_module": "@jupyter-widgets/controls",
            "layout": "IPY_MODEL_870bd1d4510e426d80673027eb87fdbc"
          }
        },
        "e20b28a57d9f417db3a6e6e9212c8c7d": {
          "model_module": "@jupyter-widgets/controls",
          "model_name": "HTMLModel",
          "state": {
            "_view_name": "HTMLView",
            "style": "IPY_MODEL_d18bc9925543430d9275e977246f13b2",
            "_dom_classes": [],
            "description": "",
            "_model_name": "HTMLModel",
            "placeholder": "​",
            "_view_module": "@jupyter-widgets/controls",
            "_model_module_version": "1.5.0",
            "value": " 133/133 [02:38&lt;00:00,  1.19s/instance, train_loss=0.726, train_denotation_acc=0.932, dev_denotation_acc=0.878, dev_loss=1.28]",
            "_view_count": null,
            "_view_module_version": "1.5.0",
            "description_tooltip": null,
            "_model_module": "@jupyter-widgets/controls",
            "layout": "IPY_MODEL_c5fcd112e22e4eb6a0f60dca8aa1ea45"
          }
        },
        "fd878f1ce08b41d8a0a84d0c0ce846c7": {
          "model_module": "@jupyter-widgets/controls",
          "model_name": "ProgressStyleModel",
          "state": {
            "_view_name": "StyleView",
            "_model_name": "ProgressStyleModel",
            "description_width": "initial",
            "_view_module": "@jupyter-widgets/base",
            "_model_module_version": "1.5.0",
            "_view_count": null,
            "_view_module_version": "1.2.0",
            "bar_color": null,
            "_model_module": "@jupyter-widgets/controls"
          }
        },
        "870bd1d4510e426d80673027eb87fdbc": {
          "model_module": "@jupyter-widgets/base",
          "model_name": "LayoutModel",
          "state": {
            "_view_name": "LayoutView",
            "grid_template_rows": null,
            "right": null,
            "justify_content": null,
            "_view_module": "@jupyter-widgets/base",
            "overflow": null,
            "_model_module_version": "1.2.0",
            "_view_count": null,
            "flex_flow": null,
            "width": null,
            "min_width": null,
            "border": null,
            "align_items": null,
            "bottom": null,
            "_model_module": "@jupyter-widgets/base",
            "top": null,
            "grid_column": null,
            "overflow_y": null,
            "overflow_x": null,
            "grid_auto_flow": null,
            "grid_area": null,
            "grid_template_columns": null,
            "flex": null,
            "_model_name": "LayoutModel",
            "justify_items": null,
            "grid_row": null,
            "max_height": null,
            "align_content": null,
            "visibility": null,
            "align_self": null,
            "height": null,
            "min_height": null,
            "padding": null,
            "grid_auto_rows": null,
            "grid_gap": null,
            "max_width": null,
            "order": null,
            "_view_module_version": "1.2.0",
            "grid_template_areas": null,
            "object_position": null,
            "object_fit": null,
            "grid_auto_columns": null,
            "margin": null,
            "display": null,
            "left": null
          }
        },
        "d18bc9925543430d9275e977246f13b2": {
          "model_module": "@jupyter-widgets/controls",
          "model_name": "DescriptionStyleModel",
          "state": {
            "_view_name": "StyleView",
            "_model_name": "DescriptionStyleModel",
            "description_width": "",
            "_view_module": "@jupyter-widgets/base",
            "_model_module_version": "1.5.0",
            "_view_count": null,
            "_view_module_version": "1.2.0",
            "_model_module": "@jupyter-widgets/controls"
          }
        },
        "c5fcd112e22e4eb6a0f60dca8aa1ea45": {
          "model_module": "@jupyter-widgets/base",
          "model_name": "LayoutModel",
          "state": {
            "_view_name": "LayoutView",
            "grid_template_rows": null,
            "right": null,
            "justify_content": null,
            "_view_module": "@jupyter-widgets/base",
            "overflow": null,
            "_model_module_version": "1.2.0",
            "_view_count": null,
            "flex_flow": null,
            "width": null,
            "min_width": null,
            "border": null,
            "align_items": null,
            "bottom": null,
            "_model_module": "@jupyter-widgets/base",
            "top": null,
            "grid_column": null,
            "overflow_y": null,
            "overflow_x": null,
            "grid_auto_flow": null,
            "grid_area": null,
            "grid_template_columns": null,
            "flex": null,
            "_model_name": "LayoutModel",
            "justify_items": null,
            "grid_row": null,
            "max_height": null,
            "align_content": null,
            "visibility": null,
            "align_self": null,
            "height": null,
            "min_height": null,
            "padding": null,
            "grid_auto_rows": null,
            "grid_gap": null,
            "max_width": null,
            "order": null,
            "_view_module_version": "1.2.0",
            "grid_template_areas": null,
            "object_position": null,
            "object_fit": null,
            "grid_auto_columns": null,
            "margin": null,
            "display": null,
            "left": null
          }
        },
        "2f5673ab6b974d2c9d4c807481033fd6": {
          "model_module": "@jupyter-widgets/controls",
          "model_name": "HBoxModel",
          "state": {
            "_view_name": "HBoxView",
            "_dom_classes": [],
            "_model_name": "HBoxModel",
            "_view_module": "@jupyter-widgets/controls",
            "_model_module_version": "1.5.0",
            "_view_count": null,
            "_view_module_version": "1.5.0",
            "box_style": "",
            "layout": "IPY_MODEL_239ec7c46a344c179e316cc4b7530d06",
            "_model_module": "@jupyter-widgets/controls",
            "children": [
              "IPY_MODEL_a5f52c7abeb44b229b766a8e73eb2f94",
              "IPY_MODEL_eabc4afde0274481b6941ac3d42dc5fd"
            ]
          }
        },
        "239ec7c46a344c179e316cc4b7530d06": {
          "model_module": "@jupyter-widgets/base",
          "model_name": "LayoutModel",
          "state": {
            "_view_name": "LayoutView",
            "grid_template_rows": null,
            "right": null,
            "justify_content": null,
            "_view_module": "@jupyter-widgets/base",
            "overflow": null,
            "_model_module_version": "1.2.0",
            "_view_count": null,
            "flex_flow": null,
            "width": null,
            "min_width": null,
            "border": null,
            "align_items": null,
            "bottom": null,
            "_model_module": "@jupyter-widgets/base",
            "top": null,
            "grid_column": null,
            "overflow_y": null,
            "overflow_x": null,
            "grid_auto_flow": null,
            "grid_area": null,
            "grid_template_columns": null,
            "flex": null,
            "_model_name": "LayoutModel",
            "justify_items": null,
            "grid_row": null,
            "max_height": null,
            "align_content": null,
            "visibility": null,
            "align_self": null,
            "height": null,
            "min_height": null,
            "padding": null,
            "grid_auto_rows": null,
            "grid_gap": null,
            "max_width": null,
            "order": null,
            "_view_module_version": "1.2.0",
            "grid_template_areas": null,
            "object_position": null,
            "object_fit": null,
            "grid_auto_columns": null,
            "margin": null,
            "display": null,
            "left": null
          }
        },
        "a5f52c7abeb44b229b766a8e73eb2f94": {
          "model_module": "@jupyter-widgets/controls",
          "model_name": "FloatProgressModel",
          "state": {
            "_view_name": "ProgressView",
            "style": "IPY_MODEL_15c7eeaa1f0e4a9aaab07c0db16e540b",
            "_dom_classes": [],
            "description": "epoch 9: 100%",
            "_model_name": "FloatProgressModel",
            "bar_style": "success",
            "max": 133,
            "_view_module": "@jupyter-widgets/controls",
            "_model_module_version": "1.5.0",
            "value": 133,
            "_view_count": null,
            "_view_module_version": "1.5.0",
            "orientation": "horizontal",
            "min": 0,
            "description_tooltip": null,
            "_model_module": "@jupyter-widgets/controls",
            "layout": "IPY_MODEL_dd6bffd0473542dfa66810e754cbb98c"
          }
        },
        "eabc4afde0274481b6941ac3d42dc5fd": {
          "model_module": "@jupyter-widgets/controls",
          "model_name": "HTMLModel",
          "state": {
            "_view_name": "HTMLView",
            "style": "IPY_MODEL_17d99032d4d0471986a839ae6b68ea59",
            "_dom_classes": [],
            "description": "",
            "_model_name": "HTMLModel",
            "placeholder": "​",
            "_view_module": "@jupyter-widgets/controls",
            "_model_module_version": "1.5.0",
            "value": " 133/133 [02:22&lt;00:00,  1.07s/instance, train_loss=0.716, train_denotation_acc=0.94, dev_denotation_acc=0.854, dev_loss=1.35]",
            "_view_count": null,
            "_view_module_version": "1.5.0",
            "description_tooltip": null,
            "_model_module": "@jupyter-widgets/controls",
            "layout": "IPY_MODEL_84d60c96e1654980be24c7658ac5ca4b"
          }
        },
        "15c7eeaa1f0e4a9aaab07c0db16e540b": {
          "model_module": "@jupyter-widgets/controls",
          "model_name": "ProgressStyleModel",
          "state": {
            "_view_name": "StyleView",
            "_model_name": "ProgressStyleModel",
            "description_width": "initial",
            "_view_module": "@jupyter-widgets/base",
            "_model_module_version": "1.5.0",
            "_view_count": null,
            "_view_module_version": "1.2.0",
            "bar_color": null,
            "_model_module": "@jupyter-widgets/controls"
          }
        },
        "dd6bffd0473542dfa66810e754cbb98c": {
          "model_module": "@jupyter-widgets/base",
          "model_name": "LayoutModel",
          "state": {
            "_view_name": "LayoutView",
            "grid_template_rows": null,
            "right": null,
            "justify_content": null,
            "_view_module": "@jupyter-widgets/base",
            "overflow": null,
            "_model_module_version": "1.2.0",
            "_view_count": null,
            "flex_flow": null,
            "width": null,
            "min_width": null,
            "border": null,
            "align_items": null,
            "bottom": null,
            "_model_module": "@jupyter-widgets/base",
            "top": null,
            "grid_column": null,
            "overflow_y": null,
            "overflow_x": null,
            "grid_auto_flow": null,
            "grid_area": null,
            "grid_template_columns": null,
            "flex": null,
            "_model_name": "LayoutModel",
            "justify_items": null,
            "grid_row": null,
            "max_height": null,
            "align_content": null,
            "visibility": null,
            "align_self": null,
            "height": null,
            "min_height": null,
            "padding": null,
            "grid_auto_rows": null,
            "grid_gap": null,
            "max_width": null,
            "order": null,
            "_view_module_version": "1.2.0",
            "grid_template_areas": null,
            "object_position": null,
            "object_fit": null,
            "grid_auto_columns": null,
            "margin": null,
            "display": null,
            "left": null
          }
        },
        "17d99032d4d0471986a839ae6b68ea59": {
          "model_module": "@jupyter-widgets/controls",
          "model_name": "DescriptionStyleModel",
          "state": {
            "_view_name": "StyleView",
            "_model_name": "DescriptionStyleModel",
            "description_width": "",
            "_view_module": "@jupyter-widgets/base",
            "_model_module_version": "1.5.0",
            "_view_count": null,
            "_view_module_version": "1.2.0",
            "_model_module": "@jupyter-widgets/controls"
          }
        },
        "84d60c96e1654980be24c7658ac5ca4b": {
          "model_module": "@jupyter-widgets/base",
          "model_name": "LayoutModel",
          "state": {
            "_view_name": "LayoutView",
            "grid_template_rows": null,
            "right": null,
            "justify_content": null,
            "_view_module": "@jupyter-widgets/base",
            "overflow": null,
            "_model_module_version": "1.2.0",
            "_view_count": null,
            "flex_flow": null,
            "width": null,
            "min_width": null,
            "border": null,
            "align_items": null,
            "bottom": null,
            "_model_module": "@jupyter-widgets/base",
            "top": null,
            "grid_column": null,
            "overflow_y": null,
            "overflow_x": null,
            "grid_auto_flow": null,
            "grid_area": null,
            "grid_template_columns": null,
            "flex": null,
            "_model_name": "LayoutModel",
            "justify_items": null,
            "grid_row": null,
            "max_height": null,
            "align_content": null,
            "visibility": null,
            "align_self": null,
            "height": null,
            "min_height": null,
            "padding": null,
            "grid_auto_rows": null,
            "grid_gap": null,
            "max_width": null,
            "order": null,
            "_view_module_version": "1.2.0",
            "grid_template_areas": null,
            "object_position": null,
            "object_fit": null,
            "grid_auto_columns": null,
            "margin": null,
            "display": null,
            "left": null
          }
        },
        "0d954cd301eb437e91055b72dd022e37": {
          "model_module": "@jupyter-widgets/controls",
          "model_name": "HBoxModel",
          "state": {
            "_view_name": "HBoxView",
            "_dom_classes": [],
            "_model_name": "HBoxModel",
            "_view_module": "@jupyter-widgets/controls",
            "_model_module_version": "1.5.0",
            "_view_count": null,
            "_view_module_version": "1.5.0",
            "box_style": "",
            "layout": "IPY_MODEL_22797c8e373b4ad59251c6f7c3316f37",
            "_model_module": "@jupyter-widgets/controls",
            "children": [
              "IPY_MODEL_2dc7508f24004858b78a0c78e04c503b",
              "IPY_MODEL_b9ec0cc0482d4129baef61ee07f0d1dd"
            ]
          }
        },
        "22797c8e373b4ad59251c6f7c3316f37": {
          "model_module": "@jupyter-widgets/base",
          "model_name": "LayoutModel",
          "state": {
            "_view_name": "LayoutView",
            "grid_template_rows": null,
            "right": null,
            "justify_content": null,
            "_view_module": "@jupyter-widgets/base",
            "overflow": null,
            "_model_module_version": "1.2.0",
            "_view_count": null,
            "flex_flow": null,
            "width": null,
            "min_width": null,
            "border": null,
            "align_items": null,
            "bottom": null,
            "_model_module": "@jupyter-widgets/base",
            "top": null,
            "grid_column": null,
            "overflow_y": null,
            "overflow_x": null,
            "grid_auto_flow": null,
            "grid_area": null,
            "grid_template_columns": null,
            "flex": null,
            "_model_name": "LayoutModel",
            "justify_items": null,
            "grid_row": null,
            "max_height": null,
            "align_content": null,
            "visibility": null,
            "align_self": null,
            "height": null,
            "min_height": null,
            "padding": null,
            "grid_auto_rows": null,
            "grid_gap": null,
            "max_width": null,
            "order": null,
            "_view_module_version": "1.2.0",
            "grid_template_areas": null,
            "object_position": null,
            "object_fit": null,
            "grid_auto_columns": null,
            "margin": null,
            "display": null,
            "left": null
          }
        },
        "2dc7508f24004858b78a0c78e04c503b": {
          "model_module": "@jupyter-widgets/controls",
          "model_name": "FloatProgressModel",
          "state": {
            "_view_name": "ProgressView",
            "style": "IPY_MODEL_971303f14bad4a9a8ecd04a6a42d1440",
            "_dom_classes": [],
            "description": "epoch 10: 100%",
            "_model_name": "FloatProgressModel",
            "bar_style": "success",
            "max": 133,
            "_view_module": "@jupyter-widgets/controls",
            "_model_module_version": "1.5.0",
            "value": 133,
            "_view_count": null,
            "_view_module_version": "1.5.0",
            "orientation": "horizontal",
            "min": 0,
            "description_tooltip": null,
            "_model_module": "@jupyter-widgets/controls",
            "layout": "IPY_MODEL_99fee5ed62d343719e412a92bb9ba7ed"
          }
        },
        "b9ec0cc0482d4129baef61ee07f0d1dd": {
          "model_module": "@jupyter-widgets/controls",
          "model_name": "HTMLModel",
          "state": {
            "_view_name": "HTMLView",
            "style": "IPY_MODEL_14308f55926940d883ce05e5bdae0edc",
            "_dom_classes": [],
            "description": "",
            "_model_name": "HTMLModel",
            "placeholder": "​",
            "_view_module": "@jupyter-widgets/controls",
            "_model_module_version": "1.5.0",
            "value": " 133/133 [02:06&lt;00:00,  1.05instance/s, train_loss=0.748, train_denotation_acc=0.94, dev_denotation_acc=0.756, dev_loss=1.62]",
            "_view_count": null,
            "_view_module_version": "1.5.0",
            "description_tooltip": null,
            "_model_module": "@jupyter-widgets/controls",
            "layout": "IPY_MODEL_fe17a243182f4feebb613df1b57a0b8c"
          }
        },
        "971303f14bad4a9a8ecd04a6a42d1440": {
          "model_module": "@jupyter-widgets/controls",
          "model_name": "ProgressStyleModel",
          "state": {
            "_view_name": "StyleView",
            "_model_name": "ProgressStyleModel",
            "description_width": "initial",
            "_view_module": "@jupyter-widgets/base",
            "_model_module_version": "1.5.0",
            "_view_count": null,
            "_view_module_version": "1.2.0",
            "bar_color": null,
            "_model_module": "@jupyter-widgets/controls"
          }
        },
        "99fee5ed62d343719e412a92bb9ba7ed": {
          "model_module": "@jupyter-widgets/base",
          "model_name": "LayoutModel",
          "state": {
            "_view_name": "LayoutView",
            "grid_template_rows": null,
            "right": null,
            "justify_content": null,
            "_view_module": "@jupyter-widgets/base",
            "overflow": null,
            "_model_module_version": "1.2.0",
            "_view_count": null,
            "flex_flow": null,
            "width": null,
            "min_width": null,
            "border": null,
            "align_items": null,
            "bottom": null,
            "_model_module": "@jupyter-widgets/base",
            "top": null,
            "grid_column": null,
            "overflow_y": null,
            "overflow_x": null,
            "grid_auto_flow": null,
            "grid_area": null,
            "grid_template_columns": null,
            "flex": null,
            "_model_name": "LayoutModel",
            "justify_items": null,
            "grid_row": null,
            "max_height": null,
            "align_content": null,
            "visibility": null,
            "align_self": null,
            "height": null,
            "min_height": null,
            "padding": null,
            "grid_auto_rows": null,
            "grid_gap": null,
            "max_width": null,
            "order": null,
            "_view_module_version": "1.2.0",
            "grid_template_areas": null,
            "object_position": null,
            "object_fit": null,
            "grid_auto_columns": null,
            "margin": null,
            "display": null,
            "left": null
          }
        },
        "14308f55926940d883ce05e5bdae0edc": {
          "model_module": "@jupyter-widgets/controls",
          "model_name": "DescriptionStyleModel",
          "state": {
            "_view_name": "StyleView",
            "_model_name": "DescriptionStyleModel",
            "description_width": "",
            "_view_module": "@jupyter-widgets/base",
            "_model_module_version": "1.5.0",
            "_view_count": null,
            "_view_module_version": "1.2.0",
            "_model_module": "@jupyter-widgets/controls"
          }
        },
        "fe17a243182f4feebb613df1b57a0b8c": {
          "model_module": "@jupyter-widgets/base",
          "model_name": "LayoutModel",
          "state": {
            "_view_name": "LayoutView",
            "grid_template_rows": null,
            "right": null,
            "justify_content": null,
            "_view_module": "@jupyter-widgets/base",
            "overflow": null,
            "_model_module_version": "1.2.0",
            "_view_count": null,
            "flex_flow": null,
            "width": null,
            "min_width": null,
            "border": null,
            "align_items": null,
            "bottom": null,
            "_model_module": "@jupyter-widgets/base",
            "top": null,
            "grid_column": null,
            "overflow_y": null,
            "overflow_x": null,
            "grid_auto_flow": null,
            "grid_area": null,
            "grid_template_columns": null,
            "flex": null,
            "_model_name": "LayoutModel",
            "justify_items": null,
            "grid_row": null,
            "max_height": null,
            "align_content": null,
            "visibility": null,
            "align_self": null,
            "height": null,
            "min_height": null,
            "padding": null,
            "grid_auto_rows": null,
            "grid_gap": null,
            "max_width": null,
            "order": null,
            "_view_module_version": "1.2.0",
            "grid_template_areas": null,
            "object_position": null,
            "object_fit": null,
            "grid_auto_columns": null,
            "margin": null,
            "display": null,
            "left": null
          }
        },
        "dfada702e9564bf2a709eed36b76adc3": {
          "model_module": "@jupyter-widgets/controls",
          "model_name": "HBoxModel",
          "state": {
            "_view_name": "HBoxView",
            "_dom_classes": [],
            "_model_name": "HBoxModel",
            "_view_module": "@jupyter-widgets/controls",
            "_model_module_version": "1.5.0",
            "_view_count": null,
            "_view_module_version": "1.5.0",
            "box_style": "",
            "layout": "IPY_MODEL_c850a54685d34c2a8b3888d5410e26f9",
            "_model_module": "@jupyter-widgets/controls",
            "children": [
              "IPY_MODEL_ea954ba0b832490a93d69b296c0a9389",
              "IPY_MODEL_ecb3cc2a7572463f86843e4a9f520e1b"
            ]
          }
        },
        "c850a54685d34c2a8b3888d5410e26f9": {
          "model_module": "@jupyter-widgets/base",
          "model_name": "LayoutModel",
          "state": {
            "_view_name": "LayoutView",
            "grid_template_rows": null,
            "right": null,
            "justify_content": null,
            "_view_module": "@jupyter-widgets/base",
            "overflow": null,
            "_model_module_version": "1.2.0",
            "_view_count": null,
            "flex_flow": null,
            "width": null,
            "min_width": null,
            "border": null,
            "align_items": null,
            "bottom": null,
            "_model_module": "@jupyter-widgets/base",
            "top": null,
            "grid_column": null,
            "overflow_y": null,
            "overflow_x": null,
            "grid_auto_flow": null,
            "grid_area": null,
            "grid_template_columns": null,
            "flex": null,
            "_model_name": "LayoutModel",
            "justify_items": null,
            "grid_row": null,
            "max_height": null,
            "align_content": null,
            "visibility": null,
            "align_self": null,
            "height": null,
            "min_height": null,
            "padding": null,
            "grid_auto_rows": null,
            "grid_gap": null,
            "max_width": null,
            "order": null,
            "_view_module_version": "1.2.0",
            "grid_template_areas": null,
            "object_position": null,
            "object_fit": null,
            "grid_auto_columns": null,
            "margin": null,
            "display": null,
            "left": null
          }
        },
        "ea954ba0b832490a93d69b296c0a9389": {
          "model_module": "@jupyter-widgets/controls",
          "model_name": "FloatProgressModel",
          "state": {
            "_view_name": "ProgressView",
            "style": "IPY_MODEL_4ceaddfa297d4121b59165b24bf455f2",
            "_dom_classes": [],
            "description": "training: 100%",
            "_model_name": "FloatProgressModel",
            "bar_style": "success",
            "max": 10,
            "_view_module": "@jupyter-widgets/controls",
            "_model_module_version": "1.5.0",
            "value": 10,
            "_view_count": null,
            "_view_module_version": "1.5.0",
            "orientation": "horizontal",
            "min": 0,
            "description_tooltip": null,
            "_model_module": "@jupyter-widgets/controls",
            "layout": "IPY_MODEL_e2962d52097a4017a94fdb195229e0ce"
          }
        },
        "ecb3cc2a7572463f86843e4a9f520e1b": {
          "model_module": "@jupyter-widgets/controls",
          "model_name": "HTMLModel",
          "state": {
            "_view_name": "HTMLView",
            "style": "IPY_MODEL_80709eb81ee14250af0fd6bb20fe0ff0",
            "_dom_classes": [],
            "description": "",
            "_model_name": "HTMLModel",
            "placeholder": "​",
            "_view_module": "@jupyter-widgets/controls",
            "_model_module_version": "1.5.0",
            "value": " 10/10 [01:13&lt;00:00,  7.31s/epoch]",
            "_view_count": null,
            "_view_module_version": "1.5.0",
            "description_tooltip": null,
            "_model_module": "@jupyter-widgets/controls",
            "layout": "IPY_MODEL_5900081d4956427b9ca8be51db962fe6"
          }
        },
        "4ceaddfa297d4121b59165b24bf455f2": {
          "model_module": "@jupyter-widgets/controls",
          "model_name": "ProgressStyleModel",
          "state": {
            "_view_name": "StyleView",
            "_model_name": "ProgressStyleModel",
            "description_width": "initial",
            "_view_module": "@jupyter-widgets/base",
            "_model_module_version": "1.5.0",
            "_view_count": null,
            "_view_module_version": "1.2.0",
            "bar_color": null,
            "_model_module": "@jupyter-widgets/controls"
          }
        },
        "e2962d52097a4017a94fdb195229e0ce": {
          "model_module": "@jupyter-widgets/base",
          "model_name": "LayoutModel",
          "state": {
            "_view_name": "LayoutView",
            "grid_template_rows": null,
            "right": null,
            "justify_content": null,
            "_view_module": "@jupyter-widgets/base",
            "overflow": null,
            "_model_module_version": "1.2.0",
            "_view_count": null,
            "flex_flow": null,
            "width": null,
            "min_width": null,
            "border": null,
            "align_items": null,
            "bottom": null,
            "_model_module": "@jupyter-widgets/base",
            "top": null,
            "grid_column": null,
            "overflow_y": null,
            "overflow_x": null,
            "grid_auto_flow": null,
            "grid_area": null,
            "grid_template_columns": null,
            "flex": null,
            "_model_name": "LayoutModel",
            "justify_items": null,
            "grid_row": null,
            "max_height": null,
            "align_content": null,
            "visibility": null,
            "align_self": null,
            "height": null,
            "min_height": null,
            "padding": null,
            "grid_auto_rows": null,
            "grid_gap": null,
            "max_width": null,
            "order": null,
            "_view_module_version": "1.2.0",
            "grid_template_areas": null,
            "object_position": null,
            "object_fit": null,
            "grid_auto_columns": null,
            "margin": null,
            "display": null,
            "left": null
          }
        },
        "80709eb81ee14250af0fd6bb20fe0ff0": {
          "model_module": "@jupyter-widgets/controls",
          "model_name": "DescriptionStyleModel",
          "state": {
            "_view_name": "StyleView",
            "_model_name": "DescriptionStyleModel",
            "description_width": "",
            "_view_module": "@jupyter-widgets/base",
            "_model_module_version": "1.5.0",
            "_view_count": null,
            "_view_module_version": "1.2.0",
            "_model_module": "@jupyter-widgets/controls"
          }
        },
        "5900081d4956427b9ca8be51db962fe6": {
          "model_module": "@jupyter-widgets/base",
          "model_name": "LayoutModel",
          "state": {
            "_view_name": "LayoutView",
            "grid_template_rows": null,
            "right": null,
            "justify_content": null,
            "_view_module": "@jupyter-widgets/base",
            "overflow": null,
            "_model_module_version": "1.2.0",
            "_view_count": null,
            "flex_flow": null,
            "width": null,
            "min_width": null,
            "border": null,
            "align_items": null,
            "bottom": null,
            "_model_module": "@jupyter-widgets/base",
            "top": null,
            "grid_column": null,
            "overflow_y": null,
            "overflow_x": null,
            "grid_auto_flow": null,
            "grid_area": null,
            "grid_template_columns": null,
            "flex": null,
            "_model_name": "LayoutModel",
            "justify_items": null,
            "grid_row": null,
            "max_height": null,
            "align_content": null,
            "visibility": null,
            "align_self": null,
            "height": null,
            "min_height": null,
            "padding": null,
            "grid_auto_rows": null,
            "grid_gap": null,
            "max_width": null,
            "order": null,
            "_view_module_version": "1.2.0",
            "grid_template_areas": null,
            "object_position": null,
            "object_fit": null,
            "grid_auto_columns": null,
            "margin": null,
            "display": null,
            "left": null
          }
        },
        "d12a93d3867d421697be278716f2bce2": {
          "model_module": "@jupyter-widgets/controls",
          "model_name": "HBoxModel",
          "state": {
            "_view_name": "HBoxView",
            "_dom_classes": [],
            "_model_name": "HBoxModel",
            "_view_module": "@jupyter-widgets/controls",
            "_model_module_version": "1.5.0",
            "_view_count": null,
            "_view_module_version": "1.5.0",
            "box_style": "",
            "layout": "IPY_MODEL_7ee00eba0d4244f587d88fdf2ca798cb",
            "_model_module": "@jupyter-widgets/controls",
            "children": [
              "IPY_MODEL_12d1beedf2f64a2d90f00d72229c257e",
              "IPY_MODEL_74e526ca631e4818af96eb57cc5c2cd0"
            ]
          }
        },
        "7ee00eba0d4244f587d88fdf2ca798cb": {
          "model_module": "@jupyter-widgets/base",
          "model_name": "LayoutModel",
          "state": {
            "_view_name": "LayoutView",
            "grid_template_rows": null,
            "right": null,
            "justify_content": null,
            "_view_module": "@jupyter-widgets/base",
            "overflow": null,
            "_model_module_version": "1.2.0",
            "_view_count": null,
            "flex_flow": null,
            "width": null,
            "min_width": null,
            "border": null,
            "align_items": null,
            "bottom": null,
            "_model_module": "@jupyter-widgets/base",
            "top": null,
            "grid_column": null,
            "overflow_y": null,
            "overflow_x": null,
            "grid_auto_flow": null,
            "grid_area": null,
            "grid_template_columns": null,
            "flex": null,
            "_model_name": "LayoutModel",
            "justify_items": null,
            "grid_row": null,
            "max_height": null,
            "align_content": null,
            "visibility": null,
            "align_self": null,
            "height": null,
            "min_height": null,
            "padding": null,
            "grid_auto_rows": null,
            "grid_gap": null,
            "max_width": null,
            "order": null,
            "_view_module_version": "1.2.0",
            "grid_template_areas": null,
            "object_position": null,
            "object_fit": null,
            "grid_auto_columns": null,
            "margin": null,
            "display": null,
            "left": null
          }
        },
        "12d1beedf2f64a2d90f00d72229c257e": {
          "model_module": "@jupyter-widgets/controls",
          "model_name": "FloatProgressModel",
          "state": {
            "_view_name": "ProgressView",
            "style": "IPY_MODEL_f2bc7a0b31834c9cac9cf825974a36ae",
            "_dom_classes": [],
            "description": "epoch 1: 100%",
            "_model_name": "FloatProgressModel",
            "bar_style": "success",
            "max": 40,
            "_view_module": "@jupyter-widgets/controls",
            "_model_module_version": "1.5.0",
            "value": 40,
            "_view_count": null,
            "_view_module_version": "1.5.0",
            "orientation": "horizontal",
            "min": 0,
            "description_tooltip": null,
            "_model_module": "@jupyter-widgets/controls",
            "layout": "IPY_MODEL_a0e4d7649b5247569b84fb7450cf8791"
          }
        },
        "74e526ca631e4818af96eb57cc5c2cd0": {
          "model_module": "@jupyter-widgets/controls",
          "model_name": "HTMLModel",
          "state": {
            "_view_name": "HTMLView",
            "style": "IPY_MODEL_499b18753e5c488a9471fd23a1f22a8e",
            "_dom_classes": [],
            "description": "",
            "_model_name": "HTMLModel",
            "placeholder": "​",
            "_view_module": "@jupyter-widgets/controls",
            "_model_module_version": "1.5.0",
            "value": " 40/40 [00:07&lt;00:00,  5.58instance/s, train_loss=1.64, train_denotation_acc=0.375, dev_denotation_acc=0.556]",
            "_view_count": null,
            "_view_module_version": "1.5.0",
            "description_tooltip": null,
            "_model_module": "@jupyter-widgets/controls",
            "layout": "IPY_MODEL_d5b3109beb7449c9b4da66e25d3ed727"
          }
        },
        "f2bc7a0b31834c9cac9cf825974a36ae": {
          "model_module": "@jupyter-widgets/controls",
          "model_name": "ProgressStyleModel",
          "state": {
            "_view_name": "StyleView",
            "_model_name": "ProgressStyleModel",
            "description_width": "initial",
            "_view_module": "@jupyter-widgets/base",
            "_model_module_version": "1.5.0",
            "_view_count": null,
            "_view_module_version": "1.2.0",
            "bar_color": null,
            "_model_module": "@jupyter-widgets/controls"
          }
        },
        "a0e4d7649b5247569b84fb7450cf8791": {
          "model_module": "@jupyter-widgets/base",
          "model_name": "LayoutModel",
          "state": {
            "_view_name": "LayoutView",
            "grid_template_rows": null,
            "right": null,
            "justify_content": null,
            "_view_module": "@jupyter-widgets/base",
            "overflow": null,
            "_model_module_version": "1.2.0",
            "_view_count": null,
            "flex_flow": null,
            "width": null,
            "min_width": null,
            "border": null,
            "align_items": null,
            "bottom": null,
            "_model_module": "@jupyter-widgets/base",
            "top": null,
            "grid_column": null,
            "overflow_y": null,
            "overflow_x": null,
            "grid_auto_flow": null,
            "grid_area": null,
            "grid_template_columns": null,
            "flex": null,
            "_model_name": "LayoutModel",
            "justify_items": null,
            "grid_row": null,
            "max_height": null,
            "align_content": null,
            "visibility": null,
            "align_self": null,
            "height": null,
            "min_height": null,
            "padding": null,
            "grid_auto_rows": null,
            "grid_gap": null,
            "max_width": null,
            "order": null,
            "_view_module_version": "1.2.0",
            "grid_template_areas": null,
            "object_position": null,
            "object_fit": null,
            "grid_auto_columns": null,
            "margin": null,
            "display": null,
            "left": null
          }
        },
        "499b18753e5c488a9471fd23a1f22a8e": {
          "model_module": "@jupyter-widgets/controls",
          "model_name": "DescriptionStyleModel",
          "state": {
            "_view_name": "StyleView",
            "_model_name": "DescriptionStyleModel",
            "description_width": "",
            "_view_module": "@jupyter-widgets/base",
            "_model_module_version": "1.5.0",
            "_view_count": null,
            "_view_module_version": "1.2.0",
            "_model_module": "@jupyter-widgets/controls"
          }
        },
        "d5b3109beb7449c9b4da66e25d3ed727": {
          "model_module": "@jupyter-widgets/base",
          "model_name": "LayoutModel",
          "state": {
            "_view_name": "LayoutView",
            "grid_template_rows": null,
            "right": null,
            "justify_content": null,
            "_view_module": "@jupyter-widgets/base",
            "overflow": null,
            "_model_module_version": "1.2.0",
            "_view_count": null,
            "flex_flow": null,
            "width": null,
            "min_width": null,
            "border": null,
            "align_items": null,
            "bottom": null,
            "_model_module": "@jupyter-widgets/base",
            "top": null,
            "grid_column": null,
            "overflow_y": null,
            "overflow_x": null,
            "grid_auto_flow": null,
            "grid_area": null,
            "grid_template_columns": null,
            "flex": null,
            "_model_name": "LayoutModel",
            "justify_items": null,
            "grid_row": null,
            "max_height": null,
            "align_content": null,
            "visibility": null,
            "align_self": null,
            "height": null,
            "min_height": null,
            "padding": null,
            "grid_auto_rows": null,
            "grid_gap": null,
            "max_width": null,
            "order": null,
            "_view_module_version": "1.2.0",
            "grid_template_areas": null,
            "object_position": null,
            "object_fit": null,
            "grid_auto_columns": null,
            "margin": null,
            "display": null,
            "left": null
          }
        },
        "911267d860ce485ea2eec679725f8d78": {
          "model_module": "@jupyter-widgets/controls",
          "model_name": "HBoxModel",
          "state": {
            "_view_name": "HBoxView",
            "_dom_classes": [],
            "_model_name": "HBoxModel",
            "_view_module": "@jupyter-widgets/controls",
            "_model_module_version": "1.5.0",
            "_view_count": null,
            "_view_module_version": "1.5.0",
            "box_style": "",
            "layout": "IPY_MODEL_5ed5a63808d44e8485d97edde733fb53",
            "_model_module": "@jupyter-widgets/controls",
            "children": [
              "IPY_MODEL_02db3ccb4b1042dfa60332b518f1cc34",
              "IPY_MODEL_e8a1c96f72034daaa10ac3a6fa525193"
            ]
          }
        },
        "5ed5a63808d44e8485d97edde733fb53": {
          "model_module": "@jupyter-widgets/base",
          "model_name": "LayoutModel",
          "state": {
            "_view_name": "LayoutView",
            "grid_template_rows": null,
            "right": null,
            "justify_content": null,
            "_view_module": "@jupyter-widgets/base",
            "overflow": null,
            "_model_module_version": "1.2.0",
            "_view_count": null,
            "flex_flow": null,
            "width": null,
            "min_width": null,
            "border": null,
            "align_items": null,
            "bottom": null,
            "_model_module": "@jupyter-widgets/base",
            "top": null,
            "grid_column": null,
            "overflow_y": null,
            "overflow_x": null,
            "grid_auto_flow": null,
            "grid_area": null,
            "grid_template_columns": null,
            "flex": null,
            "_model_name": "LayoutModel",
            "justify_items": null,
            "grid_row": null,
            "max_height": null,
            "align_content": null,
            "visibility": null,
            "align_self": null,
            "height": null,
            "min_height": null,
            "padding": null,
            "grid_auto_rows": null,
            "grid_gap": null,
            "max_width": null,
            "order": null,
            "_view_module_version": "1.2.0",
            "grid_template_areas": null,
            "object_position": null,
            "object_fit": null,
            "grid_auto_columns": null,
            "margin": null,
            "display": null,
            "left": null
          }
        },
        "02db3ccb4b1042dfa60332b518f1cc34": {
          "model_module": "@jupyter-widgets/controls",
          "model_name": "FloatProgressModel",
          "state": {
            "_view_name": "ProgressView",
            "style": "IPY_MODEL_2f2c11e6376e47709aa72d55720bf3d2",
            "_dom_classes": [],
            "description": "epoch 2: 100%",
            "_model_name": "FloatProgressModel",
            "bar_style": "success",
            "max": 40,
            "_view_module": "@jupyter-widgets/controls",
            "_model_module_version": "1.5.0",
            "value": 40,
            "_view_count": null,
            "_view_module_version": "1.5.0",
            "orientation": "horizontal",
            "min": 0,
            "description_tooltip": null,
            "_model_module": "@jupyter-widgets/controls",
            "layout": "IPY_MODEL_46166e07b7a9414d9a1cc97b92209758"
          }
        },
        "e8a1c96f72034daaa10ac3a6fa525193": {
          "model_module": "@jupyter-widgets/controls",
          "model_name": "HTMLModel",
          "state": {
            "_view_name": "HTMLView",
            "style": "IPY_MODEL_87685515530b47b5b76c8a16b45de316",
            "_dom_classes": [],
            "description": "",
            "_model_name": "HTMLModel",
            "placeholder": "​",
            "_view_module": "@jupyter-widgets/controls",
            "_model_module_version": "1.5.0",
            "value": " 40/40 [00:07&lt;00:00,  5.51instance/s, train_loss=1.29, train_denotation_acc=0.475, dev_denotation_acc=1]",
            "_view_count": null,
            "_view_module_version": "1.5.0",
            "description_tooltip": null,
            "_model_module": "@jupyter-widgets/controls",
            "layout": "IPY_MODEL_4fa7e2664b934296b8ab18c1bc03e9c5"
          }
        },
        "2f2c11e6376e47709aa72d55720bf3d2": {
          "model_module": "@jupyter-widgets/controls",
          "model_name": "ProgressStyleModel",
          "state": {
            "_view_name": "StyleView",
            "_model_name": "ProgressStyleModel",
            "description_width": "initial",
            "_view_module": "@jupyter-widgets/base",
            "_model_module_version": "1.5.0",
            "_view_count": null,
            "_view_module_version": "1.2.0",
            "bar_color": null,
            "_model_module": "@jupyter-widgets/controls"
          }
        },
        "46166e07b7a9414d9a1cc97b92209758": {
          "model_module": "@jupyter-widgets/base",
          "model_name": "LayoutModel",
          "state": {
            "_view_name": "LayoutView",
            "grid_template_rows": null,
            "right": null,
            "justify_content": null,
            "_view_module": "@jupyter-widgets/base",
            "overflow": null,
            "_model_module_version": "1.2.0",
            "_view_count": null,
            "flex_flow": null,
            "width": null,
            "min_width": null,
            "border": null,
            "align_items": null,
            "bottom": null,
            "_model_module": "@jupyter-widgets/base",
            "top": null,
            "grid_column": null,
            "overflow_y": null,
            "overflow_x": null,
            "grid_auto_flow": null,
            "grid_area": null,
            "grid_template_columns": null,
            "flex": null,
            "_model_name": "LayoutModel",
            "justify_items": null,
            "grid_row": null,
            "max_height": null,
            "align_content": null,
            "visibility": null,
            "align_self": null,
            "height": null,
            "min_height": null,
            "padding": null,
            "grid_auto_rows": null,
            "grid_gap": null,
            "max_width": null,
            "order": null,
            "_view_module_version": "1.2.0",
            "grid_template_areas": null,
            "object_position": null,
            "object_fit": null,
            "grid_auto_columns": null,
            "margin": null,
            "display": null,
            "left": null
          }
        },
        "87685515530b47b5b76c8a16b45de316": {
          "model_module": "@jupyter-widgets/controls",
          "model_name": "DescriptionStyleModel",
          "state": {
            "_view_name": "StyleView",
            "_model_name": "DescriptionStyleModel",
            "description_width": "",
            "_view_module": "@jupyter-widgets/base",
            "_model_module_version": "1.5.0",
            "_view_count": null,
            "_view_module_version": "1.2.0",
            "_model_module": "@jupyter-widgets/controls"
          }
        },
        "4fa7e2664b934296b8ab18c1bc03e9c5": {
          "model_module": "@jupyter-widgets/base",
          "model_name": "LayoutModel",
          "state": {
            "_view_name": "LayoutView",
            "grid_template_rows": null,
            "right": null,
            "justify_content": null,
            "_view_module": "@jupyter-widgets/base",
            "overflow": null,
            "_model_module_version": "1.2.0",
            "_view_count": null,
            "flex_flow": null,
            "width": null,
            "min_width": null,
            "border": null,
            "align_items": null,
            "bottom": null,
            "_model_module": "@jupyter-widgets/base",
            "top": null,
            "grid_column": null,
            "overflow_y": null,
            "overflow_x": null,
            "grid_auto_flow": null,
            "grid_area": null,
            "grid_template_columns": null,
            "flex": null,
            "_model_name": "LayoutModel",
            "justify_items": null,
            "grid_row": null,
            "max_height": null,
            "align_content": null,
            "visibility": null,
            "align_self": null,
            "height": null,
            "min_height": null,
            "padding": null,
            "grid_auto_rows": null,
            "grid_gap": null,
            "max_width": null,
            "order": null,
            "_view_module_version": "1.2.0",
            "grid_template_areas": null,
            "object_position": null,
            "object_fit": null,
            "grid_auto_columns": null,
            "margin": null,
            "display": null,
            "left": null
          }
        },
        "a11bac4f2dd04b78bfdecffc4a6cd393": {
          "model_module": "@jupyter-widgets/controls",
          "model_name": "HBoxModel",
          "state": {
            "_view_name": "HBoxView",
            "_dom_classes": [],
            "_model_name": "HBoxModel",
            "_view_module": "@jupyter-widgets/controls",
            "_model_module_version": "1.5.0",
            "_view_count": null,
            "_view_module_version": "1.5.0",
            "box_style": "",
            "layout": "IPY_MODEL_2dc702850b0d438dac4b7c6551e9e4af",
            "_model_module": "@jupyter-widgets/controls",
            "children": [
              "IPY_MODEL_81bf9e81b7c04e638384e7a99e53cb45",
              "IPY_MODEL_ad8a1608c5d8465d83fde1a8a1d06061"
            ]
          }
        },
        "2dc702850b0d438dac4b7c6551e9e4af": {
          "model_module": "@jupyter-widgets/base",
          "model_name": "LayoutModel",
          "state": {
            "_view_name": "LayoutView",
            "grid_template_rows": null,
            "right": null,
            "justify_content": null,
            "_view_module": "@jupyter-widgets/base",
            "overflow": null,
            "_model_module_version": "1.2.0",
            "_view_count": null,
            "flex_flow": null,
            "width": null,
            "min_width": null,
            "border": null,
            "align_items": null,
            "bottom": null,
            "_model_module": "@jupyter-widgets/base",
            "top": null,
            "grid_column": null,
            "overflow_y": null,
            "overflow_x": null,
            "grid_auto_flow": null,
            "grid_area": null,
            "grid_template_columns": null,
            "flex": null,
            "_model_name": "LayoutModel",
            "justify_items": null,
            "grid_row": null,
            "max_height": null,
            "align_content": null,
            "visibility": null,
            "align_self": null,
            "height": null,
            "min_height": null,
            "padding": null,
            "grid_auto_rows": null,
            "grid_gap": null,
            "max_width": null,
            "order": null,
            "_view_module_version": "1.2.0",
            "grid_template_areas": null,
            "object_position": null,
            "object_fit": null,
            "grid_auto_columns": null,
            "margin": null,
            "display": null,
            "left": null
          }
        },
        "81bf9e81b7c04e638384e7a99e53cb45": {
          "model_module": "@jupyter-widgets/controls",
          "model_name": "FloatProgressModel",
          "state": {
            "_view_name": "ProgressView",
            "style": "IPY_MODEL_c695961453b04bc99d63bb3da2fca832",
            "_dom_classes": [],
            "description": "epoch 3: 100%",
            "_model_name": "FloatProgressModel",
            "bar_style": "success",
            "max": 40,
            "_view_module": "@jupyter-widgets/controls",
            "_model_module_version": "1.5.0",
            "value": 40,
            "_view_count": null,
            "_view_module_version": "1.5.0",
            "orientation": "horizontal",
            "min": 0,
            "description_tooltip": null,
            "_model_module": "@jupyter-widgets/controls",
            "layout": "IPY_MODEL_dc3ae869aeea4883a654fe4b55d5b870"
          }
        },
        "ad8a1608c5d8465d83fde1a8a1d06061": {
          "model_module": "@jupyter-widgets/controls",
          "model_name": "HTMLModel",
          "state": {
            "_view_name": "HTMLView",
            "style": "IPY_MODEL_1070fc1e75fb427b920199bd8809bade",
            "_dom_classes": [],
            "description": "",
            "_model_name": "HTMLModel",
            "placeholder": "​",
            "_view_module": "@jupyter-widgets/controls",
            "_model_module_version": "1.5.0",
            "value": " 40/40 [00:07&lt;00:00,  5.57instance/s, train_loss=0.99, train_denotation_acc=0.6, dev_denotation_acc=0.667]",
            "_view_count": null,
            "_view_module_version": "1.5.0",
            "description_tooltip": null,
            "_model_module": "@jupyter-widgets/controls",
            "layout": "IPY_MODEL_42ce37d99e584f25a834f80cc1d39b57"
          }
        },
        "c695961453b04bc99d63bb3da2fca832": {
          "model_module": "@jupyter-widgets/controls",
          "model_name": "ProgressStyleModel",
          "state": {
            "_view_name": "StyleView",
            "_model_name": "ProgressStyleModel",
            "description_width": "initial",
            "_view_module": "@jupyter-widgets/base",
            "_model_module_version": "1.5.0",
            "_view_count": null,
            "_view_module_version": "1.2.0",
            "bar_color": null,
            "_model_module": "@jupyter-widgets/controls"
          }
        },
        "dc3ae869aeea4883a654fe4b55d5b870": {
          "model_module": "@jupyter-widgets/base",
          "model_name": "LayoutModel",
          "state": {
            "_view_name": "LayoutView",
            "grid_template_rows": null,
            "right": null,
            "justify_content": null,
            "_view_module": "@jupyter-widgets/base",
            "overflow": null,
            "_model_module_version": "1.2.0",
            "_view_count": null,
            "flex_flow": null,
            "width": null,
            "min_width": null,
            "border": null,
            "align_items": null,
            "bottom": null,
            "_model_module": "@jupyter-widgets/base",
            "top": null,
            "grid_column": null,
            "overflow_y": null,
            "overflow_x": null,
            "grid_auto_flow": null,
            "grid_area": null,
            "grid_template_columns": null,
            "flex": null,
            "_model_name": "LayoutModel",
            "justify_items": null,
            "grid_row": null,
            "max_height": null,
            "align_content": null,
            "visibility": null,
            "align_self": null,
            "height": null,
            "min_height": null,
            "padding": null,
            "grid_auto_rows": null,
            "grid_gap": null,
            "max_width": null,
            "order": null,
            "_view_module_version": "1.2.0",
            "grid_template_areas": null,
            "object_position": null,
            "object_fit": null,
            "grid_auto_columns": null,
            "margin": null,
            "display": null,
            "left": null
          }
        },
        "1070fc1e75fb427b920199bd8809bade": {
          "model_module": "@jupyter-widgets/controls",
          "model_name": "DescriptionStyleModel",
          "state": {
            "_view_name": "StyleView",
            "_model_name": "DescriptionStyleModel",
            "description_width": "",
            "_view_module": "@jupyter-widgets/base",
            "_model_module_version": "1.5.0",
            "_view_count": null,
            "_view_module_version": "1.2.0",
            "_model_module": "@jupyter-widgets/controls"
          }
        },
        "42ce37d99e584f25a834f80cc1d39b57": {
          "model_module": "@jupyter-widgets/base",
          "model_name": "LayoutModel",
          "state": {
            "_view_name": "LayoutView",
            "grid_template_rows": null,
            "right": null,
            "justify_content": null,
            "_view_module": "@jupyter-widgets/base",
            "overflow": null,
            "_model_module_version": "1.2.0",
            "_view_count": null,
            "flex_flow": null,
            "width": null,
            "min_width": null,
            "border": null,
            "align_items": null,
            "bottom": null,
            "_model_module": "@jupyter-widgets/base",
            "top": null,
            "grid_column": null,
            "overflow_y": null,
            "overflow_x": null,
            "grid_auto_flow": null,
            "grid_area": null,
            "grid_template_columns": null,
            "flex": null,
            "_model_name": "LayoutModel",
            "justify_items": null,
            "grid_row": null,
            "max_height": null,
            "align_content": null,
            "visibility": null,
            "align_self": null,
            "height": null,
            "min_height": null,
            "padding": null,
            "grid_auto_rows": null,
            "grid_gap": null,
            "max_width": null,
            "order": null,
            "_view_module_version": "1.2.0",
            "grid_template_areas": null,
            "object_position": null,
            "object_fit": null,
            "grid_auto_columns": null,
            "margin": null,
            "display": null,
            "left": null
          }
        },
        "c714aa8e0e88400682d74f6ec585bc94": {
          "model_module": "@jupyter-widgets/controls",
          "model_name": "HBoxModel",
          "state": {
            "_view_name": "HBoxView",
            "_dom_classes": [],
            "_model_name": "HBoxModel",
            "_view_module": "@jupyter-widgets/controls",
            "_model_module_version": "1.5.0",
            "_view_count": null,
            "_view_module_version": "1.5.0",
            "box_style": "",
            "layout": "IPY_MODEL_4e95d6bf24d24b4889de9e8e4d71c21e",
            "_model_module": "@jupyter-widgets/controls",
            "children": [
              "IPY_MODEL_73c8dccf8b7d4bafbab7056da99cb7f2",
              "IPY_MODEL_2723931a6c5a4cecad651980950d665d"
            ]
          }
        },
        "4e95d6bf24d24b4889de9e8e4d71c21e": {
          "model_module": "@jupyter-widgets/base",
          "model_name": "LayoutModel",
          "state": {
            "_view_name": "LayoutView",
            "grid_template_rows": null,
            "right": null,
            "justify_content": null,
            "_view_module": "@jupyter-widgets/base",
            "overflow": null,
            "_model_module_version": "1.2.0",
            "_view_count": null,
            "flex_flow": null,
            "width": null,
            "min_width": null,
            "border": null,
            "align_items": null,
            "bottom": null,
            "_model_module": "@jupyter-widgets/base",
            "top": null,
            "grid_column": null,
            "overflow_y": null,
            "overflow_x": null,
            "grid_auto_flow": null,
            "grid_area": null,
            "grid_template_columns": null,
            "flex": null,
            "_model_name": "LayoutModel",
            "justify_items": null,
            "grid_row": null,
            "max_height": null,
            "align_content": null,
            "visibility": null,
            "align_self": null,
            "height": null,
            "min_height": null,
            "padding": null,
            "grid_auto_rows": null,
            "grid_gap": null,
            "max_width": null,
            "order": null,
            "_view_module_version": "1.2.0",
            "grid_template_areas": null,
            "object_position": null,
            "object_fit": null,
            "grid_auto_columns": null,
            "margin": null,
            "display": null,
            "left": null
          }
        },
        "73c8dccf8b7d4bafbab7056da99cb7f2": {
          "model_module": "@jupyter-widgets/controls",
          "model_name": "FloatProgressModel",
          "state": {
            "_view_name": "ProgressView",
            "style": "IPY_MODEL_d3cef25fc7404ba1aa3b8935b1f74e0e",
            "_dom_classes": [],
            "description": "epoch 4: 100%",
            "_model_name": "FloatProgressModel",
            "bar_style": "success",
            "max": 40,
            "_view_module": "@jupyter-widgets/controls",
            "_model_module_version": "1.5.0",
            "value": 40,
            "_view_count": null,
            "_view_module_version": "1.5.0",
            "orientation": "horizontal",
            "min": 0,
            "description_tooltip": null,
            "_model_module": "@jupyter-widgets/controls",
            "layout": "IPY_MODEL_fed2a4621d5e49b8b32bd69e0667923d"
          }
        },
        "2723931a6c5a4cecad651980950d665d": {
          "model_module": "@jupyter-widgets/controls",
          "model_name": "HTMLModel",
          "state": {
            "_view_name": "HTMLView",
            "style": "IPY_MODEL_ef85f937041845409b42e3203acb4d83",
            "_dom_classes": [],
            "description": "",
            "_model_name": "HTMLModel",
            "placeholder": "​",
            "_view_module": "@jupyter-widgets/controls",
            "_model_module_version": "1.5.0",
            "value": " 40/40 [00:07&lt;00:00,  5.53instance/s, train_loss=0.894, train_denotation_acc=0.6, dev_denotation_acc=0.667]",
            "_view_count": null,
            "_view_module_version": "1.5.0",
            "description_tooltip": null,
            "_model_module": "@jupyter-widgets/controls",
            "layout": "IPY_MODEL_ef748727513942d8a7601564f8d46471"
          }
        },
        "d3cef25fc7404ba1aa3b8935b1f74e0e": {
          "model_module": "@jupyter-widgets/controls",
          "model_name": "ProgressStyleModel",
          "state": {
            "_view_name": "StyleView",
            "_model_name": "ProgressStyleModel",
            "description_width": "initial",
            "_view_module": "@jupyter-widgets/base",
            "_model_module_version": "1.5.0",
            "_view_count": null,
            "_view_module_version": "1.2.0",
            "bar_color": null,
            "_model_module": "@jupyter-widgets/controls"
          }
        },
        "fed2a4621d5e49b8b32bd69e0667923d": {
          "model_module": "@jupyter-widgets/base",
          "model_name": "LayoutModel",
          "state": {
            "_view_name": "LayoutView",
            "grid_template_rows": null,
            "right": null,
            "justify_content": null,
            "_view_module": "@jupyter-widgets/base",
            "overflow": null,
            "_model_module_version": "1.2.0",
            "_view_count": null,
            "flex_flow": null,
            "width": null,
            "min_width": null,
            "border": null,
            "align_items": null,
            "bottom": null,
            "_model_module": "@jupyter-widgets/base",
            "top": null,
            "grid_column": null,
            "overflow_y": null,
            "overflow_x": null,
            "grid_auto_flow": null,
            "grid_area": null,
            "grid_template_columns": null,
            "flex": null,
            "_model_name": "LayoutModel",
            "justify_items": null,
            "grid_row": null,
            "max_height": null,
            "align_content": null,
            "visibility": null,
            "align_self": null,
            "height": null,
            "min_height": null,
            "padding": null,
            "grid_auto_rows": null,
            "grid_gap": null,
            "max_width": null,
            "order": null,
            "_view_module_version": "1.2.0",
            "grid_template_areas": null,
            "object_position": null,
            "object_fit": null,
            "grid_auto_columns": null,
            "margin": null,
            "display": null,
            "left": null
          }
        },
        "ef85f937041845409b42e3203acb4d83": {
          "model_module": "@jupyter-widgets/controls",
          "model_name": "DescriptionStyleModel",
          "state": {
            "_view_name": "StyleView",
            "_model_name": "DescriptionStyleModel",
            "description_width": "",
            "_view_module": "@jupyter-widgets/base",
            "_model_module_version": "1.5.0",
            "_view_count": null,
            "_view_module_version": "1.2.0",
            "_model_module": "@jupyter-widgets/controls"
          }
        },
        "ef748727513942d8a7601564f8d46471": {
          "model_module": "@jupyter-widgets/base",
          "model_name": "LayoutModel",
          "state": {
            "_view_name": "LayoutView",
            "grid_template_rows": null,
            "right": null,
            "justify_content": null,
            "_view_module": "@jupyter-widgets/base",
            "overflow": null,
            "_model_module_version": "1.2.0",
            "_view_count": null,
            "flex_flow": null,
            "width": null,
            "min_width": null,
            "border": null,
            "align_items": null,
            "bottom": null,
            "_model_module": "@jupyter-widgets/base",
            "top": null,
            "grid_column": null,
            "overflow_y": null,
            "overflow_x": null,
            "grid_auto_flow": null,
            "grid_area": null,
            "grid_template_columns": null,
            "flex": null,
            "_model_name": "LayoutModel",
            "justify_items": null,
            "grid_row": null,
            "max_height": null,
            "align_content": null,
            "visibility": null,
            "align_self": null,
            "height": null,
            "min_height": null,
            "padding": null,
            "grid_auto_rows": null,
            "grid_gap": null,
            "max_width": null,
            "order": null,
            "_view_module_version": "1.2.0",
            "grid_template_areas": null,
            "object_position": null,
            "object_fit": null,
            "grid_auto_columns": null,
            "margin": null,
            "display": null,
            "left": null
          }
        },
        "476cd417b7084aaabc63ed46941e5f38": {
          "model_module": "@jupyter-widgets/controls",
          "model_name": "HBoxModel",
          "state": {
            "_view_name": "HBoxView",
            "_dom_classes": [],
            "_model_name": "HBoxModel",
            "_view_module": "@jupyter-widgets/controls",
            "_model_module_version": "1.5.0",
            "_view_count": null,
            "_view_module_version": "1.5.0",
            "box_style": "",
            "layout": "IPY_MODEL_f9a704e88a06497ca57cb74bcb795c18",
            "_model_module": "@jupyter-widgets/controls",
            "children": [
              "IPY_MODEL_f43095c8f2ab4be4b8307af9c2b4d327",
              "IPY_MODEL_1c6d9e03bc774eb6a9e8a4b7a84a8a35"
            ]
          }
        },
        "f9a704e88a06497ca57cb74bcb795c18": {
          "model_module": "@jupyter-widgets/base",
          "model_name": "LayoutModel",
          "state": {
            "_view_name": "LayoutView",
            "grid_template_rows": null,
            "right": null,
            "justify_content": null,
            "_view_module": "@jupyter-widgets/base",
            "overflow": null,
            "_model_module_version": "1.2.0",
            "_view_count": null,
            "flex_flow": null,
            "width": null,
            "min_width": null,
            "border": null,
            "align_items": null,
            "bottom": null,
            "_model_module": "@jupyter-widgets/base",
            "top": null,
            "grid_column": null,
            "overflow_y": null,
            "overflow_x": null,
            "grid_auto_flow": null,
            "grid_area": null,
            "grid_template_columns": null,
            "flex": null,
            "_model_name": "LayoutModel",
            "justify_items": null,
            "grid_row": null,
            "max_height": null,
            "align_content": null,
            "visibility": null,
            "align_self": null,
            "height": null,
            "min_height": null,
            "padding": null,
            "grid_auto_rows": null,
            "grid_gap": null,
            "max_width": null,
            "order": null,
            "_view_module_version": "1.2.0",
            "grid_template_areas": null,
            "object_position": null,
            "object_fit": null,
            "grid_auto_columns": null,
            "margin": null,
            "display": null,
            "left": null
          }
        },
        "f43095c8f2ab4be4b8307af9c2b4d327": {
          "model_module": "@jupyter-widgets/controls",
          "model_name": "FloatProgressModel",
          "state": {
            "_view_name": "ProgressView",
            "style": "IPY_MODEL_9e3d68af7c40446182cf6de5c61485bf",
            "_dom_classes": [],
            "description": "epoch 5: 100%",
            "_model_name": "FloatProgressModel",
            "bar_style": "success",
            "max": 40,
            "_view_module": "@jupyter-widgets/controls",
            "_model_module_version": "1.5.0",
            "value": 40,
            "_view_count": null,
            "_view_module_version": "1.5.0",
            "orientation": "horizontal",
            "min": 0,
            "description_tooltip": null,
            "_model_module": "@jupyter-widgets/controls",
            "layout": "IPY_MODEL_e9102cb9531741ba95ad75d26467b7a5"
          }
        },
        "1c6d9e03bc774eb6a9e8a4b7a84a8a35": {
          "model_module": "@jupyter-widgets/controls",
          "model_name": "HTMLModel",
          "state": {
            "_view_name": "HTMLView",
            "style": "IPY_MODEL_f02ed260242d4bf09fce09f56516da19",
            "_dom_classes": [],
            "description": "",
            "_model_name": "HTMLModel",
            "placeholder": "​",
            "_view_module": "@jupyter-widgets/controls",
            "_model_module_version": "1.5.0",
            "value": " 40/40 [00:07&lt;00:00,  5.52instance/s, train_loss=0.801, train_denotation_acc=0.675, dev_denotation_acc=0.667]",
            "_view_count": null,
            "_view_module_version": "1.5.0",
            "description_tooltip": null,
            "_model_module": "@jupyter-widgets/controls",
            "layout": "IPY_MODEL_b5f81f69eed846a091e26ed7e797013a"
          }
        },
        "9e3d68af7c40446182cf6de5c61485bf": {
          "model_module": "@jupyter-widgets/controls",
          "model_name": "ProgressStyleModel",
          "state": {
            "_view_name": "StyleView",
            "_model_name": "ProgressStyleModel",
            "description_width": "initial",
            "_view_module": "@jupyter-widgets/base",
            "_model_module_version": "1.5.0",
            "_view_count": null,
            "_view_module_version": "1.2.0",
            "bar_color": null,
            "_model_module": "@jupyter-widgets/controls"
          }
        },
        "e9102cb9531741ba95ad75d26467b7a5": {
          "model_module": "@jupyter-widgets/base",
          "model_name": "LayoutModel",
          "state": {
            "_view_name": "LayoutView",
            "grid_template_rows": null,
            "right": null,
            "justify_content": null,
            "_view_module": "@jupyter-widgets/base",
            "overflow": null,
            "_model_module_version": "1.2.0",
            "_view_count": null,
            "flex_flow": null,
            "width": null,
            "min_width": null,
            "border": null,
            "align_items": null,
            "bottom": null,
            "_model_module": "@jupyter-widgets/base",
            "top": null,
            "grid_column": null,
            "overflow_y": null,
            "overflow_x": null,
            "grid_auto_flow": null,
            "grid_area": null,
            "grid_template_columns": null,
            "flex": null,
            "_model_name": "LayoutModel",
            "justify_items": null,
            "grid_row": null,
            "max_height": null,
            "align_content": null,
            "visibility": null,
            "align_self": null,
            "height": null,
            "min_height": null,
            "padding": null,
            "grid_auto_rows": null,
            "grid_gap": null,
            "max_width": null,
            "order": null,
            "_view_module_version": "1.2.0",
            "grid_template_areas": null,
            "object_position": null,
            "object_fit": null,
            "grid_auto_columns": null,
            "margin": null,
            "display": null,
            "left": null
          }
        },
        "f02ed260242d4bf09fce09f56516da19": {
          "model_module": "@jupyter-widgets/controls",
          "model_name": "DescriptionStyleModel",
          "state": {
            "_view_name": "StyleView",
            "_model_name": "DescriptionStyleModel",
            "description_width": "",
            "_view_module": "@jupyter-widgets/base",
            "_model_module_version": "1.5.0",
            "_view_count": null,
            "_view_module_version": "1.2.0",
            "_model_module": "@jupyter-widgets/controls"
          }
        },
        "b5f81f69eed846a091e26ed7e797013a": {
          "model_module": "@jupyter-widgets/base",
          "model_name": "LayoutModel",
          "state": {
            "_view_name": "LayoutView",
            "grid_template_rows": null,
            "right": null,
            "justify_content": null,
            "_view_module": "@jupyter-widgets/base",
            "overflow": null,
            "_model_module_version": "1.2.0",
            "_view_count": null,
            "flex_flow": null,
            "width": null,
            "min_width": null,
            "border": null,
            "align_items": null,
            "bottom": null,
            "_model_module": "@jupyter-widgets/base",
            "top": null,
            "grid_column": null,
            "overflow_y": null,
            "overflow_x": null,
            "grid_auto_flow": null,
            "grid_area": null,
            "grid_template_columns": null,
            "flex": null,
            "_model_name": "LayoutModel",
            "justify_items": null,
            "grid_row": null,
            "max_height": null,
            "align_content": null,
            "visibility": null,
            "align_self": null,
            "height": null,
            "min_height": null,
            "padding": null,
            "grid_auto_rows": null,
            "grid_gap": null,
            "max_width": null,
            "order": null,
            "_view_module_version": "1.2.0",
            "grid_template_areas": null,
            "object_position": null,
            "object_fit": null,
            "grid_auto_columns": null,
            "margin": null,
            "display": null,
            "left": null
          }
        },
        "da23cccc606742b2a531059e8de455c1": {
          "model_module": "@jupyter-widgets/controls",
          "model_name": "HBoxModel",
          "state": {
            "_view_name": "HBoxView",
            "_dom_classes": [],
            "_model_name": "HBoxModel",
            "_view_module": "@jupyter-widgets/controls",
            "_model_module_version": "1.5.0",
            "_view_count": null,
            "_view_module_version": "1.5.0",
            "box_style": "",
            "layout": "IPY_MODEL_d8c6e3a634494000bdf974ea683c7cc8",
            "_model_module": "@jupyter-widgets/controls",
            "children": [
              "IPY_MODEL_d68034fdcf0c46e3b16c57e6c4a223ef",
              "IPY_MODEL_6b9d3b4a3d5546b9ae922244afc52a5c"
            ]
          }
        },
        "d8c6e3a634494000bdf974ea683c7cc8": {
          "model_module": "@jupyter-widgets/base",
          "model_name": "LayoutModel",
          "state": {
            "_view_name": "LayoutView",
            "grid_template_rows": null,
            "right": null,
            "justify_content": null,
            "_view_module": "@jupyter-widgets/base",
            "overflow": null,
            "_model_module_version": "1.2.0",
            "_view_count": null,
            "flex_flow": null,
            "width": null,
            "min_width": null,
            "border": null,
            "align_items": null,
            "bottom": null,
            "_model_module": "@jupyter-widgets/base",
            "top": null,
            "grid_column": null,
            "overflow_y": null,
            "overflow_x": null,
            "grid_auto_flow": null,
            "grid_area": null,
            "grid_template_columns": null,
            "flex": null,
            "_model_name": "LayoutModel",
            "justify_items": null,
            "grid_row": null,
            "max_height": null,
            "align_content": null,
            "visibility": null,
            "align_self": null,
            "height": null,
            "min_height": null,
            "padding": null,
            "grid_auto_rows": null,
            "grid_gap": null,
            "max_width": null,
            "order": null,
            "_view_module_version": "1.2.0",
            "grid_template_areas": null,
            "object_position": null,
            "object_fit": null,
            "grid_auto_columns": null,
            "margin": null,
            "display": null,
            "left": null
          }
        },
        "d68034fdcf0c46e3b16c57e6c4a223ef": {
          "model_module": "@jupyter-widgets/controls",
          "model_name": "FloatProgressModel",
          "state": {
            "_view_name": "ProgressView",
            "style": "IPY_MODEL_64f494c82381401e94e0668fa95e2541",
            "_dom_classes": [],
            "description": "epoch 6: 100%",
            "_model_name": "FloatProgressModel",
            "bar_style": "success",
            "max": 40,
            "_view_module": "@jupyter-widgets/controls",
            "_model_module_version": "1.5.0",
            "value": 40,
            "_view_count": null,
            "_view_module_version": "1.5.0",
            "orientation": "horizontal",
            "min": 0,
            "description_tooltip": null,
            "_model_module": "@jupyter-widgets/controls",
            "layout": "IPY_MODEL_b2b2baf221a74056bb1ff4e056530ce5"
          }
        },
        "6b9d3b4a3d5546b9ae922244afc52a5c": {
          "model_module": "@jupyter-widgets/controls",
          "model_name": "HTMLModel",
          "state": {
            "_view_name": "HTMLView",
            "style": "IPY_MODEL_890a543ec947488c9ed7acb5920cb0d6",
            "_dom_classes": [],
            "description": "",
            "_model_name": "HTMLModel",
            "placeholder": "​",
            "_view_module": "@jupyter-widgets/controls",
            "_model_module_version": "1.5.0",
            "value": " 40/40 [00:07&lt;00:00,  5.44instance/s, train_loss=0.621, train_denotation_acc=0.9, dev_denotation_acc=1]",
            "_view_count": null,
            "_view_module_version": "1.5.0",
            "description_tooltip": null,
            "_model_module": "@jupyter-widgets/controls",
            "layout": "IPY_MODEL_46c17479ddb94dcd879fc362b83709bd"
          }
        },
        "64f494c82381401e94e0668fa95e2541": {
          "model_module": "@jupyter-widgets/controls",
          "model_name": "ProgressStyleModel",
          "state": {
            "_view_name": "StyleView",
            "_model_name": "ProgressStyleModel",
            "description_width": "initial",
            "_view_module": "@jupyter-widgets/base",
            "_model_module_version": "1.5.0",
            "_view_count": null,
            "_view_module_version": "1.2.0",
            "bar_color": null,
            "_model_module": "@jupyter-widgets/controls"
          }
        },
        "b2b2baf221a74056bb1ff4e056530ce5": {
          "model_module": "@jupyter-widgets/base",
          "model_name": "LayoutModel",
          "state": {
            "_view_name": "LayoutView",
            "grid_template_rows": null,
            "right": null,
            "justify_content": null,
            "_view_module": "@jupyter-widgets/base",
            "overflow": null,
            "_model_module_version": "1.2.0",
            "_view_count": null,
            "flex_flow": null,
            "width": null,
            "min_width": null,
            "border": null,
            "align_items": null,
            "bottom": null,
            "_model_module": "@jupyter-widgets/base",
            "top": null,
            "grid_column": null,
            "overflow_y": null,
            "overflow_x": null,
            "grid_auto_flow": null,
            "grid_area": null,
            "grid_template_columns": null,
            "flex": null,
            "_model_name": "LayoutModel",
            "justify_items": null,
            "grid_row": null,
            "max_height": null,
            "align_content": null,
            "visibility": null,
            "align_self": null,
            "height": null,
            "min_height": null,
            "padding": null,
            "grid_auto_rows": null,
            "grid_gap": null,
            "max_width": null,
            "order": null,
            "_view_module_version": "1.2.0",
            "grid_template_areas": null,
            "object_position": null,
            "object_fit": null,
            "grid_auto_columns": null,
            "margin": null,
            "display": null,
            "left": null
          }
        },
        "890a543ec947488c9ed7acb5920cb0d6": {
          "model_module": "@jupyter-widgets/controls",
          "model_name": "DescriptionStyleModel",
          "state": {
            "_view_name": "StyleView",
            "_model_name": "DescriptionStyleModel",
            "description_width": "",
            "_view_module": "@jupyter-widgets/base",
            "_model_module_version": "1.5.0",
            "_view_count": null,
            "_view_module_version": "1.2.0",
            "_model_module": "@jupyter-widgets/controls"
          }
        },
        "46c17479ddb94dcd879fc362b83709bd": {
          "model_module": "@jupyter-widgets/base",
          "model_name": "LayoutModel",
          "state": {
            "_view_name": "LayoutView",
            "grid_template_rows": null,
            "right": null,
            "justify_content": null,
            "_view_module": "@jupyter-widgets/base",
            "overflow": null,
            "_model_module_version": "1.2.0",
            "_view_count": null,
            "flex_flow": null,
            "width": null,
            "min_width": null,
            "border": null,
            "align_items": null,
            "bottom": null,
            "_model_module": "@jupyter-widgets/base",
            "top": null,
            "grid_column": null,
            "overflow_y": null,
            "overflow_x": null,
            "grid_auto_flow": null,
            "grid_area": null,
            "grid_template_columns": null,
            "flex": null,
            "_model_name": "LayoutModel",
            "justify_items": null,
            "grid_row": null,
            "max_height": null,
            "align_content": null,
            "visibility": null,
            "align_self": null,
            "height": null,
            "min_height": null,
            "padding": null,
            "grid_auto_rows": null,
            "grid_gap": null,
            "max_width": null,
            "order": null,
            "_view_module_version": "1.2.0",
            "grid_template_areas": null,
            "object_position": null,
            "object_fit": null,
            "grid_auto_columns": null,
            "margin": null,
            "display": null,
            "left": null
          }
        },
        "1955ce78e6f54fdc991758d7ec2fd2be": {
          "model_module": "@jupyter-widgets/controls",
          "model_name": "HBoxModel",
          "state": {
            "_view_name": "HBoxView",
            "_dom_classes": [],
            "_model_name": "HBoxModel",
            "_view_module": "@jupyter-widgets/controls",
            "_model_module_version": "1.5.0",
            "_view_count": null,
            "_view_module_version": "1.5.0",
            "box_style": "",
            "layout": "IPY_MODEL_4fcda39fa1cd4621948473fbbaaa7526",
            "_model_module": "@jupyter-widgets/controls",
            "children": [
              "IPY_MODEL_e1557f5e66b74e90866b15e7bc0da303",
              "IPY_MODEL_4e7e0f87dcc64a82bdf7841753946490"
            ]
          }
        },
        "4fcda39fa1cd4621948473fbbaaa7526": {
          "model_module": "@jupyter-widgets/base",
          "model_name": "LayoutModel",
          "state": {
            "_view_name": "LayoutView",
            "grid_template_rows": null,
            "right": null,
            "justify_content": null,
            "_view_module": "@jupyter-widgets/base",
            "overflow": null,
            "_model_module_version": "1.2.0",
            "_view_count": null,
            "flex_flow": null,
            "width": null,
            "min_width": null,
            "border": null,
            "align_items": null,
            "bottom": null,
            "_model_module": "@jupyter-widgets/base",
            "top": null,
            "grid_column": null,
            "overflow_y": null,
            "overflow_x": null,
            "grid_auto_flow": null,
            "grid_area": null,
            "grid_template_columns": null,
            "flex": null,
            "_model_name": "LayoutModel",
            "justify_items": null,
            "grid_row": null,
            "max_height": null,
            "align_content": null,
            "visibility": null,
            "align_self": null,
            "height": null,
            "min_height": null,
            "padding": null,
            "grid_auto_rows": null,
            "grid_gap": null,
            "max_width": null,
            "order": null,
            "_view_module_version": "1.2.0",
            "grid_template_areas": null,
            "object_position": null,
            "object_fit": null,
            "grid_auto_columns": null,
            "margin": null,
            "display": null,
            "left": null
          }
        },
        "e1557f5e66b74e90866b15e7bc0da303": {
          "model_module": "@jupyter-widgets/controls",
          "model_name": "FloatProgressModel",
          "state": {
            "_view_name": "ProgressView",
            "style": "IPY_MODEL_046ebe3d4b8847bda90581297f81f4ff",
            "_dom_classes": [],
            "description": "epoch 7: 100%",
            "_model_name": "FloatProgressModel",
            "bar_style": "success",
            "max": 40,
            "_view_module": "@jupyter-widgets/controls",
            "_model_module_version": "1.5.0",
            "value": 40,
            "_view_count": null,
            "_view_module_version": "1.5.0",
            "orientation": "horizontal",
            "min": 0,
            "description_tooltip": null,
            "_model_module": "@jupyter-widgets/controls",
            "layout": "IPY_MODEL_6ab13daccf9541ffbdc6db2da0524a8f"
          }
        },
        "4e7e0f87dcc64a82bdf7841753946490": {
          "model_module": "@jupyter-widgets/controls",
          "model_name": "HTMLModel",
          "state": {
            "_view_name": "HTMLView",
            "style": "IPY_MODEL_5ed9ad1d4963475db93622091382b8ef",
            "_dom_classes": [],
            "description": "",
            "_model_name": "HTMLModel",
            "placeholder": "​",
            "_view_module": "@jupyter-widgets/controls",
            "_model_module_version": "1.5.0",
            "value": " 40/40 [00:07&lt;00:00,  5.44instance/s, train_loss=0.437, train_denotation_acc=1, dev_denotation_acc=0.778]",
            "_view_count": null,
            "_view_module_version": "1.5.0",
            "description_tooltip": null,
            "_model_module": "@jupyter-widgets/controls",
            "layout": "IPY_MODEL_b606e021daf946d4b2c29b31713fb51a"
          }
        },
        "046ebe3d4b8847bda90581297f81f4ff": {
          "model_module": "@jupyter-widgets/controls",
          "model_name": "ProgressStyleModel",
          "state": {
            "_view_name": "StyleView",
            "_model_name": "ProgressStyleModel",
            "description_width": "initial",
            "_view_module": "@jupyter-widgets/base",
            "_model_module_version": "1.5.0",
            "_view_count": null,
            "_view_module_version": "1.2.0",
            "bar_color": null,
            "_model_module": "@jupyter-widgets/controls"
          }
        },
        "6ab13daccf9541ffbdc6db2da0524a8f": {
          "model_module": "@jupyter-widgets/base",
          "model_name": "LayoutModel",
          "state": {
            "_view_name": "LayoutView",
            "grid_template_rows": null,
            "right": null,
            "justify_content": null,
            "_view_module": "@jupyter-widgets/base",
            "overflow": null,
            "_model_module_version": "1.2.0",
            "_view_count": null,
            "flex_flow": null,
            "width": null,
            "min_width": null,
            "border": null,
            "align_items": null,
            "bottom": null,
            "_model_module": "@jupyter-widgets/base",
            "top": null,
            "grid_column": null,
            "overflow_y": null,
            "overflow_x": null,
            "grid_auto_flow": null,
            "grid_area": null,
            "grid_template_columns": null,
            "flex": null,
            "_model_name": "LayoutModel",
            "justify_items": null,
            "grid_row": null,
            "max_height": null,
            "align_content": null,
            "visibility": null,
            "align_self": null,
            "height": null,
            "min_height": null,
            "padding": null,
            "grid_auto_rows": null,
            "grid_gap": null,
            "max_width": null,
            "order": null,
            "_view_module_version": "1.2.0",
            "grid_template_areas": null,
            "object_position": null,
            "object_fit": null,
            "grid_auto_columns": null,
            "margin": null,
            "display": null,
            "left": null
          }
        },
        "5ed9ad1d4963475db93622091382b8ef": {
          "model_module": "@jupyter-widgets/controls",
          "model_name": "DescriptionStyleModel",
          "state": {
            "_view_name": "StyleView",
            "_model_name": "DescriptionStyleModel",
            "description_width": "",
            "_view_module": "@jupyter-widgets/base",
            "_model_module_version": "1.5.0",
            "_view_count": null,
            "_view_module_version": "1.2.0",
            "_model_module": "@jupyter-widgets/controls"
          }
        },
        "b606e021daf946d4b2c29b31713fb51a": {
          "model_module": "@jupyter-widgets/base",
          "model_name": "LayoutModel",
          "state": {
            "_view_name": "LayoutView",
            "grid_template_rows": null,
            "right": null,
            "justify_content": null,
            "_view_module": "@jupyter-widgets/base",
            "overflow": null,
            "_model_module_version": "1.2.0",
            "_view_count": null,
            "flex_flow": null,
            "width": null,
            "min_width": null,
            "border": null,
            "align_items": null,
            "bottom": null,
            "_model_module": "@jupyter-widgets/base",
            "top": null,
            "grid_column": null,
            "overflow_y": null,
            "overflow_x": null,
            "grid_auto_flow": null,
            "grid_area": null,
            "grid_template_columns": null,
            "flex": null,
            "_model_name": "LayoutModel",
            "justify_items": null,
            "grid_row": null,
            "max_height": null,
            "align_content": null,
            "visibility": null,
            "align_self": null,
            "height": null,
            "min_height": null,
            "padding": null,
            "grid_auto_rows": null,
            "grid_gap": null,
            "max_width": null,
            "order": null,
            "_view_module_version": "1.2.0",
            "grid_template_areas": null,
            "object_position": null,
            "object_fit": null,
            "grid_auto_columns": null,
            "margin": null,
            "display": null,
            "left": null
          }
        },
        "f1f7228d0f5443a8adc7622c3aaf58e9": {
          "model_module": "@jupyter-widgets/controls",
          "model_name": "HBoxModel",
          "state": {
            "_view_name": "HBoxView",
            "_dom_classes": [],
            "_model_name": "HBoxModel",
            "_view_module": "@jupyter-widgets/controls",
            "_model_module_version": "1.5.0",
            "_view_count": null,
            "_view_module_version": "1.5.0",
            "box_style": "",
            "layout": "IPY_MODEL_55d31fd233344bd8a9d6acc42d8e152a",
            "_model_module": "@jupyter-widgets/controls",
            "children": [
              "IPY_MODEL_8bbbfbc10a6345fb87ce6c741e190fb1",
              "IPY_MODEL_45851f67d3ef4201aad7f3bfd1f8027c"
            ]
          }
        },
        "55d31fd233344bd8a9d6acc42d8e152a": {
          "model_module": "@jupyter-widgets/base",
          "model_name": "LayoutModel",
          "state": {
            "_view_name": "LayoutView",
            "grid_template_rows": null,
            "right": null,
            "justify_content": null,
            "_view_module": "@jupyter-widgets/base",
            "overflow": null,
            "_model_module_version": "1.2.0",
            "_view_count": null,
            "flex_flow": null,
            "width": null,
            "min_width": null,
            "border": null,
            "align_items": null,
            "bottom": null,
            "_model_module": "@jupyter-widgets/base",
            "top": null,
            "grid_column": null,
            "overflow_y": null,
            "overflow_x": null,
            "grid_auto_flow": null,
            "grid_area": null,
            "grid_template_columns": null,
            "flex": null,
            "_model_name": "LayoutModel",
            "justify_items": null,
            "grid_row": null,
            "max_height": null,
            "align_content": null,
            "visibility": null,
            "align_self": null,
            "height": null,
            "min_height": null,
            "padding": null,
            "grid_auto_rows": null,
            "grid_gap": null,
            "max_width": null,
            "order": null,
            "_view_module_version": "1.2.0",
            "grid_template_areas": null,
            "object_position": null,
            "object_fit": null,
            "grid_auto_columns": null,
            "margin": null,
            "display": null,
            "left": null
          }
        },
        "8bbbfbc10a6345fb87ce6c741e190fb1": {
          "model_module": "@jupyter-widgets/controls",
          "model_name": "FloatProgressModel",
          "state": {
            "_view_name": "ProgressView",
            "style": "IPY_MODEL_6ae55b196ced464bb7fe5ce0f6546c1f",
            "_dom_classes": [],
            "description": "epoch 8: 100%",
            "_model_name": "FloatProgressModel",
            "bar_style": "success",
            "max": 40,
            "_view_module": "@jupyter-widgets/controls",
            "_model_module_version": "1.5.0",
            "value": 40,
            "_view_count": null,
            "_view_module_version": "1.5.0",
            "orientation": "horizontal",
            "min": 0,
            "description_tooltip": null,
            "_model_module": "@jupyter-widgets/controls",
            "layout": "IPY_MODEL_b1d238303f4d454e865623bf4c7ec414"
          }
        },
        "45851f67d3ef4201aad7f3bfd1f8027c": {
          "model_module": "@jupyter-widgets/controls",
          "model_name": "HTMLModel",
          "state": {
            "_view_name": "HTMLView",
            "style": "IPY_MODEL_ffaa64a0653649fcb4d08bb7ea510d8c",
            "_dom_classes": [],
            "description": "",
            "_model_name": "HTMLModel",
            "placeholder": "​",
            "_view_module": "@jupyter-widgets/controls",
            "_model_module_version": "1.5.0",
            "value": " 40/40 [00:07&lt;00:00,  5.34instance/s, train_loss=0.244, train_denotation_acc=1, dev_denotation_acc=0.667]",
            "_view_count": null,
            "_view_module_version": "1.5.0",
            "description_tooltip": null,
            "_model_module": "@jupyter-widgets/controls",
            "layout": "IPY_MODEL_9925240a693242ea90891d2b13d850ef"
          }
        },
        "6ae55b196ced464bb7fe5ce0f6546c1f": {
          "model_module": "@jupyter-widgets/controls",
          "model_name": "ProgressStyleModel",
          "state": {
            "_view_name": "StyleView",
            "_model_name": "ProgressStyleModel",
            "description_width": "initial",
            "_view_module": "@jupyter-widgets/base",
            "_model_module_version": "1.5.0",
            "_view_count": null,
            "_view_module_version": "1.2.0",
            "bar_color": null,
            "_model_module": "@jupyter-widgets/controls"
          }
        },
        "b1d238303f4d454e865623bf4c7ec414": {
          "model_module": "@jupyter-widgets/base",
          "model_name": "LayoutModel",
          "state": {
            "_view_name": "LayoutView",
            "grid_template_rows": null,
            "right": null,
            "justify_content": null,
            "_view_module": "@jupyter-widgets/base",
            "overflow": null,
            "_model_module_version": "1.2.0",
            "_view_count": null,
            "flex_flow": null,
            "width": null,
            "min_width": null,
            "border": null,
            "align_items": null,
            "bottom": null,
            "_model_module": "@jupyter-widgets/base",
            "top": null,
            "grid_column": null,
            "overflow_y": null,
            "overflow_x": null,
            "grid_auto_flow": null,
            "grid_area": null,
            "grid_template_columns": null,
            "flex": null,
            "_model_name": "LayoutModel",
            "justify_items": null,
            "grid_row": null,
            "max_height": null,
            "align_content": null,
            "visibility": null,
            "align_self": null,
            "height": null,
            "min_height": null,
            "padding": null,
            "grid_auto_rows": null,
            "grid_gap": null,
            "max_width": null,
            "order": null,
            "_view_module_version": "1.2.0",
            "grid_template_areas": null,
            "object_position": null,
            "object_fit": null,
            "grid_auto_columns": null,
            "margin": null,
            "display": null,
            "left": null
          }
        },
        "ffaa64a0653649fcb4d08bb7ea510d8c": {
          "model_module": "@jupyter-widgets/controls",
          "model_name": "DescriptionStyleModel",
          "state": {
            "_view_name": "StyleView",
            "_model_name": "DescriptionStyleModel",
            "description_width": "",
            "_view_module": "@jupyter-widgets/base",
            "_model_module_version": "1.5.0",
            "_view_count": null,
            "_view_module_version": "1.2.0",
            "_model_module": "@jupyter-widgets/controls"
          }
        },
        "9925240a693242ea90891d2b13d850ef": {
          "model_module": "@jupyter-widgets/base",
          "model_name": "LayoutModel",
          "state": {
            "_view_name": "LayoutView",
            "grid_template_rows": null,
            "right": null,
            "justify_content": null,
            "_view_module": "@jupyter-widgets/base",
            "overflow": null,
            "_model_module_version": "1.2.0",
            "_view_count": null,
            "flex_flow": null,
            "width": null,
            "min_width": null,
            "border": null,
            "align_items": null,
            "bottom": null,
            "_model_module": "@jupyter-widgets/base",
            "top": null,
            "grid_column": null,
            "overflow_y": null,
            "overflow_x": null,
            "grid_auto_flow": null,
            "grid_area": null,
            "grid_template_columns": null,
            "flex": null,
            "_model_name": "LayoutModel",
            "justify_items": null,
            "grid_row": null,
            "max_height": null,
            "align_content": null,
            "visibility": null,
            "align_self": null,
            "height": null,
            "min_height": null,
            "padding": null,
            "grid_auto_rows": null,
            "grid_gap": null,
            "max_width": null,
            "order": null,
            "_view_module_version": "1.2.0",
            "grid_template_areas": null,
            "object_position": null,
            "object_fit": null,
            "grid_auto_columns": null,
            "margin": null,
            "display": null,
            "left": null
          }
        },
        "0d2f7ab8205e478ab6d2fa15466dfa9e": {
          "model_module": "@jupyter-widgets/controls",
          "model_name": "HBoxModel",
          "state": {
            "_view_name": "HBoxView",
            "_dom_classes": [],
            "_model_name": "HBoxModel",
            "_view_module": "@jupyter-widgets/controls",
            "_model_module_version": "1.5.0",
            "_view_count": null,
            "_view_module_version": "1.5.0",
            "box_style": "",
            "layout": "IPY_MODEL_8ea104a6b49344d6adab29d057716daf",
            "_model_module": "@jupyter-widgets/controls",
            "children": [
              "IPY_MODEL_2f1bc924702c460b99257090ad556dd9",
              "IPY_MODEL_5293258b754e4fad8496a3a2e54cdb42"
            ]
          }
        },
        "8ea104a6b49344d6adab29d057716daf": {
          "model_module": "@jupyter-widgets/base",
          "model_name": "LayoutModel",
          "state": {
            "_view_name": "LayoutView",
            "grid_template_rows": null,
            "right": null,
            "justify_content": null,
            "_view_module": "@jupyter-widgets/base",
            "overflow": null,
            "_model_module_version": "1.2.0",
            "_view_count": null,
            "flex_flow": null,
            "width": null,
            "min_width": null,
            "border": null,
            "align_items": null,
            "bottom": null,
            "_model_module": "@jupyter-widgets/base",
            "top": null,
            "grid_column": null,
            "overflow_y": null,
            "overflow_x": null,
            "grid_auto_flow": null,
            "grid_area": null,
            "grid_template_columns": null,
            "flex": null,
            "_model_name": "LayoutModel",
            "justify_items": null,
            "grid_row": null,
            "max_height": null,
            "align_content": null,
            "visibility": null,
            "align_self": null,
            "height": null,
            "min_height": null,
            "padding": null,
            "grid_auto_rows": null,
            "grid_gap": null,
            "max_width": null,
            "order": null,
            "_view_module_version": "1.2.0",
            "grid_template_areas": null,
            "object_position": null,
            "object_fit": null,
            "grid_auto_columns": null,
            "margin": null,
            "display": null,
            "left": null
          }
        },
        "2f1bc924702c460b99257090ad556dd9": {
          "model_module": "@jupyter-widgets/controls",
          "model_name": "FloatProgressModel",
          "state": {
            "_view_name": "ProgressView",
            "style": "IPY_MODEL_ff71f3b2808c4cc98dbb45bb774698aa",
            "_dom_classes": [],
            "description": "epoch 9: 100%",
            "_model_name": "FloatProgressModel",
            "bar_style": "success",
            "max": 40,
            "_view_module": "@jupyter-widgets/controls",
            "_model_module_version": "1.5.0",
            "value": 40,
            "_view_count": null,
            "_view_module_version": "1.5.0",
            "orientation": "horizontal",
            "min": 0,
            "description_tooltip": null,
            "_model_module": "@jupyter-widgets/controls",
            "layout": "IPY_MODEL_990dab9ca01c4e6494a2133bf0e86a77"
          }
        },
        "5293258b754e4fad8496a3a2e54cdb42": {
          "model_module": "@jupyter-widgets/controls",
          "model_name": "HTMLModel",
          "state": {
            "_view_name": "HTMLView",
            "style": "IPY_MODEL_37ac85d882054c088ad698bb24b6ac1d",
            "_dom_classes": [],
            "description": "",
            "_model_name": "HTMLModel",
            "placeholder": "​",
            "_view_module": "@jupyter-widgets/controls",
            "_model_module_version": "1.5.0",
            "value": " 40/40 [00:07&lt;00:00,  5.46instance/s, train_loss=0.144, train_denotation_acc=1, dev_denotation_acc=0.667]",
            "_view_count": null,
            "_view_module_version": "1.5.0",
            "description_tooltip": null,
            "_model_module": "@jupyter-widgets/controls",
            "layout": "IPY_MODEL_f67ee76616eb4f3ab0f6d577eed8fce1"
          }
        },
        "ff71f3b2808c4cc98dbb45bb774698aa": {
          "model_module": "@jupyter-widgets/controls",
          "model_name": "ProgressStyleModel",
          "state": {
            "_view_name": "StyleView",
            "_model_name": "ProgressStyleModel",
            "description_width": "initial",
            "_view_module": "@jupyter-widgets/base",
            "_model_module_version": "1.5.0",
            "_view_count": null,
            "_view_module_version": "1.2.0",
            "bar_color": null,
            "_model_module": "@jupyter-widgets/controls"
          }
        },
        "990dab9ca01c4e6494a2133bf0e86a77": {
          "model_module": "@jupyter-widgets/base",
          "model_name": "LayoutModel",
          "state": {
            "_view_name": "LayoutView",
            "grid_template_rows": null,
            "right": null,
            "justify_content": null,
            "_view_module": "@jupyter-widgets/base",
            "overflow": null,
            "_model_module_version": "1.2.0",
            "_view_count": null,
            "flex_flow": null,
            "width": null,
            "min_width": null,
            "border": null,
            "align_items": null,
            "bottom": null,
            "_model_module": "@jupyter-widgets/base",
            "top": null,
            "grid_column": null,
            "overflow_y": null,
            "overflow_x": null,
            "grid_auto_flow": null,
            "grid_area": null,
            "grid_template_columns": null,
            "flex": null,
            "_model_name": "LayoutModel",
            "justify_items": null,
            "grid_row": null,
            "max_height": null,
            "align_content": null,
            "visibility": null,
            "align_self": null,
            "height": null,
            "min_height": null,
            "padding": null,
            "grid_auto_rows": null,
            "grid_gap": null,
            "max_width": null,
            "order": null,
            "_view_module_version": "1.2.0",
            "grid_template_areas": null,
            "object_position": null,
            "object_fit": null,
            "grid_auto_columns": null,
            "margin": null,
            "display": null,
            "left": null
          }
        },
        "37ac85d882054c088ad698bb24b6ac1d": {
          "model_module": "@jupyter-widgets/controls",
          "model_name": "DescriptionStyleModel",
          "state": {
            "_view_name": "StyleView",
            "_model_name": "DescriptionStyleModel",
            "description_width": "",
            "_view_module": "@jupyter-widgets/base",
            "_model_module_version": "1.5.0",
            "_view_count": null,
            "_view_module_version": "1.2.0",
            "_model_module": "@jupyter-widgets/controls"
          }
        },
        "f67ee76616eb4f3ab0f6d577eed8fce1": {
          "model_module": "@jupyter-widgets/base",
          "model_name": "LayoutModel",
          "state": {
            "_view_name": "LayoutView",
            "grid_template_rows": null,
            "right": null,
            "justify_content": null,
            "_view_module": "@jupyter-widgets/base",
            "overflow": null,
            "_model_module_version": "1.2.0",
            "_view_count": null,
            "flex_flow": null,
            "width": null,
            "min_width": null,
            "border": null,
            "align_items": null,
            "bottom": null,
            "_model_module": "@jupyter-widgets/base",
            "top": null,
            "grid_column": null,
            "overflow_y": null,
            "overflow_x": null,
            "grid_auto_flow": null,
            "grid_area": null,
            "grid_template_columns": null,
            "flex": null,
            "_model_name": "LayoutModel",
            "justify_items": null,
            "grid_row": null,
            "max_height": null,
            "align_content": null,
            "visibility": null,
            "align_self": null,
            "height": null,
            "min_height": null,
            "padding": null,
            "grid_auto_rows": null,
            "grid_gap": null,
            "max_width": null,
            "order": null,
            "_view_module_version": "1.2.0",
            "grid_template_areas": null,
            "object_position": null,
            "object_fit": null,
            "grid_auto_columns": null,
            "margin": null,
            "display": null,
            "left": null
          }
        },
        "d3b830e5d63244f2924a3f8c26f04bee": {
          "model_module": "@jupyter-widgets/controls",
          "model_name": "HBoxModel",
          "state": {
            "_view_name": "HBoxView",
            "_dom_classes": [],
            "_model_name": "HBoxModel",
            "_view_module": "@jupyter-widgets/controls",
            "_model_module_version": "1.5.0",
            "_view_count": null,
            "_view_module_version": "1.5.0",
            "box_style": "",
            "layout": "IPY_MODEL_27bfba04a56f49f28a9b9a5dc3f51d58",
            "_model_module": "@jupyter-widgets/controls",
            "children": [
              "IPY_MODEL_8d166781fa4348adac1b5f89a03c67ea",
              "IPY_MODEL_d6b9ed915ad4413ebb9bb760aab91564"
            ]
          }
        },
        "27bfba04a56f49f28a9b9a5dc3f51d58": {
          "model_module": "@jupyter-widgets/base",
          "model_name": "LayoutModel",
          "state": {
            "_view_name": "LayoutView",
            "grid_template_rows": null,
            "right": null,
            "justify_content": null,
            "_view_module": "@jupyter-widgets/base",
            "overflow": null,
            "_model_module_version": "1.2.0",
            "_view_count": null,
            "flex_flow": null,
            "width": null,
            "min_width": null,
            "border": null,
            "align_items": null,
            "bottom": null,
            "_model_module": "@jupyter-widgets/base",
            "top": null,
            "grid_column": null,
            "overflow_y": null,
            "overflow_x": null,
            "grid_auto_flow": null,
            "grid_area": null,
            "grid_template_columns": null,
            "flex": null,
            "_model_name": "LayoutModel",
            "justify_items": null,
            "grid_row": null,
            "max_height": null,
            "align_content": null,
            "visibility": null,
            "align_self": null,
            "height": null,
            "min_height": null,
            "padding": null,
            "grid_auto_rows": null,
            "grid_gap": null,
            "max_width": null,
            "order": null,
            "_view_module_version": "1.2.0",
            "grid_template_areas": null,
            "object_position": null,
            "object_fit": null,
            "grid_auto_columns": null,
            "margin": null,
            "display": null,
            "left": null
          }
        },
        "8d166781fa4348adac1b5f89a03c67ea": {
          "model_module": "@jupyter-widgets/controls",
          "model_name": "FloatProgressModel",
          "state": {
            "_view_name": "ProgressView",
            "style": "IPY_MODEL_7fab688beb89498abba8751c87cbfff7",
            "_dom_classes": [],
            "description": "epoch 10: 100%",
            "_model_name": "FloatProgressModel",
            "bar_style": "success",
            "max": 40,
            "_view_module": "@jupyter-widgets/controls",
            "_model_module_version": "1.5.0",
            "value": 40,
            "_view_count": null,
            "_view_module_version": "1.5.0",
            "orientation": "horizontal",
            "min": 0,
            "description_tooltip": null,
            "_model_module": "@jupyter-widgets/controls",
            "layout": "IPY_MODEL_42a492fd58d5470b8a6ef3c078aa6e97"
          }
        },
        "d6b9ed915ad4413ebb9bb760aab91564": {
          "model_module": "@jupyter-widgets/controls",
          "model_name": "HTMLModel",
          "state": {
            "_view_name": "HTMLView",
            "style": "IPY_MODEL_0b08d00b538043a1baf913634a630206",
            "_dom_classes": [],
            "description": "",
            "_model_name": "HTMLModel",
            "placeholder": "​",
            "_view_module": "@jupyter-widgets/controls",
            "_model_module_version": "1.5.0",
            "value": " 40/40 [00:07&lt;00:00,  5.37instance/s, train_loss=0.112, train_denotation_acc=1, dev_denotation_acc=0.667]",
            "_view_count": null,
            "_view_module_version": "1.5.0",
            "description_tooltip": null,
            "_model_module": "@jupyter-widgets/controls",
            "layout": "IPY_MODEL_8e28dd554b1e4c9f9586835fac8917f1"
          }
        },
        "7fab688beb89498abba8751c87cbfff7": {
          "model_module": "@jupyter-widgets/controls",
          "model_name": "ProgressStyleModel",
          "state": {
            "_view_name": "StyleView",
            "_model_name": "ProgressStyleModel",
            "description_width": "initial",
            "_view_module": "@jupyter-widgets/base",
            "_model_module_version": "1.5.0",
            "_view_count": null,
            "_view_module_version": "1.2.0",
            "bar_color": null,
            "_model_module": "@jupyter-widgets/controls"
          }
        },
        "42a492fd58d5470b8a6ef3c078aa6e97": {
          "model_module": "@jupyter-widgets/base",
          "model_name": "LayoutModel",
          "state": {
            "_view_name": "LayoutView",
            "grid_template_rows": null,
            "right": null,
            "justify_content": null,
            "_view_module": "@jupyter-widgets/base",
            "overflow": null,
            "_model_module_version": "1.2.0",
            "_view_count": null,
            "flex_flow": null,
            "width": null,
            "min_width": null,
            "border": null,
            "align_items": null,
            "bottom": null,
            "_model_module": "@jupyter-widgets/base",
            "top": null,
            "grid_column": null,
            "overflow_y": null,
            "overflow_x": null,
            "grid_auto_flow": null,
            "grid_area": null,
            "grid_template_columns": null,
            "flex": null,
            "_model_name": "LayoutModel",
            "justify_items": null,
            "grid_row": null,
            "max_height": null,
            "align_content": null,
            "visibility": null,
            "align_self": null,
            "height": null,
            "min_height": null,
            "padding": null,
            "grid_auto_rows": null,
            "grid_gap": null,
            "max_width": null,
            "order": null,
            "_view_module_version": "1.2.0",
            "grid_template_areas": null,
            "object_position": null,
            "object_fit": null,
            "grid_auto_columns": null,
            "margin": null,
            "display": null,
            "left": null
          }
        },
        "0b08d00b538043a1baf913634a630206": {
          "model_module": "@jupyter-widgets/controls",
          "model_name": "DescriptionStyleModel",
          "state": {
            "_view_name": "StyleView",
            "_model_name": "DescriptionStyleModel",
            "description_width": "",
            "_view_module": "@jupyter-widgets/base",
            "_model_module_version": "1.5.0",
            "_view_count": null,
            "_view_module_version": "1.2.0",
            "_model_module": "@jupyter-widgets/controls"
          }
        },
        "8e28dd554b1e4c9f9586835fac8917f1": {
          "model_module": "@jupyter-widgets/base",
          "model_name": "LayoutModel",
          "state": {
            "_view_name": "LayoutView",
            "grid_template_rows": null,
            "right": null,
            "justify_content": null,
            "_view_module": "@jupyter-widgets/base",
            "overflow": null,
            "_model_module_version": "1.2.0",
            "_view_count": null,
            "flex_flow": null,
            "width": null,
            "min_width": null,
            "border": null,
            "align_items": null,
            "bottom": null,
            "_model_module": "@jupyter-widgets/base",
            "top": null,
            "grid_column": null,
            "overflow_y": null,
            "overflow_x": null,
            "grid_auto_flow": null,
            "grid_area": null,
            "grid_template_columns": null,
            "flex": null,
            "_model_name": "LayoutModel",
            "justify_items": null,
            "grid_row": null,
            "max_height": null,
            "align_content": null,
            "visibility": null,
            "align_self": null,
            "height": null,
            "min_height": null,
            "padding": null,
            "grid_auto_rows": null,
            "grid_gap": null,
            "max_width": null,
            "order": null,
            "_view_module_version": "1.2.0",
            "grid_template_areas": null,
            "object_position": null,
            "object_fit": null,
            "grid_auto_columns": null,
            "margin": null,
            "display": null,
            "left": null
          }
        },
        "50d082fcd21e493eadf7f13c6230520c": {
          "model_module": "@jupyter-widgets/controls",
          "model_name": "HBoxModel",
          "state": {
            "_view_name": "HBoxView",
            "_dom_classes": [],
            "_model_name": "HBoxModel",
            "_view_module": "@jupyter-widgets/controls",
            "_model_module_version": "1.5.0",
            "_view_count": null,
            "_view_module_version": "1.5.0",
            "box_style": "",
            "layout": "IPY_MODEL_25ff5dbee76d437b87b2ae5036f8fa39",
            "_model_module": "@jupyter-widgets/controls",
            "children": [
              "IPY_MODEL_b1c7dd3ec8ce4d9a9c142d1282e58050",
              "IPY_MODEL_411a1e049ace4f81a3dd7df056b75056"
            ]
          }
        },
        "25ff5dbee76d437b87b2ae5036f8fa39": {
          "model_module": "@jupyter-widgets/base",
          "model_name": "LayoutModel",
          "state": {
            "_view_name": "LayoutView",
            "grid_template_rows": null,
            "right": null,
            "justify_content": null,
            "_view_module": "@jupyter-widgets/base",
            "overflow": null,
            "_model_module_version": "1.2.0",
            "_view_count": null,
            "flex_flow": null,
            "width": null,
            "min_width": null,
            "border": null,
            "align_items": null,
            "bottom": null,
            "_model_module": "@jupyter-widgets/base",
            "top": null,
            "grid_column": null,
            "overflow_y": null,
            "overflow_x": null,
            "grid_auto_flow": null,
            "grid_area": null,
            "grid_template_columns": null,
            "flex": null,
            "_model_name": "LayoutModel",
            "justify_items": null,
            "grid_row": null,
            "max_height": null,
            "align_content": null,
            "visibility": null,
            "align_self": null,
            "height": null,
            "min_height": null,
            "padding": null,
            "grid_auto_rows": null,
            "grid_gap": null,
            "max_width": null,
            "order": null,
            "_view_module_version": "1.2.0",
            "grid_template_areas": null,
            "object_position": null,
            "object_fit": null,
            "grid_auto_columns": null,
            "margin": null,
            "display": null,
            "left": null
          }
        },
        "b1c7dd3ec8ce4d9a9c142d1282e58050": {
          "model_module": "@jupyter-widgets/controls",
          "model_name": "FloatProgressModel",
          "state": {
            "_view_name": "ProgressView",
            "style": "IPY_MODEL_cc097636554244698ef8600e1a39dca2",
            "_dom_classes": [],
            "description": "training: 100%",
            "_model_name": "FloatProgressModel",
            "bar_style": "success",
            "max": 10,
            "_view_module": "@jupyter-widgets/controls",
            "_model_module_version": "1.5.0",
            "value": 10,
            "_view_count": null,
            "_view_module_version": "1.5.0",
            "orientation": "horizontal",
            "min": 0,
            "description_tooltip": null,
            "_model_module": "@jupyter-widgets/controls",
            "layout": "IPY_MODEL_f42752dc4f59449993a10bd7dd5eb3b5"
          }
        },
        "411a1e049ace4f81a3dd7df056b75056": {
          "model_module": "@jupyter-widgets/controls",
          "model_name": "HTMLModel",
          "state": {
            "_view_name": "HTMLView",
            "style": "IPY_MODEL_bec44e22b0664ae8b7d9346dfb59b335",
            "_dom_classes": [],
            "description": "",
            "_model_name": "HTMLModel",
            "placeholder": "​",
            "_view_module": "@jupyter-widgets/controls",
            "_model_module_version": "1.5.0",
            "value": " 10/10 [21:21&lt;00:00, 128.12s/epoch]",
            "_view_count": null,
            "_view_module_version": "1.5.0",
            "description_tooltip": null,
            "_model_module": "@jupyter-widgets/controls",
            "layout": "IPY_MODEL_b2d54fb98ac648c78594621cd1fadba2"
          }
        },
        "cc097636554244698ef8600e1a39dca2": {
          "model_module": "@jupyter-widgets/controls",
          "model_name": "ProgressStyleModel",
          "state": {
            "_view_name": "StyleView",
            "_model_name": "ProgressStyleModel",
            "description_width": "initial",
            "_view_module": "@jupyter-widgets/base",
            "_model_module_version": "1.5.0",
            "_view_count": null,
            "_view_module_version": "1.2.0",
            "bar_color": null,
            "_model_module": "@jupyter-widgets/controls"
          }
        },
        "f42752dc4f59449993a10bd7dd5eb3b5": {
          "model_module": "@jupyter-widgets/base",
          "model_name": "LayoutModel",
          "state": {
            "_view_name": "LayoutView",
            "grid_template_rows": null,
            "right": null,
            "justify_content": null,
            "_view_module": "@jupyter-widgets/base",
            "overflow": null,
            "_model_module_version": "1.2.0",
            "_view_count": null,
            "flex_flow": null,
            "width": null,
            "min_width": null,
            "border": null,
            "align_items": null,
            "bottom": null,
            "_model_module": "@jupyter-widgets/base",
            "top": null,
            "grid_column": null,
            "overflow_y": null,
            "overflow_x": null,
            "grid_auto_flow": null,
            "grid_area": null,
            "grid_template_columns": null,
            "flex": null,
            "_model_name": "LayoutModel",
            "justify_items": null,
            "grid_row": null,
            "max_height": null,
            "align_content": null,
            "visibility": null,
            "align_self": null,
            "height": null,
            "min_height": null,
            "padding": null,
            "grid_auto_rows": null,
            "grid_gap": null,
            "max_width": null,
            "order": null,
            "_view_module_version": "1.2.0",
            "grid_template_areas": null,
            "object_position": null,
            "object_fit": null,
            "grid_auto_columns": null,
            "margin": null,
            "display": null,
            "left": null
          }
        },
        "bec44e22b0664ae8b7d9346dfb59b335": {
          "model_module": "@jupyter-widgets/controls",
          "model_name": "DescriptionStyleModel",
          "state": {
            "_view_name": "StyleView",
            "_model_name": "DescriptionStyleModel",
            "description_width": "",
            "_view_module": "@jupyter-widgets/base",
            "_model_module_version": "1.5.0",
            "_view_count": null,
            "_view_module_version": "1.2.0",
            "_model_module": "@jupyter-widgets/controls"
          }
        },
        "b2d54fb98ac648c78594621cd1fadba2": {
          "model_module": "@jupyter-widgets/base",
          "model_name": "LayoutModel",
          "state": {
            "_view_name": "LayoutView",
            "grid_template_rows": null,
            "right": null,
            "justify_content": null,
            "_view_module": "@jupyter-widgets/base",
            "overflow": null,
            "_model_module_version": "1.2.0",
            "_view_count": null,
            "flex_flow": null,
            "width": null,
            "min_width": null,
            "border": null,
            "align_items": null,
            "bottom": null,
            "_model_module": "@jupyter-widgets/base",
            "top": null,
            "grid_column": null,
            "overflow_y": null,
            "overflow_x": null,
            "grid_auto_flow": null,
            "grid_area": null,
            "grid_template_columns": null,
            "flex": null,
            "_model_name": "LayoutModel",
            "justify_items": null,
            "grid_row": null,
            "max_height": null,
            "align_content": null,
            "visibility": null,
            "align_self": null,
            "height": null,
            "min_height": null,
            "padding": null,
            "grid_auto_rows": null,
            "grid_gap": null,
            "max_width": null,
            "order": null,
            "_view_module_version": "1.2.0",
            "grid_template_areas": null,
            "object_position": null,
            "object_fit": null,
            "grid_auto_columns": null,
            "margin": null,
            "display": null,
            "left": null
          }
        },
        "ee9af335fd08402584d462913682ebd5": {
          "model_module": "@jupyter-widgets/controls",
          "model_name": "HBoxModel",
          "state": {
            "_view_name": "HBoxView",
            "_dom_classes": [],
            "_model_name": "HBoxModel",
            "_view_module": "@jupyter-widgets/controls",
            "_model_module_version": "1.5.0",
            "_view_count": null,
            "_view_module_version": "1.5.0",
            "box_style": "",
            "layout": "IPY_MODEL_ea01ee4720e94076b9c3927590b9b4ac",
            "_model_module": "@jupyter-widgets/controls",
            "children": [
              "IPY_MODEL_000617fbcede4a15879c9758368c2d2b",
              "IPY_MODEL_dab0a36c5fbc486e8f90975e9b607c9d"
            ]
          }
        },
        "ea01ee4720e94076b9c3927590b9b4ac": {
          "model_module": "@jupyter-widgets/base",
          "model_name": "LayoutModel",
          "state": {
            "_view_name": "LayoutView",
            "grid_template_rows": null,
            "right": null,
            "justify_content": null,
            "_view_module": "@jupyter-widgets/base",
            "overflow": null,
            "_model_module_version": "1.2.0",
            "_view_count": null,
            "flex_flow": null,
            "width": null,
            "min_width": null,
            "border": null,
            "align_items": null,
            "bottom": null,
            "_model_module": "@jupyter-widgets/base",
            "top": null,
            "grid_column": null,
            "overflow_y": null,
            "overflow_x": null,
            "grid_auto_flow": null,
            "grid_area": null,
            "grid_template_columns": null,
            "flex": null,
            "_model_name": "LayoutModel",
            "justify_items": null,
            "grid_row": null,
            "max_height": null,
            "align_content": null,
            "visibility": null,
            "align_self": null,
            "height": null,
            "min_height": null,
            "padding": null,
            "grid_auto_rows": null,
            "grid_gap": null,
            "max_width": null,
            "order": null,
            "_view_module_version": "1.2.0",
            "grid_template_areas": null,
            "object_position": null,
            "object_fit": null,
            "grid_auto_columns": null,
            "margin": null,
            "display": null,
            "left": null
          }
        },
        "000617fbcede4a15879c9758368c2d2b": {
          "model_module": "@jupyter-widgets/controls",
          "model_name": "FloatProgressModel",
          "state": {
            "_view_name": "ProgressView",
            "style": "IPY_MODEL_52fe8c6f2ef74d03b787bc2c776e12f9",
            "_dom_classes": [],
            "description": "epoch 1: 100%",
            "_model_name": "FloatProgressModel",
            "bar_style": "success",
            "max": 133,
            "_view_module": "@jupyter-widgets/controls",
            "_model_module_version": "1.5.0",
            "value": 133,
            "_view_count": null,
            "_view_module_version": "1.5.0",
            "orientation": "horizontal",
            "min": 0,
            "description_tooltip": null,
            "_model_module": "@jupyter-widgets/controls",
            "layout": "IPY_MODEL_23348ab2f36642f9afbaed3dd51156e9"
          }
        },
        "dab0a36c5fbc486e8f90975e9b607c9d": {
          "model_module": "@jupyter-widgets/controls",
          "model_name": "HTMLModel",
          "state": {
            "_view_name": "HTMLView",
            "style": "IPY_MODEL_38004fac44aa42cd818e583a560e970b",
            "_dom_classes": [],
            "description": "",
            "_model_name": "HTMLModel",
            "placeholder": "​",
            "_view_module": "@jupyter-widgets/controls",
            "_model_module_version": "1.5.0",
            "value": " 133/133 [02:51&lt;00:00,  1.29s/instance, train_loss=2.14, train_denotation_acc=0.398, dev_denotation_acc=0.415]",
            "_view_count": null,
            "_view_module_version": "1.5.0",
            "description_tooltip": null,
            "_model_module": "@jupyter-widgets/controls",
            "layout": "IPY_MODEL_ca767c11817d434c9ded7c59b216bf3d"
          }
        },
        "52fe8c6f2ef74d03b787bc2c776e12f9": {
          "model_module": "@jupyter-widgets/controls",
          "model_name": "ProgressStyleModel",
          "state": {
            "_view_name": "StyleView",
            "_model_name": "ProgressStyleModel",
            "description_width": "initial",
            "_view_module": "@jupyter-widgets/base",
            "_model_module_version": "1.5.0",
            "_view_count": null,
            "_view_module_version": "1.2.0",
            "bar_color": null,
            "_model_module": "@jupyter-widgets/controls"
          }
        },
        "23348ab2f36642f9afbaed3dd51156e9": {
          "model_module": "@jupyter-widgets/base",
          "model_name": "LayoutModel",
          "state": {
            "_view_name": "LayoutView",
            "grid_template_rows": null,
            "right": null,
            "justify_content": null,
            "_view_module": "@jupyter-widgets/base",
            "overflow": null,
            "_model_module_version": "1.2.0",
            "_view_count": null,
            "flex_flow": null,
            "width": null,
            "min_width": null,
            "border": null,
            "align_items": null,
            "bottom": null,
            "_model_module": "@jupyter-widgets/base",
            "top": null,
            "grid_column": null,
            "overflow_y": null,
            "overflow_x": null,
            "grid_auto_flow": null,
            "grid_area": null,
            "grid_template_columns": null,
            "flex": null,
            "_model_name": "LayoutModel",
            "justify_items": null,
            "grid_row": null,
            "max_height": null,
            "align_content": null,
            "visibility": null,
            "align_self": null,
            "height": null,
            "min_height": null,
            "padding": null,
            "grid_auto_rows": null,
            "grid_gap": null,
            "max_width": null,
            "order": null,
            "_view_module_version": "1.2.0",
            "grid_template_areas": null,
            "object_position": null,
            "object_fit": null,
            "grid_auto_columns": null,
            "margin": null,
            "display": null,
            "left": null
          }
        },
        "38004fac44aa42cd818e583a560e970b": {
          "model_module": "@jupyter-widgets/controls",
          "model_name": "DescriptionStyleModel",
          "state": {
            "_view_name": "StyleView",
            "_model_name": "DescriptionStyleModel",
            "description_width": "",
            "_view_module": "@jupyter-widgets/base",
            "_model_module_version": "1.5.0",
            "_view_count": null,
            "_view_module_version": "1.2.0",
            "_model_module": "@jupyter-widgets/controls"
          }
        },
        "ca767c11817d434c9ded7c59b216bf3d": {
          "model_module": "@jupyter-widgets/base",
          "model_name": "LayoutModel",
          "state": {
            "_view_name": "LayoutView",
            "grid_template_rows": null,
            "right": null,
            "justify_content": null,
            "_view_module": "@jupyter-widgets/base",
            "overflow": null,
            "_model_module_version": "1.2.0",
            "_view_count": null,
            "flex_flow": null,
            "width": null,
            "min_width": null,
            "border": null,
            "align_items": null,
            "bottom": null,
            "_model_module": "@jupyter-widgets/base",
            "top": null,
            "grid_column": null,
            "overflow_y": null,
            "overflow_x": null,
            "grid_auto_flow": null,
            "grid_area": null,
            "grid_template_columns": null,
            "flex": null,
            "_model_name": "LayoutModel",
            "justify_items": null,
            "grid_row": null,
            "max_height": null,
            "align_content": null,
            "visibility": null,
            "align_self": null,
            "height": null,
            "min_height": null,
            "padding": null,
            "grid_auto_rows": null,
            "grid_gap": null,
            "max_width": null,
            "order": null,
            "_view_module_version": "1.2.0",
            "grid_template_areas": null,
            "object_position": null,
            "object_fit": null,
            "grid_auto_columns": null,
            "margin": null,
            "display": null,
            "left": null
          }
        },
        "08562595c120418a8651b823da5c27dc": {
          "model_module": "@jupyter-widgets/controls",
          "model_name": "HBoxModel",
          "state": {
            "_view_name": "HBoxView",
            "_dom_classes": [],
            "_model_name": "HBoxModel",
            "_view_module": "@jupyter-widgets/controls",
            "_model_module_version": "1.5.0",
            "_view_count": null,
            "_view_module_version": "1.5.0",
            "box_style": "",
            "layout": "IPY_MODEL_045451f03aa947979fb88b28f474ad21",
            "_model_module": "@jupyter-widgets/controls",
            "children": [
              "IPY_MODEL_033a9eaa64344a64830b0bdc3c2f8740",
              "IPY_MODEL_dfcf0ff03c1241eb9461d17447bfb9c6"
            ]
          }
        },
        "045451f03aa947979fb88b28f474ad21": {
          "model_module": "@jupyter-widgets/base",
          "model_name": "LayoutModel",
          "state": {
            "_view_name": "LayoutView",
            "grid_template_rows": null,
            "right": null,
            "justify_content": null,
            "_view_module": "@jupyter-widgets/base",
            "overflow": null,
            "_model_module_version": "1.2.0",
            "_view_count": null,
            "flex_flow": null,
            "width": null,
            "min_width": null,
            "border": null,
            "align_items": null,
            "bottom": null,
            "_model_module": "@jupyter-widgets/base",
            "top": null,
            "grid_column": null,
            "overflow_y": null,
            "overflow_x": null,
            "grid_auto_flow": null,
            "grid_area": null,
            "grid_template_columns": null,
            "flex": null,
            "_model_name": "LayoutModel",
            "justify_items": null,
            "grid_row": null,
            "max_height": null,
            "align_content": null,
            "visibility": null,
            "align_self": null,
            "height": null,
            "min_height": null,
            "padding": null,
            "grid_auto_rows": null,
            "grid_gap": null,
            "max_width": null,
            "order": null,
            "_view_module_version": "1.2.0",
            "grid_template_areas": null,
            "object_position": null,
            "object_fit": null,
            "grid_auto_columns": null,
            "margin": null,
            "display": null,
            "left": null
          }
        },
        "033a9eaa64344a64830b0bdc3c2f8740": {
          "model_module": "@jupyter-widgets/controls",
          "model_name": "FloatProgressModel",
          "state": {
            "_view_name": "ProgressView",
            "style": "IPY_MODEL_ac1368faa24a4ae89fa19a714954b2f6",
            "_dom_classes": [],
            "description": "epoch 2: 100%",
            "_model_name": "FloatProgressModel",
            "bar_style": "success",
            "max": 133,
            "_view_module": "@jupyter-widgets/controls",
            "_model_module_version": "1.5.0",
            "value": 133,
            "_view_count": null,
            "_view_module_version": "1.5.0",
            "orientation": "horizontal",
            "min": 0,
            "description_tooltip": null,
            "_model_module": "@jupyter-widgets/controls",
            "layout": "IPY_MODEL_c76bad2badd9425bbc94093b036a956c"
          }
        },
        "dfcf0ff03c1241eb9461d17447bfb9c6": {
          "model_module": "@jupyter-widgets/controls",
          "model_name": "HTMLModel",
          "state": {
            "_view_name": "HTMLView",
            "style": "IPY_MODEL_11b9d275a2434512a261b999bf8c4115",
            "_dom_classes": [],
            "description": "",
            "_model_name": "HTMLModel",
            "placeholder": "​",
            "_view_module": "@jupyter-widgets/controls",
            "_model_module_version": "1.5.0",
            "value": " 133/133 [02:17&lt;00:00,  1.03s/instance, train_loss=1.39, train_denotation_acc=0.714, dev_denotation_acc=0.488]",
            "_view_count": null,
            "_view_module_version": "1.5.0",
            "description_tooltip": null,
            "_model_module": "@jupyter-widgets/controls",
            "layout": "IPY_MODEL_d979fa3095b94a07860142455617350e"
          }
        },
        "ac1368faa24a4ae89fa19a714954b2f6": {
          "model_module": "@jupyter-widgets/controls",
          "model_name": "ProgressStyleModel",
          "state": {
            "_view_name": "StyleView",
            "_model_name": "ProgressStyleModel",
            "description_width": "initial",
            "_view_module": "@jupyter-widgets/base",
            "_model_module_version": "1.5.0",
            "_view_count": null,
            "_view_module_version": "1.2.0",
            "bar_color": null,
            "_model_module": "@jupyter-widgets/controls"
          }
        },
        "c76bad2badd9425bbc94093b036a956c": {
          "model_module": "@jupyter-widgets/base",
          "model_name": "LayoutModel",
          "state": {
            "_view_name": "LayoutView",
            "grid_template_rows": null,
            "right": null,
            "justify_content": null,
            "_view_module": "@jupyter-widgets/base",
            "overflow": null,
            "_model_module_version": "1.2.0",
            "_view_count": null,
            "flex_flow": null,
            "width": null,
            "min_width": null,
            "border": null,
            "align_items": null,
            "bottom": null,
            "_model_module": "@jupyter-widgets/base",
            "top": null,
            "grid_column": null,
            "overflow_y": null,
            "overflow_x": null,
            "grid_auto_flow": null,
            "grid_area": null,
            "grid_template_columns": null,
            "flex": null,
            "_model_name": "LayoutModel",
            "justify_items": null,
            "grid_row": null,
            "max_height": null,
            "align_content": null,
            "visibility": null,
            "align_self": null,
            "height": null,
            "min_height": null,
            "padding": null,
            "grid_auto_rows": null,
            "grid_gap": null,
            "max_width": null,
            "order": null,
            "_view_module_version": "1.2.0",
            "grid_template_areas": null,
            "object_position": null,
            "object_fit": null,
            "grid_auto_columns": null,
            "margin": null,
            "display": null,
            "left": null
          }
        },
        "11b9d275a2434512a261b999bf8c4115": {
          "model_module": "@jupyter-widgets/controls",
          "model_name": "DescriptionStyleModel",
          "state": {
            "_view_name": "StyleView",
            "_model_name": "DescriptionStyleModel",
            "description_width": "",
            "_view_module": "@jupyter-widgets/base",
            "_model_module_version": "1.5.0",
            "_view_count": null,
            "_view_module_version": "1.2.0",
            "_model_module": "@jupyter-widgets/controls"
          }
        },
        "d979fa3095b94a07860142455617350e": {
          "model_module": "@jupyter-widgets/base",
          "model_name": "LayoutModel",
          "state": {
            "_view_name": "LayoutView",
            "grid_template_rows": null,
            "right": null,
            "justify_content": null,
            "_view_module": "@jupyter-widgets/base",
            "overflow": null,
            "_model_module_version": "1.2.0",
            "_view_count": null,
            "flex_flow": null,
            "width": null,
            "min_width": null,
            "border": null,
            "align_items": null,
            "bottom": null,
            "_model_module": "@jupyter-widgets/base",
            "top": null,
            "grid_column": null,
            "overflow_y": null,
            "overflow_x": null,
            "grid_auto_flow": null,
            "grid_area": null,
            "grid_template_columns": null,
            "flex": null,
            "_model_name": "LayoutModel",
            "justify_items": null,
            "grid_row": null,
            "max_height": null,
            "align_content": null,
            "visibility": null,
            "align_self": null,
            "height": null,
            "min_height": null,
            "padding": null,
            "grid_auto_rows": null,
            "grid_gap": null,
            "max_width": null,
            "order": null,
            "_view_module_version": "1.2.0",
            "grid_template_areas": null,
            "object_position": null,
            "object_fit": null,
            "grid_auto_columns": null,
            "margin": null,
            "display": null,
            "left": null
          }
        },
        "cb7ddc5484be491e8e6aef67f2d2fcc2": {
          "model_module": "@jupyter-widgets/controls",
          "model_name": "HBoxModel",
          "state": {
            "_view_name": "HBoxView",
            "_dom_classes": [],
            "_model_name": "HBoxModel",
            "_view_module": "@jupyter-widgets/controls",
            "_model_module_version": "1.5.0",
            "_view_count": null,
            "_view_module_version": "1.5.0",
            "box_style": "",
            "layout": "IPY_MODEL_23ae412d703545ae9ec1532ccb144bec",
            "_model_module": "@jupyter-widgets/controls",
            "children": [
              "IPY_MODEL_0dcf3b525fd649f8bcb155e2a29de280",
              "IPY_MODEL_5e5ea9dc89ea43db8a9917690444928c"
            ]
          }
        },
        "23ae412d703545ae9ec1532ccb144bec": {
          "model_module": "@jupyter-widgets/base",
          "model_name": "LayoutModel",
          "state": {
            "_view_name": "LayoutView",
            "grid_template_rows": null,
            "right": null,
            "justify_content": null,
            "_view_module": "@jupyter-widgets/base",
            "overflow": null,
            "_model_module_version": "1.2.0",
            "_view_count": null,
            "flex_flow": null,
            "width": null,
            "min_width": null,
            "border": null,
            "align_items": null,
            "bottom": null,
            "_model_module": "@jupyter-widgets/base",
            "top": null,
            "grid_column": null,
            "overflow_y": null,
            "overflow_x": null,
            "grid_auto_flow": null,
            "grid_area": null,
            "grid_template_columns": null,
            "flex": null,
            "_model_name": "LayoutModel",
            "justify_items": null,
            "grid_row": null,
            "max_height": null,
            "align_content": null,
            "visibility": null,
            "align_self": null,
            "height": null,
            "min_height": null,
            "padding": null,
            "grid_auto_rows": null,
            "grid_gap": null,
            "max_width": null,
            "order": null,
            "_view_module_version": "1.2.0",
            "grid_template_areas": null,
            "object_position": null,
            "object_fit": null,
            "grid_auto_columns": null,
            "margin": null,
            "display": null,
            "left": null
          }
        },
        "0dcf3b525fd649f8bcb155e2a29de280": {
          "model_module": "@jupyter-widgets/controls",
          "model_name": "FloatProgressModel",
          "state": {
            "_view_name": "ProgressView",
            "style": "IPY_MODEL_b6f9d19748164a6b98a38d0323d8e069",
            "_dom_classes": [],
            "description": "epoch 3: 100%",
            "_model_name": "FloatProgressModel",
            "bar_style": "success",
            "max": 133,
            "_view_module": "@jupyter-widgets/controls",
            "_model_module_version": "1.5.0",
            "value": 133,
            "_view_count": null,
            "_view_module_version": "1.5.0",
            "orientation": "horizontal",
            "min": 0,
            "description_tooltip": null,
            "_model_module": "@jupyter-widgets/controls",
            "layout": "IPY_MODEL_aa5da75e4f5a4392841d95b84779ebee"
          }
        },
        "5e5ea9dc89ea43db8a9917690444928c": {
          "model_module": "@jupyter-widgets/controls",
          "model_name": "HTMLModel",
          "state": {
            "_view_name": "HTMLView",
            "style": "IPY_MODEL_e636a457e21b48ba886657a76202cac7",
            "_dom_classes": [],
            "description": "",
            "_model_name": "HTMLModel",
            "placeholder": "​",
            "_view_module": "@jupyter-widgets/controls",
            "_model_module_version": "1.5.0",
            "value": " 133/133 [02:23&lt;00:00,  1.08s/instance, train_loss=1.06, train_denotation_acc=0.571, dev_denotation_acc=0.415]",
            "_view_count": null,
            "_view_module_version": "1.5.0",
            "description_tooltip": null,
            "_model_module": "@jupyter-widgets/controls",
            "layout": "IPY_MODEL_d23f0a0a9e5a4648af4c0469f187f75d"
          }
        },
        "b6f9d19748164a6b98a38d0323d8e069": {
          "model_module": "@jupyter-widgets/controls",
          "model_name": "ProgressStyleModel",
          "state": {
            "_view_name": "StyleView",
            "_model_name": "ProgressStyleModel",
            "description_width": "initial",
            "_view_module": "@jupyter-widgets/base",
            "_model_module_version": "1.5.0",
            "_view_count": null,
            "_view_module_version": "1.2.0",
            "bar_color": null,
            "_model_module": "@jupyter-widgets/controls"
          }
        },
        "aa5da75e4f5a4392841d95b84779ebee": {
          "model_module": "@jupyter-widgets/base",
          "model_name": "LayoutModel",
          "state": {
            "_view_name": "LayoutView",
            "grid_template_rows": null,
            "right": null,
            "justify_content": null,
            "_view_module": "@jupyter-widgets/base",
            "overflow": null,
            "_model_module_version": "1.2.0",
            "_view_count": null,
            "flex_flow": null,
            "width": null,
            "min_width": null,
            "border": null,
            "align_items": null,
            "bottom": null,
            "_model_module": "@jupyter-widgets/base",
            "top": null,
            "grid_column": null,
            "overflow_y": null,
            "overflow_x": null,
            "grid_auto_flow": null,
            "grid_area": null,
            "grid_template_columns": null,
            "flex": null,
            "_model_name": "LayoutModel",
            "justify_items": null,
            "grid_row": null,
            "max_height": null,
            "align_content": null,
            "visibility": null,
            "align_self": null,
            "height": null,
            "min_height": null,
            "padding": null,
            "grid_auto_rows": null,
            "grid_gap": null,
            "max_width": null,
            "order": null,
            "_view_module_version": "1.2.0",
            "grid_template_areas": null,
            "object_position": null,
            "object_fit": null,
            "grid_auto_columns": null,
            "margin": null,
            "display": null,
            "left": null
          }
        },
        "e636a457e21b48ba886657a76202cac7": {
          "model_module": "@jupyter-widgets/controls",
          "model_name": "DescriptionStyleModel",
          "state": {
            "_view_name": "StyleView",
            "_model_name": "DescriptionStyleModel",
            "description_width": "",
            "_view_module": "@jupyter-widgets/base",
            "_model_module_version": "1.5.0",
            "_view_count": null,
            "_view_module_version": "1.2.0",
            "_model_module": "@jupyter-widgets/controls"
          }
        },
        "d23f0a0a9e5a4648af4c0469f187f75d": {
          "model_module": "@jupyter-widgets/base",
          "model_name": "LayoutModel",
          "state": {
            "_view_name": "LayoutView",
            "grid_template_rows": null,
            "right": null,
            "justify_content": null,
            "_view_module": "@jupyter-widgets/base",
            "overflow": null,
            "_model_module_version": "1.2.0",
            "_view_count": null,
            "flex_flow": null,
            "width": null,
            "min_width": null,
            "border": null,
            "align_items": null,
            "bottom": null,
            "_model_module": "@jupyter-widgets/base",
            "top": null,
            "grid_column": null,
            "overflow_y": null,
            "overflow_x": null,
            "grid_auto_flow": null,
            "grid_area": null,
            "grid_template_columns": null,
            "flex": null,
            "_model_name": "LayoutModel",
            "justify_items": null,
            "grid_row": null,
            "max_height": null,
            "align_content": null,
            "visibility": null,
            "align_self": null,
            "height": null,
            "min_height": null,
            "padding": null,
            "grid_auto_rows": null,
            "grid_gap": null,
            "max_width": null,
            "order": null,
            "_view_module_version": "1.2.0",
            "grid_template_areas": null,
            "object_position": null,
            "object_fit": null,
            "grid_auto_columns": null,
            "margin": null,
            "display": null,
            "left": null
          }
        },
        "a9e45194c8f14cabaec7aaeea373aaa2": {
          "model_module": "@jupyter-widgets/controls",
          "model_name": "HBoxModel",
          "state": {
            "_view_name": "HBoxView",
            "_dom_classes": [],
            "_model_name": "HBoxModel",
            "_view_module": "@jupyter-widgets/controls",
            "_model_module_version": "1.5.0",
            "_view_count": null,
            "_view_module_version": "1.5.0",
            "box_style": "",
            "layout": "IPY_MODEL_876e860bcc0948f68704ce12a2b8f492",
            "_model_module": "@jupyter-widgets/controls",
            "children": [
              "IPY_MODEL_94f2734f156b46f39d150439ee742ed8",
              "IPY_MODEL_4a8bac1db7d246308bcaeb6c63330cb9"
            ]
          }
        },
        "876e860bcc0948f68704ce12a2b8f492": {
          "model_module": "@jupyter-widgets/base",
          "model_name": "LayoutModel",
          "state": {
            "_view_name": "LayoutView",
            "grid_template_rows": null,
            "right": null,
            "justify_content": null,
            "_view_module": "@jupyter-widgets/base",
            "overflow": null,
            "_model_module_version": "1.2.0",
            "_view_count": null,
            "flex_flow": null,
            "width": null,
            "min_width": null,
            "border": null,
            "align_items": null,
            "bottom": null,
            "_model_module": "@jupyter-widgets/base",
            "top": null,
            "grid_column": null,
            "overflow_y": null,
            "overflow_x": null,
            "grid_auto_flow": null,
            "grid_area": null,
            "grid_template_columns": null,
            "flex": null,
            "_model_name": "LayoutModel",
            "justify_items": null,
            "grid_row": null,
            "max_height": null,
            "align_content": null,
            "visibility": null,
            "align_self": null,
            "height": null,
            "min_height": null,
            "padding": null,
            "grid_auto_rows": null,
            "grid_gap": null,
            "max_width": null,
            "order": null,
            "_view_module_version": "1.2.0",
            "grid_template_areas": null,
            "object_position": null,
            "object_fit": null,
            "grid_auto_columns": null,
            "margin": null,
            "display": null,
            "left": null
          }
        },
        "94f2734f156b46f39d150439ee742ed8": {
          "model_module": "@jupyter-widgets/controls",
          "model_name": "FloatProgressModel",
          "state": {
            "_view_name": "ProgressView",
            "style": "IPY_MODEL_4e464c7aecca43a4a7069a43b595ccb7",
            "_dom_classes": [],
            "description": "epoch 4: 100%",
            "_model_name": "FloatProgressModel",
            "bar_style": "success",
            "max": 133,
            "_view_module": "@jupyter-widgets/controls",
            "_model_module_version": "1.5.0",
            "value": 133,
            "_view_count": null,
            "_view_module_version": "1.5.0",
            "orientation": "horizontal",
            "min": 0,
            "description_tooltip": null,
            "_model_module": "@jupyter-widgets/controls",
            "layout": "IPY_MODEL_25cb399f8ca74330a71800af411fd3ae"
          }
        },
        "4a8bac1db7d246308bcaeb6c63330cb9": {
          "model_module": "@jupyter-widgets/controls",
          "model_name": "HTMLModel",
          "state": {
            "_view_name": "HTMLView",
            "style": "IPY_MODEL_15075c2665b947edb3acaec2275b39b7",
            "_dom_classes": [],
            "description": "",
            "_model_name": "HTMLModel",
            "placeholder": "​",
            "_view_module": "@jupyter-widgets/controls",
            "_model_module_version": "1.5.0",
            "value": " 133/133 [02:29&lt;00:00,  1.12s/instance, train_loss=0.954, train_denotation_acc=0.609, dev_denotation_acc=0.415]",
            "_view_count": null,
            "_view_module_version": "1.5.0",
            "description_tooltip": null,
            "_model_module": "@jupyter-widgets/controls",
            "layout": "IPY_MODEL_355d404abddc43b381b95a66ea684abb"
          }
        },
        "4e464c7aecca43a4a7069a43b595ccb7": {
          "model_module": "@jupyter-widgets/controls",
          "model_name": "ProgressStyleModel",
          "state": {
            "_view_name": "StyleView",
            "_model_name": "ProgressStyleModel",
            "description_width": "initial",
            "_view_module": "@jupyter-widgets/base",
            "_model_module_version": "1.5.0",
            "_view_count": null,
            "_view_module_version": "1.2.0",
            "bar_color": null,
            "_model_module": "@jupyter-widgets/controls"
          }
        },
        "25cb399f8ca74330a71800af411fd3ae": {
          "model_module": "@jupyter-widgets/base",
          "model_name": "LayoutModel",
          "state": {
            "_view_name": "LayoutView",
            "grid_template_rows": null,
            "right": null,
            "justify_content": null,
            "_view_module": "@jupyter-widgets/base",
            "overflow": null,
            "_model_module_version": "1.2.0",
            "_view_count": null,
            "flex_flow": null,
            "width": null,
            "min_width": null,
            "border": null,
            "align_items": null,
            "bottom": null,
            "_model_module": "@jupyter-widgets/base",
            "top": null,
            "grid_column": null,
            "overflow_y": null,
            "overflow_x": null,
            "grid_auto_flow": null,
            "grid_area": null,
            "grid_template_columns": null,
            "flex": null,
            "_model_name": "LayoutModel",
            "justify_items": null,
            "grid_row": null,
            "max_height": null,
            "align_content": null,
            "visibility": null,
            "align_self": null,
            "height": null,
            "min_height": null,
            "padding": null,
            "grid_auto_rows": null,
            "grid_gap": null,
            "max_width": null,
            "order": null,
            "_view_module_version": "1.2.0",
            "grid_template_areas": null,
            "object_position": null,
            "object_fit": null,
            "grid_auto_columns": null,
            "margin": null,
            "display": null,
            "left": null
          }
        },
        "15075c2665b947edb3acaec2275b39b7": {
          "model_module": "@jupyter-widgets/controls",
          "model_name": "DescriptionStyleModel",
          "state": {
            "_view_name": "StyleView",
            "_model_name": "DescriptionStyleModel",
            "description_width": "",
            "_view_module": "@jupyter-widgets/base",
            "_model_module_version": "1.5.0",
            "_view_count": null,
            "_view_module_version": "1.2.0",
            "_model_module": "@jupyter-widgets/controls"
          }
        },
        "355d404abddc43b381b95a66ea684abb": {
          "model_module": "@jupyter-widgets/base",
          "model_name": "LayoutModel",
          "state": {
            "_view_name": "LayoutView",
            "grid_template_rows": null,
            "right": null,
            "justify_content": null,
            "_view_module": "@jupyter-widgets/base",
            "overflow": null,
            "_model_module_version": "1.2.0",
            "_view_count": null,
            "flex_flow": null,
            "width": null,
            "min_width": null,
            "border": null,
            "align_items": null,
            "bottom": null,
            "_model_module": "@jupyter-widgets/base",
            "top": null,
            "grid_column": null,
            "overflow_y": null,
            "overflow_x": null,
            "grid_auto_flow": null,
            "grid_area": null,
            "grid_template_columns": null,
            "flex": null,
            "_model_name": "LayoutModel",
            "justify_items": null,
            "grid_row": null,
            "max_height": null,
            "align_content": null,
            "visibility": null,
            "align_self": null,
            "height": null,
            "min_height": null,
            "padding": null,
            "grid_auto_rows": null,
            "grid_gap": null,
            "max_width": null,
            "order": null,
            "_view_module_version": "1.2.0",
            "grid_template_areas": null,
            "object_position": null,
            "object_fit": null,
            "grid_auto_columns": null,
            "margin": null,
            "display": null,
            "left": null
          }
        },
        "36621027c6f04424b93b05834383d7bc": {
          "model_module": "@jupyter-widgets/controls",
          "model_name": "HBoxModel",
          "state": {
            "_view_name": "HBoxView",
            "_dom_classes": [],
            "_model_name": "HBoxModel",
            "_view_module": "@jupyter-widgets/controls",
            "_model_module_version": "1.5.0",
            "_view_count": null,
            "_view_module_version": "1.5.0",
            "box_style": "",
            "layout": "IPY_MODEL_4e7a8f1676c94860bbeff89b8bb6aef2",
            "_model_module": "@jupyter-widgets/controls",
            "children": [
              "IPY_MODEL_f29bf4d2e14b4dd0bdb49ac19c34a657",
              "IPY_MODEL_33bc418eae124b669185eb479c62650a"
            ]
          }
        },
        "4e7a8f1676c94860bbeff89b8bb6aef2": {
          "model_module": "@jupyter-widgets/base",
          "model_name": "LayoutModel",
          "state": {
            "_view_name": "LayoutView",
            "grid_template_rows": null,
            "right": null,
            "justify_content": null,
            "_view_module": "@jupyter-widgets/base",
            "overflow": null,
            "_model_module_version": "1.2.0",
            "_view_count": null,
            "flex_flow": null,
            "width": null,
            "min_width": null,
            "border": null,
            "align_items": null,
            "bottom": null,
            "_model_module": "@jupyter-widgets/base",
            "top": null,
            "grid_column": null,
            "overflow_y": null,
            "overflow_x": null,
            "grid_auto_flow": null,
            "grid_area": null,
            "grid_template_columns": null,
            "flex": null,
            "_model_name": "LayoutModel",
            "justify_items": null,
            "grid_row": null,
            "max_height": null,
            "align_content": null,
            "visibility": null,
            "align_self": null,
            "height": null,
            "min_height": null,
            "padding": null,
            "grid_auto_rows": null,
            "grid_gap": null,
            "max_width": null,
            "order": null,
            "_view_module_version": "1.2.0",
            "grid_template_areas": null,
            "object_position": null,
            "object_fit": null,
            "grid_auto_columns": null,
            "margin": null,
            "display": null,
            "left": null
          }
        },
        "f29bf4d2e14b4dd0bdb49ac19c34a657": {
          "model_module": "@jupyter-widgets/controls",
          "model_name": "FloatProgressModel",
          "state": {
            "_view_name": "ProgressView",
            "style": "IPY_MODEL_b8d95b046abd4ba5a19d301de43ae1a9",
            "_dom_classes": [],
            "description": "epoch 5: 100%",
            "_model_name": "FloatProgressModel",
            "bar_style": "success",
            "max": 133,
            "_view_module": "@jupyter-widgets/controls",
            "_model_module_version": "1.5.0",
            "value": 133,
            "_view_count": null,
            "_view_module_version": "1.5.0",
            "orientation": "horizontal",
            "min": 0,
            "description_tooltip": null,
            "_model_module": "@jupyter-widgets/controls",
            "layout": "IPY_MODEL_def969a734e84d77a9b2f9fc3922cbde"
          }
        },
        "33bc418eae124b669185eb479c62650a": {
          "model_module": "@jupyter-widgets/controls",
          "model_name": "HTMLModel",
          "state": {
            "_view_name": "HTMLView",
            "style": "IPY_MODEL_823ce07912954df3a297c1e325228bee",
            "_dom_classes": [],
            "description": "",
            "_model_name": "HTMLModel",
            "placeholder": "​",
            "_view_module": "@jupyter-widgets/controls",
            "_model_module_version": "1.5.0",
            "value": " 133/133 [02:27&lt;00:00,  1.11s/instance, train_loss=0.869, train_denotation_acc=0.827, dev_denotation_acc=0.488]",
            "_view_count": null,
            "_view_module_version": "1.5.0",
            "description_tooltip": null,
            "_model_module": "@jupyter-widgets/controls",
            "layout": "IPY_MODEL_baecc5c8383643a5b5b57a0eb1b228dc"
          }
        },
        "b8d95b046abd4ba5a19d301de43ae1a9": {
          "model_module": "@jupyter-widgets/controls",
          "model_name": "ProgressStyleModel",
          "state": {
            "_view_name": "StyleView",
            "_model_name": "ProgressStyleModel",
            "description_width": "initial",
            "_view_module": "@jupyter-widgets/base",
            "_model_module_version": "1.5.0",
            "_view_count": null,
            "_view_module_version": "1.2.0",
            "bar_color": null,
            "_model_module": "@jupyter-widgets/controls"
          }
        },
        "def969a734e84d77a9b2f9fc3922cbde": {
          "model_module": "@jupyter-widgets/base",
          "model_name": "LayoutModel",
          "state": {
            "_view_name": "LayoutView",
            "grid_template_rows": null,
            "right": null,
            "justify_content": null,
            "_view_module": "@jupyter-widgets/base",
            "overflow": null,
            "_model_module_version": "1.2.0",
            "_view_count": null,
            "flex_flow": null,
            "width": null,
            "min_width": null,
            "border": null,
            "align_items": null,
            "bottom": null,
            "_model_module": "@jupyter-widgets/base",
            "top": null,
            "grid_column": null,
            "overflow_y": null,
            "overflow_x": null,
            "grid_auto_flow": null,
            "grid_area": null,
            "grid_template_columns": null,
            "flex": null,
            "_model_name": "LayoutModel",
            "justify_items": null,
            "grid_row": null,
            "max_height": null,
            "align_content": null,
            "visibility": null,
            "align_self": null,
            "height": null,
            "min_height": null,
            "padding": null,
            "grid_auto_rows": null,
            "grid_gap": null,
            "max_width": null,
            "order": null,
            "_view_module_version": "1.2.0",
            "grid_template_areas": null,
            "object_position": null,
            "object_fit": null,
            "grid_auto_columns": null,
            "margin": null,
            "display": null,
            "left": null
          }
        },
        "823ce07912954df3a297c1e325228bee": {
          "model_module": "@jupyter-widgets/controls",
          "model_name": "DescriptionStyleModel",
          "state": {
            "_view_name": "StyleView",
            "_model_name": "DescriptionStyleModel",
            "description_width": "",
            "_view_module": "@jupyter-widgets/base",
            "_model_module_version": "1.5.0",
            "_view_count": null,
            "_view_module_version": "1.2.0",
            "_model_module": "@jupyter-widgets/controls"
          }
        },
        "baecc5c8383643a5b5b57a0eb1b228dc": {
          "model_module": "@jupyter-widgets/base",
          "model_name": "LayoutModel",
          "state": {
            "_view_name": "LayoutView",
            "grid_template_rows": null,
            "right": null,
            "justify_content": null,
            "_view_module": "@jupyter-widgets/base",
            "overflow": null,
            "_model_module_version": "1.2.0",
            "_view_count": null,
            "flex_flow": null,
            "width": null,
            "min_width": null,
            "border": null,
            "align_items": null,
            "bottom": null,
            "_model_module": "@jupyter-widgets/base",
            "top": null,
            "grid_column": null,
            "overflow_y": null,
            "overflow_x": null,
            "grid_auto_flow": null,
            "grid_area": null,
            "grid_template_columns": null,
            "flex": null,
            "_model_name": "LayoutModel",
            "justify_items": null,
            "grid_row": null,
            "max_height": null,
            "align_content": null,
            "visibility": null,
            "align_self": null,
            "height": null,
            "min_height": null,
            "padding": null,
            "grid_auto_rows": null,
            "grid_gap": null,
            "max_width": null,
            "order": null,
            "_view_module_version": "1.2.0",
            "grid_template_areas": null,
            "object_position": null,
            "object_fit": null,
            "grid_auto_columns": null,
            "margin": null,
            "display": null,
            "left": null
          }
        },
        "05be02d82af346a389106cda7f0fdbee": {
          "model_module": "@jupyter-widgets/controls",
          "model_name": "HBoxModel",
          "state": {
            "_view_name": "HBoxView",
            "_dom_classes": [],
            "_model_name": "HBoxModel",
            "_view_module": "@jupyter-widgets/controls",
            "_model_module_version": "1.5.0",
            "_view_count": null,
            "_view_module_version": "1.5.0",
            "box_style": "",
            "layout": "IPY_MODEL_19bca95dd1704168950adecd93d9b556",
            "_model_module": "@jupyter-widgets/controls",
            "children": [
              "IPY_MODEL_a08b6a628e324b9a925eefff948582cb",
              "IPY_MODEL_8136006a681d414aa1aa6e630b6126e4"
            ]
          }
        },
        "19bca95dd1704168950adecd93d9b556": {
          "model_module": "@jupyter-widgets/base",
          "model_name": "LayoutModel",
          "state": {
            "_view_name": "LayoutView",
            "grid_template_rows": null,
            "right": null,
            "justify_content": null,
            "_view_module": "@jupyter-widgets/base",
            "overflow": null,
            "_model_module_version": "1.2.0",
            "_view_count": null,
            "flex_flow": null,
            "width": null,
            "min_width": null,
            "border": null,
            "align_items": null,
            "bottom": null,
            "_model_module": "@jupyter-widgets/base",
            "top": null,
            "grid_column": null,
            "overflow_y": null,
            "overflow_x": null,
            "grid_auto_flow": null,
            "grid_area": null,
            "grid_template_columns": null,
            "flex": null,
            "_model_name": "LayoutModel",
            "justify_items": null,
            "grid_row": null,
            "max_height": null,
            "align_content": null,
            "visibility": null,
            "align_self": null,
            "height": null,
            "min_height": null,
            "padding": null,
            "grid_auto_rows": null,
            "grid_gap": null,
            "max_width": null,
            "order": null,
            "_view_module_version": "1.2.0",
            "grid_template_areas": null,
            "object_position": null,
            "object_fit": null,
            "grid_auto_columns": null,
            "margin": null,
            "display": null,
            "left": null
          }
        },
        "a08b6a628e324b9a925eefff948582cb": {
          "model_module": "@jupyter-widgets/controls",
          "model_name": "FloatProgressModel",
          "state": {
            "_view_name": "ProgressView",
            "style": "IPY_MODEL_e286788360ab44de977f881a277c39d4",
            "_dom_classes": [],
            "description": "epoch 6: 100%",
            "_model_name": "FloatProgressModel",
            "bar_style": "success",
            "max": 133,
            "_view_module": "@jupyter-widgets/controls",
            "_model_module_version": "1.5.0",
            "value": 133,
            "_view_count": null,
            "_view_module_version": "1.5.0",
            "orientation": "horizontal",
            "min": 0,
            "description_tooltip": null,
            "_model_module": "@jupyter-widgets/controls",
            "layout": "IPY_MODEL_6c14c78bb58a4fcdaef657a0def00952"
          }
        },
        "8136006a681d414aa1aa6e630b6126e4": {
          "model_module": "@jupyter-widgets/controls",
          "model_name": "HTMLModel",
          "state": {
            "_view_name": "HTMLView",
            "style": "IPY_MODEL_9e01f94aee9e48fb8c88f0a4e5f4c8f2",
            "_dom_classes": [],
            "description": "",
            "_model_name": "HTMLModel",
            "placeholder": "​",
            "_view_module": "@jupyter-widgets/controls",
            "_model_module_version": "1.5.0",
            "value": " 133/133 [02:35&lt;00:00,  1.17s/instance, train_loss=0.776, train_denotation_acc=0.669, dev_denotation_acc=0.439]",
            "_view_count": null,
            "_view_module_version": "1.5.0",
            "description_tooltip": null,
            "_model_module": "@jupyter-widgets/controls",
            "layout": "IPY_MODEL_3c5b912ab93647f6881afd7a1ca680d3"
          }
        },
        "e286788360ab44de977f881a277c39d4": {
          "model_module": "@jupyter-widgets/controls",
          "model_name": "ProgressStyleModel",
          "state": {
            "_view_name": "StyleView",
            "_model_name": "ProgressStyleModel",
            "description_width": "initial",
            "_view_module": "@jupyter-widgets/base",
            "_model_module_version": "1.5.0",
            "_view_count": null,
            "_view_module_version": "1.2.0",
            "bar_color": null,
            "_model_module": "@jupyter-widgets/controls"
          }
        },
        "6c14c78bb58a4fcdaef657a0def00952": {
          "model_module": "@jupyter-widgets/base",
          "model_name": "LayoutModel",
          "state": {
            "_view_name": "LayoutView",
            "grid_template_rows": null,
            "right": null,
            "justify_content": null,
            "_view_module": "@jupyter-widgets/base",
            "overflow": null,
            "_model_module_version": "1.2.0",
            "_view_count": null,
            "flex_flow": null,
            "width": null,
            "min_width": null,
            "border": null,
            "align_items": null,
            "bottom": null,
            "_model_module": "@jupyter-widgets/base",
            "top": null,
            "grid_column": null,
            "overflow_y": null,
            "overflow_x": null,
            "grid_auto_flow": null,
            "grid_area": null,
            "grid_template_columns": null,
            "flex": null,
            "_model_name": "LayoutModel",
            "justify_items": null,
            "grid_row": null,
            "max_height": null,
            "align_content": null,
            "visibility": null,
            "align_self": null,
            "height": null,
            "min_height": null,
            "padding": null,
            "grid_auto_rows": null,
            "grid_gap": null,
            "max_width": null,
            "order": null,
            "_view_module_version": "1.2.0",
            "grid_template_areas": null,
            "object_position": null,
            "object_fit": null,
            "grid_auto_columns": null,
            "margin": null,
            "display": null,
            "left": null
          }
        },
        "9e01f94aee9e48fb8c88f0a4e5f4c8f2": {
          "model_module": "@jupyter-widgets/controls",
          "model_name": "DescriptionStyleModel",
          "state": {
            "_view_name": "StyleView",
            "_model_name": "DescriptionStyleModel",
            "description_width": "",
            "_view_module": "@jupyter-widgets/base",
            "_model_module_version": "1.5.0",
            "_view_count": null,
            "_view_module_version": "1.2.0",
            "_model_module": "@jupyter-widgets/controls"
          }
        },
        "3c5b912ab93647f6881afd7a1ca680d3": {
          "model_module": "@jupyter-widgets/base",
          "model_name": "LayoutModel",
          "state": {
            "_view_name": "LayoutView",
            "grid_template_rows": null,
            "right": null,
            "justify_content": null,
            "_view_module": "@jupyter-widgets/base",
            "overflow": null,
            "_model_module_version": "1.2.0",
            "_view_count": null,
            "flex_flow": null,
            "width": null,
            "min_width": null,
            "border": null,
            "align_items": null,
            "bottom": null,
            "_model_module": "@jupyter-widgets/base",
            "top": null,
            "grid_column": null,
            "overflow_y": null,
            "overflow_x": null,
            "grid_auto_flow": null,
            "grid_area": null,
            "grid_template_columns": null,
            "flex": null,
            "_model_name": "LayoutModel",
            "justify_items": null,
            "grid_row": null,
            "max_height": null,
            "align_content": null,
            "visibility": null,
            "align_self": null,
            "height": null,
            "min_height": null,
            "padding": null,
            "grid_auto_rows": null,
            "grid_gap": null,
            "max_width": null,
            "order": null,
            "_view_module_version": "1.2.0",
            "grid_template_areas": null,
            "object_position": null,
            "object_fit": null,
            "grid_auto_columns": null,
            "margin": null,
            "display": null,
            "left": null
          }
        },
        "5d8e3107ec6f4976989443dc27f4d036": {
          "model_module": "@jupyter-widgets/controls",
          "model_name": "HBoxModel",
          "state": {
            "_view_name": "HBoxView",
            "_dom_classes": [],
            "_model_name": "HBoxModel",
            "_view_module": "@jupyter-widgets/controls",
            "_model_module_version": "1.5.0",
            "_view_count": null,
            "_view_module_version": "1.5.0",
            "box_style": "",
            "layout": "IPY_MODEL_d3a40e64be18472fac58bf71181e2847",
            "_model_module": "@jupyter-widgets/controls",
            "children": [
              "IPY_MODEL_7133f9794a2e44898cac7b70c4203658",
              "IPY_MODEL_3c97adac6ebb4774b6aff989957b8c24"
            ]
          }
        },
        "d3a40e64be18472fac58bf71181e2847": {
          "model_module": "@jupyter-widgets/base",
          "model_name": "LayoutModel",
          "state": {
            "_view_name": "LayoutView",
            "grid_template_rows": null,
            "right": null,
            "justify_content": null,
            "_view_module": "@jupyter-widgets/base",
            "overflow": null,
            "_model_module_version": "1.2.0",
            "_view_count": null,
            "flex_flow": null,
            "width": null,
            "min_width": null,
            "border": null,
            "align_items": null,
            "bottom": null,
            "_model_module": "@jupyter-widgets/base",
            "top": null,
            "grid_column": null,
            "overflow_y": null,
            "overflow_x": null,
            "grid_auto_flow": null,
            "grid_area": null,
            "grid_template_columns": null,
            "flex": null,
            "_model_name": "LayoutModel",
            "justify_items": null,
            "grid_row": null,
            "max_height": null,
            "align_content": null,
            "visibility": null,
            "align_self": null,
            "height": null,
            "min_height": null,
            "padding": null,
            "grid_auto_rows": null,
            "grid_gap": null,
            "max_width": null,
            "order": null,
            "_view_module_version": "1.2.0",
            "grid_template_areas": null,
            "object_position": null,
            "object_fit": null,
            "grid_auto_columns": null,
            "margin": null,
            "display": null,
            "left": null
          }
        },
        "7133f9794a2e44898cac7b70c4203658": {
          "model_module": "@jupyter-widgets/controls",
          "model_name": "FloatProgressModel",
          "state": {
            "_view_name": "ProgressView",
            "style": "IPY_MODEL_37290a1f18cf446d8893b0873d0b3a84",
            "_dom_classes": [],
            "description": "epoch 7: 100%",
            "_model_name": "FloatProgressModel",
            "bar_style": "success",
            "max": 133,
            "_view_module": "@jupyter-widgets/controls",
            "_model_module_version": "1.5.0",
            "value": 133,
            "_view_count": null,
            "_view_module_version": "1.5.0",
            "orientation": "horizontal",
            "min": 0,
            "description_tooltip": null,
            "_model_module": "@jupyter-widgets/controls",
            "layout": "IPY_MODEL_a91e09ffe0c44a01ac77a90b9a0378c4"
          }
        },
        "3c97adac6ebb4774b6aff989957b8c24": {
          "model_module": "@jupyter-widgets/controls",
          "model_name": "HTMLModel",
          "state": {
            "_view_name": "HTMLView",
            "style": "IPY_MODEL_de98ee2e70364ae2a273bc13d89778ac",
            "_dom_classes": [],
            "description": "",
            "_model_name": "HTMLModel",
            "placeholder": "​",
            "_view_module": "@jupyter-widgets/controls",
            "_model_module_version": "1.5.0",
            "value": " 133/133 [02:10&lt;00:00,  1.02instance/s, train_loss=0.765, train_denotation_acc=0.887, dev_denotation_acc=0.61]",
            "_view_count": null,
            "_view_module_version": "1.5.0",
            "description_tooltip": null,
            "_model_module": "@jupyter-widgets/controls",
            "layout": "IPY_MODEL_49d954238d554b3995fd5e901af9f118"
          }
        },
        "37290a1f18cf446d8893b0873d0b3a84": {
          "model_module": "@jupyter-widgets/controls",
          "model_name": "ProgressStyleModel",
          "state": {
            "_view_name": "StyleView",
            "_model_name": "ProgressStyleModel",
            "description_width": "initial",
            "_view_module": "@jupyter-widgets/base",
            "_model_module_version": "1.5.0",
            "_view_count": null,
            "_view_module_version": "1.2.0",
            "bar_color": null,
            "_model_module": "@jupyter-widgets/controls"
          }
        },
        "a91e09ffe0c44a01ac77a90b9a0378c4": {
          "model_module": "@jupyter-widgets/base",
          "model_name": "LayoutModel",
          "state": {
            "_view_name": "LayoutView",
            "grid_template_rows": null,
            "right": null,
            "justify_content": null,
            "_view_module": "@jupyter-widgets/base",
            "overflow": null,
            "_model_module_version": "1.2.0",
            "_view_count": null,
            "flex_flow": null,
            "width": null,
            "min_width": null,
            "border": null,
            "align_items": null,
            "bottom": null,
            "_model_module": "@jupyter-widgets/base",
            "top": null,
            "grid_column": null,
            "overflow_y": null,
            "overflow_x": null,
            "grid_auto_flow": null,
            "grid_area": null,
            "grid_template_columns": null,
            "flex": null,
            "_model_name": "LayoutModel",
            "justify_items": null,
            "grid_row": null,
            "max_height": null,
            "align_content": null,
            "visibility": null,
            "align_self": null,
            "height": null,
            "min_height": null,
            "padding": null,
            "grid_auto_rows": null,
            "grid_gap": null,
            "max_width": null,
            "order": null,
            "_view_module_version": "1.2.0",
            "grid_template_areas": null,
            "object_position": null,
            "object_fit": null,
            "grid_auto_columns": null,
            "margin": null,
            "display": null,
            "left": null
          }
        },
        "de98ee2e70364ae2a273bc13d89778ac": {
          "model_module": "@jupyter-widgets/controls",
          "model_name": "DescriptionStyleModel",
          "state": {
            "_view_name": "StyleView",
            "_model_name": "DescriptionStyleModel",
            "description_width": "",
            "_view_module": "@jupyter-widgets/base",
            "_model_module_version": "1.5.0",
            "_view_count": null,
            "_view_module_version": "1.2.0",
            "_model_module": "@jupyter-widgets/controls"
          }
        },
        "49d954238d554b3995fd5e901af9f118": {
          "model_module": "@jupyter-widgets/base",
          "model_name": "LayoutModel",
          "state": {
            "_view_name": "LayoutView",
            "grid_template_rows": null,
            "right": null,
            "justify_content": null,
            "_view_module": "@jupyter-widgets/base",
            "overflow": null,
            "_model_module_version": "1.2.0",
            "_view_count": null,
            "flex_flow": null,
            "width": null,
            "min_width": null,
            "border": null,
            "align_items": null,
            "bottom": null,
            "_model_module": "@jupyter-widgets/base",
            "top": null,
            "grid_column": null,
            "overflow_y": null,
            "overflow_x": null,
            "grid_auto_flow": null,
            "grid_area": null,
            "grid_template_columns": null,
            "flex": null,
            "_model_name": "LayoutModel",
            "justify_items": null,
            "grid_row": null,
            "max_height": null,
            "align_content": null,
            "visibility": null,
            "align_self": null,
            "height": null,
            "min_height": null,
            "padding": null,
            "grid_auto_rows": null,
            "grid_gap": null,
            "max_width": null,
            "order": null,
            "_view_module_version": "1.2.0",
            "grid_template_areas": null,
            "object_position": null,
            "object_fit": null,
            "grid_auto_columns": null,
            "margin": null,
            "display": null,
            "left": null
          }
        },
        "735c05a42ac24d8bb1c26ca107ffb256": {
          "model_module": "@jupyter-widgets/controls",
          "model_name": "HBoxModel",
          "state": {
            "_view_name": "HBoxView",
            "_dom_classes": [],
            "_model_name": "HBoxModel",
            "_view_module": "@jupyter-widgets/controls",
            "_model_module_version": "1.5.0",
            "_view_count": null,
            "_view_module_version": "1.5.0",
            "box_style": "",
            "layout": "IPY_MODEL_344dc11b69694956838741407d227028",
            "_model_module": "@jupyter-widgets/controls",
            "children": [
              "IPY_MODEL_efc100fb904c48cba3d15475353113a6",
              "IPY_MODEL_95e7cd78b8914bc292585b14ec39040a"
            ]
          }
        },
        "344dc11b69694956838741407d227028": {
          "model_module": "@jupyter-widgets/base",
          "model_name": "LayoutModel",
          "state": {
            "_view_name": "LayoutView",
            "grid_template_rows": null,
            "right": null,
            "justify_content": null,
            "_view_module": "@jupyter-widgets/base",
            "overflow": null,
            "_model_module_version": "1.2.0",
            "_view_count": null,
            "flex_flow": null,
            "width": null,
            "min_width": null,
            "border": null,
            "align_items": null,
            "bottom": null,
            "_model_module": "@jupyter-widgets/base",
            "top": null,
            "grid_column": null,
            "overflow_y": null,
            "overflow_x": null,
            "grid_auto_flow": null,
            "grid_area": null,
            "grid_template_columns": null,
            "flex": null,
            "_model_name": "LayoutModel",
            "justify_items": null,
            "grid_row": null,
            "max_height": null,
            "align_content": null,
            "visibility": null,
            "align_self": null,
            "height": null,
            "min_height": null,
            "padding": null,
            "grid_auto_rows": null,
            "grid_gap": null,
            "max_width": null,
            "order": null,
            "_view_module_version": "1.2.0",
            "grid_template_areas": null,
            "object_position": null,
            "object_fit": null,
            "grid_auto_columns": null,
            "margin": null,
            "display": null,
            "left": null
          }
        },
        "efc100fb904c48cba3d15475353113a6": {
          "model_module": "@jupyter-widgets/controls",
          "model_name": "FloatProgressModel",
          "state": {
            "_view_name": "ProgressView",
            "style": "IPY_MODEL_f19d26e625e24d56a81c818846254d1c",
            "_dom_classes": [],
            "description": "epoch 8: 100%",
            "_model_name": "FloatProgressModel",
            "bar_style": "success",
            "max": 133,
            "_view_module": "@jupyter-widgets/controls",
            "_model_module_version": "1.5.0",
            "value": 133,
            "_view_count": null,
            "_view_module_version": "1.5.0",
            "orientation": "horizontal",
            "min": 0,
            "description_tooltip": null,
            "_model_module": "@jupyter-widgets/controls",
            "layout": "IPY_MODEL_543da8fe27be41f187245a9a204f08c9"
          }
        },
        "95e7cd78b8914bc292585b14ec39040a": {
          "model_module": "@jupyter-widgets/controls",
          "model_name": "HTMLModel",
          "state": {
            "_view_name": "HTMLView",
            "style": "IPY_MODEL_7d18f768f6e146e19b46f20ef06122ea",
            "_dom_classes": [],
            "description": "",
            "_model_name": "HTMLModel",
            "placeholder": "​",
            "_view_module": "@jupyter-widgets/controls",
            "_model_module_version": "1.5.0",
            "value": " 133/133 [02:18&lt;00:00,  1.04s/instance, train_loss=0.666, train_denotation_acc=0.842, dev_denotation_acc=0.634]",
            "_view_count": null,
            "_view_module_version": "1.5.0",
            "description_tooltip": null,
            "_model_module": "@jupyter-widgets/controls",
            "layout": "IPY_MODEL_ae63b3a2f7304ca8ac66b928358ef8cd"
          }
        },
        "f19d26e625e24d56a81c818846254d1c": {
          "model_module": "@jupyter-widgets/controls",
          "model_name": "ProgressStyleModel",
          "state": {
            "_view_name": "StyleView",
            "_model_name": "ProgressStyleModel",
            "description_width": "initial",
            "_view_module": "@jupyter-widgets/base",
            "_model_module_version": "1.5.0",
            "_view_count": null,
            "_view_module_version": "1.2.0",
            "bar_color": null,
            "_model_module": "@jupyter-widgets/controls"
          }
        },
        "543da8fe27be41f187245a9a204f08c9": {
          "model_module": "@jupyter-widgets/base",
          "model_name": "LayoutModel",
          "state": {
            "_view_name": "LayoutView",
            "grid_template_rows": null,
            "right": null,
            "justify_content": null,
            "_view_module": "@jupyter-widgets/base",
            "overflow": null,
            "_model_module_version": "1.2.0",
            "_view_count": null,
            "flex_flow": null,
            "width": null,
            "min_width": null,
            "border": null,
            "align_items": null,
            "bottom": null,
            "_model_module": "@jupyter-widgets/base",
            "top": null,
            "grid_column": null,
            "overflow_y": null,
            "overflow_x": null,
            "grid_auto_flow": null,
            "grid_area": null,
            "grid_template_columns": null,
            "flex": null,
            "_model_name": "LayoutModel",
            "justify_items": null,
            "grid_row": null,
            "max_height": null,
            "align_content": null,
            "visibility": null,
            "align_self": null,
            "height": null,
            "min_height": null,
            "padding": null,
            "grid_auto_rows": null,
            "grid_gap": null,
            "max_width": null,
            "order": null,
            "_view_module_version": "1.2.0",
            "grid_template_areas": null,
            "object_position": null,
            "object_fit": null,
            "grid_auto_columns": null,
            "margin": null,
            "display": null,
            "left": null
          }
        },
        "7d18f768f6e146e19b46f20ef06122ea": {
          "model_module": "@jupyter-widgets/controls",
          "model_name": "DescriptionStyleModel",
          "state": {
            "_view_name": "StyleView",
            "_model_name": "DescriptionStyleModel",
            "description_width": "",
            "_view_module": "@jupyter-widgets/base",
            "_model_module_version": "1.5.0",
            "_view_count": null,
            "_view_module_version": "1.2.0",
            "_model_module": "@jupyter-widgets/controls"
          }
        },
        "ae63b3a2f7304ca8ac66b928358ef8cd": {
          "model_module": "@jupyter-widgets/base",
          "model_name": "LayoutModel",
          "state": {
            "_view_name": "LayoutView",
            "grid_template_rows": null,
            "right": null,
            "justify_content": null,
            "_view_module": "@jupyter-widgets/base",
            "overflow": null,
            "_model_module_version": "1.2.0",
            "_view_count": null,
            "flex_flow": null,
            "width": null,
            "min_width": null,
            "border": null,
            "align_items": null,
            "bottom": null,
            "_model_module": "@jupyter-widgets/base",
            "top": null,
            "grid_column": null,
            "overflow_y": null,
            "overflow_x": null,
            "grid_auto_flow": null,
            "grid_area": null,
            "grid_template_columns": null,
            "flex": null,
            "_model_name": "LayoutModel",
            "justify_items": null,
            "grid_row": null,
            "max_height": null,
            "align_content": null,
            "visibility": null,
            "align_self": null,
            "height": null,
            "min_height": null,
            "padding": null,
            "grid_auto_rows": null,
            "grid_gap": null,
            "max_width": null,
            "order": null,
            "_view_module_version": "1.2.0",
            "grid_template_areas": null,
            "object_position": null,
            "object_fit": null,
            "grid_auto_columns": null,
            "margin": null,
            "display": null,
            "left": null
          }
        },
        "f6fd2cf5505a49418423acb829bc3408": {
          "model_module": "@jupyter-widgets/controls",
          "model_name": "HBoxModel",
          "state": {
            "_view_name": "HBoxView",
            "_dom_classes": [],
            "_model_name": "HBoxModel",
            "_view_module": "@jupyter-widgets/controls",
            "_model_module_version": "1.5.0",
            "_view_count": null,
            "_view_module_version": "1.5.0",
            "box_style": "",
            "layout": "IPY_MODEL_23d8e3dd68374eaa9e3701a727c09ca7",
            "_model_module": "@jupyter-widgets/controls",
            "children": [
              "IPY_MODEL_d8d946a5f35f4dce8946b81af7e4fe45",
              "IPY_MODEL_a2edcc27ff4a45868d3ac7cbe2b42c52"
            ]
          }
        },
        "23d8e3dd68374eaa9e3701a727c09ca7": {
          "model_module": "@jupyter-widgets/base",
          "model_name": "LayoutModel",
          "state": {
            "_view_name": "LayoutView",
            "grid_template_rows": null,
            "right": null,
            "justify_content": null,
            "_view_module": "@jupyter-widgets/base",
            "overflow": null,
            "_model_module_version": "1.2.0",
            "_view_count": null,
            "flex_flow": null,
            "width": null,
            "min_width": null,
            "border": null,
            "align_items": null,
            "bottom": null,
            "_model_module": "@jupyter-widgets/base",
            "top": null,
            "grid_column": null,
            "overflow_y": null,
            "overflow_x": null,
            "grid_auto_flow": null,
            "grid_area": null,
            "grid_template_columns": null,
            "flex": null,
            "_model_name": "LayoutModel",
            "justify_items": null,
            "grid_row": null,
            "max_height": null,
            "align_content": null,
            "visibility": null,
            "align_self": null,
            "height": null,
            "min_height": null,
            "padding": null,
            "grid_auto_rows": null,
            "grid_gap": null,
            "max_width": null,
            "order": null,
            "_view_module_version": "1.2.0",
            "grid_template_areas": null,
            "object_position": null,
            "object_fit": null,
            "grid_auto_columns": null,
            "margin": null,
            "display": null,
            "left": null
          }
        },
        "d8d946a5f35f4dce8946b81af7e4fe45": {
          "model_module": "@jupyter-widgets/controls",
          "model_name": "FloatProgressModel",
          "state": {
            "_view_name": "ProgressView",
            "style": "IPY_MODEL_fdc4a8c2afee43818d1738bab2a27b7b",
            "_dom_classes": [],
            "description": "epoch 9: 100%",
            "_model_name": "FloatProgressModel",
            "bar_style": "success",
            "max": 133,
            "_view_module": "@jupyter-widgets/controls",
            "_model_module_version": "1.5.0",
            "value": 133,
            "_view_count": null,
            "_view_module_version": "1.5.0",
            "orientation": "horizontal",
            "min": 0,
            "description_tooltip": null,
            "_model_module": "@jupyter-widgets/controls",
            "layout": "IPY_MODEL_1f4db84d50734be89c7f9890286c3475"
          }
        },
        "a2edcc27ff4a45868d3ac7cbe2b42c52": {
          "model_module": "@jupyter-widgets/controls",
          "model_name": "HTMLModel",
          "state": {
            "_view_name": "HTMLView",
            "style": "IPY_MODEL_e55c7b21da464efeab36a53f05980da3",
            "_dom_classes": [],
            "description": "",
            "_model_name": "HTMLModel",
            "placeholder": "​",
            "_view_module": "@jupyter-widgets/controls",
            "_model_module_version": "1.5.0",
            "value": " 133/133 [02:21&lt;00:00,  1.06s/instance, train_loss=0.669, train_denotation_acc=0.82, dev_denotation_acc=0.61]",
            "_view_count": null,
            "_view_module_version": "1.5.0",
            "description_tooltip": null,
            "_model_module": "@jupyter-widgets/controls",
            "layout": "IPY_MODEL_685c442c4f6a49a894e64bf5955a416d"
          }
        },
        "fdc4a8c2afee43818d1738bab2a27b7b": {
          "model_module": "@jupyter-widgets/controls",
          "model_name": "ProgressStyleModel",
          "state": {
            "_view_name": "StyleView",
            "_model_name": "ProgressStyleModel",
            "description_width": "initial",
            "_view_module": "@jupyter-widgets/base",
            "_model_module_version": "1.5.0",
            "_view_count": null,
            "_view_module_version": "1.2.0",
            "bar_color": null,
            "_model_module": "@jupyter-widgets/controls"
          }
        },
        "1f4db84d50734be89c7f9890286c3475": {
          "model_module": "@jupyter-widgets/base",
          "model_name": "LayoutModel",
          "state": {
            "_view_name": "LayoutView",
            "grid_template_rows": null,
            "right": null,
            "justify_content": null,
            "_view_module": "@jupyter-widgets/base",
            "overflow": null,
            "_model_module_version": "1.2.0",
            "_view_count": null,
            "flex_flow": null,
            "width": null,
            "min_width": null,
            "border": null,
            "align_items": null,
            "bottom": null,
            "_model_module": "@jupyter-widgets/base",
            "top": null,
            "grid_column": null,
            "overflow_y": null,
            "overflow_x": null,
            "grid_auto_flow": null,
            "grid_area": null,
            "grid_template_columns": null,
            "flex": null,
            "_model_name": "LayoutModel",
            "justify_items": null,
            "grid_row": null,
            "max_height": null,
            "align_content": null,
            "visibility": null,
            "align_self": null,
            "height": null,
            "min_height": null,
            "padding": null,
            "grid_auto_rows": null,
            "grid_gap": null,
            "max_width": null,
            "order": null,
            "_view_module_version": "1.2.0",
            "grid_template_areas": null,
            "object_position": null,
            "object_fit": null,
            "grid_auto_columns": null,
            "margin": null,
            "display": null,
            "left": null
          }
        },
        "e55c7b21da464efeab36a53f05980da3": {
          "model_module": "@jupyter-widgets/controls",
          "model_name": "DescriptionStyleModel",
          "state": {
            "_view_name": "StyleView",
            "_model_name": "DescriptionStyleModel",
            "description_width": "",
            "_view_module": "@jupyter-widgets/base",
            "_model_module_version": "1.5.0",
            "_view_count": null,
            "_view_module_version": "1.2.0",
            "_model_module": "@jupyter-widgets/controls"
          }
        },
        "685c442c4f6a49a894e64bf5955a416d": {
          "model_module": "@jupyter-widgets/base",
          "model_name": "LayoutModel",
          "state": {
            "_view_name": "LayoutView",
            "grid_template_rows": null,
            "right": null,
            "justify_content": null,
            "_view_module": "@jupyter-widgets/base",
            "overflow": null,
            "_model_module_version": "1.2.0",
            "_view_count": null,
            "flex_flow": null,
            "width": null,
            "min_width": null,
            "border": null,
            "align_items": null,
            "bottom": null,
            "_model_module": "@jupyter-widgets/base",
            "top": null,
            "grid_column": null,
            "overflow_y": null,
            "overflow_x": null,
            "grid_auto_flow": null,
            "grid_area": null,
            "grid_template_columns": null,
            "flex": null,
            "_model_name": "LayoutModel",
            "justify_items": null,
            "grid_row": null,
            "max_height": null,
            "align_content": null,
            "visibility": null,
            "align_self": null,
            "height": null,
            "min_height": null,
            "padding": null,
            "grid_auto_rows": null,
            "grid_gap": null,
            "max_width": null,
            "order": null,
            "_view_module_version": "1.2.0",
            "grid_template_areas": null,
            "object_position": null,
            "object_fit": null,
            "grid_auto_columns": null,
            "margin": null,
            "display": null,
            "left": null
          }
        },
        "41ffd10d74274aa3a3925e793d2f21c7": {
          "model_module": "@jupyter-widgets/controls",
          "model_name": "HBoxModel",
          "state": {
            "_view_name": "HBoxView",
            "_dom_classes": [],
            "_model_name": "HBoxModel",
            "_view_module": "@jupyter-widgets/controls",
            "_model_module_version": "1.5.0",
            "_view_count": null,
            "_view_module_version": "1.5.0",
            "box_style": "",
            "layout": "IPY_MODEL_34e617ec009d42f2bf45c14316458c5d",
            "_model_module": "@jupyter-widgets/controls",
            "children": [
              "IPY_MODEL_ca0756b4e1564e00b798aa0c7fc6e464",
              "IPY_MODEL_02de1e73a07a43aa916e5652d1878db0"
            ]
          }
        },
        "34e617ec009d42f2bf45c14316458c5d": {
          "model_module": "@jupyter-widgets/base",
          "model_name": "LayoutModel",
          "state": {
            "_view_name": "LayoutView",
            "grid_template_rows": null,
            "right": null,
            "justify_content": null,
            "_view_module": "@jupyter-widgets/base",
            "overflow": null,
            "_model_module_version": "1.2.0",
            "_view_count": null,
            "flex_flow": null,
            "width": null,
            "min_width": null,
            "border": null,
            "align_items": null,
            "bottom": null,
            "_model_module": "@jupyter-widgets/base",
            "top": null,
            "grid_column": null,
            "overflow_y": null,
            "overflow_x": null,
            "grid_auto_flow": null,
            "grid_area": null,
            "grid_template_columns": null,
            "flex": null,
            "_model_name": "LayoutModel",
            "justify_items": null,
            "grid_row": null,
            "max_height": null,
            "align_content": null,
            "visibility": null,
            "align_self": null,
            "height": null,
            "min_height": null,
            "padding": null,
            "grid_auto_rows": null,
            "grid_gap": null,
            "max_width": null,
            "order": null,
            "_view_module_version": "1.2.0",
            "grid_template_areas": null,
            "object_position": null,
            "object_fit": null,
            "grid_auto_columns": null,
            "margin": null,
            "display": null,
            "left": null
          }
        },
        "ca0756b4e1564e00b798aa0c7fc6e464": {
          "model_module": "@jupyter-widgets/controls",
          "model_name": "FloatProgressModel",
          "state": {
            "_view_name": "ProgressView",
            "style": "IPY_MODEL_67355965ff8a4a84990a42fb4f4845d4",
            "_dom_classes": [],
            "description": "epoch 10: 100%",
            "_model_name": "FloatProgressModel",
            "bar_style": "success",
            "max": 133,
            "_view_module": "@jupyter-widgets/controls",
            "_model_module_version": "1.5.0",
            "value": 133,
            "_view_count": null,
            "_view_module_version": "1.5.0",
            "orientation": "horizontal",
            "min": 0,
            "description_tooltip": null,
            "_model_module": "@jupyter-widgets/controls",
            "layout": "IPY_MODEL_5f0fbb94e7a74f4e8c6773cf4cb4e002"
          }
        },
        "02de1e73a07a43aa916e5652d1878db0": {
          "model_module": "@jupyter-widgets/controls",
          "model_name": "HTMLModel",
          "state": {
            "_view_name": "HTMLView",
            "style": "IPY_MODEL_b1a1fa07cddb4cb6a2198e76a39d1652",
            "_dom_classes": [],
            "description": "",
            "_model_name": "HTMLModel",
            "placeholder": "​",
            "_view_module": "@jupyter-widgets/controls",
            "_model_module_version": "1.5.0",
            "value": " 133/133 [02:11&lt;00:00,  1.01instance/s, train_loss=0.571, train_denotation_acc=0.865, dev_denotation_acc=0.585]",
            "_view_count": null,
            "_view_module_version": "1.5.0",
            "description_tooltip": null,
            "_model_module": "@jupyter-widgets/controls",
            "layout": "IPY_MODEL_054c549553334b0c919de96fe89950ef"
          }
        },
        "67355965ff8a4a84990a42fb4f4845d4": {
          "model_module": "@jupyter-widgets/controls",
          "model_name": "ProgressStyleModel",
          "state": {
            "_view_name": "StyleView",
            "_model_name": "ProgressStyleModel",
            "description_width": "initial",
            "_view_module": "@jupyter-widgets/base",
            "_model_module_version": "1.5.0",
            "_view_count": null,
            "_view_module_version": "1.2.0",
            "bar_color": null,
            "_model_module": "@jupyter-widgets/controls"
          }
        },
        "5f0fbb94e7a74f4e8c6773cf4cb4e002": {
          "model_module": "@jupyter-widgets/base",
          "model_name": "LayoutModel",
          "state": {
            "_view_name": "LayoutView",
            "grid_template_rows": null,
            "right": null,
            "justify_content": null,
            "_view_module": "@jupyter-widgets/base",
            "overflow": null,
            "_model_module_version": "1.2.0",
            "_view_count": null,
            "flex_flow": null,
            "width": null,
            "min_width": null,
            "border": null,
            "align_items": null,
            "bottom": null,
            "_model_module": "@jupyter-widgets/base",
            "top": null,
            "grid_column": null,
            "overflow_y": null,
            "overflow_x": null,
            "grid_auto_flow": null,
            "grid_area": null,
            "grid_template_columns": null,
            "flex": null,
            "_model_name": "LayoutModel",
            "justify_items": null,
            "grid_row": null,
            "max_height": null,
            "align_content": null,
            "visibility": null,
            "align_self": null,
            "height": null,
            "min_height": null,
            "padding": null,
            "grid_auto_rows": null,
            "grid_gap": null,
            "max_width": null,
            "order": null,
            "_view_module_version": "1.2.0",
            "grid_template_areas": null,
            "object_position": null,
            "object_fit": null,
            "grid_auto_columns": null,
            "margin": null,
            "display": null,
            "left": null
          }
        },
        "b1a1fa07cddb4cb6a2198e76a39d1652": {
          "model_module": "@jupyter-widgets/controls",
          "model_name": "DescriptionStyleModel",
          "state": {
            "_view_name": "StyleView",
            "_model_name": "DescriptionStyleModel",
            "description_width": "",
            "_view_module": "@jupyter-widgets/base",
            "_model_module_version": "1.5.0",
            "_view_count": null,
            "_view_module_version": "1.2.0",
            "_model_module": "@jupyter-widgets/controls"
          }
        },
        "054c549553334b0c919de96fe89950ef": {
          "model_module": "@jupyter-widgets/base",
          "model_name": "LayoutModel",
          "state": {
            "_view_name": "LayoutView",
            "grid_template_rows": null,
            "right": null,
            "justify_content": null,
            "_view_module": "@jupyter-widgets/base",
            "overflow": null,
            "_model_module_version": "1.2.0",
            "_view_count": null,
            "flex_flow": null,
            "width": null,
            "min_width": null,
            "border": null,
            "align_items": null,
            "bottom": null,
            "_model_module": "@jupyter-widgets/base",
            "top": null,
            "grid_column": null,
            "overflow_y": null,
            "overflow_x": null,
            "grid_auto_flow": null,
            "grid_area": null,
            "grid_template_columns": null,
            "flex": null,
            "_model_name": "LayoutModel",
            "justify_items": null,
            "grid_row": null,
            "max_height": null,
            "align_content": null,
            "visibility": null,
            "align_self": null,
            "height": null,
            "min_height": null,
            "padding": null,
            "grid_auto_rows": null,
            "grid_gap": null,
            "max_width": null,
            "order": null,
            "_view_module_version": "1.2.0",
            "grid_template_areas": null,
            "object_position": null,
            "object_fit": null,
            "grid_auto_columns": null,
            "margin": null,
            "display": null,
            "left": null
          }
        }
      }
    }
  },
  "cells": [
    {
      "cell_type": "markdown",
      "metadata": {
        "id": "CeUOYktpXtOz",
        "colab_type": "text"
      },
      "source": [
        "# Project 4: Semantic Parsing"
      ]
    },
    {
      "cell_type": "markdown",
      "metadata": {
        "id": "XFEIwsqI7YKR",
        "colab_type": "text"
      },
      "source": [
        "This project will have you implement a neural semantic parser for the GeoQA dataset of [Krishnamurthy and Kollar, 2013](http://rtw.ml.cmu.edu/tacl2013_lsp/tacl2013-krishnamurthy-kollar.pdf), which consists of a database of simple geographic facts about 10 US states, questions and answers about the database, and annotated logical forms for the questions. Your final system will go from natural language questions to their answers, computed from the database, via logical forms that are executed on the database. \n",
        "\n",
        "First, you'll implement a method for executing logical forms on the database. Then, you'll implement some components of a constrained sequence-to-sequence model for producing logical forms from questions. You will train it using paired questions and logical forms. Then, you will train it from questions-answer pairs, by searching over latent logical forms."
      ]
    },
    {
      "cell_type": "markdown",
      "metadata": {
        "id": "FEF2PcoBc97Q",
        "colab_type": "text"
      },
      "source": [
        "Note: this dataset is small enough that we will be able to train on CPU; you don't need a GPU instance."
      ]
    },
    {
      "cell_type": "markdown",
      "metadata": {
        "id": "acPh_4GwYID0",
        "colab_type": "text"
      },
      "source": [
        "## Setup"
      ]
    },
    {
      "cell_type": "markdown",
      "metadata": {
        "id": "c7cggO7mjZ5L",
        "colab_type": "text"
      },
      "source": [
        "The dependencies for this project include:\n",
        "* `torch` for modeling and training\n",
        "* `sexpdata` for loading logical forms from [S-expressions](https://en.wikipedia.org/wiki/S-expression)\n",
        "* `geoqa`: support code for loading and preprocessing the GeoQA database, evaluating predicted answers, and support code, available at this [github repo](https://github.com/dpfried/geoqa-release) (although you can treat the code as a black box and not worry about the details)."
      ]
    },
    {
      "cell_type": "code",
      "metadata": {
        "id": "FjPOhBQs6-IQ",
        "colab_type": "code",
        "colab": {}
      },
      "source": [
        "%%capture\n",
        "!pip install --upgrade torch tqdm sexpdata\n",
        "# this provides the packages available here: https://github.com/dpfried/geoqa-release\n",
        "!wget https://github.com/dpfried/geoqa-release/archive/master.zip -O geoqa.zip\n",
        "!unzip geoqa.zip\n",
        "!rm geoqa.zip\n",
        "!mv geoqa-release-master/data.tgz .\n",
        "!mv geoqa-release-master/geoqa .\n",
        "!mv geoqa-release-master/vecs .\n",
        "!rm -r geoqa-release-master\n",
        "!tar xf data.tgz\n",
        "\n",
        "# Standard library imports\n",
        "import math\n",
        "import random\n",
        "import pprint\n",
        "import pickle\n",
        "from typing import Union, List, Set, Tuple\n",
        "from collections import namedtuple\n",
        "\n",
        "# Third party imports\n",
        "import editdistance\n",
        "import matplotlib.pyplot as plt\n",
        "import numpy as np\n",
        "import torch\n",
        "import time\n",
        "import torch.nn as nn\n",
        "import tqdm.notebook\n",
        "import sexpdata\n",
        "\n",
        "from torch.nn.utils.rnn import pad_sequence\n",
        "from torch.utils.data import Dataset, DataLoader\n",
        "\n",
        "# geoqa imports; we'll examine these shortly\n",
        "import geoqa\n",
        "import geoqa.geo\n",
        "import geoqa.utils\n",
        "\n",
        "from geoqa.utils import Stack, Index, logical_form_to_str\n",
        "from geoqa.geo import STATES, World\n",
        "from geoqa.geo import CATS, RELS, ENTITY_ACTIONS_TO_ENTITIES\n",
        "from geoqa.geo import LAMBDA, EXISTS, AND, VARS, MAX_LITERALS\n",
        "from geoqa.dataset import GeoDataset\n",
        "from geoqa.evaluation import evaluate_predictions\n",
        "\n",
        "BIG_NEG = -1e9"
      ],
      "execution_count": 0,
      "outputs": []
    },
    {
      "cell_type": "markdown",
      "metadata": {
        "id": "tOcjFTuVYI6C",
        "colab_type": "text"
      },
      "source": [
        "## Data"
      ]
    },
    {
      "cell_type": "markdown",
      "metadata": {
        "id": "cv81fe200KlE",
        "colab_type": "text"
      },
      "source": [
        "First, let's examine the dataset. GeoQA contains 10 databases, one for each of 10 states."
      ]
    },
    {
      "cell_type": "code",
      "metadata": {
        "id": "4uPT-oz40gYQ",
        "colab_type": "code",
        "outputId": "656029ea-3530-4192-b3f1-5131bb6114af",
        "colab": {
          "base_uri": "https://localhost:8080/",
          "height": 34
        }
      },
      "source": [
        "STATES"
      ],
      "execution_count": 277,
      "outputs": [
        {
          "output_type": "execute_result",
          "data": {
            "text/plain": [
              "['fl', 'ga', 'mi', 'nc', 'ok', 'pa', 'sc', 'tn', 'va', 'wv']"
            ]
          },
          "metadata": {
            "tags": []
          },
          "execution_count": 277
        }
      ]
    },
    {
      "cell_type": "code",
      "metadata": {
        "id": "DLv68jB2y6Rc",
        "colab_type": "code",
        "colab": {}
      },
      "source": [
        "DEV_STATES = [\"va\", \"wv\"]\n",
        "TEST_STATES = [\"fl\", \"ga\"]\n",
        "TRAIN_STATES = [env for env in STATES if env not in DEV_STATES + TEST_STATES]"
      ],
      "execution_count": 0,
      "outputs": []
    },
    {
      "cell_type": "markdown",
      "metadata": {
        "id": "W_zKfbxB4sHC",
        "colab_type": "text"
      },
      "source": [
        "A database consists of a set of entities, and a collection of facts about these entities. Facts are either categories, which are unary predicates on entities, or relations, which are binary predicates between entity pairs."
      ]
    },
    {
      "cell_type": "code",
      "metadata": {
        "id": "131kc8aj5ySe",
        "colab_type": "code",
        "outputId": "271cea7d-dcff-4c95-a559-7c9f055ff806",
        "colab": {
          "base_uri": "https://localhost:8080/",
          "height": 34
        }
      },
      "source": [
        "# all possible categories that can be used across states\n",
        "' '.join(CATS)"
      ],
      "execution_count": 279,
      "outputs": [
        {
          "output_type": "execute_result",
          "data": {
            "text/plain": [
              "'city state park island beach ocean lake forest major peninsula capital body water salt fresh place'"
            ]
          },
          "metadata": {
            "tags": []
          },
          "execution_count": 279
        }
      ]
    },
    {
      "cell_type": "code",
      "metadata": {
        "id": "qeDYWJ_k52YP",
        "colab_type": "code",
        "outputId": "422c2e0e-5f40-468c-d7a7-821bcb11c128",
        "colab": {
          "base_uri": "https://localhost:8080/",
          "height": 54
        }
      },
      "source": [
        "# all possible relations that can be used across states\n",
        "' '.join(RELS)"
      ],
      "execution_count": 280,
      "outputs": [
        {
          "output_type": "execute_result",
          "data": {
            "text/plain": [
              "'in-rel on-rel north-rel south-rel east-rel west-rel northeast-rel southeast-rel southwest-rel northwest-rel border-rel capital-rel near-rel close-rel surround-rel bigger-rel abut-rel along-rel inside-rel contain-rel'"
            ]
          },
          "metadata": {
            "tags": []
          },
          "execution_count": 280
        }
      ]
    },
    {
      "cell_type": "markdown",
      "metadata": {
        "id": "aeznyh2p55d7",
        "colab_type": "text"
      },
      "source": [
        "Not all categories and relations will be used in a given database; but here are a representation of the entities, categories, and relations for one state. This dataset is quite small, and the state data below represents one of the larger databases."
      ]
    },
    {
      "cell_type": "code",
      "metadata": {
        "id": "CJHntYwQ1XVs",
        "colab_type": "code",
        "outputId": "86bd88bc-35bf-487b-8a45-2144dd9e04c8",
        "colab": {
          "base_uri": "https://localhost:8080/",
          "height": 1000
        }
      },
      "source": [
        "world = geoqa.geo.read_world(\"va\")\n",
        "world.print()"
      ],
      "execution_count": 281,
      "outputs": [
        {
          "output_type": "stream",
          "text": [
            "name: va\n",
            "entities:\n",
            "\tvirginia\n",
            "\tvirginia_beach\n",
            "\trichmond\n",
            "\tatlantic_ocean\n",
            "\twest_virginia\n",
            "\tnorth_carolina\n",
            "categories:\n",
            "\tcity(virginia_beach)\n",
            "\tcity(richmond)\n",
            "\tstate(virginia)\n",
            "\tstate(west_virginia)\n",
            "\tstate(north_carolina)\n",
            "\tocean(atlantic_ocean)\n",
            "relations:\n",
            "\tin-rel(virginia_beach, virginia)\n",
            "\tin-rel(richmond, virginia)\n",
            "\ton-rel(virginia, atlantic_ocean)\n",
            "\ton-rel(virginia_beach, atlantic_ocean)\n",
            "\ton-rel(west_virginia, atlantic_ocean)\n",
            "\ton-rel(north_carolina, atlantic_ocean)\n",
            "\tsouth-rel(virginia, west_virginia)\n",
            "\tsouth-rel(north_carolina, virginia)\n",
            "\tsouth-rel(north_carolina, virginia_beach)\n",
            "\tsouth-rel(north_carolina, richmond)\n",
            "\teast-rel(virginia, west_virginia)\n",
            "\teast-rel(virginia_beach, richmond)\n",
            "\teast-rel(atlantic_ocean, virginia)\n",
            "\teast-rel(atlantic_ocean, virginia_beach)\n",
            "\teast-rel(atlantic_ocean, richmond)\n",
            "\teast-rel(atlantic_ocean, west_virginia)\n",
            "\teast-rel(atlantic_ocean, north_carolina)\n",
            "\twest-rel(virginia, atlantic_ocean)\n",
            "\twest-rel(virginia_beach, atlantic_ocean)\n",
            "\twest-rel(richmond, virginia_beach)\n",
            "\twest-rel(richmond, atlantic_ocean)\n",
            "\twest-rel(west_virginia, virginia)\n",
            "\twest-rel(north_carolina, atlantic_ocean)\n",
            "\tsoutheast-rel(virginia, west_virginia)\n",
            "\tsoutheast-rel(virginia_beach, richmond)\n",
            "\tsoutheast-rel(atlantic_ocean, virginia)\n",
            "\tsoutheast-rel(atlantic_ocean, north_carolina)\n",
            "\tborder-rel(virginia, atlantic_ocean)\n",
            "\tborder-rel(virginia, west_virginia)\n",
            "\tborder-rel(virginia, north_carolina)\n",
            "\tborder-rel(virginia_beach, atlantic_ocean)\n",
            "\tborder-rel(atlantic_ocean, virginia)\n",
            "\tborder-rel(atlantic_ocean, virginia_beach)\n",
            "\tborder-rel(atlantic_ocean, west_virginia)\n",
            "\tborder-rel(atlantic_ocean, north_carolina)\n",
            "\tborder-rel(west_virginia, virginia)\n",
            "\tborder-rel(west_virginia, atlantic_ocean)\n",
            "\tborder-rel(north_carolina, virginia)\n",
            "\tborder-rel(north_carolina, atlantic_ocean)\n",
            "\tcapital-rel(richmond, virginia)\n",
            "\tnear-rel(virginia, atlantic_ocean)\n",
            "\tnear-rel(virginia, west_virginia)\n",
            "\tnear-rel(virginia, north_carolina)\n",
            "\tnear-rel(virginia_beach, richmond)\n",
            "\tnear-rel(virginia_beach, atlantic_ocean)\n",
            "\tnear-rel(virginia_beach, north_carolina)\n",
            "\tnear-rel(richmond, virginia_beach)\n",
            "\tnear-rel(atlantic_ocean, virginia)\n",
            "\tnear-rel(atlantic_ocean, virginia_beach)\n",
            "\tnear-rel(atlantic_ocean, north_carolina)\n",
            "\tnear-rel(west_virginia, virginia)\n",
            "\tnear-rel(north_carolina, virginia)\n",
            "\tnear-rel(north_carolina, virginia_beach)\n",
            "\tnear-rel(north_carolina, atlantic_ocean)\n",
            "\tabut-rel(virginia, atlantic_ocean)\n",
            "\tabut-rel(virginia, west_virginia)\n",
            "\tabut-rel(virginia, north_carolina)\n",
            "\tabut-rel(virginia_beach, atlantic_ocean)\n",
            "\tabut-rel(atlantic_ocean, virginia)\n",
            "\tabut-rel(atlantic_ocean, virginia_beach)\n",
            "\tabut-rel(atlantic_ocean, north_carolina)\n",
            "\tabut-rel(west_virginia, virginia)\n",
            "\tabut-rel(north_carolina, virginia)\n",
            "\tabut-rel(north_carolina, atlantic_ocean)\n",
            "\talong-rel(virginia, atlantic_ocean)\n",
            "\talong-rel(virginia_beach, atlantic_ocean)\n",
            "\talong-rel(west_virginia, atlantic_ocean)\n",
            "\talong-rel(north_carolina, atlantic_ocean)\n",
            "\tinside-rel(virginia_beach, virginia)\n",
            "\tinside-rel(richmond, virginia)\n",
            "\tcontain-rel(virginia, virginia_beach)\n",
            "\tcontain-rel(virginia, richmond)\n"
          ],
          "name": "stdout"
        }
      ]
    },
    {
      "cell_type": "markdown",
      "metadata": {
        "id": "5Vn6mqMc0nio",
        "colab_type": "text"
      },
      "source": [
        "Each state has a set of question-answer pairs, with an associated logical form for each question."
      ]
    },
    {
      "cell_type": "code",
      "metadata": {
        "id": "t1LU0bazywMw",
        "colab_type": "code",
        "colab": {}
      },
      "source": [
        "questions, answers, logical_forms = geoqa.geo.read_data(\"va\")\n",
        "\n",
        "instance_index = 10"
      ],
      "execution_count": 0,
      "outputs": []
    },
    {
      "cell_type": "code",
      "metadata": {
        "id": "lAyAMRVf0x8r",
        "colab_type": "code",
        "outputId": "2e440d41-9ea7-4ab2-dfd1-5b46e1078a87",
        "colab": {
          "base_uri": "https://localhost:8080/",
          "height": 34
        }
      },
      "source": [
        "questions[instance_index]"
      ],
      "execution_count": 283,
      "outputs": [
        {
          "output_type": "execute_result",
          "data": {
            "text/plain": [
              "'what cities are in virginia ?'"
            ]
          },
          "metadata": {
            "tags": []
          },
          "execution_count": 283
        }
      ]
    },
    {
      "cell_type": "markdown",
      "metadata": {
        "id": "RT4WajPfGHdk",
        "colab_type": "text"
      },
      "source": [
        "Each answer is a set of entities from the database:"
      ]
    },
    {
      "cell_type": "code",
      "metadata": {
        "id": "IuW8g2E500VF",
        "colab_type": "code",
        "outputId": "b9fb8ab6-d429-45a6-bdb1-c5c4cbe553ac",
        "colab": {
          "base_uri": "https://localhost:8080/",
          "height": 34
        }
      },
      "source": [
        "answers[instance_index]"
      ],
      "execution_count": 284,
      "outputs": [
        {
          "output_type": "execute_result",
          "data": {
            "text/plain": [
              "'virginia_beach,richmond'"
            ]
          },
          "metadata": {
            "tags": []
          },
          "execution_count": 284
        }
      ]
    },
    {
      "cell_type": "markdown",
      "metadata": {
        "id": "dXDjQFKZ067q",
        "colab_type": "text"
      },
      "source": [
        "Logical forms are lambda calculus functions represented as tuples:"
      ]
    },
    {
      "cell_type": "code",
      "metadata": {
        "id": "sF0G35Hz04-L",
        "colab_type": "code",
        "outputId": "489d0cfa-f0e3-4ab4-8290-d608f230cd12",
        "colab": {
          "base_uri": "https://localhost:8080/",
          "height": 104
        }
      },
      "source": [
        "logical_forms[instance_index]"
      ],
      "execution_count": 285,
      "outputs": [
        {
          "output_type": "execute_result",
          "data": {
            "text/plain": [
              "('lambda',\n",
              " '$w',\n",
              " ('exists',\n",
              "  '$x',\n",
              "  ('and', ('city', '$w'), ('in-rel', '$w', '$x'), ('kb-virginia', '$x'))))"
            ]
          },
          "metadata": {
            "tags": []
          },
          "execution_count": 285
        }
      ]
    },
    {
      "cell_type": "code",
      "metadata": {
        "id": "8AdTo5zkA_pF",
        "colab_type": "code",
        "outputId": "1d55e975-257c-49fd-b18d-616821fee131",
        "colab": {
          "base_uri": "https://localhost:8080/",
          "height": 34
        }
      },
      "source": [
        "print(logical_form_to_str(logical_forms[instance_index]))"
      ],
      "execution_count": 286,
      "outputs": [
        {
          "output_type": "stream",
          "text": [
            "(lambda $w (exists $x (and (city $w) (in-rel $w $x) (kb-virginia $x))))\n"
          ],
          "name": "stdout"
        }
      ]
    },
    {
      "cell_type": "markdown",
      "metadata": {
        "id": "Ru5yVIOG6U9t",
        "colab_type": "text"
      },
      "source": [
        "This dataset has fairly simple lambda calculus expressions, which always consist of a single function and a conjunction of predicates. Because of this, every logical form contains:\n",
        "1. **Variables** (`$x, $y, $z,` and `$w`), which can take on entity values from the database.\n",
        "2. **Predicates**, of which there are three types:\n",
        "    - **categories** (e.g. `city`), which take 1 variable as an argument, and return true if the category is true in the database for the entity assigned to the variable.\n",
        "    - **relations** (e.g. `in-rel`), which take 2 variable arguments, and return true if the relation is true in the database for the ordered pair of entities assigned to the variables.\n",
        "    - **entity predicates** (e.g. `kb-virginia`), which takes 1 variable argument and return true if the proper entity (e.g. `virginia`) is assigned to the variable.\n",
        "3. A **conjunction** (`and`) of multiple **literals** (e.g. `(city $w)` is a literal). A literal consists of a predicate with some number of variables as argument.\n",
        "4. [optional] An **existential quantifier** (`exists`), which takes as arguments all but one of the variables used within the conjunction, and the conjunction. `exists` is used if and only if more than one variable is used inside the `and` expression.\n",
        "5. A **lambda expression** (`lambda`), which takes as arguments a single variable and either a conjunction (if the conjunction contains no other variables, other than the lambda's argument) or an existential quantifier (if it does).\n",
        "\n",
        "Note: an alternative, more compact logical form representation would use entities directly when applicable, e.g. `(lambda $w (and (city $w) (in-rel $w virginia)))`. This would make the implementation of the logical form executor (which you'll complete in the next section) a bit more complex, but it would likely reduce the difficulty of learning the logical forms' structure. If you're interested, see [Liang 2013](https://arxiv.org/abs/1309.4408) for one approach used in many recent systems which takes this even further to eliminate all variables and make existential quantification implicit, more closely paralleling natural language.\n",
        "\n",
        "In general, semantic parsing systems must trade off between the complexity of the lexicon, the syntax/semantics interface, compactness of the logical form structure, and the difficulty of inference and learning.  For this dataset, we'll find that a neural model is able to adequately learn  to predict these relatively verbose logical forms directly from sentences, given some lexical and structural constraints."
      ]
    },
    {
      "cell_type": "code",
      "metadata": {
        "id": "rnm8zv7jMhtx",
        "colab_type": "code",
        "colab": {}
      },
      "source": [
        "# obtain all predicates (categories, relations, and entity predicates) from the dataset\n",
        "PREDICATES = set(CATS) | set(RELS) | set(ENTITY_ACTIONS_TO_ENTITIES.keys())"
      ],
      "execution_count": 0,
      "outputs": []
    },
    {
      "cell_type": "code",
      "metadata": {
        "id": "rm5aJW-zMsw1",
        "colab_type": "code",
        "outputId": "22c46d17-abc9-401e-c418-dde4d86f616c",
        "colab": {
          "base_uri": "https://localhost:8080/",
          "height": 54
        }
      },
      "source": [
        "' '.join(sorted(PREDICATES))"
      ],
      "execution_count": 288,
      "outputs": [
        {
          "output_type": "execute_result",
          "data": {
            "text/plain": [
              "'abut-rel along-rel beach bigger-rel body border-rel capital capital-rel city close-rel contain-rel east-rel forest fresh in-rel inside-rel island kb-alabama kb-arkansas kb-atlanta kb-atlantic_ocean kb-birmingham kb-charleston kb-charlotte kb-daytona_beach kb-detroit kb-everglades_national_park kb-florida kb-francis_marion_national_forest kb-georgia kb-grand_rapids kb-great_smoky_mountains_national_park kb-greensboro kb-greenville kb-harrisburg kb-hilton_head_island kb-key_largo kb-knoxville kb-lake_huron kb-lake_michigan kb-lake_moultrie kb-louisiana kb-macon kb-memphis kb-miami kb-michigan kb-milwaukee kb-mississippi kb-monongahela_national_forest kb-montgomery kb-myrtle_beach kb-nashville kb-new_jersey kb-newark kb-north_carolina kb-oklahoma kb-pennsylvania kb-pittsburgh kb-raleigh kb-richmond kb-south_carolina kb-tallahassee kb-tennessee kb-texas kb-trenton kb-tygart_lake kb-uwharrie_national_forest kb-virginia kb-virginia_beach kb-west_virginia kb-wisconsin lake major near-rel north-rel northeast-rel northwest-rel ocean on-rel park peninsula place salt south-rel southeast-rel southwest-rel state surround-rel water west-rel'"
            ]
          },
          "metadata": {
            "tags": []
          },
          "execution_count": 288
        }
      ]
    },
    {
      "cell_type": "markdown",
      "metadata": {
        "id": "PnbgAnhEFraV",
        "colab_type": "text"
      },
      "source": [
        "## Logical Form Executor"
      ]
    },
    {
      "cell_type": "markdown",
      "metadata": {
        "id": "CeTINkBfF68I",
        "colab_type": "text"
      },
      "source": [
        "All logical forms in this dataset are lambda functions, which take database entities and return truth values. Each logical form's denotation (corresponding to the answer to its question) is the set of entities in the database for which the lambda function is true."
      ]
    },
    {
      "cell_type": "code",
      "metadata": {
        "id": "sxRwckgWF8_G",
        "colab_type": "code",
        "outputId": "361e89f1-8cba-4d70-c447-4b5ef042c57f",
        "colab": {
          "base_uri": "https://localhost:8080/",
          "height": 34
        }
      },
      "source": [
        "questions[instance_index]"
      ],
      "execution_count": 289,
      "outputs": [
        {
          "output_type": "execute_result",
          "data": {
            "text/plain": [
              "'what cities are in virginia ?'"
            ]
          },
          "metadata": {
            "tags": []
          },
          "execution_count": 289
        }
      ]
    },
    {
      "cell_type": "code",
      "metadata": {
        "id": "UQTXYMTrGdXc",
        "colab_type": "code",
        "outputId": "eecfdc6b-235b-4347-d9c7-f9a5050c705e",
        "colab": {
          "base_uri": "https://localhost:8080/",
          "height": 34
        }
      },
      "source": [
        "logical_form_to_str(logical_forms[instance_index])"
      ],
      "execution_count": 290,
      "outputs": [
        {
          "output_type": "execute_result",
          "data": {
            "text/plain": [
              "'(lambda $w (exists $x (and (city $w) (in-rel $w $x) (kb-virginia $x))))'"
            ]
          },
          "metadata": {
            "tags": []
          },
          "execution_count": 290
        }
      ]
    },
    {
      "cell_type": "code",
      "metadata": {
        "id": "uTJD-e7k12Pq",
        "colab_type": "code",
        "outputId": "f1dc7e32-de9b-4ed8-e73e-312ceb7c1324",
        "colab": {
          "base_uri": "https://localhost:8080/",
          "height": 34
        }
      },
      "source": [
        "answers[instance_index]"
      ],
      "execution_count": 291,
      "outputs": [
        {
          "output_type": "execute_result",
          "data": {
            "text/plain": [
              "'virginia_beach,richmond'"
            ]
          },
          "metadata": {
            "tags": []
          },
          "execution_count": 291
        }
      ]
    },
    {
      "cell_type": "markdown",
      "metadata": {
        "id": "xYsQsGbOeX3G",
        "colab_type": "text"
      },
      "source": [
        "To evaluate a logical form's denotation in a database, we'll run a simple unification algorithm to build a denotation up recursively from sub-trees in the logical form's tree. Each sub-tree in the logical form will be associated with a `VariableAssignments` object, which contains the set of all possible assignments of entities to variables within the sub-tree that would satisfy the logical form:"
      ]
    },
    {
      "cell_type": "code",
      "metadata": {
        "id": "p5Qn0IGBQyxD",
        "colab_type": "code",
        "colab": {}
      },
      "source": [
        "# VariableAssignments: a collection of possible assignments of entities to\n",
        "#   variables that satisfy the logical form, as processed so far\n",
        "VariableAssignments = namedtuple('VariableAssignments', [\n",
        "  'variables',\n",
        "  # variables: Set[str]: variables that are assigned\n",
        "  'assignments'\n",
        "  # assignments: List[Dict[str, str]]: a list of variable assignments.\n",
        "  #   each variable assignment dictionary should map every variable in \n",
        "  #   `variables` to an entity\n",
        "])"
      ],
      "execution_count": 0,
      "outputs": []
    },
    {
      "cell_type": "markdown",
      "metadata": {
        "id": "n28xqRMBfhdY",
        "colab_type": "text"
      },
      "source": [
        "In the cell below, we've defined operations to produce satisfying assignments for each of the three literal types (which occur at the leaves of the tree):"
      ]
    },
    {
      "cell_type": "code",
      "metadata": {
        "id": "5re9oORVQu0V",
        "colab_type": "code",
        "colab": {}
      },
      "source": [
        "def entity_op(entity_predicate: str, variable: str, world: World) -> VariableAssignments:\n",
        "  entity_name = ENTITY_ACTIONS_TO_ENTITIES[entity_predicate]\n",
        "  assert entity_name in world.entities\n",
        "  return VariableAssignments({variable}, [{variable: entity_name}])\n",
        "\n",
        "def category_op(category: str, variable: str, world: World) -> VariableAssignments:\n",
        "  index = CATS.index(category)\n",
        "  values = (world.categories[index] == 1).nonzero()[0]\n",
        "  return VariableAssignments(\n",
        "    {variable},\n",
        "    [{variable: world.index_to_entities[value]}\n",
        "     for value in values],\n",
        "  )\n",
        "\n",
        "def relation_op(relation: str, variable_1: str, variable_2: str, world: World) -> VariableAssignments:\n",
        "  index = RELS.index(relation)\n",
        "  val_1s, val_2s = (world.relations[index] == 1).nonzero()\n",
        "  assignments = [\n",
        "    {variable_1: world.index_to_entities[val_1], variable_2: world.index_to_entities[val_2]}\n",
        "    for val_1, val_2 in zip(\n",
        "      val_1s, val_2s\n",
        "    )\n",
        "  ]\n",
        "  return VariableAssignments(\n",
        "    {variable_1, variable_2},\n",
        "    assignments\n",
        "  )"
      ],
      "execution_count": 0,
      "outputs": []
    },
    {
      "cell_type": "markdown",
      "metadata": {
        "id": "vfEmeVUWg1tp",
        "colab_type": "text"
      },
      "source": [
        "These literal operations are demonstrated below:"
      ]
    },
    {
      "cell_type": "code",
      "metadata": {
        "id": "ToUxQn47StAm",
        "colab_type": "code",
        "outputId": "6ff0903d-fff7-4b3b-ff45-82efa56ad875",
        "colab": {
          "base_uri": "https://localhost:8080/",
          "height": 607
        }
      },
      "source": [
        "world = geoqa.geo.read_world(\"wv\")\n",
        "val_1s, val_2s = (world.relations[0] == 1).nonzero()\n",
        "world.print()"
      ],
      "execution_count": 294,
      "outputs": [
        {
          "output_type": "stream",
          "text": [
            "name: wv\n",
            "entities:\n",
            "\twest_virginia\n",
            "\tcharleston\n",
            "\tmonongahela_national_forest\n",
            "\ttygart_lake\n",
            "\trichmond\n",
            "\tvirginia\n",
            "categories:\n",
            "\tcity(charleston)\n",
            "\tcity(richmond)\n",
            "\tstate(west_virginia)\n",
            "\tstate(virginia)\n",
            "\tpark(monongahela_national_forest)\n",
            "\tlake(tygart_lake)\n",
            "relations:\n",
            "\tin-rel(charleston, west_virginia)\n",
            "\tin-rel(monongahela_national_forest, west_virginia)\n",
            "\tin-rel(tygart_lake, west_virginia)\n",
            "\tin-rel(richmond, virginia)\n",
            "\teast-rel(monongahela_national_forest, charleston)\n",
            "\teast-rel(richmond, west_virginia)\n",
            "\teast-rel(richmond, monongahela_national_forest)\n",
            "\teast-rel(virginia, west_virginia)\n",
            "\teast-rel(virginia, monongahela_national_forest)\n",
            "\teast-rel(virginia, tygart_lake)\n",
            "\twest-rel(west_virginia, richmond)\n",
            "\twest-rel(west_virginia, virginia)\n",
            "\twest-rel(charleston, monongahela_national_forest)\n",
            "\twest-rel(monongahela_national_forest, richmond)\n",
            "\twest-rel(monongahela_national_forest, virginia)\n",
            "\twest-rel(tygart_lake, virginia)\n",
            "\tcapital-rel(charleston, west_virginia)\n",
            "\tcapital-rel(richmond, virginia)\n"
          ],
          "name": "stdout"
        }
      ]
    },
    {
      "cell_type": "code",
      "metadata": {
        "id": "znHyqHw5SwKR",
        "colab_type": "code",
        "colab": {}
      },
      "source": [
        "logical_form = geoqa.utils.parse_tree('(lambda $w (exists $x (and (city $w) (in-rel $w $x) (kb-west_virginia $x))))')"
      ],
      "execution_count": 0,
      "outputs": []
    },
    {
      "cell_type": "code",
      "metadata": {
        "id": "9BZRKtM-Sm2I",
        "colab_type": "code",
        "outputId": "e305bdaf-95a5-4c1a-e18f-a714883a861f",
        "colab": {
          "base_uri": "https://localhost:8080/",
          "height": 34
        }
      },
      "source": [
        "entity_op('kb-west_virginia', '$x', world)"
      ],
      "execution_count": 296,
      "outputs": [
        {
          "output_type": "execute_result",
          "data": {
            "text/plain": [
              "VariableAssignments(variables={'$x'}, assignments=[{'$x': 'west_virginia'}])"
            ]
          },
          "metadata": {
            "tags": []
          },
          "execution_count": 296
        }
      ]
    },
    {
      "cell_type": "code",
      "metadata": {
        "id": "5UrNfdWZTqKL",
        "colab_type": "code",
        "outputId": "ed21eca4-280d-4aaa-e013-e17c03e00e9c",
        "colab": {
          "base_uri": "https://localhost:8080/",
          "height": 54
        }
      },
      "source": [
        "relation_op('in-rel', '$w', '$x', world)"
      ],
      "execution_count": 297,
      "outputs": [
        {
          "output_type": "execute_result",
          "data": {
            "text/plain": [
              "VariableAssignments(variables={'$w', '$x'}, assignments=[{'$w': 'charleston', '$x': 'west_virginia'}, {'$w': 'monongahela_national_forest', '$x': 'west_virginia'}, {'$w': 'tygart_lake', '$x': 'west_virginia'}, {'$w': 'richmond', '$x': 'virginia'}])"
            ]
          },
          "metadata": {
            "tags": []
          },
          "execution_count": 297
        }
      ]
    },
    {
      "cell_type": "code",
      "metadata": {
        "id": "yFwXqlpKTyJ-",
        "colab_type": "code",
        "outputId": "8ad5d866-1523-4085-f1c3-78136f928e5e",
        "colab": {
          "base_uri": "https://localhost:8080/",
          "height": 34
        }
      },
      "source": [
        "category_op('city', '$w', world)"
      ],
      "execution_count": 298,
      "outputs": [
        {
          "output_type": "execute_result",
          "data": {
            "text/plain": [
              "VariableAssignments(variables={'$w'}, assignments=[{'$w': 'charleston'}, {'$w': 'richmond'}])"
            ]
          },
          "metadata": {
            "tags": []
          },
          "execution_count": 298
        }
      ]
    },
    {
      "cell_type": "markdown",
      "metadata": {
        "id": "Hp8ZwdbKf7J6",
        "colab_type": "text"
      },
      "source": [
        "In the cell below, we've defined an `execute` function which will return the entity set denotation for a logical form by recursively traversing the logical form's tree and combining variable assignments from the leaves upward, using _sub-tree operations_.  The root node of the tree, the `lambda` node, has a `lambda_op` sub-tree operation which takes a `VariableAssignments` containing possible satisfying assignments, and returns the set of entities that the lambda variable takes on.\n",
        "\n",
        "All other sub-tree operations take `VariableAssignments` returned by their children, and return a `VariableAssignments` giving the assignments that satisfy the sub-tree.\n",
        "\n",
        "Some of the sub-tree operations (`entity_op`, `category_op`, `relation_op`) for literals were defined above; you'll define the others (`lambda_op`, `exists_op`, `and_op`) in the cells afterward."
      ]
    },
    {
      "cell_type": "code",
      "metadata": {
        "id": "18BLQZKCVBl1",
        "colab_type": "code",
        "colab": {}
      },
      "source": [
        "def execute(logical_form: Tuple, world: World):\n",
        "  # recursively process the tree from the leaves upward. Each subtree should return:\n",
        "  #   lambda nodes: a `set` of entities that satisfy the logical form\n",
        "  #   all other node types: a VariableAssignments that contains possible assignments\n",
        "  #       of entities to variables that would satisfy the subtree\n",
        "  assert isinstance(logical_form, tuple)\n",
        "  predicate = logical_form[0]\n",
        "  if predicate in ENTITY_ACTIONS_TO_ENTITIES:\n",
        "    var = logical_form[1]\n",
        "    return entity_op(predicate, var, world)\n",
        "  elif predicate in CATS:\n",
        "    category = predicate\n",
        "    var = logical_form[1]\n",
        "    return category_op(category, var, world)\n",
        "  elif predicate in RELS:\n",
        "    rel = predicate\n",
        "    var_1, var_2 = logical_form[1:]\n",
        "    return relation_op(rel, var_1, var_2, world)\n",
        "  elif predicate == LAMBDA:\n",
        "    var = logical_form[1]\n",
        "    var_assignments = execute(logical_form[2], world)\n",
        "    return lambda_op(var, var_assignments)\n",
        "  elif predicate == EXISTS:\n",
        "    vars = logical_form[1:-1]\n",
        "    var_assignments = execute(logical_form[-1], world)\n",
        "    return exists_op(vars, var_assignments)\n",
        "  elif predicate == AND:\n",
        "    return and_op([\n",
        "      execute(sub_lf, world)\n",
        "      for sub_lf in logical_form[1:]\n",
        "    ])\n",
        "  else:\n",
        "    raise NotImplementedError(\"invalid predicate {}\\n{}\".format(predicate, logical_form))"
      ],
      "execution_count": 0,
      "outputs": []
    },
    {
      "cell_type": "code",
      "metadata": {
        "id": "9JpGURQbX8IG",
        "colab_type": "code",
        "colab": {}
      },
      "source": [
        "# helper function to use when testing results from the sub-tree operations\n",
        "def are_equal(va1: VariableAssignments, va2: VariableAssignments) -> bool:\n",
        "  def canonicalize(assignments):\n",
        "    # compare sets of assignments, since ordering (and duplication) of assignments within the list does not affect meaning\n",
        "    # convert each assignment dict to a string in json format since dictionaries are unhashable\n",
        "    import json\n",
        "    return set(json.dumps(d) for d in assignments)\n",
        "  return va1.variables == va2.variables and canonicalize(va1.assignments) == canonicalize(va2.assignments)"
      ],
      "execution_count": 0,
      "outputs": []
    },
    {
      "cell_type": "markdown",
      "metadata": {
        "id": "IUiGL5FKmajc",
        "colab_type": "text"
      },
      "source": [
        "Complete the `lambda_op`, `exists_op`, and `and_op` sub-tree operations in the cells below. Each operation has a test cell after it with sample inputs and outputs."
      ]
    },
    {
      "cell_type": "code",
      "metadata": {
        "id": "fP6LrhT5U4iq",
        "colab_type": "code",
        "colab": {}
      },
      "source": [
        "def lambda_op(lambda_variable: str, variable_assignments: VariableAssignments) -> Set[str]:\n",
        "  # return the entities that variable takes on in variable_assignments\n",
        "  \"\"\"YOUR CODE HERE\"\"\"\n",
        "  \n",
        "  ret = set()\n",
        "  for dct in variable_assignments.assignments: ret.add(dct[lambda_variable])\n",
        "  \n",
        "  return ret"
      ],
      "execution_count": 0,
      "outputs": []
    },
    {
      "cell_type": "code",
      "metadata": {
        "id": "6mZMhJ4cVr_v",
        "colab_type": "code",
        "colab": {}
      },
      "source": [
        "assert lambda_op('$y', VariableAssignments(\n",
        "    {'$x', '$y'}, \n",
        "    [{'$x': 'virginia', '$y': 'richmond'}, {'$x': 'virginia', '$y': 'charleston'}]\n",
        "  )) == {'richmond', 'charleston'}"
      ],
      "execution_count": 0,
      "outputs": []
    },
    {
      "cell_type": "code",
      "metadata": {
        "id": "-XUNvm9PVh-8",
        "colab_type": "code",
        "colab": {}
      },
      "source": [
        "def exists_op(existentially_quantified_vars: List[str], child_assignments: VariableAssignments) -> VariableAssignments:\n",
        "  # remove the existentially-quantified variables from the assignments in variable_assignments\n",
        "  \"\"\"YOUR CODE HERE\"\"\"\n",
        "\n",
        "  var_set = set(existentially_quantified_vars)\n",
        "  new_vars = {v for v in child_assignments.variables if v not in var_set}\n",
        "  # Equivalently, new_vars = child_assignments.variables.difference(var_set)\n",
        "  #               new_vars = set.difference(child_assignments.variables, var_set)\n",
        "\n",
        "  new_assignments = [{k : dct[k] for k in dct if k not in var_set}\n",
        "                     for dct in child_assignments.assignments\n",
        "                    ]\n",
        "  new_asgmts = []\n",
        "  for asgmt in new_assignments: new_asgmts.append(asgmt) if asgmt not in new_asgmts else None\n",
        "\n",
        "  return VariableAssignments(new_vars, new_asgmts)"
      ],
      "execution_count": 0,
      "outputs": []
    },
    {
      "cell_type": "code",
      "metadata": {
        "id": "V1n76aJCWU3U",
        "colab_type": "code",
        "colab": {}
      },
      "source": [
        "exists_test_1 = exists_op(['$x'], VariableAssignments(\n",
        "    {'$x', '$y'}, [{'$x': 'virginia', '$y': 'richmond'}, {'$x': 'virginia', '$y': 'charleston'}]\n",
        "  ))\n",
        "assert are_equal(exists_test_1, VariableAssignments(\n",
        "    {'$y'}, [{'$y': 'richmond'}, {'$y': 'charleston'}]\n",
        ")), exists_test_1\n",
        "                                             \n",
        "exists_test_2 = exists_op(['$y'], VariableAssignments(\n",
        "    {'$x', '$y'}, [{'$x': 'virginia', '$y': 'richmond'}, {'$x': 'virginia', '$y': 'charleston'}]\n",
        "  ))\n",
        "assert are_equal(exists_test_2, VariableAssignments(\n",
        "    {'$x'},\n",
        "    [{'$x': 'virginia'}]\n",
        ")), exists_test_2"
      ],
      "execution_count": 0,
      "outputs": []
    },
    {
      "cell_type": "code",
      "metadata": {
        "id": "QPtKal5MWRge",
        "colab_type": "code",
        "colab": {}
      },
      "source": [
        "def and_op(children_assignments: List[VariableAssignments]) -> VariableAssignments:\n",
        "  # join the assignments in children_assignments, to return possible assignments that satisfy all children\n",
        "  \"\"\"YOUR CODE HERE\"\"\"\n",
        "\n",
        "  all_var_sets = [var_asgmts.variables for var_asgmts in children_assignments]\n",
        "  variables = set.union(*all_var_sets)\n",
        "\n",
        "  n = len(children_assignments)\n",
        "  asgmt_lens = [len(var_asgmts.assignments) for var_asgmts in children_assignments]\n",
        "  assignments = []\n",
        "\n",
        "  if any([e == 0 for e in asgmt_lens]):\n",
        "    return VariableAssignments(variables, assignments)\n",
        "\n",
        "  asgmt_pointers = [0 for _ in range(n)]\n",
        "\n",
        "  while asgmt_pointers[0] < asgmt_lens[0]:\n",
        "    possible_assignment = {}\n",
        "    conflict_flag = False\n",
        "\n",
        "    for i in range(n):\n",
        "      asgmt = children_assignments[i].assignments[ asgmt_pointers[i] ]\n",
        "\n",
        "      for key in asgmt:\n",
        "        if key in possible_assignment and possible_assignment[key] != asgmt[key]:\n",
        "          conflict_flag = True\n",
        "          break\n",
        "\n",
        "      if conflict_flag:\n",
        "        break\n",
        "      else:\n",
        "        possible_assignment.update(asgmt)\n",
        "\n",
        "    asgmt_pointers[i] += 1\n",
        "    for j in range(i):\n",
        "      if asgmt_pointers[i - j] == asgmt_lens[i - j]:\n",
        "        asgmt_pointers[i - j] = 0\n",
        "        asgmt_pointers[i - j - 1] += 1\n",
        "      else:\n",
        "        break \n",
        "\n",
        "    if not conflict_flag and len(possible_assignment):\n",
        "      assignments.append(possible_assignment)\n",
        "\n",
        "  return VariableAssignments(variables, assignments)"
      ],
      "execution_count": 0,
      "outputs": []
    },
    {
      "cell_type": "code",
      "metadata": {
        "id": "UmsZOYpHWSmX",
        "colab_type": "code",
        "colab": {}
      },
      "source": [
        "and_test = and_op([\n",
        "  VariableAssignments({'$x', '$y'}, [{'$x': 'x1', '$y': 'y1'}, {'$x': 'x2', '$y': 'y2'}]),\n",
        "  VariableAssignments({'$z', '$y'}, [{'$z': 'z2', '$y': 'y2'}, {'$z': 'x3', '$y': 'y3'}]),                 \n",
        "])\n",
        "assert are_equal(\n",
        "  and_test,\n",
        "  VariableAssignments(variables={'$x', '$y', '$z'}, assignments=[{'$x': 'x2', '$y': 'y2', '$z': 'z2'}])\n",
        "), and_test"
      ],
      "execution_count": 0,
      "outputs": []
    },
    {
      "cell_type": "markdown",
      "metadata": {
        "id": "f4H9l75ZmjD9",
        "colab_type": "text"
      },
      "source": [
        "With correct sub-tree operation definitions, the following test cell should run without errors. It checks that the entity set denotations returned by the `execute` function match the answers in the database."
      ]
    },
    {
      "cell_type": "code",
      "metadata": {
        "id": "Tsh1HyWRQUwe",
        "colab_type": "code",
        "colab": {}
      },
      "source": [
        "for state in STATES:\n",
        "  world = geoqa.geo.read_world(state)\n",
        "  for question, answer, logical_form in zip(*geoqa.geo.read_data(state)):\n",
        "    if logical_form is None:\n",
        "      continue\n",
        "    true_denotation = world.get_denotation_from_answer(answer)\n",
        "    executed_denotation = execute(logical_form, world)\n",
        "    if true_denotation != executed_denotation:\n",
        "      print(\"execution failure!\")\n",
        "      print(\"question: {}\".format(question))\n",
        "      print(\"state: {}\".format(world))\n",
        "      print(\"logical form: {}\".format(logical_form))\n",
        "      print(\"true denotation: {}\".format(true_denotation))\n",
        "      print(\"executed denotation: {}\".format(executed_denotation))\n",
        "      raise ValueError()"
      ],
      "execution_count": 0,
      "outputs": []
    },
    {
      "cell_type": "markdown",
      "metadata": {
        "id": "ZR22RXa8VHtf",
        "colab_type": "text"
      },
      "source": [
        "## Parser"
      ]
    },
    {
      "cell_type": "markdown",
      "metadata": {
        "id": "VrlpUdpUg9VK",
        "colab_type": "text"
      },
      "source": [
        "Now that we have a method to execute logical forms on the database, we'll spend the rest of this assignment constructing parsers to produce logical forms from questions. \n",
        "\n",
        "Our question-to-logical-form parser will be a neural sequence-to-sequence model that will encode the question and decode a sequence of actions to construct a logical form. We will use _constrained decoding_ to prevent the model from constructing invalid logical forms, enforcing structural constraints rather than relying on the model to learn them.\n",
        "\n",
        "To construct this parser, we first need to define a transition system: a set of actions that build up a logical form incrementally, and the effects each action has on a partially constructed logical form. This transition system will constrain the available actions that can be taken by the sequence-to-sequence model at any point in time to guarantee valid logical forms."
      ]
    },
    {
      "cell_type": "markdown",
      "metadata": {
        "id": "EInORycTgi2o",
        "colab_type": "text"
      },
      "source": [
        "### Transition system"
      ]
    },
    {
      "cell_type": "markdown",
      "metadata": {
        "id": "K-qedMk3IVUm",
        "colab_type": "text"
      },
      "source": [
        "We'll construct logical forms using a depth-first, left-to-right traversal of the logical form's tree structure, with actions in a post-fix notation (so a predicate comes after the arguments it takes), and a final `DONE` action after the logical form is constructed. For example, the logical form\n",
        "\n",
        "`(lambda $x (exists $w (and (state $w) (city $x) (in-rel $x $w))))`\n",
        "\n",
        "will be constructed in the traversal order:\n",
        "\n",
        "`$w state $x city $x $w in-rel and $w exists $x lambda DONE`\n",
        "\n",
        "We will basically have one action for each of the items in the order above, with one change to simplify what our model needs to learn. In this dataset, which always combines literals with a single `and`, each logical form has exactly one variable as an argument to the lambda expression, and existentially quantifies all other variables. Because of this, the actions between `and` and the `lambda` are determined by the lambda's variable argument (`$x`) and the other variables that have previously been introduced (all variables other than the lambda variable must be existentially quantified). This allows us to replace these actions with a single action, `complete_lambda_$x`. For the example above:\n",
        "\n",
        "`$w state $x city $x $w in-rel complete_lambda_$x DONE`\n",
        "\n",
        "If the question had been about the variable `$w`, we would instead use `complete_lambda_$w` so that `$w` was used with `lambda` and everything else was existentially quantified.\n",
        "\n",
        "Note that other datasets with more complex logical forms would need to generate conjunctions and quantifiers individually, rather than using these simplifying `complete_lambda_` actions."
      ]
    },
    {
      "cell_type": "markdown",
      "metadata": {
        "id": "UnBDhZ9pgvVL",
        "colab_type": "text"
      },
      "source": [
        "### Actions"
      ]
    },
    {
      "cell_type": "markdown",
      "metadata": {
        "id": "HCFQbdAR2wrr",
        "colab_type": "text"
      },
      "source": [
        "We'll now define the actions used by our transition system. Variables and predicates will be taken directly from the items in the logical forms. We'll define new actions for `COMPLETE_LAMBDA_*` and `DONE`:"
      ]
    },
    {
      "cell_type": "code",
      "metadata": {
        "id": "KsqClVZyMRhB",
        "colab_type": "code",
        "colab": {}
      },
      "source": [
        "# mapping from complete lambda action to the lambda's variable\n",
        "COMPLETE_LAMBDA_ACTIONS_TO_VARS = {'COMPLETE_LAMBDA_{}'.format(var): var for var in VARS}\n",
        "# and reverse\n",
        "VARS_TO_COMPLETE_LAMBDA_ACTIONS = {v: k for k, v in COMPLETE_LAMBDA_ACTIONS_TO_VARS.items()}\n",
        "\n",
        "DONE_ACTION = 'DONE'"
      ],
      "execution_count": 0,
      "outputs": []
    },
    {
      "cell_type": "markdown",
      "metadata": {
        "id": "4xgGUZG43G97",
        "colab_type": "text"
      },
      "source": [
        "Actions will be divided into three types, which will be produced differently by our model."
      ]
    },
    {
      "cell_type": "code",
      "metadata": {
        "id": "O3AjULiM3FLm",
        "colab_type": "code",
        "colab": {}
      },
      "source": [
        "STRUCTURAL_ACTIONS = VARS + sorted(COMPLETE_LAMBDA_ACTIONS_TO_VARS.keys()) + [DONE_ACTION]\n",
        "CROSS_DATABASE_PREDICATE_ACTIONS = CATS + RELS\n",
        "DATABASE_SPECIFIC_PREDICATE_ACTIONS = list(ENTITY_ACTIONS_TO_ENTITIES.keys())\n",
        "\n",
        "ACTIONS = set(STRUCTURAL_ACTIONS) | set(CROSS_DATABASE_PREDICATE_ACTIONS) | set(ENTITY_ACTIONS_TO_ENTITIES.keys())"
      ],
      "execution_count": 0,
      "outputs": []
    },
    {
      "cell_type": "code",
      "metadata": {
        "id": "yEIUQWe-M65n",
        "colab_type": "code",
        "outputId": "8b4b7328-cdf4-4463-d5ab-827511456a0b",
        "colab": {
          "base_uri": "https://localhost:8080/",
          "height": 34
        }
      },
      "source": [
        "print(STRUCTURAL_ACTIONS)"
      ],
      "execution_count": 310,
      "outputs": [
        {
          "output_type": "stream",
          "text": [
            "['$w', '$x', '$y', '$z', 'COMPLETE_LAMBDA_$w', 'COMPLETE_LAMBDA_$x', 'COMPLETE_LAMBDA_$y', 'COMPLETE_LAMBDA_$z', 'DONE']\n"
          ],
          "name": "stdout"
        }
      ]
    },
    {
      "cell_type": "code",
      "metadata": {
        "id": "kMRHADEpNDOf",
        "colab_type": "code",
        "outputId": "b8a7b8fc-b385-4ed2-dba7-f136b4f7435f",
        "colab": {
          "base_uri": "https://localhost:8080/",
          "height": 34
        }
      },
      "source": [
        "print(CROSS_DATABASE_PREDICATE_ACTIONS[:5])"
      ],
      "execution_count": 311,
      "outputs": [
        {
          "output_type": "stream",
          "text": [
            "['city', 'state', 'park', 'island', 'beach']\n"
          ],
          "name": "stdout"
        }
      ]
    },
    {
      "cell_type": "code",
      "metadata": {
        "id": "xMtdIkh0NFwy",
        "colab_type": "code",
        "outputId": "6a366ed5-b3d7-4ee9-eb30-da80415a6192",
        "colab": {
          "base_uri": "https://localhost:8080/",
          "height": 34
        }
      },
      "source": [
        "print(DATABASE_SPECIFIC_PREDICATE_ACTIONS[:5])"
      ],
      "execution_count": 312,
      "outputs": [
        {
          "output_type": "stream",
          "text": [
            "['kb-florida', 'kb-tallahassee', 'kb-miami', 'kb-everglades_national_park', 'kb-key_largo']\n"
          ],
          "name": "stdout"
        }
      ]
    },
    {
      "cell_type": "markdown",
      "metadata": {
        "id": "ndUycozNgevP",
        "colab_type": "text"
      },
      "source": [
        "### From actions to logical forms"
      ]
    },
    {
      "cell_type": "markdown",
      "metadata": {
        "id": "0KDdWJmx6mu1",
        "colab_type": "text"
      },
      "source": [
        "This `ParseConstraints` class will contain possible options to constrain the logical form being constructed, which will become important later when we begin searching over logical forms."
      ]
    },
    {
      "cell_type": "code",
      "metadata": {
        "id": "NAWHIRbZ6U5v",
        "colab_type": "code",
        "colab": {}
      },
      "source": [
        "ParseConstraints = namedtuple('ParseConstraints', [\n",
        "  'possible_predicates',\n",
        "  # set[str]: set of predicates to allow in this logical form\n",
        "  'max_vars',\n",
        "  # int: maximum number of distinct variables to allow in the logical form\n",
        "  #   the maximum number in the dataset is 4 (len(VARS))\n",
        "  'no_repeated_literals',\n",
        "  # bool: if True, don't allow the same literal to appear more than once\n",
        "  #   e.g. (and (state $x) (state $x)) is disallowed, but (and (state $x) (state $y)) is ok\n",
        "  'max_literals'\n",
        "  # int: disallow more than this many literals\n",
        "  #   e.g. if max_literals == 1, (and (state $x) (city $y)) is disallowed\n",
        "  #   the maximum number in the dataset is 7 (MAX_LITERALS)\n",
        "])"
      ],
      "execution_count": 0,
      "outputs": []
    },
    {
      "cell_type": "markdown",
      "metadata": {
        "id": "D1ZkyQG3RR-q",
        "colab_type": "text"
      },
      "source": [
        "To build up a logical form via a sequence of actions, we define a `ParserState` class several blocks below. This will represent the logical form as constructed so far and compute valid actions that can be taken to continue constructing it. The `_ParserState` class here defines the actual state variables, then you will fill in the methods in `ParserState` (without the underscore)."
      ]
    },
    {
      "cell_type": "code",
      "metadata": {
        "id": "8tMTiwEVVAok",
        "colab_type": "code",
        "colab": {}
      },
      "source": [
        "_ParserState = namedtuple('_ParserState', [\n",
        "  'variable_argument_stack',\n",
        "  # Stack[str]: variables to be put into the current literal\n",
        "  'completed_literal_stack',\n",
        "  # Stack[tuple]: all literals produced so far\n",
        "  'has_lambda',\n",
        "  # bool: whether the lambda has been generated\n",
        "  'lambda_var',\n",
        "  # str or None: the lambda's variable argument, if lambda has been generated; or None otherwise\n",
        "  'is_complete',\n",
        "  # bool: whether the DONE action has been generated\n",
        "  'all_vars_introduced',\n",
        "  # Stack[str]: variables should be appened to this each time they are used\n",
        "  'past_actions',\n",
        "  # Stack[str]: all previous actions taken\n",
        "  'parse_constraints',\n",
        "  # ParseConstraints: options to constrain the logical form being constructed\n",
        "])"
      ],
      "execution_count": 0,
      "outputs": []
    },
    {
      "cell_type": "markdown",
      "metadata": {
        "id": "4h2y5lnKFKjn",
        "colab_type": "text"
      },
      "source": [
        "`variable_argument_stack` contains any variables that  will be put into the literal which is currently being constructed. This is reset to empty when a literal is completed (by a predicate action). All literals, as they are completed, are added to `completed_literal_stack`. This should not be emptied at any point, as it will be used to construct the final logical form."
      ]
    },
    {
      "cell_type": "markdown",
      "metadata": {
        "id": "Q43L-UdsAcNU",
        "colab_type": "text"
      },
      "source": [
        "For example, when generating the logical form \n",
        "\n",
        "`(lambda $x (exists $w (and (state $w) (city $x) (in-rel $x $w)))`\n",
        "\n",
        "using the action sequence\n",
        "\n",
        "`$w state $x city $x $w in-rel complete_lambda_$x DONE`,\n",
        "\n",
        "the `ParserState` will look as follows after the first `$x` action:\n",
        "```\n",
        "ParserState(\n",
        "  variable_argument_stack=['$x'],\n",
        "  completed_literal_stack=[('state', '$w')],\n",
        "  has_lambda=False,\n",
        "  lambda_var=None,\n",
        "  is_complete=False,\n",
        "  all_vars_introduced=['$w', '$x'],\n",
        "  past_actions=['$w', 'state', '$x'],\n",
        "  parse_constraints=...\n",
        ")\n",
        "```\n",
        "and as follows after the `DONE` action:\n",
        "```\n",
        "ParserState(\n",
        "  variable_argument_stack=[],\n",
        "  completed_literal_stack=[('state', '$w'), ('city', '$x'), ('in-rel', '$x', '$w')],\n",
        "  has_lambda=True,\n",
        "  lambda_var=$x,\n",
        "  is_complete=True,\n",
        "  all_vars_introduced=['$w', '$x', '$x', '$w'],\n",
        "  past_actions=['$w', 'state', '$x', 'city', '$x', '$w', 'in-rel', 'COMPLETE_LAMBDA_$x', 'DONE'],\n",
        "  parse_constraints=...\n",
        ")\n",
        "```"
      ]
    },
    {
      "cell_type": "markdown",
      "metadata": {
        "id": "F2G26yqrEy67",
        "colab_type": "text"
      },
      "source": [
        "We'll now define a `ParserState` wrapper class with methods. Complete the `take_action` method in the `ParserState` class below.\n",
        "\n",
        "Implementation tip: `ParserState` objects are immutable, and the `take_action` method should return a new `ParserState` object, rather than attempting to update the object (this will allow `ParserState` objects to be used in beam search). The [Stack](https://github.com/dpfried/geoqa-release/blob/master/geoqa/utils.py#L7) class used in `ParserState` for `variable_argument_stack`, `completed_literal_stack`, `all_vars_introduced`, and `past_actions` is an immutable data structure that is essentially like a list, but will allow sharing some memory across multiple `ParserState`s as search is performed, for efficiency and to prevent copying. See the cell below for a demonstration:\n"
      ]
    },
    {
      "cell_type": "code",
      "metadata": {
        "id": "5qyIzf0Pn9-c",
        "colab_type": "code",
        "outputId": "2720e70a-5a50-496c-a22b-23759a552a82",
        "colab": {
          "base_uri": "https://localhost:8080/",
          "height": 104
        }
      },
      "source": [
        "# demonstration of the Stack class used in _ParserState\n",
        "actions = Stack.empty().append('$w')\n",
        "print(actions.tolist())\n",
        "actions_plus_city = actions.append('city')\n",
        "actions_plus_state = actions.append('state')\n",
        "print(actions.tolist()) # hasn't changed\n",
        "print(actions_plus_city.tolist()) # shares '$w' with actions\n",
        "print(actions_plus_state.tolist()) # shares '$w' with actions\n",
        "print(actions_plus_city.size) # 2"
      ],
      "execution_count": 315,
      "outputs": [
        {
          "output_type": "stream",
          "text": [
            "['$w']\n",
            "['$w']\n",
            "['$w', 'city']\n",
            "['$w', 'state']\n",
            "2\n"
          ],
          "name": "stdout"
        }
      ]
    },
    {
      "cell_type": "code",
      "metadata": {
        "id": "eViX6RM4BiY7",
        "colab_type": "code",
        "colab": {}
      },
      "source": [
        "class ParserState(_ParserState):\n",
        "  \"\"\"\n",
        "  Wrapper class to add methods and constants to _ParserState\n",
        "  \"\"\"\n",
        "  PREDICATE_ARITIES = {}\n",
        "  for cat in CATS:\n",
        "    PREDICATE_ARITIES[cat] = 1\n",
        "  for rel in RELS:\n",
        "    PREDICATE_ARITIES[rel] = 2\n",
        "  for entity in ENTITY_ACTIONS_TO_ENTITIES.keys():\n",
        "    PREDICATE_ARITIES[entity] = 1\n",
        "\n",
        "  MAX_ARITY = max(PREDICATE_ARITIES.values())\n",
        "\n",
        "  @staticmethod\n",
        "  def initial_state(parse_constraints):\n",
        "    return ParserState(\n",
        "      variable_argument_stack=Stack.empty(),\n",
        "      completed_literal_stack=Stack.empty(),\n",
        "      has_lambda=False,\n",
        "      lambda_var=None,\n",
        "      is_complete=False,\n",
        "      all_vars_introduced=Stack.empty(),\n",
        "      past_actions=Stack.empty(),\n",
        "      parse_constraints=parse_constraints,\n",
        "    )\n",
        "\n",
        "  def take_action(self, action_symbol: str):\n",
        "    assert action_symbol in ACTIONS, \"invalid action {}\".format(action_symbol)\n",
        "    assert not self.is_complete\n",
        "\n",
        "    assert action_symbol in self.valid_actions(), \"trying to take {} but only valid actions are {}.\\npast actions: {}\".format(\n",
        "      action_symbol, self.valid_actions(), ' '.join(self.actions()))\n",
        "\n",
        "    # initialize all variables that might be updated\n",
        "    past_actions = self.past_actions\n",
        "    has_lambda = self.has_lambda\n",
        "    is_complete = self.is_complete\n",
        "    completed_literal_stack = self.completed_literal_stack\n",
        "    variable_argument_stack = self.variable_argument_stack\n",
        "    all_vars_introduced = self.all_vars_introduced\n",
        "    lambda_var = self.lambda_var\n",
        "\n",
        "    past_actions = past_actions.append(action_symbol)\n",
        "\n",
        "    if action_symbol in PREDICATES:\n",
        "      \"\"\"YOUR CODE HERE\"\"\"\n",
        "\n",
        "      var_args = variable_argument_stack.tolist()\n",
        "      literal = tuple([action_symbol] + var_args)\n",
        "      completed_literal_stack = completed_literal_stack.append(literal)\n",
        "      variable_argument_stack = Stack.empty()\n",
        "\n",
        "    elif action_symbol in VARS:\n",
        "      \"\"\"YOUR CODE HERE\"\"\"\n",
        "\n",
        "      all_vars_introduced = all_vars_introduced.append(action_symbol)\n",
        "      variable_argument_stack = variable_argument_stack.append(action_symbol)\n",
        "\n",
        "    elif action_symbol in COMPLETE_LAMBDA_ACTIONS_TO_VARS.keys():\n",
        "      \"\"\"YOUR CODE HERE\"\"\"\n",
        "\n",
        "      has_lambda = True\n",
        "      lambda_var = COMPLETE_LAMBDA_ACTIONS_TO_VARS[action_symbol]\n",
        "\n",
        "    elif action_symbol == DONE_ACTION:\n",
        "      \"\"\"YOUR CODE HERE\"\"\"\n",
        "\n",
        "      is_complete = not is_complete\n",
        "\n",
        "    else:\n",
        "      raise ValueError(\"invalid action {}\".format(action_symbol))\n",
        "\n",
        "    return ParserState(\n",
        "      variable_argument_stack=variable_argument_stack,\n",
        "      completed_literal_stack=completed_literal_stack,\n",
        "      has_lambda=has_lambda,\n",
        "      lambda_var=lambda_var,\n",
        "      is_complete=is_complete,\n",
        "      all_vars_introduced=all_vars_introduced,\n",
        "      past_actions=past_actions,\n",
        "      parse_constraints=self.parse_constraints,\n",
        "    )\n",
        "\n",
        "  def variables_introduced(self) -> Set[str]:\n",
        "    \"\"\"\n",
        "    :return: variables that have been used in the logical form, as constructed so far\n",
        "    \"\"\"\n",
        "    variables = set(self.all_vars_introduced.tolist())\n",
        "    assert variables == set(VARS[:len(\n",
        "      variables)]), \"variables should not be introduced out of the sequential order {}, but {} were used\".format(VARS,\n",
        "                                                                                                                 vars)\n",
        "    return variables\n",
        "\n",
        "  def variables_usable(self) -> Set[str]:\n",
        "    \"\"\"\n",
        "    To reduce the set of possible logical forms, enforce that new variables are introduced in alphabetical order, e.g. $x cannot be used before $w has been used\n",
        "    Usable variables include all previously used variables and the next in alphabetical order\n",
        "    :return: set of possible next variables to use\n",
        "    \"\"\"\n",
        "    num_vars_introduced = len(self.variables_introduced())\n",
        "    return set(VARS[:min(self.parse_constraints.max_vars, num_vars_introduced + 1)])\n",
        "\n",
        "  def to_logical_form(self) -> Tuple:\n",
        "    \"\"\"\n",
        "    Convert a completed parser state to a logical form\n",
        "    :return: logical form as a tuple\n",
        "    \"\"\"\n",
        "    assert self.is_complete\n",
        "\n",
        "    # list of tuples\n",
        "    clause_literals = self.completed_literal_stack.tolist()\n",
        "\n",
        "    assert len(clause_literals) > 0\n",
        "    logical_form = (AND,) + tuple(clause_literals)\n",
        "\n",
        "    assert self.lambda_var is not None\n",
        "    vars_to_quantify = tuple(sorted(v for v in self.variables_introduced() if v != self.lambda_var))\n",
        "    if len(vars_to_quantify) > 0:\n",
        "      logical_form = (EXISTS,) + vars_to_quantify + (logical_form,)\n",
        "    logical_form = (LAMBDA, self.lambda_var, logical_form)\n",
        "\n",
        "    return logical_form\n",
        "\n",
        "  @staticmethod\n",
        "  def from_logical_form(logical_form: Tuple, parse_constraints: ParseConstraints=None):\n",
        "    \"\"\"\n",
        "    :param logical_form:\n",
        "    :param parse_constraints: used to check the logical form\n",
        "    :return:\n",
        "    \"\"\"\n",
        "    # depth-first post-fix traversal, where actions are node labels, except we\n",
        "    # (1) collapse (lambda $LAMBDA_VAR (exists $VAR1 $VAR2 to COMPLETE_LAMBDA_$LAMBDA_VAR\n",
        "    # (2) do not produce an action for the AND label\n",
        "    # (3) add a DONE_ACTION action at the end (root)\n",
        "    if parse_constraints is None:\n",
        "      parse_constraints = ParseConstraints(\n",
        "        possible_predicates=None, max_vars=len(VARS), no_repeated_literals=False,\n",
        "        max_literals=MAX_LITERALS\n",
        "      )\n",
        "\n",
        "    def _traverse(node: Union[tuple, str], state: ParserState):\n",
        "      if isinstance(node, tuple):\n",
        "        label = node[0]\n",
        "        if label == LAMBDA:\n",
        "          lambda_var = node[1]\n",
        "          assert lambda_var in VARS\n",
        "          children = node[2:]\n",
        "          assert children\n",
        "        elif label == EXISTS:\n",
        "          children = node[1:]\n",
        "          while children[0] in VARS:\n",
        "            children = children[1:]\n",
        "          assert children\n",
        "        else:\n",
        "          children = node[1:]\n",
        "      else:  # is a leaf; should be a variable\n",
        "        label = node\n",
        "        children = []\n",
        "      for child in children:\n",
        "        state = _traverse(child, state)\n",
        "      if label == LAMBDA:\n",
        "        state = state.take_action(VARS_TO_COMPLETE_LAMBDA_ACTIONS[lambda_var])\n",
        "      elif label != AND and label != EXISTS:\n",
        "        state = state.take_action(label)\n",
        "      return state\n",
        "\n",
        "    state = ParserState.initial_state(parse_constraints)\n",
        "    state = _traverse(logical_form, state)\n",
        "    state = state.take_action(DONE_ACTION)\n",
        "    assert state.is_complete\n",
        "    return state\n",
        "\n",
        "  def actions(self) -> List[str]:\n",
        "    return self.past_actions.tolist()\n",
        "\n",
        "  def valid_actions(self) -> List[str]:\n",
        "    # actions that can be taken if we've finished building the lambda expression\n",
        "    if self.is_complete:\n",
        "      return []\n",
        "    if self.has_lambda:\n",
        "      return [DONE_ACTION]\n",
        "\n",
        "    # otherwise, deal with each possible action type in turn\n",
        "    valid_actions = []\n",
        "\n",
        "    # complete the lambda expression\n",
        "    if self.variable_argument_stack.size == 0 and self.completed_literal_stack.size > 0:\n",
        "      for var in self.variables_introduced():\n",
        "        valid_actions.append(VARS_TO_COMPLETE_LAMBDA_ACTIONS[var])\n",
        "\n",
        "    # introduce a predicate, with arguments from argument_stack\n",
        "    if self.variable_argument_stack.size > 0:\n",
        "      possible_predicates = self.parse_constraints.possible_predicates\n",
        "      if possible_predicates is None:\n",
        "        possible_predicates = CATS + RELS + list(ENTITY_ACTIONS_TO_ENTITIES.keys())\n",
        "      possible_predicates = list(sorted(possible_predicates))\n",
        "\n",
        "      for predicate in possible_predicates:\n",
        "        if ParserState.PREDICATE_ARITIES[predicate] == self.variable_argument_stack.size:\n",
        "          valid_actions.append(predicate)\n",
        "\n",
        "    # add a variable to the argument stack\n",
        "    if self.variable_argument_stack.size < ParserState.MAX_ARITY and (\n",
        "        # only start a new literal if we're strictly less than the maximum\n",
        "        (self.variable_argument_stack.size == 0 and self.completed_literal_stack.size < self.parse_constraints.max_literals) or\n",
        "        # only continue an existing literal if we're no greater than the maximum\n",
        "        (self.variable_argument_stack.size > 0 and self.completed_literal_stack.size <= self.parse_constraints.max_literals)\n",
        "    ):\n",
        "      valid_actions.extend(self.variables_usable())\n",
        "\n",
        "    return valid_actions\n",
        "\n",
        "  def __repr__(self):\n",
        "    return \"\"\"ParserState(\n",
        "variable_argument_stack={},\n",
        "completed_literal_stack={},\n",
        "has_lambda={},\n",
        "lambda_var={},\n",
        "is_complete={},\n",
        "all_vars_introduced={},\n",
        "past_actions={},\n",
        "parse_constraints={},\n",
        ")\"\"\".format(*self)"
      ],
      "execution_count": 0,
      "outputs": []
    },
    {
      "cell_type": "markdown",
      "metadata": {
        "id": "JEehJ9krW-1R",
        "colab_type": "text"
      },
      "source": [
        "With a correct implementation of `take_action`, the following three test cells should run without errors."
      ]
    },
    {
      "cell_type": "code",
      "metadata": {
        "colab_type": "code",
        "id": "RC_TXaC1A2bc",
        "colab": {}
      },
      "source": [
        "permissive_parse_constraints = ParseConstraints(\n",
        "    possible_predicates=PREDICATES, \n",
        "    max_vars=len(VARS),\n",
        "    no_repeated_literals=False, \n",
        "    max_literals=MAX_LITERALS,\n",
        ")"
      ],
      "execution_count": 0,
      "outputs": []
    },
    {
      "cell_type": "code",
      "metadata": {
        "id": "qLpbx4hYVGHF",
        "colab_type": "code",
        "colab": {}
      },
      "source": [
        "blank_parser_state = ParserState.initial_state(permissive_parse_constraints)\n",
        "parser_state = blank_parser_state.take_action('$w')\n",
        "assert parser_state.variable_argument_stack.tolist() == ['$w']\n",
        "parser_state = parser_state.take_action('$x')\n",
        "assert parser_state.variable_argument_stack.tolist() == ['$w', '$x']\n",
        "parser_state = parser_state.take_action('in-rel')\n",
        "assert parser_state.variable_argument_stack.tolist() == []\n",
        "assert parser_state.completed_literal_stack.tolist() == [('in-rel', '$w', '$x')], parser_state.completed_literal_stack.tolist()\n",
        "assert parser_state.actions() == ['$w', '$x', 'in-rel']"
      ],
      "execution_count": 0,
      "outputs": []
    },
    {
      "cell_type": "code",
      "metadata": {
        "id": "Wliw4WGNUNjp",
        "colab_type": "code",
        "colab": {}
      },
      "source": [
        "for state in STATES:\n",
        "  world = geoqa.geo.read_world(state)\n",
        "  for question, answer, logical_form in zip(*geoqa.geo.read_data(state)):\n",
        "    if logical_form is None:\n",
        "      continue\n",
        "    parser_state = ParserState.from_logical_form(logical_form, permissive_parse_constraints)\n",
        "    round_trip_logical_form = parser_state.to_logical_form()\n",
        "    assert logical_form == round_trip_logical_form, \"\\n{} !=\\n{}\".format(logical_form, round_trip_logical_form)"
      ],
      "execution_count": 0,
      "outputs": []
    },
    {
      "cell_type": "markdown",
      "metadata": {
        "id": "v9LIMS-ED_13",
        "colab_type": "text"
      },
      "source": [
        "## Preprocessing"
      ]
    },
    {
      "cell_type": "markdown",
      "metadata": {
        "id": "MvyJagVtC4Wm",
        "colab_type": "text"
      },
      "source": [
        "Next we'll define a dataset class. Since this dataset is small, and to allow evaluating on databases with entities we didn't see in training, we'll use pre-trained embeddings to represent both words and predicates in the databases. We've downloaded and pre-filtered [fasttext](https://fasttext.cc/) word embeddings trained on English Wikipedia and news, and we'll use the first 50 dimensions to keep our models small."
      ]
    },
    {
      "cell_type": "code",
      "metadata": {
        "id": "Ef0TLJ_6ES1G",
        "colab_type": "code",
        "colab": {}
      },
      "source": [
        "EMBEDDING_DIM = 50\n",
        "word_to_embedding = geoqa.utils.get_word_vectors(\n",
        "    'vecs/wiki-news-300d-1M-subword-filtered.vec', max_dim=EMBEDDING_DIM\n",
        ")"
      ],
      "execution_count": 0,
      "outputs": []
    },
    {
      "cell_type": "code",
      "metadata": {
        "id": "YWU9puj1EdOO",
        "colab_type": "code",
        "outputId": "16f10f0f-7dfe-4a40-e758-dd69e2f40423",
        "colab": {
          "base_uri": "https://localhost:8080/",
          "height": 156
        }
      },
      "source": [
        "word_to_embedding['virginia']"
      ],
      "execution_count": 321,
      "outputs": [
        {
          "output_type": "execute_result",
          "data": {
            "text/plain": [
              "array([ 0.0349, -0.0109,  0.015 ,  0.0392,  0.0173,  0.0048, -0.0055,\n",
              "       -0.0322, -0.0006,  0.0285, -0.0186, -0.0159,  0.0106, -0.014 ,\n",
              "       -0.0161, -0.0116, -0.0037, -0.0122,  0.0025,  0.0176, -0.0033,\n",
              "       -0.0165, -0.0129,  0.0204,  0.0006, -0.0073, -0.0179,  0.029 ,\n",
              "        0.0154,  0.0115, -0.0019, -0.0179,  0.0169,  0.0223, -0.0021,\n",
              "        0.0126,  0.0087, -0.0016,  0.0091,  0.001 ,  0.0006, -0.0081,\n",
              "       -0.0206, -0.0103, -0.0138,  0.0247,  0.0036, -0.0016,  0.0018,\n",
              "        0.0123])"
            ]
          },
          "metadata": {
            "tags": []
          },
          "execution_count": 321
        }
      ]
    },
    {
      "cell_type": "markdown",
      "metadata": {
        "id": "hFLnot81a1wb",
        "colab_type": "text"
      },
      "source": [
        "We've defined a [`GeoDataset`](https://github.com/dpfried/geoqa-release/blob/master/geoqa/dataset.py#L16) class for you in the support code to preprocess the data (don't worry about reading the code though; we'll demonstrate it below). This class tokenizes each question, and associated with each token a list of predicates that could possibly be used in the logical form, based on string matching predicate names against the word. To constrain the search space over possible logical forms, we will only allow predicates for a given question from the union of all its tokens' predicates. That we can do this at all is a somewhat unique feature of this dataset; more complex semantic parsing problems also require learning more of the lexicon as well."
      ]
    },
    {
      "cell_type": "code",
      "metadata": {
        "id": "mMo7OM7tYM6g",
        "colab_type": "code",
        "colab": {}
      },
      "source": [
        "sample_dataset = GeoDataset(state_names=['wv', 'va'], word_to_embedding=word_to_embedding)"
      ],
      "execution_count": 0,
      "outputs": []
    },
    {
      "cell_type": "code",
      "metadata": {
        "id": "96u2wHRuYQoM",
        "colab_type": "code",
        "colab": {}
      },
      "source": [
        "def print_instance(instance, print_tokens=False):\n",
        "  for key in ['question', 'answer', 'logical_form', 'world', 'possible_predicates', 'denotation']:\n",
        "    if key == 'logical_form':\n",
        "      rep = logical_form_to_str(instance[key])\n",
        "    else:\n",
        "      rep = instance[key]\n",
        "    print('{:<19}: {}'.format(key, rep))\n",
        "  if print_tokens:\n",
        "    print()\n",
        "    print('{:<10}: {}'.format('word', 'predicates'))\n",
        "    print('='*23)\n",
        "    for word, predicates, embedded_predicates in zip(\n",
        "      instance['words'], \n",
        "      instance['predicates_at_each_word_position'], \n",
        "      instance['embedded_predicates_at_each_word_position']\n",
        "    ):\n",
        "      print('{:<10}: {}'.format(word, ', '.join(predicates)))"
      ],
      "execution_count": 0,
      "outputs": []
    },
    {
      "cell_type": "code",
      "metadata": {
        "id": "mg8r1LCvYsKj",
        "colab_type": "code",
        "colab": {}
      },
      "source": [
        "sample_instance = sample_dataset[30]"
      ],
      "execution_count": 0,
      "outputs": []
    },
    {
      "cell_type": "code",
      "metadata": {
        "id": "MAQ_HnvGcdCS",
        "colab_type": "code",
        "outputId": "aa336b54-1381-4633-85fa-5b929a74cd4c",
        "colab": {
          "base_uri": "https://localhost:8080/",
          "height": 260
        }
      },
      "source": [
        "print_instance(sample_instance, print_tokens=True)"
      ],
      "execution_count": 325,
      "outputs": [
        {
          "output_type": "stream",
          "text": [
            "question           : what ocean borders virginia ?\n",
            "answer             : atlantic_ocean\n",
            "logical_form       : (lambda $w (exists $x (and (ocean $w) (border-rel $w $x) (kb-virginia $x))))\n",
            "world              : <World: va with 6 entities, 6 categories, 72 relations>\n",
            "possible_predicates: ['border-rel', 'kb-atlantic_ocean', 'kb-virginia', 'kb-virginia_beach', 'kb-west_virginia', 'ocean']\n",
            "denotation         : {'atlantic_ocean'}\n",
            "\n",
            "word      : predicates\n",
            "=======================\n",
            "what      : \n",
            "ocean     : ocean, kb-atlantic_ocean\n",
            "borders   : border-rel\n",
            "virginia  : kb-virginia, kb-virginia_beach, kb-west_virginia\n",
            "?         : \n"
          ],
          "name": "stdout"
        }
      ]
    },
    {
      "cell_type": "markdown",
      "metadata": {
        "id": "nue9mxkodoMi",
        "colab_type": "text"
      },
      "source": [
        "## Model"
      ]
    },
    {
      "cell_type": "markdown",
      "metadata": {
        "id": "K7MlSw_cM7dn",
        "colab_type": "text"
      },
      "source": [
        "In this section we'll define a neural sequence-to-sequence model that encodes a question and outputs the actions needed to produce its logical form.\n",
        "\n",
        "We will use a `_ModelState` class to wrap a `ParserState` and also contain a model's hidden state (for the sequence-to-sequence decoder) and the log probabilities of the next possible actions that can be taken from the parser state."
      ]
    },
    {
      "cell_type": "code",
      "metadata": {
        "id": "KpogB4kWdplD",
        "colab_type": "code",
        "colab": {}
      },
      "source": [
        "_ModelState = namedtuple('_ModelState', (\n",
        "  'parser_state',\n",
        "  # ParserState: the current parser state\n",
        "  'hidden_state',\n",
        "  # a tuple (h, c) of pytorch tensors\n",
        "  'action_log_probs'\n",
        "  # Dict[str, tensor]: a mapping from next possible actions (parser_state.valid_actions) to\n",
        "  # a pytorch scalar giving the log probability of that action\n",
        "))"
      ],
      "execution_count": 0,
      "outputs": []
    },
    {
      "cell_type": "markdown",
      "metadata": {
        "id": "1pkgqpXqMmRB",
        "colab_type": "text"
      },
      "source": [
        "The `ModelState` class will inherit from `_ModelState` and add a `take_action` method which creates a new `ModelState`, updated using a forward pass of the model and the `take_action` method of the `ParserState`.\n",
        "\n",
        "Here's a DummyModel which always produces a uniform probability distribution over all available actions:"
      ]
    },
    {
      "cell_type": "code",
      "metadata": {
        "id": "hmZDJftxYTs_",
        "colab_type": "code",
        "colab": {}
      },
      "source": [
        "class DummyModel(nn.Module):\n",
        "  # model that produces scores of zero always; use to explore logical forms\n",
        "  def __init__(self, max_vars=len(VARS), no_repeated_literals=False, max_literals=MAX_LITERALS):\n",
        "    super(DummyModel, self).__init__()\n",
        "    self.max_vars = max_vars\n",
        "    self.max_literals = max_literals\n",
        "    self.no_repeated_literals = no_repeated_literals\n",
        "\n",
        "  def forward(self, actions_to_score):\n",
        "    action_log_probs = {\n",
        "      # a scalar tensor (dimension 0)\n",
        "      action: torch.tensor(1.0/len(actions_to_score)).log()\n",
        "      for action in actions_to_score\n",
        "    }\n",
        "    hidden_state = None\n",
        "    return action_log_probs, hidden_state\n",
        "\n",
        "  def initialize_model_state(self, instance):\n",
        "    parse_constraints = ParseConstraints(\n",
        "      possible_predicates=instance['possible_predicates'],\n",
        "      max_vars=self.max_vars,\n",
        "      no_repeated_literals=self.no_repeated_literals,\n",
        "      max_literals=self.max_literals,\n",
        "    )\n",
        "    # define self as a variable so that we can reference it inside the DummyModelState class without using self;\n",
        "    model = self\n",
        "\n",
        "    class DummyModelState(_ModelState):\n",
        "      @staticmethod\n",
        "      def _create_from_parser_state(parser_state):\n",
        "        possible_actions = parser_state.valid_actions()\n",
        "        action_log_probs, hidden_state = model.forward(possible_actions)\n",
        "        return DummyModelState(parser_state, hidden_state, action_log_probs)\n",
        "\n",
        "      def take_action(self, action: str):\n",
        "        new_parser_state = self.parser_state.take_action(action)\n",
        "        return DummyModelState._create_from_parser_state(new_parser_state)\n",
        "\n",
        "    parser_state = ParserState.initial_state(parse_constraints)\n",
        "    return DummyModelState._create_from_parser_state(parser_state)"
      ],
      "execution_count": 0,
      "outputs": []
    },
    {
      "cell_type": "markdown",
      "metadata": {
        "id": "mikRkcXLO9Z-",
        "colab_type": "text"
      },
      "source": [
        "We can use this DummyModel to explore the space of possible (constrained) logical forms for a given instance."
      ]
    },
    {
      "cell_type": "code",
      "metadata": {
        "id": "Vk4g_VTwbUBC",
        "colab_type": "code",
        "colab": {}
      },
      "source": [
        "def greedy_search(model, instance):\n",
        "  state = model.initialize_model_state(instance)\n",
        "  log_probs = []\n",
        "  # when we disallow repeated literals, we can get to parser states with no available actions\n",
        "  # so we need to check to ensure there are scored items in `state.action_log_probs`\n",
        "  while state.action_log_probs.items() and not state.parser_state.is_complete:\n",
        "    action, log_prob = max(state.action_log_probs.items(), key=lambda tuple: tuple[1].item())\n",
        "    log_probs.append(log_prob)\n",
        "    state = state.take_action(action)\n",
        "  return state, sum(log_probs)"
      ],
      "execution_count": 0,
      "outputs": []
    },
    {
      "cell_type": "code",
      "metadata": {
        "id": "CesXN_O1PG_R",
        "colab_type": "code",
        "outputId": "2bb96672-3a1d-4a82-d512-882054d9493f",
        "colab": {
          "base_uri": "https://localhost:8080/",
          "height": 260
        }
      },
      "source": [
        "print_instance(sample_instance, print_tokens=True)"
      ],
      "execution_count": 329,
      "outputs": [
        {
          "output_type": "stream",
          "text": [
            "question           : what ocean borders virginia ?\n",
            "answer             : atlantic_ocean\n",
            "logical_form       : (lambda $w (exists $x (and (ocean $w) (border-rel $w $x) (kb-virginia $x))))\n",
            "world              : <World: va with 6 entities, 6 categories, 72 relations>\n",
            "possible_predicates: ['border-rel', 'kb-atlantic_ocean', 'kb-virginia', 'kb-virginia_beach', 'kb-west_virginia', 'ocean']\n",
            "denotation         : {'atlantic_ocean'}\n",
            "\n",
            "word      : predicates\n",
            "=======================\n",
            "what      : \n",
            "ocean     : ocean, kb-atlantic_ocean\n",
            "borders   : border-rel\n",
            "virginia  : kb-virginia, kb-virginia_beach, kb-west_virginia\n",
            "?         : \n"
          ],
          "name": "stdout"
        }
      ]
    },
    {
      "cell_type": "code",
      "metadata": {
        "id": "-p-B4lRpPCuI",
        "colab_type": "code",
        "outputId": "2a8eb6e6-d884-4ab9-b082-da93cee71cff",
        "colab": {
          "base_uri": "https://localhost:8080/",
          "height": 52
        }
      },
      "source": [
        "model_state, total_log_prob = greedy_search(\n",
        "    DummyModel(max_vars=4, no_repeated_literals=False),\n",
        "    sample_instance\n",
        "    )\n",
        "print(logical_form_to_str(model_state.parser_state.to_logical_form()))\n",
        "print(total_log_prob)"
      ],
      "execution_count": 330,
      "outputs": [
        {
          "output_type": "stream",
          "text": [
            "(lambda $w (and (kb-atlantic_ocean $w)))\n",
            "tensor(-3.0445)\n"
          ],
          "name": "stdout"
        }
      ]
    },
    {
      "cell_type": "markdown",
      "metadata": {
        "id": "9wE_ndLLPpeH",
        "colab_type": "text"
      },
      "source": [
        "Now, we've defined an (unbatched) beam search for you in the two cells below. Only a small number of actions will be allowed to be taken at any point in time by our transition system, so we've chosen to use dictionaries to map actions to scores:"
      ]
    },
    {
      "cell_type": "code",
      "metadata": {
        "id": "V6Gv1Snfq0SW",
        "colab_type": "code",
        "colab": {}
      },
      "source": [
        "def k_best(score_dict, k):\n",
        "  k = min(k, len(score_dict))\n",
        "  if k == 0:\n",
        "    return {}\n",
        "  actions, logits = zip(*score_dict.items())\n",
        "  logits = torch.stack(logits, dim=-1).flatten()\n",
        "  chosen_scores, indices = logits.topk(k, dim=-1)\n",
        "  indices = indices\n",
        "  return {\n",
        "    actions[index.item()]: score\n",
        "    for score, index in zip(chosen_scores, indices)\n",
        "  }"
      ],
      "execution_count": 0,
      "outputs": []
    },
    {
      "cell_type": "code",
      "metadata": {
        "id": "LtciQnNlq4z4",
        "colab_type": "code",
        "colab": {}
      },
      "source": [
        "def beam_search(model, instance, beam_size):\n",
        "  state = model.initialize_model_state(instance)\n",
        "  completed = []\n",
        "  # each beam item will be a tuple (state, cumulative log probs)\n",
        "  beam = [(state, torch.tensor(0.0))]\n",
        "  while beam and len(completed) < beam_size:\n",
        "    successors = []\n",
        "    for state, log_prob in beam:\n",
        "      scored_successors = k_best(state.action_log_probs, beam_size)\n",
        "      for action, action_log_prob in scored_successors.items():\n",
        "        successor_log_prob = log_prob + action_log_prob\n",
        "        successors.append((successor_log_prob, state, action))\n",
        "    # when we disallow repeated literals, we can get to parser states with no available actions\n",
        "    # so we need to check to see if there are successors available\n",
        "    if not successors:\n",
        "      break\n",
        "    log_probs = torch.stack([log_prob for log_prob, _, _ in successors], dim=-1).flatten()\n",
        "    if beam_size is None:\n",
        "      indices = torch.arange(len(successors))\n",
        "    else:\n",
        "      _, indices = log_probs.topk(min(len(successors), beam_size), dim=-1)\n",
        "    new_beam = []\n",
        "    for ix in indices:\n",
        "      log_prob, prev_state, action = successors[ix.item()]\n",
        "      state = prev_state.take_action(action)\n",
        "      if state.parser_state.is_complete:\n",
        "        completed.append((state, log_prob))\n",
        "      else:\n",
        "        new_beam.append((state, log_prob))\n",
        "    beam = new_beam\n",
        "\n",
        "  completed = sorted(completed, key=lambda t: t[1].item(), reverse=True)\n",
        "  completed = completed[:beam_size]\n",
        "  return completed"
      ],
      "execution_count": 0,
      "outputs": []
    },
    {
      "cell_type": "code",
      "metadata": {
        "id": "jHfwDe28Q2Jv",
        "colab_type": "code",
        "colab": {}
      },
      "source": [
        "def sample_search_model(model, beam_size):\n",
        "  \"\"\"\n",
        "  A convenience method for printing out beam search outputs\n",
        "  \"\"\"\n",
        "  for model_state, total_log_prob in beam_search(model, sample_instance, beam_size):\n",
        "      # with the transition system we've defined,\n",
        "      # it's possible to get into a parser state with no available actions\n",
        "      # so we need to check to ensure the parser state is complete before\n",
        "      # converting it to a logical form\n",
        "    if model_state.parser_state.is_complete:\n",
        "      logical_form = model_state.parser_state.to_logical_form()\n",
        "      print(\"{:.2f} {}\".format(total_log_prob.item(), logical_form_to_str(logical_form)))\n",
        "    else:\n",
        "      print(\"incomplete logical form\")"
      ],
      "execution_count": 0,
      "outputs": []
    },
    {
      "cell_type": "code",
      "metadata": {
        "colab_type": "code",
        "id": "r2ShzVMuP0ia",
        "outputId": "0f6795b6-3cfd-4820-e71f-1d86aa29085a",
        "colab": {
          "base_uri": "https://localhost:8080/",
          "height": 121
        }
      },
      "source": [
        "print_instance(sample_instance)"
      ],
      "execution_count": 334,
      "outputs": [
        {
          "output_type": "stream",
          "text": [
            "question           : what ocean borders virginia ?\n",
            "answer             : atlantic_ocean\n",
            "logical_form       : (lambda $w (exists $x (and (ocean $w) (border-rel $w $x) (kb-virginia $x))))\n",
            "world              : <World: va with 6 entities, 6 categories, 72 relations>\n",
            "possible_predicates: ['border-rel', 'kb-atlantic_ocean', 'kb-virginia', 'kb-virginia_beach', 'kb-west_virginia', 'ocean']\n",
            "denotation         : {'atlantic_ocean'}\n"
          ],
          "name": "stdout"
        }
      ]
    },
    {
      "cell_type": "code",
      "metadata": {
        "colab_type": "code",
        "id": "OgGWNRJIP0iq",
        "outputId": "36d1e3e0-79a3-4761-a6f9-b48606d3c7e0",
        "colab": {
          "base_uri": "https://localhost:8080/",
          "height": 364
        }
      },
      "source": [
        "sample_search_model(DummyModel(max_vars=1, no_repeated_literals=False), beam_size=20)"
      ],
      "execution_count": 335,
      "outputs": [
        {
          "output_type": "stream",
          "text": [
            "-2.48 (lambda $w (and (kb-virginia_beach $w)))\n",
            "-2.48 (lambda $w (and (kb-atlantic_ocean $w)))\n",
            "-2.48 (lambda $w (and (kb-virginia $w)))\n",
            "-2.48 (lambda $w (and (kb-west_virginia $w)))\n",
            "-2.48 (lambda $w (and (ocean $w)))\n",
            "-2.48 (lambda $w (and (border-rel $w $w)))\n",
            "-4.97 (lambda $w (and (kb-atlantic_ocean $w) (kb-virginia $w)))\n",
            "-4.97 (lambda $w (and (kb-virginia $w) (kb-west_virginia $w)))\n",
            "-4.97 (lambda $w (and (kb-virginia $w) (ocean $w)))\n",
            "-4.97 (lambda $w (and (kb-virginia $w) (kb-atlantic_ocean $w)))\n",
            "-4.97 (lambda $w (and (kb-virginia_beach $w) (ocean $w)))\n",
            "-4.97 (lambda $w (and (kb-virginia $w) (border-rel $w $w)))\n",
            "-4.97 (lambda $w (and (kb-atlantic_ocean $w) (border-rel $w $w)))\n",
            "-4.97 (lambda $w (and (border-rel $w $w) (ocean $w)))\n",
            "-4.97 (lambda $w (and (border-rel $w $w) (kb-atlantic_ocean $w)))\n",
            "-4.97 (lambda $w (and (kb-virginia_beach $w) (border-rel $w $w)))\n",
            "-4.97 (lambda $w (and (border-rel $w $w) (kb-virginia $w)))\n",
            "-4.97 (lambda $w (and (border-rel $w $w) (kb-west_virginia $w)))\n",
            "-4.97 (lambda $w (and (border-rel $w $w) (border-rel $w $w)))\n",
            "-7.45 (lambda $w (and (border-rel $w $w) (kb-virginia_beach $w) (kb-atlantic_ocean $w)))\n"
          ],
          "name": "stdout"
        }
      ]
    },
    {
      "cell_type": "markdown",
      "metadata": {
        "colab_type": "text",
        "id": "BJDNkbrLv4OP"
      },
      "source": [
        "You may notice that some literals are repeated within a single logical form, e.g. `... (border-rel $w $w) (border-rel $w $w) ...` (due to randomness, you may not see this exact example in the candidates above). Since these identical literals occur inside a conjunction, they're logically redundant. Because of this, we can prevent duplicate literals to reduce the search space, without affecting the expressiveness of the logical forms.\n",
        "\n",
        "Modify the `valid_actions` function below to prevent duplicate literals, if `self.parse_constraints.no_repeated_literals` is `True`. (We've copied this function from `ParserState.valid_actions`, and will monkey-patch `ParserState` with it, so that you don't have to scroll back and forth.)"
      ]
    },
    {
      "cell_type": "code",
      "metadata": {
        "id": "x7oeosbqwiYh",
        "colab_type": "code",
        "colab": {}
      },
      "source": [
        "def valid_actions(self: ParserState) -> List[str]:\n",
        "    # actions that can be taken if we've finished building the lambda expression\n",
        "    if self.is_complete:\n",
        "      return []\n",
        "    if self.has_lambda:\n",
        "      return [DONE_ACTION]\n",
        "\n",
        "    # otherwise, deal with each possible action type in turn\n",
        "    valid_actions = []\n",
        "\n",
        "    # complete the lambda expression\n",
        "    if self.variable_argument_stack.size == 0 and self.completed_literal_stack.size > 0:\n",
        "      for var in self.variables_introduced():\n",
        "        valid_actions.append(VARS_TO_COMPLETE_LAMBDA_ACTIONS[var])\n",
        "\n",
        "    # introduce a predicate, with arguments from argument_stack\n",
        "    if self.variable_argument_stack.size > 0:\n",
        "      possible_predicates = self.parse_constraints.possible_predicates\n",
        "      if possible_predicates is None:\n",
        "        possible_predicates = CATS + RELS + list(ENTITY_ACTIONS_TO_ENTITIES.keys())\n",
        "      possible_predicates = list(sorted(possible_predicates))\n",
        "\n",
        "      for predicate in possible_predicates:\n",
        "        if ParserState.PREDICATE_ARITIES[predicate] == self.variable_argument_stack.size:\n",
        "          if self.parse_constraints.no_repeated_literals:\n",
        "            # TODO: modify this method so that no repeated literals are allowed in the logical form\n",
        "            \"\"\"YOUR CODE HERE\"\"\"\n",
        "\n",
        "            repeated = [predicate == literal[0] for literal in self.completed_literal_stack]\n",
        "            if sum(repeated) > 0: continue\n",
        "\n",
        "          valid_actions.append(predicate)\n",
        "\n",
        "    # add a variable to the argument stack\n",
        "    if self.variable_argument_stack.size < ParserState.MAX_ARITY and (\n",
        "        # only start a new literal if we're strictly less than the maximum\n",
        "        (self.variable_argument_stack.size == 0 and self.completed_literal_stack.size < self.parse_constraints.max_literals) or\n",
        "        # only continue an existing literal if we're no greater than the maximum\n",
        "        (self.variable_argument_stack.size > 0 and self.completed_literal_stack.size <= self.parse_constraints.max_literals)\n",
        "    ):\n",
        "      valid_actions.extend(self.variables_usable())\n",
        "\n",
        "    return valid_actions\n",
        "\n",
        "ParserState.valid_actions = valid_actions"
      ],
      "execution_count": 0,
      "outputs": []
    },
    {
      "cell_type": "markdown",
      "metadata": {
        "id": "bwSQ6pIgxdiU",
        "colab_type": "text"
      },
      "source": [
        "With a correct implementation, you should now see that literals are not repeated:"
      ]
    },
    {
      "cell_type": "code",
      "metadata": {
        "colab_type": "code",
        "id": "VzwuZQPyv31I",
        "outputId": "a02bac5e-79cc-4359-c7b5-e271158ceee4",
        "colab": {
          "base_uri": "https://localhost:8080/",
          "height": 364
        }
      },
      "source": [
        "sample_search_model(DummyModel(max_vars=1, no_repeated_literals=True), beam_size=20)"
      ],
      "execution_count": 337,
      "outputs": [
        {
          "output_type": "stream",
          "text": [
            "-2.48 (lambda $w (and (kb-virginia_beach $w)))\n",
            "-2.48 (lambda $w (and (kb-atlantic_ocean $w)))\n",
            "-2.48 (lambda $w (and (kb-virginia $w)))\n",
            "-2.48 (lambda $w (and (kb-west_virginia $w)))\n",
            "-2.48 (lambda $w (and (ocean $w)))\n",
            "-2.48 (lambda $w (and (border-rel $w $w)))\n",
            "-4.79 (lambda $w (and (kb-virginia $w) (kb-atlantic_ocean $w)))\n",
            "-4.79 (lambda $w (and (kb-atlantic_ocean $w) (kb-virginia_beach $w)))\n",
            "-4.79 (lambda $w (and (kb-virginia_beach $w) (kb-west_virginia $w)))\n",
            "-4.79 (lambda $w (and (kb-virginia $w) (kb-west_virginia $w)))\n",
            "-4.79 (lambda $w (and (ocean $w) (kb-virginia $w)))\n",
            "-4.79 (lambda $w (and (kb-virginia_beach $w) (border-rel $w $w)))\n",
            "-4.79 (lambda $w (and (kb-atlantic_ocean $w) (border-rel $w $w)))\n",
            "-4.79 (lambda $w (and (kb-virginia $w) (border-rel $w $w)))\n",
            "-4.97 (lambda $w (and (border-rel $w $w) (ocean $w)))\n",
            "-4.97 (lambda $w (and (border-rel $w $w) (kb-atlantic_ocean $w)))\n",
            "-4.97 (lambda $w (and (border-rel $w $w) (kb-virginia $w)))\n",
            "-4.97 (lambda $w (and (border-rel $w $w) (kb-virginia_beach $w)))\n",
            "-4.97 (lambda $w (and (border-rel $w $w) (kb-west_virginia $w)))\n",
            "-7.09 (lambda $w (and (kb-atlantic_ocean $w) (border-rel $w $w) (kb-west_virginia $w)))\n"
          ],
          "name": "stdout"
        }
      ]
    },
    {
      "cell_type": "markdown",
      "metadata": {
        "id": "LeGC1PWcI7Ea",
        "colab_type": "text"
      },
      "source": [
        "The test cell below, which checks to ensure that there are no repeated literals, should pass."
      ]
    },
    {
      "cell_type": "code",
      "metadata": {
        "id": "nd4as9-8e8pt",
        "colab_type": "code",
        "colab": {}
      },
      "source": [
        "for model_state, score in beam_search(DummyModel(max_vars=1, no_repeated_literals=True), sample_instance, 1000):\n",
        "  completed_literals = model_state.parser_state.completed_literal_stack.tolist()\n",
        "  # check for duplicate literals\n",
        "  assert len(completed_literals) == len(set(completed_literals))"
      ],
      "execution_count": 0,
      "outputs": []
    },
    {
      "cell_type": "markdown",
      "metadata": {
        "id": "BtjbJKN0xjB8",
        "colab_type": "text"
      },
      "source": [
        "And the test from before of logical form -> parser state -> logical form (now using `no_repeated_literals=True`) should still pass:"
      ]
    },
    {
      "cell_type": "code",
      "metadata": {
        "id": "7hYyMcn_e4Jz",
        "colab_type": "code",
        "colab": {}
      },
      "source": [
        "no_repeats_parse_options = ParseConstraints(\n",
        "    possible_predicates=PREDICATES, \n",
        "    max_vars=len(VARS), \n",
        "    no_repeated_literals=True, \n",
        "    max_literals=MAX_LITERALS\n",
        ")\n",
        "for logical_form in logical_forms:\n",
        "  if logical_form is None:\n",
        "    continue\n",
        "  parser_state = ParserState.from_logical_form(logical_form, no_repeats_parse_options)\n",
        "  round_trip_logical_form = parser_state.to_logical_form()\n",
        "  assert logical_form == round_trip_logical_form, \"{} != {}\".format(logical_form, round_trip_logical_form)\n"
      ],
      "execution_count": 0,
      "outputs": []
    },
    {
      "cell_type": "markdown",
      "metadata": {
        "id": "pGKvYAWxSfMj",
        "colab_type": "text"
      },
      "source": [
        "We'll now evaluate this `DummyModel` as a very simple baseline, using [geoqa.evaluation.evaluate_predictions](https://github.com/dpfried/geoqa-release/blob/master/geoqa/evaluation.py), in the two cells below. You might be surprised at the accuracy; a few structural and lexical constraints can go a long way on this dataset, and it's also sometimes possible to get the correct denotation through an incorrect logical form (this will complicate things later on, when we learn from denotations alone). However, examining some instances will show that this baseline model has very poor performance on complex examples."
      ]
    },
    {
      "cell_type": "markdown",
      "metadata": {
        "id": "dhK6TbZAOd12",
        "colab_type": "text"
      },
      "source": [
        "Note: some of the questions are yes/no questions (e.g. _is virginia east of west virginia_). If the denotation for a question is empty (`set()`), it should be interpreted as a \"no\" answer; if the denotation is non-empty (`{'virginia'}`) it should be interpreted as a yes. A different version of this dataset, introduced by [Andreas et al. 2016](https://arxiv.org/abs/1601.01705), adds an `any` operation to the logical forms for yes/no questions, which maps empty denotations to \"no\" and non-empty to \"yes\", but this makes training from denotations (which we'll do later on) more difficult."
      ]
    },
    {
      "cell_type": "code",
      "metadata": {
        "id": "RceZcr5D4Fzn",
        "colab_type": "code",
        "colab": {}
      },
      "source": [
        "def make_greedy_prediction_function(model):\n",
        "  # helper function to make a prediction function for evaluate_predictions for a model\n",
        "  def prediction_function(instance):\n",
        "    state, _ = greedy_search(model, instance)\n",
        "    if state.parser_state.is_complete:\n",
        "      return state.parser_state.to_logical_form()\n",
        "    else:\n",
        "      None\n",
        "  return prediction_function"
      ],
      "execution_count": 0,
      "outputs": []
    },
    {
      "cell_type": "code",
      "metadata": {
        "id": "jYhCXEm9SmxO",
        "colab_type": "code",
        "outputId": "ca544714-2f8e-4f82-b7e3-5c01ce3de3c4",
        "colab": {
          "base_uri": "https://localhost:8080/",
          "height": 1000
        }
      },
      "source": [
        "dummy_model = DummyModel(max_vars=4, no_repeated_literals=True)\n",
        "evaluate_predictions(\n",
        "  GeoDataset(DEV_STATES, word_to_embedding), 'dev', execute,\n",
        "  prediction_function=make_greedy_prediction_function(dummy_model),\n",
        "  display_predictions_frequency=5\n",
        ")"
      ],
      "execution_count": 341,
      "outputs": [
        {
          "output_type": "stream",
          "text": [
            "dev example 1\n",
            "dev question: what states are there ?\n",
            "dev true LF: (lambda $w (and (state $w)))\n",
            "dev pred LF: (lambda $w (and (state $w)))\n",
            "dev true denotation: {'north_carolina', 'virginia', 'west_virginia'}\n",
            "dev pred denotation: {'north_carolina', 'virginia', 'west_virginia'}\n",
            "dev denotation match: True\n",
            "\n",
            "dev example 6\n",
            "dev question: what is the capital of virginia ?\n",
            "dev true LF: (lambda $w (exists $x (and (capital-rel $w $x) (kb-virginia $x))))\n",
            "dev pred LF: (lambda $w (and (capital $w)))\n",
            "dev true denotation: {'richmond'}\n",
            "dev pred denotation: set()\n",
            "dev denotation match: False\n",
            "\n",
            "dev example 11\n",
            "dev question: what cities in west virginia ?\n",
            "dev true LF: (lambda $w (exists $x (and (city $w) (in-rel $w $x) (kb-west_virginia $x))))\n",
            "dev pred LF: (lambda $w (and (city $w)))\n",
            "dev true denotation: set()\n",
            "dev pred denotation: {'richmond', 'virginia_beach'}\n",
            "dev denotation match: False\n",
            "\n",
            "dev example 16\n",
            "dev question: what state is south of west virginia ?\n",
            "dev true LF: (lambda $w (exists $x (and (state $w) (south-rel $w $x) (kb-west_virginia $x))))\n",
            "dev pred LF: (lambda $w (and (kb-virginia $w)))\n",
            "dev true denotation: {'virginia'}\n",
            "dev pred denotation: {'virginia'}\n",
            "dev denotation match: True\n",
            "\n",
            "dev example 21\n",
            "dev question: what ocean borders virginia ?\n",
            "dev true LF: (lambda $w (exists $x (and (ocean $w) (border-rel $w $x) (kb-virginia $x))))\n",
            "dev pred LF: (lambda $w (and (kb-atlantic_ocean $w)))\n",
            "dev true denotation: {'atlantic_ocean'}\n",
            "dev pred denotation: {'atlantic_ocean'}\n",
            "dev denotation match: True\n",
            "\n",
            "dev example 26\n",
            "dev question: is virginia beach inside of west virginia ?\n",
            "dev true LF: (lambda $w (exists $x (and (kb-virginia_beach $w) (inside-rel $w $x) (kb-west_virginia $x))))\n",
            "dev pred LF: (lambda $w (and (beach $w)))\n",
            "dev true denotation: set()\n",
            "dev pred denotation: set()\n",
            "dev denotation match: True\n",
            "\n",
            "dev example 31\n",
            "dev question: is the atlantic ocean in west virginia ?\n",
            "dev true LF: (lambda $w (exists $x (and (kb-atlantic_ocean $w) (in-rel $w $x) (kb-west_virginia $x))))\n",
            "dev pred LF: (lambda $w (and (kb-atlantic_ocean $w)))\n",
            "dev true denotation: set()\n",
            "dev pred denotation: {'atlantic_ocean'}\n",
            "dev denotation match: False\n",
            "\n",
            "dev example 36\n",
            "dev question: what cities are in virginia ?\n",
            "dev true LF: (lambda $w (exists $x (and (city $w) (in-rel $w $x) (kb-virginia $x))))\n",
            "dev pred LF: (lambda $w (and (city $w)))\n",
            "dev true denotation: {'richmond'}\n",
            "dev pred denotation: {'richmond', 'charleston'}\n",
            "dev denotation match: False\n",
            "\n",
            "dev example 41\n",
            "dev question: is virginia east of west virginia ?\n",
            "dev true LF: (lambda $w (exists $x (and (kb-virginia $w) (east-rel $w $x) (kb-west_virginia $x))))\n",
            "dev pred LF: (lambda $w (and (kb-virginia $w)))\n",
            "dev true denotation: {'virginia'}\n",
            "dev pred denotation: {'virginia'}\n",
            "dev denotation match: True\n",
            "\n"
          ],
          "name": "stdout"
        },
        {
          "output_type": "execute_result",
          "data": {
            "text/plain": [
              "{'dev_denotation_acc': 0.4146341463414634}"
            ]
          },
          "metadata": {
            "tags": []
          },
          "execution_count": 341
        }
      ]
    },
    {
      "cell_type": "markdown",
      "metadata": {
        "id": "RV7-bqimfHLs",
        "colab_type": "text"
      },
      "source": [
        "Now we'll implement a neural model to train on the dataset. We've defined the encoder for you in the cell below, following one possible implementation for the encoder from project 2. The dataset is small enough that batching and using a GPU are unnecessary, so we will leave them out for simplicity."
      ]
    },
    {
      "cell_type": "code",
      "metadata": {
        "id": "W4EhpM-nQaXa",
        "colab_type": "code",
        "colab": {}
      },
      "source": [
        "class Encoder(nn.Module):\n",
        "  def __init__(self, hidden_dim, word_vector_dim, dropout):\n",
        "    # word_vectors: vocab_size x dim\n",
        "    super(Encoder, self).__init__()\n",
        "    self.hidden_dim = hidden_dim\n",
        "    self.word_vector_dim = word_vector_dim\n",
        "    self.dropout = nn.Dropout(dropout)\n",
        "    self.lstm = nn.LSTM(self.word_vector_dim, hidden_dim,\n",
        "                        bidirectional=True, batch_first=True)\n",
        "\n",
        "  def forward(self, embedded_sentence):\n",
        "    # embedded_sentence: T x word_vector_dim\n",
        "    lstm_out, (h_n, c_n) = self.lstm(embedded_sentence.unsqueeze(0))\n",
        "\n",
        "    # eliminate batch dimension\n",
        "    h_n = h_n.squeeze(0)\n",
        "    c_n = c_n.squeeze(0)\n",
        "\n",
        "    # n_layers x directions x T\n",
        "    h_n = h_n.view(1, 2, -1).mean(1)\n",
        "    c_n = c_n.view(1, 2, -1).mean(1)\n",
        "\n",
        "    # eliminate batch dimension\n",
        "    lstm_out = lstm_out.squeeze(0)\n",
        "    return self.dropout(lstm_out), (h_n, c_n)\n"
      ],
      "execution_count": 0,
      "outputs": []
    },
    {
      "cell_type": "markdown",
      "metadata": {
        "id": "rhgBh1oQNeaw",
        "colab_type": "text"
      },
      "source": [
        "Before building the decoder, we'll define some helper functions to work with probability distributions over actions in log space."
      ]
    },
    {
      "cell_type": "code",
      "metadata": {
        "id": "iqY4QGRy4KDe",
        "colab_type": "code",
        "colab": {}
      },
      "source": [
        "# helper functions to deal with probabilities in log space\n",
        "def sum_log_probs(log_probs):\n",
        "  # log_probs: List[tensor]\n",
        "  # compute \\log \\sum_x \\exp x\n",
        "  return torch.logsumexp(torch.stack(\n",
        "    list(log_probs), dim=-1\n",
        "  ), -1)\n",
        "\n",
        "def renormalize_log_prob_dict(log_prob_dict):\n",
        "  # log_prob_dict: Dict[str, tensor]\n",
        "  # rescale the log probs so that when exponentiated, they sum to 1\n",
        "  if not log_prob_dict:\n",
        "    return log_prob_dict\n",
        "  Z = sum_log_probs(log_prob_dict.values())\n",
        "  return {k: v - Z for k, v in log_prob_dict.items()}\n",
        "\n",
        "def filter_log_prob_dict(log_prob_dict, valid_actions):\n",
        "  return {\n",
        "    k: v for k, v in log_prob_dict.items()\n",
        "    if k in valid_actions\n",
        "  }\n",
        "\n",
        "def is_normalized(log_prob_dict):\n",
        "  # log_prob_dict: Dict[str, tensor]\n",
        "  # check that this dictionary is normalized in log space\n",
        "  # e.g. as returned by renormalize_log_prob_dict\n",
        "  if not log_prob_dict:\n",
        "    return True\n",
        "  return torch.allclose(\n",
        "    sum_log_probs(log_prob_dict.values()).exp(),\n",
        "    torch.tensor(1.0),\n",
        "    atol=1e-3\n",
        "  )"
      ],
      "execution_count": 0,
      "outputs": []
    },
    {
      "cell_type": "markdown",
      "metadata": {
        "id": "ojwfaXywfRLm",
        "colab_type": "text"
      },
      "source": [
        "You'll now define part of the Decoder. You'll implement an attention-based pointer-generator model (based roughly on section 3.2 of [Jia and Liang 2016](https://arxiv.org/pdf/1606.03622.pdf) and section 2.2 of [See et al. 2017](https://arxiv.org/pdf/1704.04368.pdf)), which is useful for sequence-to-sequence tasks where parts of the output are copied from the input (in our case, predicates will be copied from the tokens they are associated with). \n",
        "\n",
        "Actions can be produced either through a `generate` action (given by predicting them from a standard projection layer, similar to the vocab prediction in the previous assignments) or a `copy` action: \"pointing\" to them in the set of predicates associated with each token in the question, using an attention mechanism. \n",
        "\n",
        "An action is produced by marginalizing over a binary choice to `copy` or `generate`, with $p(copy) = 1 - p(generate)$:\n",
        "\n",
        "$p(action) = p(action | generate) * p(generate) + p(action | copy) * p(copy)$\n",
        "\n",
        "`STRUCTURAL_ACTIONS` can only be produced by generating. `DATABASE_SPECIFIC_PREDICATE_ACTIONS` can only be produced by copying (since all of these will be unseen when evaluating on a new database). `CROSS_DATABASE_PREDICATE_ACTIONS` can be produced either by generating or copying.\n",
        "\n",
        "\n",
        "You'll implement this in the `forward()` method of `Decoder`, computing $p(action)$ for each action in `actions_to_score` by combining the probabilities as above. Below are details about the generation mechanism (which we've implemented) and copy mechanism (which you'll implement).\n",
        "\n",
        "__Generation mechanism__\n",
        "\n",
        "$p(action | generate)$ is produced using a standard projection layer similar to the vocab prediction in the previous assignments, assigning scores to actions in `STRUCTURAL_ACTIONS` + `CROSS_DATABASE_PREDICATE_ACTIONS`. We've implemented this for you, in `_generate_log_probs()`.\n",
        "\n",
        "__Copy mechanism__\n",
        "\n",
        "Actions for predicates that are associated with words in the sentence can be produced by \"pointing\" to them with an attention mechanism. We will reuse the decoder's attention mechanism, masked and renormalized to only be over those tokens that have associated predicates, to give a distribution $p(position | copy)$. A given predicate can appear with multiple tokens, so marginalize over the positions in the sentence:\n",
        "\n",
        "$p(action | copy) = \\sum_{position} p(action | position, copy) p(position | copy)$\n",
        "\n",
        "A given position can have zero, one, or multiple predicates associated with it (e.g. the token \"ocean\" can have both the `ocean` or the `kb-atlantic_ocean` predicates associated with it); produce a distribution over the predicates at each position using a softmax of the dot product between a `predicate_key` vector (a projection of the decoder state, which we've computed for you) and the pretrained embedding for the action's predicate:\n",
        "\n",
        "$p(action | position, copy) = softmax(\\texttt{predicate_embedding}^\\top \\texttt{predicate_key})$\n",
        "\n",
        "You'll implement this in the `.copy_log_probs()` method in `Decoder` below."
      ]
    },
    {
      "cell_type": "markdown",
      "metadata": {
        "id": "uUuvdfF1OTz4",
        "colab_type": "text"
      },
      "source": [
        "Fill in the `._copy_log_probs()` and `.forward()` methods in the `Decoder` class below.\n",
        "\n",
        "__Implementation tip__: Do probability calculations in log space: `p*q` can be computed using `+` when values are represented as log probabilities. In the same way, the `torch.logsumexp` function computes the sum `p+q` when `p` and `q` (and the returned value) are represented as log probabilities."
      ]
    },
    {
      "cell_type": "code",
      "metadata": {
        "id": "feAB09qGQv_U",
        "colab_type": "code",
        "colab": {}
      },
      "source": [
        "class Decoder(nn.Module):\n",
        "  START_ACTION = \"<START>\"\n",
        "  DATABASE_SPECIFIC_ACTION = \"<KB_ENTITY>\"\n",
        "\n",
        "  def __init__(self, hidden_dim, action_embedding_dim, input_action_vec_dim, dropout):\n",
        "    super(Decoder, self).__init__()\n",
        "    self.hidden_dim = hidden_dim\n",
        "    self.action_embedding_dim = action_embedding_dim\n",
        "    self.input_action_vec_dim = input_action_vec_dim\n",
        "\n",
        "    self.action_index = Index()\n",
        "    generable_indices = []\n",
        "    for action in STRUCTURAL_ACTIONS:\n",
        "      generable_indices.append(self.action_index.index(action))\n",
        "    for action in CROSS_DATABASE_PREDICATE_ACTIONS:\n",
        "      generable_indices.append(self.action_index.index(action))\n",
        "    self.generable_indices = generable_indices\n",
        "    self.START_INDEX = self.action_index.index(Decoder.START_ACTION)\n",
        "    self.DATABASE_SPECIFIC_ACTION_INDEX = self.action_index.index(Decoder.DATABASE_SPECIFIC_ACTION)\n",
        "    self.action_index.frozen = True\n",
        "\n",
        "    self.action_embeddings = nn.Embedding(self.action_index.size(), self.action_embedding_dim)\n",
        "\n",
        "    self.dropout = nn.Dropout(dropout)\n",
        "    self.lstm_cell = nn.LSTMCell(self.action_embedding_dim, self.hidden_dim)\n",
        "\n",
        "    self.action_scoring_layer = nn.Linear(hidden_dim, self.input_action_vec_dim)\n",
        "\n",
        "    self.encoder_projection = nn.Linear(hidden_dim * 2, hidden_dim)\n",
        "    self.copy_or_generate_layer = nn.Linear(hidden_dim, 2)\n",
        "    self.generate_layer = nn.Linear(hidden_dim, len(generable_indices))\n",
        "\n",
        "  def _pre_prediction(self, encoder_output, last_action, last_hidden):\n",
        "    if last_action in self.action_index:\n",
        "      action_index = self.action_index.index(last_action)\n",
        "    elif last_action is None:\n",
        "      action_index = self.START_INDEX\n",
        "    else:\n",
        "      action_index = self.DATABASE_SPECIFIC_ACTION_INDEX\n",
        "\n",
        "    embedded_action = self.action_embeddings(torch.LongTensor([action_index]))\n",
        "    h, c = self.lstm_cell(embedded_action, last_hidden)\n",
        "    hidden_state = (h, c)\n",
        "    decoder_out = h.squeeze(0)\n",
        "    decoder_out = self.dropout(decoder_out)\n",
        "\n",
        "    encoder_output_projected = self.encoder_projection(encoder_output)\n",
        "\n",
        "    attention_logits = torch.einsum(\"th,h->t\", [encoder_output_projected, decoder_out])\n",
        "    attention_dist = torch.softmax(attention_logits, dim=-1)\n",
        "    pooled_inputs = torch.einsum(\"th,t->h\", [encoder_output_projected, attention_dist])\n",
        "\n",
        "    output_with_attention = decoder_out + pooled_inputs\n",
        "\n",
        "    return hidden_state, output_with_attention, attention_logits\n",
        "\n",
        "  def _position_attention(self, predicates_at_each_word_position, attention_logits):\n",
        "    positions_without_actions = [ix for ix, l in enumerate(predicates_at_each_word_position) if not l]\n",
        "    position_attention_logits = attention_logits.clone()\n",
        "    position_attention_logits[positions_without_actions] = BIG_NEG\n",
        "    if len(positions_without_actions) == len(predicates_at_each_word_position):\n",
        "      raise ValueError('no valid positions with predicates to copy to')\n",
        "    return torch.log_softmax(position_attention_logits, dim=-1)\n",
        "\n",
        "  def _generate_log_probs(self, actions_to_score, output_with_attention):\n",
        "    # return log p(action | generate) for actions in actions_to_score,\n",
        "    # as a dictionary mapping actions to torch scalars\n",
        "    # log probabilities will be normalized over all generable actions; *NOT* over just actions_to_score\n",
        "    # (renormalization will happen at the end of forward(), after all marginalizations are complete)\n",
        "    logits = self.generate_layer(output_with_attention)\n",
        "    log_probs = torch.log_softmax(logits, dim=-1)\n",
        "    return {\n",
        "      action: log_probs[self.action_index.index(action)]\n",
        "      for action in actions_to_score\n",
        "      if action in self.action_index\n",
        "    }\n",
        "\n",
        "  def _copy_log_probs(self,\n",
        "                         predicate_key,\n",
        "                         predicates_at_each_word_position,\n",
        "                         embedded_predicates_at_each_word_position,\n",
        "                         position_attention_log_probs,\n",
        "                         copyable_actions):\n",
        "    \"\"\"\n",
        "\n",
        "    :param predicate_key:\n",
        "      tensor of size (embedded_predicate_dim,)\n",
        "    :param predicates_at_each_word_position:\n",
        "      List[List[str]], containing the list of predicates associated with each position in the sentence\n",
        "    :param embedded_predicates_at_each_word_position:\n",
        "      List[tensor], containing the predicate embeddings associated with each position in the sentence.\n",
        "      embedded_predicates_at_each_word_position[i].size() == len(predicates_at_each_word_position[i]), embedding_dim\n",
        "    :param position_attention_log_probs:\n",
        "      tensor of size (len(sentence)), containing log p(position | copy)\n",
        "    :param copyable_actions:\n",
        "      Set[str], containing all predicates that can be copied to in this sentence\n",
        "    :return:\n",
        "      log p(action | copy) for actions in actions_to_score,\n",
        "      as a dictionary mapping actions to torch scalars\n",
        "      this dictionary should be normalized (in log space), over all copyable actions\n",
        "      Implementation tip: you shouldn't have to normalize this yourself, it should happen\n",
        "      by construction\n",
        "    \"\"\"\n",
        "\n",
        "    \"\"\"YOUR CODE HERE\"\"\"\n",
        "\n",
        "    log_probs_actions_over_positions = [torch.log_softmax( torch.einsum(\"ij,j->i\", [embedded_predicates, predicate_key]), dim=-1)\n",
        "                                        if embedded_predicates.size(0) else None\n",
        "                                        for embedded_predicates in embedded_predicates_at_each_word_position\n",
        "                                       ]\n",
        "    log_probs_actions = {}\n",
        "\n",
        "    for action in copyable_actions:\n",
        "\n",
        "      action_indices = [predicates.index(action) if action in predicates else -1\n",
        "                        for predicates in predicates_at_each_word_position\n",
        "                       ]\n",
        "      log_probs_action_over_positions = [log_probs[i] if i != -1 else BIG_NEG\n",
        "                                         for i, log_probs in zip(action_indices, log_probs_actions_over_positions)\n",
        "                                        ]\n",
        "      log_probs_action_over_positions = torch.tensor(log_probs_action_over_positions)\n",
        "      log_probs_action_prod = log_probs_action_over_positions + position_attention_log_probs\n",
        "      log_probs_actions[action] = torch.logsumexp(log_probs_action_prod, dim=-1)\n",
        "\n",
        "    return log_probs_actions\n",
        "\n",
        "  def forward(self,\n",
        "              encoder_output,\n",
        "              predicates_at_each_word_position,  # [[action, vector]]\n",
        "              embedded_predicates_at_each_word_position,\n",
        "              last_action,\n",
        "              last_hidden_state,\n",
        "              actions_to_score):\n",
        "    \"\"\"\n",
        "    :return:\n",
        "      * action_log_probs: a Dict[str, tensor], mapping each action in actions_to_score to a scalar tensor, giving the action's log probability\n",
        "      * hidden_state: (h, c), decoder's updated hidden state after taking last_action\n",
        "    \"\"\"\n",
        "    T, hidden_dim = encoder_output.size()\n",
        "\n",
        "    # hidden_state: (h, c), each a tensor of size (hidden_dim,)\n",
        "    # output_with_attention: tensor of size (hidden_dim,)\n",
        "    # attention_logits: tensor of size (T,)\n",
        "    hidden_state, output_with_attention, attention_logits = self._pre_prediction(\n",
        "      encoder_output, last_action, last_hidden_state\n",
        "    )\n",
        "\n",
        "    all_predicates = set([p for ps in predicates_at_each_word_position for p in ps])\n",
        "    #\n",
        "\n",
        "    # copy_lp and generate_lp are each scalar tensors, giving log p(copy) and log p(generate)\n",
        "    copy_lp, generate_lp = torch.log_softmax(self.copy_or_generate_layer(output_with_attention), dim=-1)\n",
        "\n",
        "    # generate_action_log_probs. log p(action | generate), for generable actions in actions_to_score\n",
        "    # a Dict[str, tensor], mapping each action in actions_to_score to a scalar tensor, giving the action's log probability\n",
        "    generate_action_log_probs = self._generate_log_probs(actions_to_score, output_with_attention)\n",
        "\n",
        "    # position_attention_log_probs: tensor of size (T,) giving log p(position | copy)\n",
        "    position_attention_log_probs = self._position_attention(predicates_at_each_word_position, attention_logits)\n",
        "\n",
        "    # compute log p(action | copy) for actions in all_predicates (the copyable actions)\n",
        "    # a Dict[str, tensor], mapping each action in all_predicates to a scalar tensor, giving the action's log probability\n",
        "    copy_action_log_probs = self._copy_log_probs(\n",
        "      self.action_scoring_layer(output_with_attention),\n",
        "      predicates_at_each_word_position,\n",
        "      embedded_predicates_at_each_word_position,\n",
        "      position_attention_log_probs,\n",
        "      all_predicates\n",
        "    )\n",
        "    if copy_action_log_probs:\n",
        "      assert is_normalized(copy_action_log_probs)\n",
        "\n",
        "    # now, filter this down to only those actions we want to score\n",
        "    copy_action_log_probs = filter_log_prob_dict(copy_action_log_probs, actions_to_score)\n",
        "\n",
        "    # compute the probability of each action, p(action) as:\n",
        "    # p(action) = p(action | generate) * p(generate) + p(action | copy) * p(copy)\n",
        "    # p(position | copy) is given by position_attention_log_probs (a tensor)\n",
        "    # p(action | generate) and p(action | copy) are given by generate_action_log_probs and copy_action_log_probs (dictionaries), above\n",
        "\n",
        "    \"\"\"YOUR CODE HERE\"\"\"\n",
        "\n",
        "    action_log_probs = {}\n",
        "\n",
        "    for action in actions_to_score:\n",
        "\n",
        "      if action in STRUCTURAL_ACTIONS:\n",
        "        action_log_probs[action] = generate_action_log_probs[action] + generate_lp\n",
        "      elif action in DATABASE_SPECIFIC_PREDICATE_ACTIONS:\n",
        "        action_log_probs[action] = copy_action_log_probs[action] + copy_lp\n",
        "\n",
        "      elif action in CROSS_DATABASE_PREDICATE_ACTIONS:\n",
        "\n",
        "        log_probs = [generate_action_log_probs[action] + generate_lp, copy_action_log_probs[action] + copy_lp]\n",
        "        action_log_probs[action] = sum_log_probs(log_probs)\n",
        "\n",
        "      else:\n",
        "        assert 0 == 1, \"Warning! Debug\"\n",
        "\n",
        "    assert all(a in action_log_probs for a in actions_to_score)\n",
        "    # since this contains only a subset of actions, renormalize (in log-space)\n",
        "    filtered = renormalize_log_prob_dict(\n",
        "      filter_log_prob_dict(action_log_probs, valid_actions=actions_to_score)\n",
        "    )\n",
        "    for v in filtered.values():\n",
        "      assert v > -1e8\n",
        "    return filtered, hidden_state"
      ],
      "execution_count": 0,
      "outputs": []
    },
    {
      "cell_type": "markdown",
      "metadata": {
        "id": "Wnm44g0Aesip",
        "colab_type": "text"
      },
      "source": [
        "The cell below defines a `Model` class using this `Encoder` and `Decoder`, with the same interface we used in `DummyModel`. We've hardcoded some hyperparameters for size and dropout that we found to work well."
      ]
    },
    {
      "cell_type": "code",
      "metadata": {
        "id": "NnvpPyELQ1IT",
        "colab_type": "code",
        "colab": {}
      },
      "source": [
        "class Model(nn.Module):\n",
        "  def __init__(self, max_vars=len(VARS), no_repeated_literals=True, max_literals=MAX_LITERALS):\n",
        "    super(Model, self).__init__()\n",
        "    self.max_vars = max_vars\n",
        "    self.max_literals = max_literals\n",
        "    self.no_repeated_literals = no_repeated_literals\n",
        "\n",
        "    self.hidden_dim = 50\n",
        "    self.action_embedding_dim = 50\n",
        "    self.dropout = 0.2\n",
        "\n",
        "    self.encoder = Encoder(self.hidden_dim, EMBEDDING_DIM, self.dropout)\n",
        "    self.decoder = Decoder(self.hidden_dim, self.action_embedding_dim, EMBEDDING_DIM, self.dropout)\n",
        "    self.max_vars = max_vars\n",
        "\n",
        "  def initialize_model_state(self, instance):\n",
        "    parse_constraints = ParseConstraints(\n",
        "      possible_predicates=instance['possible_predicates'],\n",
        "      max_vars=self.max_vars,\n",
        "      no_repeated_literals=self.no_repeated_literals,\n",
        "      max_literals=self.max_literals,\n",
        "    )\n",
        "    parser_state = ParserState.initial_state(parse_constraints)\n",
        "\n",
        "    encoder_output, encoder_hidden = self.encoder(instance['embedded_words'])\n",
        "\n",
        "    # define a decoder variable so that we can reference it inside the ModelState class without using self;\n",
        "    decoder = self.decoder\n",
        "\n",
        "    # embed this class so that we don't have to reencode the input every time we take an action\n",
        "    class ModelState(_ModelState):\n",
        "      @staticmethod\n",
        "      def _create_from_hidden_and_action(last_hidden_state, last_action, parser_state: ParserState):\n",
        "        possible_actions = parser_state.valid_actions()\n",
        "        action_log_probs, hidden = decoder(\n",
        "          encoder_output,\n",
        "          instance['predicates_at_each_word_position'],\n",
        "          instance['embedded_predicates_at_each_word_position'],\n",
        "          last_action,\n",
        "          last_hidden_state,\n",
        "          actions_to_score=possible_actions\n",
        "        )\n",
        "        return ModelState(parser_state, hidden, action_log_probs)\n",
        "\n",
        "      def take_action(self, action: str):\n",
        "        parser_state = self.parser_state.take_action(action)\n",
        "        return ModelState._create_from_hidden_and_action(self.hidden_state, action, parser_state)\n",
        "\n",
        "    # the decoder expects None to start the action sequence\n",
        "    last_action = None\n",
        "    return ModelState._create_from_hidden_and_action(encoder_hidden, last_action, parser_state)"
      ],
      "execution_count": 0,
      "outputs": []
    },
    {
      "cell_type": "markdown",
      "metadata": {
        "id": "RjB3AKvAdsK4",
        "colab_type": "text"
      },
      "source": [
        "## Supervised Training"
      ]
    },
    {
      "cell_type": "markdown",
      "metadata": {
        "id": "mLcB77Tw7gdL",
        "colab_type": "text"
      },
      "source": [
        "We'll first assume a supervised setting, where logical forms are provided for each question and used to directly supervise the model outputs. Later on, we'll relax this assumption and train from questions and denotations (answers) alone, using latent logical forms. In the two cells below, we've provided training code that will use the model and parser states you've defined."
      ]
    },
    {
      "cell_type": "code",
      "metadata": {
        "id": "bK74FVyS5VVl",
        "colab_type": "code",
        "colab": {}
      },
      "source": [
        "def make_beam_prediction_function(model, beam_size=5):\n",
        "  # helper function to make a prediction function for evaluate_predictions for a model\n",
        "  def prediction_function(instance):\n",
        "    candidates = beam_search(model, instance, beam_size)\n",
        "    if not candidates:\n",
        "      return None\n",
        "    state, _ = candidates[0]\n",
        "    if state.parser_state.is_complete:\n",
        "      return state.parser_state.to_logical_form()\n",
        "    else:\n",
        "      return None\n",
        "  return prediction_function"
      ],
      "execution_count": 0,
      "outputs": []
    },
    {
      "cell_type": "code",
      "metadata": {
        "id": "mfFusJ0SrftT",
        "colab_type": "code",
        "colab": {}
      },
      "source": [
        "def train(model, train_dataset, dev_dataset, model_file, num_epochs=10, latent_logical_forms=False,\n",
        "          training_beam_size=None, learning_rate=1e-3, display_predictions_frequency=None):\n",
        "  optimizer = torch.optim.Adam(model.parameters(), lr=learning_rate)\n",
        "  stats_by_epoch = {}\n",
        "\n",
        "  train_dataloader = DataLoader(train_dataset, shuffle=True, batch_size=1, collate_fn=lambda x: x)\n",
        "\n",
        "  if latent_logical_forms:\n",
        "    assert training_beam_size is not None\n",
        "\n",
        "  if not latent_logical_forms:\n",
        "    loss_function_for_eval = lambda instance: supervised_loss(model, instance).item()\n",
        "  else:\n",
        "    loss_function_for_eval = None\n",
        "\n",
        "  prediction_function = make_beam_prediction_function(model, 5)\n",
        "\n",
        "  best_metric = 0.0\n",
        "  for epoch in tqdm.notebook.trange(num_epochs, desc=\"training\", unit=\"epoch\"):\n",
        "    with tqdm.notebook.tqdm(\n",
        "        train_dataloader,\n",
        "        desc=\"epoch {}\".format(epoch + 1),\n",
        "        unit=\"instance\",\n",
        "        total=len(train_dataloader)\n",
        "    ) as batch_iterator:\n",
        "      model.train()\n",
        "\n",
        "      total_num_correct_lfs = 0\n",
        "      total_num_lfs = 0\n",
        "\n",
        "      total_loss = 0.0\n",
        "\n",
        "      for i, batch in enumerate(batch_iterator, start=1):\n",
        "        assert len(batch) == 1\n",
        "        instance = batch[0]\n",
        "\n",
        "        optimizer.zero_grad()\n",
        "        if latent_logical_forms:\n",
        "          loss, num_correct_lfs, num_lfs = latent_loss(model, instance, training_beam_size)\n",
        "          total_num_lfs += num_lfs\n",
        "          total_num_correct_lfs += num_correct_lfs\n",
        "          batch_iterator.set_postfix(\n",
        "            train_correct_candidates_per_instance=total_num_correct_lfs/total_num_lfs*training_beam_size,\n",
        "            train_loss=total_loss / i\n",
        "          )\n",
        "        else:\n",
        "          loss = supervised_loss(model, instance)\n",
        "        total_loss += loss.item()\n",
        "        loss.backward()\n",
        "        optimizer.step()\n",
        "      model.eval()\n",
        "      train_stats = evaluate_predictions(\n",
        "        train_dataset, 'train', execute,\n",
        "        prediction_function=prediction_function,\n",
        "        loss_function=loss_function_for_eval,\n",
        "        display_predictions_frequency=display_predictions_frequency\n",
        "      )\n",
        "      dev_stats = evaluate_predictions(\n",
        "        dev_dataset, 'dev', execute,\n",
        "        prediction_function=prediction_function,\n",
        "        loss_function=loss_function_for_eval,\n",
        "        display_predictions_frequency=display_predictions_frequency\n",
        "      )\n",
        "      dev_metric = dev_stats['dev_denotation_acc']\n",
        "      batch_iterator.set_postfix({'train_loss': (total_loss / len(batch_iterator)), **train_stats, **dev_stats})\n",
        "      if dev_metric > best_metric:\n",
        "        best_epoch = epoch\n",
        "        print(\"Obtained a new best development accuracy of {:.3f}, saving model \"\n",
        "              \"checkpoint to {}...\".format(dev_metric, model_file))\n",
        "        torch.save(model.state_dict(), model_file)\n",
        "        best_metric = dev_metric\n",
        "      stats_by_epoch[epoch] = dev_stats\n",
        "  print(\"Maximal development accuracy of {:.3f}\".format(best_metric))\n",
        "  print(\"Reloading best model checkpoint from {}...\".format(model_file))\n",
        "  model.load_state_dict(torch.load(model_file))"
      ],
      "execution_count": 0,
      "outputs": []
    },
    {
      "cell_type": "markdown",
      "metadata": {
        "id": "2fSEWWcJ-anP",
        "colab_type": "text"
      },
      "source": [
        "The supervised loss takes each action in the traversal of the correct logical form, collecting the log probabilities of these actions along the way."
      ]
    },
    {
      "cell_type": "code",
      "metadata": {
        "id": "vQNOj1qFRMg5",
        "colab_type": "code",
        "colab": {}
      },
      "source": [
        "def supervised_loss(model, instance):\n",
        "  state = model.initialize_model_state(instance)\n",
        "  gold_actions = ParserState.from_logical_form(instance['logical_form']).actions()\n",
        "\n",
        "  loss = torch.tensor(0.0)\n",
        "  for action in gold_actions:\n",
        "    loss += -1.0 * state.action_log_probs[action]\n",
        "    state = state.take_action(action)\n",
        "\n",
        "  return loss"
      ],
      "execution_count": 0,
      "outputs": []
    },
    {
      "cell_type": "code",
      "metadata": {
        "id": "EIk7BsGnsAEs",
        "colab_type": "code",
        "colab": {
          "base_uri": "https://localhost:8080/",
          "height": 69
        },
        "outputId": "4d00d9ea-18c5-4e97-94c0-e26ba53a6448"
      },
      "source": [
        "train_dataset = GeoDataset(TRAIN_STATES, word_to_embedding)\n",
        "dev_dataset = GeoDataset(DEV_STATES, word_to_embedding)\n",
        "test_dataset = GeoDataset(TEST_STATES, word_to_embedding)\n",
        "\n",
        "print('{} train instances'.format(len(train_dataset)))\n",
        "print('{} dev instances'.format(len(dev_dataset)))\n",
        "print('{} test instances'.format(len(test_dataset)))\n"
      ],
      "execution_count": 349,
      "outputs": [
        {
          "output_type": "stream",
          "text": [
            "133 train instances\n",
            "41 dev instances\n",
            "51 test instances\n"
          ],
          "name": "stdout"
        }
      ]
    },
    {
      "cell_type": "code",
      "metadata": {
        "id": "bNSddI0R0Lg6",
        "colab_type": "code",
        "colab": {}
      },
      "source": [
        "supervised_model = Model()"
      ],
      "execution_count": 0,
      "outputs": []
    },
    {
      "cell_type": "markdown",
      "metadata": {
        "id": "_av5k4J4gk1H",
        "colab_type": "text"
      },
      "source": [
        "We'll now train the model in the cell below. You should obtain a maximal denotation accuracy of at least 78% on the development set. This is a very small dataset and will have some variance. With our reference implementation we obtained 82-83% maximal dev denotation accuracy on average, with a range of 78% to 85% (over 40 trials)."
      ]
    },
    {
      "cell_type": "code",
      "metadata": {
        "id": "YeJGXfuV1StB",
        "colab_type": "code",
        "colab": {
          "base_uri": "https://localhost:8080/",
          "height": 630,
          "referenced_widgets": [
            "be57d39a81e44a1ead34b65ab0ac6b03",
            "7720239a051f475693ca26fc287984e1",
            "c1b4ace2eb9f4afead581f004743162e",
            "2d8cc37510f043caaa3d5d5dc4588db2",
            "0577841a66324f4286c0f7202d02ddc3",
            "af1a13c15e0a44928350d8d9fd31612a",
            "e28ed8bbd8e24fab8298e617bb92e56c",
            "07e1248edc814d4b9ded7eda34d13706",
            "e7e7e6ad29c149e099b42c4106b190c2",
            "666ed6684a234970a0c53df28d613e7b",
            "6d212d9d9fbc4bb0855239d9eefffe4a",
            "3ea7376a4d91447fbdea32094e617186",
            "e745b5f657594f34b2fd050f267da302",
            "5693b1a5d2294e5f81157488f1bb0670",
            "57d0da575ef44c84960a27d1305654a1",
            "88eef2deed3f4053be96e98abe23b746",
            "8367aba95ab247be94e3b7d59ba9f20d",
            "2995c79f70ef4f5b826d945abd8f5201",
            "dafbb608275743f98b1b226ac98d9d98",
            "12363304c70c45549a223c45880a4f8c",
            "6d9c9e6c0c9e4f45b2d45f64e454d3f1",
            "8183e00179d34aad9a9b2095f0412190",
            "bf7b4c6f0e014fcdb5e657a48fe7a8f0",
            "5436b1839db8407e93cbf4217cf7f812",
            "c0c65d92cd174ed8b7833c3e8a11c867",
            "67b7bf1fea0649c9b46080e8e602ae80",
            "1b785ae72c2a4101a20df749a31f7f59",
            "cb147b7771914a0f90a316293d7915e3",
            "4f96237eca0745f2b6c28d07de63f8d2",
            "d841931fa8b34968961e1ab7828929d5",
            "7a465ebc06be40a685c81e9de99af95b",
            "32177cc08d6b4e429498881a95f009c4",
            "2aea98ef35e3463a811f6699f8041f3d",
            "20a251346b844a5aa7526fcf4e0abd9d",
            "09fea4225d474cde8d172472fdb309c2",
            "9ab4868d087144d38cc567944ad9bd29",
            "4c3856e8c14e48a5a5fad0656ed84456",
            "c3b8d114c7934a52a9566f4097210946",
            "2cebd4eab3f7416fa07e6651a4a36a94",
            "edd4d7f2d09841f3b15ef92620b83a15",
            "ab5a522e3fab4f4c98cd629c26a828f7",
            "0319a4b4bafb47e69a47a4ce1bd727e6",
            "045e71d419cc444a841b38b51a96a71a",
            "61f7bc68b9784c21a95ddbfa6c399a3a",
            "039a39450bb34ad89f0294dbd458859d",
            "9a97db82bca44325807239e776d93253",
            "2292ae4a4125494a95644f672f352ffe",
            "20d6130490614fdbb4a86e39d6535bb9",
            "c165ee0a0f444f1dbaed23e7c2a60fe0",
            "73b71e2d266c436282381d1753a11197",
            "7b9f6c1bbb7a4beba2aa7c6604ff1a32",
            "4bb3b0815a2c4261badc990d7768e0de",
            "3467bca1c12446f5a96474b60c1eccea",
            "ef9f2fdc26e04535bdf1fe0de26b3ed3",
            "b5e7f0d4fedd4366a196ff1c0eab339c",
            "7600a810cf7840e5a470a84999835af9",
            "fe515dcb128743f5bf781a1c091be59d",
            "2a32efe9967b4877988fb256035ab159",
            "fdcd903f91d14d3bb411d0e56d3a5096",
            "1df95e353c2546d39ff5771d723a93e8",
            "6ab86b5ed2b94d4a96e9bf137c1cba7d",
            "16c381020fbc43f7b49cc81fbe9bb992",
            "3eadd38a641643b4b3e6ea06e06321c3",
            "f02ecf420ff64fceae567e72f1ff5b9d",
            "576a6ab0245744af9be07238b9cc9b7a",
            "874b2a0b95224f23843a77d2d0697cdf",
            "287808b3868a490bb3fb6a0ce57e6f08",
            "e20b28a57d9f417db3a6e6e9212c8c7d",
            "fd878f1ce08b41d8a0a84d0c0ce846c7",
            "870bd1d4510e426d80673027eb87fdbc",
            "d18bc9925543430d9275e977246f13b2",
            "c5fcd112e22e4eb6a0f60dca8aa1ea45",
            "2f5673ab6b974d2c9d4c807481033fd6",
            "239ec7c46a344c179e316cc4b7530d06",
            "a5f52c7abeb44b229b766a8e73eb2f94",
            "eabc4afde0274481b6941ac3d42dc5fd",
            "15c7eeaa1f0e4a9aaab07c0db16e540b",
            "dd6bffd0473542dfa66810e754cbb98c",
            "17d99032d4d0471986a839ae6b68ea59",
            "84d60c96e1654980be24c7658ac5ca4b",
            "0d954cd301eb437e91055b72dd022e37",
            "22797c8e373b4ad59251c6f7c3316f37",
            "2dc7508f24004858b78a0c78e04c503b",
            "b9ec0cc0482d4129baef61ee07f0d1dd",
            "971303f14bad4a9a8ecd04a6a42d1440",
            "99fee5ed62d343719e412a92bb9ba7ed",
            "14308f55926940d883ce05e5bdae0edc",
            "fe17a243182f4feebb613df1b57a0b8c"
          ]
        },
        "outputId": "13489be6-dac2-41b6-9a5b-081e349c897c"
      },
      "source": [
        "train(supervised_model, train_dataset, dev_dataset, 'supervised_model.pt', num_epochs=10)"
      ],
      "execution_count": 362,
      "outputs": [
        {
          "output_type": "display_data",
          "data": {
            "application/vnd.jupyter.widget-view+json": {
              "model_id": "be57d39a81e44a1ead34b65ab0ac6b03",
              "version_minor": 0,
              "version_major": 2
            },
            "text/plain": [
              "HBox(children=(FloatProgress(value=0.0, description='training', max=10.0, style=ProgressStyle(description_widt…"
            ]
          },
          "metadata": {
            "tags": []
          }
        },
        {
          "output_type": "display_data",
          "data": {
            "application/vnd.jupyter.widget-view+json": {
              "model_id": "e7e7e6ad29c149e099b42c4106b190c2",
              "version_minor": 0,
              "version_major": 2
            },
            "text/plain": [
              "HBox(children=(FloatProgress(value=0.0, description='epoch 1', max=133.0, style=ProgressStyle(description_widt…"
            ]
          },
          "metadata": {
            "tags": []
          }
        },
        {
          "output_type": "stream",
          "text": [
            "\n",
            "Obtained a new best development accuracy of 0.585, saving model checkpoint to supervised_model.pt...\n"
          ],
          "name": "stdout"
        },
        {
          "output_type": "display_data",
          "data": {
            "application/vnd.jupyter.widget-view+json": {
              "model_id": "8367aba95ab247be94e3b7d59ba9f20d",
              "version_minor": 0,
              "version_major": 2
            },
            "text/plain": [
              "HBox(children=(FloatProgress(value=0.0, description='epoch 2', max=133.0, style=ProgressStyle(description_widt…"
            ]
          },
          "metadata": {
            "tags": []
          }
        },
        {
          "output_type": "stream",
          "text": [
            "\n",
            "Obtained a new best development accuracy of 0.927, saving model checkpoint to supervised_model.pt...\n"
          ],
          "name": "stdout"
        },
        {
          "output_type": "display_data",
          "data": {
            "application/vnd.jupyter.widget-view+json": {
              "model_id": "c0c65d92cd174ed8b7833c3e8a11c867",
              "version_minor": 0,
              "version_major": 2
            },
            "text/plain": [
              "HBox(children=(FloatProgress(value=0.0, description='epoch 3', max=133.0, style=ProgressStyle(description_widt…"
            ]
          },
          "metadata": {
            "tags": []
          }
        },
        {
          "output_type": "stream",
          "text": [
            "\n"
          ],
          "name": "stdout"
        },
        {
          "output_type": "display_data",
          "data": {
            "application/vnd.jupyter.widget-view+json": {
              "model_id": "2aea98ef35e3463a811f6699f8041f3d",
              "version_minor": 0,
              "version_major": 2
            },
            "text/plain": [
              "HBox(children=(FloatProgress(value=0.0, description='epoch 4', max=133.0, style=ProgressStyle(description_widt…"
            ]
          },
          "metadata": {
            "tags": []
          }
        },
        {
          "output_type": "stream",
          "text": [
            "\n"
          ],
          "name": "stdout"
        },
        {
          "output_type": "display_data",
          "data": {
            "application/vnd.jupyter.widget-view+json": {
              "model_id": "ab5a522e3fab4f4c98cd629c26a828f7",
              "version_minor": 0,
              "version_major": 2
            },
            "text/plain": [
              "HBox(children=(FloatProgress(value=0.0, description='epoch 5', max=133.0, style=ProgressStyle(description_widt…"
            ]
          },
          "metadata": {
            "tags": []
          }
        },
        {
          "output_type": "stream",
          "text": [
            "\n"
          ],
          "name": "stdout"
        },
        {
          "output_type": "display_data",
          "data": {
            "application/vnd.jupyter.widget-view+json": {
              "model_id": "c165ee0a0f444f1dbaed23e7c2a60fe0",
              "version_minor": 0,
              "version_major": 2
            },
            "text/plain": [
              "HBox(children=(FloatProgress(value=0.0, description='epoch 6', max=133.0, style=ProgressStyle(description_widt…"
            ]
          },
          "metadata": {
            "tags": []
          }
        },
        {
          "output_type": "stream",
          "text": [
            "\n"
          ],
          "name": "stdout"
        },
        {
          "output_type": "display_data",
          "data": {
            "application/vnd.jupyter.widget-view+json": {
              "model_id": "fe515dcb128743f5bf781a1c091be59d",
              "version_minor": 0,
              "version_major": 2
            },
            "text/plain": [
              "HBox(children=(FloatProgress(value=0.0, description='epoch 7', max=133.0, style=ProgressStyle(description_widt…"
            ]
          },
          "metadata": {
            "tags": []
          }
        },
        {
          "output_type": "stream",
          "text": [
            "\n"
          ],
          "name": "stdout"
        },
        {
          "output_type": "display_data",
          "data": {
            "application/vnd.jupyter.widget-view+json": {
              "model_id": "576a6ab0245744af9be07238b9cc9b7a",
              "version_minor": 0,
              "version_major": 2
            },
            "text/plain": [
              "HBox(children=(FloatProgress(value=0.0, description='epoch 8', max=133.0, style=ProgressStyle(description_widt…"
            ]
          },
          "metadata": {
            "tags": []
          }
        },
        {
          "output_type": "stream",
          "text": [
            "\n"
          ],
          "name": "stdout"
        },
        {
          "output_type": "display_data",
          "data": {
            "application/vnd.jupyter.widget-view+json": {
              "model_id": "2f5673ab6b974d2c9d4c807481033fd6",
              "version_minor": 0,
              "version_major": 2
            },
            "text/plain": [
              "HBox(children=(FloatProgress(value=0.0, description='epoch 9', max=133.0, style=ProgressStyle(description_widt…"
            ]
          },
          "metadata": {
            "tags": []
          }
        },
        {
          "output_type": "stream",
          "text": [
            "\n"
          ],
          "name": "stdout"
        },
        {
          "output_type": "display_data",
          "data": {
            "application/vnd.jupyter.widget-view+json": {
              "model_id": "0d954cd301eb437e91055b72dd022e37",
              "version_minor": 0,
              "version_major": 2
            },
            "text/plain": [
              "HBox(children=(FloatProgress(value=0.0, description='epoch 10', max=133.0, style=ProgressStyle(description_wid…"
            ]
          },
          "metadata": {
            "tags": []
          }
        },
        {
          "output_type": "stream",
          "text": [
            "\n",
            "\n",
            "Maximal development accuracy of 0.927\n",
            "Reloading best model checkpoint from supervised_model.pt...\n"
          ],
          "name": "stdout"
        }
      ]
    },
    {
      "cell_type": "markdown",
      "metadata": {
        "id": "_ylik2--8tJ_",
        "colab_type": "text"
      },
      "source": [
        "We'll now view the model predictions on the dev set."
      ]
    },
    {
      "cell_type": "code",
      "metadata": {
        "id": "t7KhfcFD2YeS",
        "colab_type": "code",
        "colab": {
          "base_uri": "https://localhost:8080/",
          "height": 1000
        },
        "outputId": "80bcb34f-7d75-4636-d0e1-5e70bdcdb08e"
      },
      "source": [
        "evaluate_predictions(\n",
        "  dev_dataset, 'dev', execute,\n",
        "  prediction_function=make_beam_prediction_function(supervised_model),\n",
        "  display_predictions_frequency=5\n",
        ")"
      ],
      "execution_count": 363,
      "outputs": [
        {
          "output_type": "stream",
          "text": [
            "dev example 1\n",
            "dev question: what states are there ?\n",
            "dev true LF: (lambda $w (and (state $w)))\n",
            "dev pred LF: (lambda $w (and (state $w)))\n",
            "dev true denotation: {'north_carolina', 'virginia', 'west_virginia'}\n",
            "dev pred denotation: {'north_carolina', 'virginia', 'west_virginia'}\n",
            "dev denotation match: True\n",
            "\n",
            "dev example 6\n",
            "dev question: what is the capital of virginia ?\n",
            "dev true LF: (lambda $w (exists $x (and (capital-rel $w $x) (kb-virginia $x))))\n",
            "dev pred LF: (lambda $w (exists $x (and (capital-rel $w $x) (kb-virginia $x))))\n",
            "dev true denotation: {'richmond'}\n",
            "dev pred denotation: {'richmond'}\n",
            "dev denotation match: True\n",
            "\n",
            "dev example 11\n",
            "dev question: what cities in west virginia ?\n",
            "dev true LF: (lambda $w (exists $x (and (city $w) (in-rel $w $x) (kb-west_virginia $x))))\n",
            "dev pred LF: (lambda $w (exists $x (and (city $w) (in-rel $w $x) (kb-west_virginia $x))))\n",
            "dev true denotation: set()\n",
            "dev pred denotation: set()\n",
            "dev denotation match: True\n",
            "\n",
            "dev example 16\n",
            "dev question: what state is south of west virginia ?\n",
            "dev true LF: (lambda $w (exists $x (and (state $w) (south-rel $w $x) (kb-west_virginia $x))))\n",
            "dev pred LF: (lambda $w (exists $x (and (state $w) (south-rel $w $x) (kb-west_virginia $x))))\n",
            "dev true denotation: {'virginia'}\n",
            "dev pred denotation: {'virginia'}\n",
            "dev denotation match: True\n",
            "\n",
            "dev example 21\n",
            "dev question: what ocean borders virginia ?\n",
            "dev true LF: (lambda $w (exists $x (and (ocean $w) (border-rel $w $x) (kb-virginia $x))))\n",
            "dev pred LF: (lambda $w (and (ocean $w)))\n",
            "dev true denotation: {'atlantic_ocean'}\n",
            "dev pred denotation: {'atlantic_ocean'}\n",
            "dev denotation match: True\n",
            "\n",
            "dev example 26\n",
            "dev question: is virginia beach inside of west virginia ?\n",
            "dev true LF: (lambda $w (exists $x (and (kb-virginia_beach $w) (inside-rel $w $x) (kb-west_virginia $x))))\n",
            "dev pred LF: (lambda $w (exists $x (and (kb-virginia_beach $w) (inside-rel $w $x) (kb-west_virginia $x))))\n",
            "dev true denotation: set()\n",
            "dev pred denotation: set()\n",
            "dev denotation match: True\n",
            "\n",
            "dev example 31\n",
            "dev question: is the atlantic ocean in west virginia ?\n",
            "dev true LF: (lambda $w (exists $x (and (kb-atlantic_ocean $w) (in-rel $w $x) (kb-west_virginia $x))))\n",
            "dev pred LF: (lambda $w (exists $x (and (kb-atlantic_ocean $w) (in-rel $w $x) (kb-west_virginia $x))))\n",
            "dev true denotation: set()\n",
            "dev pred denotation: set()\n",
            "dev denotation match: True\n",
            "\n",
            "dev example 36\n",
            "dev question: what cities are in virginia ?\n",
            "dev true LF: (lambda $w (exists $x (and (city $w) (in-rel $w $x) (kb-virginia $x))))\n",
            "dev pred LF: (lambda $w (exists $x (and (city $w) (in-rel $w $x) (kb-virginia $x))))\n",
            "dev true denotation: {'richmond'}\n",
            "dev pred denotation: {'richmond'}\n",
            "dev denotation match: True\n",
            "\n",
            "dev example 41\n",
            "dev question: is virginia east of west virginia ?\n",
            "dev true LF: (lambda $w (exists $x (and (kb-virginia $w) (east-rel $w $x) (kb-west_virginia $x))))\n",
            "dev pred LF: (lambda $w (exists $x (and (kb-virginia $w) (east-rel $w $x) (kb-west_virginia $x))))\n",
            "dev true denotation: {'virginia'}\n",
            "dev pred denotation: {'virginia'}\n",
            "dev denotation match: True\n",
            "\n"
          ],
          "name": "stdout"
        },
        {
          "output_type": "execute_result",
          "data": {
            "text/plain": [
              "{'dev_denotation_acc': 0.926829268292683}"
            ]
          },
          "metadata": {
            "tags": []
          },
          "execution_count": 363
        }
      ]
    },
    {
      "cell_type": "markdown",
      "metadata": {
        "id": "lSmNww2zIeyl",
        "colab_type": "text"
      },
      "source": [
        "## Training with Latent Logical Forms"
      ]
    },
    {
      "cell_type": "markdown",
      "metadata": {
        "id": "YKjm9f9-l5wo",
        "colab_type": "text"
      },
      "source": [
        "Now, we will relax the assumption that we have logical forms available, and train our model only from question--answer pairs, the databases, and the execution function. This setting, _training from denotations_, requires less supervision but introduces problems of search, delayed reward, and ambiguity, as there are many possible logical forms that can execute to a given denotation. We'll use a classic method, _maximum marginal likelihood_; if you're interested in other methods, see [Misra et al. 2018](https://dipendramisra.com/papers/mchy-emnlp.2018.pdf) and [Guu et al. 2017](https://arxiv.org/abs/1704.07926) for a survey and connections to policy gradient from reinforcement learning.\n",
        "\n",
        "Let $x$ be a question, $z$ be the denotation for the question, and $d$ be a database. Our model gives a distribution $p_\\theta(y \\mid x)$ for logical forms $y$.  Maximum marginal likelihood (approximately) maximizes the log probability of producing the correct denotation $z$, marginalized over logical forms. In practice, we can't sum over all possible logical forms, so we'll approximate using a set of logical forms $\\mathcal{Y}$ returned by beam search:\n",
        "\n",
        "$$J_{MML} = \\log p(z \\mid x, d) \\approx \\log \\sum_{y \\in \\mathcal{Y}} p(z \\mid y, d) p_\\theta(y \\mid x)$$\n",
        "\n",
        "Our execution function (given by the `execute` function we've defined above) is deterministic, and we have $p(z \\mid y, d) = 1$ or $0$ depending on whether $y$ denotes $z$ in the database. We can use this fact to simplify the objective: letting $\\mathcal{C}$ be the subset of _correct_ logical forms $\\mathcal{Y}$, that evaluate to $z$, we have\n",
        "\n",
        "$$J_{MML} = \\log \\sum_{y \\in \\mathcal{C}} p_\\theta(y \\mid x)$$\n",
        "\n",
        "Implement this in the `latent_loss` method below, returning $-J_{MML}$ as the loss, as well as the number of logical forms in $\\mathcal{C}$ (`num_correct`) and the number of logical forms found by search (`num_instances`).\n",
        "\n",
        "__Implementation tip__: for numerical stability, perform calculations in log space using the logical forms' log probabilities and `torch.logsumexp`."
      ]
    },
    {
      "cell_type": "code",
      "metadata": {
        "id": "7EEOPgQ3EmUO",
        "colab_type": "code",
        "colab": {}
      },
      "source": [
        "def latent_loss(model, instance, beam_size):\n",
        "  true_denotation = instance['denotation']\n",
        "  world = instance['world']\n",
        "\n",
        "  # contains tuples of model states and total log probabilities returned by beam search: [(model_state: ModelState, log_prob: tensor)]\n",
        "  # some model states may correspond to incomplete logical forms, as when repeated literals are not allowed, it's possible for the model to reach a state where no valid actions are available\n",
        "  # use model_state.parser_state.is_complete to check whether a parser state corresponds to a complete logical form, before attempting to convert it to a logical form\n",
        "  candidates = beam_search(model, instance, beam_size)\n",
        "\n",
        "  num_correct = 0\n",
        "  num_instances = len(candidates)\n",
        "\n",
        "  \"\"\"YOUR CODE HERE\"\"\"\n",
        "\n",
        "  log_prob_lst = []\n",
        "\n",
        "  for model_state, log_prob in candidates:\n",
        "\n",
        "    if model_state.parser_state.is_complete:\n",
        "      logical_form = model_state.parser_state.to_logical_form()\n",
        "      executed_denotation = execute(logical_form, world)\n",
        "\n",
        "      if executed_denotation == true_denotation:\n",
        "        num_correct += 1\n",
        "        log_prob_lst.append(log_prob)\n",
        "\n",
        "  if num_correct == 0:\n",
        "    # no update if no correct examples were found; define a Variable to not break the backprop and update code\n",
        "    return torch.autograd.Variable(torch.tensor(0.0), requires_grad=True), num_correct, num_instances\n",
        "  else:\n",
        "    loss = -sum_log_probs(log_prob_lst)\n",
        "    return loss, num_correct, num_instances\n"
      ],
      "execution_count": 0,
      "outputs": []
    },
    {
      "cell_type": "markdown",
      "metadata": {
        "id": "NtniWeF9GA4o",
        "colab_type": "text"
      },
      "source": [
        "You can sanity check your loss by training and evaluating on a restricted version of the dataset which contains only logical forms with at most two variables and two literals. These examples will be a bit easier, and the constrains on logical forms will allow us to reduce the search space and train faster."
      ]
    },
    {
      "cell_type": "code",
      "metadata": {
        "id": "LLJY6gTwDuYn",
        "colab_type": "code",
        "colab": {
          "base_uri": "https://localhost:8080/",
          "height": 434
        },
        "outputId": "b5ec0d60-d0a2-476b-c157-6a8c434b3faa"
      },
      "source": [
        "def is_complex_lf(logical_form):\n",
        "  if len(ParserState.from_logical_form(logical_form).variables_introduced()) > 2:\n",
        "    return True\n",
        "  if ParserState.from_logical_form(logical_form).completed_literal_stack.size > 2:\n",
        "    return True\n",
        "  return False\n",
        "\n",
        "simple_train_dataset = GeoDataset(TRAIN_STATES, word_to_embedding, logical_form_exclude_function=is_complex_lf)\n",
        "simple_dev_dataset = GeoDataset(DEV_STATES, word_to_embedding, logical_form_exclude_function=is_complex_lf)\n",
        "print('{} train instances with maximum 2 variables and 2 literals'.format(len(simple_train_dataset)))\n",
        "print('{} dev instances with maximum 2 variables and 2 literals'.format(len(simple_dev_dataset)))\n",
        "print()\n",
        "for i in range(3):\n",
        "  print_instance(simple_dev_dataset[i])\n",
        "  print()"
      ],
      "execution_count": 365,
      "outputs": [
        {
          "output_type": "stream",
          "text": [
            "40 train instances with maximum 2 variables and 2 literals\n",
            "9 dev instances with maximum 2 variables and 2 literals\n",
            "\n",
            "question           : what states are there ?\n",
            "answer             : virginia,west_virginia,north_carolina\n",
            "logical_form       : (lambda $w (and (state $w)))\n",
            "world              : <World: va with 6 entities, 6 categories, 72 relations>\n",
            "possible_predicates: ['state']\n",
            "denotation         : {'north_carolina', 'virginia', 'west_virginia'}\n",
            "\n",
            "question           : what 's the capital of virginia ?\n",
            "answer             : richmond\n",
            "logical_form       : (lambda $w (exists $x (and (capital-rel $w $x) (kb-virginia $x))))\n",
            "world              : <World: va with 6 entities, 6 categories, 72 relations>\n",
            "possible_predicates: ['capital', 'capital-rel', 'kb-virginia', 'kb-virginia_beach', 'kb-west_virginia']\n",
            "denotation         : {'richmond'}\n",
            "\n",
            "question           : what oceans are there ?\n",
            "answer             : atlantic_ocean\n",
            "logical_form       : (lambda $w (and (ocean $w)))\n",
            "world              : <World: va with 6 entities, 6 categories, 72 relations>\n",
            "possible_predicates: ['ocean']\n",
            "denotation         : {'atlantic_ocean'}\n",
            "\n"
          ],
          "name": "stdout"
        }
      ]
    },
    {
      "cell_type": "code",
      "metadata": {
        "id": "uHVSx83KD7Iz",
        "colab_type": "code",
        "colab": {}
      },
      "source": [
        "simple_latent_model = Model(max_vars=2, max_literals=2)"
      ],
      "execution_count": 0,
      "outputs": []
    },
    {
      "cell_type": "markdown",
      "metadata": {
        "id": "2VJdX8GmsoTE",
        "colab_type": "text"
      },
      "source": [
        "The following cell will train your model from denotations alone on these simplified logical forms. \n",
        "\n",
        "With beam size 100, if your `latent_loss` implementation is correct, you should expect to see `train_loss` values roughly between 0.5 and 2 at the end of 10 epochs (note that the magnitude of the loss will change with varying number of candidates).\n",
        "\n",
        "Our implementation obtains _training_ denotation accuracies between 80% and 100%, and dev denotation accuracies of at least 60% by the end of 10 epochs (but note there are only 9 dev examples when filtering the logical forms in this way! so don't be surprised if this score varies widely)."
      ]
    },
    {
      "cell_type": "code",
      "metadata": {
        "id": "-l3a3OLtEBxc",
        "colab_type": "code",
        "colab": {
          "base_uri": "https://localhost:8080/",
          "height": 630,
          "referenced_widgets": [
            "dfada702e9564bf2a709eed36b76adc3",
            "c850a54685d34c2a8b3888d5410e26f9",
            "ea954ba0b832490a93d69b296c0a9389",
            "ecb3cc2a7572463f86843e4a9f520e1b",
            "4ceaddfa297d4121b59165b24bf455f2",
            "e2962d52097a4017a94fdb195229e0ce",
            "80709eb81ee14250af0fd6bb20fe0ff0",
            "5900081d4956427b9ca8be51db962fe6",
            "d12a93d3867d421697be278716f2bce2",
            "7ee00eba0d4244f587d88fdf2ca798cb",
            "12d1beedf2f64a2d90f00d72229c257e",
            "74e526ca631e4818af96eb57cc5c2cd0",
            "f2bc7a0b31834c9cac9cf825974a36ae",
            "a0e4d7649b5247569b84fb7450cf8791",
            "499b18753e5c488a9471fd23a1f22a8e",
            "d5b3109beb7449c9b4da66e25d3ed727",
            "911267d860ce485ea2eec679725f8d78",
            "5ed5a63808d44e8485d97edde733fb53",
            "02db3ccb4b1042dfa60332b518f1cc34",
            "e8a1c96f72034daaa10ac3a6fa525193",
            "2f2c11e6376e47709aa72d55720bf3d2",
            "46166e07b7a9414d9a1cc97b92209758",
            "87685515530b47b5b76c8a16b45de316",
            "4fa7e2664b934296b8ab18c1bc03e9c5",
            "a11bac4f2dd04b78bfdecffc4a6cd393",
            "2dc702850b0d438dac4b7c6551e9e4af",
            "81bf9e81b7c04e638384e7a99e53cb45",
            "ad8a1608c5d8465d83fde1a8a1d06061",
            "c695961453b04bc99d63bb3da2fca832",
            "dc3ae869aeea4883a654fe4b55d5b870",
            "1070fc1e75fb427b920199bd8809bade",
            "42ce37d99e584f25a834f80cc1d39b57",
            "c714aa8e0e88400682d74f6ec585bc94",
            "4e95d6bf24d24b4889de9e8e4d71c21e",
            "73c8dccf8b7d4bafbab7056da99cb7f2",
            "2723931a6c5a4cecad651980950d665d",
            "d3cef25fc7404ba1aa3b8935b1f74e0e",
            "fed2a4621d5e49b8b32bd69e0667923d",
            "ef85f937041845409b42e3203acb4d83",
            "ef748727513942d8a7601564f8d46471",
            "476cd417b7084aaabc63ed46941e5f38",
            "f9a704e88a06497ca57cb74bcb795c18",
            "f43095c8f2ab4be4b8307af9c2b4d327",
            "1c6d9e03bc774eb6a9e8a4b7a84a8a35",
            "9e3d68af7c40446182cf6de5c61485bf",
            "e9102cb9531741ba95ad75d26467b7a5",
            "f02ed260242d4bf09fce09f56516da19",
            "b5f81f69eed846a091e26ed7e797013a",
            "da23cccc606742b2a531059e8de455c1",
            "d8c6e3a634494000bdf974ea683c7cc8",
            "d68034fdcf0c46e3b16c57e6c4a223ef",
            "6b9d3b4a3d5546b9ae922244afc52a5c",
            "64f494c82381401e94e0668fa95e2541",
            "b2b2baf221a74056bb1ff4e056530ce5",
            "890a543ec947488c9ed7acb5920cb0d6",
            "46c17479ddb94dcd879fc362b83709bd",
            "1955ce78e6f54fdc991758d7ec2fd2be",
            "4fcda39fa1cd4621948473fbbaaa7526",
            "e1557f5e66b74e90866b15e7bc0da303",
            "4e7e0f87dcc64a82bdf7841753946490",
            "046ebe3d4b8847bda90581297f81f4ff",
            "6ab13daccf9541ffbdc6db2da0524a8f",
            "5ed9ad1d4963475db93622091382b8ef",
            "b606e021daf946d4b2c29b31713fb51a",
            "f1f7228d0f5443a8adc7622c3aaf58e9",
            "55d31fd233344bd8a9d6acc42d8e152a",
            "8bbbfbc10a6345fb87ce6c741e190fb1",
            "45851f67d3ef4201aad7f3bfd1f8027c",
            "6ae55b196ced464bb7fe5ce0f6546c1f",
            "b1d238303f4d454e865623bf4c7ec414",
            "ffaa64a0653649fcb4d08bb7ea510d8c",
            "9925240a693242ea90891d2b13d850ef",
            "0d2f7ab8205e478ab6d2fa15466dfa9e",
            "8ea104a6b49344d6adab29d057716daf",
            "2f1bc924702c460b99257090ad556dd9",
            "5293258b754e4fad8496a3a2e54cdb42",
            "ff71f3b2808c4cc98dbb45bb774698aa",
            "990dab9ca01c4e6494a2133bf0e86a77",
            "37ac85d882054c088ad698bb24b6ac1d",
            "f67ee76616eb4f3ab0f6d577eed8fce1",
            "d3b830e5d63244f2924a3f8c26f04bee",
            "27bfba04a56f49f28a9b9a5dc3f51d58",
            "8d166781fa4348adac1b5f89a03c67ea",
            "d6b9ed915ad4413ebb9bb760aab91564",
            "7fab688beb89498abba8751c87cbfff7",
            "42a492fd58d5470b8a6ef3c078aa6e97",
            "0b08d00b538043a1baf913634a630206",
            "8e28dd554b1e4c9f9586835fac8917f1"
          ]
        },
        "outputId": "43b8b09d-e047-4006-a72f-feef01ba96df"
      },
      "source": [
        "train(simple_latent_model, simple_train_dataset, simple_dev_dataset, 'simple_latent_model.pt', \n",
        "      num_epochs=10, latent_logical_forms=True, \n",
        "      training_beam_size=100)"
      ],
      "execution_count": 376,
      "outputs": [
        {
          "output_type": "display_data",
          "data": {
            "application/vnd.jupyter.widget-view+json": {
              "model_id": "dfada702e9564bf2a709eed36b76adc3",
              "version_minor": 0,
              "version_major": 2
            },
            "text/plain": [
              "HBox(children=(FloatProgress(value=0.0, description='training', max=10.0, style=ProgressStyle(description_widt…"
            ]
          },
          "metadata": {
            "tags": []
          }
        },
        {
          "output_type": "display_data",
          "data": {
            "application/vnd.jupyter.widget-view+json": {
              "model_id": "d12a93d3867d421697be278716f2bce2",
              "version_minor": 0,
              "version_major": 2
            },
            "text/plain": [
              "HBox(children=(FloatProgress(value=0.0, description='epoch 1', max=40.0, style=ProgressStyle(description_width…"
            ]
          },
          "metadata": {
            "tags": []
          }
        },
        {
          "output_type": "stream",
          "text": [
            "\n",
            "Obtained a new best development accuracy of 0.556, saving model checkpoint to simple_latent_model.pt...\n"
          ],
          "name": "stdout"
        },
        {
          "output_type": "display_data",
          "data": {
            "application/vnd.jupyter.widget-view+json": {
              "model_id": "911267d860ce485ea2eec679725f8d78",
              "version_minor": 0,
              "version_major": 2
            },
            "text/plain": [
              "HBox(children=(FloatProgress(value=0.0, description='epoch 2', max=40.0, style=ProgressStyle(description_width…"
            ]
          },
          "metadata": {
            "tags": []
          }
        },
        {
          "output_type": "stream",
          "text": [
            "\n",
            "Obtained a new best development accuracy of 1.000, saving model checkpoint to simple_latent_model.pt...\n"
          ],
          "name": "stdout"
        },
        {
          "output_type": "display_data",
          "data": {
            "application/vnd.jupyter.widget-view+json": {
              "model_id": "a11bac4f2dd04b78bfdecffc4a6cd393",
              "version_minor": 0,
              "version_major": 2
            },
            "text/plain": [
              "HBox(children=(FloatProgress(value=0.0, description='epoch 3', max=40.0, style=ProgressStyle(description_width…"
            ]
          },
          "metadata": {
            "tags": []
          }
        },
        {
          "output_type": "stream",
          "text": [
            "\n"
          ],
          "name": "stdout"
        },
        {
          "output_type": "display_data",
          "data": {
            "application/vnd.jupyter.widget-view+json": {
              "model_id": "c714aa8e0e88400682d74f6ec585bc94",
              "version_minor": 0,
              "version_major": 2
            },
            "text/plain": [
              "HBox(children=(FloatProgress(value=0.0, description='epoch 4', max=40.0, style=ProgressStyle(description_width…"
            ]
          },
          "metadata": {
            "tags": []
          }
        },
        {
          "output_type": "stream",
          "text": [
            "\n"
          ],
          "name": "stdout"
        },
        {
          "output_type": "display_data",
          "data": {
            "application/vnd.jupyter.widget-view+json": {
              "model_id": "476cd417b7084aaabc63ed46941e5f38",
              "version_minor": 0,
              "version_major": 2
            },
            "text/plain": [
              "HBox(children=(FloatProgress(value=0.0, description='epoch 5', max=40.0, style=ProgressStyle(description_width…"
            ]
          },
          "metadata": {
            "tags": []
          }
        },
        {
          "output_type": "stream",
          "text": [
            "\n"
          ],
          "name": "stdout"
        },
        {
          "output_type": "display_data",
          "data": {
            "application/vnd.jupyter.widget-view+json": {
              "model_id": "da23cccc606742b2a531059e8de455c1",
              "version_minor": 0,
              "version_major": 2
            },
            "text/plain": [
              "HBox(children=(FloatProgress(value=0.0, description='epoch 6', max=40.0, style=ProgressStyle(description_width…"
            ]
          },
          "metadata": {
            "tags": []
          }
        },
        {
          "output_type": "stream",
          "text": [
            "\n"
          ],
          "name": "stdout"
        },
        {
          "output_type": "display_data",
          "data": {
            "application/vnd.jupyter.widget-view+json": {
              "model_id": "1955ce78e6f54fdc991758d7ec2fd2be",
              "version_minor": 0,
              "version_major": 2
            },
            "text/plain": [
              "HBox(children=(FloatProgress(value=0.0, description='epoch 7', max=40.0, style=ProgressStyle(description_width…"
            ]
          },
          "metadata": {
            "tags": []
          }
        },
        {
          "output_type": "stream",
          "text": [
            "\n"
          ],
          "name": "stdout"
        },
        {
          "output_type": "display_data",
          "data": {
            "application/vnd.jupyter.widget-view+json": {
              "model_id": "f1f7228d0f5443a8adc7622c3aaf58e9",
              "version_minor": 0,
              "version_major": 2
            },
            "text/plain": [
              "HBox(children=(FloatProgress(value=0.0, description='epoch 8', max=40.0, style=ProgressStyle(description_width…"
            ]
          },
          "metadata": {
            "tags": []
          }
        },
        {
          "output_type": "stream",
          "text": [
            "\n"
          ],
          "name": "stdout"
        },
        {
          "output_type": "display_data",
          "data": {
            "application/vnd.jupyter.widget-view+json": {
              "model_id": "0d2f7ab8205e478ab6d2fa15466dfa9e",
              "version_minor": 0,
              "version_major": 2
            },
            "text/plain": [
              "HBox(children=(FloatProgress(value=0.0, description='epoch 9', max=40.0, style=ProgressStyle(description_width…"
            ]
          },
          "metadata": {
            "tags": []
          }
        },
        {
          "output_type": "stream",
          "text": [
            "\n"
          ],
          "name": "stdout"
        },
        {
          "output_type": "display_data",
          "data": {
            "application/vnd.jupyter.widget-view+json": {
              "model_id": "d3b830e5d63244f2924a3f8c26f04bee",
              "version_minor": 0,
              "version_major": 2
            },
            "text/plain": [
              "HBox(children=(FloatProgress(value=0.0, description='epoch 10', max=40.0, style=ProgressStyle(description_widt…"
            ]
          },
          "metadata": {
            "tags": []
          }
        },
        {
          "output_type": "stream",
          "text": [
            "\n",
            "\n",
            "Maximal development accuracy of 1.000\n",
            "Reloading best model checkpoint from simple_latent_model.pt...\n"
          ],
          "name": "stdout"
        }
      ]
    },
    {
      "cell_type": "code",
      "metadata": {
        "id": "NKq3-CwHycwj",
        "colab_type": "code",
        "colab": {
          "base_uri": "https://localhost:8080/",
          "height": 1000
        },
        "outputId": "59fcea4e-9bd3-4767-fc8a-82bf2aa71385"
      },
      "source": [
        "evaluate_predictions(\n",
        "  simple_dev_dataset, 'dev', execute,\n",
        "  prediction_function=make_beam_prediction_function(simple_latent_model),\n",
        "  display_predictions_frequency=1\n",
        ")"
      ],
      "execution_count": 377,
      "outputs": [
        {
          "output_type": "stream",
          "text": [
            "dev example 1\n",
            "dev question: what states are there ?\n",
            "dev true LF: (lambda $w (and (state $w)))\n",
            "dev pred LF: (lambda $w (and (state $w)))\n",
            "dev true denotation: {'north_carolina', 'virginia', 'west_virginia'}\n",
            "dev pred denotation: {'north_carolina', 'virginia', 'west_virginia'}\n",
            "dev denotation match: True\n",
            "\n",
            "dev example 2\n",
            "dev question: what 's the capital of virginia ?\n",
            "dev true LF: (lambda $w (exists $x (and (capital-rel $w $x) (kb-virginia $x))))\n",
            "dev pred LF: (lambda $x (exists $w (and (kb-virginia $w) (capital-rel $x $w))))\n",
            "dev true denotation: {'richmond'}\n",
            "dev pred denotation: {'richmond'}\n",
            "dev denotation match: True\n",
            "\n",
            "dev example 3\n",
            "dev question: what oceans are there ?\n",
            "dev true LF: (lambda $w (and (ocean $w)))\n",
            "dev pred LF: (lambda $w (and (ocean $w)))\n",
            "dev true denotation: {'atlantic_ocean'}\n",
            "dev pred denotation: {'atlantic_ocean'}\n",
            "dev denotation match: True\n",
            "\n",
            "dev example 4\n",
            "dev question: what is the capital of virginia ?\n",
            "dev true LF: (lambda $w (exists $x (and (capital-rel $w $x) (kb-virginia $x))))\n",
            "dev pred LF: (lambda $x (exists $w (and (kb-virginia $w) (capital-rel $x $w))))\n",
            "dev true denotation: {'richmond'}\n",
            "dev pred denotation: {'richmond'}\n",
            "dev denotation match: True\n",
            "\n",
            "dev example 5\n",
            "dev question: what is the capital of virginia ?\n",
            "dev true LF: (lambda $w (exists $x (and (capital-rel $w $x) (kb-virginia $x))))\n",
            "dev pred LF: (lambda $x (exists $w (and (kb-virginia $w) (capital-rel $x $w))))\n",
            "dev true denotation: {'richmond'}\n",
            "dev pred denotation: {'richmond'}\n",
            "dev denotation match: True\n",
            "\n",
            "dev example 6\n",
            "dev question: what states are there ?\n",
            "dev true LF: (lambda $w (and (state $w)))\n",
            "dev pred LF: (lambda $w (and (state $w)))\n",
            "dev true denotation: {'virginia', 'west_virginia'}\n",
            "dev pred denotation: {'virginia', 'west_virginia'}\n",
            "dev denotation match: True\n",
            "\n",
            "dev example 7\n",
            "dev question: what national parks are there ?\n",
            "dev true LF: (lambda $w (and (park $w)))\n",
            "dev pred LF: (lambda $w (and (park $w)))\n",
            "dev true denotation: {'monongahela_national_forest'}\n",
            "dev pred denotation: {'monongahela_national_forest'}\n",
            "dev denotation match: True\n",
            "\n",
            "dev example 8\n",
            "dev question: what lakes are there ?\n",
            "dev true LF: (lambda $w (and (lake $w)))\n",
            "dev pred LF: (lambda $w (and (lake $w)))\n",
            "dev true denotation: {'tygart_lake'}\n",
            "dev pred denotation: {'tygart_lake'}\n",
            "dev denotation match: True\n",
            "\n",
            "dev example 9\n",
            "dev question: what 's the capital of virginia ?\n",
            "dev true LF: (lambda $w (exists $x (and (capital-rel $w $x) (kb-virginia $x))))\n",
            "dev pred LF: (lambda $x (exists $w (and (kb-virginia $w) (capital-rel $x $w))))\n",
            "dev true denotation: {'richmond'}\n",
            "dev pred denotation: {'richmond'}\n",
            "dev denotation match: True\n",
            "\n"
          ],
          "name": "stdout"
        },
        {
          "output_type": "execute_result",
          "data": {
            "text/plain": [
              "{'dev_denotation_acc': 1.0}"
            ]
          },
          "metadata": {
            "tags": []
          },
          "execution_count": 377
        }
      ]
    },
    {
      "cell_type": "markdown",
      "metadata": {
        "id": "iz-6YQ6MLiII",
        "colab_type": "text"
      },
      "source": [
        "Now, we'll proceed to training on the full dataset with an unrestricted model. The search space is larger here and it may take several epochs before performance starts to increase. While the training loss should consistently decrease, you may see fluctuations in denotation accuracy (both on train and dev) from epoch to epoch. However, you'll likely obtain training denotation accuracies >80% and dev denotation accuracies >70% at some point by epoch 5. Your maximal dev accuracy should be at least 63%, although there is again some variance due to the small dataset size, which is compounded by the variance from training from denotations. Our reference implementation obtained an average maximal dev accuracy of 80%, but ranged between 63% and 90% (over 40 trials). 10 epochs of training should take around 20-30 minutes."
      ]
    },
    {
      "cell_type": "code",
      "metadata": {
        "id": "6kZlEVV8LtTV",
        "colab_type": "code",
        "colab": {}
      },
      "source": [
        "latent_model = Model()"
      ],
      "execution_count": 0,
      "outputs": []
    },
    {
      "cell_type": "code",
      "metadata": {
        "id": "DoQGZMQuLwk2",
        "colab_type": "code",
        "colab": {
          "base_uri": "https://localhost:8080/",
          "height": 664,
          "referenced_widgets": [
            "50d082fcd21e493eadf7f13c6230520c",
            "25ff5dbee76d437b87b2ae5036f8fa39",
            "b1c7dd3ec8ce4d9a9c142d1282e58050",
            "411a1e049ace4f81a3dd7df056b75056",
            "cc097636554244698ef8600e1a39dca2",
            "f42752dc4f59449993a10bd7dd5eb3b5",
            "bec44e22b0664ae8b7d9346dfb59b335",
            "b2d54fb98ac648c78594621cd1fadba2",
            "ee9af335fd08402584d462913682ebd5",
            "ea01ee4720e94076b9c3927590b9b4ac",
            "000617fbcede4a15879c9758368c2d2b",
            "dab0a36c5fbc486e8f90975e9b607c9d",
            "52fe8c6f2ef74d03b787bc2c776e12f9",
            "23348ab2f36642f9afbaed3dd51156e9",
            "38004fac44aa42cd818e583a560e970b",
            "ca767c11817d434c9ded7c59b216bf3d",
            "08562595c120418a8651b823da5c27dc",
            "045451f03aa947979fb88b28f474ad21",
            "033a9eaa64344a64830b0bdc3c2f8740",
            "dfcf0ff03c1241eb9461d17447bfb9c6",
            "ac1368faa24a4ae89fa19a714954b2f6",
            "c76bad2badd9425bbc94093b036a956c",
            "11b9d275a2434512a261b999bf8c4115",
            "d979fa3095b94a07860142455617350e",
            "cb7ddc5484be491e8e6aef67f2d2fcc2",
            "23ae412d703545ae9ec1532ccb144bec",
            "0dcf3b525fd649f8bcb155e2a29de280",
            "5e5ea9dc89ea43db8a9917690444928c",
            "b6f9d19748164a6b98a38d0323d8e069",
            "aa5da75e4f5a4392841d95b84779ebee",
            "e636a457e21b48ba886657a76202cac7",
            "d23f0a0a9e5a4648af4c0469f187f75d",
            "a9e45194c8f14cabaec7aaeea373aaa2",
            "876e860bcc0948f68704ce12a2b8f492",
            "94f2734f156b46f39d150439ee742ed8",
            "4a8bac1db7d246308bcaeb6c63330cb9",
            "4e464c7aecca43a4a7069a43b595ccb7",
            "25cb399f8ca74330a71800af411fd3ae",
            "15075c2665b947edb3acaec2275b39b7",
            "355d404abddc43b381b95a66ea684abb",
            "36621027c6f04424b93b05834383d7bc",
            "4e7a8f1676c94860bbeff89b8bb6aef2",
            "f29bf4d2e14b4dd0bdb49ac19c34a657",
            "33bc418eae124b669185eb479c62650a",
            "b8d95b046abd4ba5a19d301de43ae1a9",
            "def969a734e84d77a9b2f9fc3922cbde",
            "823ce07912954df3a297c1e325228bee",
            "baecc5c8383643a5b5b57a0eb1b228dc",
            "05be02d82af346a389106cda7f0fdbee",
            "19bca95dd1704168950adecd93d9b556",
            "a08b6a628e324b9a925eefff948582cb",
            "8136006a681d414aa1aa6e630b6126e4",
            "e286788360ab44de977f881a277c39d4",
            "6c14c78bb58a4fcdaef657a0def00952",
            "9e01f94aee9e48fb8c88f0a4e5f4c8f2",
            "3c5b912ab93647f6881afd7a1ca680d3",
            "5d8e3107ec6f4976989443dc27f4d036",
            "d3a40e64be18472fac58bf71181e2847",
            "7133f9794a2e44898cac7b70c4203658",
            "3c97adac6ebb4774b6aff989957b8c24",
            "37290a1f18cf446d8893b0873d0b3a84",
            "a91e09ffe0c44a01ac77a90b9a0378c4",
            "de98ee2e70364ae2a273bc13d89778ac",
            "49d954238d554b3995fd5e901af9f118",
            "735c05a42ac24d8bb1c26ca107ffb256",
            "344dc11b69694956838741407d227028",
            "efc100fb904c48cba3d15475353113a6",
            "95e7cd78b8914bc292585b14ec39040a",
            "f19d26e625e24d56a81c818846254d1c",
            "543da8fe27be41f187245a9a204f08c9",
            "7d18f768f6e146e19b46f20ef06122ea",
            "ae63b3a2f7304ca8ac66b928358ef8cd",
            "f6fd2cf5505a49418423acb829bc3408",
            "23d8e3dd68374eaa9e3701a727c09ca7",
            "d8d946a5f35f4dce8946b81af7e4fe45",
            "a2edcc27ff4a45868d3ac7cbe2b42c52",
            "fdc4a8c2afee43818d1738bab2a27b7b",
            "1f4db84d50734be89c7f9890286c3475",
            "e55c7b21da464efeab36a53f05980da3",
            "685c442c4f6a49a894e64bf5955a416d",
            "41ffd10d74274aa3a3925e793d2f21c7",
            "34e617ec009d42f2bf45c14316458c5d",
            "ca0756b4e1564e00b798aa0c7fc6e464",
            "02de1e73a07a43aa916e5652d1878db0",
            "67355965ff8a4a84990a42fb4f4845d4",
            "5f0fbb94e7a74f4e8c6773cf4cb4e002",
            "b1a1fa07cddb4cb6a2198e76a39d1652",
            "054c549553334b0c919de96fe89950ef"
          ]
        },
        "outputId": "df43a824-21d8-4dba-86e4-e1caf5068633"
      },
      "source": [
        "train(latent_model, train_dataset, dev_dataset, 'latent_model.pt', \n",
        "      num_epochs=10, latent_logical_forms=True, \n",
        "      training_beam_size=100)"
      ],
      "execution_count": 370,
      "outputs": [
        {
          "output_type": "display_data",
          "data": {
            "application/vnd.jupyter.widget-view+json": {
              "model_id": "50d082fcd21e493eadf7f13c6230520c",
              "version_minor": 0,
              "version_major": 2
            },
            "text/plain": [
              "HBox(children=(FloatProgress(value=0.0, description='training', max=10.0, style=ProgressStyle(description_widt…"
            ]
          },
          "metadata": {
            "tags": []
          }
        },
        {
          "output_type": "display_data",
          "data": {
            "application/vnd.jupyter.widget-view+json": {
              "model_id": "ee9af335fd08402584d462913682ebd5",
              "version_minor": 0,
              "version_major": 2
            },
            "text/plain": [
              "HBox(children=(FloatProgress(value=0.0, description='epoch 1', max=133.0, style=ProgressStyle(description_widt…"
            ]
          },
          "metadata": {
            "tags": []
          }
        },
        {
          "output_type": "stream",
          "text": [
            "\n",
            "Obtained a new best development accuracy of 0.415, saving model checkpoint to latent_model.pt...\n"
          ],
          "name": "stdout"
        },
        {
          "output_type": "display_data",
          "data": {
            "application/vnd.jupyter.widget-view+json": {
              "model_id": "08562595c120418a8651b823da5c27dc",
              "version_minor": 0,
              "version_major": 2
            },
            "text/plain": [
              "HBox(children=(FloatProgress(value=0.0, description='epoch 2', max=133.0, style=ProgressStyle(description_widt…"
            ]
          },
          "metadata": {
            "tags": []
          }
        },
        {
          "output_type": "stream",
          "text": [
            "\n",
            "Obtained a new best development accuracy of 0.488, saving model checkpoint to latent_model.pt...\n"
          ],
          "name": "stdout"
        },
        {
          "output_type": "display_data",
          "data": {
            "application/vnd.jupyter.widget-view+json": {
              "model_id": "cb7ddc5484be491e8e6aef67f2d2fcc2",
              "version_minor": 0,
              "version_major": 2
            },
            "text/plain": [
              "HBox(children=(FloatProgress(value=0.0, description='epoch 3', max=133.0, style=ProgressStyle(description_widt…"
            ]
          },
          "metadata": {
            "tags": []
          }
        },
        {
          "output_type": "stream",
          "text": [
            "\n"
          ],
          "name": "stdout"
        },
        {
          "output_type": "display_data",
          "data": {
            "application/vnd.jupyter.widget-view+json": {
              "model_id": "a9e45194c8f14cabaec7aaeea373aaa2",
              "version_minor": 0,
              "version_major": 2
            },
            "text/plain": [
              "HBox(children=(FloatProgress(value=0.0, description='epoch 4', max=133.0, style=ProgressStyle(description_widt…"
            ]
          },
          "metadata": {
            "tags": []
          }
        },
        {
          "output_type": "stream",
          "text": [
            "\n"
          ],
          "name": "stdout"
        },
        {
          "output_type": "display_data",
          "data": {
            "application/vnd.jupyter.widget-view+json": {
              "model_id": "36621027c6f04424b93b05834383d7bc",
              "version_minor": 0,
              "version_major": 2
            },
            "text/plain": [
              "HBox(children=(FloatProgress(value=0.0, description='epoch 5', max=133.0, style=ProgressStyle(description_widt…"
            ]
          },
          "metadata": {
            "tags": []
          }
        },
        {
          "output_type": "stream",
          "text": [
            "\n"
          ],
          "name": "stdout"
        },
        {
          "output_type": "display_data",
          "data": {
            "application/vnd.jupyter.widget-view+json": {
              "model_id": "05be02d82af346a389106cda7f0fdbee",
              "version_minor": 0,
              "version_major": 2
            },
            "text/plain": [
              "HBox(children=(FloatProgress(value=0.0, description='epoch 6', max=133.0, style=ProgressStyle(description_widt…"
            ]
          },
          "metadata": {
            "tags": []
          }
        },
        {
          "output_type": "stream",
          "text": [
            "\n"
          ],
          "name": "stdout"
        },
        {
          "output_type": "display_data",
          "data": {
            "application/vnd.jupyter.widget-view+json": {
              "model_id": "5d8e3107ec6f4976989443dc27f4d036",
              "version_minor": 0,
              "version_major": 2
            },
            "text/plain": [
              "HBox(children=(FloatProgress(value=0.0, description='epoch 7', max=133.0, style=ProgressStyle(description_widt…"
            ]
          },
          "metadata": {
            "tags": []
          }
        },
        {
          "output_type": "stream",
          "text": [
            "\n",
            "Obtained a new best development accuracy of 0.610, saving model checkpoint to latent_model.pt...\n"
          ],
          "name": "stdout"
        },
        {
          "output_type": "display_data",
          "data": {
            "application/vnd.jupyter.widget-view+json": {
              "model_id": "735c05a42ac24d8bb1c26ca107ffb256",
              "version_minor": 0,
              "version_major": 2
            },
            "text/plain": [
              "HBox(children=(FloatProgress(value=0.0, description='epoch 8', max=133.0, style=ProgressStyle(description_widt…"
            ]
          },
          "metadata": {
            "tags": []
          }
        },
        {
          "output_type": "stream",
          "text": [
            "\n",
            "Obtained a new best development accuracy of 0.634, saving model checkpoint to latent_model.pt...\n"
          ],
          "name": "stdout"
        },
        {
          "output_type": "display_data",
          "data": {
            "application/vnd.jupyter.widget-view+json": {
              "model_id": "f6fd2cf5505a49418423acb829bc3408",
              "version_minor": 0,
              "version_major": 2
            },
            "text/plain": [
              "HBox(children=(FloatProgress(value=0.0, description='epoch 9', max=133.0, style=ProgressStyle(description_widt…"
            ]
          },
          "metadata": {
            "tags": []
          }
        },
        {
          "output_type": "stream",
          "text": [
            "\n"
          ],
          "name": "stdout"
        },
        {
          "output_type": "display_data",
          "data": {
            "application/vnd.jupyter.widget-view+json": {
              "model_id": "41ffd10d74274aa3a3925e793d2f21c7",
              "version_minor": 0,
              "version_major": 2
            },
            "text/plain": [
              "HBox(children=(FloatProgress(value=0.0, description='epoch 10', max=133.0, style=ProgressStyle(description_wid…"
            ]
          },
          "metadata": {
            "tags": []
          }
        },
        {
          "output_type": "stream",
          "text": [
            "\n",
            "\n",
            "Maximal development accuracy of 0.634\n",
            "Reloading best model checkpoint from latent_model.pt...\n"
          ],
          "name": "stdout"
        }
      ]
    },
    {
      "cell_type": "markdown",
      "metadata": {
        "id": "mAhA-fKcL72O",
        "colab_type": "text"
      },
      "source": [
        "You can run the following cell to see the model predictions:"
      ]
    },
    {
      "cell_type": "code",
      "metadata": {
        "id": "szKxJV_AL63h",
        "colab_type": "code",
        "colab": {
          "base_uri": "https://localhost:8080/",
          "height": 1000
        },
        "outputId": "3271b536-2d27-410f-d85d-02c917aad8a1"
      },
      "source": [
        "evaluate_predictions(\n",
        "  dev_dataset, 'dev', execute,\n",
        "  prediction_function=make_beam_prediction_function(latent_model),\n",
        "  display_predictions_frequency=5\n",
        ")"
      ],
      "execution_count": 371,
      "outputs": [
        {
          "output_type": "stream",
          "text": [
            "dev example 1\n",
            "dev question: what states are there ?\n",
            "dev true LF: (lambda $w (and (state $w)))\n",
            "dev pred LF: (lambda $w (and (state $w)))\n",
            "dev true denotation: {'north_carolina', 'virginia', 'west_virginia'}\n",
            "dev pred denotation: {'north_carolina', 'virginia', 'west_virginia'}\n",
            "dev denotation match: True\n",
            "\n",
            "dev example 6\n",
            "dev question: what is the capital of virginia ?\n",
            "dev true LF: (lambda $w (exists $x (and (capital-rel $w $x) (kb-virginia $x))))\n",
            "dev pred LF: (lambda $w (exists $x (and (capital-rel $w $x) (capital $x))))\n",
            "dev true denotation: {'richmond'}\n",
            "dev pred denotation: set()\n",
            "dev denotation match: False\n",
            "\n",
            "dev example 11\n",
            "dev question: what cities in west virginia ?\n",
            "dev true LF: (lambda $w (exists $x (and (city $w) (in-rel $w $x) (kb-west_virginia $x))))\n",
            "dev pred LF: (lambda $w (exists $x (and (city $w) (kb-west_virginia $x) (in-rel $w $x))))\n",
            "dev true denotation: set()\n",
            "dev pred denotation: set()\n",
            "dev denotation match: True\n",
            "\n",
            "dev example 16\n",
            "dev question: what state is south of west virginia ?\n",
            "dev true LF: (lambda $w (exists $x (and (state $w) (south-rel $w $x) (kb-west_virginia $x))))\n",
            "dev pred LF: (lambda $w (exists $x (and (state $w) (kb-west_virginia $x) (south-rel $w $x))))\n",
            "dev true denotation: {'virginia'}\n",
            "dev pred denotation: {'virginia'}\n",
            "dev denotation match: True\n",
            "\n",
            "dev example 21\n",
            "dev question: what ocean borders virginia ?\n",
            "dev true LF: (lambda $w (exists $x (and (ocean $w) (border-rel $w $x) (kb-virginia $x))))\n",
            "dev pred LF: (lambda $w (and (kb-atlantic_ocean $w) (ocean $w)))\n",
            "dev true denotation: {'atlantic_ocean'}\n",
            "dev pred denotation: {'atlantic_ocean'}\n",
            "dev denotation match: True\n",
            "\n",
            "dev example 26\n",
            "dev question: is virginia beach inside of west virginia ?\n",
            "dev true LF: (lambda $w (exists $x (and (kb-virginia_beach $w) (inside-rel $w $x) (kb-west_virginia $x))))\n",
            "dev pred LF: (lambda $w (exists $x (and (inside-rel $w $x))))\n",
            "dev true denotation: set()\n",
            "dev pred denotation: {'richmond', 'virginia_beach'}\n",
            "dev denotation match: False\n",
            "\n",
            "dev example 31\n",
            "dev question: is the atlantic ocean in west virginia ?\n",
            "dev true LF: (lambda $w (exists $x (and (kb-atlantic_ocean $w) (in-rel $w $x) (kb-west_virginia $x))))\n",
            "dev pred LF: (lambda $w (exists $x (and (kb-atlantic_ocean $w) (in-rel $w $x))))\n",
            "dev true denotation: set()\n",
            "dev pred denotation: set()\n",
            "dev denotation match: True\n",
            "\n",
            "dev example 36\n",
            "dev question: what cities are in virginia ?\n",
            "dev true LF: (lambda $w (exists $x (and (city $w) (in-rel $w $x) (kb-virginia $x))))\n",
            "dev pred LF: (lambda $w (exists $x (and (city $w) (kb-west_virginia $x) (in-rel $w $x))))\n",
            "dev true denotation: {'richmond'}\n",
            "dev pred denotation: {'charleston'}\n",
            "dev denotation match: False\n",
            "\n",
            "dev example 41\n",
            "dev question: is virginia east of west virginia ?\n",
            "dev true LF: (lambda $w (exists $x (and (kb-virginia $w) (east-rel $w $x) (kb-west_virginia $x))))\n",
            "dev pred LF: (lambda $w (and (kb-virginia $w) (kb-west_virginia $w)))\n",
            "dev true denotation: {'virginia'}\n",
            "dev pred denotation: set()\n",
            "dev denotation match: False\n",
            "\n"
          ],
          "name": "stdout"
        },
        {
          "output_type": "execute_result",
          "data": {
            "text/plain": [
              "{'dev_denotation_acc': 0.6341463414634146}"
            ]
          },
          "metadata": {
            "tags": []
          },
          "execution_count": 371
        }
      ]
    },
    {
      "cell_type": "markdown",
      "metadata": {
        "id": "X5r-_Q-aBciM",
        "colab_type": "text"
      },
      "source": [
        "## Submission"
      ]
    },
    {
      "cell_type": "code",
      "metadata": {
        "id": "aBDmSM1-mpnn",
        "colab_type": "code",
        "colab": {}
      },
      "source": [
        "def dump_logical_form_actions(dataset, fname):\n",
        "  with open(fname, 'w') as f:\n",
        "    for i in range(len(dataset)):\n",
        "      parser_state = ParserState.from_logical_form(dataset[i]['logical_form'])\n",
        "      f.write('{}\\n'.format(' '.join(parser_state.actions())))"
      ],
      "execution_count": 0,
      "outputs": []
    },
    {
      "cell_type": "code",
      "metadata": {
        "id": "kxsS7TmEnE_Z",
        "colab_type": "code",
        "colab": {}
      },
      "source": [
        "# to test your ParserState.take_action() method, we'll also save \n",
        "# the actions for the true logical forms\n",
        "dump_logical_form_actions(dev_dataset, './dev_true_lf_actions.txt')\n",
        "dump_logical_form_actions(test_dataset, './test_true_lf_actions.txt')"
      ],
      "execution_count": 0,
      "outputs": []
    },
    {
      "cell_type": "code",
      "metadata": {
        "id": "xvANxD_gBdra",
        "colab_type": "code",
        "colab": {
          "base_uri": "https://localhost:8080/",
          "height": 86
        },
        "outputId": "6eadd20d-0bdd-4c9f-f7e6-f23ba1734d55"
      },
      "source": [
        "# Uncomment this code to restore models from a checkpoint.\n",
        "#\n",
        "# supervised_model = Model(max_vars=4, no_repeated_literals=True)\n",
        "# supervised_model.load_state_dict(torch.load('supervised_model.pt'))\n",
        "# latent_model = Model(max_vars=4, no_repeated_literals=True)\n",
        "# latent_model.load_state_dict(torch.load('latent_model.pt'))\n",
        "\n",
        "pprint.pprint(evaluate_predictions(\n",
        "  dev_dataset, 'supervised_dev', execute,\n",
        "  prediction_function=make_beam_prediction_function(supervised_model, 5),\n",
        "  logical_form_output_file='./supervised_dev_lfs.txt'\n",
        "))\n",
        "pprint.pprint(evaluate_predictions(\n",
        "  test_dataset, 'supervised_test', execute,\n",
        "  prediction_function=make_beam_prediction_function(supervised_model, 5),\n",
        "  logical_form_output_file='./supervised_test_lfs.txt'\n",
        "))\n",
        "pprint.pprint(evaluate_predictions(\n",
        "  dev_dataset, 'latent_dev', execute,\n",
        "  prediction_function=make_beam_prediction_function(latent_model, 5),\n",
        "  logical_form_output_file='./latent_dev_lfs.txt'\n",
        "))\n",
        "pprint.pprint(evaluate_predictions(\n",
        "  test_dataset, 'latent_test', execute,\n",
        "  prediction_function=make_beam_prediction_function(latent_model, 5),\n",
        "  logical_form_output_file='./latent_test_lfs.txt'\n",
        "))"
      ],
      "execution_count": 380,
      "outputs": [
        {
          "output_type": "stream",
          "text": [
            "{'supervised_dev_denotation_acc': 0.926829268292683}\n",
            "{'supervised_test_denotation_acc': 0.6470588235294118}\n",
            "{'latent_dev_denotation_acc': 0.6341463414634146}\n",
            "{'latent_test_denotation_acc': 0.6666666666666666}\n"
          ],
          "name": "stdout"
        }
      ]
    },
    {
      "cell_type": "markdown",
      "metadata": {
        "id": "b3tuEAhWBj1B",
        "colab_type": "text"
      },
      "source": [
        "Your submission should consist of your code, the actions to generate true logical forms for the dev and test set (to test your ParserState.take_action() method), as well as the logical forms predicted by your model for both dev and test data in supervised and latent settings. Turn in the following files on Gradescope:\n",
        "\n",
        "- proj_4.ipynb (this file; please rename to match)\n",
        "- dev_true_lf_actions.txt\n",
        "- test_true_lf_actions.txt\n",
        "- supervised_dev_lfs.txt\n",
        "- supervised_test_lfs.txt\n",
        "- latent_dev_lfs.txt\n",
        "- latent_test_lfs.txt\n",
        "\n",
        "Be sure to check the output of the autograder after it runs. It should confirm that no files are missing and that the output files have the correct format."
      ]
    }
  ]
}