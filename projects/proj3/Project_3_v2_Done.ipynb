{
  "nbformat": 4,
  "nbformat_minor": 0,
  "metadata": {
    "colab": {
      "name": "Project 3 v2 Done.ipynb",
      "provenance": [],
      "collapsed_sections": [],
      "toc_visible": true
    },
    "kernelspec": {
      "name": "python3",
      "display_name": "Python 3"
    },
    "accelerator": "GPU",
    "widgets": {
      "application/vnd.jupyter.widget-state+json": {
        "d1381f1447904700960d28e7cfa22db4": {
          "model_module": "@jupyter-widgets/controls",
          "model_name": "HBoxModel",
          "state": {
            "_view_name": "HBoxView",
            "_dom_classes": [],
            "_model_name": "HBoxModel",
            "_view_module": "@jupyter-widgets/controls",
            "_model_module_version": "1.5.0",
            "_view_count": null,
            "_view_module_version": "1.5.0",
            "box_style": "",
            "layout": "IPY_MODEL_7084d9b9f64b4d79b0dda4b8d4c80916",
            "_model_module": "@jupyter-widgets/controls",
            "children": [
              "IPY_MODEL_90117c78c5724c0cb7b3aba8b17dc37f",
              "IPY_MODEL_22a1172441b94d3d89a4ad1b6f997367"
            ]
          }
        },
        "7084d9b9f64b4d79b0dda4b8d4c80916": {
          "model_module": "@jupyter-widgets/base",
          "model_name": "LayoutModel",
          "state": {
            "_view_name": "LayoutView",
            "grid_template_rows": null,
            "right": null,
            "justify_content": null,
            "_view_module": "@jupyter-widgets/base",
            "overflow": null,
            "_model_module_version": "1.2.0",
            "_view_count": null,
            "flex_flow": null,
            "width": null,
            "min_width": null,
            "border": null,
            "align_items": null,
            "bottom": null,
            "_model_module": "@jupyter-widgets/base",
            "top": null,
            "grid_column": null,
            "overflow_y": null,
            "overflow_x": null,
            "grid_auto_flow": null,
            "grid_area": null,
            "grid_template_columns": null,
            "flex": null,
            "_model_name": "LayoutModel",
            "justify_items": null,
            "grid_row": null,
            "max_height": null,
            "align_content": null,
            "visibility": null,
            "align_self": null,
            "height": null,
            "min_height": null,
            "padding": null,
            "grid_auto_rows": null,
            "grid_gap": null,
            "max_width": null,
            "order": null,
            "_view_module_version": "1.2.0",
            "grid_template_areas": null,
            "object_position": null,
            "object_fit": null,
            "grid_auto_columns": null,
            "margin": null,
            "display": null,
            "left": null
          }
        },
        "90117c78c5724c0cb7b3aba8b17dc37f": {
          "model_module": "@jupyter-widgets/controls",
          "model_name": "FloatProgressModel",
          "state": {
            "_view_name": "ProgressView",
            "style": "IPY_MODEL_e24bee1310214abcaefa9cc26bd65408",
            "_dom_classes": [],
            "description": "training: 100%",
            "_model_name": "FloatProgressModel",
            "bar_style": "success",
            "max": 5,
            "_view_module": "@jupyter-widgets/controls",
            "_model_module_version": "1.5.0",
            "value": 5,
            "_view_count": null,
            "_view_module_version": "1.5.0",
            "orientation": "horizontal",
            "min": 0,
            "description_tooltip": null,
            "_model_module": "@jupyter-widgets/controls",
            "layout": "IPY_MODEL_321e779a229f4eef85419a4029b7fbee"
          }
        },
        "22a1172441b94d3d89a4ad1b6f997367": {
          "model_module": "@jupyter-widgets/controls",
          "model_name": "HTMLModel",
          "state": {
            "_view_name": "HTMLView",
            "style": "IPY_MODEL_8d76bd9ece9d4766a05b6a058358bfc9",
            "_dom_classes": [],
            "description": "",
            "_model_name": "HTMLModel",
            "placeholder": "​",
            "_view_module": "@jupyter-widgets/controls",
            "_model_module_version": "1.5.0",
            "value": " 5/5 [01:09&lt;00:00, 13.87s/epoch]",
            "_view_count": null,
            "_view_module_version": "1.5.0",
            "description_tooltip": null,
            "_model_module": "@jupyter-widgets/controls",
            "layout": "IPY_MODEL_b783c6e19b514bddb905605c92aca313"
          }
        },
        "e24bee1310214abcaefa9cc26bd65408": {
          "model_module": "@jupyter-widgets/controls",
          "model_name": "ProgressStyleModel",
          "state": {
            "_view_name": "StyleView",
            "_model_name": "ProgressStyleModel",
            "description_width": "initial",
            "_view_module": "@jupyter-widgets/base",
            "_model_module_version": "1.5.0",
            "_view_count": null,
            "_view_module_version": "1.2.0",
            "bar_color": null,
            "_model_module": "@jupyter-widgets/controls"
          }
        },
        "321e779a229f4eef85419a4029b7fbee": {
          "model_module": "@jupyter-widgets/base",
          "model_name": "LayoutModel",
          "state": {
            "_view_name": "LayoutView",
            "grid_template_rows": null,
            "right": null,
            "justify_content": null,
            "_view_module": "@jupyter-widgets/base",
            "overflow": null,
            "_model_module_version": "1.2.0",
            "_view_count": null,
            "flex_flow": null,
            "width": null,
            "min_width": null,
            "border": null,
            "align_items": null,
            "bottom": null,
            "_model_module": "@jupyter-widgets/base",
            "top": null,
            "grid_column": null,
            "overflow_y": null,
            "overflow_x": null,
            "grid_auto_flow": null,
            "grid_area": null,
            "grid_template_columns": null,
            "flex": null,
            "_model_name": "LayoutModel",
            "justify_items": null,
            "grid_row": null,
            "max_height": null,
            "align_content": null,
            "visibility": null,
            "align_self": null,
            "height": null,
            "min_height": null,
            "padding": null,
            "grid_auto_rows": null,
            "grid_gap": null,
            "max_width": null,
            "order": null,
            "_view_module_version": "1.2.0",
            "grid_template_areas": null,
            "object_position": null,
            "object_fit": null,
            "grid_auto_columns": null,
            "margin": null,
            "display": null,
            "left": null
          }
        },
        "8d76bd9ece9d4766a05b6a058358bfc9": {
          "model_module": "@jupyter-widgets/controls",
          "model_name": "DescriptionStyleModel",
          "state": {
            "_view_name": "StyleView",
            "_model_name": "DescriptionStyleModel",
            "description_width": "",
            "_view_module": "@jupyter-widgets/base",
            "_model_module_version": "1.5.0",
            "_view_count": null,
            "_view_module_version": "1.2.0",
            "_model_module": "@jupyter-widgets/controls"
          }
        },
        "b783c6e19b514bddb905605c92aca313": {
          "model_module": "@jupyter-widgets/base",
          "model_name": "LayoutModel",
          "state": {
            "_view_name": "LayoutView",
            "grid_template_rows": null,
            "right": null,
            "justify_content": null,
            "_view_module": "@jupyter-widgets/base",
            "overflow": null,
            "_model_module_version": "1.2.0",
            "_view_count": null,
            "flex_flow": null,
            "width": null,
            "min_width": null,
            "border": null,
            "align_items": null,
            "bottom": null,
            "_model_module": "@jupyter-widgets/base",
            "top": null,
            "grid_column": null,
            "overflow_y": null,
            "overflow_x": null,
            "grid_auto_flow": null,
            "grid_area": null,
            "grid_template_columns": null,
            "flex": null,
            "_model_name": "LayoutModel",
            "justify_items": null,
            "grid_row": null,
            "max_height": null,
            "align_content": null,
            "visibility": null,
            "align_self": null,
            "height": null,
            "min_height": null,
            "padding": null,
            "grid_auto_rows": null,
            "grid_gap": null,
            "max_width": null,
            "order": null,
            "_view_module_version": "1.2.0",
            "grid_template_areas": null,
            "object_position": null,
            "object_fit": null,
            "grid_auto_columns": null,
            "margin": null,
            "display": null,
            "left": null
          }
        },
        "a562ec33b3fd49649328455b2f38c533": {
          "model_module": "@jupyter-widgets/controls",
          "model_name": "HBoxModel",
          "state": {
            "_view_name": "HBoxView",
            "_dom_classes": [],
            "_model_name": "HBoxModel",
            "_view_module": "@jupyter-widgets/controls",
            "_model_module_version": "1.5.0",
            "_view_count": null,
            "_view_module_version": "1.5.0",
            "box_style": "",
            "layout": "IPY_MODEL_e17ea61d891342409142e3b34fb84088",
            "_model_module": "@jupyter-widgets/controls",
            "children": [
              "IPY_MODEL_a86e1606b3ed42da9ed491d4db3e6f55",
              "IPY_MODEL_873ea1d8cb2b454596573eedb40288bb"
            ]
          }
        },
        "e17ea61d891342409142e3b34fb84088": {
          "model_module": "@jupyter-widgets/base",
          "model_name": "LayoutModel",
          "state": {
            "_view_name": "LayoutView",
            "grid_template_rows": null,
            "right": null,
            "justify_content": null,
            "_view_module": "@jupyter-widgets/base",
            "overflow": null,
            "_model_module_version": "1.2.0",
            "_view_count": null,
            "flex_flow": null,
            "width": null,
            "min_width": null,
            "border": null,
            "align_items": null,
            "bottom": null,
            "_model_module": "@jupyter-widgets/base",
            "top": null,
            "grid_column": null,
            "overflow_y": null,
            "overflow_x": null,
            "grid_auto_flow": null,
            "grid_area": null,
            "grid_template_columns": null,
            "flex": null,
            "_model_name": "LayoutModel",
            "justify_items": null,
            "grid_row": null,
            "max_height": null,
            "align_content": null,
            "visibility": null,
            "align_self": null,
            "height": null,
            "min_height": null,
            "padding": null,
            "grid_auto_rows": null,
            "grid_gap": null,
            "max_width": null,
            "order": null,
            "_view_module_version": "1.2.0",
            "grid_template_areas": null,
            "object_position": null,
            "object_fit": null,
            "grid_auto_columns": null,
            "margin": null,
            "display": null,
            "left": null
          }
        },
        "a86e1606b3ed42da9ed491d4db3e6f55": {
          "model_module": "@jupyter-widgets/controls",
          "model_name": "FloatProgressModel",
          "state": {
            "_view_name": "ProgressView",
            "style": "IPY_MODEL_1e054f04320b473cbfe617e8298bfe25",
            "_dom_classes": [],
            "description": "epoch 1: 100%",
            "_model_name": "FloatProgressModel",
            "bar_style": "success",
            "max": 575,
            "_view_module": "@jupyter-widgets/controls",
            "_model_module_version": "1.5.0",
            "value": 575,
            "_view_count": null,
            "_view_module_version": "1.5.0",
            "orientation": "horizontal",
            "min": 0,
            "description_tooltip": null,
            "_model_module": "@jupyter-widgets/controls",
            "layout": "IPY_MODEL_5d1476a3201847e1a95cf10a01b5d58e"
          }
        },
        "873ea1d8cb2b454596573eedb40288bb": {
          "model_module": "@jupyter-widgets/controls",
          "model_name": "HTMLModel",
          "state": {
            "_view_name": "HTMLView",
            "style": "IPY_MODEL_37fbc1b17afc4a9bbc9bce7ca9578a0a",
            "_dom_classes": [],
            "description": "",
            "_model_name": "HTMLModel",
            "placeholder": "​",
            "_view_module": "@jupyter-widgets/controls",
            "_model_module_version": "1.5.0",
            "value": " 575/575 [01:09&lt;00:00,  8.29batch/s, mean_loss=0.774, validation_metric=0.873]",
            "_view_count": null,
            "_view_module_version": "1.5.0",
            "description_tooltip": null,
            "_model_module": "@jupyter-widgets/controls",
            "layout": "IPY_MODEL_97b2836045b14b0e8b46a1df28e6761c"
          }
        },
        "1e054f04320b473cbfe617e8298bfe25": {
          "model_module": "@jupyter-widgets/controls",
          "model_name": "ProgressStyleModel",
          "state": {
            "_view_name": "StyleView",
            "_model_name": "ProgressStyleModel",
            "description_width": "initial",
            "_view_module": "@jupyter-widgets/base",
            "_model_module_version": "1.5.0",
            "_view_count": null,
            "_view_module_version": "1.2.0",
            "bar_color": null,
            "_model_module": "@jupyter-widgets/controls"
          }
        },
        "5d1476a3201847e1a95cf10a01b5d58e": {
          "model_module": "@jupyter-widgets/base",
          "model_name": "LayoutModel",
          "state": {
            "_view_name": "LayoutView",
            "grid_template_rows": null,
            "right": null,
            "justify_content": null,
            "_view_module": "@jupyter-widgets/base",
            "overflow": null,
            "_model_module_version": "1.2.0",
            "_view_count": null,
            "flex_flow": null,
            "width": null,
            "min_width": null,
            "border": null,
            "align_items": null,
            "bottom": null,
            "_model_module": "@jupyter-widgets/base",
            "top": null,
            "grid_column": null,
            "overflow_y": null,
            "overflow_x": null,
            "grid_auto_flow": null,
            "grid_area": null,
            "grid_template_columns": null,
            "flex": null,
            "_model_name": "LayoutModel",
            "justify_items": null,
            "grid_row": null,
            "max_height": null,
            "align_content": null,
            "visibility": null,
            "align_self": null,
            "height": null,
            "min_height": null,
            "padding": null,
            "grid_auto_rows": null,
            "grid_gap": null,
            "max_width": null,
            "order": null,
            "_view_module_version": "1.2.0",
            "grid_template_areas": null,
            "object_position": null,
            "object_fit": null,
            "grid_auto_columns": null,
            "margin": null,
            "display": null,
            "left": null
          }
        },
        "37fbc1b17afc4a9bbc9bce7ca9578a0a": {
          "model_module": "@jupyter-widgets/controls",
          "model_name": "DescriptionStyleModel",
          "state": {
            "_view_name": "StyleView",
            "_model_name": "DescriptionStyleModel",
            "description_width": "",
            "_view_module": "@jupyter-widgets/base",
            "_model_module_version": "1.5.0",
            "_view_count": null,
            "_view_module_version": "1.2.0",
            "_model_module": "@jupyter-widgets/controls"
          }
        },
        "97b2836045b14b0e8b46a1df28e6761c": {
          "model_module": "@jupyter-widgets/base",
          "model_name": "LayoutModel",
          "state": {
            "_view_name": "LayoutView",
            "grid_template_rows": null,
            "right": null,
            "justify_content": null,
            "_view_module": "@jupyter-widgets/base",
            "overflow": null,
            "_model_module_version": "1.2.0",
            "_view_count": null,
            "flex_flow": null,
            "width": null,
            "min_width": null,
            "border": null,
            "align_items": null,
            "bottom": null,
            "_model_module": "@jupyter-widgets/base",
            "top": null,
            "grid_column": null,
            "overflow_y": null,
            "overflow_x": null,
            "grid_auto_flow": null,
            "grid_area": null,
            "grid_template_columns": null,
            "flex": null,
            "_model_name": "LayoutModel",
            "justify_items": null,
            "grid_row": null,
            "max_height": null,
            "align_content": null,
            "visibility": null,
            "align_self": null,
            "height": null,
            "min_height": null,
            "padding": null,
            "grid_auto_rows": null,
            "grid_gap": null,
            "max_width": null,
            "order": null,
            "_view_module_version": "1.2.0",
            "grid_template_areas": null,
            "object_position": null,
            "object_fit": null,
            "grid_auto_columns": null,
            "margin": null,
            "display": null,
            "left": null
          }
        },
        "44d12fd7c4b54433aba20379a8d60685": {
          "model_module": "@jupyter-widgets/controls",
          "model_name": "HBoxModel",
          "state": {
            "_view_name": "HBoxView",
            "_dom_classes": [],
            "_model_name": "HBoxModel",
            "_view_module": "@jupyter-widgets/controls",
            "_model_module_version": "1.5.0",
            "_view_count": null,
            "_view_module_version": "1.5.0",
            "box_style": "",
            "layout": "IPY_MODEL_2ec1d4d6ee5544bf8dea6ebdec33589d",
            "_model_module": "@jupyter-widgets/controls",
            "children": [
              "IPY_MODEL_e5cfbb2393d743e7b5a262d46cf6a17d",
              "IPY_MODEL_ddd46afce96b438fb315107108a84b55"
            ]
          }
        },
        "2ec1d4d6ee5544bf8dea6ebdec33589d": {
          "model_module": "@jupyter-widgets/base",
          "model_name": "LayoutModel",
          "state": {
            "_view_name": "LayoutView",
            "grid_template_rows": null,
            "right": null,
            "justify_content": null,
            "_view_module": "@jupyter-widgets/base",
            "overflow": null,
            "_model_module_version": "1.2.0",
            "_view_count": null,
            "flex_flow": null,
            "width": null,
            "min_width": null,
            "border": null,
            "align_items": null,
            "bottom": null,
            "_model_module": "@jupyter-widgets/base",
            "top": null,
            "grid_column": null,
            "overflow_y": null,
            "overflow_x": null,
            "grid_auto_flow": null,
            "grid_area": null,
            "grid_template_columns": null,
            "flex": null,
            "_model_name": "LayoutModel",
            "justify_items": null,
            "grid_row": null,
            "max_height": null,
            "align_content": null,
            "visibility": null,
            "align_self": null,
            "height": null,
            "min_height": null,
            "padding": null,
            "grid_auto_rows": null,
            "grid_gap": null,
            "max_width": null,
            "order": null,
            "_view_module_version": "1.2.0",
            "grid_template_areas": null,
            "object_position": null,
            "object_fit": null,
            "grid_auto_columns": null,
            "margin": null,
            "display": null,
            "left": null
          }
        },
        "e5cfbb2393d743e7b5a262d46cf6a17d": {
          "model_module": "@jupyter-widgets/controls",
          "model_name": "FloatProgressModel",
          "state": {
            "_view_name": "ProgressView",
            "style": "IPY_MODEL_3678ff2bb47e4acd835937f0b829c1bd",
            "_dom_classes": [],
            "description": "epoch 2: 100%",
            "_model_name": "FloatProgressModel",
            "bar_style": "success",
            "max": 575,
            "_view_module": "@jupyter-widgets/controls",
            "_model_module_version": "1.5.0",
            "value": 575,
            "_view_count": null,
            "_view_module_version": "1.5.0",
            "orientation": "horizontal",
            "min": 0,
            "description_tooltip": null,
            "_model_module": "@jupyter-widgets/controls",
            "layout": "IPY_MODEL_54f37cf242e844208bf6f96f9348fb62"
          }
        },
        "ddd46afce96b438fb315107108a84b55": {
          "model_module": "@jupyter-widgets/controls",
          "model_name": "HTMLModel",
          "state": {
            "_view_name": "HTMLView",
            "style": "IPY_MODEL_f9213c739233445ea5fe7f0b21a78298",
            "_dom_classes": [],
            "description": "",
            "_model_name": "HTMLModel",
            "placeholder": "​",
            "_view_module": "@jupyter-widgets/controls",
            "_model_module_version": "1.5.0",
            "value": " 575/575 [00:55&lt;00:00, 10.41batch/s, mean_loss=0.363, validation_metric=0.873]",
            "_view_count": null,
            "_view_module_version": "1.5.0",
            "description_tooltip": null,
            "_model_module": "@jupyter-widgets/controls",
            "layout": "IPY_MODEL_be8e9cefdc6249d498a1f99c78d8ca32"
          }
        },
        "3678ff2bb47e4acd835937f0b829c1bd": {
          "model_module": "@jupyter-widgets/controls",
          "model_name": "ProgressStyleModel",
          "state": {
            "_view_name": "StyleView",
            "_model_name": "ProgressStyleModel",
            "description_width": "initial",
            "_view_module": "@jupyter-widgets/base",
            "_model_module_version": "1.5.0",
            "_view_count": null,
            "_view_module_version": "1.2.0",
            "bar_color": null,
            "_model_module": "@jupyter-widgets/controls"
          }
        },
        "54f37cf242e844208bf6f96f9348fb62": {
          "model_module": "@jupyter-widgets/base",
          "model_name": "LayoutModel",
          "state": {
            "_view_name": "LayoutView",
            "grid_template_rows": null,
            "right": null,
            "justify_content": null,
            "_view_module": "@jupyter-widgets/base",
            "overflow": null,
            "_model_module_version": "1.2.0",
            "_view_count": null,
            "flex_flow": null,
            "width": null,
            "min_width": null,
            "border": null,
            "align_items": null,
            "bottom": null,
            "_model_module": "@jupyter-widgets/base",
            "top": null,
            "grid_column": null,
            "overflow_y": null,
            "overflow_x": null,
            "grid_auto_flow": null,
            "grid_area": null,
            "grid_template_columns": null,
            "flex": null,
            "_model_name": "LayoutModel",
            "justify_items": null,
            "grid_row": null,
            "max_height": null,
            "align_content": null,
            "visibility": null,
            "align_self": null,
            "height": null,
            "min_height": null,
            "padding": null,
            "grid_auto_rows": null,
            "grid_gap": null,
            "max_width": null,
            "order": null,
            "_view_module_version": "1.2.0",
            "grid_template_areas": null,
            "object_position": null,
            "object_fit": null,
            "grid_auto_columns": null,
            "margin": null,
            "display": null,
            "left": null
          }
        },
        "f9213c739233445ea5fe7f0b21a78298": {
          "model_module": "@jupyter-widgets/controls",
          "model_name": "DescriptionStyleModel",
          "state": {
            "_view_name": "StyleView",
            "_model_name": "DescriptionStyleModel",
            "description_width": "",
            "_view_module": "@jupyter-widgets/base",
            "_model_module_version": "1.5.0",
            "_view_count": null,
            "_view_module_version": "1.2.0",
            "_model_module": "@jupyter-widgets/controls"
          }
        },
        "be8e9cefdc6249d498a1f99c78d8ca32": {
          "model_module": "@jupyter-widgets/base",
          "model_name": "LayoutModel",
          "state": {
            "_view_name": "LayoutView",
            "grid_template_rows": null,
            "right": null,
            "justify_content": null,
            "_view_module": "@jupyter-widgets/base",
            "overflow": null,
            "_model_module_version": "1.2.0",
            "_view_count": null,
            "flex_flow": null,
            "width": null,
            "min_width": null,
            "border": null,
            "align_items": null,
            "bottom": null,
            "_model_module": "@jupyter-widgets/base",
            "top": null,
            "grid_column": null,
            "overflow_y": null,
            "overflow_x": null,
            "grid_auto_flow": null,
            "grid_area": null,
            "grid_template_columns": null,
            "flex": null,
            "_model_name": "LayoutModel",
            "justify_items": null,
            "grid_row": null,
            "max_height": null,
            "align_content": null,
            "visibility": null,
            "align_self": null,
            "height": null,
            "min_height": null,
            "padding": null,
            "grid_auto_rows": null,
            "grid_gap": null,
            "max_width": null,
            "order": null,
            "_view_module_version": "1.2.0",
            "grid_template_areas": null,
            "object_position": null,
            "object_fit": null,
            "grid_auto_columns": null,
            "margin": null,
            "display": null,
            "left": null
          }
        },
        "b8bde2863f5b42cfb4dd96ff7b75efea": {
          "model_module": "@jupyter-widgets/controls",
          "model_name": "HBoxModel",
          "state": {
            "_view_name": "HBoxView",
            "_dom_classes": [],
            "_model_name": "HBoxModel",
            "_view_module": "@jupyter-widgets/controls",
            "_model_module_version": "1.5.0",
            "_view_count": null,
            "_view_module_version": "1.5.0",
            "box_style": "",
            "layout": "IPY_MODEL_450cf599fe6f47e0959aee234d831e6d",
            "_model_module": "@jupyter-widgets/controls",
            "children": [
              "IPY_MODEL_147df138560c4406b5c861daf47257ac",
              "IPY_MODEL_43a32cdd72b54303b0fffe10b2020690"
            ]
          }
        },
        "450cf599fe6f47e0959aee234d831e6d": {
          "model_module": "@jupyter-widgets/base",
          "model_name": "LayoutModel",
          "state": {
            "_view_name": "LayoutView",
            "grid_template_rows": null,
            "right": null,
            "justify_content": null,
            "_view_module": "@jupyter-widgets/base",
            "overflow": null,
            "_model_module_version": "1.2.0",
            "_view_count": null,
            "flex_flow": null,
            "width": null,
            "min_width": null,
            "border": null,
            "align_items": null,
            "bottom": null,
            "_model_module": "@jupyter-widgets/base",
            "top": null,
            "grid_column": null,
            "overflow_y": null,
            "overflow_x": null,
            "grid_auto_flow": null,
            "grid_area": null,
            "grid_template_columns": null,
            "flex": null,
            "_model_name": "LayoutModel",
            "justify_items": null,
            "grid_row": null,
            "max_height": null,
            "align_content": null,
            "visibility": null,
            "align_self": null,
            "height": null,
            "min_height": null,
            "padding": null,
            "grid_auto_rows": null,
            "grid_gap": null,
            "max_width": null,
            "order": null,
            "_view_module_version": "1.2.0",
            "grid_template_areas": null,
            "object_position": null,
            "object_fit": null,
            "grid_auto_columns": null,
            "margin": null,
            "display": null,
            "left": null
          }
        },
        "147df138560c4406b5c861daf47257ac": {
          "model_module": "@jupyter-widgets/controls",
          "model_name": "FloatProgressModel",
          "state": {
            "_view_name": "ProgressView",
            "style": "IPY_MODEL_56f65c9c4a7e4d698129a835ffab1d41",
            "_dom_classes": [],
            "description": "epoch 3: 100%",
            "_model_name": "FloatProgressModel",
            "bar_style": "success",
            "max": 575,
            "_view_module": "@jupyter-widgets/controls",
            "_model_module_version": "1.5.0",
            "value": 575,
            "_view_count": null,
            "_view_module_version": "1.5.0",
            "orientation": "horizontal",
            "min": 0,
            "description_tooltip": null,
            "_model_module": "@jupyter-widgets/controls",
            "layout": "IPY_MODEL_01a7afdf15d6455c96540a4a41e3c754"
          }
        },
        "43a32cdd72b54303b0fffe10b2020690": {
          "model_module": "@jupyter-widgets/controls",
          "model_name": "HTMLModel",
          "state": {
            "_view_name": "HTMLView",
            "style": "IPY_MODEL_e5ce4e7ae7634a2cabd38af952b856af",
            "_dom_classes": [],
            "description": "",
            "_model_name": "HTMLModel",
            "placeholder": "​",
            "_view_module": "@jupyter-widgets/controls",
            "_model_module_version": "1.5.0",
            "value": " 575/575 [00:16&lt;00:00, 35.62batch/s, mean_loss=0.349, validation_metric=0.875]",
            "_view_count": null,
            "_view_module_version": "1.5.0",
            "description_tooltip": null,
            "_model_module": "@jupyter-widgets/controls",
            "layout": "IPY_MODEL_b511fcd977da4933bc13406fce9dee49"
          }
        },
        "56f65c9c4a7e4d698129a835ffab1d41": {
          "model_module": "@jupyter-widgets/controls",
          "model_name": "ProgressStyleModel",
          "state": {
            "_view_name": "StyleView",
            "_model_name": "ProgressStyleModel",
            "description_width": "initial",
            "_view_module": "@jupyter-widgets/base",
            "_model_module_version": "1.5.0",
            "_view_count": null,
            "_view_module_version": "1.2.0",
            "bar_color": null,
            "_model_module": "@jupyter-widgets/controls"
          }
        },
        "01a7afdf15d6455c96540a4a41e3c754": {
          "model_module": "@jupyter-widgets/base",
          "model_name": "LayoutModel",
          "state": {
            "_view_name": "LayoutView",
            "grid_template_rows": null,
            "right": null,
            "justify_content": null,
            "_view_module": "@jupyter-widgets/base",
            "overflow": null,
            "_model_module_version": "1.2.0",
            "_view_count": null,
            "flex_flow": null,
            "width": null,
            "min_width": null,
            "border": null,
            "align_items": null,
            "bottom": null,
            "_model_module": "@jupyter-widgets/base",
            "top": null,
            "grid_column": null,
            "overflow_y": null,
            "overflow_x": null,
            "grid_auto_flow": null,
            "grid_area": null,
            "grid_template_columns": null,
            "flex": null,
            "_model_name": "LayoutModel",
            "justify_items": null,
            "grid_row": null,
            "max_height": null,
            "align_content": null,
            "visibility": null,
            "align_self": null,
            "height": null,
            "min_height": null,
            "padding": null,
            "grid_auto_rows": null,
            "grid_gap": null,
            "max_width": null,
            "order": null,
            "_view_module_version": "1.2.0",
            "grid_template_areas": null,
            "object_position": null,
            "object_fit": null,
            "grid_auto_columns": null,
            "margin": null,
            "display": null,
            "left": null
          }
        },
        "e5ce4e7ae7634a2cabd38af952b856af": {
          "model_module": "@jupyter-widgets/controls",
          "model_name": "DescriptionStyleModel",
          "state": {
            "_view_name": "StyleView",
            "_model_name": "DescriptionStyleModel",
            "description_width": "",
            "_view_module": "@jupyter-widgets/base",
            "_model_module_version": "1.5.0",
            "_view_count": null,
            "_view_module_version": "1.2.0",
            "_model_module": "@jupyter-widgets/controls"
          }
        },
        "b511fcd977da4933bc13406fce9dee49": {
          "model_module": "@jupyter-widgets/base",
          "model_name": "LayoutModel",
          "state": {
            "_view_name": "LayoutView",
            "grid_template_rows": null,
            "right": null,
            "justify_content": null,
            "_view_module": "@jupyter-widgets/base",
            "overflow": null,
            "_model_module_version": "1.2.0",
            "_view_count": null,
            "flex_flow": null,
            "width": null,
            "min_width": null,
            "border": null,
            "align_items": null,
            "bottom": null,
            "_model_module": "@jupyter-widgets/base",
            "top": null,
            "grid_column": null,
            "overflow_y": null,
            "overflow_x": null,
            "grid_auto_flow": null,
            "grid_area": null,
            "grid_template_columns": null,
            "flex": null,
            "_model_name": "LayoutModel",
            "justify_items": null,
            "grid_row": null,
            "max_height": null,
            "align_content": null,
            "visibility": null,
            "align_self": null,
            "height": null,
            "min_height": null,
            "padding": null,
            "grid_auto_rows": null,
            "grid_gap": null,
            "max_width": null,
            "order": null,
            "_view_module_version": "1.2.0",
            "grid_template_areas": null,
            "object_position": null,
            "object_fit": null,
            "grid_auto_columns": null,
            "margin": null,
            "display": null,
            "left": null
          }
        },
        "4efaaa6c18c848469278f9de7cce7d4d": {
          "model_module": "@jupyter-widgets/controls",
          "model_name": "HBoxModel",
          "state": {
            "_view_name": "HBoxView",
            "_dom_classes": [],
            "_model_name": "HBoxModel",
            "_view_module": "@jupyter-widgets/controls",
            "_model_module_version": "1.5.0",
            "_view_count": null,
            "_view_module_version": "1.5.0",
            "box_style": "",
            "layout": "IPY_MODEL_2db4b0df0a6c4f1b87058e8f705f15a2",
            "_model_module": "@jupyter-widgets/controls",
            "children": [
              "IPY_MODEL_cf410ae5e4664a318336ae46264c2429",
              "IPY_MODEL_b7ae7a26fb9b4e3d821c82ba77d40edc"
            ]
          }
        },
        "2db4b0df0a6c4f1b87058e8f705f15a2": {
          "model_module": "@jupyter-widgets/base",
          "model_name": "LayoutModel",
          "state": {
            "_view_name": "LayoutView",
            "grid_template_rows": null,
            "right": null,
            "justify_content": null,
            "_view_module": "@jupyter-widgets/base",
            "overflow": null,
            "_model_module_version": "1.2.0",
            "_view_count": null,
            "flex_flow": null,
            "width": null,
            "min_width": null,
            "border": null,
            "align_items": null,
            "bottom": null,
            "_model_module": "@jupyter-widgets/base",
            "top": null,
            "grid_column": null,
            "overflow_y": null,
            "overflow_x": null,
            "grid_auto_flow": null,
            "grid_area": null,
            "grid_template_columns": null,
            "flex": null,
            "_model_name": "LayoutModel",
            "justify_items": null,
            "grid_row": null,
            "max_height": null,
            "align_content": null,
            "visibility": null,
            "align_self": null,
            "height": null,
            "min_height": null,
            "padding": null,
            "grid_auto_rows": null,
            "grid_gap": null,
            "max_width": null,
            "order": null,
            "_view_module_version": "1.2.0",
            "grid_template_areas": null,
            "object_position": null,
            "object_fit": null,
            "grid_auto_columns": null,
            "margin": null,
            "display": null,
            "left": null
          }
        },
        "cf410ae5e4664a318336ae46264c2429": {
          "model_module": "@jupyter-widgets/controls",
          "model_name": "FloatProgressModel",
          "state": {
            "_view_name": "ProgressView",
            "style": "IPY_MODEL_c7ec5e8374824dc58a8f7ee6a1a1195b",
            "_dom_classes": [],
            "description": "epoch 4: 100%",
            "_model_name": "FloatProgressModel",
            "bar_style": "success",
            "max": 575,
            "_view_module": "@jupyter-widgets/controls",
            "_model_module_version": "1.5.0",
            "value": 575,
            "_view_count": null,
            "_view_module_version": "1.5.0",
            "orientation": "horizontal",
            "min": 0,
            "description_tooltip": null,
            "_model_module": "@jupyter-widgets/controls",
            "layout": "IPY_MODEL_052c1b820f6e40e893a8dfb0bf322f8e"
          }
        },
        "b7ae7a26fb9b4e3d821c82ba77d40edc": {
          "model_module": "@jupyter-widgets/controls",
          "model_name": "HTMLModel",
          "state": {
            "_view_name": "HTMLView",
            "style": "IPY_MODEL_7f813735babb4477a9aa5622d017c9b0",
            "_dom_classes": [],
            "description": "",
            "_model_name": "HTMLModel",
            "placeholder": "​",
            "_view_module": "@jupyter-widgets/controls",
            "_model_module_version": "1.5.0",
            "value": " 575/575 [00:29&lt;00:00, 19.57batch/s, mean_loss=0.342, validation_metric=0.875]",
            "_view_count": null,
            "_view_module_version": "1.5.0",
            "description_tooltip": null,
            "_model_module": "@jupyter-widgets/controls",
            "layout": "IPY_MODEL_591d11064e654ad593f6c72c93df5666"
          }
        },
        "c7ec5e8374824dc58a8f7ee6a1a1195b": {
          "model_module": "@jupyter-widgets/controls",
          "model_name": "ProgressStyleModel",
          "state": {
            "_view_name": "StyleView",
            "_model_name": "ProgressStyleModel",
            "description_width": "initial",
            "_view_module": "@jupyter-widgets/base",
            "_model_module_version": "1.5.0",
            "_view_count": null,
            "_view_module_version": "1.2.0",
            "bar_color": null,
            "_model_module": "@jupyter-widgets/controls"
          }
        },
        "052c1b820f6e40e893a8dfb0bf322f8e": {
          "model_module": "@jupyter-widgets/base",
          "model_name": "LayoutModel",
          "state": {
            "_view_name": "LayoutView",
            "grid_template_rows": null,
            "right": null,
            "justify_content": null,
            "_view_module": "@jupyter-widgets/base",
            "overflow": null,
            "_model_module_version": "1.2.0",
            "_view_count": null,
            "flex_flow": null,
            "width": null,
            "min_width": null,
            "border": null,
            "align_items": null,
            "bottom": null,
            "_model_module": "@jupyter-widgets/base",
            "top": null,
            "grid_column": null,
            "overflow_y": null,
            "overflow_x": null,
            "grid_auto_flow": null,
            "grid_area": null,
            "grid_template_columns": null,
            "flex": null,
            "_model_name": "LayoutModel",
            "justify_items": null,
            "grid_row": null,
            "max_height": null,
            "align_content": null,
            "visibility": null,
            "align_self": null,
            "height": null,
            "min_height": null,
            "padding": null,
            "grid_auto_rows": null,
            "grid_gap": null,
            "max_width": null,
            "order": null,
            "_view_module_version": "1.2.0",
            "grid_template_areas": null,
            "object_position": null,
            "object_fit": null,
            "grid_auto_columns": null,
            "margin": null,
            "display": null,
            "left": null
          }
        },
        "7f813735babb4477a9aa5622d017c9b0": {
          "model_module": "@jupyter-widgets/controls",
          "model_name": "DescriptionStyleModel",
          "state": {
            "_view_name": "StyleView",
            "_model_name": "DescriptionStyleModel",
            "description_width": "",
            "_view_module": "@jupyter-widgets/base",
            "_model_module_version": "1.5.0",
            "_view_count": null,
            "_view_module_version": "1.2.0",
            "_model_module": "@jupyter-widgets/controls"
          }
        },
        "591d11064e654ad593f6c72c93df5666": {
          "model_module": "@jupyter-widgets/base",
          "model_name": "LayoutModel",
          "state": {
            "_view_name": "LayoutView",
            "grid_template_rows": null,
            "right": null,
            "justify_content": null,
            "_view_module": "@jupyter-widgets/base",
            "overflow": null,
            "_model_module_version": "1.2.0",
            "_view_count": null,
            "flex_flow": null,
            "width": null,
            "min_width": null,
            "border": null,
            "align_items": null,
            "bottom": null,
            "_model_module": "@jupyter-widgets/base",
            "top": null,
            "grid_column": null,
            "overflow_y": null,
            "overflow_x": null,
            "grid_auto_flow": null,
            "grid_area": null,
            "grid_template_columns": null,
            "flex": null,
            "_model_name": "LayoutModel",
            "justify_items": null,
            "grid_row": null,
            "max_height": null,
            "align_content": null,
            "visibility": null,
            "align_self": null,
            "height": null,
            "min_height": null,
            "padding": null,
            "grid_auto_rows": null,
            "grid_gap": null,
            "max_width": null,
            "order": null,
            "_view_module_version": "1.2.0",
            "grid_template_areas": null,
            "object_position": null,
            "object_fit": null,
            "grid_auto_columns": null,
            "margin": null,
            "display": null,
            "left": null
          }
        },
        "56c8818d47cd4b109c776ca032f3e391": {
          "model_module": "@jupyter-widgets/controls",
          "model_name": "HBoxModel",
          "state": {
            "_view_name": "HBoxView",
            "_dom_classes": [],
            "_model_name": "HBoxModel",
            "_view_module": "@jupyter-widgets/controls",
            "_model_module_version": "1.5.0",
            "_view_count": null,
            "_view_module_version": "1.5.0",
            "box_style": "",
            "layout": "IPY_MODEL_973d885bbdaa4ad5b0ded441b0dd045b",
            "_model_module": "@jupyter-widgets/controls",
            "children": [
              "IPY_MODEL_23b9fda2dc114679b52e1e8e274c94a9",
              "IPY_MODEL_1b1f3dfd6c4646b0aaa61a5936529d64"
            ]
          }
        },
        "973d885bbdaa4ad5b0ded441b0dd045b": {
          "model_module": "@jupyter-widgets/base",
          "model_name": "LayoutModel",
          "state": {
            "_view_name": "LayoutView",
            "grid_template_rows": null,
            "right": null,
            "justify_content": null,
            "_view_module": "@jupyter-widgets/base",
            "overflow": null,
            "_model_module_version": "1.2.0",
            "_view_count": null,
            "flex_flow": null,
            "width": null,
            "min_width": null,
            "border": null,
            "align_items": null,
            "bottom": null,
            "_model_module": "@jupyter-widgets/base",
            "top": null,
            "grid_column": null,
            "overflow_y": null,
            "overflow_x": null,
            "grid_auto_flow": null,
            "grid_area": null,
            "grid_template_columns": null,
            "flex": null,
            "_model_name": "LayoutModel",
            "justify_items": null,
            "grid_row": null,
            "max_height": null,
            "align_content": null,
            "visibility": null,
            "align_self": null,
            "height": null,
            "min_height": null,
            "padding": null,
            "grid_auto_rows": null,
            "grid_gap": null,
            "max_width": null,
            "order": null,
            "_view_module_version": "1.2.0",
            "grid_template_areas": null,
            "object_position": null,
            "object_fit": null,
            "grid_auto_columns": null,
            "margin": null,
            "display": null,
            "left": null
          }
        },
        "23b9fda2dc114679b52e1e8e274c94a9": {
          "model_module": "@jupyter-widgets/controls",
          "model_name": "FloatProgressModel",
          "state": {
            "_view_name": "ProgressView",
            "style": "IPY_MODEL_28746f2129bb40799edc040a431e0491",
            "_dom_classes": [],
            "description": "epoch 5: 100%",
            "_model_name": "FloatProgressModel",
            "bar_style": "success",
            "max": 575,
            "_view_module": "@jupyter-widgets/controls",
            "_model_module_version": "1.5.0",
            "value": 575,
            "_view_count": null,
            "_view_module_version": "1.5.0",
            "orientation": "horizontal",
            "min": 0,
            "description_tooltip": null,
            "_model_module": "@jupyter-widgets/controls",
            "layout": "IPY_MODEL_a17d93fec3174fa396427094adfa8210"
          }
        },
        "1b1f3dfd6c4646b0aaa61a5936529d64": {
          "model_module": "@jupyter-widgets/controls",
          "model_name": "HTMLModel",
          "state": {
            "_view_name": "HTMLView",
            "style": "IPY_MODEL_b964ffc7eace4119b50021591471e321",
            "_dom_classes": [],
            "description": "",
            "_model_name": "HTMLModel",
            "placeholder": "​",
            "_view_module": "@jupyter-widgets/controls",
            "_model_module_version": "1.5.0",
            "value": " 575/575 [00:16&lt;00:00, 34.86batch/s, mean_loss=0.337, validation_metric=0.875]",
            "_view_count": null,
            "_view_module_version": "1.5.0",
            "description_tooltip": null,
            "_model_module": "@jupyter-widgets/controls",
            "layout": "IPY_MODEL_a47c967b295145d593011de2a7d73576"
          }
        },
        "28746f2129bb40799edc040a431e0491": {
          "model_module": "@jupyter-widgets/controls",
          "model_name": "ProgressStyleModel",
          "state": {
            "_view_name": "StyleView",
            "_model_name": "ProgressStyleModel",
            "description_width": "initial",
            "_view_module": "@jupyter-widgets/base",
            "_model_module_version": "1.5.0",
            "_view_count": null,
            "_view_module_version": "1.2.0",
            "bar_color": null,
            "_model_module": "@jupyter-widgets/controls"
          }
        },
        "a17d93fec3174fa396427094adfa8210": {
          "model_module": "@jupyter-widgets/base",
          "model_name": "LayoutModel",
          "state": {
            "_view_name": "LayoutView",
            "grid_template_rows": null,
            "right": null,
            "justify_content": null,
            "_view_module": "@jupyter-widgets/base",
            "overflow": null,
            "_model_module_version": "1.2.0",
            "_view_count": null,
            "flex_flow": null,
            "width": null,
            "min_width": null,
            "border": null,
            "align_items": null,
            "bottom": null,
            "_model_module": "@jupyter-widgets/base",
            "top": null,
            "grid_column": null,
            "overflow_y": null,
            "overflow_x": null,
            "grid_auto_flow": null,
            "grid_area": null,
            "grid_template_columns": null,
            "flex": null,
            "_model_name": "LayoutModel",
            "justify_items": null,
            "grid_row": null,
            "max_height": null,
            "align_content": null,
            "visibility": null,
            "align_self": null,
            "height": null,
            "min_height": null,
            "padding": null,
            "grid_auto_rows": null,
            "grid_gap": null,
            "max_width": null,
            "order": null,
            "_view_module_version": "1.2.0",
            "grid_template_areas": null,
            "object_position": null,
            "object_fit": null,
            "grid_auto_columns": null,
            "margin": null,
            "display": null,
            "left": null
          }
        },
        "b964ffc7eace4119b50021591471e321": {
          "model_module": "@jupyter-widgets/controls",
          "model_name": "DescriptionStyleModel",
          "state": {
            "_view_name": "StyleView",
            "_model_name": "DescriptionStyleModel",
            "description_width": "",
            "_view_module": "@jupyter-widgets/base",
            "_model_module_version": "1.5.0",
            "_view_count": null,
            "_view_module_version": "1.2.0",
            "_model_module": "@jupyter-widgets/controls"
          }
        },
        "a47c967b295145d593011de2a7d73576": {
          "model_module": "@jupyter-widgets/base",
          "model_name": "LayoutModel",
          "state": {
            "_view_name": "LayoutView",
            "grid_template_rows": null,
            "right": null,
            "justify_content": null,
            "_view_module": "@jupyter-widgets/base",
            "overflow": null,
            "_model_module_version": "1.2.0",
            "_view_count": null,
            "flex_flow": null,
            "width": null,
            "min_width": null,
            "border": null,
            "align_items": null,
            "bottom": null,
            "_model_module": "@jupyter-widgets/base",
            "top": null,
            "grid_column": null,
            "overflow_y": null,
            "overflow_x": null,
            "grid_auto_flow": null,
            "grid_area": null,
            "grid_template_columns": null,
            "flex": null,
            "_model_name": "LayoutModel",
            "justify_items": null,
            "grid_row": null,
            "max_height": null,
            "align_content": null,
            "visibility": null,
            "align_self": null,
            "height": null,
            "min_height": null,
            "padding": null,
            "grid_auto_rows": null,
            "grid_gap": null,
            "max_width": null,
            "order": null,
            "_view_module_version": "1.2.0",
            "grid_template_areas": null,
            "object_position": null,
            "object_fit": null,
            "grid_auto_columns": null,
            "margin": null,
            "display": null,
            "left": null
          }
        },
        "7c680fe9f9cd4f00854584516e693b45": {
          "model_module": "@jupyter-widgets/controls",
          "model_name": "HBoxModel",
          "state": {
            "_view_name": "HBoxView",
            "_dom_classes": [],
            "_model_name": "HBoxModel",
            "_view_module": "@jupyter-widgets/controls",
            "_model_module_version": "1.5.0",
            "_view_count": null,
            "_view_module_version": "1.5.0",
            "box_style": "",
            "layout": "IPY_MODEL_1a61b93e207c41a2b7d784ce612ff29f",
            "_model_module": "@jupyter-widgets/controls",
            "children": [
              "IPY_MODEL_c7e45122b98b46ce942059ea49e20d17",
              "IPY_MODEL_c283dbf0f1b143d0a15d9a88fb57095d"
            ]
          }
        },
        "1a61b93e207c41a2b7d784ce612ff29f": {
          "model_module": "@jupyter-widgets/base",
          "model_name": "LayoutModel",
          "state": {
            "_view_name": "LayoutView",
            "grid_template_rows": null,
            "right": null,
            "justify_content": null,
            "_view_module": "@jupyter-widgets/base",
            "overflow": null,
            "_model_module_version": "1.2.0",
            "_view_count": null,
            "flex_flow": null,
            "width": null,
            "min_width": null,
            "border": null,
            "align_items": null,
            "bottom": null,
            "_model_module": "@jupyter-widgets/base",
            "top": null,
            "grid_column": null,
            "overflow_y": null,
            "overflow_x": null,
            "grid_auto_flow": null,
            "grid_area": null,
            "grid_template_columns": null,
            "flex": null,
            "_model_name": "LayoutModel",
            "justify_items": null,
            "grid_row": null,
            "max_height": null,
            "align_content": null,
            "visibility": null,
            "align_self": null,
            "height": null,
            "min_height": null,
            "padding": null,
            "grid_auto_rows": null,
            "grid_gap": null,
            "max_width": null,
            "order": null,
            "_view_module_version": "1.2.0",
            "grid_template_areas": null,
            "object_position": null,
            "object_fit": null,
            "grid_auto_columns": null,
            "margin": null,
            "display": null,
            "left": null
          }
        },
        "c7e45122b98b46ce942059ea49e20d17": {
          "model_module": "@jupyter-widgets/controls",
          "model_name": "FloatProgressModel",
          "state": {
            "_view_name": "ProgressView",
            "style": "IPY_MODEL_677bf57962e0437b969c76783b5d19b4",
            "_dom_classes": [],
            "description": "training: 100%",
            "_model_name": "FloatProgressModel",
            "bar_style": "success",
            "max": 8,
            "_view_module": "@jupyter-widgets/controls",
            "_model_module_version": "1.5.0",
            "value": 8,
            "_view_count": null,
            "_view_module_version": "1.5.0",
            "orientation": "horizontal",
            "min": 0,
            "description_tooltip": null,
            "_model_module": "@jupyter-widgets/controls",
            "layout": "IPY_MODEL_8d6a2ef8b4364104b18ab0f38f092454"
          }
        },
        "c283dbf0f1b143d0a15d9a88fb57095d": {
          "model_module": "@jupyter-widgets/controls",
          "model_name": "HTMLModel",
          "state": {
            "_view_name": "HTMLView",
            "style": "IPY_MODEL_2c2fbccd01374442a0f7c7e4b6b30888",
            "_dom_classes": [],
            "description": "",
            "_model_name": "HTMLModel",
            "placeholder": "​",
            "_view_module": "@jupyter-widgets/controls",
            "_model_module_version": "1.5.0",
            "value": " 8/8 [29:50&lt;00:00, 223.78s/epoch]",
            "_view_count": null,
            "_view_module_version": "1.5.0",
            "description_tooltip": null,
            "_model_module": "@jupyter-widgets/controls",
            "layout": "IPY_MODEL_d8fb256abd974669915a8054520b37b0"
          }
        },
        "677bf57962e0437b969c76783b5d19b4": {
          "model_module": "@jupyter-widgets/controls",
          "model_name": "ProgressStyleModel",
          "state": {
            "_view_name": "StyleView",
            "_model_name": "ProgressStyleModel",
            "description_width": "initial",
            "_view_module": "@jupyter-widgets/base",
            "_model_module_version": "1.5.0",
            "_view_count": null,
            "_view_module_version": "1.2.0",
            "bar_color": null,
            "_model_module": "@jupyter-widgets/controls"
          }
        },
        "8d6a2ef8b4364104b18ab0f38f092454": {
          "model_module": "@jupyter-widgets/base",
          "model_name": "LayoutModel",
          "state": {
            "_view_name": "LayoutView",
            "grid_template_rows": null,
            "right": null,
            "justify_content": null,
            "_view_module": "@jupyter-widgets/base",
            "overflow": null,
            "_model_module_version": "1.2.0",
            "_view_count": null,
            "flex_flow": null,
            "width": null,
            "min_width": null,
            "border": null,
            "align_items": null,
            "bottom": null,
            "_model_module": "@jupyter-widgets/base",
            "top": null,
            "grid_column": null,
            "overflow_y": null,
            "overflow_x": null,
            "grid_auto_flow": null,
            "grid_area": null,
            "grid_template_columns": null,
            "flex": null,
            "_model_name": "LayoutModel",
            "justify_items": null,
            "grid_row": null,
            "max_height": null,
            "align_content": null,
            "visibility": null,
            "align_self": null,
            "height": null,
            "min_height": null,
            "padding": null,
            "grid_auto_rows": null,
            "grid_gap": null,
            "max_width": null,
            "order": null,
            "_view_module_version": "1.2.0",
            "grid_template_areas": null,
            "object_position": null,
            "object_fit": null,
            "grid_auto_columns": null,
            "margin": null,
            "display": null,
            "left": null
          }
        },
        "2c2fbccd01374442a0f7c7e4b6b30888": {
          "model_module": "@jupyter-widgets/controls",
          "model_name": "DescriptionStyleModel",
          "state": {
            "_view_name": "StyleView",
            "_model_name": "DescriptionStyleModel",
            "description_width": "",
            "_view_module": "@jupyter-widgets/base",
            "_model_module_version": "1.5.0",
            "_view_count": null,
            "_view_module_version": "1.2.0",
            "_model_module": "@jupyter-widgets/controls"
          }
        },
        "d8fb256abd974669915a8054520b37b0": {
          "model_module": "@jupyter-widgets/base",
          "model_name": "LayoutModel",
          "state": {
            "_view_name": "LayoutView",
            "grid_template_rows": null,
            "right": null,
            "justify_content": null,
            "_view_module": "@jupyter-widgets/base",
            "overflow": null,
            "_model_module_version": "1.2.0",
            "_view_count": null,
            "flex_flow": null,
            "width": null,
            "min_width": null,
            "border": null,
            "align_items": null,
            "bottom": null,
            "_model_module": "@jupyter-widgets/base",
            "top": null,
            "grid_column": null,
            "overflow_y": null,
            "overflow_x": null,
            "grid_auto_flow": null,
            "grid_area": null,
            "grid_template_columns": null,
            "flex": null,
            "_model_name": "LayoutModel",
            "justify_items": null,
            "grid_row": null,
            "max_height": null,
            "align_content": null,
            "visibility": null,
            "align_self": null,
            "height": null,
            "min_height": null,
            "padding": null,
            "grid_auto_rows": null,
            "grid_gap": null,
            "max_width": null,
            "order": null,
            "_view_module_version": "1.2.0",
            "grid_template_areas": null,
            "object_position": null,
            "object_fit": null,
            "grid_auto_columns": null,
            "margin": null,
            "display": null,
            "left": null
          }
        },
        "2a20d285a894428ca4d5801b34ffe6d7": {
          "model_module": "@jupyter-widgets/controls",
          "model_name": "HBoxModel",
          "state": {
            "_view_name": "HBoxView",
            "_dom_classes": [],
            "_model_name": "HBoxModel",
            "_view_module": "@jupyter-widgets/controls",
            "_model_module_version": "1.5.0",
            "_view_count": null,
            "_view_module_version": "1.5.0",
            "box_style": "",
            "layout": "IPY_MODEL_7dd4fce15bb4483b81e63a69aab88bc2",
            "_model_module": "@jupyter-widgets/controls",
            "children": [
              "IPY_MODEL_1fa60a0b149841738416d14c879c5f2c",
              "IPY_MODEL_349aa18e090b43dbb085ab76613041ef"
            ]
          }
        },
        "7dd4fce15bb4483b81e63a69aab88bc2": {
          "model_module": "@jupyter-widgets/base",
          "model_name": "LayoutModel",
          "state": {
            "_view_name": "LayoutView",
            "grid_template_rows": null,
            "right": null,
            "justify_content": null,
            "_view_module": "@jupyter-widgets/base",
            "overflow": null,
            "_model_module_version": "1.2.0",
            "_view_count": null,
            "flex_flow": null,
            "width": null,
            "min_width": null,
            "border": null,
            "align_items": null,
            "bottom": null,
            "_model_module": "@jupyter-widgets/base",
            "top": null,
            "grid_column": null,
            "overflow_y": null,
            "overflow_x": null,
            "grid_auto_flow": null,
            "grid_area": null,
            "grid_template_columns": null,
            "flex": null,
            "_model_name": "LayoutModel",
            "justify_items": null,
            "grid_row": null,
            "max_height": null,
            "align_content": null,
            "visibility": null,
            "align_self": null,
            "height": null,
            "min_height": null,
            "padding": null,
            "grid_auto_rows": null,
            "grid_gap": null,
            "max_width": null,
            "order": null,
            "_view_module_version": "1.2.0",
            "grid_template_areas": null,
            "object_position": null,
            "object_fit": null,
            "grid_auto_columns": null,
            "margin": null,
            "display": null,
            "left": null
          }
        },
        "1fa60a0b149841738416d14c879c5f2c": {
          "model_module": "@jupyter-widgets/controls",
          "model_name": "FloatProgressModel",
          "state": {
            "_view_name": "ProgressView",
            "style": "IPY_MODEL_c74bbac05d0f4a928c37d51acc33b756",
            "_dom_classes": [],
            "description": "epoch 1: 100%",
            "_model_name": "FloatProgressModel",
            "bar_style": "success",
            "max": 2298,
            "_view_module": "@jupyter-widgets/controls",
            "_model_module_version": "1.5.0",
            "value": 2298,
            "_view_count": null,
            "_view_module_version": "1.5.0",
            "orientation": "horizontal",
            "min": 0,
            "description_tooltip": null,
            "_model_module": "@jupyter-widgets/controls",
            "layout": "IPY_MODEL_f3eae7594a1840c3aca8a23f2207e9d1"
          }
        },
        "349aa18e090b43dbb085ab76613041ef": {
          "model_module": "@jupyter-widgets/controls",
          "model_name": "HTMLModel",
          "state": {
            "_view_name": "HTMLView",
            "style": "IPY_MODEL_c45f011f5559457a801814cedd870f54",
            "_dom_classes": [],
            "description": "",
            "_model_name": "HTMLModel",
            "placeholder": "​",
            "_view_module": "@jupyter-widgets/controls",
            "_model_module_version": "1.5.0",
            "value": " 2298/2298 [29:50&lt;00:00,  1.28batch/s, mean_loss=0.539, validation_metric=0.923]",
            "_view_count": null,
            "_view_module_version": "1.5.0",
            "description_tooltip": null,
            "_model_module": "@jupyter-widgets/controls",
            "layout": "IPY_MODEL_7efc8a3cdc714535840f2760526ee4f7"
          }
        },
        "c74bbac05d0f4a928c37d51acc33b756": {
          "model_module": "@jupyter-widgets/controls",
          "model_name": "ProgressStyleModel",
          "state": {
            "_view_name": "StyleView",
            "_model_name": "ProgressStyleModel",
            "description_width": "initial",
            "_view_module": "@jupyter-widgets/base",
            "_model_module_version": "1.5.0",
            "_view_count": null,
            "_view_module_version": "1.2.0",
            "bar_color": null,
            "_model_module": "@jupyter-widgets/controls"
          }
        },
        "f3eae7594a1840c3aca8a23f2207e9d1": {
          "model_module": "@jupyter-widgets/base",
          "model_name": "LayoutModel",
          "state": {
            "_view_name": "LayoutView",
            "grid_template_rows": null,
            "right": null,
            "justify_content": null,
            "_view_module": "@jupyter-widgets/base",
            "overflow": null,
            "_model_module_version": "1.2.0",
            "_view_count": null,
            "flex_flow": null,
            "width": null,
            "min_width": null,
            "border": null,
            "align_items": null,
            "bottom": null,
            "_model_module": "@jupyter-widgets/base",
            "top": null,
            "grid_column": null,
            "overflow_y": null,
            "overflow_x": null,
            "grid_auto_flow": null,
            "grid_area": null,
            "grid_template_columns": null,
            "flex": null,
            "_model_name": "LayoutModel",
            "justify_items": null,
            "grid_row": null,
            "max_height": null,
            "align_content": null,
            "visibility": null,
            "align_self": null,
            "height": null,
            "min_height": null,
            "padding": null,
            "grid_auto_rows": null,
            "grid_gap": null,
            "max_width": null,
            "order": null,
            "_view_module_version": "1.2.0",
            "grid_template_areas": null,
            "object_position": null,
            "object_fit": null,
            "grid_auto_columns": null,
            "margin": null,
            "display": null,
            "left": null
          }
        },
        "c45f011f5559457a801814cedd870f54": {
          "model_module": "@jupyter-widgets/controls",
          "model_name": "DescriptionStyleModel",
          "state": {
            "_view_name": "StyleView",
            "_model_name": "DescriptionStyleModel",
            "description_width": "",
            "_view_module": "@jupyter-widgets/base",
            "_model_module_version": "1.5.0",
            "_view_count": null,
            "_view_module_version": "1.2.0",
            "_model_module": "@jupyter-widgets/controls"
          }
        },
        "7efc8a3cdc714535840f2760526ee4f7": {
          "model_module": "@jupyter-widgets/base",
          "model_name": "LayoutModel",
          "state": {
            "_view_name": "LayoutView",
            "grid_template_rows": null,
            "right": null,
            "justify_content": null,
            "_view_module": "@jupyter-widgets/base",
            "overflow": null,
            "_model_module_version": "1.2.0",
            "_view_count": null,
            "flex_flow": null,
            "width": null,
            "min_width": null,
            "border": null,
            "align_items": null,
            "bottom": null,
            "_model_module": "@jupyter-widgets/base",
            "top": null,
            "grid_column": null,
            "overflow_y": null,
            "overflow_x": null,
            "grid_auto_flow": null,
            "grid_area": null,
            "grid_template_columns": null,
            "flex": null,
            "_model_name": "LayoutModel",
            "justify_items": null,
            "grid_row": null,
            "max_height": null,
            "align_content": null,
            "visibility": null,
            "align_self": null,
            "height": null,
            "min_height": null,
            "padding": null,
            "grid_auto_rows": null,
            "grid_gap": null,
            "max_width": null,
            "order": null,
            "_view_module_version": "1.2.0",
            "grid_template_areas": null,
            "object_position": null,
            "object_fit": null,
            "grid_auto_columns": null,
            "margin": null,
            "display": null,
            "left": null
          }
        },
        "18b2a9059b2a4219ad6627f168faff4f": {
          "model_module": "@jupyter-widgets/controls",
          "model_name": "HBoxModel",
          "state": {
            "_view_name": "HBoxView",
            "_dom_classes": [],
            "_model_name": "HBoxModel",
            "_view_module": "@jupyter-widgets/controls",
            "_model_module_version": "1.5.0",
            "_view_count": null,
            "_view_module_version": "1.5.0",
            "box_style": "",
            "layout": "IPY_MODEL_25a0951a7ff64207ad3854edf921d1d9",
            "_model_module": "@jupyter-widgets/controls",
            "children": [
              "IPY_MODEL_b26a8062f27b4d2d8c6b01b0e7a1e20d",
              "IPY_MODEL_26affc0cf9c54091b09b8663f29f4026"
            ]
          }
        },
        "25a0951a7ff64207ad3854edf921d1d9": {
          "model_module": "@jupyter-widgets/base",
          "model_name": "LayoutModel",
          "state": {
            "_view_name": "LayoutView",
            "grid_template_rows": null,
            "right": null,
            "justify_content": null,
            "_view_module": "@jupyter-widgets/base",
            "overflow": null,
            "_model_module_version": "1.2.0",
            "_view_count": null,
            "flex_flow": null,
            "width": null,
            "min_width": null,
            "border": null,
            "align_items": null,
            "bottom": null,
            "_model_module": "@jupyter-widgets/base",
            "top": null,
            "grid_column": null,
            "overflow_y": null,
            "overflow_x": null,
            "grid_auto_flow": null,
            "grid_area": null,
            "grid_template_columns": null,
            "flex": null,
            "_model_name": "LayoutModel",
            "justify_items": null,
            "grid_row": null,
            "max_height": null,
            "align_content": null,
            "visibility": null,
            "align_self": null,
            "height": null,
            "min_height": null,
            "padding": null,
            "grid_auto_rows": null,
            "grid_gap": null,
            "max_width": null,
            "order": null,
            "_view_module_version": "1.2.0",
            "grid_template_areas": null,
            "object_position": null,
            "object_fit": null,
            "grid_auto_columns": null,
            "margin": null,
            "display": null,
            "left": null
          }
        },
        "b26a8062f27b4d2d8c6b01b0e7a1e20d": {
          "model_module": "@jupyter-widgets/controls",
          "model_name": "FloatProgressModel",
          "state": {
            "_view_name": "ProgressView",
            "style": "IPY_MODEL_9b459155273c44ccb3fc65fcce7e9658",
            "_dom_classes": [],
            "description": "epoch 2: 100%",
            "_model_name": "FloatProgressModel",
            "bar_style": "success",
            "max": 2298,
            "_view_module": "@jupyter-widgets/controls",
            "_model_module_version": "1.5.0",
            "value": 2298,
            "_view_count": null,
            "_view_module_version": "1.5.0",
            "orientation": "horizontal",
            "min": 0,
            "description_tooltip": null,
            "_model_module": "@jupyter-widgets/controls",
            "layout": "IPY_MODEL_795574d2241e4c77835b0ed834359ef9"
          }
        },
        "26affc0cf9c54091b09b8663f29f4026": {
          "model_module": "@jupyter-widgets/controls",
          "model_name": "HTMLModel",
          "state": {
            "_view_name": "HTMLView",
            "style": "IPY_MODEL_db66caac4f6e4fc7ba088bf0eb4e41d2",
            "_dom_classes": [],
            "description": "",
            "_model_name": "HTMLModel",
            "placeholder": "​",
            "_view_module": "@jupyter-widgets/controls",
            "_model_module_version": "1.5.0",
            "value": " 2298/2298 [28:22&lt;00:00,  1.35batch/s, mean_loss=0.221, validation_metric=0.939]",
            "_view_count": null,
            "_view_module_version": "1.5.0",
            "description_tooltip": null,
            "_model_module": "@jupyter-widgets/controls",
            "layout": "IPY_MODEL_7d0e4bc958734a28bd9bc30b0972e8d9"
          }
        },
        "9b459155273c44ccb3fc65fcce7e9658": {
          "model_module": "@jupyter-widgets/controls",
          "model_name": "ProgressStyleModel",
          "state": {
            "_view_name": "StyleView",
            "_model_name": "ProgressStyleModel",
            "description_width": "initial",
            "_view_module": "@jupyter-widgets/base",
            "_model_module_version": "1.5.0",
            "_view_count": null,
            "_view_module_version": "1.2.0",
            "bar_color": null,
            "_model_module": "@jupyter-widgets/controls"
          }
        },
        "795574d2241e4c77835b0ed834359ef9": {
          "model_module": "@jupyter-widgets/base",
          "model_name": "LayoutModel",
          "state": {
            "_view_name": "LayoutView",
            "grid_template_rows": null,
            "right": null,
            "justify_content": null,
            "_view_module": "@jupyter-widgets/base",
            "overflow": null,
            "_model_module_version": "1.2.0",
            "_view_count": null,
            "flex_flow": null,
            "width": null,
            "min_width": null,
            "border": null,
            "align_items": null,
            "bottom": null,
            "_model_module": "@jupyter-widgets/base",
            "top": null,
            "grid_column": null,
            "overflow_y": null,
            "overflow_x": null,
            "grid_auto_flow": null,
            "grid_area": null,
            "grid_template_columns": null,
            "flex": null,
            "_model_name": "LayoutModel",
            "justify_items": null,
            "grid_row": null,
            "max_height": null,
            "align_content": null,
            "visibility": null,
            "align_self": null,
            "height": null,
            "min_height": null,
            "padding": null,
            "grid_auto_rows": null,
            "grid_gap": null,
            "max_width": null,
            "order": null,
            "_view_module_version": "1.2.0",
            "grid_template_areas": null,
            "object_position": null,
            "object_fit": null,
            "grid_auto_columns": null,
            "margin": null,
            "display": null,
            "left": null
          }
        },
        "db66caac4f6e4fc7ba088bf0eb4e41d2": {
          "model_module": "@jupyter-widgets/controls",
          "model_name": "DescriptionStyleModel",
          "state": {
            "_view_name": "StyleView",
            "_model_name": "DescriptionStyleModel",
            "description_width": "",
            "_view_module": "@jupyter-widgets/base",
            "_model_module_version": "1.5.0",
            "_view_count": null,
            "_view_module_version": "1.2.0",
            "_model_module": "@jupyter-widgets/controls"
          }
        },
        "7d0e4bc958734a28bd9bc30b0972e8d9": {
          "model_module": "@jupyter-widgets/base",
          "model_name": "LayoutModel",
          "state": {
            "_view_name": "LayoutView",
            "grid_template_rows": null,
            "right": null,
            "justify_content": null,
            "_view_module": "@jupyter-widgets/base",
            "overflow": null,
            "_model_module_version": "1.2.0",
            "_view_count": null,
            "flex_flow": null,
            "width": null,
            "min_width": null,
            "border": null,
            "align_items": null,
            "bottom": null,
            "_model_module": "@jupyter-widgets/base",
            "top": null,
            "grid_column": null,
            "overflow_y": null,
            "overflow_x": null,
            "grid_auto_flow": null,
            "grid_area": null,
            "grid_template_columns": null,
            "flex": null,
            "_model_name": "LayoutModel",
            "justify_items": null,
            "grid_row": null,
            "max_height": null,
            "align_content": null,
            "visibility": null,
            "align_self": null,
            "height": null,
            "min_height": null,
            "padding": null,
            "grid_auto_rows": null,
            "grid_gap": null,
            "max_width": null,
            "order": null,
            "_view_module_version": "1.2.0",
            "grid_template_areas": null,
            "object_position": null,
            "object_fit": null,
            "grid_auto_columns": null,
            "margin": null,
            "display": null,
            "left": null
          }
        },
        "4a8d8fe129af44699acf864d063c0a5d": {
          "model_module": "@jupyter-widgets/controls",
          "model_name": "HBoxModel",
          "state": {
            "_view_name": "HBoxView",
            "_dom_classes": [],
            "_model_name": "HBoxModel",
            "_view_module": "@jupyter-widgets/controls",
            "_model_module_version": "1.5.0",
            "_view_count": null,
            "_view_module_version": "1.5.0",
            "box_style": "",
            "layout": "IPY_MODEL_dfe586764455465f8c13b6a907e54d46",
            "_model_module": "@jupyter-widgets/controls",
            "children": [
              "IPY_MODEL_7beee0761b7a4131bb227e280e652af3",
              "IPY_MODEL_e0d53718575c47f88b6cf811b0a0007e"
            ]
          }
        },
        "dfe586764455465f8c13b6a907e54d46": {
          "model_module": "@jupyter-widgets/base",
          "model_name": "LayoutModel",
          "state": {
            "_view_name": "LayoutView",
            "grid_template_rows": null,
            "right": null,
            "justify_content": null,
            "_view_module": "@jupyter-widgets/base",
            "overflow": null,
            "_model_module_version": "1.2.0",
            "_view_count": null,
            "flex_flow": null,
            "width": null,
            "min_width": null,
            "border": null,
            "align_items": null,
            "bottom": null,
            "_model_module": "@jupyter-widgets/base",
            "top": null,
            "grid_column": null,
            "overflow_y": null,
            "overflow_x": null,
            "grid_auto_flow": null,
            "grid_area": null,
            "grid_template_columns": null,
            "flex": null,
            "_model_name": "LayoutModel",
            "justify_items": null,
            "grid_row": null,
            "max_height": null,
            "align_content": null,
            "visibility": null,
            "align_self": null,
            "height": null,
            "min_height": null,
            "padding": null,
            "grid_auto_rows": null,
            "grid_gap": null,
            "max_width": null,
            "order": null,
            "_view_module_version": "1.2.0",
            "grid_template_areas": null,
            "object_position": null,
            "object_fit": null,
            "grid_auto_columns": null,
            "margin": null,
            "display": null,
            "left": null
          }
        },
        "7beee0761b7a4131bb227e280e652af3": {
          "model_module": "@jupyter-widgets/controls",
          "model_name": "FloatProgressModel",
          "state": {
            "_view_name": "ProgressView",
            "style": "IPY_MODEL_4c432423374f4e63a495c868c204f296",
            "_dom_classes": [],
            "description": "epoch 3: 100%",
            "_model_name": "FloatProgressModel",
            "bar_style": "success",
            "max": 2298,
            "_view_module": "@jupyter-widgets/controls",
            "_model_module_version": "1.5.0",
            "value": 2298,
            "_view_count": null,
            "_view_module_version": "1.5.0",
            "orientation": "horizontal",
            "min": 0,
            "description_tooltip": null,
            "_model_module": "@jupyter-widgets/controls",
            "layout": "IPY_MODEL_c166d9efb3ca42d0bbed279c88b6c57a"
          }
        },
        "e0d53718575c47f88b6cf811b0a0007e": {
          "model_module": "@jupyter-widgets/controls",
          "model_name": "HTMLModel",
          "state": {
            "_view_name": "HTMLView",
            "style": "IPY_MODEL_343fb0aa24de4f7e82f58c50b79c4a2b",
            "_dom_classes": [],
            "description": "",
            "_model_name": "HTMLModel",
            "placeholder": "​",
            "_view_module": "@jupyter-widgets/controls",
            "_model_module_version": "1.5.0",
            "value": " 2298/2298 [26:56&lt;00:00,  1.42batch/s, mean_loss=0.175, validation_metric=0.945]",
            "_view_count": null,
            "_view_module_version": "1.5.0",
            "description_tooltip": null,
            "_model_module": "@jupyter-widgets/controls",
            "layout": "IPY_MODEL_ae74de2d65d34c7d9bb4be7c8750bd9d"
          }
        },
        "4c432423374f4e63a495c868c204f296": {
          "model_module": "@jupyter-widgets/controls",
          "model_name": "ProgressStyleModel",
          "state": {
            "_view_name": "StyleView",
            "_model_name": "ProgressStyleModel",
            "description_width": "initial",
            "_view_module": "@jupyter-widgets/base",
            "_model_module_version": "1.5.0",
            "_view_count": null,
            "_view_module_version": "1.2.0",
            "bar_color": null,
            "_model_module": "@jupyter-widgets/controls"
          }
        },
        "c166d9efb3ca42d0bbed279c88b6c57a": {
          "model_module": "@jupyter-widgets/base",
          "model_name": "LayoutModel",
          "state": {
            "_view_name": "LayoutView",
            "grid_template_rows": null,
            "right": null,
            "justify_content": null,
            "_view_module": "@jupyter-widgets/base",
            "overflow": null,
            "_model_module_version": "1.2.0",
            "_view_count": null,
            "flex_flow": null,
            "width": null,
            "min_width": null,
            "border": null,
            "align_items": null,
            "bottom": null,
            "_model_module": "@jupyter-widgets/base",
            "top": null,
            "grid_column": null,
            "overflow_y": null,
            "overflow_x": null,
            "grid_auto_flow": null,
            "grid_area": null,
            "grid_template_columns": null,
            "flex": null,
            "_model_name": "LayoutModel",
            "justify_items": null,
            "grid_row": null,
            "max_height": null,
            "align_content": null,
            "visibility": null,
            "align_self": null,
            "height": null,
            "min_height": null,
            "padding": null,
            "grid_auto_rows": null,
            "grid_gap": null,
            "max_width": null,
            "order": null,
            "_view_module_version": "1.2.0",
            "grid_template_areas": null,
            "object_position": null,
            "object_fit": null,
            "grid_auto_columns": null,
            "margin": null,
            "display": null,
            "left": null
          }
        },
        "343fb0aa24de4f7e82f58c50b79c4a2b": {
          "model_module": "@jupyter-widgets/controls",
          "model_name": "DescriptionStyleModel",
          "state": {
            "_view_name": "StyleView",
            "_model_name": "DescriptionStyleModel",
            "description_width": "",
            "_view_module": "@jupyter-widgets/base",
            "_model_module_version": "1.5.0",
            "_view_count": null,
            "_view_module_version": "1.2.0",
            "_model_module": "@jupyter-widgets/controls"
          }
        },
        "ae74de2d65d34c7d9bb4be7c8750bd9d": {
          "model_module": "@jupyter-widgets/base",
          "model_name": "LayoutModel",
          "state": {
            "_view_name": "LayoutView",
            "grid_template_rows": null,
            "right": null,
            "justify_content": null,
            "_view_module": "@jupyter-widgets/base",
            "overflow": null,
            "_model_module_version": "1.2.0",
            "_view_count": null,
            "flex_flow": null,
            "width": null,
            "min_width": null,
            "border": null,
            "align_items": null,
            "bottom": null,
            "_model_module": "@jupyter-widgets/base",
            "top": null,
            "grid_column": null,
            "overflow_y": null,
            "overflow_x": null,
            "grid_auto_flow": null,
            "grid_area": null,
            "grid_template_columns": null,
            "flex": null,
            "_model_name": "LayoutModel",
            "justify_items": null,
            "grid_row": null,
            "max_height": null,
            "align_content": null,
            "visibility": null,
            "align_self": null,
            "height": null,
            "min_height": null,
            "padding": null,
            "grid_auto_rows": null,
            "grid_gap": null,
            "max_width": null,
            "order": null,
            "_view_module_version": "1.2.0",
            "grid_template_areas": null,
            "object_position": null,
            "object_fit": null,
            "grid_auto_columns": null,
            "margin": null,
            "display": null,
            "left": null
          }
        },
        "87733b07b7154f86b3182e3c376eddaf": {
          "model_module": "@jupyter-widgets/controls",
          "model_name": "HBoxModel",
          "state": {
            "_view_name": "HBoxView",
            "_dom_classes": [],
            "_model_name": "HBoxModel",
            "_view_module": "@jupyter-widgets/controls",
            "_model_module_version": "1.5.0",
            "_view_count": null,
            "_view_module_version": "1.5.0",
            "box_style": "",
            "layout": "IPY_MODEL_23f8af0607564d099c83876ac9af2372",
            "_model_module": "@jupyter-widgets/controls",
            "children": [
              "IPY_MODEL_bd20d888dd1d48ff9581ceef10c65556",
              "IPY_MODEL_563b04afd30e47b3a721ea55b0a0fa1f"
            ]
          }
        },
        "23f8af0607564d099c83876ac9af2372": {
          "model_module": "@jupyter-widgets/base",
          "model_name": "LayoutModel",
          "state": {
            "_view_name": "LayoutView",
            "grid_template_rows": null,
            "right": null,
            "justify_content": null,
            "_view_module": "@jupyter-widgets/base",
            "overflow": null,
            "_model_module_version": "1.2.0",
            "_view_count": null,
            "flex_flow": null,
            "width": null,
            "min_width": null,
            "border": null,
            "align_items": null,
            "bottom": null,
            "_model_module": "@jupyter-widgets/base",
            "top": null,
            "grid_column": null,
            "overflow_y": null,
            "overflow_x": null,
            "grid_auto_flow": null,
            "grid_area": null,
            "grid_template_columns": null,
            "flex": null,
            "_model_name": "LayoutModel",
            "justify_items": null,
            "grid_row": null,
            "max_height": null,
            "align_content": null,
            "visibility": null,
            "align_self": null,
            "height": null,
            "min_height": null,
            "padding": null,
            "grid_auto_rows": null,
            "grid_gap": null,
            "max_width": null,
            "order": null,
            "_view_module_version": "1.2.0",
            "grid_template_areas": null,
            "object_position": null,
            "object_fit": null,
            "grid_auto_columns": null,
            "margin": null,
            "display": null,
            "left": null
          }
        },
        "bd20d888dd1d48ff9581ceef10c65556": {
          "model_module": "@jupyter-widgets/controls",
          "model_name": "FloatProgressModel",
          "state": {
            "_view_name": "ProgressView",
            "style": "IPY_MODEL_178048ce4e7e488bb717ab9a9fc2bb66",
            "_dom_classes": [],
            "description": "epoch 4: 100%",
            "_model_name": "FloatProgressModel",
            "bar_style": "success",
            "max": 2298,
            "_view_module": "@jupyter-widgets/controls",
            "_model_module_version": "1.5.0",
            "value": 2298,
            "_view_count": null,
            "_view_module_version": "1.5.0",
            "orientation": "horizontal",
            "min": 0,
            "description_tooltip": null,
            "_model_module": "@jupyter-widgets/controls",
            "layout": "IPY_MODEL_135768bdb8e64983aa6f6118c72dbe1f"
          }
        },
        "563b04afd30e47b3a721ea55b0a0fa1f": {
          "model_module": "@jupyter-widgets/controls",
          "model_name": "HTMLModel",
          "state": {
            "_view_name": "HTMLView",
            "style": "IPY_MODEL_4eb4c076d8d740b9a5519438cd2a1ed4",
            "_dom_classes": [],
            "description": "",
            "_model_name": "HTMLModel",
            "placeholder": "​",
            "_view_module": "@jupyter-widgets/controls",
            "_model_module_version": "1.5.0",
            "value": " 2298/2298 [25:30&lt;00:00,  1.50batch/s, mean_loss=0.143, validation_metric=0.948]",
            "_view_count": null,
            "_view_module_version": "1.5.0",
            "description_tooltip": null,
            "_model_module": "@jupyter-widgets/controls",
            "layout": "IPY_MODEL_64afa51051264e57b64a1c19d3b19b52"
          }
        },
        "178048ce4e7e488bb717ab9a9fc2bb66": {
          "model_module": "@jupyter-widgets/controls",
          "model_name": "ProgressStyleModel",
          "state": {
            "_view_name": "StyleView",
            "_model_name": "ProgressStyleModel",
            "description_width": "initial",
            "_view_module": "@jupyter-widgets/base",
            "_model_module_version": "1.5.0",
            "_view_count": null,
            "_view_module_version": "1.2.0",
            "bar_color": null,
            "_model_module": "@jupyter-widgets/controls"
          }
        },
        "135768bdb8e64983aa6f6118c72dbe1f": {
          "model_module": "@jupyter-widgets/base",
          "model_name": "LayoutModel",
          "state": {
            "_view_name": "LayoutView",
            "grid_template_rows": null,
            "right": null,
            "justify_content": null,
            "_view_module": "@jupyter-widgets/base",
            "overflow": null,
            "_model_module_version": "1.2.0",
            "_view_count": null,
            "flex_flow": null,
            "width": null,
            "min_width": null,
            "border": null,
            "align_items": null,
            "bottom": null,
            "_model_module": "@jupyter-widgets/base",
            "top": null,
            "grid_column": null,
            "overflow_y": null,
            "overflow_x": null,
            "grid_auto_flow": null,
            "grid_area": null,
            "grid_template_columns": null,
            "flex": null,
            "_model_name": "LayoutModel",
            "justify_items": null,
            "grid_row": null,
            "max_height": null,
            "align_content": null,
            "visibility": null,
            "align_self": null,
            "height": null,
            "min_height": null,
            "padding": null,
            "grid_auto_rows": null,
            "grid_gap": null,
            "max_width": null,
            "order": null,
            "_view_module_version": "1.2.0",
            "grid_template_areas": null,
            "object_position": null,
            "object_fit": null,
            "grid_auto_columns": null,
            "margin": null,
            "display": null,
            "left": null
          }
        },
        "4eb4c076d8d740b9a5519438cd2a1ed4": {
          "model_module": "@jupyter-widgets/controls",
          "model_name": "DescriptionStyleModel",
          "state": {
            "_view_name": "StyleView",
            "_model_name": "DescriptionStyleModel",
            "description_width": "",
            "_view_module": "@jupyter-widgets/base",
            "_model_module_version": "1.5.0",
            "_view_count": null,
            "_view_module_version": "1.2.0",
            "_model_module": "@jupyter-widgets/controls"
          }
        },
        "64afa51051264e57b64a1c19d3b19b52": {
          "model_module": "@jupyter-widgets/base",
          "model_name": "LayoutModel",
          "state": {
            "_view_name": "LayoutView",
            "grid_template_rows": null,
            "right": null,
            "justify_content": null,
            "_view_module": "@jupyter-widgets/base",
            "overflow": null,
            "_model_module_version": "1.2.0",
            "_view_count": null,
            "flex_flow": null,
            "width": null,
            "min_width": null,
            "border": null,
            "align_items": null,
            "bottom": null,
            "_model_module": "@jupyter-widgets/base",
            "top": null,
            "grid_column": null,
            "overflow_y": null,
            "overflow_x": null,
            "grid_auto_flow": null,
            "grid_area": null,
            "grid_template_columns": null,
            "flex": null,
            "_model_name": "LayoutModel",
            "justify_items": null,
            "grid_row": null,
            "max_height": null,
            "align_content": null,
            "visibility": null,
            "align_self": null,
            "height": null,
            "min_height": null,
            "padding": null,
            "grid_auto_rows": null,
            "grid_gap": null,
            "max_width": null,
            "order": null,
            "_view_module_version": "1.2.0",
            "grid_template_areas": null,
            "object_position": null,
            "object_fit": null,
            "grid_auto_columns": null,
            "margin": null,
            "display": null,
            "left": null
          }
        },
        "0061844f4bef4d1c932befed1d93bf76": {
          "model_module": "@jupyter-widgets/controls",
          "model_name": "HBoxModel",
          "state": {
            "_view_name": "HBoxView",
            "_dom_classes": [],
            "_model_name": "HBoxModel",
            "_view_module": "@jupyter-widgets/controls",
            "_model_module_version": "1.5.0",
            "_view_count": null,
            "_view_module_version": "1.5.0",
            "box_style": "",
            "layout": "IPY_MODEL_e87621911b9446d4943212ed2042d051",
            "_model_module": "@jupyter-widgets/controls",
            "children": [
              "IPY_MODEL_7e48874c5d29473089fea161fca4dddd",
              "IPY_MODEL_193107ace1274721a1c462f4daedd930"
            ]
          }
        },
        "e87621911b9446d4943212ed2042d051": {
          "model_module": "@jupyter-widgets/base",
          "model_name": "LayoutModel",
          "state": {
            "_view_name": "LayoutView",
            "grid_template_rows": null,
            "right": null,
            "justify_content": null,
            "_view_module": "@jupyter-widgets/base",
            "overflow": null,
            "_model_module_version": "1.2.0",
            "_view_count": null,
            "flex_flow": null,
            "width": null,
            "min_width": null,
            "border": null,
            "align_items": null,
            "bottom": null,
            "_model_module": "@jupyter-widgets/base",
            "top": null,
            "grid_column": null,
            "overflow_y": null,
            "overflow_x": null,
            "grid_auto_flow": null,
            "grid_area": null,
            "grid_template_columns": null,
            "flex": null,
            "_model_name": "LayoutModel",
            "justify_items": null,
            "grid_row": null,
            "max_height": null,
            "align_content": null,
            "visibility": null,
            "align_self": null,
            "height": null,
            "min_height": null,
            "padding": null,
            "grid_auto_rows": null,
            "grid_gap": null,
            "max_width": null,
            "order": null,
            "_view_module_version": "1.2.0",
            "grid_template_areas": null,
            "object_position": null,
            "object_fit": null,
            "grid_auto_columns": null,
            "margin": null,
            "display": null,
            "left": null
          }
        },
        "7e48874c5d29473089fea161fca4dddd": {
          "model_module": "@jupyter-widgets/controls",
          "model_name": "FloatProgressModel",
          "state": {
            "_view_name": "ProgressView",
            "style": "IPY_MODEL_307b6c855bf24f3aa6dd2a8f468f0d58",
            "_dom_classes": [],
            "description": "epoch 5: 100%",
            "_model_name": "FloatProgressModel",
            "bar_style": "success",
            "max": 2298,
            "_view_module": "@jupyter-widgets/controls",
            "_model_module_version": "1.5.0",
            "value": 2298,
            "_view_count": null,
            "_view_module_version": "1.5.0",
            "orientation": "horizontal",
            "min": 0,
            "description_tooltip": null,
            "_model_module": "@jupyter-widgets/controls",
            "layout": "IPY_MODEL_df93cbc966c84ebaa937f89f70e9d423"
          }
        },
        "193107ace1274721a1c462f4daedd930": {
          "model_module": "@jupyter-widgets/controls",
          "model_name": "HTMLModel",
          "state": {
            "_view_name": "HTMLView",
            "style": "IPY_MODEL_edffc0e1a3d140cf9a2f449123cdf5cc",
            "_dom_classes": [],
            "description": "",
            "_model_name": "HTMLModel",
            "placeholder": "​",
            "_view_module": "@jupyter-widgets/controls",
            "_model_module_version": "1.5.0",
            "value": " 2298/2298 [24:04&lt;00:00,  1.59batch/s, mean_loss=0.117, validation_metric=0.955]",
            "_view_count": null,
            "_view_module_version": "1.5.0",
            "description_tooltip": null,
            "_model_module": "@jupyter-widgets/controls",
            "layout": "IPY_MODEL_c4c4d81f273c4ed79d04e6df5f2617ed"
          }
        },
        "307b6c855bf24f3aa6dd2a8f468f0d58": {
          "model_module": "@jupyter-widgets/controls",
          "model_name": "ProgressStyleModel",
          "state": {
            "_view_name": "StyleView",
            "_model_name": "ProgressStyleModel",
            "description_width": "initial",
            "_view_module": "@jupyter-widgets/base",
            "_model_module_version": "1.5.0",
            "_view_count": null,
            "_view_module_version": "1.2.0",
            "bar_color": null,
            "_model_module": "@jupyter-widgets/controls"
          }
        },
        "df93cbc966c84ebaa937f89f70e9d423": {
          "model_module": "@jupyter-widgets/base",
          "model_name": "LayoutModel",
          "state": {
            "_view_name": "LayoutView",
            "grid_template_rows": null,
            "right": null,
            "justify_content": null,
            "_view_module": "@jupyter-widgets/base",
            "overflow": null,
            "_model_module_version": "1.2.0",
            "_view_count": null,
            "flex_flow": null,
            "width": null,
            "min_width": null,
            "border": null,
            "align_items": null,
            "bottom": null,
            "_model_module": "@jupyter-widgets/base",
            "top": null,
            "grid_column": null,
            "overflow_y": null,
            "overflow_x": null,
            "grid_auto_flow": null,
            "grid_area": null,
            "grid_template_columns": null,
            "flex": null,
            "_model_name": "LayoutModel",
            "justify_items": null,
            "grid_row": null,
            "max_height": null,
            "align_content": null,
            "visibility": null,
            "align_self": null,
            "height": null,
            "min_height": null,
            "padding": null,
            "grid_auto_rows": null,
            "grid_gap": null,
            "max_width": null,
            "order": null,
            "_view_module_version": "1.2.0",
            "grid_template_areas": null,
            "object_position": null,
            "object_fit": null,
            "grid_auto_columns": null,
            "margin": null,
            "display": null,
            "left": null
          }
        },
        "edffc0e1a3d140cf9a2f449123cdf5cc": {
          "model_module": "@jupyter-widgets/controls",
          "model_name": "DescriptionStyleModel",
          "state": {
            "_view_name": "StyleView",
            "_model_name": "DescriptionStyleModel",
            "description_width": "",
            "_view_module": "@jupyter-widgets/base",
            "_model_module_version": "1.5.0",
            "_view_count": null,
            "_view_module_version": "1.2.0",
            "_model_module": "@jupyter-widgets/controls"
          }
        },
        "c4c4d81f273c4ed79d04e6df5f2617ed": {
          "model_module": "@jupyter-widgets/base",
          "model_name": "LayoutModel",
          "state": {
            "_view_name": "LayoutView",
            "grid_template_rows": null,
            "right": null,
            "justify_content": null,
            "_view_module": "@jupyter-widgets/base",
            "overflow": null,
            "_model_module_version": "1.2.0",
            "_view_count": null,
            "flex_flow": null,
            "width": null,
            "min_width": null,
            "border": null,
            "align_items": null,
            "bottom": null,
            "_model_module": "@jupyter-widgets/base",
            "top": null,
            "grid_column": null,
            "overflow_y": null,
            "overflow_x": null,
            "grid_auto_flow": null,
            "grid_area": null,
            "grid_template_columns": null,
            "flex": null,
            "_model_name": "LayoutModel",
            "justify_items": null,
            "grid_row": null,
            "max_height": null,
            "align_content": null,
            "visibility": null,
            "align_self": null,
            "height": null,
            "min_height": null,
            "padding": null,
            "grid_auto_rows": null,
            "grid_gap": null,
            "max_width": null,
            "order": null,
            "_view_module_version": "1.2.0",
            "grid_template_areas": null,
            "object_position": null,
            "object_fit": null,
            "grid_auto_columns": null,
            "margin": null,
            "display": null,
            "left": null
          }
        },
        "17a296398d5d4794b17d086bbbd9269e": {
          "model_module": "@jupyter-widgets/controls",
          "model_name": "HBoxModel",
          "state": {
            "_view_name": "HBoxView",
            "_dom_classes": [],
            "_model_name": "HBoxModel",
            "_view_module": "@jupyter-widgets/controls",
            "_model_module_version": "1.5.0",
            "_view_count": null,
            "_view_module_version": "1.5.0",
            "box_style": "",
            "layout": "IPY_MODEL_09e86b200d3b450d93cfc9842e9a856f",
            "_model_module": "@jupyter-widgets/controls",
            "children": [
              "IPY_MODEL_a0704114387a40ff967a232e7827f3f1",
              "IPY_MODEL_9b51ed70967c4e48a27d7808b8f9d30a"
            ]
          }
        },
        "09e86b200d3b450d93cfc9842e9a856f": {
          "model_module": "@jupyter-widgets/base",
          "model_name": "LayoutModel",
          "state": {
            "_view_name": "LayoutView",
            "grid_template_rows": null,
            "right": null,
            "justify_content": null,
            "_view_module": "@jupyter-widgets/base",
            "overflow": null,
            "_model_module_version": "1.2.0",
            "_view_count": null,
            "flex_flow": null,
            "width": null,
            "min_width": null,
            "border": null,
            "align_items": null,
            "bottom": null,
            "_model_module": "@jupyter-widgets/base",
            "top": null,
            "grid_column": null,
            "overflow_y": null,
            "overflow_x": null,
            "grid_auto_flow": null,
            "grid_area": null,
            "grid_template_columns": null,
            "flex": null,
            "_model_name": "LayoutModel",
            "justify_items": null,
            "grid_row": null,
            "max_height": null,
            "align_content": null,
            "visibility": null,
            "align_self": null,
            "height": null,
            "min_height": null,
            "padding": null,
            "grid_auto_rows": null,
            "grid_gap": null,
            "max_width": null,
            "order": null,
            "_view_module_version": "1.2.0",
            "grid_template_areas": null,
            "object_position": null,
            "object_fit": null,
            "grid_auto_columns": null,
            "margin": null,
            "display": null,
            "left": null
          }
        },
        "a0704114387a40ff967a232e7827f3f1": {
          "model_module": "@jupyter-widgets/controls",
          "model_name": "FloatProgressModel",
          "state": {
            "_view_name": "ProgressView",
            "style": "IPY_MODEL_4c9bde8c03104d40bf4c0af63ffbbed3",
            "_dom_classes": [],
            "description": "epoch 6: 100%",
            "_model_name": "FloatProgressModel",
            "bar_style": "success",
            "max": 2298,
            "_view_module": "@jupyter-widgets/controls",
            "_model_module_version": "1.5.0",
            "value": 2298,
            "_view_count": null,
            "_view_module_version": "1.5.0",
            "orientation": "horizontal",
            "min": 0,
            "description_tooltip": null,
            "_model_module": "@jupyter-widgets/controls",
            "layout": "IPY_MODEL_12c3df0d77ad4c9183051ca9e6ebd532"
          }
        },
        "9b51ed70967c4e48a27d7808b8f9d30a": {
          "model_module": "@jupyter-widgets/controls",
          "model_name": "HTMLModel",
          "state": {
            "_view_name": "HTMLView",
            "style": "IPY_MODEL_e3a4f254be4640aab36a5e689d68dee1",
            "_dom_classes": [],
            "description": "",
            "_model_name": "HTMLModel",
            "placeholder": "​",
            "_view_module": "@jupyter-widgets/controls",
            "_model_module_version": "1.5.0",
            "value": " 2298/2298 [22:40&lt;00:00,  1.69batch/s, mean_loss=0.0961, validation_metric=0.955]",
            "_view_count": null,
            "_view_module_version": "1.5.0",
            "description_tooltip": null,
            "_model_module": "@jupyter-widgets/controls",
            "layout": "IPY_MODEL_5bf42c06df7c4ab59fdf167e99d49077"
          }
        },
        "4c9bde8c03104d40bf4c0af63ffbbed3": {
          "model_module": "@jupyter-widgets/controls",
          "model_name": "ProgressStyleModel",
          "state": {
            "_view_name": "StyleView",
            "_model_name": "ProgressStyleModel",
            "description_width": "initial",
            "_view_module": "@jupyter-widgets/base",
            "_model_module_version": "1.5.0",
            "_view_count": null,
            "_view_module_version": "1.2.0",
            "bar_color": null,
            "_model_module": "@jupyter-widgets/controls"
          }
        },
        "12c3df0d77ad4c9183051ca9e6ebd532": {
          "model_module": "@jupyter-widgets/base",
          "model_name": "LayoutModel",
          "state": {
            "_view_name": "LayoutView",
            "grid_template_rows": null,
            "right": null,
            "justify_content": null,
            "_view_module": "@jupyter-widgets/base",
            "overflow": null,
            "_model_module_version": "1.2.0",
            "_view_count": null,
            "flex_flow": null,
            "width": null,
            "min_width": null,
            "border": null,
            "align_items": null,
            "bottom": null,
            "_model_module": "@jupyter-widgets/base",
            "top": null,
            "grid_column": null,
            "overflow_y": null,
            "overflow_x": null,
            "grid_auto_flow": null,
            "grid_area": null,
            "grid_template_columns": null,
            "flex": null,
            "_model_name": "LayoutModel",
            "justify_items": null,
            "grid_row": null,
            "max_height": null,
            "align_content": null,
            "visibility": null,
            "align_self": null,
            "height": null,
            "min_height": null,
            "padding": null,
            "grid_auto_rows": null,
            "grid_gap": null,
            "max_width": null,
            "order": null,
            "_view_module_version": "1.2.0",
            "grid_template_areas": null,
            "object_position": null,
            "object_fit": null,
            "grid_auto_columns": null,
            "margin": null,
            "display": null,
            "left": null
          }
        },
        "e3a4f254be4640aab36a5e689d68dee1": {
          "model_module": "@jupyter-widgets/controls",
          "model_name": "DescriptionStyleModel",
          "state": {
            "_view_name": "StyleView",
            "_model_name": "DescriptionStyleModel",
            "description_width": "",
            "_view_module": "@jupyter-widgets/base",
            "_model_module_version": "1.5.0",
            "_view_count": null,
            "_view_module_version": "1.2.0",
            "_model_module": "@jupyter-widgets/controls"
          }
        },
        "5bf42c06df7c4ab59fdf167e99d49077": {
          "model_module": "@jupyter-widgets/base",
          "model_name": "LayoutModel",
          "state": {
            "_view_name": "LayoutView",
            "grid_template_rows": null,
            "right": null,
            "justify_content": null,
            "_view_module": "@jupyter-widgets/base",
            "overflow": null,
            "_model_module_version": "1.2.0",
            "_view_count": null,
            "flex_flow": null,
            "width": null,
            "min_width": null,
            "border": null,
            "align_items": null,
            "bottom": null,
            "_model_module": "@jupyter-widgets/base",
            "top": null,
            "grid_column": null,
            "overflow_y": null,
            "overflow_x": null,
            "grid_auto_flow": null,
            "grid_area": null,
            "grid_template_columns": null,
            "flex": null,
            "_model_name": "LayoutModel",
            "justify_items": null,
            "grid_row": null,
            "max_height": null,
            "align_content": null,
            "visibility": null,
            "align_self": null,
            "height": null,
            "min_height": null,
            "padding": null,
            "grid_auto_rows": null,
            "grid_gap": null,
            "max_width": null,
            "order": null,
            "_view_module_version": "1.2.0",
            "grid_template_areas": null,
            "object_position": null,
            "object_fit": null,
            "grid_auto_columns": null,
            "margin": null,
            "display": null,
            "left": null
          }
        },
        "592f3a13f5b04c3094aa92266c6e3521": {
          "model_module": "@jupyter-widgets/controls",
          "model_name": "HBoxModel",
          "state": {
            "_view_name": "HBoxView",
            "_dom_classes": [],
            "_model_name": "HBoxModel",
            "_view_module": "@jupyter-widgets/controls",
            "_model_module_version": "1.5.0",
            "_view_count": null,
            "_view_module_version": "1.5.0",
            "box_style": "",
            "layout": "IPY_MODEL_1279f7538943497bb25f9e3bb0be5a37",
            "_model_module": "@jupyter-widgets/controls",
            "children": [
              "IPY_MODEL_c2831b2e949c4958922e098fd5545b3c",
              "IPY_MODEL_c2491615cf3142aab31e2eb391425365"
            ]
          }
        },
        "1279f7538943497bb25f9e3bb0be5a37": {
          "model_module": "@jupyter-widgets/base",
          "model_name": "LayoutModel",
          "state": {
            "_view_name": "LayoutView",
            "grid_template_rows": null,
            "right": null,
            "justify_content": null,
            "_view_module": "@jupyter-widgets/base",
            "overflow": null,
            "_model_module_version": "1.2.0",
            "_view_count": null,
            "flex_flow": null,
            "width": null,
            "min_width": null,
            "border": null,
            "align_items": null,
            "bottom": null,
            "_model_module": "@jupyter-widgets/base",
            "top": null,
            "grid_column": null,
            "overflow_y": null,
            "overflow_x": null,
            "grid_auto_flow": null,
            "grid_area": null,
            "grid_template_columns": null,
            "flex": null,
            "_model_name": "LayoutModel",
            "justify_items": null,
            "grid_row": null,
            "max_height": null,
            "align_content": null,
            "visibility": null,
            "align_self": null,
            "height": null,
            "min_height": null,
            "padding": null,
            "grid_auto_rows": null,
            "grid_gap": null,
            "max_width": null,
            "order": null,
            "_view_module_version": "1.2.0",
            "grid_template_areas": null,
            "object_position": null,
            "object_fit": null,
            "grid_auto_columns": null,
            "margin": null,
            "display": null,
            "left": null
          }
        },
        "c2831b2e949c4958922e098fd5545b3c": {
          "model_module": "@jupyter-widgets/controls",
          "model_name": "FloatProgressModel",
          "state": {
            "_view_name": "ProgressView",
            "style": "IPY_MODEL_383f308961d04bdaae6e0aaf79fad262",
            "_dom_classes": [],
            "description": "epoch 7: 100%",
            "_model_name": "FloatProgressModel",
            "bar_style": "success",
            "max": 2298,
            "_view_module": "@jupyter-widgets/controls",
            "_model_module_version": "1.5.0",
            "value": 2298,
            "_view_count": null,
            "_view_module_version": "1.5.0",
            "orientation": "horizontal",
            "min": 0,
            "description_tooltip": null,
            "_model_module": "@jupyter-widgets/controls",
            "layout": "IPY_MODEL_990aa1d06a024e71a0c1e2910ead1830"
          }
        },
        "c2491615cf3142aab31e2eb391425365": {
          "model_module": "@jupyter-widgets/controls",
          "model_name": "HTMLModel",
          "state": {
            "_view_name": "HTMLView",
            "style": "IPY_MODEL_562975ac81b74cb1bdeefad74c317dcb",
            "_dom_classes": [],
            "description": "",
            "_model_name": "HTMLModel",
            "placeholder": "​",
            "_view_module": "@jupyter-widgets/controls",
            "_model_module_version": "1.5.0",
            "value": " 2298/2298 [21:12&lt;00:00,  1.81batch/s, mean_loss=0.0799, validation_metric=0.956]",
            "_view_count": null,
            "_view_module_version": "1.5.0",
            "description_tooltip": null,
            "_model_module": "@jupyter-widgets/controls",
            "layout": "IPY_MODEL_20f2653fa947415aa17819ea995c1cb4"
          }
        },
        "383f308961d04bdaae6e0aaf79fad262": {
          "model_module": "@jupyter-widgets/controls",
          "model_name": "ProgressStyleModel",
          "state": {
            "_view_name": "StyleView",
            "_model_name": "ProgressStyleModel",
            "description_width": "initial",
            "_view_module": "@jupyter-widgets/base",
            "_model_module_version": "1.5.0",
            "_view_count": null,
            "_view_module_version": "1.2.0",
            "bar_color": null,
            "_model_module": "@jupyter-widgets/controls"
          }
        },
        "990aa1d06a024e71a0c1e2910ead1830": {
          "model_module": "@jupyter-widgets/base",
          "model_name": "LayoutModel",
          "state": {
            "_view_name": "LayoutView",
            "grid_template_rows": null,
            "right": null,
            "justify_content": null,
            "_view_module": "@jupyter-widgets/base",
            "overflow": null,
            "_model_module_version": "1.2.0",
            "_view_count": null,
            "flex_flow": null,
            "width": null,
            "min_width": null,
            "border": null,
            "align_items": null,
            "bottom": null,
            "_model_module": "@jupyter-widgets/base",
            "top": null,
            "grid_column": null,
            "overflow_y": null,
            "overflow_x": null,
            "grid_auto_flow": null,
            "grid_area": null,
            "grid_template_columns": null,
            "flex": null,
            "_model_name": "LayoutModel",
            "justify_items": null,
            "grid_row": null,
            "max_height": null,
            "align_content": null,
            "visibility": null,
            "align_self": null,
            "height": null,
            "min_height": null,
            "padding": null,
            "grid_auto_rows": null,
            "grid_gap": null,
            "max_width": null,
            "order": null,
            "_view_module_version": "1.2.0",
            "grid_template_areas": null,
            "object_position": null,
            "object_fit": null,
            "grid_auto_columns": null,
            "margin": null,
            "display": null,
            "left": null
          }
        },
        "562975ac81b74cb1bdeefad74c317dcb": {
          "model_module": "@jupyter-widgets/controls",
          "model_name": "DescriptionStyleModel",
          "state": {
            "_view_name": "StyleView",
            "_model_name": "DescriptionStyleModel",
            "description_width": "",
            "_view_module": "@jupyter-widgets/base",
            "_model_module_version": "1.5.0",
            "_view_count": null,
            "_view_module_version": "1.2.0",
            "_model_module": "@jupyter-widgets/controls"
          }
        },
        "20f2653fa947415aa17819ea995c1cb4": {
          "model_module": "@jupyter-widgets/base",
          "model_name": "LayoutModel",
          "state": {
            "_view_name": "LayoutView",
            "grid_template_rows": null,
            "right": null,
            "justify_content": null,
            "_view_module": "@jupyter-widgets/base",
            "overflow": null,
            "_model_module_version": "1.2.0",
            "_view_count": null,
            "flex_flow": null,
            "width": null,
            "min_width": null,
            "border": null,
            "align_items": null,
            "bottom": null,
            "_model_module": "@jupyter-widgets/base",
            "top": null,
            "grid_column": null,
            "overflow_y": null,
            "overflow_x": null,
            "grid_auto_flow": null,
            "grid_area": null,
            "grid_template_columns": null,
            "flex": null,
            "_model_name": "LayoutModel",
            "justify_items": null,
            "grid_row": null,
            "max_height": null,
            "align_content": null,
            "visibility": null,
            "align_self": null,
            "height": null,
            "min_height": null,
            "padding": null,
            "grid_auto_rows": null,
            "grid_gap": null,
            "max_width": null,
            "order": null,
            "_view_module_version": "1.2.0",
            "grid_template_areas": null,
            "object_position": null,
            "object_fit": null,
            "grid_auto_columns": null,
            "margin": null,
            "display": null,
            "left": null
          }
        },
        "7ee90e41771643d980d5fcdd24b12a28": {
          "model_module": "@jupyter-widgets/controls",
          "model_name": "HBoxModel",
          "state": {
            "_view_name": "HBoxView",
            "_dom_classes": [],
            "_model_name": "HBoxModel",
            "_view_module": "@jupyter-widgets/controls",
            "_model_module_version": "1.5.0",
            "_view_count": null,
            "_view_module_version": "1.5.0",
            "box_style": "",
            "layout": "IPY_MODEL_87f7d0b1d64546c8ae2ac4526774fb00",
            "_model_module": "@jupyter-widgets/controls",
            "children": [
              "IPY_MODEL_d98d9bc1c23d4be494907c274f9ece9b",
              "IPY_MODEL_64d1a4586c194d3f8289fbc881521c28"
            ]
          }
        },
        "87f7d0b1d64546c8ae2ac4526774fb00": {
          "model_module": "@jupyter-widgets/base",
          "model_name": "LayoutModel",
          "state": {
            "_view_name": "LayoutView",
            "grid_template_rows": null,
            "right": null,
            "justify_content": null,
            "_view_module": "@jupyter-widgets/base",
            "overflow": null,
            "_model_module_version": "1.2.0",
            "_view_count": null,
            "flex_flow": null,
            "width": null,
            "min_width": null,
            "border": null,
            "align_items": null,
            "bottom": null,
            "_model_module": "@jupyter-widgets/base",
            "top": null,
            "grid_column": null,
            "overflow_y": null,
            "overflow_x": null,
            "grid_auto_flow": null,
            "grid_area": null,
            "grid_template_columns": null,
            "flex": null,
            "_model_name": "LayoutModel",
            "justify_items": null,
            "grid_row": null,
            "max_height": null,
            "align_content": null,
            "visibility": null,
            "align_self": null,
            "height": null,
            "min_height": null,
            "padding": null,
            "grid_auto_rows": null,
            "grid_gap": null,
            "max_width": null,
            "order": null,
            "_view_module_version": "1.2.0",
            "grid_template_areas": null,
            "object_position": null,
            "object_fit": null,
            "grid_auto_columns": null,
            "margin": null,
            "display": null,
            "left": null
          }
        },
        "d98d9bc1c23d4be494907c274f9ece9b": {
          "model_module": "@jupyter-widgets/controls",
          "model_name": "FloatProgressModel",
          "state": {
            "_view_name": "ProgressView",
            "style": "IPY_MODEL_a0c187d0121a4c168ed27283fde6117a",
            "_dom_classes": [],
            "description": "epoch 8: 100%",
            "_model_name": "FloatProgressModel",
            "bar_style": "success",
            "max": 2298,
            "_view_module": "@jupyter-widgets/controls",
            "_model_module_version": "1.5.0",
            "value": 2298,
            "_view_count": null,
            "_view_module_version": "1.5.0",
            "orientation": "horizontal",
            "min": 0,
            "description_tooltip": null,
            "_model_module": "@jupyter-widgets/controls",
            "layout": "IPY_MODEL_2c733612439d4a4b88917cfd904bcd90"
          }
        },
        "64d1a4586c194d3f8289fbc881521c28": {
          "model_module": "@jupyter-widgets/controls",
          "model_name": "HTMLModel",
          "state": {
            "_view_name": "HTMLView",
            "style": "IPY_MODEL_baf58a23643249d4b21507e814bf1b0c",
            "_dom_classes": [],
            "description": "",
            "_model_name": "HTMLModel",
            "placeholder": "​",
            "_view_module": "@jupyter-widgets/controls",
            "_model_module_version": "1.5.0",
            "value": " 2298/2298 [19:45&lt;00:00,  1.94batch/s, mean_loss=0.0722, validation_metric=0.956]",
            "_view_count": null,
            "_view_module_version": "1.5.0",
            "description_tooltip": null,
            "_model_module": "@jupyter-widgets/controls",
            "layout": "IPY_MODEL_5e7ca55e103d44bdab34755fc4ef0a40"
          }
        },
        "a0c187d0121a4c168ed27283fde6117a": {
          "model_module": "@jupyter-widgets/controls",
          "model_name": "ProgressStyleModel",
          "state": {
            "_view_name": "StyleView",
            "_model_name": "ProgressStyleModel",
            "description_width": "initial",
            "_view_module": "@jupyter-widgets/base",
            "_model_module_version": "1.5.0",
            "_view_count": null,
            "_view_module_version": "1.2.0",
            "bar_color": null,
            "_model_module": "@jupyter-widgets/controls"
          }
        },
        "2c733612439d4a4b88917cfd904bcd90": {
          "model_module": "@jupyter-widgets/base",
          "model_name": "LayoutModel",
          "state": {
            "_view_name": "LayoutView",
            "grid_template_rows": null,
            "right": null,
            "justify_content": null,
            "_view_module": "@jupyter-widgets/base",
            "overflow": null,
            "_model_module_version": "1.2.0",
            "_view_count": null,
            "flex_flow": null,
            "width": null,
            "min_width": null,
            "border": null,
            "align_items": null,
            "bottom": null,
            "_model_module": "@jupyter-widgets/base",
            "top": null,
            "grid_column": null,
            "overflow_y": null,
            "overflow_x": null,
            "grid_auto_flow": null,
            "grid_area": null,
            "grid_template_columns": null,
            "flex": null,
            "_model_name": "LayoutModel",
            "justify_items": null,
            "grid_row": null,
            "max_height": null,
            "align_content": null,
            "visibility": null,
            "align_self": null,
            "height": null,
            "min_height": null,
            "padding": null,
            "grid_auto_rows": null,
            "grid_gap": null,
            "max_width": null,
            "order": null,
            "_view_module_version": "1.2.0",
            "grid_template_areas": null,
            "object_position": null,
            "object_fit": null,
            "grid_auto_columns": null,
            "margin": null,
            "display": null,
            "left": null
          }
        },
        "baf58a23643249d4b21507e814bf1b0c": {
          "model_module": "@jupyter-widgets/controls",
          "model_name": "DescriptionStyleModel",
          "state": {
            "_view_name": "StyleView",
            "_model_name": "DescriptionStyleModel",
            "description_width": "",
            "_view_module": "@jupyter-widgets/base",
            "_model_module_version": "1.5.0",
            "_view_count": null,
            "_view_module_version": "1.2.0",
            "_model_module": "@jupyter-widgets/controls"
          }
        },
        "5e7ca55e103d44bdab34755fc4ef0a40": {
          "model_module": "@jupyter-widgets/base",
          "model_name": "LayoutModel",
          "state": {
            "_view_name": "LayoutView",
            "grid_template_rows": null,
            "right": null,
            "justify_content": null,
            "_view_module": "@jupyter-widgets/base",
            "overflow": null,
            "_model_module_version": "1.2.0",
            "_view_count": null,
            "flex_flow": null,
            "width": null,
            "min_width": null,
            "border": null,
            "align_items": null,
            "bottom": null,
            "_model_module": "@jupyter-widgets/base",
            "top": null,
            "grid_column": null,
            "overflow_y": null,
            "overflow_x": null,
            "grid_auto_flow": null,
            "grid_area": null,
            "grid_template_columns": null,
            "flex": null,
            "_model_name": "LayoutModel",
            "justify_items": null,
            "grid_row": null,
            "max_height": null,
            "align_content": null,
            "visibility": null,
            "align_self": null,
            "height": null,
            "min_height": null,
            "padding": null,
            "grid_auto_rows": null,
            "grid_gap": null,
            "max_width": null,
            "order": null,
            "_view_module_version": "1.2.0",
            "grid_template_areas": null,
            "object_position": null,
            "object_fit": null,
            "grid_auto_columns": null,
            "margin": null,
            "display": null,
            "left": null
          }
        },
        "1d33621c64bb4a80bb61a627607956cb": {
          "model_module": "@jupyter-widgets/controls",
          "model_name": "HBoxModel",
          "state": {
            "_view_name": "HBoxView",
            "_dom_classes": [],
            "_model_name": "HBoxModel",
            "_view_module": "@jupyter-widgets/controls",
            "_model_module_version": "1.5.0",
            "_view_count": null,
            "_view_module_version": "1.5.0",
            "box_style": "",
            "layout": "IPY_MODEL_483e289614ca48de8500e71ee9a0685e",
            "_model_module": "@jupyter-widgets/controls",
            "children": [
              "IPY_MODEL_3d9df4515b144608b7b952a7e8f9f789",
              "IPY_MODEL_34b852ef9a644b55998d4cbb960326f5"
            ]
          }
        },
        "483e289614ca48de8500e71ee9a0685e": {
          "model_module": "@jupyter-widgets/base",
          "model_name": "LayoutModel",
          "state": {
            "_view_name": "LayoutView",
            "grid_template_rows": null,
            "right": null,
            "justify_content": null,
            "_view_module": "@jupyter-widgets/base",
            "overflow": null,
            "_model_module_version": "1.2.0",
            "_view_count": null,
            "flex_flow": null,
            "width": null,
            "min_width": null,
            "border": null,
            "align_items": null,
            "bottom": null,
            "_model_module": "@jupyter-widgets/base",
            "top": null,
            "grid_column": null,
            "overflow_y": null,
            "overflow_x": null,
            "grid_auto_flow": null,
            "grid_area": null,
            "grid_template_columns": null,
            "flex": null,
            "_model_name": "LayoutModel",
            "justify_items": null,
            "grid_row": null,
            "max_height": null,
            "align_content": null,
            "visibility": null,
            "align_self": null,
            "height": null,
            "min_height": null,
            "padding": null,
            "grid_auto_rows": null,
            "grid_gap": null,
            "max_width": null,
            "order": null,
            "_view_module_version": "1.2.0",
            "grid_template_areas": null,
            "object_position": null,
            "object_fit": null,
            "grid_auto_columns": null,
            "margin": null,
            "display": null,
            "left": null
          }
        },
        "3d9df4515b144608b7b952a7e8f9f789": {
          "model_module": "@jupyter-widgets/controls",
          "model_name": "FloatProgressModel",
          "state": {
            "_view_name": "ProgressView",
            "style": "IPY_MODEL_98155f29ae1f48ba8d433791cb8fc9d9",
            "_dom_classes": [],
            "description": "training: 100%",
            "_model_name": "FloatProgressModel",
            "bar_style": "success",
            "max": 16,
            "_view_module": "@jupyter-widgets/controls",
            "_model_module_version": "1.5.0",
            "value": 16,
            "_view_count": null,
            "_view_module_version": "1.5.0",
            "orientation": "horizontal",
            "min": 0,
            "description_tooltip": null,
            "_model_module": "@jupyter-widgets/controls",
            "layout": "IPY_MODEL_84c673e44c284d16bc34f8e16268f4b8"
          }
        },
        "34b852ef9a644b55998d4cbb960326f5": {
          "model_module": "@jupyter-widgets/controls",
          "model_name": "HTMLModel",
          "state": {
            "_view_name": "HTMLView",
            "style": "IPY_MODEL_1ef99081090f4f47b2951f2bba3b3536",
            "_dom_classes": [],
            "description": "",
            "_model_name": "HTMLModel",
            "placeholder": "​",
            "_view_module": "@jupyter-widgets/controls",
            "_model_module_version": "1.5.0",
            "value": " 16/16 [5:00:31&lt;00:00, 1126.99s/epoch]",
            "_view_count": null,
            "_view_module_version": "1.5.0",
            "description_tooltip": null,
            "_model_module": "@jupyter-widgets/controls",
            "layout": "IPY_MODEL_551749cfd2cd4fd99b84c7c7215d1d1e"
          }
        },
        "98155f29ae1f48ba8d433791cb8fc9d9": {
          "model_module": "@jupyter-widgets/controls",
          "model_name": "ProgressStyleModel",
          "state": {
            "_view_name": "StyleView",
            "_model_name": "ProgressStyleModel",
            "description_width": "initial",
            "_view_module": "@jupyter-widgets/base",
            "_model_module_version": "1.5.0",
            "_view_count": null,
            "_view_module_version": "1.2.0",
            "bar_color": null,
            "_model_module": "@jupyter-widgets/controls"
          }
        },
        "84c673e44c284d16bc34f8e16268f4b8": {
          "model_module": "@jupyter-widgets/base",
          "model_name": "LayoutModel",
          "state": {
            "_view_name": "LayoutView",
            "grid_template_rows": null,
            "right": null,
            "justify_content": null,
            "_view_module": "@jupyter-widgets/base",
            "overflow": null,
            "_model_module_version": "1.2.0",
            "_view_count": null,
            "flex_flow": null,
            "width": null,
            "min_width": null,
            "border": null,
            "align_items": null,
            "bottom": null,
            "_model_module": "@jupyter-widgets/base",
            "top": null,
            "grid_column": null,
            "overflow_y": null,
            "overflow_x": null,
            "grid_auto_flow": null,
            "grid_area": null,
            "grid_template_columns": null,
            "flex": null,
            "_model_name": "LayoutModel",
            "justify_items": null,
            "grid_row": null,
            "max_height": null,
            "align_content": null,
            "visibility": null,
            "align_self": null,
            "height": null,
            "min_height": null,
            "padding": null,
            "grid_auto_rows": null,
            "grid_gap": null,
            "max_width": null,
            "order": null,
            "_view_module_version": "1.2.0",
            "grid_template_areas": null,
            "object_position": null,
            "object_fit": null,
            "grid_auto_columns": null,
            "margin": null,
            "display": null,
            "left": null
          }
        },
        "1ef99081090f4f47b2951f2bba3b3536": {
          "model_module": "@jupyter-widgets/controls",
          "model_name": "DescriptionStyleModel",
          "state": {
            "_view_name": "StyleView",
            "_model_name": "DescriptionStyleModel",
            "description_width": "",
            "_view_module": "@jupyter-widgets/base",
            "_model_module_version": "1.5.0",
            "_view_count": null,
            "_view_module_version": "1.2.0",
            "_model_module": "@jupyter-widgets/controls"
          }
        },
        "551749cfd2cd4fd99b84c7c7215d1d1e": {
          "model_module": "@jupyter-widgets/base",
          "model_name": "LayoutModel",
          "state": {
            "_view_name": "LayoutView",
            "grid_template_rows": null,
            "right": null,
            "justify_content": null,
            "_view_module": "@jupyter-widgets/base",
            "overflow": null,
            "_model_module_version": "1.2.0",
            "_view_count": null,
            "flex_flow": null,
            "width": null,
            "min_width": null,
            "border": null,
            "align_items": null,
            "bottom": null,
            "_model_module": "@jupyter-widgets/base",
            "top": null,
            "grid_column": null,
            "overflow_y": null,
            "overflow_x": null,
            "grid_auto_flow": null,
            "grid_area": null,
            "grid_template_columns": null,
            "flex": null,
            "_model_name": "LayoutModel",
            "justify_items": null,
            "grid_row": null,
            "max_height": null,
            "align_content": null,
            "visibility": null,
            "align_self": null,
            "height": null,
            "min_height": null,
            "padding": null,
            "grid_auto_rows": null,
            "grid_gap": null,
            "max_width": null,
            "order": null,
            "_view_module_version": "1.2.0",
            "grid_template_areas": null,
            "object_position": null,
            "object_fit": null,
            "grid_auto_columns": null,
            "margin": null,
            "display": null,
            "left": null
          }
        },
        "35624db44b8047f88898c4aa6a7bc23a": {
          "model_module": "@jupyter-widgets/controls",
          "model_name": "HBoxModel",
          "state": {
            "_view_name": "HBoxView",
            "_dom_classes": [],
            "_model_name": "HBoxModel",
            "_view_module": "@jupyter-widgets/controls",
            "_model_module_version": "1.5.0",
            "_view_count": null,
            "_view_module_version": "1.5.0",
            "box_style": "",
            "layout": "IPY_MODEL_f14350f3141242268054c1eab1666fc3",
            "_model_module": "@jupyter-widgets/controls",
            "children": [
              "IPY_MODEL_8cee6090b4734a9ea9d1eb0d73cfbc88",
              "IPY_MODEL_daeb8ce178f84ad99baed494fec2d84f"
            ]
          }
        },
        "f14350f3141242268054c1eab1666fc3": {
          "model_module": "@jupyter-widgets/base",
          "model_name": "LayoutModel",
          "state": {
            "_view_name": "LayoutView",
            "grid_template_rows": null,
            "right": null,
            "justify_content": null,
            "_view_module": "@jupyter-widgets/base",
            "overflow": null,
            "_model_module_version": "1.2.0",
            "_view_count": null,
            "flex_flow": null,
            "width": null,
            "min_width": null,
            "border": null,
            "align_items": null,
            "bottom": null,
            "_model_module": "@jupyter-widgets/base",
            "top": null,
            "grid_column": null,
            "overflow_y": null,
            "overflow_x": null,
            "grid_auto_flow": null,
            "grid_area": null,
            "grid_template_columns": null,
            "flex": null,
            "_model_name": "LayoutModel",
            "justify_items": null,
            "grid_row": null,
            "max_height": null,
            "align_content": null,
            "visibility": null,
            "align_self": null,
            "height": null,
            "min_height": null,
            "padding": null,
            "grid_auto_rows": null,
            "grid_gap": null,
            "max_width": null,
            "order": null,
            "_view_module_version": "1.2.0",
            "grid_template_areas": null,
            "object_position": null,
            "object_fit": null,
            "grid_auto_columns": null,
            "margin": null,
            "display": null,
            "left": null
          }
        },
        "8cee6090b4734a9ea9d1eb0d73cfbc88": {
          "model_module": "@jupyter-widgets/controls",
          "model_name": "FloatProgressModel",
          "state": {
            "_view_name": "ProgressView",
            "style": "IPY_MODEL_c9074713c241460685a8316556be1726",
            "_dom_classes": [],
            "description": "epoch 1: 100%",
            "_model_name": "FloatProgressModel",
            "bar_style": "success",
            "max": 2298,
            "_view_module": "@jupyter-widgets/controls",
            "_model_module_version": "1.5.0",
            "value": 2298,
            "_view_count": null,
            "_view_module_version": "1.5.0",
            "orientation": "horizontal",
            "min": 0,
            "description_tooltip": null,
            "_model_module": "@jupyter-widgets/controls",
            "layout": "IPY_MODEL_9df071e3e7304574b6fc551670a4424b"
          }
        },
        "daeb8ce178f84ad99baed494fec2d84f": {
          "model_module": "@jupyter-widgets/controls",
          "model_name": "HTMLModel",
          "state": {
            "_view_name": "HTMLView",
            "style": "IPY_MODEL_acbb8a81cd444fc098cded758177466f",
            "_dom_classes": [],
            "description": "",
            "_model_name": "HTMLModel",
            "placeholder": "​",
            "_view_module": "@jupyter-widgets/controls",
            "_model_module_version": "1.5.0",
            "value": " 2298/2298 [5:00:31&lt;00:00,  7.85s/batch, mean_loss=0.0905, validation_metric=72.3]",
            "_view_count": null,
            "_view_module_version": "1.5.0",
            "description_tooltip": null,
            "_model_module": "@jupyter-widgets/controls",
            "layout": "IPY_MODEL_7a58e2043fa34ac682d0c49aec5d1378"
          }
        },
        "c9074713c241460685a8316556be1726": {
          "model_module": "@jupyter-widgets/controls",
          "model_name": "ProgressStyleModel",
          "state": {
            "_view_name": "StyleView",
            "_model_name": "ProgressStyleModel",
            "description_width": "initial",
            "_view_module": "@jupyter-widgets/base",
            "_model_module_version": "1.5.0",
            "_view_count": null,
            "_view_module_version": "1.2.0",
            "bar_color": null,
            "_model_module": "@jupyter-widgets/controls"
          }
        },
        "9df071e3e7304574b6fc551670a4424b": {
          "model_module": "@jupyter-widgets/base",
          "model_name": "LayoutModel",
          "state": {
            "_view_name": "LayoutView",
            "grid_template_rows": null,
            "right": null,
            "justify_content": null,
            "_view_module": "@jupyter-widgets/base",
            "overflow": null,
            "_model_module_version": "1.2.0",
            "_view_count": null,
            "flex_flow": null,
            "width": null,
            "min_width": null,
            "border": null,
            "align_items": null,
            "bottom": null,
            "_model_module": "@jupyter-widgets/base",
            "top": null,
            "grid_column": null,
            "overflow_y": null,
            "overflow_x": null,
            "grid_auto_flow": null,
            "grid_area": null,
            "grid_template_columns": null,
            "flex": null,
            "_model_name": "LayoutModel",
            "justify_items": null,
            "grid_row": null,
            "max_height": null,
            "align_content": null,
            "visibility": null,
            "align_self": null,
            "height": null,
            "min_height": null,
            "padding": null,
            "grid_auto_rows": null,
            "grid_gap": null,
            "max_width": null,
            "order": null,
            "_view_module_version": "1.2.0",
            "grid_template_areas": null,
            "object_position": null,
            "object_fit": null,
            "grid_auto_columns": null,
            "margin": null,
            "display": null,
            "left": null
          }
        },
        "acbb8a81cd444fc098cded758177466f": {
          "model_module": "@jupyter-widgets/controls",
          "model_name": "DescriptionStyleModel",
          "state": {
            "_view_name": "StyleView",
            "_model_name": "DescriptionStyleModel",
            "description_width": "",
            "_view_module": "@jupyter-widgets/base",
            "_model_module_version": "1.5.0",
            "_view_count": null,
            "_view_module_version": "1.2.0",
            "_model_module": "@jupyter-widgets/controls"
          }
        },
        "7a58e2043fa34ac682d0c49aec5d1378": {
          "model_module": "@jupyter-widgets/base",
          "model_name": "LayoutModel",
          "state": {
            "_view_name": "LayoutView",
            "grid_template_rows": null,
            "right": null,
            "justify_content": null,
            "_view_module": "@jupyter-widgets/base",
            "overflow": null,
            "_model_module_version": "1.2.0",
            "_view_count": null,
            "flex_flow": null,
            "width": null,
            "min_width": null,
            "border": null,
            "align_items": null,
            "bottom": null,
            "_model_module": "@jupyter-widgets/base",
            "top": null,
            "grid_column": null,
            "overflow_y": null,
            "overflow_x": null,
            "grid_auto_flow": null,
            "grid_area": null,
            "grid_template_columns": null,
            "flex": null,
            "_model_name": "LayoutModel",
            "justify_items": null,
            "grid_row": null,
            "max_height": null,
            "align_content": null,
            "visibility": null,
            "align_self": null,
            "height": null,
            "min_height": null,
            "padding": null,
            "grid_auto_rows": null,
            "grid_gap": null,
            "max_width": null,
            "order": null,
            "_view_module_version": "1.2.0",
            "grid_template_areas": null,
            "object_position": null,
            "object_fit": null,
            "grid_auto_columns": null,
            "margin": null,
            "display": null,
            "left": null
          }
        },
        "6ed82f1c447c473d9254ce42f7c471d0": {
          "model_module": "@jupyter-widgets/controls",
          "model_name": "HBoxModel",
          "state": {
            "_view_name": "HBoxView",
            "_dom_classes": [],
            "_model_name": "HBoxModel",
            "_view_module": "@jupyter-widgets/controls",
            "_model_module_version": "1.5.0",
            "_view_count": null,
            "_view_module_version": "1.5.0",
            "box_style": "",
            "layout": "IPY_MODEL_1e9924c2c4cd4124ae985dbd96edb872",
            "_model_module": "@jupyter-widgets/controls",
            "children": [
              "IPY_MODEL_1ce66119af99443f892fe12baee7afe8",
              "IPY_MODEL_4c967751c11845058097f23d7c411ce0"
            ]
          }
        },
        "1e9924c2c4cd4124ae985dbd96edb872": {
          "model_module": "@jupyter-widgets/base",
          "model_name": "LayoutModel",
          "state": {
            "_view_name": "LayoutView",
            "grid_template_rows": null,
            "right": null,
            "justify_content": null,
            "_view_module": "@jupyter-widgets/base",
            "overflow": null,
            "_model_module_version": "1.2.0",
            "_view_count": null,
            "flex_flow": null,
            "width": null,
            "min_width": null,
            "border": null,
            "align_items": null,
            "bottom": null,
            "_model_module": "@jupyter-widgets/base",
            "top": null,
            "grid_column": null,
            "overflow_y": null,
            "overflow_x": null,
            "grid_auto_flow": null,
            "grid_area": null,
            "grid_template_columns": null,
            "flex": null,
            "_model_name": "LayoutModel",
            "justify_items": null,
            "grid_row": null,
            "max_height": null,
            "align_content": null,
            "visibility": null,
            "align_self": null,
            "height": null,
            "min_height": null,
            "padding": null,
            "grid_auto_rows": null,
            "grid_gap": null,
            "max_width": null,
            "order": null,
            "_view_module_version": "1.2.0",
            "grid_template_areas": null,
            "object_position": null,
            "object_fit": null,
            "grid_auto_columns": null,
            "margin": null,
            "display": null,
            "left": null
          }
        },
        "1ce66119af99443f892fe12baee7afe8": {
          "model_module": "@jupyter-widgets/controls",
          "model_name": "FloatProgressModel",
          "state": {
            "_view_name": "ProgressView",
            "style": "IPY_MODEL_67f0ead647364c6abb191f78e6fac681",
            "_dom_classes": [],
            "description": "epoch 2: 100%",
            "_model_name": "FloatProgressModel",
            "bar_style": "success",
            "max": 2298,
            "_view_module": "@jupyter-widgets/controls",
            "_model_module_version": "1.5.0",
            "value": 2298,
            "_view_count": null,
            "_view_module_version": "1.5.0",
            "orientation": "horizontal",
            "min": 0,
            "description_tooltip": null,
            "_model_module": "@jupyter-widgets/controls",
            "layout": "IPY_MODEL_b18ed5ab49d94d95a1eecf1e6e9c924d"
          }
        },
        "4c967751c11845058097f23d7c411ce0": {
          "model_module": "@jupyter-widgets/controls",
          "model_name": "HTMLModel",
          "state": {
            "_view_name": "HTMLView",
            "style": "IPY_MODEL_5e9f55d8eb4f47349daa16be67f2e19f",
            "_dom_classes": [],
            "description": "",
            "_model_name": "HTMLModel",
            "placeholder": "​",
            "_view_module": "@jupyter-widgets/controls",
            "_model_module_version": "1.5.0",
            "value": " 2298/2298 [4:45:24&lt;00:00,  7.45s/batch, mean_loss=0.036, validation_metric=78]",
            "_view_count": null,
            "_view_module_version": "1.5.0",
            "description_tooltip": null,
            "_model_module": "@jupyter-widgets/controls",
            "layout": "IPY_MODEL_98225dbe9f344891ae65f911d1d73b73"
          }
        },
        "67f0ead647364c6abb191f78e6fac681": {
          "model_module": "@jupyter-widgets/controls",
          "model_name": "ProgressStyleModel",
          "state": {
            "_view_name": "StyleView",
            "_model_name": "ProgressStyleModel",
            "description_width": "initial",
            "_view_module": "@jupyter-widgets/base",
            "_model_module_version": "1.5.0",
            "_view_count": null,
            "_view_module_version": "1.2.0",
            "bar_color": null,
            "_model_module": "@jupyter-widgets/controls"
          }
        },
        "b18ed5ab49d94d95a1eecf1e6e9c924d": {
          "model_module": "@jupyter-widgets/base",
          "model_name": "LayoutModel",
          "state": {
            "_view_name": "LayoutView",
            "grid_template_rows": null,
            "right": null,
            "justify_content": null,
            "_view_module": "@jupyter-widgets/base",
            "overflow": null,
            "_model_module_version": "1.2.0",
            "_view_count": null,
            "flex_flow": null,
            "width": null,
            "min_width": null,
            "border": null,
            "align_items": null,
            "bottom": null,
            "_model_module": "@jupyter-widgets/base",
            "top": null,
            "grid_column": null,
            "overflow_y": null,
            "overflow_x": null,
            "grid_auto_flow": null,
            "grid_area": null,
            "grid_template_columns": null,
            "flex": null,
            "_model_name": "LayoutModel",
            "justify_items": null,
            "grid_row": null,
            "max_height": null,
            "align_content": null,
            "visibility": null,
            "align_self": null,
            "height": null,
            "min_height": null,
            "padding": null,
            "grid_auto_rows": null,
            "grid_gap": null,
            "max_width": null,
            "order": null,
            "_view_module_version": "1.2.0",
            "grid_template_areas": null,
            "object_position": null,
            "object_fit": null,
            "grid_auto_columns": null,
            "margin": null,
            "display": null,
            "left": null
          }
        },
        "5e9f55d8eb4f47349daa16be67f2e19f": {
          "model_module": "@jupyter-widgets/controls",
          "model_name": "DescriptionStyleModel",
          "state": {
            "_view_name": "StyleView",
            "_model_name": "DescriptionStyleModel",
            "description_width": "",
            "_view_module": "@jupyter-widgets/base",
            "_model_module_version": "1.5.0",
            "_view_count": null,
            "_view_module_version": "1.2.0",
            "_model_module": "@jupyter-widgets/controls"
          }
        },
        "98225dbe9f344891ae65f911d1d73b73": {
          "model_module": "@jupyter-widgets/base",
          "model_name": "LayoutModel",
          "state": {
            "_view_name": "LayoutView",
            "grid_template_rows": null,
            "right": null,
            "justify_content": null,
            "_view_module": "@jupyter-widgets/base",
            "overflow": null,
            "_model_module_version": "1.2.0",
            "_view_count": null,
            "flex_flow": null,
            "width": null,
            "min_width": null,
            "border": null,
            "align_items": null,
            "bottom": null,
            "_model_module": "@jupyter-widgets/base",
            "top": null,
            "grid_column": null,
            "overflow_y": null,
            "overflow_x": null,
            "grid_auto_flow": null,
            "grid_area": null,
            "grid_template_columns": null,
            "flex": null,
            "_model_name": "LayoutModel",
            "justify_items": null,
            "grid_row": null,
            "max_height": null,
            "align_content": null,
            "visibility": null,
            "align_self": null,
            "height": null,
            "min_height": null,
            "padding": null,
            "grid_auto_rows": null,
            "grid_gap": null,
            "max_width": null,
            "order": null,
            "_view_module_version": "1.2.0",
            "grid_template_areas": null,
            "object_position": null,
            "object_fit": null,
            "grid_auto_columns": null,
            "margin": null,
            "display": null,
            "left": null
          }
        },
        "dec9f0f085ff4394b96b4c57823b60de": {
          "model_module": "@jupyter-widgets/controls",
          "model_name": "HBoxModel",
          "state": {
            "_view_name": "HBoxView",
            "_dom_classes": [],
            "_model_name": "HBoxModel",
            "_view_module": "@jupyter-widgets/controls",
            "_model_module_version": "1.5.0",
            "_view_count": null,
            "_view_module_version": "1.5.0",
            "box_style": "",
            "layout": "IPY_MODEL_f9b5eec149b745d89d5afecc73c44767",
            "_model_module": "@jupyter-widgets/controls",
            "children": [
              "IPY_MODEL_b7e80eed72be4b109997abe8621bc003",
              "IPY_MODEL_28b0e43080534ecebd0a23261e3e0ca4"
            ]
          }
        },
        "f9b5eec149b745d89d5afecc73c44767": {
          "model_module": "@jupyter-widgets/base",
          "model_name": "LayoutModel",
          "state": {
            "_view_name": "LayoutView",
            "grid_template_rows": null,
            "right": null,
            "justify_content": null,
            "_view_module": "@jupyter-widgets/base",
            "overflow": null,
            "_model_module_version": "1.2.0",
            "_view_count": null,
            "flex_flow": null,
            "width": null,
            "min_width": null,
            "border": null,
            "align_items": null,
            "bottom": null,
            "_model_module": "@jupyter-widgets/base",
            "top": null,
            "grid_column": null,
            "overflow_y": null,
            "overflow_x": null,
            "grid_auto_flow": null,
            "grid_area": null,
            "grid_template_columns": null,
            "flex": null,
            "_model_name": "LayoutModel",
            "justify_items": null,
            "grid_row": null,
            "max_height": null,
            "align_content": null,
            "visibility": null,
            "align_self": null,
            "height": null,
            "min_height": null,
            "padding": null,
            "grid_auto_rows": null,
            "grid_gap": null,
            "max_width": null,
            "order": null,
            "_view_module_version": "1.2.0",
            "grid_template_areas": null,
            "object_position": null,
            "object_fit": null,
            "grid_auto_columns": null,
            "margin": null,
            "display": null,
            "left": null
          }
        },
        "b7e80eed72be4b109997abe8621bc003": {
          "model_module": "@jupyter-widgets/controls",
          "model_name": "FloatProgressModel",
          "state": {
            "_view_name": "ProgressView",
            "style": "IPY_MODEL_46809f5afa1c4e5c814e58e606ed4708",
            "_dom_classes": [],
            "description": "epoch 3: 100%",
            "_model_name": "FloatProgressModel",
            "bar_style": "success",
            "max": 2298,
            "_view_module": "@jupyter-widgets/controls",
            "_model_module_version": "1.5.0",
            "value": 2298,
            "_view_count": null,
            "_view_module_version": "1.5.0",
            "orientation": "horizontal",
            "min": 0,
            "description_tooltip": null,
            "_model_module": "@jupyter-widgets/controls",
            "layout": "IPY_MODEL_2e4a7f1021b84a988b9f36c7b4d8293c"
          }
        },
        "28b0e43080534ecebd0a23261e3e0ca4": {
          "model_module": "@jupyter-widgets/controls",
          "model_name": "HTMLModel",
          "state": {
            "_view_name": "HTMLView",
            "style": "IPY_MODEL_426c4eda92cd43f98f72aeb025f2e9fa",
            "_dom_classes": [],
            "description": "",
            "_model_name": "HTMLModel",
            "placeholder": "​",
            "_view_module": "@jupyter-widgets/controls",
            "_model_module_version": "1.5.0",
            "value": " 2298/2298 [4:30:13&lt;00:00,  7.06s/batch, mean_loss=0.03, validation_metric=80.6]",
            "_view_count": null,
            "_view_module_version": "1.5.0",
            "description_tooltip": null,
            "_model_module": "@jupyter-widgets/controls",
            "layout": "IPY_MODEL_aa999abdf0ba4ffc9810ae726ca48b62"
          }
        },
        "46809f5afa1c4e5c814e58e606ed4708": {
          "model_module": "@jupyter-widgets/controls",
          "model_name": "ProgressStyleModel",
          "state": {
            "_view_name": "StyleView",
            "_model_name": "ProgressStyleModel",
            "description_width": "initial",
            "_view_module": "@jupyter-widgets/base",
            "_model_module_version": "1.5.0",
            "_view_count": null,
            "_view_module_version": "1.2.0",
            "bar_color": null,
            "_model_module": "@jupyter-widgets/controls"
          }
        },
        "2e4a7f1021b84a988b9f36c7b4d8293c": {
          "model_module": "@jupyter-widgets/base",
          "model_name": "LayoutModel",
          "state": {
            "_view_name": "LayoutView",
            "grid_template_rows": null,
            "right": null,
            "justify_content": null,
            "_view_module": "@jupyter-widgets/base",
            "overflow": null,
            "_model_module_version": "1.2.0",
            "_view_count": null,
            "flex_flow": null,
            "width": null,
            "min_width": null,
            "border": null,
            "align_items": null,
            "bottom": null,
            "_model_module": "@jupyter-widgets/base",
            "top": null,
            "grid_column": null,
            "overflow_y": null,
            "overflow_x": null,
            "grid_auto_flow": null,
            "grid_area": null,
            "grid_template_columns": null,
            "flex": null,
            "_model_name": "LayoutModel",
            "justify_items": null,
            "grid_row": null,
            "max_height": null,
            "align_content": null,
            "visibility": null,
            "align_self": null,
            "height": null,
            "min_height": null,
            "padding": null,
            "grid_auto_rows": null,
            "grid_gap": null,
            "max_width": null,
            "order": null,
            "_view_module_version": "1.2.0",
            "grid_template_areas": null,
            "object_position": null,
            "object_fit": null,
            "grid_auto_columns": null,
            "margin": null,
            "display": null,
            "left": null
          }
        },
        "426c4eda92cd43f98f72aeb025f2e9fa": {
          "model_module": "@jupyter-widgets/controls",
          "model_name": "DescriptionStyleModel",
          "state": {
            "_view_name": "StyleView",
            "_model_name": "DescriptionStyleModel",
            "description_width": "",
            "_view_module": "@jupyter-widgets/base",
            "_model_module_version": "1.5.0",
            "_view_count": null,
            "_view_module_version": "1.2.0",
            "_model_module": "@jupyter-widgets/controls"
          }
        },
        "aa999abdf0ba4ffc9810ae726ca48b62": {
          "model_module": "@jupyter-widgets/base",
          "model_name": "LayoutModel",
          "state": {
            "_view_name": "LayoutView",
            "grid_template_rows": null,
            "right": null,
            "justify_content": null,
            "_view_module": "@jupyter-widgets/base",
            "overflow": null,
            "_model_module_version": "1.2.0",
            "_view_count": null,
            "flex_flow": null,
            "width": null,
            "min_width": null,
            "border": null,
            "align_items": null,
            "bottom": null,
            "_model_module": "@jupyter-widgets/base",
            "top": null,
            "grid_column": null,
            "overflow_y": null,
            "overflow_x": null,
            "grid_auto_flow": null,
            "grid_area": null,
            "grid_template_columns": null,
            "flex": null,
            "_model_name": "LayoutModel",
            "justify_items": null,
            "grid_row": null,
            "max_height": null,
            "align_content": null,
            "visibility": null,
            "align_self": null,
            "height": null,
            "min_height": null,
            "padding": null,
            "grid_auto_rows": null,
            "grid_gap": null,
            "max_width": null,
            "order": null,
            "_view_module_version": "1.2.0",
            "grid_template_areas": null,
            "object_position": null,
            "object_fit": null,
            "grid_auto_columns": null,
            "margin": null,
            "display": null,
            "left": null
          }
        },
        "545985d6bfa141bd86804b2701ed4cb8": {
          "model_module": "@jupyter-widgets/controls",
          "model_name": "HBoxModel",
          "state": {
            "_view_name": "HBoxView",
            "_dom_classes": [],
            "_model_name": "HBoxModel",
            "_view_module": "@jupyter-widgets/controls",
            "_model_module_version": "1.5.0",
            "_view_count": null,
            "_view_module_version": "1.5.0",
            "box_style": "",
            "layout": "IPY_MODEL_72827d4c0e714d18b0e3a515ec32233b",
            "_model_module": "@jupyter-widgets/controls",
            "children": [
              "IPY_MODEL_15664c169cbb41549d3ecf43a8ac1552",
              "IPY_MODEL_844fc48231f24593b38aad5dc51600ec"
            ]
          }
        },
        "72827d4c0e714d18b0e3a515ec32233b": {
          "model_module": "@jupyter-widgets/base",
          "model_name": "LayoutModel",
          "state": {
            "_view_name": "LayoutView",
            "grid_template_rows": null,
            "right": null,
            "justify_content": null,
            "_view_module": "@jupyter-widgets/base",
            "overflow": null,
            "_model_module_version": "1.2.0",
            "_view_count": null,
            "flex_flow": null,
            "width": null,
            "min_width": null,
            "border": null,
            "align_items": null,
            "bottom": null,
            "_model_module": "@jupyter-widgets/base",
            "top": null,
            "grid_column": null,
            "overflow_y": null,
            "overflow_x": null,
            "grid_auto_flow": null,
            "grid_area": null,
            "grid_template_columns": null,
            "flex": null,
            "_model_name": "LayoutModel",
            "justify_items": null,
            "grid_row": null,
            "max_height": null,
            "align_content": null,
            "visibility": null,
            "align_self": null,
            "height": null,
            "min_height": null,
            "padding": null,
            "grid_auto_rows": null,
            "grid_gap": null,
            "max_width": null,
            "order": null,
            "_view_module_version": "1.2.0",
            "grid_template_areas": null,
            "object_position": null,
            "object_fit": null,
            "grid_auto_columns": null,
            "margin": null,
            "display": null,
            "left": null
          }
        },
        "15664c169cbb41549d3ecf43a8ac1552": {
          "model_module": "@jupyter-widgets/controls",
          "model_name": "FloatProgressModel",
          "state": {
            "_view_name": "ProgressView",
            "style": "IPY_MODEL_6378641620a242db8bc39511ae957fa7",
            "_dom_classes": [],
            "description": "epoch 4: 100%",
            "_model_name": "FloatProgressModel",
            "bar_style": "success",
            "max": 2298,
            "_view_module": "@jupyter-widgets/controls",
            "_model_module_version": "1.5.0",
            "value": 2298,
            "_view_count": null,
            "_view_module_version": "1.5.0",
            "orientation": "horizontal",
            "min": 0,
            "description_tooltip": null,
            "_model_module": "@jupyter-widgets/controls",
            "layout": "IPY_MODEL_f8bdf4f375f04ff6ada071afbccc057d"
          }
        },
        "844fc48231f24593b38aad5dc51600ec": {
          "model_module": "@jupyter-widgets/controls",
          "model_name": "HTMLModel",
          "state": {
            "_view_name": "HTMLView",
            "style": "IPY_MODEL_991a8905eb5d4acdaaa32d7cde7ef468",
            "_dom_classes": [],
            "description": "",
            "_model_name": "HTMLModel",
            "placeholder": "​",
            "_view_module": "@jupyter-widgets/controls",
            "_model_module_version": "1.5.0",
            "value": " 2298/2298 [4:15:02&lt;00:00,  6.66s/batch, mean_loss=0.0267, validation_metric=82.4]",
            "_view_count": null,
            "_view_module_version": "1.5.0",
            "description_tooltip": null,
            "_model_module": "@jupyter-widgets/controls",
            "layout": "IPY_MODEL_54a69ae872f342668b0b2084845b5009"
          }
        },
        "6378641620a242db8bc39511ae957fa7": {
          "model_module": "@jupyter-widgets/controls",
          "model_name": "ProgressStyleModel",
          "state": {
            "_view_name": "StyleView",
            "_model_name": "ProgressStyleModel",
            "description_width": "initial",
            "_view_module": "@jupyter-widgets/base",
            "_model_module_version": "1.5.0",
            "_view_count": null,
            "_view_module_version": "1.2.0",
            "bar_color": null,
            "_model_module": "@jupyter-widgets/controls"
          }
        },
        "f8bdf4f375f04ff6ada071afbccc057d": {
          "model_module": "@jupyter-widgets/base",
          "model_name": "LayoutModel",
          "state": {
            "_view_name": "LayoutView",
            "grid_template_rows": null,
            "right": null,
            "justify_content": null,
            "_view_module": "@jupyter-widgets/base",
            "overflow": null,
            "_model_module_version": "1.2.0",
            "_view_count": null,
            "flex_flow": null,
            "width": null,
            "min_width": null,
            "border": null,
            "align_items": null,
            "bottom": null,
            "_model_module": "@jupyter-widgets/base",
            "top": null,
            "grid_column": null,
            "overflow_y": null,
            "overflow_x": null,
            "grid_auto_flow": null,
            "grid_area": null,
            "grid_template_columns": null,
            "flex": null,
            "_model_name": "LayoutModel",
            "justify_items": null,
            "grid_row": null,
            "max_height": null,
            "align_content": null,
            "visibility": null,
            "align_self": null,
            "height": null,
            "min_height": null,
            "padding": null,
            "grid_auto_rows": null,
            "grid_gap": null,
            "max_width": null,
            "order": null,
            "_view_module_version": "1.2.0",
            "grid_template_areas": null,
            "object_position": null,
            "object_fit": null,
            "grid_auto_columns": null,
            "margin": null,
            "display": null,
            "left": null
          }
        },
        "991a8905eb5d4acdaaa32d7cde7ef468": {
          "model_module": "@jupyter-widgets/controls",
          "model_name": "DescriptionStyleModel",
          "state": {
            "_view_name": "StyleView",
            "_model_name": "DescriptionStyleModel",
            "description_width": "",
            "_view_module": "@jupyter-widgets/base",
            "_model_module_version": "1.5.0",
            "_view_count": null,
            "_view_module_version": "1.2.0",
            "_model_module": "@jupyter-widgets/controls"
          }
        },
        "54a69ae872f342668b0b2084845b5009": {
          "model_module": "@jupyter-widgets/base",
          "model_name": "LayoutModel",
          "state": {
            "_view_name": "LayoutView",
            "grid_template_rows": null,
            "right": null,
            "justify_content": null,
            "_view_module": "@jupyter-widgets/base",
            "overflow": null,
            "_model_module_version": "1.2.0",
            "_view_count": null,
            "flex_flow": null,
            "width": null,
            "min_width": null,
            "border": null,
            "align_items": null,
            "bottom": null,
            "_model_module": "@jupyter-widgets/base",
            "top": null,
            "grid_column": null,
            "overflow_y": null,
            "overflow_x": null,
            "grid_auto_flow": null,
            "grid_area": null,
            "grid_template_columns": null,
            "flex": null,
            "_model_name": "LayoutModel",
            "justify_items": null,
            "grid_row": null,
            "max_height": null,
            "align_content": null,
            "visibility": null,
            "align_self": null,
            "height": null,
            "min_height": null,
            "padding": null,
            "grid_auto_rows": null,
            "grid_gap": null,
            "max_width": null,
            "order": null,
            "_view_module_version": "1.2.0",
            "grid_template_areas": null,
            "object_position": null,
            "object_fit": null,
            "grid_auto_columns": null,
            "margin": null,
            "display": null,
            "left": null
          }
        },
        "9073fd3adb24496b80dce57e577fd3ad": {
          "model_module": "@jupyter-widgets/controls",
          "model_name": "HBoxModel",
          "state": {
            "_view_name": "HBoxView",
            "_dom_classes": [],
            "_model_name": "HBoxModel",
            "_view_module": "@jupyter-widgets/controls",
            "_model_module_version": "1.5.0",
            "_view_count": null,
            "_view_module_version": "1.5.0",
            "box_style": "",
            "layout": "IPY_MODEL_3d6462ea3d2b4f67abb988d98f878c21",
            "_model_module": "@jupyter-widgets/controls",
            "children": [
              "IPY_MODEL_69149fa240d14f449089693e42a7c0f3",
              "IPY_MODEL_474fe3e9e5134242b9fe2f4634e9f5fb"
            ]
          }
        },
        "3d6462ea3d2b4f67abb988d98f878c21": {
          "model_module": "@jupyter-widgets/base",
          "model_name": "LayoutModel",
          "state": {
            "_view_name": "LayoutView",
            "grid_template_rows": null,
            "right": null,
            "justify_content": null,
            "_view_module": "@jupyter-widgets/base",
            "overflow": null,
            "_model_module_version": "1.2.0",
            "_view_count": null,
            "flex_flow": null,
            "width": null,
            "min_width": null,
            "border": null,
            "align_items": null,
            "bottom": null,
            "_model_module": "@jupyter-widgets/base",
            "top": null,
            "grid_column": null,
            "overflow_y": null,
            "overflow_x": null,
            "grid_auto_flow": null,
            "grid_area": null,
            "grid_template_columns": null,
            "flex": null,
            "_model_name": "LayoutModel",
            "justify_items": null,
            "grid_row": null,
            "max_height": null,
            "align_content": null,
            "visibility": null,
            "align_self": null,
            "height": null,
            "min_height": null,
            "padding": null,
            "grid_auto_rows": null,
            "grid_gap": null,
            "max_width": null,
            "order": null,
            "_view_module_version": "1.2.0",
            "grid_template_areas": null,
            "object_position": null,
            "object_fit": null,
            "grid_auto_columns": null,
            "margin": null,
            "display": null,
            "left": null
          }
        },
        "69149fa240d14f449089693e42a7c0f3": {
          "model_module": "@jupyter-widgets/controls",
          "model_name": "FloatProgressModel",
          "state": {
            "_view_name": "ProgressView",
            "style": "IPY_MODEL_12cb9021bb5e46da8f4beeffa81ca1a0",
            "_dom_classes": [],
            "description": "epoch 5: 100%",
            "_model_name": "FloatProgressModel",
            "bar_style": "success",
            "max": 2298,
            "_view_module": "@jupyter-widgets/controls",
            "_model_module_version": "1.5.0",
            "value": 2298,
            "_view_count": null,
            "_view_module_version": "1.5.0",
            "orientation": "horizontal",
            "min": 0,
            "description_tooltip": null,
            "_model_module": "@jupyter-widgets/controls",
            "layout": "IPY_MODEL_84afcea65b434a2eadcc6b838ee4e470"
          }
        },
        "474fe3e9e5134242b9fe2f4634e9f5fb": {
          "model_module": "@jupyter-widgets/controls",
          "model_name": "HTMLModel",
          "state": {
            "_view_name": "HTMLView",
            "style": "IPY_MODEL_63754abb9ac94bc2bb34a7b1416205a4",
            "_dom_classes": [],
            "description": "",
            "_model_name": "HTMLModel",
            "placeholder": "​",
            "_view_module": "@jupyter-widgets/controls",
            "_model_module_version": "1.5.0",
            "value": " 2298/2298 [3:59:52&lt;00:00,  6.26s/batch, mean_loss=0.0243, validation_metric=83.7]",
            "_view_count": null,
            "_view_module_version": "1.5.0",
            "description_tooltip": null,
            "_model_module": "@jupyter-widgets/controls",
            "layout": "IPY_MODEL_5b38ad0cfb6f483989369fdbcfdd6bf0"
          }
        },
        "12cb9021bb5e46da8f4beeffa81ca1a0": {
          "model_module": "@jupyter-widgets/controls",
          "model_name": "ProgressStyleModel",
          "state": {
            "_view_name": "StyleView",
            "_model_name": "ProgressStyleModel",
            "description_width": "initial",
            "_view_module": "@jupyter-widgets/base",
            "_model_module_version": "1.5.0",
            "_view_count": null,
            "_view_module_version": "1.2.0",
            "bar_color": null,
            "_model_module": "@jupyter-widgets/controls"
          }
        },
        "84afcea65b434a2eadcc6b838ee4e470": {
          "model_module": "@jupyter-widgets/base",
          "model_name": "LayoutModel",
          "state": {
            "_view_name": "LayoutView",
            "grid_template_rows": null,
            "right": null,
            "justify_content": null,
            "_view_module": "@jupyter-widgets/base",
            "overflow": null,
            "_model_module_version": "1.2.0",
            "_view_count": null,
            "flex_flow": null,
            "width": null,
            "min_width": null,
            "border": null,
            "align_items": null,
            "bottom": null,
            "_model_module": "@jupyter-widgets/base",
            "top": null,
            "grid_column": null,
            "overflow_y": null,
            "overflow_x": null,
            "grid_auto_flow": null,
            "grid_area": null,
            "grid_template_columns": null,
            "flex": null,
            "_model_name": "LayoutModel",
            "justify_items": null,
            "grid_row": null,
            "max_height": null,
            "align_content": null,
            "visibility": null,
            "align_self": null,
            "height": null,
            "min_height": null,
            "padding": null,
            "grid_auto_rows": null,
            "grid_gap": null,
            "max_width": null,
            "order": null,
            "_view_module_version": "1.2.0",
            "grid_template_areas": null,
            "object_position": null,
            "object_fit": null,
            "grid_auto_columns": null,
            "margin": null,
            "display": null,
            "left": null
          }
        },
        "63754abb9ac94bc2bb34a7b1416205a4": {
          "model_module": "@jupyter-widgets/controls",
          "model_name": "DescriptionStyleModel",
          "state": {
            "_view_name": "StyleView",
            "_model_name": "DescriptionStyleModel",
            "description_width": "",
            "_view_module": "@jupyter-widgets/base",
            "_model_module_version": "1.5.0",
            "_view_count": null,
            "_view_module_version": "1.2.0",
            "_model_module": "@jupyter-widgets/controls"
          }
        },
        "5b38ad0cfb6f483989369fdbcfdd6bf0": {
          "model_module": "@jupyter-widgets/base",
          "model_name": "LayoutModel",
          "state": {
            "_view_name": "LayoutView",
            "grid_template_rows": null,
            "right": null,
            "justify_content": null,
            "_view_module": "@jupyter-widgets/base",
            "overflow": null,
            "_model_module_version": "1.2.0",
            "_view_count": null,
            "flex_flow": null,
            "width": null,
            "min_width": null,
            "border": null,
            "align_items": null,
            "bottom": null,
            "_model_module": "@jupyter-widgets/base",
            "top": null,
            "grid_column": null,
            "overflow_y": null,
            "overflow_x": null,
            "grid_auto_flow": null,
            "grid_area": null,
            "grid_template_columns": null,
            "flex": null,
            "_model_name": "LayoutModel",
            "justify_items": null,
            "grid_row": null,
            "max_height": null,
            "align_content": null,
            "visibility": null,
            "align_self": null,
            "height": null,
            "min_height": null,
            "padding": null,
            "grid_auto_rows": null,
            "grid_gap": null,
            "max_width": null,
            "order": null,
            "_view_module_version": "1.2.0",
            "grid_template_areas": null,
            "object_position": null,
            "object_fit": null,
            "grid_auto_columns": null,
            "margin": null,
            "display": null,
            "left": null
          }
        },
        "188ea0ca7e9a4ff5bed0ef69bd0ad2a7": {
          "model_module": "@jupyter-widgets/controls",
          "model_name": "HBoxModel",
          "state": {
            "_view_name": "HBoxView",
            "_dom_classes": [],
            "_model_name": "HBoxModel",
            "_view_module": "@jupyter-widgets/controls",
            "_model_module_version": "1.5.0",
            "_view_count": null,
            "_view_module_version": "1.5.0",
            "box_style": "",
            "layout": "IPY_MODEL_ab04f6513e8e4ce6be3eaa06e49b06dd",
            "_model_module": "@jupyter-widgets/controls",
            "children": [
              "IPY_MODEL_ead77feaf6a14cd887105ac42efc32e2",
              "IPY_MODEL_80aa6319f8444582808f252fa6338f7a"
            ]
          }
        },
        "ab04f6513e8e4ce6be3eaa06e49b06dd": {
          "model_module": "@jupyter-widgets/base",
          "model_name": "LayoutModel",
          "state": {
            "_view_name": "LayoutView",
            "grid_template_rows": null,
            "right": null,
            "justify_content": null,
            "_view_module": "@jupyter-widgets/base",
            "overflow": null,
            "_model_module_version": "1.2.0",
            "_view_count": null,
            "flex_flow": null,
            "width": null,
            "min_width": null,
            "border": null,
            "align_items": null,
            "bottom": null,
            "_model_module": "@jupyter-widgets/base",
            "top": null,
            "grid_column": null,
            "overflow_y": null,
            "overflow_x": null,
            "grid_auto_flow": null,
            "grid_area": null,
            "grid_template_columns": null,
            "flex": null,
            "_model_name": "LayoutModel",
            "justify_items": null,
            "grid_row": null,
            "max_height": null,
            "align_content": null,
            "visibility": null,
            "align_self": null,
            "height": null,
            "min_height": null,
            "padding": null,
            "grid_auto_rows": null,
            "grid_gap": null,
            "max_width": null,
            "order": null,
            "_view_module_version": "1.2.0",
            "grid_template_areas": null,
            "object_position": null,
            "object_fit": null,
            "grid_auto_columns": null,
            "margin": null,
            "display": null,
            "left": null
          }
        },
        "ead77feaf6a14cd887105ac42efc32e2": {
          "model_module": "@jupyter-widgets/controls",
          "model_name": "FloatProgressModel",
          "state": {
            "_view_name": "ProgressView",
            "style": "IPY_MODEL_b541611cd3ff444f91bf7178bc1b49f0",
            "_dom_classes": [],
            "description": "epoch 6: 100%",
            "_model_name": "FloatProgressModel",
            "bar_style": "success",
            "max": 2298,
            "_view_module": "@jupyter-widgets/controls",
            "_model_module_version": "1.5.0",
            "value": 2298,
            "_view_count": null,
            "_view_module_version": "1.5.0",
            "orientation": "horizontal",
            "min": 0,
            "description_tooltip": null,
            "_model_module": "@jupyter-widgets/controls",
            "layout": "IPY_MODEL_72d208dbc4a04ff7b1c7eff9e3f88449"
          }
        },
        "80aa6319f8444582808f252fa6338f7a": {
          "model_module": "@jupyter-widgets/controls",
          "model_name": "HTMLModel",
          "state": {
            "_view_name": "HTMLView",
            "style": "IPY_MODEL_6edddc6768dd4dc9b3553a75a40937ce",
            "_dom_classes": [],
            "description": "",
            "_model_name": "HTMLModel",
            "placeholder": "​",
            "_view_module": "@jupyter-widgets/controls",
            "_model_module_version": "1.5.0",
            "value": " 2298/2298 [3:44:32&lt;00:00,  5.86s/batch, mean_loss=0.0222, validation_metric=84.2]",
            "_view_count": null,
            "_view_module_version": "1.5.0",
            "description_tooltip": null,
            "_model_module": "@jupyter-widgets/controls",
            "layout": "IPY_MODEL_19da1c94be964bfeb59ba380d90b7a47"
          }
        },
        "b541611cd3ff444f91bf7178bc1b49f0": {
          "model_module": "@jupyter-widgets/controls",
          "model_name": "ProgressStyleModel",
          "state": {
            "_view_name": "StyleView",
            "_model_name": "ProgressStyleModel",
            "description_width": "initial",
            "_view_module": "@jupyter-widgets/base",
            "_model_module_version": "1.5.0",
            "_view_count": null,
            "_view_module_version": "1.2.0",
            "bar_color": null,
            "_model_module": "@jupyter-widgets/controls"
          }
        },
        "72d208dbc4a04ff7b1c7eff9e3f88449": {
          "model_module": "@jupyter-widgets/base",
          "model_name": "LayoutModel",
          "state": {
            "_view_name": "LayoutView",
            "grid_template_rows": null,
            "right": null,
            "justify_content": null,
            "_view_module": "@jupyter-widgets/base",
            "overflow": null,
            "_model_module_version": "1.2.0",
            "_view_count": null,
            "flex_flow": null,
            "width": null,
            "min_width": null,
            "border": null,
            "align_items": null,
            "bottom": null,
            "_model_module": "@jupyter-widgets/base",
            "top": null,
            "grid_column": null,
            "overflow_y": null,
            "overflow_x": null,
            "grid_auto_flow": null,
            "grid_area": null,
            "grid_template_columns": null,
            "flex": null,
            "_model_name": "LayoutModel",
            "justify_items": null,
            "grid_row": null,
            "max_height": null,
            "align_content": null,
            "visibility": null,
            "align_self": null,
            "height": null,
            "min_height": null,
            "padding": null,
            "grid_auto_rows": null,
            "grid_gap": null,
            "max_width": null,
            "order": null,
            "_view_module_version": "1.2.0",
            "grid_template_areas": null,
            "object_position": null,
            "object_fit": null,
            "grid_auto_columns": null,
            "margin": null,
            "display": null,
            "left": null
          }
        },
        "6edddc6768dd4dc9b3553a75a40937ce": {
          "model_module": "@jupyter-widgets/controls",
          "model_name": "DescriptionStyleModel",
          "state": {
            "_view_name": "StyleView",
            "_model_name": "DescriptionStyleModel",
            "description_width": "",
            "_view_module": "@jupyter-widgets/base",
            "_model_module_version": "1.5.0",
            "_view_count": null,
            "_view_module_version": "1.2.0",
            "_model_module": "@jupyter-widgets/controls"
          }
        },
        "19da1c94be964bfeb59ba380d90b7a47": {
          "model_module": "@jupyter-widgets/base",
          "model_name": "LayoutModel",
          "state": {
            "_view_name": "LayoutView",
            "grid_template_rows": null,
            "right": null,
            "justify_content": null,
            "_view_module": "@jupyter-widgets/base",
            "overflow": null,
            "_model_module_version": "1.2.0",
            "_view_count": null,
            "flex_flow": null,
            "width": null,
            "min_width": null,
            "border": null,
            "align_items": null,
            "bottom": null,
            "_model_module": "@jupyter-widgets/base",
            "top": null,
            "grid_column": null,
            "overflow_y": null,
            "overflow_x": null,
            "grid_auto_flow": null,
            "grid_area": null,
            "grid_template_columns": null,
            "flex": null,
            "_model_name": "LayoutModel",
            "justify_items": null,
            "grid_row": null,
            "max_height": null,
            "align_content": null,
            "visibility": null,
            "align_self": null,
            "height": null,
            "min_height": null,
            "padding": null,
            "grid_auto_rows": null,
            "grid_gap": null,
            "max_width": null,
            "order": null,
            "_view_module_version": "1.2.0",
            "grid_template_areas": null,
            "object_position": null,
            "object_fit": null,
            "grid_auto_columns": null,
            "margin": null,
            "display": null,
            "left": null
          }
        },
        "2133c3cb5eac448c936e6353d6b108d8": {
          "model_module": "@jupyter-widgets/controls",
          "model_name": "HBoxModel",
          "state": {
            "_view_name": "HBoxView",
            "_dom_classes": [],
            "_model_name": "HBoxModel",
            "_view_module": "@jupyter-widgets/controls",
            "_model_module_version": "1.5.0",
            "_view_count": null,
            "_view_module_version": "1.5.0",
            "box_style": "",
            "layout": "IPY_MODEL_0acd6cbd457a4aea80b23ebb73a66089",
            "_model_module": "@jupyter-widgets/controls",
            "children": [
              "IPY_MODEL_ca09ee63e1e44132bfabff2c775feda7",
              "IPY_MODEL_02e8e5e8314c45688e7d91d0e3a43acb"
            ]
          }
        },
        "0acd6cbd457a4aea80b23ebb73a66089": {
          "model_module": "@jupyter-widgets/base",
          "model_name": "LayoutModel",
          "state": {
            "_view_name": "LayoutView",
            "grid_template_rows": null,
            "right": null,
            "justify_content": null,
            "_view_module": "@jupyter-widgets/base",
            "overflow": null,
            "_model_module_version": "1.2.0",
            "_view_count": null,
            "flex_flow": null,
            "width": null,
            "min_width": null,
            "border": null,
            "align_items": null,
            "bottom": null,
            "_model_module": "@jupyter-widgets/base",
            "top": null,
            "grid_column": null,
            "overflow_y": null,
            "overflow_x": null,
            "grid_auto_flow": null,
            "grid_area": null,
            "grid_template_columns": null,
            "flex": null,
            "_model_name": "LayoutModel",
            "justify_items": null,
            "grid_row": null,
            "max_height": null,
            "align_content": null,
            "visibility": null,
            "align_self": null,
            "height": null,
            "min_height": null,
            "padding": null,
            "grid_auto_rows": null,
            "grid_gap": null,
            "max_width": null,
            "order": null,
            "_view_module_version": "1.2.0",
            "grid_template_areas": null,
            "object_position": null,
            "object_fit": null,
            "grid_auto_columns": null,
            "margin": null,
            "display": null,
            "left": null
          }
        },
        "ca09ee63e1e44132bfabff2c775feda7": {
          "model_module": "@jupyter-widgets/controls",
          "model_name": "FloatProgressModel",
          "state": {
            "_view_name": "ProgressView",
            "style": "IPY_MODEL_9c6619cf53504a47b446b904977eb5d7",
            "_dom_classes": [],
            "description": "epoch 7: 100%",
            "_model_name": "FloatProgressModel",
            "bar_style": "success",
            "max": 2298,
            "_view_module": "@jupyter-widgets/controls",
            "_model_module_version": "1.5.0",
            "value": 2298,
            "_view_count": null,
            "_view_module_version": "1.5.0",
            "orientation": "horizontal",
            "min": 0,
            "description_tooltip": null,
            "_model_module": "@jupyter-widgets/controls",
            "layout": "IPY_MODEL_3d88f22326e44e739af1e42ead71851e"
          }
        },
        "02e8e5e8314c45688e7d91d0e3a43acb": {
          "model_module": "@jupyter-widgets/controls",
          "model_name": "HTMLModel",
          "state": {
            "_view_name": "HTMLView",
            "style": "IPY_MODEL_f04109f1f01f4463b43d5816ede8d7b9",
            "_dom_classes": [],
            "description": "",
            "_model_name": "HTMLModel",
            "placeholder": "​",
            "_view_module": "@jupyter-widgets/controls",
            "_model_module_version": "1.5.0",
            "value": " 2298/2298 [3:29:25&lt;00:00,  5.47s/batch, mean_loss=0.0203, validation_metric=85.4]",
            "_view_count": null,
            "_view_module_version": "1.5.0",
            "description_tooltip": null,
            "_model_module": "@jupyter-widgets/controls",
            "layout": "IPY_MODEL_6ae341145b0a4497a57955f4111bbb02"
          }
        },
        "9c6619cf53504a47b446b904977eb5d7": {
          "model_module": "@jupyter-widgets/controls",
          "model_name": "ProgressStyleModel",
          "state": {
            "_view_name": "StyleView",
            "_model_name": "ProgressStyleModel",
            "description_width": "initial",
            "_view_module": "@jupyter-widgets/base",
            "_model_module_version": "1.5.0",
            "_view_count": null,
            "_view_module_version": "1.2.0",
            "bar_color": null,
            "_model_module": "@jupyter-widgets/controls"
          }
        },
        "3d88f22326e44e739af1e42ead71851e": {
          "model_module": "@jupyter-widgets/base",
          "model_name": "LayoutModel",
          "state": {
            "_view_name": "LayoutView",
            "grid_template_rows": null,
            "right": null,
            "justify_content": null,
            "_view_module": "@jupyter-widgets/base",
            "overflow": null,
            "_model_module_version": "1.2.0",
            "_view_count": null,
            "flex_flow": null,
            "width": null,
            "min_width": null,
            "border": null,
            "align_items": null,
            "bottom": null,
            "_model_module": "@jupyter-widgets/base",
            "top": null,
            "grid_column": null,
            "overflow_y": null,
            "overflow_x": null,
            "grid_auto_flow": null,
            "grid_area": null,
            "grid_template_columns": null,
            "flex": null,
            "_model_name": "LayoutModel",
            "justify_items": null,
            "grid_row": null,
            "max_height": null,
            "align_content": null,
            "visibility": null,
            "align_self": null,
            "height": null,
            "min_height": null,
            "padding": null,
            "grid_auto_rows": null,
            "grid_gap": null,
            "max_width": null,
            "order": null,
            "_view_module_version": "1.2.0",
            "grid_template_areas": null,
            "object_position": null,
            "object_fit": null,
            "grid_auto_columns": null,
            "margin": null,
            "display": null,
            "left": null
          }
        },
        "f04109f1f01f4463b43d5816ede8d7b9": {
          "model_module": "@jupyter-widgets/controls",
          "model_name": "DescriptionStyleModel",
          "state": {
            "_view_name": "StyleView",
            "_model_name": "DescriptionStyleModel",
            "description_width": "",
            "_view_module": "@jupyter-widgets/base",
            "_model_module_version": "1.5.0",
            "_view_count": null,
            "_view_module_version": "1.2.0",
            "_model_module": "@jupyter-widgets/controls"
          }
        },
        "6ae341145b0a4497a57955f4111bbb02": {
          "model_module": "@jupyter-widgets/base",
          "model_name": "LayoutModel",
          "state": {
            "_view_name": "LayoutView",
            "grid_template_rows": null,
            "right": null,
            "justify_content": null,
            "_view_module": "@jupyter-widgets/base",
            "overflow": null,
            "_model_module_version": "1.2.0",
            "_view_count": null,
            "flex_flow": null,
            "width": null,
            "min_width": null,
            "border": null,
            "align_items": null,
            "bottom": null,
            "_model_module": "@jupyter-widgets/base",
            "top": null,
            "grid_column": null,
            "overflow_y": null,
            "overflow_x": null,
            "grid_auto_flow": null,
            "grid_area": null,
            "grid_template_columns": null,
            "flex": null,
            "_model_name": "LayoutModel",
            "justify_items": null,
            "grid_row": null,
            "max_height": null,
            "align_content": null,
            "visibility": null,
            "align_self": null,
            "height": null,
            "min_height": null,
            "padding": null,
            "grid_auto_rows": null,
            "grid_gap": null,
            "max_width": null,
            "order": null,
            "_view_module_version": "1.2.0",
            "grid_template_areas": null,
            "object_position": null,
            "object_fit": null,
            "grid_auto_columns": null,
            "margin": null,
            "display": null,
            "left": null
          }
        },
        "79cd21426ad34d5695d3959dd9a3dba9": {
          "model_module": "@jupyter-widgets/controls",
          "model_name": "HBoxModel",
          "state": {
            "_view_name": "HBoxView",
            "_dom_classes": [],
            "_model_name": "HBoxModel",
            "_view_module": "@jupyter-widgets/controls",
            "_model_module_version": "1.5.0",
            "_view_count": null,
            "_view_module_version": "1.5.0",
            "box_style": "",
            "layout": "IPY_MODEL_57b46a868da34175a2647791dc8dffa9",
            "_model_module": "@jupyter-widgets/controls",
            "children": [
              "IPY_MODEL_d7c30e4d97ab474ab8fcf3fc90200598",
              "IPY_MODEL_0556994de3414effb98f62ab84da4c5b"
            ]
          }
        },
        "57b46a868da34175a2647791dc8dffa9": {
          "model_module": "@jupyter-widgets/base",
          "model_name": "LayoutModel",
          "state": {
            "_view_name": "LayoutView",
            "grid_template_rows": null,
            "right": null,
            "justify_content": null,
            "_view_module": "@jupyter-widgets/base",
            "overflow": null,
            "_model_module_version": "1.2.0",
            "_view_count": null,
            "flex_flow": null,
            "width": null,
            "min_width": null,
            "border": null,
            "align_items": null,
            "bottom": null,
            "_model_module": "@jupyter-widgets/base",
            "top": null,
            "grid_column": null,
            "overflow_y": null,
            "overflow_x": null,
            "grid_auto_flow": null,
            "grid_area": null,
            "grid_template_columns": null,
            "flex": null,
            "_model_name": "LayoutModel",
            "justify_items": null,
            "grid_row": null,
            "max_height": null,
            "align_content": null,
            "visibility": null,
            "align_self": null,
            "height": null,
            "min_height": null,
            "padding": null,
            "grid_auto_rows": null,
            "grid_gap": null,
            "max_width": null,
            "order": null,
            "_view_module_version": "1.2.0",
            "grid_template_areas": null,
            "object_position": null,
            "object_fit": null,
            "grid_auto_columns": null,
            "margin": null,
            "display": null,
            "left": null
          }
        },
        "d7c30e4d97ab474ab8fcf3fc90200598": {
          "model_module": "@jupyter-widgets/controls",
          "model_name": "FloatProgressModel",
          "state": {
            "_view_name": "ProgressView",
            "style": "IPY_MODEL_905c6f4bb79e46bcb57ab6104ca9eb2e",
            "_dom_classes": [],
            "description": "epoch 8: 100%",
            "_model_name": "FloatProgressModel",
            "bar_style": "success",
            "max": 2298,
            "_view_module": "@jupyter-widgets/controls",
            "_model_module_version": "1.5.0",
            "value": 2298,
            "_view_count": null,
            "_view_module_version": "1.5.0",
            "orientation": "horizontal",
            "min": 0,
            "description_tooltip": null,
            "_model_module": "@jupyter-widgets/controls",
            "layout": "IPY_MODEL_2028dc92a23747fd86b5865600fbd379"
          }
        },
        "0556994de3414effb98f62ab84da4c5b": {
          "model_module": "@jupyter-widgets/controls",
          "model_name": "HTMLModel",
          "state": {
            "_view_name": "HTMLView",
            "style": "IPY_MODEL_8856e8a4dad14583847a18324af5ea47",
            "_dom_classes": [],
            "description": "",
            "_model_name": "HTMLModel",
            "placeholder": "​",
            "_view_module": "@jupyter-widgets/controls",
            "_model_module_version": "1.5.0",
            "value": " 2298/2298 [3:14:11&lt;00:00,  5.07s/batch, mean_loss=0.0185, validation_metric=85.6]",
            "_view_count": null,
            "_view_module_version": "1.5.0",
            "description_tooltip": null,
            "_model_module": "@jupyter-widgets/controls",
            "layout": "IPY_MODEL_89a64f6086364d0ea8ef73011bca528a"
          }
        },
        "905c6f4bb79e46bcb57ab6104ca9eb2e": {
          "model_module": "@jupyter-widgets/controls",
          "model_name": "ProgressStyleModel",
          "state": {
            "_view_name": "StyleView",
            "_model_name": "ProgressStyleModel",
            "description_width": "initial",
            "_view_module": "@jupyter-widgets/base",
            "_model_module_version": "1.5.0",
            "_view_count": null,
            "_view_module_version": "1.2.0",
            "bar_color": null,
            "_model_module": "@jupyter-widgets/controls"
          }
        },
        "2028dc92a23747fd86b5865600fbd379": {
          "model_module": "@jupyter-widgets/base",
          "model_name": "LayoutModel",
          "state": {
            "_view_name": "LayoutView",
            "grid_template_rows": null,
            "right": null,
            "justify_content": null,
            "_view_module": "@jupyter-widgets/base",
            "overflow": null,
            "_model_module_version": "1.2.0",
            "_view_count": null,
            "flex_flow": null,
            "width": null,
            "min_width": null,
            "border": null,
            "align_items": null,
            "bottom": null,
            "_model_module": "@jupyter-widgets/base",
            "top": null,
            "grid_column": null,
            "overflow_y": null,
            "overflow_x": null,
            "grid_auto_flow": null,
            "grid_area": null,
            "grid_template_columns": null,
            "flex": null,
            "_model_name": "LayoutModel",
            "justify_items": null,
            "grid_row": null,
            "max_height": null,
            "align_content": null,
            "visibility": null,
            "align_self": null,
            "height": null,
            "min_height": null,
            "padding": null,
            "grid_auto_rows": null,
            "grid_gap": null,
            "max_width": null,
            "order": null,
            "_view_module_version": "1.2.0",
            "grid_template_areas": null,
            "object_position": null,
            "object_fit": null,
            "grid_auto_columns": null,
            "margin": null,
            "display": null,
            "left": null
          }
        },
        "8856e8a4dad14583847a18324af5ea47": {
          "model_module": "@jupyter-widgets/controls",
          "model_name": "DescriptionStyleModel",
          "state": {
            "_view_name": "StyleView",
            "_model_name": "DescriptionStyleModel",
            "description_width": "",
            "_view_module": "@jupyter-widgets/base",
            "_model_module_version": "1.5.0",
            "_view_count": null,
            "_view_module_version": "1.2.0",
            "_model_module": "@jupyter-widgets/controls"
          }
        },
        "89a64f6086364d0ea8ef73011bca528a": {
          "model_module": "@jupyter-widgets/base",
          "model_name": "LayoutModel",
          "state": {
            "_view_name": "LayoutView",
            "grid_template_rows": null,
            "right": null,
            "justify_content": null,
            "_view_module": "@jupyter-widgets/base",
            "overflow": null,
            "_model_module_version": "1.2.0",
            "_view_count": null,
            "flex_flow": null,
            "width": null,
            "min_width": null,
            "border": null,
            "align_items": null,
            "bottom": null,
            "_model_module": "@jupyter-widgets/base",
            "top": null,
            "grid_column": null,
            "overflow_y": null,
            "overflow_x": null,
            "grid_auto_flow": null,
            "grid_area": null,
            "grid_template_columns": null,
            "flex": null,
            "_model_name": "LayoutModel",
            "justify_items": null,
            "grid_row": null,
            "max_height": null,
            "align_content": null,
            "visibility": null,
            "align_self": null,
            "height": null,
            "min_height": null,
            "padding": null,
            "grid_auto_rows": null,
            "grid_gap": null,
            "max_width": null,
            "order": null,
            "_view_module_version": "1.2.0",
            "grid_template_areas": null,
            "object_position": null,
            "object_fit": null,
            "grid_auto_columns": null,
            "margin": null,
            "display": null,
            "left": null
          }
        },
        "99114ce1cdd94e38b7c4217b3a2bd094": {
          "model_module": "@jupyter-widgets/controls",
          "model_name": "HBoxModel",
          "state": {
            "_view_name": "HBoxView",
            "_dom_classes": [],
            "_model_name": "HBoxModel",
            "_view_module": "@jupyter-widgets/controls",
            "_model_module_version": "1.5.0",
            "_view_count": null,
            "_view_module_version": "1.5.0",
            "box_style": "",
            "layout": "IPY_MODEL_1c61cd09f3c2454184158d4a95e1b69e",
            "_model_module": "@jupyter-widgets/controls",
            "children": [
              "IPY_MODEL_0ea30ea51d2b46159efe1d32f30a03fa",
              "IPY_MODEL_9b13aa46a9ef4f0ebf80e325f16d693d"
            ]
          }
        },
        "1c61cd09f3c2454184158d4a95e1b69e": {
          "model_module": "@jupyter-widgets/base",
          "model_name": "LayoutModel",
          "state": {
            "_view_name": "LayoutView",
            "grid_template_rows": null,
            "right": null,
            "justify_content": null,
            "_view_module": "@jupyter-widgets/base",
            "overflow": null,
            "_model_module_version": "1.2.0",
            "_view_count": null,
            "flex_flow": null,
            "width": null,
            "min_width": null,
            "border": null,
            "align_items": null,
            "bottom": null,
            "_model_module": "@jupyter-widgets/base",
            "top": null,
            "grid_column": null,
            "overflow_y": null,
            "overflow_x": null,
            "grid_auto_flow": null,
            "grid_area": null,
            "grid_template_columns": null,
            "flex": null,
            "_model_name": "LayoutModel",
            "justify_items": null,
            "grid_row": null,
            "max_height": null,
            "align_content": null,
            "visibility": null,
            "align_self": null,
            "height": null,
            "min_height": null,
            "padding": null,
            "grid_auto_rows": null,
            "grid_gap": null,
            "max_width": null,
            "order": null,
            "_view_module_version": "1.2.0",
            "grid_template_areas": null,
            "object_position": null,
            "object_fit": null,
            "grid_auto_columns": null,
            "margin": null,
            "display": null,
            "left": null
          }
        },
        "0ea30ea51d2b46159efe1d32f30a03fa": {
          "model_module": "@jupyter-widgets/controls",
          "model_name": "FloatProgressModel",
          "state": {
            "_view_name": "ProgressView",
            "style": "IPY_MODEL_7bbee6dc59134123a754e9026056832d",
            "_dom_classes": [],
            "description": "epoch 9: 100%",
            "_model_name": "FloatProgressModel",
            "bar_style": "success",
            "max": 2298,
            "_view_module": "@jupyter-widgets/controls",
            "_model_module_version": "1.5.0",
            "value": 2298,
            "_view_count": null,
            "_view_module_version": "1.5.0",
            "orientation": "horizontal",
            "min": 0,
            "description_tooltip": null,
            "_model_module": "@jupyter-widgets/controls",
            "layout": "IPY_MODEL_8091c7642a88430d9264842ec62e1aae"
          }
        },
        "9b13aa46a9ef4f0ebf80e325f16d693d": {
          "model_module": "@jupyter-widgets/controls",
          "model_name": "HTMLModel",
          "state": {
            "_view_name": "HTMLView",
            "style": "IPY_MODEL_13c85f5187eb4ba4b2aebc9186ee747e",
            "_dom_classes": [],
            "description": "",
            "_model_name": "HTMLModel",
            "placeholder": "​",
            "_view_module": "@jupyter-widgets/controls",
            "_model_module_version": "1.5.0",
            "value": " 2298/2298 [2:59:02&lt;00:00,  4.67s/batch, mean_loss=0.0167, validation_metric=86]",
            "_view_count": null,
            "_view_module_version": "1.5.0",
            "description_tooltip": null,
            "_model_module": "@jupyter-widgets/controls",
            "layout": "IPY_MODEL_0b69e5a82de34ef59b2e64d9d2ed8de5"
          }
        },
        "7bbee6dc59134123a754e9026056832d": {
          "model_module": "@jupyter-widgets/controls",
          "model_name": "ProgressStyleModel",
          "state": {
            "_view_name": "StyleView",
            "_model_name": "ProgressStyleModel",
            "description_width": "initial",
            "_view_module": "@jupyter-widgets/base",
            "_model_module_version": "1.5.0",
            "_view_count": null,
            "_view_module_version": "1.2.0",
            "bar_color": null,
            "_model_module": "@jupyter-widgets/controls"
          }
        },
        "8091c7642a88430d9264842ec62e1aae": {
          "model_module": "@jupyter-widgets/base",
          "model_name": "LayoutModel",
          "state": {
            "_view_name": "LayoutView",
            "grid_template_rows": null,
            "right": null,
            "justify_content": null,
            "_view_module": "@jupyter-widgets/base",
            "overflow": null,
            "_model_module_version": "1.2.0",
            "_view_count": null,
            "flex_flow": null,
            "width": null,
            "min_width": null,
            "border": null,
            "align_items": null,
            "bottom": null,
            "_model_module": "@jupyter-widgets/base",
            "top": null,
            "grid_column": null,
            "overflow_y": null,
            "overflow_x": null,
            "grid_auto_flow": null,
            "grid_area": null,
            "grid_template_columns": null,
            "flex": null,
            "_model_name": "LayoutModel",
            "justify_items": null,
            "grid_row": null,
            "max_height": null,
            "align_content": null,
            "visibility": null,
            "align_self": null,
            "height": null,
            "min_height": null,
            "padding": null,
            "grid_auto_rows": null,
            "grid_gap": null,
            "max_width": null,
            "order": null,
            "_view_module_version": "1.2.0",
            "grid_template_areas": null,
            "object_position": null,
            "object_fit": null,
            "grid_auto_columns": null,
            "margin": null,
            "display": null,
            "left": null
          }
        },
        "13c85f5187eb4ba4b2aebc9186ee747e": {
          "model_module": "@jupyter-widgets/controls",
          "model_name": "DescriptionStyleModel",
          "state": {
            "_view_name": "StyleView",
            "_model_name": "DescriptionStyleModel",
            "description_width": "",
            "_view_module": "@jupyter-widgets/base",
            "_model_module_version": "1.5.0",
            "_view_count": null,
            "_view_module_version": "1.2.0",
            "_model_module": "@jupyter-widgets/controls"
          }
        },
        "0b69e5a82de34ef59b2e64d9d2ed8de5": {
          "model_module": "@jupyter-widgets/base",
          "model_name": "LayoutModel",
          "state": {
            "_view_name": "LayoutView",
            "grid_template_rows": null,
            "right": null,
            "justify_content": null,
            "_view_module": "@jupyter-widgets/base",
            "overflow": null,
            "_model_module_version": "1.2.0",
            "_view_count": null,
            "flex_flow": null,
            "width": null,
            "min_width": null,
            "border": null,
            "align_items": null,
            "bottom": null,
            "_model_module": "@jupyter-widgets/base",
            "top": null,
            "grid_column": null,
            "overflow_y": null,
            "overflow_x": null,
            "grid_auto_flow": null,
            "grid_area": null,
            "grid_template_columns": null,
            "flex": null,
            "_model_name": "LayoutModel",
            "justify_items": null,
            "grid_row": null,
            "max_height": null,
            "align_content": null,
            "visibility": null,
            "align_self": null,
            "height": null,
            "min_height": null,
            "padding": null,
            "grid_auto_rows": null,
            "grid_gap": null,
            "max_width": null,
            "order": null,
            "_view_module_version": "1.2.0",
            "grid_template_areas": null,
            "object_position": null,
            "object_fit": null,
            "grid_auto_columns": null,
            "margin": null,
            "display": null,
            "left": null
          }
        },
        "a0903c50c0074d0f9725a9c8f2468b8b": {
          "model_module": "@jupyter-widgets/controls",
          "model_name": "HBoxModel",
          "state": {
            "_view_name": "HBoxView",
            "_dom_classes": [],
            "_model_name": "HBoxModel",
            "_view_module": "@jupyter-widgets/controls",
            "_model_module_version": "1.5.0",
            "_view_count": null,
            "_view_module_version": "1.5.0",
            "box_style": "",
            "layout": "IPY_MODEL_ea69ea8ac4d44b99aa7992f312a1cb0a",
            "_model_module": "@jupyter-widgets/controls",
            "children": [
              "IPY_MODEL_561531ec18054c25b97cdeabf6d7971f",
              "IPY_MODEL_4200ea2468714c27ac558990d6207e8e"
            ]
          }
        },
        "ea69ea8ac4d44b99aa7992f312a1cb0a": {
          "model_module": "@jupyter-widgets/base",
          "model_name": "LayoutModel",
          "state": {
            "_view_name": "LayoutView",
            "grid_template_rows": null,
            "right": null,
            "justify_content": null,
            "_view_module": "@jupyter-widgets/base",
            "overflow": null,
            "_model_module_version": "1.2.0",
            "_view_count": null,
            "flex_flow": null,
            "width": null,
            "min_width": null,
            "border": null,
            "align_items": null,
            "bottom": null,
            "_model_module": "@jupyter-widgets/base",
            "top": null,
            "grid_column": null,
            "overflow_y": null,
            "overflow_x": null,
            "grid_auto_flow": null,
            "grid_area": null,
            "grid_template_columns": null,
            "flex": null,
            "_model_name": "LayoutModel",
            "justify_items": null,
            "grid_row": null,
            "max_height": null,
            "align_content": null,
            "visibility": null,
            "align_self": null,
            "height": null,
            "min_height": null,
            "padding": null,
            "grid_auto_rows": null,
            "grid_gap": null,
            "max_width": null,
            "order": null,
            "_view_module_version": "1.2.0",
            "grid_template_areas": null,
            "object_position": null,
            "object_fit": null,
            "grid_auto_columns": null,
            "margin": null,
            "display": null,
            "left": null
          }
        },
        "561531ec18054c25b97cdeabf6d7971f": {
          "model_module": "@jupyter-widgets/controls",
          "model_name": "FloatProgressModel",
          "state": {
            "_view_name": "ProgressView",
            "style": "IPY_MODEL_cc869ce6b6374f559ef976c50138a55f",
            "_dom_classes": [],
            "description": "epoch 10: 100%",
            "_model_name": "FloatProgressModel",
            "bar_style": "success",
            "max": 2298,
            "_view_module": "@jupyter-widgets/controls",
            "_model_module_version": "1.5.0",
            "value": 2298,
            "_view_count": null,
            "_view_module_version": "1.5.0",
            "orientation": "horizontal",
            "min": 0,
            "description_tooltip": null,
            "_model_module": "@jupyter-widgets/controls",
            "layout": "IPY_MODEL_3a62626e32fb41899b8840fd48d1d147"
          }
        },
        "4200ea2468714c27ac558990d6207e8e": {
          "model_module": "@jupyter-widgets/controls",
          "model_name": "HTMLModel",
          "state": {
            "_view_name": "HTMLView",
            "style": "IPY_MODEL_7aa621ccf8794754b4c756dd5e7531d0",
            "_dom_classes": [],
            "description": "",
            "_model_name": "HTMLModel",
            "placeholder": "​",
            "_view_module": "@jupyter-widgets/controls",
            "_model_module_version": "1.5.0",
            "value": " 2298/2298 [2:43:56&lt;00:00,  4.28s/batch, mean_loss=0.015, validation_metric=86.9]",
            "_view_count": null,
            "_view_module_version": "1.5.0",
            "description_tooltip": null,
            "_model_module": "@jupyter-widgets/controls",
            "layout": "IPY_MODEL_0685552c4bbf49c0ad4439d66a867772"
          }
        },
        "cc869ce6b6374f559ef976c50138a55f": {
          "model_module": "@jupyter-widgets/controls",
          "model_name": "ProgressStyleModel",
          "state": {
            "_view_name": "StyleView",
            "_model_name": "ProgressStyleModel",
            "description_width": "initial",
            "_view_module": "@jupyter-widgets/base",
            "_model_module_version": "1.5.0",
            "_view_count": null,
            "_view_module_version": "1.2.0",
            "bar_color": null,
            "_model_module": "@jupyter-widgets/controls"
          }
        },
        "3a62626e32fb41899b8840fd48d1d147": {
          "model_module": "@jupyter-widgets/base",
          "model_name": "LayoutModel",
          "state": {
            "_view_name": "LayoutView",
            "grid_template_rows": null,
            "right": null,
            "justify_content": null,
            "_view_module": "@jupyter-widgets/base",
            "overflow": null,
            "_model_module_version": "1.2.0",
            "_view_count": null,
            "flex_flow": null,
            "width": null,
            "min_width": null,
            "border": null,
            "align_items": null,
            "bottom": null,
            "_model_module": "@jupyter-widgets/base",
            "top": null,
            "grid_column": null,
            "overflow_y": null,
            "overflow_x": null,
            "grid_auto_flow": null,
            "grid_area": null,
            "grid_template_columns": null,
            "flex": null,
            "_model_name": "LayoutModel",
            "justify_items": null,
            "grid_row": null,
            "max_height": null,
            "align_content": null,
            "visibility": null,
            "align_self": null,
            "height": null,
            "min_height": null,
            "padding": null,
            "grid_auto_rows": null,
            "grid_gap": null,
            "max_width": null,
            "order": null,
            "_view_module_version": "1.2.0",
            "grid_template_areas": null,
            "object_position": null,
            "object_fit": null,
            "grid_auto_columns": null,
            "margin": null,
            "display": null,
            "left": null
          }
        },
        "7aa621ccf8794754b4c756dd5e7531d0": {
          "model_module": "@jupyter-widgets/controls",
          "model_name": "DescriptionStyleModel",
          "state": {
            "_view_name": "StyleView",
            "_model_name": "DescriptionStyleModel",
            "description_width": "",
            "_view_module": "@jupyter-widgets/base",
            "_model_module_version": "1.5.0",
            "_view_count": null,
            "_view_module_version": "1.2.0",
            "_model_module": "@jupyter-widgets/controls"
          }
        },
        "0685552c4bbf49c0ad4439d66a867772": {
          "model_module": "@jupyter-widgets/base",
          "model_name": "LayoutModel",
          "state": {
            "_view_name": "LayoutView",
            "grid_template_rows": null,
            "right": null,
            "justify_content": null,
            "_view_module": "@jupyter-widgets/base",
            "overflow": null,
            "_model_module_version": "1.2.0",
            "_view_count": null,
            "flex_flow": null,
            "width": null,
            "min_width": null,
            "border": null,
            "align_items": null,
            "bottom": null,
            "_model_module": "@jupyter-widgets/base",
            "top": null,
            "grid_column": null,
            "overflow_y": null,
            "overflow_x": null,
            "grid_auto_flow": null,
            "grid_area": null,
            "grid_template_columns": null,
            "flex": null,
            "_model_name": "LayoutModel",
            "justify_items": null,
            "grid_row": null,
            "max_height": null,
            "align_content": null,
            "visibility": null,
            "align_self": null,
            "height": null,
            "min_height": null,
            "padding": null,
            "grid_auto_rows": null,
            "grid_gap": null,
            "max_width": null,
            "order": null,
            "_view_module_version": "1.2.0",
            "grid_template_areas": null,
            "object_position": null,
            "object_fit": null,
            "grid_auto_columns": null,
            "margin": null,
            "display": null,
            "left": null
          }
        },
        "d8fb1026e4304f42ba0db82e660b0e8a": {
          "model_module": "@jupyter-widgets/controls",
          "model_name": "HBoxModel",
          "state": {
            "_view_name": "HBoxView",
            "_dom_classes": [],
            "_model_name": "HBoxModel",
            "_view_module": "@jupyter-widgets/controls",
            "_model_module_version": "1.5.0",
            "_view_count": null,
            "_view_module_version": "1.5.0",
            "box_style": "",
            "layout": "IPY_MODEL_74070e92818c436cb6548a8f5ff183cc",
            "_model_module": "@jupyter-widgets/controls",
            "children": [
              "IPY_MODEL_cc14441ad3ac44f6a0321cca1f8226cd",
              "IPY_MODEL_b5b10c1e875c4d358604d603738604d7"
            ]
          }
        },
        "74070e92818c436cb6548a8f5ff183cc": {
          "model_module": "@jupyter-widgets/base",
          "model_name": "LayoutModel",
          "state": {
            "_view_name": "LayoutView",
            "grid_template_rows": null,
            "right": null,
            "justify_content": null,
            "_view_module": "@jupyter-widgets/base",
            "overflow": null,
            "_model_module_version": "1.2.0",
            "_view_count": null,
            "flex_flow": null,
            "width": null,
            "min_width": null,
            "border": null,
            "align_items": null,
            "bottom": null,
            "_model_module": "@jupyter-widgets/base",
            "top": null,
            "grid_column": null,
            "overflow_y": null,
            "overflow_x": null,
            "grid_auto_flow": null,
            "grid_area": null,
            "grid_template_columns": null,
            "flex": null,
            "_model_name": "LayoutModel",
            "justify_items": null,
            "grid_row": null,
            "max_height": null,
            "align_content": null,
            "visibility": null,
            "align_self": null,
            "height": null,
            "min_height": null,
            "padding": null,
            "grid_auto_rows": null,
            "grid_gap": null,
            "max_width": null,
            "order": null,
            "_view_module_version": "1.2.0",
            "grid_template_areas": null,
            "object_position": null,
            "object_fit": null,
            "grid_auto_columns": null,
            "margin": null,
            "display": null,
            "left": null
          }
        },
        "cc14441ad3ac44f6a0321cca1f8226cd": {
          "model_module": "@jupyter-widgets/controls",
          "model_name": "FloatProgressModel",
          "state": {
            "_view_name": "ProgressView",
            "style": "IPY_MODEL_d136000608c648ca922b563d0fea1ae7",
            "_dom_classes": [],
            "description": "epoch 11: 100%",
            "_model_name": "FloatProgressModel",
            "bar_style": "success",
            "max": 2298,
            "_view_module": "@jupyter-widgets/controls",
            "_model_module_version": "1.5.0",
            "value": 2298,
            "_view_count": null,
            "_view_module_version": "1.5.0",
            "orientation": "horizontal",
            "min": 0,
            "description_tooltip": null,
            "_model_module": "@jupyter-widgets/controls",
            "layout": "IPY_MODEL_4bbf86f3a8cc4d0091d9bbed5a99d333"
          }
        },
        "b5b10c1e875c4d358604d603738604d7": {
          "model_module": "@jupyter-widgets/controls",
          "model_name": "HTMLModel",
          "state": {
            "_view_name": "HTMLView",
            "style": "IPY_MODEL_48ccc44a9f104e9c9f514875757e5c1c",
            "_dom_classes": [],
            "description": "",
            "_model_name": "HTMLModel",
            "placeholder": "​",
            "_view_module": "@jupyter-widgets/controls",
            "_model_module_version": "1.5.0",
            "value": " 2298/2298 [2:28:54&lt;00:00,  3.89s/batch, mean_loss=0.0133, validation_metric=87]",
            "_view_count": null,
            "_view_module_version": "1.5.0",
            "description_tooltip": null,
            "_model_module": "@jupyter-widgets/controls",
            "layout": "IPY_MODEL_a754acd059d7429b8d68d92745fef783"
          }
        },
        "d136000608c648ca922b563d0fea1ae7": {
          "model_module": "@jupyter-widgets/controls",
          "model_name": "ProgressStyleModel",
          "state": {
            "_view_name": "StyleView",
            "_model_name": "ProgressStyleModel",
            "description_width": "initial",
            "_view_module": "@jupyter-widgets/base",
            "_model_module_version": "1.5.0",
            "_view_count": null,
            "_view_module_version": "1.2.0",
            "bar_color": null,
            "_model_module": "@jupyter-widgets/controls"
          }
        },
        "4bbf86f3a8cc4d0091d9bbed5a99d333": {
          "model_module": "@jupyter-widgets/base",
          "model_name": "LayoutModel",
          "state": {
            "_view_name": "LayoutView",
            "grid_template_rows": null,
            "right": null,
            "justify_content": null,
            "_view_module": "@jupyter-widgets/base",
            "overflow": null,
            "_model_module_version": "1.2.0",
            "_view_count": null,
            "flex_flow": null,
            "width": null,
            "min_width": null,
            "border": null,
            "align_items": null,
            "bottom": null,
            "_model_module": "@jupyter-widgets/base",
            "top": null,
            "grid_column": null,
            "overflow_y": null,
            "overflow_x": null,
            "grid_auto_flow": null,
            "grid_area": null,
            "grid_template_columns": null,
            "flex": null,
            "_model_name": "LayoutModel",
            "justify_items": null,
            "grid_row": null,
            "max_height": null,
            "align_content": null,
            "visibility": null,
            "align_self": null,
            "height": null,
            "min_height": null,
            "padding": null,
            "grid_auto_rows": null,
            "grid_gap": null,
            "max_width": null,
            "order": null,
            "_view_module_version": "1.2.0",
            "grid_template_areas": null,
            "object_position": null,
            "object_fit": null,
            "grid_auto_columns": null,
            "margin": null,
            "display": null,
            "left": null
          }
        },
        "48ccc44a9f104e9c9f514875757e5c1c": {
          "model_module": "@jupyter-widgets/controls",
          "model_name": "DescriptionStyleModel",
          "state": {
            "_view_name": "StyleView",
            "_model_name": "DescriptionStyleModel",
            "description_width": "",
            "_view_module": "@jupyter-widgets/base",
            "_model_module_version": "1.5.0",
            "_view_count": null,
            "_view_module_version": "1.2.0",
            "_model_module": "@jupyter-widgets/controls"
          }
        },
        "a754acd059d7429b8d68d92745fef783": {
          "model_module": "@jupyter-widgets/base",
          "model_name": "LayoutModel",
          "state": {
            "_view_name": "LayoutView",
            "grid_template_rows": null,
            "right": null,
            "justify_content": null,
            "_view_module": "@jupyter-widgets/base",
            "overflow": null,
            "_model_module_version": "1.2.0",
            "_view_count": null,
            "flex_flow": null,
            "width": null,
            "min_width": null,
            "border": null,
            "align_items": null,
            "bottom": null,
            "_model_module": "@jupyter-widgets/base",
            "top": null,
            "grid_column": null,
            "overflow_y": null,
            "overflow_x": null,
            "grid_auto_flow": null,
            "grid_area": null,
            "grid_template_columns": null,
            "flex": null,
            "_model_name": "LayoutModel",
            "justify_items": null,
            "grid_row": null,
            "max_height": null,
            "align_content": null,
            "visibility": null,
            "align_self": null,
            "height": null,
            "min_height": null,
            "padding": null,
            "grid_auto_rows": null,
            "grid_gap": null,
            "max_width": null,
            "order": null,
            "_view_module_version": "1.2.0",
            "grid_template_areas": null,
            "object_position": null,
            "object_fit": null,
            "grid_auto_columns": null,
            "margin": null,
            "display": null,
            "left": null
          }
        },
        "55acd1eff5124c7c825bc72e15362e8c": {
          "model_module": "@jupyter-widgets/controls",
          "model_name": "HBoxModel",
          "state": {
            "_view_name": "HBoxView",
            "_dom_classes": [],
            "_model_name": "HBoxModel",
            "_view_module": "@jupyter-widgets/controls",
            "_model_module_version": "1.5.0",
            "_view_count": null,
            "_view_module_version": "1.5.0",
            "box_style": "",
            "layout": "IPY_MODEL_fdfdd673de5345fbb1068fc7f00e6ec8",
            "_model_module": "@jupyter-widgets/controls",
            "children": [
              "IPY_MODEL_8c765d5263e54d648a4f3ff1f7c2bfb9",
              "IPY_MODEL_1918da6a7d8943749984a304871acfee"
            ]
          }
        },
        "fdfdd673de5345fbb1068fc7f00e6ec8": {
          "model_module": "@jupyter-widgets/base",
          "model_name": "LayoutModel",
          "state": {
            "_view_name": "LayoutView",
            "grid_template_rows": null,
            "right": null,
            "justify_content": null,
            "_view_module": "@jupyter-widgets/base",
            "overflow": null,
            "_model_module_version": "1.2.0",
            "_view_count": null,
            "flex_flow": null,
            "width": null,
            "min_width": null,
            "border": null,
            "align_items": null,
            "bottom": null,
            "_model_module": "@jupyter-widgets/base",
            "top": null,
            "grid_column": null,
            "overflow_y": null,
            "overflow_x": null,
            "grid_auto_flow": null,
            "grid_area": null,
            "grid_template_columns": null,
            "flex": null,
            "_model_name": "LayoutModel",
            "justify_items": null,
            "grid_row": null,
            "max_height": null,
            "align_content": null,
            "visibility": null,
            "align_self": null,
            "height": null,
            "min_height": null,
            "padding": null,
            "grid_auto_rows": null,
            "grid_gap": null,
            "max_width": null,
            "order": null,
            "_view_module_version": "1.2.0",
            "grid_template_areas": null,
            "object_position": null,
            "object_fit": null,
            "grid_auto_columns": null,
            "margin": null,
            "display": null,
            "left": null
          }
        },
        "8c765d5263e54d648a4f3ff1f7c2bfb9": {
          "model_module": "@jupyter-widgets/controls",
          "model_name": "FloatProgressModel",
          "state": {
            "_view_name": "ProgressView",
            "style": "IPY_MODEL_60921bab28ce41ed828abf8e379fe21d",
            "_dom_classes": [],
            "description": "epoch 12: 100%",
            "_model_name": "FloatProgressModel",
            "bar_style": "success",
            "max": 2298,
            "_view_module": "@jupyter-widgets/controls",
            "_model_module_version": "1.5.0",
            "value": 2298,
            "_view_count": null,
            "_view_module_version": "1.5.0",
            "orientation": "horizontal",
            "min": 0,
            "description_tooltip": null,
            "_model_module": "@jupyter-widgets/controls",
            "layout": "IPY_MODEL_67e81e6797ea4c148bc30902e73f21fe"
          }
        },
        "1918da6a7d8943749984a304871acfee": {
          "model_module": "@jupyter-widgets/controls",
          "model_name": "HTMLModel",
          "state": {
            "_view_name": "HTMLView",
            "style": "IPY_MODEL_86fddee7f9dd4717a59b7622789a2109",
            "_dom_classes": [],
            "description": "",
            "_model_name": "HTMLModel",
            "placeholder": "​",
            "_view_module": "@jupyter-widgets/controls",
            "_model_module_version": "1.5.0",
            "value": " 2298/2298 [2:13:34&lt;00:00,  3.49s/batch, mean_loss=0.0119, validation_metric=87.5]",
            "_view_count": null,
            "_view_module_version": "1.5.0",
            "description_tooltip": null,
            "_model_module": "@jupyter-widgets/controls",
            "layout": "IPY_MODEL_d54330614da04731ac56840e3a7f360b"
          }
        },
        "60921bab28ce41ed828abf8e379fe21d": {
          "model_module": "@jupyter-widgets/controls",
          "model_name": "ProgressStyleModel",
          "state": {
            "_view_name": "StyleView",
            "_model_name": "ProgressStyleModel",
            "description_width": "initial",
            "_view_module": "@jupyter-widgets/base",
            "_model_module_version": "1.5.0",
            "_view_count": null,
            "_view_module_version": "1.2.0",
            "bar_color": null,
            "_model_module": "@jupyter-widgets/controls"
          }
        },
        "67e81e6797ea4c148bc30902e73f21fe": {
          "model_module": "@jupyter-widgets/base",
          "model_name": "LayoutModel",
          "state": {
            "_view_name": "LayoutView",
            "grid_template_rows": null,
            "right": null,
            "justify_content": null,
            "_view_module": "@jupyter-widgets/base",
            "overflow": null,
            "_model_module_version": "1.2.0",
            "_view_count": null,
            "flex_flow": null,
            "width": null,
            "min_width": null,
            "border": null,
            "align_items": null,
            "bottom": null,
            "_model_module": "@jupyter-widgets/base",
            "top": null,
            "grid_column": null,
            "overflow_y": null,
            "overflow_x": null,
            "grid_auto_flow": null,
            "grid_area": null,
            "grid_template_columns": null,
            "flex": null,
            "_model_name": "LayoutModel",
            "justify_items": null,
            "grid_row": null,
            "max_height": null,
            "align_content": null,
            "visibility": null,
            "align_self": null,
            "height": null,
            "min_height": null,
            "padding": null,
            "grid_auto_rows": null,
            "grid_gap": null,
            "max_width": null,
            "order": null,
            "_view_module_version": "1.2.0",
            "grid_template_areas": null,
            "object_position": null,
            "object_fit": null,
            "grid_auto_columns": null,
            "margin": null,
            "display": null,
            "left": null
          }
        },
        "86fddee7f9dd4717a59b7622789a2109": {
          "model_module": "@jupyter-widgets/controls",
          "model_name": "DescriptionStyleModel",
          "state": {
            "_view_name": "StyleView",
            "_model_name": "DescriptionStyleModel",
            "description_width": "",
            "_view_module": "@jupyter-widgets/base",
            "_model_module_version": "1.5.0",
            "_view_count": null,
            "_view_module_version": "1.2.0",
            "_model_module": "@jupyter-widgets/controls"
          }
        },
        "d54330614da04731ac56840e3a7f360b": {
          "model_module": "@jupyter-widgets/base",
          "model_name": "LayoutModel",
          "state": {
            "_view_name": "LayoutView",
            "grid_template_rows": null,
            "right": null,
            "justify_content": null,
            "_view_module": "@jupyter-widgets/base",
            "overflow": null,
            "_model_module_version": "1.2.0",
            "_view_count": null,
            "flex_flow": null,
            "width": null,
            "min_width": null,
            "border": null,
            "align_items": null,
            "bottom": null,
            "_model_module": "@jupyter-widgets/base",
            "top": null,
            "grid_column": null,
            "overflow_y": null,
            "overflow_x": null,
            "grid_auto_flow": null,
            "grid_area": null,
            "grid_template_columns": null,
            "flex": null,
            "_model_name": "LayoutModel",
            "justify_items": null,
            "grid_row": null,
            "max_height": null,
            "align_content": null,
            "visibility": null,
            "align_self": null,
            "height": null,
            "min_height": null,
            "padding": null,
            "grid_auto_rows": null,
            "grid_gap": null,
            "max_width": null,
            "order": null,
            "_view_module_version": "1.2.0",
            "grid_template_areas": null,
            "object_position": null,
            "object_fit": null,
            "grid_auto_columns": null,
            "margin": null,
            "display": null,
            "left": null
          }
        },
        "8e693e4968c24b5781fb0002ceb9ff77": {
          "model_module": "@jupyter-widgets/controls",
          "model_name": "HBoxModel",
          "state": {
            "_view_name": "HBoxView",
            "_dom_classes": [],
            "_model_name": "HBoxModel",
            "_view_module": "@jupyter-widgets/controls",
            "_model_module_version": "1.5.0",
            "_view_count": null,
            "_view_module_version": "1.5.0",
            "box_style": "",
            "layout": "IPY_MODEL_2e3a1d05a984447dbadf34a645d439d6",
            "_model_module": "@jupyter-widgets/controls",
            "children": [
              "IPY_MODEL_8adb723acd304d3abf4d3d9ab4dd153e",
              "IPY_MODEL_706c65e31a7d43ee9aae8a1a1c58386c"
            ]
          }
        },
        "2e3a1d05a984447dbadf34a645d439d6": {
          "model_module": "@jupyter-widgets/base",
          "model_name": "LayoutModel",
          "state": {
            "_view_name": "LayoutView",
            "grid_template_rows": null,
            "right": null,
            "justify_content": null,
            "_view_module": "@jupyter-widgets/base",
            "overflow": null,
            "_model_module_version": "1.2.0",
            "_view_count": null,
            "flex_flow": null,
            "width": null,
            "min_width": null,
            "border": null,
            "align_items": null,
            "bottom": null,
            "_model_module": "@jupyter-widgets/base",
            "top": null,
            "grid_column": null,
            "overflow_y": null,
            "overflow_x": null,
            "grid_auto_flow": null,
            "grid_area": null,
            "grid_template_columns": null,
            "flex": null,
            "_model_name": "LayoutModel",
            "justify_items": null,
            "grid_row": null,
            "max_height": null,
            "align_content": null,
            "visibility": null,
            "align_self": null,
            "height": null,
            "min_height": null,
            "padding": null,
            "grid_auto_rows": null,
            "grid_gap": null,
            "max_width": null,
            "order": null,
            "_view_module_version": "1.2.0",
            "grid_template_areas": null,
            "object_position": null,
            "object_fit": null,
            "grid_auto_columns": null,
            "margin": null,
            "display": null,
            "left": null
          }
        },
        "8adb723acd304d3abf4d3d9ab4dd153e": {
          "model_module": "@jupyter-widgets/controls",
          "model_name": "FloatProgressModel",
          "state": {
            "_view_name": "ProgressView",
            "style": "IPY_MODEL_d96d6942181c44c188b841ab7dc77eca",
            "_dom_classes": [],
            "description": "epoch 13: 100%",
            "_model_name": "FloatProgressModel",
            "bar_style": "success",
            "max": 2298,
            "_view_module": "@jupyter-widgets/controls",
            "_model_module_version": "1.5.0",
            "value": 2298,
            "_view_count": null,
            "_view_module_version": "1.5.0",
            "orientation": "horizontal",
            "min": 0,
            "description_tooltip": null,
            "_model_module": "@jupyter-widgets/controls",
            "layout": "IPY_MODEL_4287b9e9f16144819e0af5e31cc78a28"
          }
        },
        "706c65e31a7d43ee9aae8a1a1c58386c": {
          "model_module": "@jupyter-widgets/controls",
          "model_name": "HTMLModel",
          "state": {
            "_view_name": "HTMLView",
            "style": "IPY_MODEL_83172fbb72db45dbb0614fe57f3f8a9f",
            "_dom_classes": [],
            "description": "",
            "_model_name": "HTMLModel",
            "placeholder": "​",
            "_view_module": "@jupyter-widgets/controls",
            "_model_module_version": "1.5.0",
            "value": " 2298/2298 [1:58:22&lt;00:00,  3.09s/batch, mean_loss=0.0107, validation_metric=87.6]",
            "_view_count": null,
            "_view_module_version": "1.5.0",
            "description_tooltip": null,
            "_model_module": "@jupyter-widgets/controls",
            "layout": "IPY_MODEL_6e4bec9a394a4a9a948aa8f0e0510b22"
          }
        },
        "d96d6942181c44c188b841ab7dc77eca": {
          "model_module": "@jupyter-widgets/controls",
          "model_name": "ProgressStyleModel",
          "state": {
            "_view_name": "StyleView",
            "_model_name": "ProgressStyleModel",
            "description_width": "initial",
            "_view_module": "@jupyter-widgets/base",
            "_model_module_version": "1.5.0",
            "_view_count": null,
            "_view_module_version": "1.2.0",
            "bar_color": null,
            "_model_module": "@jupyter-widgets/controls"
          }
        },
        "4287b9e9f16144819e0af5e31cc78a28": {
          "model_module": "@jupyter-widgets/base",
          "model_name": "LayoutModel",
          "state": {
            "_view_name": "LayoutView",
            "grid_template_rows": null,
            "right": null,
            "justify_content": null,
            "_view_module": "@jupyter-widgets/base",
            "overflow": null,
            "_model_module_version": "1.2.0",
            "_view_count": null,
            "flex_flow": null,
            "width": null,
            "min_width": null,
            "border": null,
            "align_items": null,
            "bottom": null,
            "_model_module": "@jupyter-widgets/base",
            "top": null,
            "grid_column": null,
            "overflow_y": null,
            "overflow_x": null,
            "grid_auto_flow": null,
            "grid_area": null,
            "grid_template_columns": null,
            "flex": null,
            "_model_name": "LayoutModel",
            "justify_items": null,
            "grid_row": null,
            "max_height": null,
            "align_content": null,
            "visibility": null,
            "align_self": null,
            "height": null,
            "min_height": null,
            "padding": null,
            "grid_auto_rows": null,
            "grid_gap": null,
            "max_width": null,
            "order": null,
            "_view_module_version": "1.2.0",
            "grid_template_areas": null,
            "object_position": null,
            "object_fit": null,
            "grid_auto_columns": null,
            "margin": null,
            "display": null,
            "left": null
          }
        },
        "83172fbb72db45dbb0614fe57f3f8a9f": {
          "model_module": "@jupyter-widgets/controls",
          "model_name": "DescriptionStyleModel",
          "state": {
            "_view_name": "StyleView",
            "_model_name": "DescriptionStyleModel",
            "description_width": "",
            "_view_module": "@jupyter-widgets/base",
            "_model_module_version": "1.5.0",
            "_view_count": null,
            "_view_module_version": "1.2.0",
            "_model_module": "@jupyter-widgets/controls"
          }
        },
        "6e4bec9a394a4a9a948aa8f0e0510b22": {
          "model_module": "@jupyter-widgets/base",
          "model_name": "LayoutModel",
          "state": {
            "_view_name": "LayoutView",
            "grid_template_rows": null,
            "right": null,
            "justify_content": null,
            "_view_module": "@jupyter-widgets/base",
            "overflow": null,
            "_model_module_version": "1.2.0",
            "_view_count": null,
            "flex_flow": null,
            "width": null,
            "min_width": null,
            "border": null,
            "align_items": null,
            "bottom": null,
            "_model_module": "@jupyter-widgets/base",
            "top": null,
            "grid_column": null,
            "overflow_y": null,
            "overflow_x": null,
            "grid_auto_flow": null,
            "grid_area": null,
            "grid_template_columns": null,
            "flex": null,
            "_model_name": "LayoutModel",
            "justify_items": null,
            "grid_row": null,
            "max_height": null,
            "align_content": null,
            "visibility": null,
            "align_self": null,
            "height": null,
            "min_height": null,
            "padding": null,
            "grid_auto_rows": null,
            "grid_gap": null,
            "max_width": null,
            "order": null,
            "_view_module_version": "1.2.0",
            "grid_template_areas": null,
            "object_position": null,
            "object_fit": null,
            "grid_auto_columns": null,
            "margin": null,
            "display": null,
            "left": null
          }
        },
        "011574a1c0cd4846b97562c6ba54bae9": {
          "model_module": "@jupyter-widgets/controls",
          "model_name": "HBoxModel",
          "state": {
            "_view_name": "HBoxView",
            "_dom_classes": [],
            "_model_name": "HBoxModel",
            "_view_module": "@jupyter-widgets/controls",
            "_model_module_version": "1.5.0",
            "_view_count": null,
            "_view_module_version": "1.5.0",
            "box_style": "",
            "layout": "IPY_MODEL_ee55771864d741ca8aa51df844286f2e",
            "_model_module": "@jupyter-widgets/controls",
            "children": [
              "IPY_MODEL_e2a05e9a929d45478f4c1a2ad43f0494",
              "IPY_MODEL_5a0b4ccdf0574431aff614a340a0fb85"
            ]
          }
        },
        "ee55771864d741ca8aa51df844286f2e": {
          "model_module": "@jupyter-widgets/base",
          "model_name": "LayoutModel",
          "state": {
            "_view_name": "LayoutView",
            "grid_template_rows": null,
            "right": null,
            "justify_content": null,
            "_view_module": "@jupyter-widgets/base",
            "overflow": null,
            "_model_module_version": "1.2.0",
            "_view_count": null,
            "flex_flow": null,
            "width": null,
            "min_width": null,
            "border": null,
            "align_items": null,
            "bottom": null,
            "_model_module": "@jupyter-widgets/base",
            "top": null,
            "grid_column": null,
            "overflow_y": null,
            "overflow_x": null,
            "grid_auto_flow": null,
            "grid_area": null,
            "grid_template_columns": null,
            "flex": null,
            "_model_name": "LayoutModel",
            "justify_items": null,
            "grid_row": null,
            "max_height": null,
            "align_content": null,
            "visibility": null,
            "align_self": null,
            "height": null,
            "min_height": null,
            "padding": null,
            "grid_auto_rows": null,
            "grid_gap": null,
            "max_width": null,
            "order": null,
            "_view_module_version": "1.2.0",
            "grid_template_areas": null,
            "object_position": null,
            "object_fit": null,
            "grid_auto_columns": null,
            "margin": null,
            "display": null,
            "left": null
          }
        },
        "e2a05e9a929d45478f4c1a2ad43f0494": {
          "model_module": "@jupyter-widgets/controls",
          "model_name": "FloatProgressModel",
          "state": {
            "_view_name": "ProgressView",
            "style": "IPY_MODEL_d48a2c5e7373467ebf18335e1d241948",
            "_dom_classes": [],
            "description": "epoch 14: 100%",
            "_model_name": "FloatProgressModel",
            "bar_style": "success",
            "max": 2298,
            "_view_module": "@jupyter-widgets/controls",
            "_model_module_version": "1.5.0",
            "value": 2298,
            "_view_count": null,
            "_view_module_version": "1.5.0",
            "orientation": "horizontal",
            "min": 0,
            "description_tooltip": null,
            "_model_module": "@jupyter-widgets/controls",
            "layout": "IPY_MODEL_45b08bc5bd964e7db016012fbdc3fdae"
          }
        },
        "5a0b4ccdf0574431aff614a340a0fb85": {
          "model_module": "@jupyter-widgets/controls",
          "model_name": "HTMLModel",
          "state": {
            "_view_name": "HTMLView",
            "style": "IPY_MODEL_c04fe5dfc84f49fea9ae0e7018f04eac",
            "_dom_classes": [],
            "description": "",
            "_model_name": "HTMLModel",
            "placeholder": "​",
            "_view_module": "@jupyter-widgets/controls",
            "_model_module_version": "1.5.0",
            "value": " 2298/2298 [1:43:13&lt;00:00,  2.70s/batch, mean_loss=0.00976, validation_metric=87.7]",
            "_view_count": null,
            "_view_module_version": "1.5.0",
            "description_tooltip": null,
            "_model_module": "@jupyter-widgets/controls",
            "layout": "IPY_MODEL_2de05691624c4ed68a27217a0d94585a"
          }
        },
        "d48a2c5e7373467ebf18335e1d241948": {
          "model_module": "@jupyter-widgets/controls",
          "model_name": "ProgressStyleModel",
          "state": {
            "_view_name": "StyleView",
            "_model_name": "ProgressStyleModel",
            "description_width": "initial",
            "_view_module": "@jupyter-widgets/base",
            "_model_module_version": "1.5.0",
            "_view_count": null,
            "_view_module_version": "1.2.0",
            "bar_color": null,
            "_model_module": "@jupyter-widgets/controls"
          }
        },
        "45b08bc5bd964e7db016012fbdc3fdae": {
          "model_module": "@jupyter-widgets/base",
          "model_name": "LayoutModel",
          "state": {
            "_view_name": "LayoutView",
            "grid_template_rows": null,
            "right": null,
            "justify_content": null,
            "_view_module": "@jupyter-widgets/base",
            "overflow": null,
            "_model_module_version": "1.2.0",
            "_view_count": null,
            "flex_flow": null,
            "width": null,
            "min_width": null,
            "border": null,
            "align_items": null,
            "bottom": null,
            "_model_module": "@jupyter-widgets/base",
            "top": null,
            "grid_column": null,
            "overflow_y": null,
            "overflow_x": null,
            "grid_auto_flow": null,
            "grid_area": null,
            "grid_template_columns": null,
            "flex": null,
            "_model_name": "LayoutModel",
            "justify_items": null,
            "grid_row": null,
            "max_height": null,
            "align_content": null,
            "visibility": null,
            "align_self": null,
            "height": null,
            "min_height": null,
            "padding": null,
            "grid_auto_rows": null,
            "grid_gap": null,
            "max_width": null,
            "order": null,
            "_view_module_version": "1.2.0",
            "grid_template_areas": null,
            "object_position": null,
            "object_fit": null,
            "grid_auto_columns": null,
            "margin": null,
            "display": null,
            "left": null
          }
        },
        "c04fe5dfc84f49fea9ae0e7018f04eac": {
          "model_module": "@jupyter-widgets/controls",
          "model_name": "DescriptionStyleModel",
          "state": {
            "_view_name": "StyleView",
            "_model_name": "DescriptionStyleModel",
            "description_width": "",
            "_view_module": "@jupyter-widgets/base",
            "_model_module_version": "1.5.0",
            "_view_count": null,
            "_view_module_version": "1.2.0",
            "_model_module": "@jupyter-widgets/controls"
          }
        },
        "2de05691624c4ed68a27217a0d94585a": {
          "model_module": "@jupyter-widgets/base",
          "model_name": "LayoutModel",
          "state": {
            "_view_name": "LayoutView",
            "grid_template_rows": null,
            "right": null,
            "justify_content": null,
            "_view_module": "@jupyter-widgets/base",
            "overflow": null,
            "_model_module_version": "1.2.0",
            "_view_count": null,
            "flex_flow": null,
            "width": null,
            "min_width": null,
            "border": null,
            "align_items": null,
            "bottom": null,
            "_model_module": "@jupyter-widgets/base",
            "top": null,
            "grid_column": null,
            "overflow_y": null,
            "overflow_x": null,
            "grid_auto_flow": null,
            "grid_area": null,
            "grid_template_columns": null,
            "flex": null,
            "_model_name": "LayoutModel",
            "justify_items": null,
            "grid_row": null,
            "max_height": null,
            "align_content": null,
            "visibility": null,
            "align_self": null,
            "height": null,
            "min_height": null,
            "padding": null,
            "grid_auto_rows": null,
            "grid_gap": null,
            "max_width": null,
            "order": null,
            "_view_module_version": "1.2.0",
            "grid_template_areas": null,
            "object_position": null,
            "object_fit": null,
            "grid_auto_columns": null,
            "margin": null,
            "display": null,
            "left": null
          }
        },
        "21292edbc5124ac9a8edfeadb104bb45": {
          "model_module": "@jupyter-widgets/controls",
          "model_name": "HBoxModel",
          "state": {
            "_view_name": "HBoxView",
            "_dom_classes": [],
            "_model_name": "HBoxModel",
            "_view_module": "@jupyter-widgets/controls",
            "_model_module_version": "1.5.0",
            "_view_count": null,
            "_view_module_version": "1.5.0",
            "box_style": "",
            "layout": "IPY_MODEL_5d2276f84a6541db9b2dbbe90b560f3b",
            "_model_module": "@jupyter-widgets/controls",
            "children": [
              "IPY_MODEL_481b8b86ec9c45b1a26a8dad5a4e6a5b",
              "IPY_MODEL_6f52667b94ac4e25b6aae4d46468476e"
            ]
          }
        },
        "5d2276f84a6541db9b2dbbe90b560f3b": {
          "model_module": "@jupyter-widgets/base",
          "model_name": "LayoutModel",
          "state": {
            "_view_name": "LayoutView",
            "grid_template_rows": null,
            "right": null,
            "justify_content": null,
            "_view_module": "@jupyter-widgets/base",
            "overflow": null,
            "_model_module_version": "1.2.0",
            "_view_count": null,
            "flex_flow": null,
            "width": null,
            "min_width": null,
            "border": null,
            "align_items": null,
            "bottom": null,
            "_model_module": "@jupyter-widgets/base",
            "top": null,
            "grid_column": null,
            "overflow_y": null,
            "overflow_x": null,
            "grid_auto_flow": null,
            "grid_area": null,
            "grid_template_columns": null,
            "flex": null,
            "_model_name": "LayoutModel",
            "justify_items": null,
            "grid_row": null,
            "max_height": null,
            "align_content": null,
            "visibility": null,
            "align_self": null,
            "height": null,
            "min_height": null,
            "padding": null,
            "grid_auto_rows": null,
            "grid_gap": null,
            "max_width": null,
            "order": null,
            "_view_module_version": "1.2.0",
            "grid_template_areas": null,
            "object_position": null,
            "object_fit": null,
            "grid_auto_columns": null,
            "margin": null,
            "display": null,
            "left": null
          }
        },
        "481b8b86ec9c45b1a26a8dad5a4e6a5b": {
          "model_module": "@jupyter-widgets/controls",
          "model_name": "FloatProgressModel",
          "state": {
            "_view_name": "ProgressView",
            "style": "IPY_MODEL_9918350db51f431b8aa6ad5b82b66c42",
            "_dom_classes": [],
            "description": "epoch 15: 100%",
            "_model_name": "FloatProgressModel",
            "bar_style": "success",
            "max": 2298,
            "_view_module": "@jupyter-widgets/controls",
            "_model_module_version": "1.5.0",
            "value": 2298,
            "_view_count": null,
            "_view_module_version": "1.5.0",
            "orientation": "horizontal",
            "min": 0,
            "description_tooltip": null,
            "_model_module": "@jupyter-widgets/controls",
            "layout": "IPY_MODEL_5434cadfa21f4b82b1bd11519336cc23"
          }
        },
        "6f52667b94ac4e25b6aae4d46468476e": {
          "model_module": "@jupyter-widgets/controls",
          "model_name": "HTMLModel",
          "state": {
            "_view_name": "HTMLView",
            "style": "IPY_MODEL_b8b8be72d1a146858837526aa73e7043",
            "_dom_classes": [],
            "description": "",
            "_model_name": "HTMLModel",
            "placeholder": "​",
            "_view_module": "@jupyter-widgets/controls",
            "_model_module_version": "1.5.0",
            "value": " 2298/2298 [1:27:55&lt;00:00,  2.30s/batch, mean_loss=0.00917, validation_metric=87.7]",
            "_view_count": null,
            "_view_module_version": "1.5.0",
            "description_tooltip": null,
            "_model_module": "@jupyter-widgets/controls",
            "layout": "IPY_MODEL_764614cf23ed4e568bcfb27000d14b49"
          }
        },
        "9918350db51f431b8aa6ad5b82b66c42": {
          "model_module": "@jupyter-widgets/controls",
          "model_name": "ProgressStyleModel",
          "state": {
            "_view_name": "StyleView",
            "_model_name": "ProgressStyleModel",
            "description_width": "initial",
            "_view_module": "@jupyter-widgets/base",
            "_model_module_version": "1.5.0",
            "_view_count": null,
            "_view_module_version": "1.2.0",
            "bar_color": null,
            "_model_module": "@jupyter-widgets/controls"
          }
        },
        "5434cadfa21f4b82b1bd11519336cc23": {
          "model_module": "@jupyter-widgets/base",
          "model_name": "LayoutModel",
          "state": {
            "_view_name": "LayoutView",
            "grid_template_rows": null,
            "right": null,
            "justify_content": null,
            "_view_module": "@jupyter-widgets/base",
            "overflow": null,
            "_model_module_version": "1.2.0",
            "_view_count": null,
            "flex_flow": null,
            "width": null,
            "min_width": null,
            "border": null,
            "align_items": null,
            "bottom": null,
            "_model_module": "@jupyter-widgets/base",
            "top": null,
            "grid_column": null,
            "overflow_y": null,
            "overflow_x": null,
            "grid_auto_flow": null,
            "grid_area": null,
            "grid_template_columns": null,
            "flex": null,
            "_model_name": "LayoutModel",
            "justify_items": null,
            "grid_row": null,
            "max_height": null,
            "align_content": null,
            "visibility": null,
            "align_self": null,
            "height": null,
            "min_height": null,
            "padding": null,
            "grid_auto_rows": null,
            "grid_gap": null,
            "max_width": null,
            "order": null,
            "_view_module_version": "1.2.0",
            "grid_template_areas": null,
            "object_position": null,
            "object_fit": null,
            "grid_auto_columns": null,
            "margin": null,
            "display": null,
            "left": null
          }
        },
        "b8b8be72d1a146858837526aa73e7043": {
          "model_module": "@jupyter-widgets/controls",
          "model_name": "DescriptionStyleModel",
          "state": {
            "_view_name": "StyleView",
            "_model_name": "DescriptionStyleModel",
            "description_width": "",
            "_view_module": "@jupyter-widgets/base",
            "_model_module_version": "1.5.0",
            "_view_count": null,
            "_view_module_version": "1.2.0",
            "_model_module": "@jupyter-widgets/controls"
          }
        },
        "764614cf23ed4e568bcfb27000d14b49": {
          "model_module": "@jupyter-widgets/base",
          "model_name": "LayoutModel",
          "state": {
            "_view_name": "LayoutView",
            "grid_template_rows": null,
            "right": null,
            "justify_content": null,
            "_view_module": "@jupyter-widgets/base",
            "overflow": null,
            "_model_module_version": "1.2.0",
            "_view_count": null,
            "flex_flow": null,
            "width": null,
            "min_width": null,
            "border": null,
            "align_items": null,
            "bottom": null,
            "_model_module": "@jupyter-widgets/base",
            "top": null,
            "grid_column": null,
            "overflow_y": null,
            "overflow_x": null,
            "grid_auto_flow": null,
            "grid_area": null,
            "grid_template_columns": null,
            "flex": null,
            "_model_name": "LayoutModel",
            "justify_items": null,
            "grid_row": null,
            "max_height": null,
            "align_content": null,
            "visibility": null,
            "align_self": null,
            "height": null,
            "min_height": null,
            "padding": null,
            "grid_auto_rows": null,
            "grid_gap": null,
            "max_width": null,
            "order": null,
            "_view_module_version": "1.2.0",
            "grid_template_areas": null,
            "object_position": null,
            "object_fit": null,
            "grid_auto_columns": null,
            "margin": null,
            "display": null,
            "left": null
          }
        },
        "a587aa5cc11e40d18aaaa1bc818d8e5e": {
          "model_module": "@jupyter-widgets/controls",
          "model_name": "HBoxModel",
          "state": {
            "_view_name": "HBoxView",
            "_dom_classes": [],
            "_model_name": "HBoxModel",
            "_view_module": "@jupyter-widgets/controls",
            "_model_module_version": "1.5.0",
            "_view_count": null,
            "_view_module_version": "1.5.0",
            "box_style": "",
            "layout": "IPY_MODEL_a5099f2974e449458275699b67454fa7",
            "_model_module": "@jupyter-widgets/controls",
            "children": [
              "IPY_MODEL_3713239091014ce9b871651a0447efd9",
              "IPY_MODEL_cebc6b02694e40fea6f0ff9602e58ff2"
            ]
          }
        },
        "a5099f2974e449458275699b67454fa7": {
          "model_module": "@jupyter-widgets/base",
          "model_name": "LayoutModel",
          "state": {
            "_view_name": "LayoutView",
            "grid_template_rows": null,
            "right": null,
            "justify_content": null,
            "_view_module": "@jupyter-widgets/base",
            "overflow": null,
            "_model_module_version": "1.2.0",
            "_view_count": null,
            "flex_flow": null,
            "width": null,
            "min_width": null,
            "border": null,
            "align_items": null,
            "bottom": null,
            "_model_module": "@jupyter-widgets/base",
            "top": null,
            "grid_column": null,
            "overflow_y": null,
            "overflow_x": null,
            "grid_auto_flow": null,
            "grid_area": null,
            "grid_template_columns": null,
            "flex": null,
            "_model_name": "LayoutModel",
            "justify_items": null,
            "grid_row": null,
            "max_height": null,
            "align_content": null,
            "visibility": null,
            "align_self": null,
            "height": null,
            "min_height": null,
            "padding": null,
            "grid_auto_rows": null,
            "grid_gap": null,
            "max_width": null,
            "order": null,
            "_view_module_version": "1.2.0",
            "grid_template_areas": null,
            "object_position": null,
            "object_fit": null,
            "grid_auto_columns": null,
            "margin": null,
            "display": null,
            "left": null
          }
        },
        "3713239091014ce9b871651a0447efd9": {
          "model_module": "@jupyter-widgets/controls",
          "model_name": "FloatProgressModel",
          "state": {
            "_view_name": "ProgressView",
            "style": "IPY_MODEL_b504d94676354b8781d9247a1d9f4259",
            "_dom_classes": [],
            "description": "epoch 16: 100%",
            "_model_name": "FloatProgressModel",
            "bar_style": "success",
            "max": 2298,
            "_view_module": "@jupyter-widgets/controls",
            "_model_module_version": "1.5.0",
            "value": 2298,
            "_view_count": null,
            "_view_module_version": "1.5.0",
            "orientation": "horizontal",
            "min": 0,
            "description_tooltip": null,
            "_model_module": "@jupyter-widgets/controls",
            "layout": "IPY_MODEL_bea5147ca59346029f2a7a01d8d88301"
          }
        },
        "cebc6b02694e40fea6f0ff9602e58ff2": {
          "model_module": "@jupyter-widgets/controls",
          "model_name": "HTMLModel",
          "state": {
            "_view_name": "HTMLView",
            "style": "IPY_MODEL_3bda7567d80f4bd0813358003361ac1b",
            "_dom_classes": [],
            "description": "",
            "_model_name": "HTMLModel",
            "placeholder": "​",
            "_view_module": "@jupyter-widgets/controls",
            "_model_module_version": "1.5.0",
            "value": " 2298/2298 [1:12:44&lt;00:00,  1.90s/batch, mean_loss=0.00889, validation_metric=87.8]",
            "_view_count": null,
            "_view_module_version": "1.5.0",
            "description_tooltip": null,
            "_model_module": "@jupyter-widgets/controls",
            "layout": "IPY_MODEL_20c821d15781412ba77e24fc81c52016"
          }
        },
        "b504d94676354b8781d9247a1d9f4259": {
          "model_module": "@jupyter-widgets/controls",
          "model_name": "ProgressStyleModel",
          "state": {
            "_view_name": "StyleView",
            "_model_name": "ProgressStyleModel",
            "description_width": "initial",
            "_view_module": "@jupyter-widgets/base",
            "_model_module_version": "1.5.0",
            "_view_count": null,
            "_view_module_version": "1.2.0",
            "bar_color": null,
            "_model_module": "@jupyter-widgets/controls"
          }
        },
        "bea5147ca59346029f2a7a01d8d88301": {
          "model_module": "@jupyter-widgets/base",
          "model_name": "LayoutModel",
          "state": {
            "_view_name": "LayoutView",
            "grid_template_rows": null,
            "right": null,
            "justify_content": null,
            "_view_module": "@jupyter-widgets/base",
            "overflow": null,
            "_model_module_version": "1.2.0",
            "_view_count": null,
            "flex_flow": null,
            "width": null,
            "min_width": null,
            "border": null,
            "align_items": null,
            "bottom": null,
            "_model_module": "@jupyter-widgets/base",
            "top": null,
            "grid_column": null,
            "overflow_y": null,
            "overflow_x": null,
            "grid_auto_flow": null,
            "grid_area": null,
            "grid_template_columns": null,
            "flex": null,
            "_model_name": "LayoutModel",
            "justify_items": null,
            "grid_row": null,
            "max_height": null,
            "align_content": null,
            "visibility": null,
            "align_self": null,
            "height": null,
            "min_height": null,
            "padding": null,
            "grid_auto_rows": null,
            "grid_gap": null,
            "max_width": null,
            "order": null,
            "_view_module_version": "1.2.0",
            "grid_template_areas": null,
            "object_position": null,
            "object_fit": null,
            "grid_auto_columns": null,
            "margin": null,
            "display": null,
            "left": null
          }
        },
        "3bda7567d80f4bd0813358003361ac1b": {
          "model_module": "@jupyter-widgets/controls",
          "model_name": "DescriptionStyleModel",
          "state": {
            "_view_name": "StyleView",
            "_model_name": "DescriptionStyleModel",
            "description_width": "",
            "_view_module": "@jupyter-widgets/base",
            "_model_module_version": "1.5.0",
            "_view_count": null,
            "_view_module_version": "1.2.0",
            "_model_module": "@jupyter-widgets/controls"
          }
        },
        "20c821d15781412ba77e24fc81c52016": {
          "model_module": "@jupyter-widgets/base",
          "model_name": "LayoutModel",
          "state": {
            "_view_name": "LayoutView",
            "grid_template_rows": null,
            "right": null,
            "justify_content": null,
            "_view_module": "@jupyter-widgets/base",
            "overflow": null,
            "_model_module_version": "1.2.0",
            "_view_count": null,
            "flex_flow": null,
            "width": null,
            "min_width": null,
            "border": null,
            "align_items": null,
            "bottom": null,
            "_model_module": "@jupyter-widgets/base",
            "top": null,
            "grid_column": null,
            "overflow_y": null,
            "overflow_x": null,
            "grid_auto_flow": null,
            "grid_area": null,
            "grid_template_columns": null,
            "flex": null,
            "_model_name": "LayoutModel",
            "justify_items": null,
            "grid_row": null,
            "max_height": null,
            "align_content": null,
            "visibility": null,
            "align_self": null,
            "height": null,
            "min_height": null,
            "padding": null,
            "grid_auto_rows": null,
            "grid_gap": null,
            "max_width": null,
            "order": null,
            "_view_module_version": "1.2.0",
            "grid_template_areas": null,
            "object_position": null,
            "object_fit": null,
            "grid_auto_columns": null,
            "margin": null,
            "display": null,
            "left": null
          }
        }
      }
    }
  },
  "cells": [
    {
      "cell_type": "markdown",
      "metadata": {
        "id": "CeUOYktpXtOz",
        "colab_type": "text"
      },
      "source": [
        "# Project 3: Parsing and Transformers"
      ]
    },
    {
      "cell_type": "markdown",
      "metadata": {
        "id": "35m1Uv47jiNX",
        "colab_type": "text"
      },
      "source": [
        "This project covers constituency parsing and the Transformer neural network architecture.  First, you will implement a Transformer encoder, using a part-of-speech tagging task as an initial test of your implementation.  Then, you will implement a Transformer-based constituency parser.  Your parser will be trained to classify span labels, then you will implement the CKY algorithm to turn the predictions into trees.\n",
        "\n"
      ]
    },
    {
      "cell_type": "markdown",
      "metadata": {
        "id": "acPh_4GwYID0",
        "colab_type": "text"
      },
      "source": [
        "## Setup"
      ]
    },
    {
      "cell_type": "markdown",
      "metadata": {
        "id": "c7cggO7mjZ5L",
        "colab_type": "text"
      },
      "source": [
        "The dependencies for this project include:\n",
        "* `torch` for modeling and training\n",
        "* `sentencepiece` for subword tokenization\n",
        "* `nltk` for loading and working with parse tree data structures\n",
        "* `svgling` for rendering parse trees in the browser"
      ]
    },
    {
      "cell_type": "code",
      "metadata": {
        "id": "4LV8KY6_unfe",
        "colab_type": "code",
        "colab": {}
      },
      "source": [
        "%%capture\n",
        "!pip install torch==1.5.0+cu101 torchvision==0.6.0+cu101 -f https://download.pytorch.org/whl/torch_stable.html\n",
        "!pip install --upgrade nltk sentencepiece svgling tqdm\n",
        "\n",
        "# Standard library imports\n",
        "from copy import deepcopy\n",
        "import json\n",
        "import math\n",
        "import random\n",
        "\n",
        "# Third party imports\n",
        "import matplotlib.pyplot as plt\n",
        "import numpy as np\n",
        "import sentencepiece\n",
        "import torch\n",
        "import torch.nn as nn\n",
        "import torch.nn.functional as F\n",
        "from torch.nn.utils.rnn import pad_sequence\n",
        "import tqdm.notebook\n",
        "\n",
        "import nltk\n",
        "from nltk.corpus.reader.bracket_parse import BracketParseCorpusReader\n",
        "\n",
        "import svgling\n",
        "svgling.disable_nltk_png()"
      ],
      "execution_count": 0,
      "outputs": []
    },
    {
      "cell_type": "markdown",
      "metadata": {
        "id": "KNT_TURTwIlW",
        "colab_type": "text"
      },
      "source": [
        "Before proceeding, let's verify that we're connected to a GPU runtime and that `torch` can detect the GPU.\n",
        "We'll define a variable `device` here to use throughout the code so that we can easily change to run on CPU for debugging."
      ]
    },
    {
      "cell_type": "code",
      "metadata": {
        "id": "KYpIPtqtwVwh",
        "colab_type": "code",
        "outputId": "3581cec4-efeb-489c-fc0a-50c504e80d9f",
        "colab": {
          "base_uri": "https://localhost:8080/",
          "height": 34
        }
      },
      "source": [
        "assert torch.cuda.is_available()\n",
        "device = torch.device(\"cuda\")\n",
        "print(\"Using device:\", device)"
      ],
      "execution_count": 2,
      "outputs": [
        {
          "output_type": "stream",
          "text": [
            "Using device: cuda\n"
          ],
          "name": "stdout"
        }
      ]
    },
    {
      "cell_type": "markdown",
      "metadata": {
        "id": "ANK-5cMtYSyH",
        "colab_type": "text"
      },
      "source": [
        "## Data"
      ]
    },
    {
      "cell_type": "markdown",
      "metadata": {
        "id": "BZGmlRlB-2uo",
        "colab_type": "text"
      },
      "source": [
        "The code below downloads the standard Penn Treebank data splits for parsing: sections 2-21 are used for training, section 22 for validation, and section 23 for testing. For consistency, we'll use these same splits for part-of-speech tagging, but we should note that most academic papers use a different way of splitting up the Penn Treebank data for the part-of-speech tagging task."
      ]
    },
    {
      "cell_type": "code",
      "metadata": {
        "id": "ZMYj6yJKZ2j_",
        "colab_type": "code",
        "outputId": "d8c4b51e-0052-4ce4-895b-cbd489cdceb1",
        "colab": {
          "base_uri": "https://localhost:8080/",
          "height": 434
        }
      },
      "source": [
        "%%bash\n",
        "if [ ! -e parsing-data.zip ]; then\n",
        "  wget --quiet https://storage.googleapis.com/cs288-parsing-project/parsing-data.zip\n",
        "fi\n",
        "rm -rf train dev test EVALB/\n",
        "unzip parsing-data.zip"
      ],
      "execution_count": 3,
      "outputs": [
        {
          "output_type": "stream",
          "text": [
            "Archive:  parsing-data.zip\n",
            "  inflating: train                   \n",
            "  inflating: dev                     \n",
            "  inflating: test                    \n",
            "   creating: EVALB/\n",
            "  inflating: EVALB/.DS_Store         \n",
            "   creating: EVALB/bug/\n",
            "  inflating: EVALB/bug/bug.gld       \n",
            "  inflating: EVALB/bug/bug.rsl-new   \n",
            "  inflating: EVALB/bug/bug.rsl-old   \n",
            "  inflating: EVALB/bug/bug.tst       \n",
            "  inflating: EVALB/COLLINS.prm       \n",
            "  inflating: EVALB/evalb.c           \n",
            "  inflating: EVALB/LICENSE           \n",
            "  inflating: EVALB/Makefile          \n",
            "  inflating: EVALB/new.prm           \n",
            "  inflating: EVALB/nk.prm            \n",
            "  inflating: EVALB/README            \n",
            "   creating: EVALB/sample/\n",
            "  inflating: EVALB/sample/sample.gld  \n",
            "  inflating: EVALB/sample/sample.prm  \n",
            "  inflating: EVALB/sample/sample.rsl  \n",
            "  inflating: EVALB/sample/sample.tst  \n",
            "  inflating: EVALB/tgrep_proc.prl    \n"
          ],
          "name": "stdout"
        }
      ]
    },
    {
      "cell_type": "markdown",
      "metadata": {
        "id": "FBZaWRRf_n_i",
        "colab_type": "text"
      },
      "source": [
        "Let's take a look at the format of the data:"
      ]
    },
    {
      "cell_type": "code",
      "metadata": {
        "id": "sNUNK7Bg_qgx",
        "colab_type": "code",
        "outputId": "7e550d78-a58d-458a-d6c0-d617dfc772ce",
        "colab": {
          "base_uri": "https://localhost:8080/",
          "height": 72
        }
      },
      "source": [
        "!head -n 2 train"
      ],
      "execution_count": 0,
      "outputs": [
        {
          "output_type": "stream",
          "text": [
            "(TOP (S (PP (IN In) (NP (NP (DT an) (NNP Oct.) (CD 19) (NN review)) (PP (IN of) (NP (`` ``) (NP (DT The) (NN Misanthrope)) ('' '') (PP (IN at) (NP (NP (NNP Chicago) (POS 's)) (NNP Goodman) (NNP Theatre))))) (PRN (-LRB- -LRB-) (`` ``) (S (NP (VBN Revitalized) (NNS Classics)) (VP (VBP Take) (NP (DT the) (NN Stage)) (PP (IN in) (NP (NNP Windy) (NNP City))))) (, ,) ('' '') (NP (NN Leisure) (CC &) (NNS Arts)) (-RRB- -RRB-)))) (, ,) (NP (NP (NP (DT the) (NN role)) (PP (IN of) (NP (NNP Celimene)))) (, ,) (VP (VBN played) (PP (IN by) (NP (NNP Kim) (NNP Cattrall)))) (, ,)) (VP (VBD was) (VP (ADVP (RB mistakenly)) (VBN attributed) (PP (TO to) (NP (NNP Christina) (NNP Haag))))) (. .)))\n",
            "(TOP (S (NP (NNP Ms.) (NNP Haag)) (VP (VBZ plays) (NP (NNP Elianti))) (. .)))\n"
          ],
          "name": "stdout"
        }
      ]
    },
    {
      "cell_type": "markdown",
      "metadata": {
        "id": "i6-ahhuG_rIN",
        "colab_type": "text"
      },
      "source": [
        "The files include one tree per line. We'll use the `BracketParseCorpusReader` from `nltk` to load the data."
      ]
    },
    {
      "cell_type": "code",
      "metadata": {
        "id": "eGzu6IjkBW74",
        "colab_type": "code",
        "colab": {}
      },
      "source": [
        "READER = BracketParseCorpusReader('.', ['train', 'dev', 'test'])"
      ],
      "execution_count": 0,
      "outputs": []
    },
    {
      "cell_type": "markdown",
      "metadata": {
        "id": "k1aBbR3snOjV",
        "colab_type": "text"
      },
      "source": [
        "## Vocabulary"
      ]
    },
    {
      "cell_type": "markdown",
      "metadata": {
        "id": "asT2gaZ7_48T",
        "colab_type": "text"
      },
      "source": [
        "We first extract the sentences alone from the data and construct a subword vocabulary, much like in Project 2. We use a subword vocabulary because it allows us to largely avoid the issue of having unknown words at test time."
      ]
    },
    {
      "cell_type": "code",
      "metadata": {
        "id": "WSyRQHA4CIWO",
        "colab_type": "code",
        "outputId": "c2341b98-be98-43b3-dfc5-0ad4ae820e64",
        "colab": {
          "base_uri": "https://localhost:8080/",
          "height": 34
        }
      },
      "source": [
        "READER.sents('train')[1]"
      ],
      "execution_count": 0,
      "outputs": [
        {
          "output_type": "execute_result",
          "data": {
            "text/plain": [
              "['Ms.', 'Haag', 'plays', 'Elianti', '.']"
            ]
          },
          "metadata": {
            "tags": []
          },
          "execution_count": 6
        }
      ]
    },
    {
      "cell_type": "code",
      "metadata": {
        "id": "Yasw_R3hB_13",
        "colab_type": "code",
        "colab": {}
      },
      "source": [
        "with open('sentences.txt', 'w') as f:\n",
        "  for sent in READER.sents('train'):\n",
        "    f.write(' '.join(sent) + '\\n')"
      ],
      "execution_count": 0,
      "outputs": []
    },
    {
      "cell_type": "code",
      "metadata": {
        "id": "uxfmTYt_B8Cm",
        "colab_type": "code",
        "outputId": "a18d5ccc-f2f7-4edc-e450-07f4e6beda50",
        "colab": {
          "base_uri": "https://localhost:8080/",
          "height": 72
        }
      },
      "source": [
        "!head -n 2 sentences.txt"
      ],
      "execution_count": 0,
      "outputs": [
        {
          "output_type": "stream",
          "text": [
            "In an Oct. 19 review of `` The Misanthrope '' at Chicago 's Goodman Theatre -LRB- `` Revitalized Classics Take the Stage in Windy City , '' Leisure & Arts -RRB- , the role of Celimene , played by Kim Cattrall , was mistakenly attributed to Christina Haag .\n",
            "Ms. Haag plays Elianti .\n"
          ],
          "name": "stdout"
        }
      ]
    },
    {
      "cell_type": "code",
      "metadata": {
        "id": "8xSUaso9vo1V",
        "colab_type": "code",
        "outputId": "ccd587fe-2c9e-4a24-dfcc-f34677294197",
        "colab": {
          "base_uri": "https://localhost:8080/",
          "height": 34
        }
      },
      "source": [
        "args = {\n",
        "    \"pad_id\": 0,\n",
        "    \"bos_id\": 1,\n",
        "    \"eos_id\": 2,\n",
        "    \"unk_id\": 3,\n",
        "    \"input\": \"sentences.txt\",\n",
        "    \"vocab_size\": 16000,\n",
        "    \"model_prefix\": \"ptb\",\n",
        "}\n",
        "combined_args = \" \".join(\n",
        "    \"--{}={}\".format(key, value) for key, value in args.items())\n",
        "sentencepiece.SentencePieceTrainer.Train(combined_args)"
      ],
      "execution_count": 6,
      "outputs": [
        {
          "output_type": "execute_result",
          "data": {
            "text/plain": [
              "True"
            ]
          },
          "metadata": {
            "tags": []
          },
          "execution_count": 6
        }
      ]
    },
    {
      "cell_type": "code",
      "metadata": {
        "id": "Xj-OHYlppX4N",
        "colab_type": "code",
        "outputId": "bbea340e-56ec-40b4-fafb-ec9890600ae3",
        "colab": {
          "base_uri": "https://localhost:8080/",
          "height": 191
        }
      },
      "source": [
        "!head -n 10 ptb.vocab"
      ],
      "execution_count": 7,
      "outputs": [
        {
          "output_type": "stream",
          "text": [
            "<pad>\t0\n",
            "<s>\t0\n",
            "</s>\t0\n",
            "<unk>\t0\n",
            "s\t-2.85529\n",
            "▁,\t-3.27864\n",
            "▁the\t-3.386\n",
            "▁.\t-3.51108\n",
            "▁\t-3.70671\n",
            "▁to\t-4.02158\n"
          ],
          "name": "stdout"
        }
      ]
    },
    {
      "cell_type": "code",
      "metadata": {
        "id": "SJYzMQxfvrr0",
        "colab_type": "code",
        "outputId": "c33b5c20-8ba0-410c-fe51-d57e55b640b6",
        "colab": {
          "base_uri": "https://localhost:8080/",
          "height": 34
        }
      },
      "source": [
        "VOCAB = sentencepiece.SentencePieceProcessor()\n",
        "VOCAB.Load(\"ptb.model\")"
      ],
      "execution_count": 8,
      "outputs": [
        {
          "output_type": "execute_result",
          "data": {
            "text/plain": [
              "True"
            ]
          },
          "metadata": {
            "tags": []
          },
          "execution_count": 8
        }
      ]
    },
    {
      "cell_type": "markdown",
      "metadata": {
        "id": "qsxRb6TOVHn5",
        "colab_type": "text"
      },
      "source": [
        "We define some constants here for special tokens that you may find useful in the following sections."
      ]
    },
    {
      "cell_type": "code",
      "metadata": {
        "id": "xheKi30BVVJC",
        "colab_type": "code",
        "colab": {}
      },
      "source": [
        "PAD_ID = VOCAB.PieceToId(\"<pad>\")\n",
        "BOS_ID = VOCAB.PieceToId(\"<s>\")\n",
        "EOS_ID = VOCAB.PieceToId(\"</s>\")\n",
        "UNK_ID = VOCAB.PieceToId(\"<unk>\")"
      ],
      "execution_count": 0,
      "outputs": []
    },
    {
      "cell_type": "markdown",
      "metadata": {
        "id": "-uzrJDCU1Tei",
        "colab_type": "text"
      },
      "source": [
        "## Part-of-Speech Tagging: Task Setup"
      ]
    },
    {
      "cell_type": "markdown",
      "metadata": {
        "id": "1P3NgM0cBHnD",
        "colab_type": "text"
      },
      "source": [
        "We will now begin preparing for the part-of-speech tagging task.  In this task, we will label each word token in a sentence or corpus with a part-of-speech tag.  Note the difference between operating over word tokens in a corpus and Project 0 where we operated over unique word types.  In this setup, we may see each word type many times, and we also take the context where it appears into account.\n",
        "\n",
        "For this task we provide you with all of the data processing code, while you will implement the model using the Transformer architecture. However, please take note of the input pipeline here because you will need to implement your own data processing for the second half of the project.\n",
        "\n",
        "Although we would like to use a subword vocabulary to better handle rare words, the part-of-speech and parsing tasks are defined in terms of words, not subwords.  After encoding a sentence at the subword level with an encoder (LSTM or Transformer), we will then move to the word level by selecting a single representation per word.  In the `encode_sentence` function below, we will create a boolean mask to select from the last subword of every word.  Tagging decisions will be made based on the vector associated with this last subword. (You may modify this to, for example, use the first word piece instead, though that seems to perform slightly worse at least for the baseline model.)"
      ]
    },
    {
      "cell_type": "code",
      "metadata": {
        "id": "tvlk8axRvGiB",
        "colab_type": "code",
        "colab": {}
      },
      "source": [
        "def encode_sentence(sent):\n",
        "  \"\"\"Prepares a sentence for input to the model, including subword tokenization.\n",
        "\n",
        "  Args:\n",
        "    sent: a list of words (each word is a string)\n",
        "  Returns:\n",
        "    A tuple (ids, is_word_end).\n",
        "      ids: a list of token ids in the subword vocabulary\n",
        "      is_word_end: a list with elements of type bool, where True indicates that\n",
        "                   the word piece at that position is the last within its word.\n",
        "  \"\"\"\n",
        "  ids = []\n",
        "  is_word_end = []\n",
        "  for word in sent:\n",
        "    word_ids = VOCAB.EncodeAsIds(word)\n",
        "    ids.extend(word_ids)\n",
        "    is_word_end.extend([False] * (len(word_ids) - 1) + [True])\n",
        "  return ids, is_word_end"
      ],
      "execution_count": 0,
      "outputs": []
    },
    {
      "cell_type": "code",
      "metadata": {
        "id": "5ww4AEIRvA6P",
        "colab_type": "code",
        "outputId": "4807d041-504b-4c03-9d3e-a7d3052bbaa0",
        "colab": {
          "base_uri": "https://localhost:8080/",
          "height": 280
        }
      },
      "source": [
        "print(\"Vocabulary size:\", VOCAB.GetPieceSize())\n",
        "print()\n",
        "\n",
        "for sent in READER.sents('train')[:2]:\n",
        "  indices, is_word_end = encode_sentence(sent)\n",
        "  pieces = [VOCAB.IdToPiece(index) for index in indices]\n",
        "  print(sent)\n",
        "  print(pieces)\n",
        "  print(VOCAB.DecodePieces(pieces))\n",
        "  print(indices)\n",
        "  print(VOCAB.DecodeIds(indices))\n",
        "  print()"
      ],
      "execution_count": 0,
      "outputs": [
        {
          "output_type": "stream",
          "text": [
            "Vocabulary size: 16000\n",
            "\n",
            "['In', 'an', 'Oct.', '19', 'review', 'of', '``', 'The', 'Misanthrope', \"''\", 'at', 'Chicago', \"'s\", 'Goodman', 'Theatre', '-LRB-', '``', 'Revitalized', 'Classics', 'Take', 'the', 'Stage', 'in', 'Windy', 'City', ',', \"''\", 'Leisure', '&', 'Arts', '-RRB-', ',', 'the', 'role', 'of', 'Celimene', ',', 'played', 'by', 'Kim', 'Cattrall', ',', 'was', 'mistakenly', 'attributed', 'to', 'Christina', 'Haag', '.']\n",
            "['▁In', '▁an', '▁Oct', '.', '▁19', '▁review', '▁of', '▁``', '▁The', '▁Mis', 'anthrop', 'e', \"▁''\", '▁at', '▁Chicago', \"▁'\", 's', '▁Good', 'man', '▁The', 'at', 're', '▁-', 'L', 'RB', '-', '▁``', '▁Rev', 'ital', 'ized', '▁Classic', 's', '▁Take', '▁the', '▁St', 'age', '▁in', '▁Wind', 'y', '▁City', '▁,', \"▁''\", '▁L', 'eisure', '▁', '&', '▁Art', 's', '▁-', 'R', 'RB', '-', '▁,', '▁the', '▁role', '▁of', '▁Cel', 'imene', '▁,', '▁play', 'ed', '▁by', '▁Kim', '▁Ca', 't', 't', 'rall', '▁,', '▁was', '▁mistaken', 'ly', '▁attribute', 'd', '▁to', '▁Christin', 'a', '▁Haag', '▁.']\n",
            "In an Oct. 19 review of `` The Misanthrope '' at Chicago 's Goodman Theatre -LRB- `` Revitalized Classics Take the Stage in Windy City , '' Leisure & Arts -RRB- , the role of Celimene , played by Kim Cattrall , was mistakenly attributed to Christina Haag .\n",
            "[67, 45, 279, 14, 648, 1475, 10, 28, 25, 8232, 13326, 50, 30, 40, 661, 20, 4, 2060, 172, 25, 688, 180, 59, 92, 61, 19, 28, 2941, 1346, 1344, 7954, 4, 6381, 6, 1293, 1111, 16, 8054, 21, 1017, 5, 30, 516, 13789, 8, 103, 3050, 4, 59, 90, 61, 19, 5, 6, 1073, 10, 8301, 11897, 5, 711, 12, 36, 5354, 4662, 17, 17, 14568, 5, 41, 8602, 22, 2123, 13, 9, 14798, 132, 9362, 7]\n",
            "In an Oct. 19 review of `` The Misanthrope '' at Chicago 's Goodman Theatre -LRB- `` Revitalized Classics Take the Stage in Windy City , '' Leisure & Arts -RRB- , the role of Celimene , played by Kim Cattrall , was mistakenly attributed to Christina Haag .\n",
            "\n",
            "['Ms.', 'Haag', 'plays', 'Elianti', '.']\n",
            "['▁M', 's', '.', '▁Haag', '▁play', 's', '▁Eli', 'anti', '▁.']\n",
            "Ms. Haag plays Elianti .\n",
            "[126, 4, 14, 9362, 711, 4, 4386, 8675, 7]\n",
            "Ms. Haag plays Elianti .\n",
            "\n"
          ],
          "name": "stdout"
        }
      ]
    },
    {
      "cell_type": "markdown",
      "metadata": {
        "id": "nZZGwaM4qWK6",
        "colab_type": "text"
      },
      "source": [
        "Now we turn our attention to the desired output from the model, namely a sequence of part of speech tags. The `READER` object from NLTK has a method for returing word-and-tag tuples read from the data."
      ]
    },
    {
      "cell_type": "code",
      "metadata": {
        "id": "tmO_829vG9RO",
        "colab_type": "code",
        "outputId": "a18aa6e4-6800-435d-e745-bb7c33468027",
        "colab": {
          "base_uri": "https://localhost:8080/",
          "height": 104
        }
      },
      "source": [
        "READER.tagged_sents('train')[1]"
      ],
      "execution_count": 11,
      "outputs": [
        {
          "output_type": "execute_result",
          "data": {
            "text/plain": [
              "[('Ms.', 'NNP'),\n",
              " ('Haag', 'NNP'),\n",
              " ('plays', 'VBZ'),\n",
              " ('Elianti', 'NNP'),\n",
              " ('.', '.')]"
            ]
          },
          "metadata": {
            "tags": []
          },
          "execution_count": 11
        }
      ]
    },
    {
      "cell_type": "markdown",
      "metadata": {
        "id": "gY26VRXtBR5J",
        "colab_type": "text"
      },
      "source": [
        "Running the cell below will print a definition and some examples for each part-of-speech class."
      ]
    },
    {
      "cell_type": "code",
      "metadata": {
        "id": "-iDS1lcXvQaN",
        "colab_type": "code",
        "outputId": "791e406b-cc16-4b1f-b146-16a3b8df6ed2",
        "colab": {
          "base_uri": "https://localhost:8080/",
          "height": 1000
        }
      },
      "source": [
        "nltk.download('tagsets')\n",
        "nltk.help.upenn_tagset()"
      ],
      "execution_count": 12,
      "outputs": [
        {
          "output_type": "stream",
          "text": [
            "$: dollar\n",
            "    $ -$ --$ A$ C$ HK$ M$ NZ$ S$ U.S.$ US$\n",
            "'': closing quotation mark\n",
            "    ' ''\n",
            "(: opening parenthesis\n",
            "    ( [ {\n",
            "): closing parenthesis\n",
            "    ) ] }\n",
            ",: comma\n",
            "    ,\n",
            "--: dash\n",
            "    --\n",
            ".: sentence terminator\n",
            "    . ! ?\n",
            ":: colon or ellipsis\n",
            "    : ; ...\n",
            "CC: conjunction, coordinating\n",
            "    & 'n and both but either et for less minus neither nor or plus so\n",
            "    therefore times v. versus vs. whether yet\n",
            "CD: numeral, cardinal\n",
            "    mid-1890 nine-thirty forty-two one-tenth ten million 0.5 one forty-\n",
            "    seven 1987 twenty '79 zero two 78-degrees eighty-four IX '60s .025\n",
            "    fifteen 271,124 dozen quintillion DM2,000 ...\n",
            "DT: determiner\n",
            "    all an another any both del each either every half la many much nary\n",
            "    neither no some such that the them these this those\n",
            "EX: existential there\n",
            "    there\n",
            "FW: foreign word\n",
            "    gemeinschaft hund ich jeux habeas Haementeria Herr K'ang-si vous\n",
            "    lutihaw alai je jour objets salutaris fille quibusdam pas trop Monte\n",
            "    terram fiche oui corporis ...\n",
            "IN: preposition or conjunction, subordinating\n",
            "    astride among uppon whether out inside pro despite on by throughout\n",
            "    below within for towards near behind atop around if like until below\n",
            "    next into if beside ...\n",
            "JJ: adjective or numeral, ordinal\n",
            "    third ill-mannered pre-war regrettable oiled calamitous first separable\n",
            "    ectoplasmic battery-powered participatory fourth still-to-be-named\n",
            "    multilingual multi-disciplinary ...\n",
            "JJR: adjective, comparative\n",
            "    bleaker braver breezier briefer brighter brisker broader bumper busier\n",
            "    calmer cheaper choosier cleaner clearer closer colder commoner costlier\n",
            "    cozier creamier crunchier cuter ...\n",
            "JJS: adjective, superlative\n",
            "    calmest cheapest choicest classiest cleanest clearest closest commonest\n",
            "    corniest costliest crassest creepiest crudest cutest darkest deadliest\n",
            "    dearest deepest densest dinkiest ...\n",
            "LS: list item marker\n",
            "    A A. B B. C C. D E F First G H I J K One SP-44001 SP-44002 SP-44005\n",
            "    SP-44007 Second Third Three Two * a b c d first five four one six three\n",
            "    two\n",
            "MD: modal auxiliary\n",
            "    can cannot could couldn't dare may might must need ought shall should\n",
            "    shouldn't will would\n",
            "NN: noun, common, singular or mass\n",
            "    common-carrier cabbage knuckle-duster Casino afghan shed thermostat\n",
            "    investment slide humour falloff slick wind hyena override subhumanity\n",
            "    machinist ...\n",
            "NNP: noun, proper, singular\n",
            "    Motown Venneboerger Czestochwa Ranzer Conchita Trumplane Christos\n",
            "    Oceanside Escobar Kreisler Sawyer Cougar Yvette Ervin ODI Darryl CTCA\n",
            "    Shannon A.K.C. Meltex Liverpool ...\n",
            "NNPS: noun, proper, plural\n",
            "    Americans Americas Amharas Amityvilles Amusements Anarcho-Syndicalists\n",
            "    Andalusians Andes Andruses Angels Animals Anthony Antilles Antiques\n",
            "    Apache Apaches Apocrypha ...\n",
            "NNS: noun, common, plural\n",
            "    undergraduates scotches bric-a-brac products bodyguards facets coasts\n",
            "    divestitures storehouses designs clubs fragrances averages\n",
            "    subjectivists apprehensions muses factory-jobs ...\n",
            "PDT: pre-determiner\n",
            "    all both half many quite such sure this\n",
            "POS: genitive marker\n",
            "    ' 's\n",
            "PRP: pronoun, personal\n",
            "    hers herself him himself hisself it itself me myself one oneself ours\n",
            "    ourselves ownself self she thee theirs them themselves they thou thy us\n",
            "PRP$: pronoun, possessive\n",
            "    her his mine my our ours their thy your\n",
            "RB: adverb\n",
            "    occasionally unabatingly maddeningly adventurously professedly\n",
            "    stirringly prominently technologically magisterially predominately\n",
            "    swiftly fiscally pitilessly ...\n",
            "RBR: adverb, comparative\n",
            "    further gloomier grander graver greater grimmer harder harsher\n",
            "    healthier heavier higher however larger later leaner lengthier less-\n",
            "    perfectly lesser lonelier longer louder lower more ...\n",
            "RBS: adverb, superlative\n",
            "    best biggest bluntest earliest farthest first furthest hardest\n",
            "    heartiest highest largest least less most nearest second tightest worst\n",
            "RP: particle\n",
            "    aboard about across along apart around aside at away back before behind\n",
            "    by crop down ever fast for forth from go high i.e. in into just later\n",
            "    low more off on open out over per pie raising start teeth that through\n",
            "    under unto up up-pp upon whole with you\n",
            "SYM: symbol\n",
            "    % & ' '' ''. ) ). * + ,. < = > @ A[fj] U.S U.S.S.R * ** ***\n",
            "TO: \"to\" as preposition or infinitive marker\n",
            "    to\n",
            "UH: interjection\n",
            "    Goodbye Goody Gosh Wow Jeepers Jee-sus Hubba Hey Kee-reist Oops amen\n",
            "    huh howdy uh dammit whammo shucks heck anyways whodunnit honey golly\n",
            "    man baby diddle hush sonuvabitch ...\n",
            "VB: verb, base form\n",
            "    ask assemble assess assign assume atone attention avoid bake balkanize\n",
            "    bank begin behold believe bend benefit bevel beware bless boil bomb\n",
            "    boost brace break bring broil brush build ...\n",
            "VBD: verb, past tense\n",
            "    dipped pleaded swiped regummed soaked tidied convened halted registered\n",
            "    cushioned exacted snubbed strode aimed adopted belied figgered\n",
            "    speculated wore appreciated contemplated ...\n",
            "VBG: verb, present participle or gerund\n",
            "    telegraphing stirring focusing angering judging stalling lactating\n",
            "    hankerin' alleging veering capping approaching traveling besieging\n",
            "    encrypting interrupting erasing wincing ...\n",
            "VBN: verb, past participle\n",
            "    multihulled dilapidated aerosolized chaired languished panelized used\n",
            "    experimented flourished imitated reunifed factored condensed sheared\n",
            "    unsettled primed dubbed desired ...\n",
            "VBP: verb, present tense, not 3rd person singular\n",
            "    predominate wrap resort sue twist spill cure lengthen brush terminate\n",
            "    appear tend stray glisten obtain comprise detest tease attract\n",
            "    emphasize mold postpone sever return wag ...\n",
            "VBZ: verb, present tense, 3rd person singular\n",
            "    bases reconstructs marks mixes displeases seals carps weaves snatches\n",
            "    slumps stretches authorizes smolders pictures emerges stockpiles\n",
            "    seduces fizzes uses bolsters slaps speaks pleads ...\n",
            "WDT: WH-determiner\n",
            "    that what whatever which whichever\n",
            "WP: WH-pronoun\n",
            "    that what whatever whatsoever which who whom whosoever\n",
            "WP$: WH-pronoun, possessive\n",
            "    whose\n",
            "WRB: Wh-adverb\n",
            "    how however whence whenever where whereby whereever wherein whereof why\n",
            "``: opening quotation mark\n",
            "    ` ``\n"
          ],
          "name": "stdout"
        }
      ]
    },
    {
      "cell_type": "markdown",
      "metadata": {
        "id": "veJzgeJDBdw1",
        "colab_type": "text"
      },
      "source": [
        "We construct a part of speech tag vocabulary by iterating over all tags in the training data. Note that opening parentheses `(` are escaped as `-LRB-` in the data format (and similarly `)` is escaped as `-RRB-`)"
      ]
    },
    {
      "cell_type": "code",
      "metadata": {
        "id": "u_QW5pk2G7-W",
        "colab_type": "code",
        "outputId": "f60496ae-7836-40d5-a60f-edf9124d10a9",
        "colab": {
          "base_uri": "https://localhost:8080/",
          "height": 54
        }
      },
      "source": [
        "def get_pos_vocab():\n",
        "  all_pos = set()\n",
        "  for sent in READER.tagged_sents('train'):\n",
        "    for word, pos in sent:\n",
        "      all_pos.add(pos)\n",
        "  return sorted(all_pos)\n",
        "\n",
        "PARTS_OF_SPEECH = get_pos_vocab()\n",
        "print(PARTS_OF_SPEECH)"
      ],
      "execution_count": 13,
      "outputs": [
        {
          "output_type": "stream",
          "text": [
            "['#', '$', \"''\", ',', '-LRB-', '-RRB-', '.', ':', 'CC', 'CD', 'DT', 'EX', 'FW', 'IN', 'JJ', 'JJR', 'JJS', 'LS', 'MD', 'NN', 'NNP', 'NNPS', 'NNS', 'PDT', 'POS', 'PRP', 'PRP$', 'RB', 'RBR', 'RBS', 'RP', 'SYM', 'TO', 'UH', 'VB', 'VBD', 'VBG', 'VBN', 'VBP', 'VBZ', 'WDT', 'WP', 'WP$', 'WRB', '``']\n"
          ],
          "name": "stdout"
        }
      ]
    },
    {
      "cell_type": "markdown",
      "metadata": {
        "id": "ifj0Isu3B5Hj",
        "colab_type": "text"
      },
      "source": [
        "The `POSTaggingDataset` object defined below is a PyTorch Dataset object for this task.\n",
        "\n",
        "Each example in the dataset is a feature dictionary, consisting of word piece `ids`, and corresponding label ids (`labels`). We associate a word's label with the last subword. Any remaining subwords, as well as special tokens like the start token or padding token, will have a label of -1 assigned to them. This will signal that we shouldn't compute a loss for that label.\n",
        "\n",
        "We also define a `collate` function that takes care of padding when examples are batched together. "
      ]
    },
    {
      "cell_type": "code",
      "metadata": {
        "id": "dT4iBQ1eBoSJ",
        "colab_type": "code",
        "colab": {}
      },
      "source": [
        "class POSTaggingDataset(torch.utils.data.Dataset):\n",
        "  def __init__(self, split):\n",
        "    assert split in ('train', 'dev', 'test')\n",
        "    self.sents = READER.tagged_sents(split)\n",
        "    if split == 'train':\n",
        "      # To speed up training, we only train on short sentences.\n",
        "      self.sents = [sent for sent in self.sents if len(sent) <= 40]\n",
        "\n",
        "  def __len__(self):\n",
        "    return len(self.sents)\n",
        "\n",
        "  def __getitem__(self, index):\n",
        "    sent = self.sents[index]\n",
        "    ids, is_word_end = encode_sentence([word for word, pos in sent])\n",
        "    ids = [BOS_ID] + ids + [EOS_ID]\n",
        "    is_word_end = [False] + is_word_end + [False]\n",
        "    ids = torch.tensor(ids)\n",
        "    is_word_end = torch.tensor(is_word_end)\n",
        "    labels = torch.full_like(ids, -1)\n",
        "    labels[is_word_end] = torch.tensor(\n",
        "        [PARTS_OF_SPEECH.index(pos) for word, pos in sent])\n",
        "    return {'ids': ids, 'labels': labels}\n",
        "\n",
        "  @staticmethod\n",
        "  def collate(batch):\n",
        "    ids = pad_sequence(\n",
        "        [item['ids'] for item in batch],\n",
        "        batch_first=True, padding_value=PAD_ID)\n",
        "    labels = pad_sequence(\n",
        "        [item['labels'] for item in batch],\n",
        "        batch_first=True, padding_value=-1)\n",
        "    return {'ids': ids.to(device), 'labels': labels.to(device)}"
      ],
      "execution_count": 0,
      "outputs": []
    },
    {
      "cell_type": "code",
      "metadata": {
        "id": "gt5E2Pr_skQL",
        "colab_type": "code",
        "outputId": "20436e3c-0dd0-4c0c-fcc1-1f3a0f94ab7d",
        "colab": {
          "base_uri": "https://localhost:8080/",
          "height": 52
        }
      },
      "source": [
        "dataset_for_inspection = POSTaggingDataset('train')\n",
        "datum = dataset_for_inspection[0]\n",
        "datum"
      ],
      "execution_count": 15,
      "outputs": [
        {
          "output_type": "execute_result",
          "data": {
            "text/plain": [
              "{'ids': tensor([   1,  126,    4,   14, 9362,  711,    4, 4386, 8675,    7,    2]),\n",
              " 'labels': tensor([-1, -1, -1, 20, 20, -1, 39, -1, 20,  6, -1])}"
            ]
          },
          "metadata": {
            "tags": []
          },
          "execution_count": 15
        }
      ]
    },
    {
      "cell_type": "code",
      "metadata": {
        "id": "73v2WPBAGDFN",
        "colab_type": "code",
        "outputId": "73ca2dbb-7e7e-41a1-fba6-38a3f18a39be",
        "colab": {
          "base_uri": "https://localhost:8080/",
          "height": 208
        }
      },
      "source": [
        "for i, (piece_id, label) in enumerate(zip(datum['ids'].tolist(),\n",
        "                                          datum['labels'].tolist())):\n",
        "  print('{:2d} {: <5} {}'.format(\n",
        "      i, \"-\" if label == -1 else PARTS_OF_SPEECH[label],\n",
        "      VOCAB.IdToPiece(piece_id)))"
      ],
      "execution_count": 16,
      "outputs": [
        {
          "output_type": "stream",
          "text": [
            " 0 -     <s>\n",
            " 1 -     ▁M\n",
            " 2 -     s\n",
            " 3 NNP   .\n",
            " 4 NNP   ▁Haag\n",
            " 5 -     ▁play\n",
            " 6 VBZ   s\n",
            " 7 -     ▁Eli\n",
            " 8 NNP   anti\n",
            " 9 .     ▁.\n",
            "10 -     </s>\n"
          ],
          "name": "stdout"
        }
      ]
    },
    {
      "cell_type": "code",
      "metadata": {
        "id": "drIp8PNRJ_hP",
        "colab_type": "code",
        "outputId": "7af4a5e3-a64c-478f-9486-87322ba9ff03",
        "colab": {
          "base_uri": "https://localhost:8080/",
          "height": 173
        }
      },
      "source": [
        "data_loader_for_inspection = torch.utils.data.DataLoader(\n",
        "    dataset_for_inspection, batch_size=2, shuffle=True,\n",
        "    collate_fn=dataset_for_inspection.collate)\n",
        "next(iter(data_loader_for_inspection))"
      ],
      "execution_count": 17,
      "outputs": [
        {
          "output_type": "execute_result",
          "data": {
            "text/plain": [
              "{'ids': tensor([[   1,  126, 1885,   32,   13,  392,  186,  813,   34,    9,    8,   27,\n",
              "          5452, 7659,   38,    8,   37,    8,   27, 1082, 4822,   38,    7,    2],\n",
              "         [   1,   25, 8530,   19, 6260,    4,  293,   59,   92,   61,   19, 9992,\n",
              "             5, 9992,   59,   90,   61,   19,    7,    2,    0,    0,    0,    0]],\n",
              "        device='cuda:0'),\n",
              " 'labels': tensor([[-1, -1, 20, -1, 35, 19, 35,  9, 19, 32, -1,  1, -1,  9,  9, -1, 13, -1,\n",
              "           1, -1,  9,  9,  6, -1],\n",
              "         [-1, 10, -1, -1, -1, 22, 19, -1, -1, -1,  4, 33,  3, 33, -1, -1, -1,  5,\n",
              "           6, -1, -1, -1, -1, -1]], device='cuda:0')}"
            ]
          },
          "metadata": {
            "tags": []
          },
          "execution_count": 17
        }
      ]
    },
    {
      "cell_type": "markdown",
      "metadata": {
        "id": "KiSPP3tdyaid",
        "colab_type": "text"
      },
      "source": [
        "## Training Loop and Baseline POS Tagging Model"
      ]
    },
    {
      "cell_type": "markdown",
      "metadata": {
        "id": "gGIIy0230Zdc",
        "colab_type": "text"
      },
      "source": [
        "Now it's time to build a model. At a high level, the model will encode the sentence using a Transformer architecture, then project to a softmax over the vocabulary at each word position.  We've implemented the overall model framework already, including computing the softmax cross-entropy loss for training the tagger."
      ]
    },
    {
      "cell_type": "code",
      "metadata": {
        "id": "Dz3pUko2L8Fj",
        "colab_type": "code",
        "colab": {}
      },
      "source": [
        "class POSTaggingModel(nn.Module):\n",
        "  def encode(self, batch):\n",
        "    # you will override this function in a subclass below\n",
        "    raise NotImplementedError()\n",
        "\n",
        "  def compute_loss(self, batch):\n",
        "    logits = self.encode(batch)\n",
        "    logits = logits.reshape((-1, logits.shape[-1]))\n",
        "    labels = batch['labels'].reshape((-1,))\n",
        "    res = F.cross_entropy(logits, labels, ignore_index=-1, reduction='mean')\n",
        "    return res\n",
        "  \n",
        "  def get_validation_metric(self, batch_size=8):\n",
        "    dataset = POSTaggingDataset('dev')\n",
        "    data_loader = torch.utils.data.DataLoader(\n",
        "      dataset, batch_size=batch_size, collate_fn=dataset.collate)\n",
        "    self.eval()\n",
        "    correct = 0\n",
        "    total = 0\n",
        "    with torch.no_grad():\n",
        "      for batch in data_loader:\n",
        "        mask = (batch['labels'] != -1)\n",
        "        predicted_labels = self.encode(batch).argmax(-1)\n",
        "        predicted_labels = predicted_labels[mask]\n",
        "        gold_labels = batch['labels'][mask]\n",
        "        correct += (predicted_labels == gold_labels).sum().item()\n",
        "        total += gold_labels.shape[0]\n",
        "    return correct / total"
      ],
      "execution_count": 0,
      "outputs": []
    },
    {
      "cell_type": "markdown",
      "metadata": {
        "id": "jx9jJQb58nUY",
        "colab_type": "text"
      },
      "source": [
        "We define the following functions for training.  This code will run as provided, but you are welcome to modify the training loop to adjust the optimizer settings, modify the learning rate schedule, etc.\n",
        "\n",
        "When training transformers, it has been found that early training can be unstable unless the learning rate starts out very low.  To alleviate this instability, we'll use a schedule where the learning rate is increased linearly from 0 to its maximum value during a warm-up phase, and is then decayed as training progresses.\n",
        "\n",
        "You may change the duration of the warmup phase or disable it entirely, but bear in mind that warmup is generally seen as a key ingredient for stably training Transformer models. "
      ]
    },
    {
      "cell_type": "code",
      "metadata": {
        "id": "VKc1pwaZzcUN",
        "colab_type": "code",
        "colab": {}
      },
      "source": [
        "def train(model, num_epochs, batch_size, model_file,\n",
        "          learning_rate=8e-4, dataset_cls=POSTaggingDataset):\n",
        "  \"\"\"Train the model and save its best checkpoint.\n",
        "  \n",
        "  Model performance across epochs is evaluated on the validation set. The best\n",
        "  checkpoint obtained during training will be stored on disk and loaded back\n",
        "  into the model at the end of training.\n",
        "  \"\"\"\n",
        "  dataset = dataset_cls('train')\n",
        "  data_loader = torch.utils.data.DataLoader(\n",
        "    dataset, batch_size=batch_size, shuffle=True, collate_fn=dataset.collate)\n",
        "  optimizer = torch.optim.Adam(\n",
        "      model.parameters(),\n",
        "      lr=learning_rate, betas=(0.9, 0.98), eps=1e-9)\n",
        "  scheduler = torch.optim.lr_scheduler.OneCycleLR(\n",
        "      optimizer,\n",
        "      learning_rate,\n",
        "      epochs=num_epochs,\n",
        "      steps_per_epoch=len(data_loader),\n",
        "      pct_start=0.02,  # Warm up for 2% of the total training time\n",
        "      )\n",
        "  best_metric = 0.0\n",
        "  for epoch in tqdm.notebook.trange(num_epochs, desc=\"training\", unit=\"epoch\"):\n",
        "    with tqdm.notebook.tqdm(\n",
        "        data_loader,\n",
        "        desc=\"epoch {}\".format(epoch + 1),\n",
        "        unit=\"batch\",\n",
        "        total=len(data_loader)) as batch_iterator:\n",
        "      model.train()\n",
        "      total_loss = 0.0\n",
        "      for i, batch in enumerate(batch_iterator, start=1):\n",
        "        optimizer.zero_grad()\n",
        "        loss = model.compute_loss(batch)\n",
        "        total_loss += loss.item()\n",
        "        loss.backward()\n",
        "        optimizer.step()\n",
        "        scheduler.step()\n",
        "        batch_iterator.set_postfix(mean_loss=total_loss / i)\n",
        "      validation_metric = model.get_validation_metric()\n",
        "      batch_iterator.set_postfix(\n",
        "          mean_loss=total_loss / i,\n",
        "          validation_metric=validation_metric)\n",
        "      if validation_metric > best_metric:\n",
        "        print(\n",
        "            \"Obtained a new best validation metric of {:.3f}, saving model \"\n",
        "            \"checkpoint to {}...\".format(validation_metric, model_file))\n",
        "        torch.save(model.state_dict(), model_file)\n",
        "        best_metric = validation_metric\n",
        "  print(\"Reloading best model checkpoint from {}...\".format(model_file))\n",
        "  model.load_state_dict(torch.load(model_file))"
      ],
      "execution_count": 0,
      "outputs": []
    },
    {
      "cell_type": "markdown",
      "metadata": {
        "id": "GZYFBChe8-2F",
        "colab_type": "text"
      },
      "source": [
        "We can now train a very simple baseline model that learns a single parameter per part of speech tag.\n",
        "\n",
        "A classifier where each word is assigned its most-frequent tag from the training data (and unknown words are treated as nouns) has 92.2% validation accuracy with our current splits. However, with our subword vocabulary (and taking the last subword as representative of each word), the accuracy is instead 87.6%. The `BaselineModel` should achieve roughly this accuracy."
      ]
    },
    {
      "cell_type": "code",
      "metadata": {
        "id": "pdKjXH-a2HyF",
        "colab_type": "code",
        "colab": {}
      },
      "source": [
        "class BaselineModel(POSTaggingModel):\n",
        "  def __init__(self):\n",
        "    super().__init__()\n",
        "    self.lookup = nn.Embedding(VOCAB.GetPieceSize(), len(PARTS_OF_SPEECH))\n",
        "\n",
        "  def encode(self, batch):\n",
        "    ids = batch['ids']\n",
        "    return self.lookup(ids)"
      ],
      "execution_count": 0,
      "outputs": []
    },
    {
      "cell_type": "code",
      "metadata": {
        "id": "thNLsZ04Z0A-",
        "colab_type": "code",
        "outputId": "129b8677-b7c8-41e7-c998-c30624f975fe",
        "colab": {
          "base_uri": "https://localhost:8080/",
          "height": 417,
          "referenced_widgets": [
            "d1381f1447904700960d28e7cfa22db4",
            "7084d9b9f64b4d79b0dda4b8d4c80916",
            "90117c78c5724c0cb7b3aba8b17dc37f",
            "22a1172441b94d3d89a4ad1b6f997367",
            "e24bee1310214abcaefa9cc26bd65408",
            "321e779a229f4eef85419a4029b7fbee",
            "8d76bd9ece9d4766a05b6a058358bfc9",
            "b783c6e19b514bddb905605c92aca313",
            "a562ec33b3fd49649328455b2f38c533",
            "e17ea61d891342409142e3b34fb84088",
            "a86e1606b3ed42da9ed491d4db3e6f55",
            "873ea1d8cb2b454596573eedb40288bb",
            "1e054f04320b473cbfe617e8298bfe25",
            "5d1476a3201847e1a95cf10a01b5d58e",
            "37fbc1b17afc4a9bbc9bce7ca9578a0a",
            "97b2836045b14b0e8b46a1df28e6761c",
            "44d12fd7c4b54433aba20379a8d60685",
            "2ec1d4d6ee5544bf8dea6ebdec33589d",
            "e5cfbb2393d743e7b5a262d46cf6a17d",
            "ddd46afce96b438fb315107108a84b55",
            "3678ff2bb47e4acd835937f0b829c1bd",
            "54f37cf242e844208bf6f96f9348fb62",
            "f9213c739233445ea5fe7f0b21a78298",
            "be8e9cefdc6249d498a1f99c78d8ca32",
            "b8bde2863f5b42cfb4dd96ff7b75efea",
            "450cf599fe6f47e0959aee234d831e6d",
            "147df138560c4406b5c861daf47257ac",
            "43a32cdd72b54303b0fffe10b2020690",
            "56f65c9c4a7e4d698129a835ffab1d41",
            "01a7afdf15d6455c96540a4a41e3c754",
            "e5ce4e7ae7634a2cabd38af952b856af",
            "b511fcd977da4933bc13406fce9dee49",
            "4efaaa6c18c848469278f9de7cce7d4d",
            "2db4b0df0a6c4f1b87058e8f705f15a2",
            "cf410ae5e4664a318336ae46264c2429",
            "b7ae7a26fb9b4e3d821c82ba77d40edc",
            "c7ec5e8374824dc58a8f7ee6a1a1195b",
            "052c1b820f6e40e893a8dfb0bf322f8e",
            "7f813735babb4477a9aa5622d017c9b0",
            "591d11064e654ad593f6c72c93df5666",
            "56c8818d47cd4b109c776ca032f3e391",
            "973d885bbdaa4ad5b0ded441b0dd045b",
            "23b9fda2dc114679b52e1e8e274c94a9",
            "1b1f3dfd6c4646b0aaa61a5936529d64",
            "28746f2129bb40799edc040a431e0491",
            "a17d93fec3174fa396427094adfa8210",
            "b964ffc7eace4119b50021591471e321",
            "a47c967b295145d593011de2a7d73576"
          ]
        }
      },
      "source": [
        "baseline_model = BaselineModel().to(device)\n",
        "train(baseline_model, num_epochs=5, batch_size=64,\n",
        "      model_file=\"baseline_model.pt\", learning_rate=0.1)"
      ],
      "execution_count": 0,
      "outputs": [
        {
          "output_type": "display_data",
          "data": {
            "application/vnd.jupyter.widget-view+json": {
              "model_id": "d1381f1447904700960d28e7cfa22db4",
              "version_minor": 0,
              "version_major": 2
            },
            "text/plain": [
              "HBox(children=(FloatProgress(value=0.0, description='training', max=5.0, style=ProgressStyle(description_width…"
            ]
          },
          "metadata": {
            "tags": []
          }
        },
        {
          "output_type": "display_data",
          "data": {
            "application/vnd.jupyter.widget-view+json": {
              "model_id": "a562ec33b3fd49649328455b2f38c533",
              "version_minor": 0,
              "version_major": 2
            },
            "text/plain": [
              "HBox(children=(FloatProgress(value=0.0, description='epoch 1', max=575.0, style=ProgressStyle(description_widt…"
            ]
          },
          "metadata": {
            "tags": []
          }
        },
        {
          "output_type": "stream",
          "text": [
            "\n",
            "Obtained a new best validation metric of 0.873, saving model checkpoint to baseline_model.pt...\n"
          ],
          "name": "stdout"
        },
        {
          "output_type": "display_data",
          "data": {
            "application/vnd.jupyter.widget-view+json": {
              "model_id": "44d12fd7c4b54433aba20379a8d60685",
              "version_minor": 0,
              "version_major": 2
            },
            "text/plain": [
              "HBox(children=(FloatProgress(value=0.0, description='epoch 2', max=575.0, style=ProgressStyle(description_widt…"
            ]
          },
          "metadata": {
            "tags": []
          }
        },
        {
          "output_type": "stream",
          "text": [
            "\n",
            "Obtained a new best validation metric of 0.873, saving model checkpoint to baseline_model.pt...\n"
          ],
          "name": "stdout"
        },
        {
          "output_type": "display_data",
          "data": {
            "application/vnd.jupyter.widget-view+json": {
              "model_id": "b8bde2863f5b42cfb4dd96ff7b75efea",
              "version_minor": 0,
              "version_major": 2
            },
            "text/plain": [
              "HBox(children=(FloatProgress(value=0.0, description='epoch 3', max=575.0, style=ProgressStyle(description_widt…"
            ]
          },
          "metadata": {
            "tags": []
          }
        },
        {
          "output_type": "stream",
          "text": [
            "\n",
            "Obtained a new best validation metric of 0.875, saving model checkpoint to baseline_model.pt...\n"
          ],
          "name": "stdout"
        },
        {
          "output_type": "display_data",
          "data": {
            "application/vnd.jupyter.widget-view+json": {
              "model_id": "4efaaa6c18c848469278f9de7cce7d4d",
              "version_minor": 0,
              "version_major": 2
            },
            "text/plain": [
              "HBox(children=(FloatProgress(value=0.0, description='epoch 4', max=575.0, style=ProgressStyle(description_widt…"
            ]
          },
          "metadata": {
            "tags": []
          }
        },
        {
          "output_type": "stream",
          "text": [
            "\n",
            "Obtained a new best validation metric of 0.875, saving model checkpoint to baseline_model.pt...\n"
          ],
          "name": "stdout"
        },
        {
          "output_type": "display_data",
          "data": {
            "application/vnd.jupyter.widget-view+json": {
              "model_id": "56c8818d47cd4b109c776ca032f3e391",
              "version_minor": 0,
              "version_major": 2
            },
            "text/plain": [
              "HBox(children=(FloatProgress(value=0.0, description='epoch 5', max=575.0, style=ProgressStyle(description_widt…"
            ]
          },
          "metadata": {
            "tags": []
          }
        },
        {
          "output_type": "stream",
          "text": [
            "\n",
            "Obtained a new best validation metric of 0.875, saving model checkpoint to baseline_model.pt...\n",
            "\n",
            "Reloading best model checkpoint from baseline_model.pt...\n"
          ],
          "name": "stdout"
        }
      ]
    },
    {
      "cell_type": "markdown",
      "metadata": {
        "id": "4MEVY7vOKVbp",
        "colab_type": "text"
      },
      "source": [
        "Having trained the model, we can examine its predictions on an example from the validation set."
      ]
    },
    {
      "cell_type": "code",
      "metadata": {
        "id": "Gh7Kx_R8VH0Q",
        "colab_type": "code",
        "colab": {}
      },
      "source": [
        "def predict_tags(tagging_model, split, limit=None):\n",
        "  assert split in ('dev', 'test')\n",
        "  sents = READER.sents(split)\n",
        "  dataset = POSTaggingDataset(split)\n",
        "  data_loader = torch.utils.data.DataLoader(\n",
        "    dataset, batch_size=8, shuffle=False, collate_fn=dataset.collate)\n",
        "  tagging_model.eval()\n",
        "  pred_tagged_sents = []\n",
        "  with torch.no_grad():\n",
        "    for batch in data_loader:\n",
        "      mask = (batch['labels'] != -1)\n",
        "      predicted_labels = tagging_model.encode(batch).argmax(-1)\n",
        "      for i in range(batch['ids'].shape[0]):\n",
        "        example_predicted_tags = [\n",
        "            PARTS_OF_SPEECH[label] for label in predicted_labels[i][mask[i]]]\n",
        "        sent = sents[len(pred_tagged_sents)]\n",
        "        assert len(sent) == len(example_predicted_tags)\n",
        "        pred_tagged_sents.append(list(zip(sent, example_predicted_tags)))\n",
        "        if limit is not None and len(pred_tagged_sents) >= limit:\n",
        "          return pred_tagged_sents\n",
        "  return pred_tagged_sents"
      ],
      "execution_count": 0,
      "outputs": []
    },
    {
      "cell_type": "code",
      "metadata": {
        "id": "_ZjD3vvyWg0s",
        "colab_type": "code",
        "outputId": "be309413-3771-4b32-93bc-877eaccc97f6",
        "colab": {
          "base_uri": "https://localhost:8080/",
          "height": 660
        }
      },
      "source": [
        "predict_tags(baseline_model, 'dev', limit=1)"
      ],
      "execution_count": 0,
      "outputs": [
        {
          "output_type": "execute_result",
          "data": {
            "text/plain": [
              "[[('Influential', 'JJ'),\n",
              "  ('members', 'NNS'),\n",
              "  ('of', 'IN'),\n",
              "  ('the', 'DT'),\n",
              "  ('House', 'NNP'),\n",
              "  ('Ways', 'NNS'),\n",
              "  ('and', 'CC'),\n",
              "  ('Means', 'NNS'),\n",
              "  ('Committee', 'NNP'),\n",
              "  ('introduced', 'VBD'),\n",
              "  ('legislation', 'NNP'),\n",
              "  ('that', 'IN'),\n",
              "  ('would', 'MD'),\n",
              "  ('restrict', 'VB'),\n",
              "  ('how', 'WRB'),\n",
              "  ('the', 'DT'),\n",
              "  ('new', 'JJ'),\n",
              "  ('savings-and-loan', 'JJ'),\n",
              "  ('bailout', 'NN'),\n",
              "  ('agency', 'NN'),\n",
              "  ('can', 'MD'),\n",
              "  ('raise', 'VB'),\n",
              "  ('capital', 'NN'),\n",
              "  (',', ','),\n",
              "  ('creating', 'VBG'),\n",
              "  ('another', 'DT'),\n",
              "  ('potential', 'JJ'),\n",
              "  ('obstacle', 'NN'),\n",
              "  ('to', 'TO'),\n",
              "  ('the', 'DT'),\n",
              "  ('government', 'NN'),\n",
              "  (\"'s\", 'NNS'),\n",
              "  ('sale', 'NN'),\n",
              "  ('of', 'IN'),\n",
              "  ('sick', 'JJ'),\n",
              "  ('thrifts', 'NNS'),\n",
              "  ('.', '.')]]"
            ]
          },
          "metadata": {
            "tags": []
          },
          "execution_count": 27
        }
      ]
    },
    {
      "cell_type": "markdown",
      "metadata": {
        "id": "vb7NfD4BD7I_",
        "colab_type": "text"
      },
      "source": [
        "## Transformer POS Tagging Model"
      ]
    },
    {
      "cell_type": "markdown",
      "metadata": {
        "id": "xRLmOHQzE4He",
        "colab_type": "text"
      },
      "source": [
        "Your task is to implement the Transformer architecture (https://arxiv.org/pdf/1706.03762.pdf) and apply it to tagging.\n",
        "\n",
        "Here is a diagram of the architecture you will implement:\n",
        "\n",
        "<img src=\"https://www.researchgate.net/publication/334288604/figure/fig1/AS:778232232148992@1562556431066/The-Transformer-encoder-structure.ppm\" width=\"180em\">\n",
        "\n",
        "This portion is referred to as the \"Transformer Encoder\". In the paper there is also a decoder portion for generating text one token at a time; such a decoder is not needed for this project.\n",
        "\n",
        "The key elements of the Transformer are a multi-headed attention mechanism, and a feed-forward layer.\n",
        "\n",
        "Each sub-layer (whether multi-head attention or feed forward) uses a residual connection followed by Layer Normalization (`nn.LayerNorm` in pytorch). Both residual connections and normalizations are crucial to being able to train a model that's more than a couple layers deep.\n"
      ]
    },
    {
      "cell_type": "markdown",
      "metadata": {
        "id": "xbL92ahgw09l",
        "colab_type": "text"
      },
      "source": [
        "The first part is multi-head self-attention. In this layer, you will need to:\n",
        "- Apply linear projections to convert the feature vector at each token into separate vectors for the query, key, and value.\n",
        "- Apply attention, scaling the logits by $\\frac{1}{sqrt(d_{qkv})}$.\n",
        "- Ensure proper masking, such that padding tokens are never attended to.\n",
        "- Perform attention `n_head` times in parallel, where the results are concatenated and then projected using a linear layer.\n",
        "\n",
        "<img src=\"https://www.researchgate.net/publication/332139525/figure/fig3/AS:743081083158528@1554175744311/a-The-Transformer-model-architecture-b-left-Scaled-Dot-Product-Attention.ppm\" width=\"360em\">\n",
        "\n",
        "You should include two types of dropout in your code (with probability set by the  `dropout` argument):\n",
        "- Dropout should be applied to the output of the attention layer (just prior to the residual connection, denoted by \"Add & Norm\" in the first figure)\n",
        "- Dropout should *also* be applied to attention probabilites, right after the softmax operation that's applied to query-key dot products. This type of dropout stochastically prevents a query position from attending to a fraction of key positions, which can help generalization. (Note that the probabilities will no longer sum to 1, but that's okay - they will still have an expectation of 1 due to PyTorch's dropout rescaling)\n",
        "\n",
        "Notes:\n",
        "- Query, key, and value vectors should have shape `[batch_size, n_heads, sequence_len, d_qkv]`\n",
        "- Attention logits and probabilities should have shape `[batch_size, n_heads, sequence_len, sequence_len]`\n",
        "- Vaswani et al. define the output of the attention layer as concatenating the various heads and then multiplying by a matrix $W^O$. It's also possible to implement this is a sum without ever calling `torch.cat`: note that $\\text{Concat}(head_1, \\ldots, head_h)W^O = head_1 W^O_1 + \\ldots + head_h W^O_h$ where $W^O = \\begin{bmatrix} W^O_1\\\\ \\vdots\\\\ W^O_h\\end{bmatrix}$"
      ]
    },
    {
      "cell_type": "code",
      "metadata": {
        "id": "IZ4v4TKJXzdE",
        "colab_type": "code",
        "colab": {}
      },
      "source": [
        "class MultiHeadAttention(nn.Module):\n",
        "  def __init__(self, d_model=256, n_head=4, d_qkv=32, dropout=0.1, **kwargs):\n",
        "    super().__init__()\n",
        "    self.d_model = d_model\n",
        "    self.n_head = n_head\n",
        "    self.d_qkv = d_qkv\n",
        "\n",
        "    # We provide these model parameters to give an example of a weight\n",
        "    # initialization approach that we know works well for our tasks. Feel free\n",
        "    # to delete these lines and write your own, if you would like.\n",
        "    self.w_q = nn.Parameter(torch.Tensor(n_head, d_model, d_qkv))\n",
        "    self.w_k = nn.Parameter(torch.Tensor(n_head, d_model, d_qkv))\n",
        "    self.w_v = nn.Parameter(torch.Tensor(n_head, d_model, d_qkv))\n",
        "    self.w_o = nn.Parameter(torch.Tensor(n_head, d_qkv, d_model))\n",
        "    nn.init.xavier_normal_(self.w_q)\n",
        "    nn.init.xavier_normal_(self.w_k)\n",
        "    nn.init.xavier_normal_(self.w_v)\n",
        "    nn.init.xavier_normal_(self.w_o)\n",
        "\n",
        "    # The hyperparameters given as arguments to this function and others\n",
        "    # should be sufficient to reach the score targets for this project\n",
        "\n",
        "    \"\"\"YOUR CODE HERE\"\"\"\n",
        "\n",
        "    self.dropout = nn.Dropout(dropout)\n",
        "  \n",
        "  def forward(self, x, mask):\n",
        "    \"\"\"Runs the multi-head self-attention layer.\n",
        "\n",
        "    Args:\n",
        "      x: the input to the layer, a tensor of shape [batch size, length, d_model]\n",
        "      mask: a mask for disallowing attention to padding tokens. You will need to\n",
        "            construct the mask yourself further on in this notebook. You may\n",
        "            implement masking in any way; there is no requirement that you use\n",
        "            a particular form for the mask object.\n",
        "    Returns:\n",
        "      A single tensor containing the output from this layer\n",
        "    \"\"\"\n",
        "    \"\"\"YOUR CODE HERE\"\"\"\n",
        "    # Implementation tip: using torch.einsum will greatly simplify the code that\n",
        "    # you need to write.\n",
        "\n",
        "    q = k = v = x\n",
        "    qw = torch.einsum('bse,hed->bhsd', q, self.w_q)\n",
        "    kw = torch.einsum('bse,hed->bhsd', k, self.w_k)\n",
        "    vw = torch.einsum('bse,hed->bhsd', v, self.w_v)    # [batch, n_head, seq_len, d_qkv]\n",
        "\n",
        "    qk = torch.einsum('bhid,bhjd->bhij', qw, kw)\n",
        "    qk_scaled = qk / self.d_qkv ** 0.5    # [batch, n_head, seq_len, seq_len]\n",
        "    qk_scaled_masked = torch.einsum('bhij,bij->bhij', qk_scaled, mask)\n",
        "    qk_logits = F.softmax(qk_scaled_masked, dim=-1)\n",
        "    qk_logits = self.dropout(qk_logits)\n",
        "\n",
        "    qkv_attention = torch.einsum('bhij,bhjk->bhik', qk_logits, vw)\n",
        "    multihead = torch.einsum('bhsd,hde->bse', qkv_attention, self.w_o)\n",
        "    multihead = self.dropout(multihead)\n",
        "\n",
        "    return multihead"
      ],
      "execution_count": 0,
      "outputs": []
    },
    {
      "cell_type": "markdown",
      "metadata": {
        "id": "BSLWy_8Ne82f",
        "colab_type": "text"
      },
      "source": [
        "The other component is the position-wise feed forward layer. This layer's architecture is sometimes called dense-relu-dense, because it consists of two dense linear layers with ReLU nonlinearity in the middle. The dropout here is typically applied at the output of the layer instead of next to the non-linearity in the middle."
      ]
    },
    {
      "cell_type": "code",
      "metadata": {
        "id": "aYq9acgnXvhk",
        "colab_type": "code",
        "colab": {}
      },
      "source": [
        "class PositionwiseFeedForward(nn.Module):\n",
        "  def __init__(self, d_model, d_ff, dropout=0.1):\n",
        "    super().__init__()\n",
        "    \"\"\"YOUR CODE HERE\"\"\"\n",
        "\n",
        "    self.dense1 = nn.Linear(d_model, d_ff)\n",
        "    self.dense2 = nn.Linear(d_ff, d_model)\n",
        "    self.dropout = nn.Dropout(dropout)\n",
        "\n",
        "  def forward(self, x):\n",
        "    \"\"\"YOUR CODE HERE\"\"\"\n",
        "\n",
        "    x = self.dense1(x)\n",
        "    x = F.relu(x)\n",
        "    x = self.dense2(x)\n",
        "    x = self.dropout(x)\n",
        "    return x"
      ],
      "execution_count": 0,
      "outputs": []
    },
    {
      "cell_type": "markdown",
      "metadata": {
        "id": "Gm0-10wAfA5N",
        "colab_type": "text"
      },
      "source": [
        "Combining the two gives the full transformer encoder architecture."
      ]
    },
    {
      "cell_type": "code",
      "metadata": {
        "id": "CahKqIbqKDTf",
        "colab_type": "code",
        "colab": {}
      },
      "source": [
        "class TransformerEncoder(nn.Module):\n",
        "  def __init__(self, d_model=256, d_ff=1024, n_layers=4, n_head=4, d_qkv=32,\n",
        "               dropout=0.1):\n",
        "    super().__init__()\n",
        "    # Implementation tip: if you are storing nn.Module objects in a list, use\n",
        "    # nn.ModuleList. If you use assignment statements of the form\n",
        "    # `self.sublayers = [x, y, z]` with a plain python list instead of a\n",
        "    # ModuleList, you might find that none of the sub-layer parameters are\n",
        "    # trained.\n",
        "\n",
        "    \"\"\"YOUR CODE HERE\"\"\"\n",
        "\n",
        "    self.positionwise_feedforward_sublayers = nn.ModuleList( [PositionwiseFeedForward(d_model, d_ff, dropout) for _ in range(n_layers)] )\n",
        "    self.multihead_attention_sublayers = nn.ModuleList( [MultiHeadAttention(d_model, n_head, d_qkv, dropout) for _ in range(n_layers)] )\n",
        "    self.layernorm_sublayers = nn.ModuleList( [nn.LayerNorm(d_model) for _ in range(2 * n_layers)] )\n",
        "\n",
        "  def forward(self, x, mask):\n",
        "    \"\"\"Runs the Transformer encoder.\n",
        "\n",
        "    Args:\n",
        "      x: the input to the Transformer, a tensor of shape\n",
        "         [batch size, length, d_model]\n",
        "      mask: a mask for disallowing attention to padding tokens. You will need to\n",
        "            construct the mask yourself further on in this notebook. You may\n",
        "            implement masking in any way; there is no requirement that you use\n",
        "            a particular form for the mask object.\n",
        "    Returns:\n",
        "      A single tensor containing the output from the Transformer\n",
        "    \"\"\"\n",
        "\n",
        "    \"\"\"YOUR CODE HERE\"\"\"\n",
        "\n",
        "    for i, (multihead, feedforward) in enumerate( zip(self.multihead_attention_sublayers, self.positionwise_feedforward_sublayers) ):\n",
        "\n",
        "      layernorm1, layernorm2 = self.layernorm_sublayers[2 * i : 2 * (i + 1)]\n",
        "      x = layernorm1(x + multihead(x, mask))\n",
        "      x = layernorm2(x + feedforward(x))\n",
        "\n",
        "    return x"
      ],
      "execution_count": 0,
      "outputs": []
    },
    {
      "cell_type": "markdown",
      "metadata": {
        "id": "m2mLail6UMjN",
        "colab_type": "text"
      },
      "source": [
        "Unlike with recurrent neural networks, word order is not encoded in the Transformer architecture directly. Instead, positions of words are provided in the form of position embeddings that are added to the feature vector of each word. The exact formulation of the position embeddings tends to be implementation-dependent, and a number of approaches have been proposed in the literature. The `AddPositionalEncoding` class below provides a version of positional encoding, with dropout, that we found to work well for parsing (the second task in this assignment). However, you are allowed to use a different implementation if you would like."
      ]
    },
    {
      "cell_type": "code",
      "metadata": {
        "id": "OQx5ZmlZt0H2",
        "colab_type": "code",
        "colab": {}
      },
      "source": [
        "class AddPositionalEncoding(nn.Module):\n",
        "  def __init__(self, d_model=256, input_dropout=0.1, timing_dropout=0.1,\n",
        "               max_len=512):\n",
        "    super().__init__()\n",
        "    self.timing_table = nn.Parameter(torch.FloatTensor(max_len, d_model))\n",
        "    nn.init.normal_(self.timing_table)\n",
        "    self.input_dropout = nn.Dropout(input_dropout)\n",
        "    self.timing_dropout = nn.Dropout(timing_dropout)\n",
        "\n",
        "  def forward(self, x):\n",
        "    \"\"\"\n",
        "    Args:\n",
        "      x: A tensor of shape [batch size, length, d_model]\n",
        "    \"\"\"\n",
        "    x = self.input_dropout(x)\n",
        "    timing = self.timing_table[None, :x.shape[1], :]\n",
        "    timing = self.timing_dropout(timing)\n",
        "    return x + timing"
      ],
      "execution_count": 0,
      "outputs": []
    },
    {
      "cell_type": "markdown",
      "metadata": {
        "id": "RK6B7pvEVl-H",
        "colab_type": "text"
      },
      "source": [
        "Complete the `TransformerPOSTaggingModel` below. Your goal is to achieve a target of 95% accuracy, or higher, on the validation set."
      ]
    },
    {
      "cell_type": "code",
      "metadata": {
        "id": "inIqeRH6VlfW",
        "colab_type": "code",
        "colab": {}
      },
      "source": [
        "class TransformerPOSTaggingModel(POSTaggingModel):\n",
        "  def __init__(self):\n",
        "    super().__init__()\n",
        "    d_model = 256\n",
        "    self.add_timing = AddPositionalEncoding(d_model)\n",
        "    self.encoder = TransformerEncoder(d_model)\n",
        "    \"\"\"YOUR CODE HERE.\"\"\"\n",
        "\n",
        "    self.embedding = nn.Embedding(VOCAB.GetPieceSize(), d_model)\n",
        "    self.layernorm = nn.LayerNorm(d_model)\n",
        "    self.last_linear = nn.Linear(d_model, len(PARTS_OF_SPEECH))\n",
        "\n",
        "  def encode(self, batch):\n",
        "    \"\"\"\n",
        "    Args:\n",
        "      batch: an input batch as a dictionary; the key 'ids' holds the vocab ids\n",
        "        of the subword tokens in a tensor of size [batch_size, sequence_length]\n",
        "    Returns:\n",
        "      A single tensor containing logits for each subword token\n",
        "        You don't need to filter the unlabeled subwords - this is handled by our\n",
        "        code above.\n",
        "    \"\"\"\n",
        "\n",
        "    # Implementation tip: you will want to use another normalization layer\n",
        "    # between the output of the encoder and the final projection layer\n",
        "\n",
        "    \"\"\"YOUR CODE HERE.\"\"\"\n",
        "\n",
        "    x = batch['ids']\n",
        "    x = self.embedding(x)\n",
        "    batch_size, seq_len, d_model = x.size()\n",
        "\n",
        "    labels = batch['labels']\n",
        "    mask = labels != -1\n",
        "    # mask = mask.unsqueeze(2).expand(-1, -1, seq_len)    # 95.7\n",
        "    # mask = mask.unsqueeze(1).expand(-1, seq_len, -1)    # Not good: 94.5\n",
        "\n",
        "    mask1 = mask.unsqueeze(2).expand(-1, -1, seq_len)\n",
        "    mask2 = mask.unsqueeze(1).expand(-1, seq_len, -1)\n",
        "\n",
        "    mask = mask1 + mask2\n",
        "    # mask = mask.float() / 2    # Weak correlation: 1.0, 0.5. 95.6\n",
        "    mask = mask > 0    # 'or' operation: mask1 or mask2. 95.7\n",
        "\n",
        "    x = self.add_timing(x)\n",
        "    x = self.encoder(x, mask)\n",
        "    x = self.layernorm(x)\n",
        "    y = self.last_linear(x)\n",
        "\n",
        "    return y"
      ],
      "execution_count": 0,
      "outputs": []
    },
    {
      "cell_type": "code",
      "metadata": {
        "id": "5o812OQHufeg",
        "colab_type": "code",
        "outputId": "412968b7-19e4-4cb3-d586-3b3813bc9e06",
        "colab": {
          "base_uri": "https://localhost:8080/",
          "height": 618,
          "referenced_widgets": [
            "7c680fe9f9cd4f00854584516e693b45",
            "1a61b93e207c41a2b7d784ce612ff29f",
            "c7e45122b98b46ce942059ea49e20d17",
            "c283dbf0f1b143d0a15d9a88fb57095d",
            "677bf57962e0437b969c76783b5d19b4",
            "8d6a2ef8b4364104b18ab0f38f092454",
            "2c2fbccd01374442a0f7c7e4b6b30888",
            "d8fb256abd974669915a8054520b37b0",
            "2a20d285a894428ca4d5801b34ffe6d7",
            "7dd4fce15bb4483b81e63a69aab88bc2",
            "1fa60a0b149841738416d14c879c5f2c",
            "349aa18e090b43dbb085ab76613041ef",
            "c74bbac05d0f4a928c37d51acc33b756",
            "f3eae7594a1840c3aca8a23f2207e9d1",
            "c45f011f5559457a801814cedd870f54",
            "7efc8a3cdc714535840f2760526ee4f7",
            "18b2a9059b2a4219ad6627f168faff4f",
            "25a0951a7ff64207ad3854edf921d1d9",
            "b26a8062f27b4d2d8c6b01b0e7a1e20d",
            "26affc0cf9c54091b09b8663f29f4026",
            "9b459155273c44ccb3fc65fcce7e9658",
            "795574d2241e4c77835b0ed834359ef9",
            "db66caac4f6e4fc7ba088bf0eb4e41d2",
            "7d0e4bc958734a28bd9bc30b0972e8d9",
            "4a8d8fe129af44699acf864d063c0a5d",
            "dfe586764455465f8c13b6a907e54d46",
            "7beee0761b7a4131bb227e280e652af3",
            "e0d53718575c47f88b6cf811b0a0007e",
            "4c432423374f4e63a495c868c204f296",
            "c166d9efb3ca42d0bbed279c88b6c57a",
            "343fb0aa24de4f7e82f58c50b79c4a2b",
            "ae74de2d65d34c7d9bb4be7c8750bd9d",
            "87733b07b7154f86b3182e3c376eddaf",
            "23f8af0607564d099c83876ac9af2372",
            "bd20d888dd1d48ff9581ceef10c65556",
            "563b04afd30e47b3a721ea55b0a0fa1f",
            "178048ce4e7e488bb717ab9a9fc2bb66",
            "135768bdb8e64983aa6f6118c72dbe1f",
            "4eb4c076d8d740b9a5519438cd2a1ed4",
            "64afa51051264e57b64a1c19d3b19b52",
            "0061844f4bef4d1c932befed1d93bf76",
            "e87621911b9446d4943212ed2042d051",
            "7e48874c5d29473089fea161fca4dddd",
            "193107ace1274721a1c462f4daedd930",
            "307b6c855bf24f3aa6dd2a8f468f0d58",
            "df93cbc966c84ebaa937f89f70e9d423",
            "edffc0e1a3d140cf9a2f449123cdf5cc",
            "c4c4d81f273c4ed79d04e6df5f2617ed",
            "17a296398d5d4794b17d086bbbd9269e",
            "09e86b200d3b450d93cfc9842e9a856f",
            "a0704114387a40ff967a232e7827f3f1",
            "9b51ed70967c4e48a27d7808b8f9d30a",
            "4c9bde8c03104d40bf4c0af63ffbbed3",
            "12c3df0d77ad4c9183051ca9e6ebd532",
            "e3a4f254be4640aab36a5e689d68dee1",
            "5bf42c06df7c4ab59fdf167e99d49077",
            "592f3a13f5b04c3094aa92266c6e3521",
            "1279f7538943497bb25f9e3bb0be5a37",
            "c2831b2e949c4958922e098fd5545b3c",
            "c2491615cf3142aab31e2eb391425365",
            "383f308961d04bdaae6e0aaf79fad262",
            "990aa1d06a024e71a0c1e2910ead1830",
            "562975ac81b74cb1bdeefad74c317dcb",
            "20f2653fa947415aa17819ea995c1cb4",
            "7ee90e41771643d980d5fcdd24b12a28",
            "87f7d0b1d64546c8ae2ac4526774fb00",
            "d98d9bc1c23d4be494907c274f9ece9b",
            "64d1a4586c194d3f8289fbc881521c28",
            "a0c187d0121a4c168ed27283fde6117a",
            "2c733612439d4a4b88917cfd904bcd90",
            "baf58a23643249d4b21507e814bf1b0c",
            "5e7ca55e103d44bdab34755fc4ef0a40"
          ]
        }
      },
      "source": [
        "# You are welcome to adjust these parameters based on your model implementation.\n",
        "num_epochs = 8\n",
        "batch_size = 16\n",
        "\n",
        "tagging_model = TransformerPOSTaggingModel().to(device)\n",
        "train(tagging_model, num_epochs, batch_size, \"tagging_model.pt\")"
      ],
      "execution_count": 0,
      "outputs": [
        {
          "output_type": "display_data",
          "data": {
            "application/vnd.jupyter.widget-view+json": {
              "model_id": "7c680fe9f9cd4f00854584516e693b45",
              "version_minor": 0,
              "version_major": 2
            },
            "text/plain": [
              "HBox(children=(FloatProgress(value=0.0, description='training', max=8.0, style=ProgressStyle(description_width…"
            ]
          },
          "metadata": {
            "tags": []
          }
        },
        {
          "output_type": "display_data",
          "data": {
            "application/vnd.jupyter.widget-view+json": {
              "model_id": "2a20d285a894428ca4d5801b34ffe6d7",
              "version_minor": 0,
              "version_major": 2
            },
            "text/plain": [
              "HBox(children=(FloatProgress(value=0.0, description='epoch 1', max=2298.0, style=ProgressStyle(description_wid…"
            ]
          },
          "metadata": {
            "tags": []
          }
        },
        {
          "output_type": "stream",
          "text": [
            "\n",
            "Obtained a new best validation metric of 0.923, saving model checkpoint to tagging_model.pt...\n"
          ],
          "name": "stdout"
        },
        {
          "output_type": "display_data",
          "data": {
            "application/vnd.jupyter.widget-view+json": {
              "model_id": "18b2a9059b2a4219ad6627f168faff4f",
              "version_minor": 0,
              "version_major": 2
            },
            "text/plain": [
              "HBox(children=(FloatProgress(value=0.0, description='epoch 2', max=2298.0, style=ProgressStyle(description_wid…"
            ]
          },
          "metadata": {
            "tags": []
          }
        },
        {
          "output_type": "stream",
          "text": [
            "\n",
            "Obtained a new best validation metric of 0.939, saving model checkpoint to tagging_model.pt...\n"
          ],
          "name": "stdout"
        },
        {
          "output_type": "display_data",
          "data": {
            "application/vnd.jupyter.widget-view+json": {
              "model_id": "4a8d8fe129af44699acf864d063c0a5d",
              "version_minor": 0,
              "version_major": 2
            },
            "text/plain": [
              "HBox(children=(FloatProgress(value=0.0, description='epoch 3', max=2298.0, style=ProgressStyle(description_wid…"
            ]
          },
          "metadata": {
            "tags": []
          }
        },
        {
          "output_type": "stream",
          "text": [
            "\n",
            "Obtained a new best validation metric of 0.945, saving model checkpoint to tagging_model.pt...\n"
          ],
          "name": "stdout"
        },
        {
          "output_type": "display_data",
          "data": {
            "application/vnd.jupyter.widget-view+json": {
              "model_id": "87733b07b7154f86b3182e3c376eddaf",
              "version_minor": 0,
              "version_major": 2
            },
            "text/plain": [
              "HBox(children=(FloatProgress(value=0.0, description='epoch 4', max=2298.0, style=ProgressStyle(description_wid…"
            ]
          },
          "metadata": {
            "tags": []
          }
        },
        {
          "output_type": "stream",
          "text": [
            "\n",
            "Obtained a new best validation metric of 0.948, saving model checkpoint to tagging_model.pt...\n"
          ],
          "name": "stdout"
        },
        {
          "output_type": "display_data",
          "data": {
            "application/vnd.jupyter.widget-view+json": {
              "model_id": "0061844f4bef4d1c932befed1d93bf76",
              "version_minor": 0,
              "version_major": 2
            },
            "text/plain": [
              "HBox(children=(FloatProgress(value=0.0, description='epoch 5', max=2298.0, style=ProgressStyle(description_wid…"
            ]
          },
          "metadata": {
            "tags": []
          }
        },
        {
          "output_type": "stream",
          "text": [
            "\n",
            "Obtained a new best validation metric of 0.955, saving model checkpoint to tagging_model.pt...\n"
          ],
          "name": "stdout"
        },
        {
          "output_type": "display_data",
          "data": {
            "application/vnd.jupyter.widget-view+json": {
              "model_id": "17a296398d5d4794b17d086bbbd9269e",
              "version_minor": 0,
              "version_major": 2
            },
            "text/plain": [
              "HBox(children=(FloatProgress(value=0.0, description='epoch 6', max=2298.0, style=ProgressStyle(description_wid…"
            ]
          },
          "metadata": {
            "tags": []
          }
        },
        {
          "output_type": "stream",
          "text": [
            "\n",
            "Obtained a new best validation metric of 0.955, saving model checkpoint to tagging_model.pt...\n"
          ],
          "name": "stdout"
        },
        {
          "output_type": "display_data",
          "data": {
            "application/vnd.jupyter.widget-view+json": {
              "model_id": "592f3a13f5b04c3094aa92266c6e3521",
              "version_minor": 0,
              "version_major": 2
            },
            "text/plain": [
              "HBox(children=(FloatProgress(value=0.0, description='epoch 7', max=2298.0, style=ProgressStyle(description_wid…"
            ]
          },
          "metadata": {
            "tags": []
          }
        },
        {
          "output_type": "stream",
          "text": [
            "\n",
            "Obtained a new best validation metric of 0.956, saving model checkpoint to tagging_model.pt...\n"
          ],
          "name": "stdout"
        },
        {
          "output_type": "display_data",
          "data": {
            "application/vnd.jupyter.widget-view+json": {
              "model_id": "7ee90e41771643d980d5fcdd24b12a28",
              "version_minor": 0,
              "version_major": 2
            },
            "text/plain": [
              "HBox(children=(FloatProgress(value=0.0, description='epoch 8', max=2298.0, style=ProgressStyle(description_wid…"
            ]
          },
          "metadata": {
            "tags": []
          }
        },
        {
          "output_type": "stream",
          "text": [
            "\n",
            "Obtained a new best validation metric of 0.956, saving model checkpoint to tagging_model.pt...\n",
            "\n",
            "Reloading best model checkpoint from tagging_model.pt...\n"
          ],
          "name": "stdout"
        }
      ]
    },
    {
      "cell_type": "markdown",
      "metadata": {
        "id": "_CQVsw0yhhne",
        "colab_type": "text"
      },
      "source": [
        "*You should download the `tagging_model.pt` file now so you can use it for generating submission files below even if your session gets disconnected before you finish.*"
      ]
    },
    {
      "cell_type": "code",
      "metadata": {
        "id": "_yPpbQ6wWFto",
        "colab_type": "code",
        "outputId": "9e6af46f-dbc7-43ca-b153-62825ac1d090",
        "colab": {
          "base_uri": "https://localhost:8080/",
          "height": 660
        }
      },
      "source": [
        "predict_tags(tagging_model, 'dev', limit=1)"
      ],
      "execution_count": 0,
      "outputs": [
        {
          "output_type": "execute_result",
          "data": {
            "text/plain": [
              "[[('Influential', 'JJ'),\n",
              "  ('members', 'NNS'),\n",
              "  ('of', 'IN'),\n",
              "  ('the', 'DT'),\n",
              "  ('House', 'NNP'),\n",
              "  ('Ways', 'NNPS'),\n",
              "  ('and', 'CC'),\n",
              "  ('Means', 'NNPS'),\n",
              "  ('Committee', 'NNP'),\n",
              "  ('introduced', 'VBD'),\n",
              "  ('legislation', 'NN'),\n",
              "  ('that', 'WDT'),\n",
              "  ('would', 'MD'),\n",
              "  ('restrict', 'VB'),\n",
              "  ('how', 'WRB'),\n",
              "  ('the', 'DT'),\n",
              "  ('new', 'JJ'),\n",
              "  ('savings-and-loan', 'JJ'),\n",
              "  ('bailout', 'NN'),\n",
              "  ('agency', 'NN'),\n",
              "  ('can', 'MD'),\n",
              "  ('raise', 'VB'),\n",
              "  ('capital', 'NN'),\n",
              "  (',', ','),\n",
              "  ('creating', 'VBG'),\n",
              "  ('another', 'DT'),\n",
              "  ('potential', 'JJ'),\n",
              "  ('obstacle', 'NN'),\n",
              "  ('to', 'TO'),\n",
              "  ('the', 'DT'),\n",
              "  ('government', 'NN'),\n",
              "  (\"'s\", 'POS'),\n",
              "  ('sale', 'NN'),\n",
              "  ('of', 'IN'),\n",
              "  ('sick', 'JJ'),\n",
              "  ('thrifts', 'NNS'),\n",
              "  ('.', '.')]]"
            ]
          },
          "metadata": {
            "tags": []
          },
          "execution_count": 34
        }
      ]
    },
    {
      "cell_type": "markdown",
      "metadata": {
        "id": "u15C5gGLMVSa",
        "colab_type": "text"
      },
      "source": [
        "## Parsing: Task Setup"
      ]
    },
    {
      "cell_type": "markdown",
      "metadata": {
        "id": "R7I01Tl1MYR9",
        "colab_type": "text"
      },
      "source": [
        "Next, let's move on from predicting tags to predicting full syntax trees. Let's start by taking a look at an example tree and the `nltk.tree.Tree` class."
      ]
    },
    {
      "cell_type": "code",
      "metadata": {
        "id": "YAj1lz-w_Hxq",
        "colab_type": "code",
        "outputId": "53ae07e8-ad5f-43a3-a2bb-731bef2fd114",
        "colab": {
          "base_uri": "https://localhost:8080/",
          "height": 467
        }
      },
      "source": [
        "example_tree = nltk.tree.Tree.fromstring(\"(TOP (S (NP (PRP She)) (VP (VBZ enjoys) (S (VP (VBG playing) (NP (NN tennis))))) (. .)))\")\n",
        "print(example_tree)\n",
        "example_tree"
      ],
      "execution_count": 26,
      "outputs": [
        {
          "output_type": "stream",
          "text": [
            "(TOP\n",
            "  (S\n",
            "    (NP (PRP She))\n",
            "    (VP (VBZ enjoys) (S (VP (VBG playing) (NP (NN tennis)))))\n",
            "    (. .)))\n"
          ],
          "name": "stdout"
        },
        {
          "output_type": "execute_result",
          "data": {
            "text/plain": [
              "Tree('TOP', [Tree('S', [Tree('NP', [Tree('PRP', ['She'])]), Tree('VP', [Tree('VBZ', ['enjoys']), Tree('S', [Tree('VP', [Tree('VBG', ['playing']), Tree('NP', [Tree('NN', ['tennis'])])])])]), Tree('.', ['.'])])])"
            ],
            "image/svg+xml": "<svg baseProfile=\"full\" height=\"360px\" preserveAspectRatio=\"xMidYMid meet\" style=\"font-family: times, serif; font-weight:normal; font-style: normal; font-size: 16px;\" version=\"1.1\" viewBox=\"0,0,264.0,360.0\" width=\"264px\" xmlns=\"http://www.w3.org/2000/svg\" xmlns:ev=\"http://www.w3.org/2001/xml-events\" xmlns:xlink=\"http://www.w3.org/1999/xlink\"><defs /><svg width=\"100%\" x=\"0\" y=\"0em\"><defs /><text text-anchor=\"middle\" x=\"50%\" y=\"1em\">TOP</text></svg><svg width=\"100%\" x=\"0%\" y=\"3em\"><defs /><svg width=\"100%\" x=\"0\" y=\"0em\"><defs /><text text-anchor=\"middle\" x=\"50%\" y=\"1em\">S</text></svg><svg width=\"15.1515%\" x=\"0%\" y=\"3em\"><defs /><svg width=\"100%\" x=\"0\" y=\"0em\"><defs /><text text-anchor=\"middle\" x=\"50%\" y=\"1em\">NP</text></svg><svg width=\"100%\" x=\"0%\" y=\"3em\"><defs /><svg width=\"100%\" x=\"0\" y=\"0em\"><defs /><text text-anchor=\"middle\" x=\"50%\" y=\"1em\">PRP</text></svg><svg width=\"100%\" x=\"0%\" y=\"3em\"><defs /><svg width=\"100%\" x=\"0\" y=\"0em\"><defs /><text text-anchor=\"middle\" x=\"50%\" y=\"1em\">She</text></svg></svg><line stroke=\"black\" x1=\"50%\" x2=\"50%\" y1=\"1.2em\" y2=\"3em\" /></svg><line stroke=\"black\" x1=\"50%\" x2=\"50%\" y1=\"1.2em\" y2=\"3em\" /></svg><line stroke=\"black\" x1=\"50%\" x2=\"7.57576%\" y1=\"1.2em\" y2=\"3em\" /><svg width=\"75.7576%\" x=\"15.1515%\" y=\"3em\"><defs /><svg width=\"100%\" x=\"0\" y=\"0em\"><defs /><text text-anchor=\"middle\" x=\"50%\" y=\"1em\">VP</text></svg><svg width=\"32%\" x=\"0%\" y=\"3em\"><defs /><svg width=\"100%\" x=\"0\" y=\"0em\"><defs /><text text-anchor=\"middle\" x=\"50%\" y=\"1em\">VBZ</text></svg><svg width=\"100%\" x=\"0%\" y=\"3em\"><defs /><svg width=\"100%\" x=\"0\" y=\"0em\"><defs /><text text-anchor=\"middle\" x=\"50%\" y=\"1em\">enjoys</text></svg></svg><line stroke=\"black\" x1=\"50%\" x2=\"50%\" y1=\"1.2em\" y2=\"3em\" /></svg><line stroke=\"black\" x1=\"50%\" x2=\"16%\" y1=\"1.2em\" y2=\"3em\" /><svg width=\"68%\" x=\"32%\" y=\"3em\"><defs /><svg width=\"100%\" x=\"0\" y=\"0em\"><defs /><text text-anchor=\"middle\" x=\"50%\" y=\"1em\">S</text></svg><svg width=\"100%\" x=\"0%\" y=\"3em\"><defs /><svg width=\"100%\" x=\"0\" y=\"0em\"><defs /><text text-anchor=\"middle\" x=\"50%\" y=\"1em\">VP</text></svg><svg width=\"52.9412%\" x=\"0%\" y=\"3em\"><defs /><svg width=\"100%\" x=\"0\" y=\"0em\"><defs /><text text-anchor=\"middle\" x=\"50%\" y=\"1em\">VBG</text></svg><svg width=\"100%\" x=\"0%\" y=\"3em\"><defs /><svg width=\"100%\" x=\"0\" y=\"0em\"><defs /><text text-anchor=\"middle\" x=\"50%\" y=\"1em\">playing</text></svg></svg><line stroke=\"black\" x1=\"50%\" x2=\"50%\" y1=\"1.2em\" y2=\"3em\" /></svg><line stroke=\"black\" x1=\"50%\" x2=\"26.4706%\" y1=\"1.2em\" y2=\"3em\" /><svg width=\"47.0588%\" x=\"52.9412%\" y=\"3em\"><defs /><svg width=\"100%\" x=\"0\" y=\"0em\"><defs /><text text-anchor=\"middle\" x=\"50%\" y=\"1em\">NP</text></svg><svg width=\"100%\" x=\"0%\" y=\"3em\"><defs /><svg width=\"100%\" x=\"0\" y=\"0em\"><defs /><text text-anchor=\"middle\" x=\"50%\" y=\"1em\">NN</text></svg><svg width=\"100%\" x=\"0%\" y=\"3em\"><defs /><svg width=\"100%\" x=\"0\" y=\"0em\"><defs /><text text-anchor=\"middle\" x=\"50%\" y=\"1em\">tennis</text></svg></svg><line stroke=\"black\" x1=\"50%\" x2=\"50%\" y1=\"1.2em\" y2=\"3em\" /></svg><line stroke=\"black\" x1=\"50%\" x2=\"50%\" y1=\"1.2em\" y2=\"3em\" /></svg><line stroke=\"black\" x1=\"50%\" x2=\"76.4706%\" y1=\"1.2em\" y2=\"3em\" /></svg><line stroke=\"black\" x1=\"50%\" x2=\"50%\" y1=\"1.2em\" y2=\"3em\" /></svg><line stroke=\"black\" x1=\"50%\" x2=\"66%\" y1=\"1.2em\" y2=\"3em\" /></svg><line stroke=\"black\" x1=\"50%\" x2=\"53.0303%\" y1=\"1.2em\" y2=\"3em\" /><svg width=\"9.09091%\" x=\"90.9091%\" y=\"3em\"><defs /><svg width=\"100%\" x=\"0\" y=\"0em\"><defs /><text text-anchor=\"middle\" x=\"50%\" y=\"1em\">.</text></svg><svg width=\"100%\" x=\"0%\" y=\"3em\"><defs /><svg width=\"100%\" x=\"0\" y=\"0em\"><defs /><text text-anchor=\"middle\" x=\"50%\" y=\"1em\">.</text></svg></svg><line stroke=\"black\" x1=\"50%\" x2=\"50%\" y1=\"1.2em\" y2=\"3em\" /></svg><line stroke=\"black\" x1=\"50%\" x2=\"95.4545%\" y1=\"1.2em\" y2=\"3em\" /></svg><line stroke=\"black\" x1=\"50%\" x2=\"50%\" y1=\"1.2em\" y2=\"3em\" /></svg>"
          },
          "metadata": {
            "tags": []
          },
          "execution_count": 26
        }
      ]
    },
    {
      "cell_type": "markdown",
      "metadata": {
        "id": "6n2YvVNSfkus",
        "colab_type": "text"
      },
      "source": [
        "The approach in this project is to treat parsing as a span classification task. Each span in the sentence (that is, each combination of start and end position) will be assigned a label. Constituents will be labeled with their syntactic category, while non-constituents will recieve a special null label.\n",
        "\n",
        "In the tree above, \"enjoys playing tennis\" will be assigned the label \"VP\", while \"She enjoys playing\" will be assigned the null label.\n",
        "\n",
        "However, there is a slight issue applying this to the tree above: the span \"playing tennis\" is simultaneously a verb phrase (VP) and a nested clause (S). To resolve this issue, we introduce a special chain label \"S+VP\" for this situation.\n",
        "\n",
        "The function `collapse_unary_strip_pos` transforms trees to collapse such unary chains. It also strips part-of-speech labels (which can be predicted by the tagger in the previous part of this project), as well as the root label \"TOP\"."
      ]
    },
    {
      "cell_type": "code",
      "metadata": {
        "id": "XVMG0H5c_SkK",
        "colab_type": "code",
        "colab": {}
      },
      "source": [
        "def collapse_unary_strip_pos(tree):\n",
        "  def strip_pos(tree):\n",
        "    if len(tree) == 1 and isinstance(tree[0], str):\n",
        "      return tree[0]\n",
        "    else:\n",
        "      return nltk.tree.Tree(tree.label(), [strip_pos(child) for child in tree])\n",
        "  collapsed_tree = strip_pos(tree)\n",
        "  collapsed_tree.collapse_unary(collapsePOS=True)\n",
        "  if collapsed_tree.label() == 'TOP' and len(collapsed_tree) == 1:\n",
        "    collapsed_tree = collapsed_tree[0]\n",
        "  return collapsed_tree "
      ],
      "execution_count": 0,
      "outputs": []
    },
    {
      "cell_type": "code",
      "metadata": {
        "id": "7cW56XoA__q9",
        "colab_type": "code",
        "outputId": "5bc19a9c-d04c-4d62-fd2f-922cdd705fa2",
        "colab": {
          "base_uri": "https://localhost:8080/",
          "height": 237
        }
      },
      "source": [
        "collapsed_tree = collapse_unary_strip_pos(example_tree)\n",
        "collapsed_tree"
      ],
      "execution_count": 28,
      "outputs": [
        {
          "output_type": "execute_result",
          "data": {
            "text/plain": [
              "Tree('S', [Tree('NP', ['She']), Tree('VP', ['enjoys', Tree('S+VP', ['playing', Tree('NP', ['tennis'])])]), '.'])"
            ],
            "image/svg+xml": "<svg baseProfile=\"full\" height=\"216px\" preserveAspectRatio=\"xMidYMid meet\" style=\"font-family: times, serif; font-weight:normal; font-style: normal; font-size: 16px;\" version=\"1.1\" viewBox=\"0,0,264.0,216.0\" width=\"264px\" xmlns=\"http://www.w3.org/2000/svg\" xmlns:ev=\"http://www.w3.org/2001/xml-events\" xmlns:xlink=\"http://www.w3.org/1999/xlink\"><defs /><svg width=\"100%\" x=\"0\" y=\"0em\"><defs /><text text-anchor=\"middle\" x=\"50%\" y=\"1em\">S</text></svg><svg width=\"15.1515%\" x=\"0%\" y=\"3em\"><defs /><svg width=\"100%\" x=\"0\" y=\"0em\"><defs /><text text-anchor=\"middle\" x=\"50%\" y=\"1em\">NP</text></svg><svg width=\"100%\" x=\"0%\" y=\"3em\"><defs /><svg width=\"100%\" x=\"0\" y=\"0em\"><defs /><text text-anchor=\"middle\" x=\"50%\" y=\"1em\">She</text></svg></svg><line stroke=\"black\" x1=\"50%\" x2=\"50%\" y1=\"1.2em\" y2=\"3em\" /></svg><line stroke=\"black\" x1=\"50%\" x2=\"7.57576%\" y1=\"1.2em\" y2=\"3em\" /><svg width=\"75.7576%\" x=\"15.1515%\" y=\"3em\"><defs /><svg width=\"100%\" x=\"0\" y=\"0em\"><defs /><text text-anchor=\"middle\" x=\"50%\" y=\"1em\">VP</text></svg><svg width=\"32%\" x=\"0%\" y=\"3em\"><defs /><svg width=\"100%\" x=\"0\" y=\"0em\"><defs /><text text-anchor=\"middle\" x=\"50%\" y=\"1em\">enjoys</text></svg></svg><line stroke=\"black\" x1=\"50%\" x2=\"16%\" y1=\"1.2em\" y2=\"3em\" /><svg width=\"68%\" x=\"32%\" y=\"3em\"><defs /><svg width=\"100%\" x=\"0\" y=\"0em\"><defs /><text text-anchor=\"middle\" x=\"50%\" y=\"1em\">S+VP</text></svg><svg width=\"52.9412%\" x=\"0%\" y=\"3em\"><defs /><svg width=\"100%\" x=\"0\" y=\"0em\"><defs /><text text-anchor=\"middle\" x=\"50%\" y=\"1em\">playing</text></svg></svg><line stroke=\"black\" x1=\"50%\" x2=\"26.4706%\" y1=\"1.2em\" y2=\"3em\" /><svg width=\"47.0588%\" x=\"52.9412%\" y=\"3em\"><defs /><svg width=\"100%\" x=\"0\" y=\"0em\"><defs /><text text-anchor=\"middle\" x=\"50%\" y=\"1em\">NP</text></svg><svg width=\"100%\" x=\"0%\" y=\"3em\"><defs /><svg width=\"100%\" x=\"0\" y=\"0em\"><defs /><text text-anchor=\"middle\" x=\"50%\" y=\"1em\">tennis</text></svg></svg><line stroke=\"black\" x1=\"50%\" x2=\"50%\" y1=\"1.2em\" y2=\"3em\" /></svg><line stroke=\"black\" x1=\"50%\" x2=\"76.4706%\" y1=\"1.2em\" y2=\"3em\" /></svg><line stroke=\"black\" x1=\"50%\" x2=\"66%\" y1=\"1.2em\" y2=\"3em\" /></svg><line stroke=\"black\" x1=\"50%\" x2=\"53.0303%\" y1=\"1.2em\" y2=\"3em\" /><svg width=\"9.09091%\" x=\"90.9091%\" y=\"3em\"><defs /><svg width=\"100%\" x=\"0\" y=\"0em\"><defs /><text text-anchor=\"middle\" x=\"50%\" y=\"1em\">.</text></svg></svg><line stroke=\"black\" x1=\"50%\" x2=\"95.4545%\" y1=\"1.2em\" y2=\"3em\" /></svg>"
          },
          "metadata": {
            "tags": []
          },
          "execution_count": 28
        }
      ]
    },
    {
      "cell_type": "markdown",
      "metadata": {
        "id": "XEPtgUl2LGVu",
        "colab_type": "text"
      },
      "source": [
        "Tree objects behaves like lists, in that they can be indexed to produce child nodes. Calling `.label()` returns its label.  If a child is a word instead of a subtree node, it will be a Python string."
      ]
    },
    {
      "cell_type": "code",
      "metadata": {
        "id": "tc6GfgWJygrv",
        "colab_type": "code",
        "outputId": "4e06cca7-4ad8-42b4-e446-a2c1cc053872",
        "colab": {
          "base_uri": "https://localhost:8080/",
          "height": 351
        }
      },
      "source": [
        "print('Child 0 is:', collapsed_tree[0])\n",
        "display(collapsed_tree[0])\n",
        "print('Child 1 is:', collapsed_tree[1])\n",
        "display(collapsed_tree[1])\n",
        "print('Child 1 label is:', collapsed_tree[1].label())\n",
        "print('Child 2 is:', collapsed_tree[2])\n",
        "display(collapsed_tree[2])"
      ],
      "execution_count": 29,
      "outputs": [
        {
          "output_type": "stream",
          "text": [
            "Child 0 is: (NP She)\n"
          ],
          "name": "stdout"
        },
        {
          "output_type": "display_data",
          "data": {
            "text/plain": [
              "Tree('NP', ['She'])"
            ],
            "image/svg+xml": "<svg baseProfile=\"full\" height=\"72px\" preserveAspectRatio=\"xMidYMid meet\" style=\"font-family: times, serif; font-weight:normal; font-style: normal; font-size: 16px;\" version=\"1.1\" viewBox=\"0,0,40.0,72.0\" width=\"40px\" xmlns=\"http://www.w3.org/2000/svg\" xmlns:ev=\"http://www.w3.org/2001/xml-events\" xmlns:xlink=\"http://www.w3.org/1999/xlink\"><defs /><svg width=\"100%\" x=\"0\" y=\"0em\"><defs /><text text-anchor=\"middle\" x=\"50%\" y=\"1em\">NP</text></svg><svg width=\"100%\" x=\"0%\" y=\"3em\"><defs /><svg width=\"100%\" x=\"0\" y=\"0em\"><defs /><text text-anchor=\"middle\" x=\"50%\" y=\"1em\">She</text></svg></svg><line stroke=\"black\" x1=\"50%\" x2=\"50%\" y1=\"1.2em\" y2=\"3em\" /></svg>"
          },
          "metadata": {
            "tags": []
          }
        },
        {
          "output_type": "stream",
          "text": [
            "Child 1 is: (VP enjoys (S+VP playing (NP tennis)))\n"
          ],
          "name": "stdout"
        },
        {
          "output_type": "display_data",
          "data": {
            "text/plain": [
              "Tree('VP', ['enjoys', Tree('S+VP', ['playing', Tree('NP', ['tennis'])])])"
            ],
            "image/svg+xml": "<svg baseProfile=\"full\" height=\"168px\" preserveAspectRatio=\"xMidYMid meet\" style=\"font-family: times, serif; font-weight:normal; font-style: normal; font-size: 16px;\" version=\"1.1\" viewBox=\"0,0,200.0,168.0\" width=\"200px\" xmlns=\"http://www.w3.org/2000/svg\" xmlns:ev=\"http://www.w3.org/2001/xml-events\" xmlns:xlink=\"http://www.w3.org/1999/xlink\"><defs /><svg width=\"100%\" x=\"0\" y=\"0em\"><defs /><text text-anchor=\"middle\" x=\"50%\" y=\"1em\">VP</text></svg><svg width=\"32%\" x=\"0%\" y=\"3em\"><defs /><svg width=\"100%\" x=\"0\" y=\"0em\"><defs /><text text-anchor=\"middle\" x=\"50%\" y=\"1em\">enjoys</text></svg></svg><line stroke=\"black\" x1=\"50%\" x2=\"16%\" y1=\"1.2em\" y2=\"3em\" /><svg width=\"68%\" x=\"32%\" y=\"3em\"><defs /><svg width=\"100%\" x=\"0\" y=\"0em\"><defs /><text text-anchor=\"middle\" x=\"50%\" y=\"1em\">S+VP</text></svg><svg width=\"52.9412%\" x=\"0%\" y=\"3em\"><defs /><svg width=\"100%\" x=\"0\" y=\"0em\"><defs /><text text-anchor=\"middle\" x=\"50%\" y=\"1em\">playing</text></svg></svg><line stroke=\"black\" x1=\"50%\" x2=\"26.4706%\" y1=\"1.2em\" y2=\"3em\" /><svg width=\"47.0588%\" x=\"52.9412%\" y=\"3em\"><defs /><svg width=\"100%\" x=\"0\" y=\"0em\"><defs /><text text-anchor=\"middle\" x=\"50%\" y=\"1em\">NP</text></svg><svg width=\"100%\" x=\"0%\" y=\"3em\"><defs /><svg width=\"100%\" x=\"0\" y=\"0em\"><defs /><text text-anchor=\"middle\" x=\"50%\" y=\"1em\">tennis</text></svg></svg><line stroke=\"black\" x1=\"50%\" x2=\"50%\" y1=\"1.2em\" y2=\"3em\" /></svg><line stroke=\"black\" x1=\"50%\" x2=\"76.4706%\" y1=\"1.2em\" y2=\"3em\" /></svg><line stroke=\"black\" x1=\"50%\" x2=\"66%\" y1=\"1.2em\" y2=\"3em\" /></svg>"
          },
          "metadata": {
            "tags": []
          }
        },
        {
          "output_type": "stream",
          "text": [
            "Child 1 label is: VP\n",
            "Child 2 is: .\n"
          ],
          "name": "stdout"
        },
        {
          "output_type": "display_data",
          "data": {
            "text/plain": [
              "'.'"
            ]
          },
          "metadata": {
            "tags": []
          }
        }
      ]
    },
    {
      "cell_type": "markdown",
      "metadata": {
        "id": "AQ9UFCYqLjAZ",
        "colab_type": "text"
      },
      "source": [
        "Your first task for parsing will be to implement an `encode_tree` function that maps from Tree objects to sets of spans with labels and starting/end positions. Since we're using a subword tokenization, the span start/end position will be defined in terms of subword positions. The start position is inclusive and the end is exclusive.  (Note that `▁` is considered part of the span of the following word even if it is not attached.)\n",
        "\n",
        "Below, we provide an `encode_tree` function that hard-codes the output for our example sentence as an illustration.  We also have code that iterates through the spans returned by `encode_tree` and prints the corresponding fragments from the original tree object."
      ]
    },
    {
      "cell_type": "code",
      "metadata": {
        "id": "weARf84FI3EL",
        "colab_type": "code",
        "colab": {}
      },
      "source": [
        "def encode_tree(tree):\n",
        "  s = ' '.join(example_tree.leaves())\n",
        "  if s != 'She enjoys playing tennis .':\n",
        "    raise NotImplementedError(\"You should implement encode_tree\")\n",
        "  ids = VOCAB.EncodeAsIds(s)\n",
        "  word_end_mask = [True, False, True, False, True, False, False, True, True]\n",
        "  spans = [\n",
        "      (0, 1, 'NP'), (5, 8, 'NP'), (3, 8, 'S+VP'), (1, 8, 'VP'), (0, 9, 'S')]\n",
        "  return ids, word_end_mask, spans"
      ],
      "execution_count": 0,
      "outputs": []
    },
    {
      "cell_type": "code",
      "metadata": {
        "id": "MvpuRlj4M_-u",
        "colab_type": "code",
        "outputId": "154109db-cd3a-4235-bbbe-9a5712066937",
        "colab": {
          "base_uri": "https://localhost:8080/",
          "height": 784
        }
      },
      "source": [
        "piece_ids, _, spans = encode_tree(example_tree)\n",
        "print([VOCAB.IdToPiece(piece_id) for piece_id in piece_ids])\n",
        "print()\n",
        "\n",
        "subtrees = list(example_tree.subtrees())\n",
        "for start, end, label in spans:\n",
        "  s = VOCAB.DecodeIds(piece_ids[start:end])\n",
        "  for subtree in subtrees:\n",
        "    if s == ' '.join(subtree.leaves()):\n",
        "      print(label, 'starting at subword', start, 'and ending at', end, ':')\n",
        "      display(svgling.draw_tree(subtree, font_size=8))\n",
        "      print()\n",
        "      break"
      ],
      "execution_count": 31,
      "outputs": [
        {
          "output_type": "stream",
          "text": [
            "['▁She', '▁enjoy', 's', '▁play', 'ing', '▁', 't', 'ennis', '▁.']\n",
            "\n",
            "NP starting at subword 0 and ending at 1 :\n"
          ],
          "name": "stdout"
        },
        {
          "output_type": "display_data",
          "data": {
            "text/plain": [
              "TreeLayout(Tree('NP', [Tree('PRP', ['She'])]))"
            ],
            "image/svg+xml": "<svg baseProfile=\"full\" height=\"60px\" preserveAspectRatio=\"xMidYMid meet\" style=\"font-family: times, serif; font-weight:normal; font-style: normal; font-size: 8px;\" version=\"1.1\" viewBox=\"0,0,20.0,60.0\" width=\"20px\" xmlns=\"http://www.w3.org/2000/svg\" xmlns:ev=\"http://www.w3.org/2001/xml-events\" xmlns:xlink=\"http://www.w3.org/1999/xlink\"><defs /><svg width=\"100%\" x=\"0\" y=\"0em\"><defs /><text text-anchor=\"middle\" x=\"50%\" y=\"1em\">NP</text></svg><svg width=\"100%\" x=\"0%\" y=\"3em\"><defs /><svg width=\"100%\" x=\"0\" y=\"0em\"><defs /><text text-anchor=\"middle\" x=\"50%\" y=\"1em\">PRP</text></svg><svg width=\"100%\" x=\"0%\" y=\"3em\"><defs /><svg width=\"100%\" x=\"0\" y=\"0em\"><defs /><text text-anchor=\"middle\" x=\"50%\" y=\"1em\">She</text></svg></svg><line stroke=\"black\" x1=\"50%\" x2=\"50%\" y1=\"1.2em\" y2=\"3em\" /></svg><line stroke=\"black\" x1=\"50%\" x2=\"50%\" y1=\"1.2em\" y2=\"3em\" /></svg>"
          },
          "metadata": {
            "tags": []
          }
        },
        {
          "output_type": "stream",
          "text": [
            "\n",
            "NP starting at subword 5 and ending at 8 :\n"
          ],
          "name": "stdout"
        },
        {
          "output_type": "display_data",
          "data": {
            "text/plain": [
              "TreeLayout(Tree('NP', [Tree('NN', ['tennis'])]))"
            ],
            "image/svg+xml": "<svg baseProfile=\"full\" height=\"60px\" preserveAspectRatio=\"xMidYMid meet\" style=\"font-family: times, serif; font-weight:normal; font-style: normal; font-size: 8px;\" version=\"1.1\" viewBox=\"0,0,32.0,60.0\" width=\"32px\" xmlns=\"http://www.w3.org/2000/svg\" xmlns:ev=\"http://www.w3.org/2001/xml-events\" xmlns:xlink=\"http://www.w3.org/1999/xlink\"><defs /><svg width=\"100%\" x=\"0\" y=\"0em\"><defs /><text text-anchor=\"middle\" x=\"50%\" y=\"1em\">NP</text></svg><svg width=\"100%\" x=\"0%\" y=\"3em\"><defs /><svg width=\"100%\" x=\"0\" y=\"0em\"><defs /><text text-anchor=\"middle\" x=\"50%\" y=\"1em\">NN</text></svg><svg width=\"100%\" x=\"0%\" y=\"3em\"><defs /><svg width=\"100%\" x=\"0\" y=\"0em\"><defs /><text text-anchor=\"middle\" x=\"50%\" y=\"1em\">tennis</text></svg></svg><line stroke=\"black\" x1=\"50%\" x2=\"50%\" y1=\"1.2em\" y2=\"3em\" /></svg><line stroke=\"black\" x1=\"50%\" x2=\"50%\" y1=\"1.2em\" y2=\"3em\" /></svg>"
          },
          "metadata": {
            "tags": []
          }
        },
        {
          "output_type": "stream",
          "text": [
            "\n",
            "S+VP starting at subword 3 and ending at 8 :\n"
          ],
          "name": "stdout"
        },
        {
          "output_type": "display_data",
          "data": {
            "text/plain": [
              "TreeLayout(Tree('S', [Tree('VP', [Tree('VBG', ['playing']), Tree('NP', [Tree('NN', ['tennis'])])])]))"
            ],
            "image/svg+xml": "<svg baseProfile=\"full\" height=\"108px\" preserveAspectRatio=\"xMidYMid meet\" style=\"font-family: times, serif; font-weight:normal; font-style: normal; font-size: 8px;\" version=\"1.1\" viewBox=\"0,0,68.0,108.0\" width=\"68px\" xmlns=\"http://www.w3.org/2000/svg\" xmlns:ev=\"http://www.w3.org/2001/xml-events\" xmlns:xlink=\"http://www.w3.org/1999/xlink\"><defs /><svg width=\"100%\" x=\"0\" y=\"0em\"><defs /><text text-anchor=\"middle\" x=\"50%\" y=\"1em\">S</text></svg><svg width=\"100%\" x=\"0%\" y=\"3em\"><defs /><svg width=\"100%\" x=\"0\" y=\"0em\"><defs /><text text-anchor=\"middle\" x=\"50%\" y=\"1em\">VP</text></svg><svg width=\"52.9412%\" x=\"0%\" y=\"3em\"><defs /><svg width=\"100%\" x=\"0\" y=\"0em\"><defs /><text text-anchor=\"middle\" x=\"50%\" y=\"1em\">VBG</text></svg><svg width=\"100%\" x=\"0%\" y=\"3em\"><defs /><svg width=\"100%\" x=\"0\" y=\"0em\"><defs /><text text-anchor=\"middle\" x=\"50%\" y=\"1em\">playing</text></svg></svg><line stroke=\"black\" x1=\"50%\" x2=\"50%\" y1=\"1.2em\" y2=\"3em\" /></svg><line stroke=\"black\" x1=\"50%\" x2=\"26.4706%\" y1=\"1.2em\" y2=\"3em\" /><svg width=\"47.0588%\" x=\"52.9412%\" y=\"3em\"><defs /><svg width=\"100%\" x=\"0\" y=\"0em\"><defs /><text text-anchor=\"middle\" x=\"50%\" y=\"1em\">NP</text></svg><svg width=\"100%\" x=\"0%\" y=\"3em\"><defs /><svg width=\"100%\" x=\"0\" y=\"0em\"><defs /><text text-anchor=\"middle\" x=\"50%\" y=\"1em\">NN</text></svg><svg width=\"100%\" x=\"0%\" y=\"3em\"><defs /><svg width=\"100%\" x=\"0\" y=\"0em\"><defs /><text text-anchor=\"middle\" x=\"50%\" y=\"1em\">tennis</text></svg></svg><line stroke=\"black\" x1=\"50%\" x2=\"50%\" y1=\"1.2em\" y2=\"3em\" /></svg><line stroke=\"black\" x1=\"50%\" x2=\"50%\" y1=\"1.2em\" y2=\"3em\" /></svg><line stroke=\"black\" x1=\"50%\" x2=\"76.4706%\" y1=\"1.2em\" y2=\"3em\" /></svg><line stroke=\"black\" x1=\"50%\" x2=\"50%\" y1=\"1.2em\" y2=\"3em\" /></svg>"
          },
          "metadata": {
            "tags": []
          }
        },
        {
          "output_type": "stream",
          "text": [
            "\n",
            "VP starting at subword 1 and ending at 8 :\n"
          ],
          "name": "stdout"
        },
        {
          "output_type": "display_data",
          "data": {
            "text/plain": [
              "TreeLayout(Tree('VP', [Tree('VBZ', ['enjoys']), Tree('S', [Tree('VP', [Tree('VBG', ['playing']), Tree('NP', [Tree('NN', ['tennis'])])])])]))"
            ],
            "image/svg+xml": "<svg baseProfile=\"full\" height=\"132px\" preserveAspectRatio=\"xMidYMid meet\" style=\"font-family: times, serif; font-weight:normal; font-style: normal; font-size: 8px;\" version=\"1.1\" viewBox=\"0,0,100.0,132.0\" width=\"100px\" xmlns=\"http://www.w3.org/2000/svg\" xmlns:ev=\"http://www.w3.org/2001/xml-events\" xmlns:xlink=\"http://www.w3.org/1999/xlink\"><defs /><svg width=\"100%\" x=\"0\" y=\"0em\"><defs /><text text-anchor=\"middle\" x=\"50%\" y=\"1em\">VP</text></svg><svg width=\"32%\" x=\"0%\" y=\"3em\"><defs /><svg width=\"100%\" x=\"0\" y=\"0em\"><defs /><text text-anchor=\"middle\" x=\"50%\" y=\"1em\">VBZ</text></svg><svg width=\"100%\" x=\"0%\" y=\"3em\"><defs /><svg width=\"100%\" x=\"0\" y=\"0em\"><defs /><text text-anchor=\"middle\" x=\"50%\" y=\"1em\">enjoys</text></svg></svg><line stroke=\"black\" x1=\"50%\" x2=\"50%\" y1=\"1.2em\" y2=\"3em\" /></svg><line stroke=\"black\" x1=\"50%\" x2=\"16%\" y1=\"1.2em\" y2=\"3em\" /><svg width=\"68%\" x=\"32%\" y=\"3em\"><defs /><svg width=\"100%\" x=\"0\" y=\"0em\"><defs /><text text-anchor=\"middle\" x=\"50%\" y=\"1em\">S</text></svg><svg width=\"100%\" x=\"0%\" y=\"3em\"><defs /><svg width=\"100%\" x=\"0\" y=\"0em\"><defs /><text text-anchor=\"middle\" x=\"50%\" y=\"1em\">VP</text></svg><svg width=\"52.9412%\" x=\"0%\" y=\"3em\"><defs /><svg width=\"100%\" x=\"0\" y=\"0em\"><defs /><text text-anchor=\"middle\" x=\"50%\" y=\"1em\">VBG</text></svg><svg width=\"100%\" x=\"0%\" y=\"3em\"><defs /><svg width=\"100%\" x=\"0\" y=\"0em\"><defs /><text text-anchor=\"middle\" x=\"50%\" y=\"1em\">playing</text></svg></svg><line stroke=\"black\" x1=\"50%\" x2=\"50%\" y1=\"1.2em\" y2=\"3em\" /></svg><line stroke=\"black\" x1=\"50%\" x2=\"26.4706%\" y1=\"1.2em\" y2=\"3em\" /><svg width=\"47.0588%\" x=\"52.9412%\" y=\"3em\"><defs /><svg width=\"100%\" x=\"0\" y=\"0em\"><defs /><text text-anchor=\"middle\" x=\"50%\" y=\"1em\">NP</text></svg><svg width=\"100%\" x=\"0%\" y=\"3em\"><defs /><svg width=\"100%\" x=\"0\" y=\"0em\"><defs /><text text-anchor=\"middle\" x=\"50%\" y=\"1em\">NN</text></svg><svg width=\"100%\" x=\"0%\" y=\"3em\"><defs /><svg width=\"100%\" x=\"0\" y=\"0em\"><defs /><text text-anchor=\"middle\" x=\"50%\" y=\"1em\">tennis</text></svg></svg><line stroke=\"black\" x1=\"50%\" x2=\"50%\" y1=\"1.2em\" y2=\"3em\" /></svg><line stroke=\"black\" x1=\"50%\" x2=\"50%\" y1=\"1.2em\" y2=\"3em\" /></svg><line stroke=\"black\" x1=\"50%\" x2=\"76.4706%\" y1=\"1.2em\" y2=\"3em\" /></svg><line stroke=\"black\" x1=\"50%\" x2=\"50%\" y1=\"1.2em\" y2=\"3em\" /></svg><line stroke=\"black\" x1=\"50%\" x2=\"66%\" y1=\"1.2em\" y2=\"3em\" /></svg>"
          },
          "metadata": {
            "tags": []
          }
        },
        {
          "output_type": "stream",
          "text": [
            "\n",
            "S starting at subword 0 and ending at 9 :\n"
          ],
          "name": "stdout"
        },
        {
          "output_type": "display_data",
          "data": {
            "text/plain": [
              "TreeLayout(Tree('TOP', [Tree('S', [Tree('NP', [Tree('PRP', ['She'])]), Tree('VP', [Tree('VBZ', ['enjoys']), Tree('S', [Tree('VP', [Tree('VBG', ['playing']), Tree('NP', [Tree('NN', ['tennis'])])])])]), Tree('.', ['.'])])]))"
            ],
            "image/svg+xml": "<svg baseProfile=\"full\" height=\"180px\" preserveAspectRatio=\"xMidYMid meet\" style=\"font-family: times, serif; font-weight:normal; font-style: normal; font-size: 8px;\" version=\"1.1\" viewBox=\"0,0,132.0,180.0\" width=\"132px\" xmlns=\"http://www.w3.org/2000/svg\" xmlns:ev=\"http://www.w3.org/2001/xml-events\" xmlns:xlink=\"http://www.w3.org/1999/xlink\"><defs /><svg width=\"100%\" x=\"0\" y=\"0em\"><defs /><text text-anchor=\"middle\" x=\"50%\" y=\"1em\">TOP</text></svg><svg width=\"100%\" x=\"0%\" y=\"3em\"><defs /><svg width=\"100%\" x=\"0\" y=\"0em\"><defs /><text text-anchor=\"middle\" x=\"50%\" y=\"1em\">S</text></svg><svg width=\"15.1515%\" x=\"0%\" y=\"3em\"><defs /><svg width=\"100%\" x=\"0\" y=\"0em\"><defs /><text text-anchor=\"middle\" x=\"50%\" y=\"1em\">NP</text></svg><svg width=\"100%\" x=\"0%\" y=\"3em\"><defs /><svg width=\"100%\" x=\"0\" y=\"0em\"><defs /><text text-anchor=\"middle\" x=\"50%\" y=\"1em\">PRP</text></svg><svg width=\"100%\" x=\"0%\" y=\"3em\"><defs /><svg width=\"100%\" x=\"0\" y=\"0em\"><defs /><text text-anchor=\"middle\" x=\"50%\" y=\"1em\">She</text></svg></svg><line stroke=\"black\" x1=\"50%\" x2=\"50%\" y1=\"1.2em\" y2=\"3em\" /></svg><line stroke=\"black\" x1=\"50%\" x2=\"50%\" y1=\"1.2em\" y2=\"3em\" /></svg><line stroke=\"black\" x1=\"50%\" x2=\"7.57576%\" y1=\"1.2em\" y2=\"3em\" /><svg width=\"75.7576%\" x=\"15.1515%\" y=\"3em\"><defs /><svg width=\"100%\" x=\"0\" y=\"0em\"><defs /><text text-anchor=\"middle\" x=\"50%\" y=\"1em\">VP</text></svg><svg width=\"32%\" x=\"0%\" y=\"3em\"><defs /><svg width=\"100%\" x=\"0\" y=\"0em\"><defs /><text text-anchor=\"middle\" x=\"50%\" y=\"1em\">VBZ</text></svg><svg width=\"100%\" x=\"0%\" y=\"3em\"><defs /><svg width=\"100%\" x=\"0\" y=\"0em\"><defs /><text text-anchor=\"middle\" x=\"50%\" y=\"1em\">enjoys</text></svg></svg><line stroke=\"black\" x1=\"50%\" x2=\"50%\" y1=\"1.2em\" y2=\"3em\" /></svg><line stroke=\"black\" x1=\"50%\" x2=\"16%\" y1=\"1.2em\" y2=\"3em\" /><svg width=\"68%\" x=\"32%\" y=\"3em\"><defs /><svg width=\"100%\" x=\"0\" y=\"0em\"><defs /><text text-anchor=\"middle\" x=\"50%\" y=\"1em\">S</text></svg><svg width=\"100%\" x=\"0%\" y=\"3em\"><defs /><svg width=\"100%\" x=\"0\" y=\"0em\"><defs /><text text-anchor=\"middle\" x=\"50%\" y=\"1em\">VP</text></svg><svg width=\"52.9412%\" x=\"0%\" y=\"3em\"><defs /><svg width=\"100%\" x=\"0\" y=\"0em\"><defs /><text text-anchor=\"middle\" x=\"50%\" y=\"1em\">VBG</text></svg><svg width=\"100%\" x=\"0%\" y=\"3em\"><defs /><svg width=\"100%\" x=\"0\" y=\"0em\"><defs /><text text-anchor=\"middle\" x=\"50%\" y=\"1em\">playing</text></svg></svg><line stroke=\"black\" x1=\"50%\" x2=\"50%\" y1=\"1.2em\" y2=\"3em\" /></svg><line stroke=\"black\" x1=\"50%\" x2=\"26.4706%\" y1=\"1.2em\" y2=\"3em\" /><svg width=\"47.0588%\" x=\"52.9412%\" y=\"3em\"><defs /><svg width=\"100%\" x=\"0\" y=\"0em\"><defs /><text text-anchor=\"middle\" x=\"50%\" y=\"1em\">NP</text></svg><svg width=\"100%\" x=\"0%\" y=\"3em\"><defs /><svg width=\"100%\" x=\"0\" y=\"0em\"><defs /><text text-anchor=\"middle\" x=\"50%\" y=\"1em\">NN</text></svg><svg width=\"100%\" x=\"0%\" y=\"3em\"><defs /><svg width=\"100%\" x=\"0\" y=\"0em\"><defs /><text text-anchor=\"middle\" x=\"50%\" y=\"1em\">tennis</text></svg></svg><line stroke=\"black\" x1=\"50%\" x2=\"50%\" y1=\"1.2em\" y2=\"3em\" /></svg><line stroke=\"black\" x1=\"50%\" x2=\"50%\" y1=\"1.2em\" y2=\"3em\" /></svg><line stroke=\"black\" x1=\"50%\" x2=\"76.4706%\" y1=\"1.2em\" y2=\"3em\" /></svg><line stroke=\"black\" x1=\"50%\" x2=\"50%\" y1=\"1.2em\" y2=\"3em\" /></svg><line stroke=\"black\" x1=\"50%\" x2=\"66%\" y1=\"1.2em\" y2=\"3em\" /></svg><line stroke=\"black\" x1=\"50%\" x2=\"53.0303%\" y1=\"1.2em\" y2=\"3em\" /><svg width=\"9.09091%\" x=\"90.9091%\" y=\"3em\"><defs /><svg width=\"100%\" x=\"0\" y=\"0em\"><defs /><text text-anchor=\"middle\" x=\"50%\" y=\"1em\">.</text></svg><svg width=\"100%\" x=\"0%\" y=\"3em\"><defs /><svg width=\"100%\" x=\"0\" y=\"0em\"><defs /><text text-anchor=\"middle\" x=\"50%\" y=\"1em\">.</text></svg></svg><line stroke=\"black\" x1=\"50%\" x2=\"50%\" y1=\"1.2em\" y2=\"3em\" /></svg><line stroke=\"black\" x1=\"50%\" x2=\"95.4545%\" y1=\"1.2em\" y2=\"3em\" /></svg><line stroke=\"black\" x1=\"50%\" x2=\"50%\" y1=\"1.2em\" y2=\"3em\" /></svg>"
          },
          "metadata": {
            "tags": []
          }
        },
        {
          "output_type": "stream",
          "text": [
            "\n"
          ],
          "name": "stdout"
        }
      ]
    },
    {
      "cell_type": "markdown",
      "metadata": {
        "id": "5dGk0UlgJ4Di",
        "colab_type": "text"
      },
      "source": [
        "Your task is to implement `encode_tree` so that it works for all trees, rather than returning hard-coded results."
      ]
    },
    {
      "cell_type": "code",
      "metadata": {
        "id": "LalYW2FVJyUG",
        "colab_type": "code",
        "colab": {}
      },
      "source": [
        "def dfs(start, tree):\n",
        "  \n",
        "  label = tree.label()\n",
        "  end = start\n",
        "  spans = []\n",
        "\n",
        "  for child in tree:\n",
        "\n",
        "    if isinstance(child, str):\n",
        "\n",
        "      ids = VOCAB.EncodeAsIds(child)\n",
        "      end += len(ids)\n",
        "\n",
        "    elif isinstance(child, nltk.tree.Tree):\n",
        "\n",
        "      child_spans, end = dfs(end, child)\n",
        "      spans.extend(child_spans)\n",
        "\n",
        "    else:\n",
        "      assert 0 == 1, \"Child is neither leaf nor subtree. Debug!\"\n",
        "\n",
        "  span = (start, end, label)\n",
        "  spans.append(span)\n",
        "\n",
        "  return spans, end\n",
        "  \n",
        "def encode_tree(tree):\n",
        "  \"\"\"Converts a tree into subword token ids and a list of labeled spans.\n",
        "\n",
        "  Args:\n",
        "    tree: an nltk.tree.Tree object\n",
        "\n",
        "  Returns:\n",
        "    A tuple (ids, is_word_end, spans)\n",
        "      ids: a list of token ids in the subword vocabulary\n",
        "      is_word_end: a list with elements of type bool, where True indicates that\n",
        "                   the word piece at that position is the last within its word.\n",
        "      spans: a list of tuples of the form (start, end, label), where `start` is\n",
        "             the position in ids where the span starts, `end` is the ending\n",
        "             point in the span (exclusive), and `label` is a string indicating\n",
        "             the syntactic label for the constituent.\n",
        "  \"\"\"\n",
        "  tree = collapse_unary_strip_pos(tree)\n",
        "  # Implementation tip: it may help to look at encode_sentence, provided earlier\n",
        "  \"\"\"YOUR CODE HERE\"\"\"\n",
        "\n",
        "  spans, end = dfs(0, tree)\n",
        "\n",
        "  leaves = tree.leaves()\n",
        "  ids, is_word_end = encode_sentence(leaves)\n",
        "  assert end == len(ids), \"Incorrect implementation of encode_tree. Debug!\"\n",
        "\n",
        "  return (ids, is_word_end, spans)"
      ],
      "execution_count": 0,
      "outputs": []
    },
    {
      "cell_type": "markdown",
      "metadata": {
        "id": "3JQECbjjL9wV",
        "colab_type": "text"
      },
      "source": [
        "Here is a simple test that your implementation is correct. The `assert` statement should not produce any errors for a correct implementation."
      ]
    },
    {
      "cell_type": "code",
      "metadata": {
        "id": "W1GQ_-sXN_Qr",
        "colab_type": "code",
        "colab": {}
      },
      "source": [
        "for tree in READER.parsed_sents('dev'):\n",
        "  piece_ids, _, spans = encode_tree(tree)\n",
        "  if UNK_ID in piece_ids:\n",
        "    continue  # skip verifying this sentence\n",
        "  span_strs = [VOCAB.DecodeIds(piece_ids[start:end]) for start, end, _ in spans]\n",
        "  assert set([' '.join(subtree.leaves()) for subtree in tree.subtrees()\n",
        "              if not isinstance(subtree[0], str)]) == set(span_strs)"
      ],
      "execution_count": 0,
      "outputs": []
    },
    {
      "cell_type": "markdown",
      "metadata": {
        "id": "ssrIa50sKUKi",
        "colab_type": "text"
      },
      "source": [
        "Now we can take inventory of all span labels in the training data. The validation and test sets have a few span labels outside this set because collapsing unary chains creates additional labels, so we also introduce an `UNK` label. Finally, there is a null label to represent that a span is not a syntactic constituent."
      ]
    },
    {
      "cell_type": "code",
      "metadata": {
        "id": "NTWsre3cTJyR",
        "colab_type": "code",
        "outputId": "f998c3b9-f959-49e3-d336-e79999bf84c0",
        "colab": {
          "base_uri": "https://localhost:8080/",
          "height": 54
        }
      },
      "source": [
        "SPAN_LABELS = set()\n",
        "for tree in READER.parsed_sents('train'):\n",
        "  _, _, spans = encode_tree(tree)\n",
        "  for _, _, label in spans:\n",
        "    SPAN_LABELS.add(label)\n",
        "SPAN_LABELS = ['', 'UNK'] + sorted(SPAN_LABELS)\n",
        "\n",
        "# This is another check to ensure that your implementation matches ours.\n",
        "assert len(SPAN_LABELS) == 114\n",
        "\n",
        "print(SPAN_LABELS)"
      ],
      "execution_count": 34,
      "outputs": [
        {
          "output_type": "stream",
          "text": [
            "['', 'UNK', 'ADJP', 'ADJP+ADJP', 'ADJP+ADVP', 'ADJP+NP', 'ADJP+QP', 'ADVP', 'ADVP+ADJP', 'ADVP+ADVP', 'ADVP+PRT', 'CONJP', 'FRAG', 'FRAG+ADJP', 'FRAG+ADVP', 'FRAG+INTJ', 'FRAG+NP', 'FRAG+PP', 'FRAG+S', 'FRAG+S+ADJP', 'FRAG+S+VP', 'FRAG+SBAR', 'FRAG+SBARQ', 'FRAG+UCP', 'FRAG+VP', 'FRAG+WHADVP', 'FRAG+WHNP', 'FRAG+WHPP', 'INTJ', 'INTJ+S', 'LST', 'NAC', 'NP', 'NP+ADJP', 'NP+ADVP', 'NP+FRAG', 'NP+INTJ', 'NP+NP', 'NP+NP+NP', 'NP+NP+QP', 'NP+PP', 'NP+PRN', 'NP+QP', 'NP+S', 'NP+S+VP', 'NP+SBAR', 'NP+SBAR+S+VP', 'NX', 'NX+NX', 'NX+QP', 'NX+S', 'NX+S+VP', 'PP', 'PP+NP', 'PP+PP', 'PRN', 'PRN+FRAG+WHADJP', 'PRN+NP', 'PRN+PP', 'PRN+S', 'PRN+S+VP', 'PRN+SBAR', 'PRN+SINV', 'PRT', 'QP', 'RRC', 'RRC+VP', 'S', 'S+ADJP', 'S+ADVP', 'S+NP', 'S+PP', 'S+S', 'S+UCP', 'S+VP', 'S+VP+ADVP', 'S+VP+VP', 'SBAR', 'SBAR+FRAG', 'SBAR+S', 'SBAR+S+VP', 'SBAR+SBAR+S', 'SBAR+SBARQ', 'SBAR+SINV', 'SBAR+WHADVP', 'SBAR+WHNP', 'SBARQ', 'SBARQ+WHADVP', 'SINV', 'SQ', 'SQ+VP', 'UCP', 'UCP+ADJP', 'UCP+PP', 'VP', 'VP+ADVP', 'VP+FRAG+ADJP', 'VP+NP', 'VP+PP', 'VP+S+VP', 'VP+SBAR', 'VP+VP', 'WHADJP', 'WHADVP', 'WHNP', 'WHNP+QP', 'WHNP+WHNP', 'WHPP', 'X', 'X+ADVP', 'X+NP', 'X+PP', 'X+SBARQ', 'X+VP']\n"
          ],
          "name": "stdout"
        }
      ]
    },
    {
      "cell_type": "markdown",
      "metadata": {
        "id": "u8fEciiRLLHT",
        "colab_type": "text"
      },
      "source": [
        "The implementation of the `ParsingDataset` class below is left for you to complete, based on the requirements of your model. You may wish to refer to the earlier `POSTaggingDataset` when implementing this class."
      ]
    },
    {
      "cell_type": "code",
      "metadata": {
        "id": "jGOw6mS_JH67",
        "colab_type": "code",
        "colab": {}
      },
      "source": [
        "class ParsingDataset(torch.utils.data.Dataset):\n",
        "  def __init__(self, split):\n",
        "    assert split in ('train', 'dev', 'test')\n",
        "    self.trees = READER.parsed_sents(split)\n",
        "    if split == 'train':\n",
        "      # To speed up training, we only train on short sentences.\n",
        "      self.trees = [tree for tree in self.trees if len(tree.leaves()) <= 40]\n",
        "\n",
        "  def __len__(self):\n",
        "    return len(self.trees)\n",
        "\n",
        "  def __getitem__(self, index):\n",
        "    \"\"\" This function loads a single tree into tensors for 'ids', 'labels', and\n",
        "    'is_word_end'.\n",
        "\n",
        "    See 'collate' function below for a description of the batched version of the\n",
        "    tensors to return.\n",
        "    \"\"\"\n",
        "\n",
        "    tree = self.trees[index]\n",
        "    \"\"\"YOUR CODE HERE\"\"\"\n",
        "\n",
        "    # don't forget to add BOS_ID and EOS_ID to the start and end of the sentence\n",
        "    \n",
        "    # note that you will need to check for unknown labels and replace them with\n",
        "    #  'UNK' (because of unique unary chains in the validation and test sets)\n",
        "\n",
        "    # use '' (index 0) as the null label for spans that aren't constituents\n",
        "    # you will need a separate index (such as -1) for positions that should not\n",
        "    #  receive loss\n",
        "\n",
        "    ids, is_word_end, spans = encode_tree(tree)\n",
        "    ids = [BOS_ID] + ids + [EOS_ID]\n",
        "    is_word_end = [False] + is_word_end + [False]\n",
        "    ids = torch.tensor(ids)\n",
        "    is_word_end = torch.tensor(is_word_end)\n",
        "\n",
        "    n = ids.size(0)\n",
        "    labels = torch.zeros( (n, n), dtype=torch.long )\n",
        "\n",
        "    for s in spans:\n",
        "      if s[2] in SPAN_LABELS:\n",
        "        labels[s[0] + 1, s[1] + 1] = SPAN_LABELS.index(s[2])\n",
        "      else:\n",
        "        labels[s[0] + 1, s[1] + 1] = 1\n",
        "\n",
        "    for i in range(n):\n",
        "      for j in range(n):\n",
        "\n",
        "        span_ids = ids[i:j].tolist()\n",
        "        span_str = VOCAB.DecodeIds(span_ids)\n",
        "\n",
        "        if (len(span_ids) == 0\n",
        "           or BOS_ID in span_ids\n",
        "           or EOS_ID in span_ids):\n",
        "          \n",
        "          labels[i, j] = -1\n",
        "\n",
        "    return {\"ids\": ids, \"is_word_end\": is_word_end, \"labels\": labels}\n",
        "\n",
        "\n",
        "  @staticmethod\n",
        "  def collate(batch):\n",
        "    \"\"\" This function takes a list of examples as output by your __getitem__\n",
        "    function and turns them into batched tensors.\n",
        "    \n",
        "    Returns:\n",
        "      A dictionary with three keys.\n",
        "      * 'ids' holds a tensor of shape [batch_size, max_sentence_length] and\n",
        "        dtype torch.long (where max length is taken within this batch).\n",
        "      * 'labels' is a required feature that's used by our evaluation logic. It\n",
        "        should be a torch.long tensor of shape\n",
        "        [batch_size, max_sentence_length, max_sentence_length] with\n",
        "        labels[batch, i, j] representing the label of the span starting at\n",
        "        subword position i and ending at subword position j (exclusive).\n",
        "      * 'is_word_end' is a required feature that's used by our skeleton code.\n",
        "        It should be a torch.bool tensor of shape [batch_size, max_sentence_length],\n",
        "        with True values at the last sub-word piece for each word.\n",
        "    \"\"\"\n",
        "\n",
        "    \"\"\"YOUR CODE HERE\"\"\"\n",
        "\n",
        "    ids = pad_sequence(\n",
        "        [item['ids'] for item in batch],\n",
        "        batch_first=True, padding_value=PAD_ID)\n",
        "    is_word_end = pad_sequence(\n",
        "        [item['is_word_end'] for item in batch],\n",
        "        batch_first=True, padding_value=PAD_ID)\n",
        "    \n",
        "    batch_size, max_len = ids.size()\n",
        "    charts = torch.ones( (batch_size, max_len, max_len), dtype=torch.long) * (-1)\n",
        "\n",
        "    for i in range(batch_size):\n",
        "\n",
        "      n = batch[i][\"ids\"].size(0)\n",
        "      charts[i, :n, :n] = batch[i][\"labels\"]\n",
        "\n",
        "    return {\n",
        "        'ids': ids.to(device),\n",
        "        'labels': charts.to(device),\n",
        "        'is_word_end': is_word_end.to(device),\n",
        "        }"
      ],
      "execution_count": 0,
      "outputs": []
    },
    {
      "cell_type": "code",
      "metadata": {
        "id": "WVvc7HMrShBl",
        "colab_type": "code",
        "outputId": "5db937e0-7ff7-4faf-df63-cf30c9f41838",
        "colab": {
          "base_uri": "https://localhost:8080/",
          "height": 278
        }
      },
      "source": [
        "dataset_for_inspection = ParsingDataset('train')\n",
        "print(dataset_for_inspection.trees[0].leaves())\n",
        "dataset_for_inspection[0]"
      ],
      "execution_count": 0,
      "outputs": [
        {
          "output_type": "stream",
          "text": [
            "['Ms.', 'Haag', 'plays', 'Elianti', '.']\n"
          ],
          "name": "stdout"
        },
        {
          "output_type": "execute_result",
          "data": {
            "text/plain": [
              "{'ids': tensor([   1,  126,    4,   14, 9362,  711,    4, 4386, 8675,    7,    2]),\n",
              " 'is_word_end': tensor([False, False, False,  True,  True, False,  True, False,  True,  True,\n",
              "         False]),\n",
              " 'labels': tensor([[-1, -1, -1, -1, -1, -1, -1, -1, -1, -1, -1],\n",
              "         [-1, -1,  0,  0,  0, 32,  0,  0,  0,  0, 67],\n",
              "         [-1, -1, -1,  0,  0,  0,  0,  0,  0,  0,  0],\n",
              "         [-1, -1, -1, -1,  0,  0,  0,  0,  0,  0,  0],\n",
              "         [-1, -1, -1, -1, -1,  0,  0,  0,  0,  0,  0],\n",
              "         [-1, -1, -1, -1, -1, -1,  0,  0,  0, 94,  0],\n",
              "         [-1, -1, -1, -1, -1, -1, -1,  0,  0,  0,  0],\n",
              "         [-1, -1, -1, -1, -1, -1, -1, -1,  0, 32,  0],\n",
              "         [-1, -1, -1, -1, -1, -1, -1, -1, -1,  0,  0],\n",
              "         [-1, -1, -1, -1, -1, -1, -1, -1, -1, -1,  0],\n",
              "         [-1, -1, -1, -1, -1, -1, -1, -1, -1, -1, -1]])}"
            ]
          },
          "metadata": {
            "tags": []
          },
          "execution_count": 45
        }
      ]
    },
    {
      "cell_type": "markdown",
      "metadata": {
        "id": "itUNYvsUJg9d",
        "colab_type": "text"
      },
      "source": [
        "The cell below sanity-checks your implementation of the `labels` and `is_word_end` features of the dataset. The tests are not exhaustive, but any errors are an indication that you have not constructed the batched examples correctly."
      ]
    },
    {
      "cell_type": "code",
      "metadata": {
        "id": "qVp6aSizEDHR",
        "colab_type": "code",
        "colab": {}
      },
      "source": [
        "dataset_for_check = ParsingDataset('dev')\n",
        "batch_size_for_check = 16\n",
        "data_loader_for_test = torch.utils.data.DataLoader(\n",
        "    dataset_for_check, batch_size=batch_size_for_check, shuffle=False,\n",
        "    collate_fn=dataset_for_check.collate)\n",
        "\n",
        "for batch_num, batch in enumerate(data_loader_for_test):\n",
        "  for example_num in range(batch['ids'].shape[0]):\n",
        "    tree = dataset_for_check.trees[\n",
        "        batch_size_for_check * batch_num + example_num]\n",
        "    piece_ids = batch['ids'][example_num].cpu().numpy().tolist()\n",
        "    labels = batch['labels'][example_num].cpu().numpy()\n",
        "    is_word_end = batch['is_word_end'][example_num].cpu().numpy()\n",
        "\n",
        "    if UNK_ID in piece_ids:\n",
        "      continue  # skip verifying this sentence\n",
        "\n",
        "    constituents = set([\n",
        "      ' '.join(subtree.leaves())\n",
        "      for subtree in tree.subtrees() if not isinstance(subtree[0], str)])\n",
        "    expected_labels = [\n",
        "        subtree.label()\n",
        "        for subtree in collapse_unary_strip_pos(tree).subtrees()]\n",
        "\n",
        "    labels_from_dataset = []\n",
        "    for i in range(labels.shape[0]):\n",
        "      for j in range(labels.shape[1]):\n",
        "        span_str = VOCAB.DecodeIds(piece_ids[i:j])\n",
        "        try:\n",
        "          if not piece_ids[i:j]:\n",
        "            assert labels[i, j] == -1, (\n",
        "                'This range is not a span and must have label -1')\n",
        "          elif (BOS_ID in piece_ids[i:j]\n",
        "                or EOS_ID in piece_ids[i:j]\n",
        "                or PAD_ID in piece_ids[i:j]):\n",
        "            assert labels[i, j] == -1, (\n",
        "              'This span contains a start, stop, or padding token and must have '\n",
        "              'label -1')\n",
        "          elif span_str not in constituents:\n",
        "            assert labels[i, j] == 0, (\n",
        "              'This span is not a constituent, but its label is not 0')\n",
        "          else:\n",
        "            # The span may be a constituent (or this may be a false positive,\n",
        "            # because this verification code only looks at string equality)\n",
        "            assert 0 <= labels[i, j] < len(SPAN_LABELS), (\n",
        "              'The assigned label is not valid for this span')\n",
        "            if labels[i, j] != 0:\n",
        "              labels_from_dataset.append(SPAN_LABELS[labels[i, j]])\n",
        "          \n",
        "          if labels[i, j] > 0:\n",
        "            assert i == 0 or piece_ids[i-1] == BOS_ID or is_word_end[i-1], (\n",
        "              'This labeled span does not start on a word boundary')\n",
        "            assert j == 0 or piece_ids[j-1] == BOS_ID or is_word_end[j-1], (\n",
        "              'This labeled span does not end on a word boundary')\n",
        "        except AssertionError as e:\n",
        "          print(f'ERROR at span [i = {i}, j = {j}, label = {labels[i,j]}]')\n",
        "          print(str(e))\n",
        "          print()\n",
        "          for i, (piece_id, is_word_end_bool) in enumerate(zip(piece_ids,\n",
        "                                                               is_word_end)):\n",
        "            print('{:2d} {: <10} {}'.format(\n",
        "                i, \"(word end)\" if is_word_end_bool else \"\",\n",
        "                VOCAB.IdToPiece(piece_id)))\n",
        "          raise\n",
        "\n",
        "    assert sorted(expected_labels) == sorted(labels_from_dataset), (\n",
        "        f'The dataset has {len(labels_from_dataset)} non-empty labels for this '\n",
        "        f'example, which do not match the {len(expected_labels)} labels in the '\n",
        "        f'original tree')"
      ],
      "execution_count": 0,
      "outputs": []
    },
    {
      "cell_type": "markdown",
      "metadata": {
        "id": "TPWrN4Eb2lN5",
        "colab_type": "text"
      },
      "source": [
        "## Parsing: Model"
      ]
    },
    {
      "cell_type": "markdown",
      "metadata": {
        "id": "DcmWjcttMRck",
        "colab_type": "text"
      },
      "source": [
        "Next, you will implement a Transformer-based parsing model. Below is a base class that checks performance on the validation set based on a local decision at each span.  Later, you will implement CKY decoding that ensures the output is a tree rather than a set of possibly-intersecting spans."
      ]
    },
    {
      "cell_type": "code",
      "metadata": {
        "id": "kcT3t6lVz2ij",
        "colab_type": "code",
        "colab": {}
      },
      "source": [
        "class ParsingModel(nn.Module):\n",
        "  def encode(self, batch):\n",
        "    # you will override this below\n",
        "    raise NotImplementedError()\n",
        "\n",
        "  def compute_loss(self, batch):\n",
        "    # you will override this below\n",
        "    raise NotImplementedError()\n",
        "\n",
        "  def get_validation_metric(self):\n",
        "    dataset = ParsingDataset('dev')\n",
        "    data_loader = torch.utils.data.DataLoader(\n",
        "      dataset, batch_size=8, collate_fn=dataset.collate)\n",
        "    self.eval()\n",
        "    total_gold_spans = 0\n",
        "    total_predicted_spans = 0\n",
        "    total_correct = 0\n",
        "    with torch.no_grad():\n",
        "      for batch in data_loader:\n",
        "        mask = (batch['labels'] != -1)\n",
        "        model_output = self.encode(batch)\n",
        "        predicted_labels = model_output.argmax(-1)\n",
        "        predicted_labels = predicted_labels[mask]\n",
        "        gold_labels = batch['labels'][mask]\n",
        "\n",
        "        total_gold_spans += (gold_labels != 0).sum().item()\n",
        "        total_predicted_spans += (predicted_labels != 0).sum().item()\n",
        "        total_correct += ((predicted_labels == gold_labels) & (gold_labels != 0)\n",
        "            ).sum().item()\n",
        "\n",
        "    if total_predicted_spans != 0:\n",
        "      precision = total_correct / total_predicted_spans\n",
        "    else:\n",
        "      precision = 0.0\n",
        "    recall = total_correct / total_gold_spans\n",
        "    if precision == 0.0 or recall == 0.0:\n",
        "      f1 = 0.0\n",
        "    else:\n",
        "      f1 = 2 * precision * recall / (precision + recall)\n",
        "    # For convenience, we represent precion/recall/F1 as percentage points.\n",
        "    precision *= 100\n",
        "    recall *= 100\n",
        "    f1 *= 100\n",
        "    print(f\"precision={precision:.2f} recall={recall:.2f} f1={f1:.2f}\")\n",
        "    return f1"
      ],
      "execution_count": 0,
      "outputs": []
    },
    {
      "cell_type": "markdown",
      "metadata": {
        "id": "XgUDTDfSMh4O",
        "colab_type": "text"
      },
      "source": [
        "Here is a skeleton for the parsing model that you should fill in. The parser should:\n",
        "- Run a Transformer encoder to produce a vector at each position in the sentence.\n",
        "- Compute a vector for each span, by subtracting the vectors for the start and endpoints. You may also try other options, such as adding, averaging, or concatenating.\n",
        "- Run an MLP span classifier that takes these span vectors as input. The MLP should have one layer of nonlinearity. In our implementation, the MLP also includes a Layer Normalization step."
      ]
    },
    {
      "cell_type": "code",
      "metadata": {
        "id": "X75QefU4N_jj",
        "colab_type": "code",
        "colab": {}
      },
      "source": [
        "class TransformerParsingModel(ParsingModel):\n",
        "  def __init__(self):\n",
        "    super().__init__()\n",
        "    d_model = 512\n",
        "    self.add_timing = AddPositionalEncoding(d_model)\n",
        "    self.encoder = TransformerEncoder(d_model)\n",
        "    \"\"\"YOUR CODE HERE.\"\"\"\n",
        "\n",
        "    hidden_size = 512\n",
        "    self.embedding = nn.Embedding(VOCAB.GetPieceSize(), d_model)\n",
        "    self.hidden = nn.Linear(2 * d_model, hidden_size)\n",
        "    self.layernorm1 = nn.LayerNorm(2 * d_model)\n",
        "    self.layernorm2 = nn.LayerNorm(hidden_size) \n",
        "    self.last_linear = nn.Linear(hidden_size, len(SPAN_LABELS))\n",
        "\n",
        "  def encode(self, batch):\n",
        "    \"\"\"Returns logits for each label and each span in the sentence.\n",
        "    \n",
        "    Returns:\n",
        "      A float tensor of shape [batch_size, length, length, len(SPAN_LABELS)],\n",
        "      where the element at position [n, i, j, l] represents the score (logit) of\n",
        "      assigning label l to the span beginning at subword position i and ending\n",
        "      at position j (exclusive), for the n-th example in the batch.\n",
        "    \"\"\"\n",
        "\n",
        "    \"\"\"YOUR CODE HERE\"\"\"\n",
        "\n",
        "    # You don't need to worry about is_word_end here or in compute_loss\n",
        "    # You can train with non-end subwords still in place (with null labels) and\n",
        "    # we'll handle adjusting for subwords for you in the evaluation functions\n",
        "\n",
        "    x = batch[\"ids\"]    # [batch, seq_len]\n",
        "    x = self.embedding(x)    # [batch, seq_len, d_model]\n",
        "    batch_size, max_len, embedding_size = x.size()\n",
        "\n",
        "    mask = batch[\"is_word_end\"]\n",
        "    # mask = mask.unsqueeze(2).expand(-1, -1, max_len)    # Not good: F1 74\n",
        "    # mask = mask.unsqueeze(1).expand(-1, max_len, -1)    # F1 86.11\n",
        "\n",
        "    mask1 = mask.unsqueeze(2).expand(-1, -1, max_len)\n",
        "    mask2 = mask.unsqueeze(1).expand(-1, max_len, -1)\n",
        "\n",
        "    mask = mask1 + mask2\n",
        "    mask = mask.float() / 2    # Weak correlation: 1.0, 0.5. F1 87.79\n",
        "    # mask = mask > 0    # 'or' operation: mask1 or mask2. F1 87.13\n",
        "\n",
        "    x = self.add_timing(x)\n",
        "    x = self.encoder(x, mask)\n",
        "\n",
        "    # Alternatively, 'repeat' makes a copy while 'expand' creates a view\n",
        "    # xx = x.unsqueeze(2).repeat(1, 1, max_len, 1)\n",
        "    # yy = x.unsqueeze(1).repeat(1, max_len, 1, 1)\n",
        "    xx = x.unsqueeze(2).expand(batch_size, max_len, max_len, embedding_size)    # [batch, seq_len, seq_len, d_model]\n",
        "    yy = x.unsqueeze(1).expand(-1, max_len, -1, -1)\n",
        "    z = torch.cat((xx, yy), dim=-1)\n",
        "\n",
        "    z = self.layernorm1(z)\n",
        "    z = self.hidden(z)\n",
        "    z = F.relu(z)\n",
        "    z = self.layernorm2(z)\n",
        "    z = self.last_linear(z)\n",
        "    return z\n",
        "\n",
        "  def compute_loss(self, batch):\n",
        "    \"\"\"This function should compute a cross-entropy loss for training the model.\n",
        "\n",
        "    Note that labels should be set to -1 wherever there is no classification\n",
        "    decision to make; for example, due to padding or at positions [..., i, j, :]\n",
        "    where i >= j (i.e. the supposed start position is equal to or comes after\n",
        "    the end position).\n",
        "    \"\"\"\n",
        "    logits = self.encode(batch)\n",
        "    labels = batch['labels']\n",
        "\n",
        "    \"\"\"YOUR CODE HERE\"\"\"\n",
        "\n",
        "    logits = logits.permute(0, 3, 1, 2)\n",
        "    loss = F.cross_entropy(logits, labels, ignore_index=-1, reduction='mean')\n",
        "    return loss"
      ],
      "execution_count": 0,
      "outputs": []
    },
    {
      "cell_type": "markdown",
      "metadata": {
        "id": "10cgiAnyFi-A",
        "colab_type": "text"
      },
      "source": [
        "The code below trains the parser.\n",
        "\n",
        "In our implementation, it reports a validation score of 66-70 F1 after a single epoch and 80-82 F1 after 5 epochs. If you observe worse performance, we recommend that you debug and adjust your model rather than waiting for the full 16 epochs to complete. When debugging, be sure to also check your Transformer implementation: a buggy version of the Transformer might work for part of speech tagging, but not for the harder task of parsing.\n",
        "\n",
        "After training completes, our implementation reports 86.4 validation F1. Each epoch takes about 1.5 minutes on a fast GPU instance."
      ]
    },
    {
      "cell_type": "code",
      "metadata": {
        "id": "zcZNJ8m-UwRF",
        "colab_type": "code",
        "outputId": "9e8619b1-4425-42b0-c25e-bfdb95952cad",
        "colab": {
          "base_uri": "https://localhost:8080/",
          "height": 1000,
          "referenced_widgets": [
            "1d33621c64bb4a80bb61a627607956cb",
            "483e289614ca48de8500e71ee9a0685e",
            "3d9df4515b144608b7b952a7e8f9f789",
            "34b852ef9a644b55998d4cbb960326f5",
            "98155f29ae1f48ba8d433791cb8fc9d9",
            "84c673e44c284d16bc34f8e16268f4b8",
            "1ef99081090f4f47b2951f2bba3b3536",
            "551749cfd2cd4fd99b84c7c7215d1d1e",
            "35624db44b8047f88898c4aa6a7bc23a",
            "f14350f3141242268054c1eab1666fc3",
            "8cee6090b4734a9ea9d1eb0d73cfbc88",
            "daeb8ce178f84ad99baed494fec2d84f",
            "c9074713c241460685a8316556be1726",
            "9df071e3e7304574b6fc551670a4424b",
            "acbb8a81cd444fc098cded758177466f",
            "7a58e2043fa34ac682d0c49aec5d1378",
            "6ed82f1c447c473d9254ce42f7c471d0",
            "1e9924c2c4cd4124ae985dbd96edb872",
            "1ce66119af99443f892fe12baee7afe8",
            "4c967751c11845058097f23d7c411ce0",
            "67f0ead647364c6abb191f78e6fac681",
            "b18ed5ab49d94d95a1eecf1e6e9c924d",
            "5e9f55d8eb4f47349daa16be67f2e19f",
            "98225dbe9f344891ae65f911d1d73b73",
            "dec9f0f085ff4394b96b4c57823b60de",
            "f9b5eec149b745d89d5afecc73c44767",
            "b7e80eed72be4b109997abe8621bc003",
            "28b0e43080534ecebd0a23261e3e0ca4",
            "46809f5afa1c4e5c814e58e606ed4708",
            "2e4a7f1021b84a988b9f36c7b4d8293c",
            "426c4eda92cd43f98f72aeb025f2e9fa",
            "aa999abdf0ba4ffc9810ae726ca48b62",
            "545985d6bfa141bd86804b2701ed4cb8",
            "72827d4c0e714d18b0e3a515ec32233b",
            "15664c169cbb41549d3ecf43a8ac1552",
            "844fc48231f24593b38aad5dc51600ec",
            "6378641620a242db8bc39511ae957fa7",
            "f8bdf4f375f04ff6ada071afbccc057d",
            "991a8905eb5d4acdaaa32d7cde7ef468",
            "54a69ae872f342668b0b2084845b5009",
            "9073fd3adb24496b80dce57e577fd3ad",
            "3d6462ea3d2b4f67abb988d98f878c21",
            "69149fa240d14f449089693e42a7c0f3",
            "474fe3e9e5134242b9fe2f4634e9f5fb",
            "12cb9021bb5e46da8f4beeffa81ca1a0",
            "84afcea65b434a2eadcc6b838ee4e470",
            "63754abb9ac94bc2bb34a7b1416205a4",
            "5b38ad0cfb6f483989369fdbcfdd6bf0",
            "188ea0ca7e9a4ff5bed0ef69bd0ad2a7",
            "ab04f6513e8e4ce6be3eaa06e49b06dd",
            "ead77feaf6a14cd887105ac42efc32e2",
            "80aa6319f8444582808f252fa6338f7a",
            "b541611cd3ff444f91bf7178bc1b49f0",
            "72d208dbc4a04ff7b1c7eff9e3f88449",
            "6edddc6768dd4dc9b3553a75a40937ce",
            "19da1c94be964bfeb59ba380d90b7a47",
            "2133c3cb5eac448c936e6353d6b108d8",
            "0acd6cbd457a4aea80b23ebb73a66089",
            "ca09ee63e1e44132bfabff2c775feda7",
            "02e8e5e8314c45688e7d91d0e3a43acb",
            "9c6619cf53504a47b446b904977eb5d7",
            "3d88f22326e44e739af1e42ead71851e",
            "f04109f1f01f4463b43d5816ede8d7b9",
            "6ae341145b0a4497a57955f4111bbb02",
            "79cd21426ad34d5695d3959dd9a3dba9",
            "57b46a868da34175a2647791dc8dffa9",
            "d7c30e4d97ab474ab8fcf3fc90200598",
            "0556994de3414effb98f62ab84da4c5b",
            "905c6f4bb79e46bcb57ab6104ca9eb2e",
            "2028dc92a23747fd86b5865600fbd379",
            "8856e8a4dad14583847a18324af5ea47",
            "89a64f6086364d0ea8ef73011bca528a",
            "99114ce1cdd94e38b7c4217b3a2bd094",
            "1c61cd09f3c2454184158d4a95e1b69e",
            "0ea30ea51d2b46159efe1d32f30a03fa",
            "9b13aa46a9ef4f0ebf80e325f16d693d",
            "7bbee6dc59134123a754e9026056832d",
            "8091c7642a88430d9264842ec62e1aae",
            "13c85f5187eb4ba4b2aebc9186ee747e",
            "0b69e5a82de34ef59b2e64d9d2ed8de5",
            "a0903c50c0074d0f9725a9c8f2468b8b",
            "ea69ea8ac4d44b99aa7992f312a1cb0a",
            "561531ec18054c25b97cdeabf6d7971f",
            "4200ea2468714c27ac558990d6207e8e",
            "cc869ce6b6374f559ef976c50138a55f",
            "3a62626e32fb41899b8840fd48d1d147",
            "7aa621ccf8794754b4c756dd5e7531d0",
            "0685552c4bbf49c0ad4439d66a867772",
            "d8fb1026e4304f42ba0db82e660b0e8a",
            "74070e92818c436cb6548a8f5ff183cc",
            "cc14441ad3ac44f6a0321cca1f8226cd",
            "b5b10c1e875c4d358604d603738604d7",
            "d136000608c648ca922b563d0fea1ae7",
            "4bbf86f3a8cc4d0091d9bbed5a99d333",
            "48ccc44a9f104e9c9f514875757e5c1c",
            "a754acd059d7429b8d68d92745fef783",
            "55acd1eff5124c7c825bc72e15362e8c",
            "fdfdd673de5345fbb1068fc7f00e6ec8",
            "8c765d5263e54d648a4f3ff1f7c2bfb9",
            "1918da6a7d8943749984a304871acfee",
            "60921bab28ce41ed828abf8e379fe21d",
            "67e81e6797ea4c148bc30902e73f21fe",
            "86fddee7f9dd4717a59b7622789a2109",
            "d54330614da04731ac56840e3a7f360b",
            "8e693e4968c24b5781fb0002ceb9ff77",
            "2e3a1d05a984447dbadf34a645d439d6",
            "8adb723acd304d3abf4d3d9ab4dd153e",
            "706c65e31a7d43ee9aae8a1a1c58386c",
            "d96d6942181c44c188b841ab7dc77eca",
            "4287b9e9f16144819e0af5e31cc78a28",
            "83172fbb72db45dbb0614fe57f3f8a9f",
            "6e4bec9a394a4a9a948aa8f0e0510b22",
            "011574a1c0cd4846b97562c6ba54bae9",
            "ee55771864d741ca8aa51df844286f2e",
            "e2a05e9a929d45478f4c1a2ad43f0494",
            "5a0b4ccdf0574431aff614a340a0fb85",
            "d48a2c5e7373467ebf18335e1d241948",
            "45b08bc5bd964e7db016012fbdc3fdae",
            "c04fe5dfc84f49fea9ae0e7018f04eac",
            "2de05691624c4ed68a27217a0d94585a",
            "21292edbc5124ac9a8edfeadb104bb45",
            "5d2276f84a6541db9b2dbbe90b560f3b",
            "481b8b86ec9c45b1a26a8dad5a4e6a5b",
            "6f52667b94ac4e25b6aae4d46468476e",
            "9918350db51f431b8aa6ad5b82b66c42",
            "5434cadfa21f4b82b1bd11519336cc23",
            "b8b8be72d1a146858837526aa73e7043",
            "764614cf23ed4e568bcfb27000d14b49",
            "a587aa5cc11e40d18aaaa1bc818d8e5e",
            "a5099f2974e449458275699b67454fa7",
            "3713239091014ce9b871651a0447efd9",
            "cebc6b02694e40fea6f0ff9602e58ff2",
            "b504d94676354b8781d9247a1d9f4259",
            "bea5147ca59346029f2a7a01d8d88301",
            "3bda7567d80f4bd0813358003361ac1b",
            "20c821d15781412ba77e24fc81c52016"
          ]
        }
      },
      "source": [
        "# You are welcome to adjust these parameters based on your model implementation.\n",
        "num_epochs = 16\n",
        "batch_size = 16\n",
        "\n",
        "parsing_model = TransformerParsingModel().to(device)\n",
        "train(parsing_model, num_epochs, batch_size, \"parsing_model.pt\",\n",
        "      dataset_cls=ParsingDataset)"
      ],
      "execution_count": 0,
      "outputs": [
        {
          "output_type": "display_data",
          "data": {
            "application/vnd.jupyter.widget-view+json": {
              "model_id": "1d33621c64bb4a80bb61a627607956cb",
              "version_minor": 0,
              "version_major": 2
            },
            "text/plain": [
              "HBox(children=(FloatProgress(value=0.0, description='training', max=16.0, style=ProgressStyle(description_widt…"
            ]
          },
          "metadata": {
            "tags": []
          }
        },
        {
          "output_type": "display_data",
          "data": {
            "application/vnd.jupyter.widget-view+json": {
              "model_id": "35624db44b8047f88898c4aa6a7bc23a",
              "version_minor": 0,
              "version_major": 2
            },
            "text/plain": [
              "HBox(children=(FloatProgress(value=0.0, description='epoch 1', max=2298.0, style=ProgressStyle(description_wid…"
            ]
          },
          "metadata": {
            "tags": []
          }
        },
        {
          "output_type": "stream",
          "text": [
            "\n",
            "precision=74.28 recall=70.46 f1=72.32\n",
            "Obtained a new best validation metric of 72.319, saving model checkpoint to parsing_model.pt...\n"
          ],
          "name": "stdout"
        },
        {
          "output_type": "display_data",
          "data": {
            "application/vnd.jupyter.widget-view+json": {
              "model_id": "6ed82f1c447c473d9254ce42f7c471d0",
              "version_minor": 0,
              "version_major": 2
            },
            "text/plain": [
              "HBox(children=(FloatProgress(value=0.0, description='epoch 2', max=2298.0, style=ProgressStyle(description_wid…"
            ]
          },
          "metadata": {
            "tags": []
          }
        },
        {
          "output_type": "stream",
          "text": [
            "\n",
            "precision=84.23 recall=72.55 f1=77.96\n",
            "Obtained a new best validation metric of 77.958, saving model checkpoint to parsing_model.pt...\n"
          ],
          "name": "stdout"
        },
        {
          "output_type": "display_data",
          "data": {
            "application/vnd.jupyter.widget-view+json": {
              "model_id": "dec9f0f085ff4394b96b4c57823b60de",
              "version_minor": 0,
              "version_major": 2
            },
            "text/plain": [
              "HBox(children=(FloatProgress(value=0.0, description='epoch 3', max=2298.0, style=ProgressStyle(description_wid…"
            ]
          },
          "metadata": {
            "tags": []
          }
        },
        {
          "output_type": "stream",
          "text": [
            "\n",
            "precision=83.47 recall=78.01 f1=80.65\n",
            "Obtained a new best validation metric of 80.647, saving model checkpoint to parsing_model.pt...\n"
          ],
          "name": "stdout"
        },
        {
          "output_type": "display_data",
          "data": {
            "application/vnd.jupyter.widget-view+json": {
              "model_id": "545985d6bfa141bd86804b2701ed4cb8",
              "version_minor": 0,
              "version_major": 2
            },
            "text/plain": [
              "HBox(children=(FloatProgress(value=0.0, description='epoch 4', max=2298.0, style=ProgressStyle(description_wid…"
            ]
          },
          "metadata": {
            "tags": []
          }
        },
        {
          "output_type": "stream",
          "text": [
            "\n",
            "precision=82.89 recall=81.83 f1=82.35\n",
            "Obtained a new best validation metric of 82.355, saving model checkpoint to parsing_model.pt...\n"
          ],
          "name": "stdout"
        },
        {
          "output_type": "display_data",
          "data": {
            "application/vnd.jupyter.widget-view+json": {
              "model_id": "9073fd3adb24496b80dce57e577fd3ad",
              "version_minor": 0,
              "version_major": 2
            },
            "text/plain": [
              "HBox(children=(FloatProgress(value=0.0, description='epoch 5', max=2298.0, style=ProgressStyle(description_wid…"
            ]
          },
          "metadata": {
            "tags": []
          }
        },
        {
          "output_type": "stream",
          "text": [
            "\n",
            "precision=84.91 recall=82.47 f1=83.67\n",
            "Obtained a new best validation metric of 83.673, saving model checkpoint to parsing_model.pt...\n"
          ],
          "name": "stdout"
        },
        {
          "output_type": "display_data",
          "data": {
            "application/vnd.jupyter.widget-view+json": {
              "model_id": "188ea0ca7e9a4ff5bed0ef69bd0ad2a7",
              "version_minor": 0,
              "version_major": 2
            },
            "text/plain": [
              "HBox(children=(FloatProgress(value=0.0, description='epoch 6', max=2298.0, style=ProgressStyle(description_wid…"
            ]
          },
          "metadata": {
            "tags": []
          }
        },
        {
          "output_type": "stream",
          "text": [
            "\n",
            "precision=85.04 recall=83.41 f1=84.22\n",
            "Obtained a new best validation metric of 84.216, saving model checkpoint to parsing_model.pt...\n"
          ],
          "name": "stdout"
        },
        {
          "output_type": "display_data",
          "data": {
            "application/vnd.jupyter.widget-view+json": {
              "model_id": "2133c3cb5eac448c936e6353d6b108d8",
              "version_minor": 0,
              "version_major": 2
            },
            "text/plain": [
              "HBox(children=(FloatProgress(value=0.0, description='epoch 7', max=2298.0, style=ProgressStyle(description_wid…"
            ]
          },
          "metadata": {
            "tags": []
          }
        },
        {
          "output_type": "stream",
          "text": [
            "\n",
            "precision=86.29 recall=84.45 f1=85.36\n",
            "Obtained a new best validation metric of 85.357, saving model checkpoint to parsing_model.pt...\n"
          ],
          "name": "stdout"
        },
        {
          "output_type": "display_data",
          "data": {
            "application/vnd.jupyter.widget-view+json": {
              "model_id": "79cd21426ad34d5695d3959dd9a3dba9",
              "version_minor": 0,
              "version_major": 2
            },
            "text/plain": [
              "HBox(children=(FloatProgress(value=0.0, description='epoch 8', max=2298.0, style=ProgressStyle(description_wid…"
            ]
          },
          "metadata": {
            "tags": []
          }
        },
        {
          "output_type": "stream",
          "text": [
            "\n",
            "precision=86.05 recall=85.16 f1=85.60\n",
            "Obtained a new best validation metric of 85.604, saving model checkpoint to parsing_model.pt...\n"
          ],
          "name": "stdout"
        },
        {
          "output_type": "display_data",
          "data": {
            "application/vnd.jupyter.widget-view+json": {
              "model_id": "99114ce1cdd94e38b7c4217b3a2bd094",
              "version_minor": 0,
              "version_major": 2
            },
            "text/plain": [
              "HBox(children=(FloatProgress(value=0.0, description='epoch 9', max=2298.0, style=ProgressStyle(description_wid…"
            ]
          },
          "metadata": {
            "tags": []
          }
        },
        {
          "output_type": "stream",
          "text": [
            "\n",
            "precision=86.77 recall=85.33 f1=86.05\n",
            "Obtained a new best validation metric of 86.046, saving model checkpoint to parsing_model.pt...\n"
          ],
          "name": "stdout"
        },
        {
          "output_type": "display_data",
          "data": {
            "application/vnd.jupyter.widget-view+json": {
              "model_id": "a0903c50c0074d0f9725a9c8f2468b8b",
              "version_minor": 0,
              "version_major": 2
            },
            "text/plain": [
              "HBox(children=(FloatProgress(value=0.0, description='epoch 10', max=2298.0, style=ProgressStyle(description_wi…"
            ]
          },
          "metadata": {
            "tags": []
          }
        },
        {
          "output_type": "stream",
          "text": [
            "\n",
            "precision=86.94 recall=86.91 f1=86.92\n",
            "Obtained a new best validation metric of 86.924, saving model checkpoint to parsing_model.pt...\n"
          ],
          "name": "stdout"
        },
        {
          "output_type": "display_data",
          "data": {
            "application/vnd.jupyter.widget-view+json": {
              "model_id": "d8fb1026e4304f42ba0db82e660b0e8a",
              "version_minor": 0,
              "version_major": 2
            },
            "text/plain": [
              "HBox(children=(FloatProgress(value=0.0, description='epoch 11', max=2298.0, style=ProgressStyle(description_wi…"
            ]
          },
          "metadata": {
            "tags": []
          }
        },
        {
          "output_type": "stream",
          "text": [
            "\n",
            "precision=87.67 recall=86.30 f1=86.98\n",
            "Obtained a new best validation metric of 86.975, saving model checkpoint to parsing_model.pt...\n"
          ],
          "name": "stdout"
        },
        {
          "output_type": "display_data",
          "data": {
            "application/vnd.jupyter.widget-view+json": {
              "model_id": "55acd1eff5124c7c825bc72e15362e8c",
              "version_minor": 0,
              "version_major": 2
            },
            "text/plain": [
              "HBox(children=(FloatProgress(value=0.0, description='epoch 12', max=2298.0, style=ProgressStyle(description_wi…"
            ]
          },
          "metadata": {
            "tags": []
          }
        },
        {
          "output_type": "stream",
          "text": [
            "\n",
            "precision=88.21 recall=86.79 f1=87.49\n",
            "Obtained a new best validation metric of 87.492, saving model checkpoint to parsing_model.pt...\n"
          ],
          "name": "stdout"
        },
        {
          "output_type": "display_data",
          "data": {
            "application/vnd.jupyter.widget-view+json": {
              "model_id": "8e693e4968c24b5781fb0002ceb9ff77",
              "version_minor": 0,
              "version_major": 2
            },
            "text/plain": [
              "HBox(children=(FloatProgress(value=0.0, description='epoch 13', max=2298.0, style=ProgressStyle(description_wi…"
            ]
          },
          "metadata": {
            "tags": []
          }
        },
        {
          "output_type": "stream",
          "text": [
            "\n",
            "precision=87.61 recall=87.69 f1=87.65\n",
            "Obtained a new best validation metric of 87.649, saving model checkpoint to parsing_model.pt...\n"
          ],
          "name": "stdout"
        },
        {
          "output_type": "display_data",
          "data": {
            "application/vnd.jupyter.widget-view+json": {
              "model_id": "011574a1c0cd4846b97562c6ba54bae9",
              "version_minor": 0,
              "version_major": 2
            },
            "text/plain": [
              "HBox(children=(FloatProgress(value=0.0, description='epoch 14', max=2298.0, style=ProgressStyle(description_wi…"
            ]
          },
          "metadata": {
            "tags": []
          }
        },
        {
          "output_type": "stream",
          "text": [
            "\n",
            "precision=88.14 recall=87.30 f1=87.72\n",
            "Obtained a new best validation metric of 87.717, saving model checkpoint to parsing_model.pt...\n"
          ],
          "name": "stdout"
        },
        {
          "output_type": "display_data",
          "data": {
            "application/vnd.jupyter.widget-view+json": {
              "model_id": "21292edbc5124ac9a8edfeadb104bb45",
              "version_minor": 0,
              "version_major": 2
            },
            "text/plain": [
              "HBox(children=(FloatProgress(value=0.0, description='epoch 15', max=2298.0, style=ProgressStyle(description_wi…"
            ]
          },
          "metadata": {
            "tags": []
          }
        },
        {
          "output_type": "stream",
          "text": [
            "\n",
            "precision=87.92 recall=87.58 f1=87.75\n",
            "Obtained a new best validation metric of 87.748, saving model checkpoint to parsing_model.pt...\n"
          ],
          "name": "stdout"
        },
        {
          "output_type": "display_data",
          "data": {
            "application/vnd.jupyter.widget-view+json": {
              "model_id": "a587aa5cc11e40d18aaaa1bc818d8e5e",
              "version_minor": 0,
              "version_major": 2
            },
            "text/plain": [
              "HBox(children=(FloatProgress(value=0.0, description='epoch 16', max=2298.0, style=ProgressStyle(description_wi…"
            ]
          },
          "metadata": {
            "tags": []
          }
        },
        {
          "output_type": "stream",
          "text": [
            "\n",
            "precision=88.07 recall=87.52 f1=87.79\n",
            "Obtained a new best validation metric of 87.793, saving model checkpoint to parsing_model.pt...\n",
            "\n",
            "Reloading best model checkpoint from parsing_model.pt...\n"
          ],
          "name": "stdout"
        }
      ]
    },
    {
      "cell_type": "markdown",
      "metadata": {
        "id": "tnSnBH-EMnuQ",
        "colab_type": "text"
      },
      "source": [
        "_We recommend that you download `parsing_model.pt` now in case your runtime gets disconnected._\n",
        "\n",
        "Having trained a parser, it is now time to have it produce trees. The `predict` function will run your parser on batches from the dataset; however, it requires that you implement the `cky_decode` function a few cells down."
      ]
    },
    {
      "cell_type": "code",
      "metadata": {
        "id": "RGk0toh0OIDK",
        "colab_type": "code",
        "colab": {}
      },
      "source": [
        "def predict(parsing_model, split, tagging_model=None):\n",
        "  assert split in ('dev', 'test')\n",
        "  if tagging_model is None:\n",
        "    tagged_sents = READER.tagged_sents(split)\n",
        "  else:\n",
        "    tagged_sents = predict_tags(tagging_model, split)\n",
        "  \n",
        "  label_scores_charts = predict_span_label_scores(parsing_model, split)\n",
        "\n",
        "  pred_trees = []\n",
        "  for tagged_sent, label_scores_chart in zip(tagged_sents, label_scores_charts):\n",
        "    leaves = [nltk.tree.Tree(tag, [word]) for word, tag in tagged_sent]\n",
        "    tree = cky_decode(leaves, label_scores_chart)\n",
        "    tree = uncollapse_tree(tree)\n",
        "    pred_trees.append(tree)\n",
        "  return pred_trees\n",
        "\n",
        "\n",
        "def predict_span_label_scores(parsing_model, split):\n",
        "  assert split in ('dev', 'test')\n",
        "  dataset = ParsingDataset(split)\n",
        "  data_loader = torch.utils.data.DataLoader(\n",
        "    dataset, batch_size=8, shuffle=False, collate_fn=dataset.collate)\n",
        "  parsing_model.eval()\n",
        "  all_label_scores_charts = []\n",
        "  with torch.no_grad():\n",
        "    for batch in data_loader:\n",
        "      label_scores_charts = parsing_model.encode(batch)\n",
        "      for i in range(batch['ids'].shape[0]):\n",
        "        label_scores_chart = label_scores_charts[i]\n",
        "\n",
        "        # The data pipeline uses is_word_end for consistency with the part of\n",
        "        # speech tagging models, but here we need is_word_start instead. Note\n",
        "        # that because span endpoints use exclusive indexing, the index actually\n",
        "        # points to the first subword in the next word.\n",
        "        is_word_end = batch['is_word_end'][i]\n",
        "        is_word_start = F.pad(is_word_end, (1, -1), value=False)\n",
        "        is_word_start[1] = True\n",
        "\n",
        "        # Extract scores for whole words only, ignoring any model decisions that\n",
        "        # have a span start or end halfway through a word. Evaluation for\n",
        "        # parsing typically uses the ground-truth tokenization from the dataset.\n",
        "        label_scores_chart = label_scores_chart[\n",
        "            is_word_start, : ,:][:, is_word_start, :]\n",
        "        label_scores_chart = label_scores_chart.cpu().numpy()\n",
        "\n",
        "        all_label_scores_charts.append(label_scores_chart)\n",
        "  return all_label_scores_charts\n",
        "\n",
        "\n",
        "def uncollapse_tree(tree):\n",
        "  if isinstance(tree, str):\n",
        "    return tree\n",
        "  else:\n",
        "    labels = tree.label().split('+')\n",
        "    children = []\n",
        "    for child in tree:\n",
        "      child = uncollapse_tree(child)\n",
        "      if isinstance(child, str) and (len(tree) > 1\n",
        "                                     or labels[-1] not in PARTS_OF_SPEECH):\n",
        "        child = nltk.tree.Tree('UNK', [child])\n",
        "      children.append(child)\n",
        "    for label in labels[::-1]:\n",
        "      children = [nltk.tree.Tree(label, children)]\n",
        "    return children[0]"
      ],
      "execution_count": 0,
      "outputs": []
    },
    {
      "cell_type": "markdown",
      "metadata": {
        "id": "xDMZUA84NM2R",
        "colab_type": "text"
      },
      "source": [
        "The argmax model predictions are not guaranteed to be a valid tree: some of the spans may intersect with one another, which is not allowed in our syntactic formalism. Your next task is to implement CKY decoding, which will be used to find the highest-scoring tree under the model (i.e. the set of span label assignments with highest probability, among all sets where none of the spans intersect).  You can reference the parsing lecture slides if you aren't sure where to start.  Note that the lecture slides CKY required special handling for unary chains, but you will not need to implement this case because we have collapsed all unary chains into a single label.  Also, while traditional CKY had to maximize over production rules (between a span label and its children's labels), here we can maximize over span labels independently because we aren't modeling interactions between adjacent labels.\n",
        "\n",
        "CKY is designed to handle binary trees, but some productions have greater than two children.  For this project, we will handle non-binary productions by allowing intermediate dummy nodes with a special null label, implemented in the code as an empty string '' at index 0 in SPAN_LABELS.  All non-spans are assigned this label.  You should allow your CKY to select spans with the null label, but then collapse them out when creating the tree.  For example, to create a trinary production \"(A  b c d)\", CKY would select a tree that looks like \"(A  b (null  c d))\" or \"(A  (null  b c) d)\" and then would remove the null nodes to get \"(A  b c d)\" like we wanted.\n",
        "\n",
        "You will find that if you allow CKY to select null labels and you directly use log probabilities as the scores, you will often end up with trees made up entirely of null labels.  This happens because many spans have a very high probability assigned to the null label (because they clearly shouldn't be a constituent), and choosing a maximum probability tree will be biased towards selecting these.  To avoid having high-probability null labels competing with non-null labels, we can normalize our scores in a different way: for each span, we will subtract the score (logit) of the null label from the scores of all the labels (both null and non-null).  This will make all null label scores 0, and scale the other label scores of the span appropriately.  This normalization will make it so that if a local span decision would prefer a non-null label it will have positive score, and thus have higher score than all 0-score null labels.  That way, we will prefer to use spans with non-null labels unless they conflict with eachother.\n",
        "\n",
        "Implementation tip: Don't forget that it is possible for the tree to have labels on spans of length 1.  These labels will go directly above the part of speech label.  Take a look at the example tree at the beginning of \"Parsing: Setup\", which has a NP span label directly above the NN part-of-speech label."
      ]
    },
    {
      "cell_type": "code",
      "metadata": {
        "id": "Bk1v6zptPrtL",
        "colab_type": "code",
        "colab": {}
      },
      "source": [
        "def cky_decode(leaves, label_scores_chart):\n",
        "  \"\"\"YOUR CODE HERE\"\"\"\n",
        "\n",
        "  label_scores_chart = label_scores_chart - label_scores_chart[:, :, 0][:, :, None]\n",
        "  max_scores_chart = label_scores_chart.max(axis=-1)\n",
        "  argmax_scores_chart = label_scores_chart.argmax(axis=-1)\n",
        "  scores = np.ones_like(max_scores_chart) * (-9999)\n",
        "  trees = {}\n",
        "  n = len(leaves)\n",
        "\n",
        "  for i in range(n):\n",
        "    scores[i, i + 1] = max_scores_chart[i, i + 1]\n",
        "    tag = SPAN_LABELS[argmax_scores_chart[i, i + 1]]\n",
        "    # Incorporate trees having spans of length 1\n",
        "    if tag:\n",
        "      trees[(i, i + 1)] = nltk.tree.Tree(tag, [leaves[i]])\n",
        "    else:\n",
        "      trees[(i, i + 1)] = leaves[i]\n",
        "\n",
        "  for diff in range(2, n + 1):\n",
        "\n",
        "    for i in range(n - diff + 1):\n",
        "\n",
        "      j = i + diff\n",
        "      for k in range(i + 1, j):\n",
        "        new_score = max_scores_chart[i, j] + scores[i, k] + scores[k, j]\n",
        "\n",
        "        if scores[i, j] < new_score:\n",
        "          tag = SPAN_LABELS[argmax_scores_chart[i, j]]\n",
        "          new_tree = nltk.tree.Tree(tag, [trees[i, k], trees[k, j]])\n",
        "          scores[i, j] = new_score\n",
        "          trees[(i, j)] = new_tree\n",
        "\n",
        "  tree = trees[(0, n)]\n",
        "  return collapse_binary_tree_with_null_tags(tree)[0]\n",
        "\n",
        "  if 'you have not implemented this function yet':\n",
        "    print('Leaves are:')\n",
        "    print(leaves)\n",
        "    print('label_scores_chart has the following shape:')\n",
        "    print(label_scores_chart.shape)\n",
        "    raise NotImplementedError()\n",
        "\n",
        "\n",
        "def collapse_binary_tree_with_null_tags(tree):\n",
        "  \n",
        "  if isinstance(tree, str):\n",
        "    return [tree]\n",
        "\n",
        "  else:\n",
        "    tag = tree.label()\n",
        "\n",
        "    if tag:\n",
        "\n",
        "      children = []\n",
        "      for child in tree:\n",
        "        children.extend( collapse_binary_tree_with_null_tags(child) )\n",
        "\n",
        "      new_tree = nltk.tree.Tree(tag, children)\n",
        "      return [new_tree] \n",
        "\n",
        "    else:\n",
        "\n",
        "      subtrees = []\n",
        "      for child in tree:\n",
        "        subtrees.extend( collapse_binary_tree_with_null_tags(child) )\n",
        "        \n",
        "      return subtrees"
      ],
      "execution_count": 0,
      "outputs": []
    },
    {
      "cell_type": "markdown",
      "metadata": {
        "id": "ZF7gyh-HNY7W",
        "colab_type": "text"
      },
      "source": [
        "The code below runs the parser on the validation data and displays one of the trees."
      ]
    },
    {
      "cell_type": "code",
      "metadata": {
        "id": "T3CLSr4cQODq",
        "colab_type": "code",
        "outputId": "144f369e-db9e-49bf-b01f-c7f495fe438c",
        "colab": {
          "base_uri": "https://localhost:8080/",
          "height": 573
        }
      },
      "source": [
        "predicted_dev_trees = predict(parsing_model, 'dev')\n",
        "predicted_dev_trees[6]"
      ],
      "execution_count": 55,
      "outputs": [
        {
          "output_type": "execute_result",
          "data": {
            "text/plain": [
              "Tree('S', [Tree('NP', [Tree('DT', ['Another']), Tree('QP', [Tree('$', ['$']), Tree('CD', ['20']), Tree('CD', ['billion'])])]), Tree('VP', [Tree('MD', ['would']), Tree('VP', [Tree('VB', ['be']), Tree('VP', [Tree('VBN', ['raised']), Tree('PP', [Tree('IN', ['through']), Tree('NP', [Tree('NP', [Tree('NNP', ['Treasury']), Tree('NNS', ['bonds'])]), Tree(',', [',']), Tree('SBAR', [Tree('WHNP', [Tree('WDT', ['which'])]), Tree('S', [Tree('VP', [Tree('VBP', ['pay']), Tree('NP', [Tree('JJR', ['lower']), Tree('NN', ['interest']), Tree('NNS', ['rates'])])])])])])])])])]), Tree('.', ['.'])])"
            ],
            "image/svg+xml": "<svg baseProfile=\"full\" height=\"552px\" preserveAspectRatio=\"xMidYMid meet\" style=\"font-family: times, serif; font-weight:normal; font-style: normal; font-size: 16px;\" version=\"1.1\" viewBox=\"0,0,896.0,552.0\" width=\"896px\" xmlns=\"http://www.w3.org/2000/svg\" xmlns:ev=\"http://www.w3.org/2001/xml-events\" xmlns:xlink=\"http://www.w3.org/1999/xlink\"><defs /><svg width=\"100%\" x=\"0\" y=\"0em\"><defs /><text text-anchor=\"middle\" x=\"50%\" y=\"1em\">S</text></svg><svg width=\"22.3214%\" x=\"0%\" y=\"3em\"><defs /><svg width=\"100%\" x=\"0\" y=\"0em\"><defs /><text text-anchor=\"middle\" x=\"50%\" y=\"1em\">NP</text></svg><svg width=\"36%\" x=\"0%\" y=\"3em\"><defs /><svg width=\"100%\" x=\"0\" y=\"0em\"><defs /><text text-anchor=\"middle\" x=\"50%\" y=\"1em\">DT</text></svg><svg width=\"100%\" x=\"0%\" y=\"3em\"><defs /><svg width=\"100%\" x=\"0\" y=\"0em\"><defs /><text text-anchor=\"middle\" x=\"50%\" y=\"1em\">Another</text></svg></svg><line stroke=\"black\" x1=\"50%\" x2=\"50%\" y1=\"1.2em\" y2=\"3em\" /></svg><line stroke=\"black\" x1=\"50%\" x2=\"18%\" y1=\"1.2em\" y2=\"3em\" /><svg width=\"64%\" x=\"36%\" y=\"3em\"><defs /><svg width=\"100%\" x=\"0\" y=\"0em\"><defs /><text text-anchor=\"middle\" x=\"50%\" y=\"1em\">QP</text></svg><svg width=\"18.75%\" x=\"0%\" y=\"3em\"><defs /><svg width=\"100%\" x=\"0\" y=\"0em\"><defs /><text text-anchor=\"middle\" x=\"50%\" y=\"1em\">$</text></svg><svg width=\"100%\" x=\"0%\" y=\"3em\"><defs /><svg width=\"100%\" x=\"0\" y=\"0em\"><defs /><text text-anchor=\"middle\" x=\"50%\" y=\"1em\">$</text></svg></svg><line stroke=\"black\" x1=\"50%\" x2=\"50%\" y1=\"1.2em\" y2=\"3em\" /></svg><line stroke=\"black\" x1=\"50%\" x2=\"9.375%\" y1=\"1.2em\" y2=\"3em\" /><svg width=\"25%\" x=\"18.75%\" y=\"3em\"><defs /><svg width=\"100%\" x=\"0\" y=\"0em\"><defs /><text text-anchor=\"middle\" x=\"50%\" y=\"1em\">CD</text></svg><svg width=\"100%\" x=\"0%\" y=\"3em\"><defs /><svg width=\"100%\" x=\"0\" y=\"0em\"><defs /><text text-anchor=\"middle\" x=\"50%\" y=\"1em\">20</text></svg></svg><line stroke=\"black\" x1=\"50%\" x2=\"50%\" y1=\"1.2em\" y2=\"3em\" /></svg><line stroke=\"black\" x1=\"50%\" x2=\"31.25%\" y1=\"1.2em\" y2=\"3em\" /><svg width=\"56.25%\" x=\"43.75%\" y=\"3em\"><defs /><svg width=\"100%\" x=\"0\" y=\"0em\"><defs /><text text-anchor=\"middle\" x=\"50%\" y=\"1em\">CD</text></svg><svg width=\"100%\" x=\"0%\" y=\"3em\"><defs /><svg width=\"100%\" x=\"0\" y=\"0em\"><defs /><text text-anchor=\"middle\" x=\"50%\" y=\"1em\">billion</text></svg></svg><line stroke=\"black\" x1=\"50%\" x2=\"50%\" y1=\"1.2em\" y2=\"3em\" /></svg><line stroke=\"black\" x1=\"50%\" x2=\"71.875%\" y1=\"1.2em\" y2=\"3em\" /></svg><line stroke=\"black\" x1=\"50%\" x2=\"68%\" y1=\"1.2em\" y2=\"3em\" /></svg><line stroke=\"black\" x1=\"50%\" x2=\"11.1607%\" y1=\"1.2em\" y2=\"3em\" /><svg width=\"75%\" x=\"22.3214%\" y=\"3em\"><defs /><svg width=\"100%\" x=\"0\" y=\"0em\"><defs /><text text-anchor=\"middle\" x=\"50%\" y=\"1em\">VP</text></svg><svg width=\"8.33333%\" x=\"0%\" y=\"3em\"><defs /><svg width=\"100%\" x=\"0\" y=\"0em\"><defs /><text text-anchor=\"middle\" x=\"50%\" y=\"1em\">MD</text></svg><svg width=\"100%\" x=\"0%\" y=\"3em\"><defs /><svg width=\"100%\" x=\"0\" y=\"0em\"><defs /><text text-anchor=\"middle\" x=\"50%\" y=\"1em\">would</text></svg></svg><line stroke=\"black\" x1=\"50%\" x2=\"50%\" y1=\"1.2em\" y2=\"3em\" /></svg><line stroke=\"black\" x1=\"50%\" x2=\"4.16667%\" y1=\"1.2em\" y2=\"3em\" /><svg width=\"91.6667%\" x=\"8.33333%\" y=\"3em\"><defs /><svg width=\"100%\" x=\"0\" y=\"0em\"><defs /><text text-anchor=\"middle\" x=\"50%\" y=\"1em\">VP</text></svg><svg width=\"5.19481%\" x=\"0%\" y=\"3em\"><defs /><svg width=\"100%\" x=\"0\" y=\"0em\"><defs /><text text-anchor=\"middle\" x=\"50%\" y=\"1em\">VB</text></svg><svg width=\"100%\" x=\"0%\" y=\"3em\"><defs /><svg width=\"100%\" x=\"0\" y=\"0em\"><defs /><text text-anchor=\"middle\" x=\"50%\" y=\"1em\">be</text></svg></svg><line stroke=\"black\" x1=\"50%\" x2=\"50%\" y1=\"1.2em\" y2=\"3em\" /></svg><line stroke=\"black\" x1=\"50%\" x2=\"2.5974%\" y1=\"1.2em\" y2=\"3em\" /><svg width=\"94.8052%\" x=\"5.19481%\" y=\"3em\"><defs /><svg width=\"100%\" x=\"0\" y=\"0em\"><defs /><text text-anchor=\"middle\" x=\"50%\" y=\"1em\">VP</text></svg><svg width=\"10.9589%\" x=\"0%\" y=\"3em\"><defs /><svg width=\"100%\" x=\"0\" y=\"0em\"><defs /><text text-anchor=\"middle\" x=\"50%\" y=\"1em\">VBN</text></svg><svg width=\"100%\" x=\"0%\" y=\"3em\"><defs /><svg width=\"100%\" x=\"0\" y=\"0em\"><defs /><text text-anchor=\"middle\" x=\"50%\" y=\"1em\">raised</text></svg></svg><line stroke=\"black\" x1=\"50%\" x2=\"50%\" y1=\"1.2em\" y2=\"3em\" /></svg><line stroke=\"black\" x1=\"50%\" x2=\"5.47945%\" y1=\"1.2em\" y2=\"3em\" /><svg width=\"89.0411%\" x=\"10.9589%\" y=\"3em\"><defs /><svg width=\"100%\" x=\"0\" y=\"0em\"><defs /><text text-anchor=\"middle\" x=\"50%\" y=\"1em\">PP</text></svg><svg width=\"13.8462%\" x=\"0%\" y=\"3em\"><defs /><svg width=\"100%\" x=\"0\" y=\"0em\"><defs /><text text-anchor=\"middle\" x=\"50%\" y=\"1em\">IN</text></svg><svg width=\"100%\" x=\"0%\" y=\"3em\"><defs /><svg width=\"100%\" x=\"0\" y=\"0em\"><defs /><text text-anchor=\"middle\" x=\"50%\" y=\"1em\">through</text></svg></svg><line stroke=\"black\" x1=\"50%\" x2=\"50%\" y1=\"1.2em\" y2=\"3em\" /></svg><line stroke=\"black\" x1=\"50%\" x2=\"6.92308%\" y1=\"1.2em\" y2=\"3em\" /><svg width=\"86.1538%\" x=\"13.8462%\" y=\"3em\"><defs /><svg width=\"100%\" x=\"0\" y=\"0em\"><defs /><text text-anchor=\"middle\" x=\"50%\" y=\"1em\">NP</text></svg><svg width=\"30.3571%\" x=\"0%\" y=\"3em\"><defs /><svg width=\"100%\" x=\"0\" y=\"0em\"><defs /><text text-anchor=\"middle\" x=\"50%\" y=\"1em\">NP</text></svg><svg width=\"58.8235%\" x=\"0%\" y=\"3em\"><defs /><svg width=\"100%\" x=\"0\" y=\"0em\"><defs /><text text-anchor=\"middle\" x=\"50%\" y=\"1em\">NNP</text></svg><svg width=\"100%\" x=\"0%\" y=\"3em\"><defs /><svg width=\"100%\" x=\"0\" y=\"0em\"><defs /><text text-anchor=\"middle\" x=\"50%\" y=\"1em\">Treasury</text></svg></svg><line stroke=\"black\" x1=\"50%\" x2=\"50%\" y1=\"1.2em\" y2=\"3em\" /></svg><line stroke=\"black\" x1=\"50%\" x2=\"29.4118%\" y1=\"1.2em\" y2=\"3em\" /><svg width=\"41.1765%\" x=\"58.8235%\" y=\"3em\"><defs /><svg width=\"100%\" x=\"0\" y=\"0em\"><defs /><text text-anchor=\"middle\" x=\"50%\" y=\"1em\">NNS</text></svg><svg width=\"100%\" x=\"0%\" y=\"3em\"><defs /><svg width=\"100%\" x=\"0\" y=\"0em\"><defs /><text text-anchor=\"middle\" x=\"50%\" y=\"1em\">bonds</text></svg></svg><line stroke=\"black\" x1=\"50%\" x2=\"50%\" y1=\"1.2em\" y2=\"3em\" /></svg><line stroke=\"black\" x1=\"50%\" x2=\"79.4118%\" y1=\"1.2em\" y2=\"3em\" /></svg><line stroke=\"black\" x1=\"50%\" x2=\"15.1786%\" y1=\"1.2em\" y2=\"3em\" /><svg width=\"5.35714%\" x=\"30.3571%\" y=\"3em\"><defs /><svg width=\"100%\" x=\"0\" y=\"0em\"><defs /><text text-anchor=\"middle\" x=\"50%\" y=\"1em\">,</text></svg><svg width=\"100%\" x=\"0%\" y=\"3em\"><defs /><svg width=\"100%\" x=\"0\" y=\"0em\"><defs /><text text-anchor=\"middle\" x=\"50%\" y=\"1em\">,</text></svg></svg><line stroke=\"black\" x1=\"50%\" x2=\"50%\" y1=\"1.2em\" y2=\"3em\" /></svg><line stroke=\"black\" x1=\"50%\" x2=\"33.0357%\" y1=\"1.2em\" y2=\"3em\" /><svg width=\"64.2857%\" x=\"35.7143%\" y=\"3em\"><defs /><svg width=\"100%\" x=\"0\" y=\"0em\"><defs /><text text-anchor=\"middle\" x=\"50%\" y=\"1em\">SBAR</text></svg><svg width=\"19.4444%\" x=\"0%\" y=\"3em\"><defs /><svg width=\"100%\" x=\"0\" y=\"0em\"><defs /><text text-anchor=\"middle\" x=\"50%\" y=\"1em\">WHNP</text></svg><svg width=\"100%\" x=\"0%\" y=\"3em\"><defs /><svg width=\"100%\" x=\"0\" y=\"0em\"><defs /><text text-anchor=\"middle\" x=\"50%\" y=\"1em\">WDT</text></svg><svg width=\"100%\" x=\"0%\" y=\"3em\"><defs /><svg width=\"100%\" x=\"0\" y=\"0em\"><defs /><text text-anchor=\"middle\" x=\"50%\" y=\"1em\">which</text></svg></svg><line stroke=\"black\" x1=\"50%\" x2=\"50%\" y1=\"1.2em\" y2=\"3em\" /></svg><line stroke=\"black\" x1=\"50%\" x2=\"50%\" y1=\"1.2em\" y2=\"3em\" /></svg><line stroke=\"black\" x1=\"50%\" x2=\"9.72222%\" y1=\"1.2em\" y2=\"3em\" /><svg width=\"80.5556%\" x=\"19.4444%\" y=\"3em\"><defs /><svg width=\"100%\" x=\"0\" y=\"0em\"><defs /><text text-anchor=\"middle\" x=\"50%\" y=\"1em\">S</text></svg><svg width=\"100%\" x=\"0%\" y=\"3em\"><defs /><svg width=\"100%\" x=\"0\" y=\"0em\"><defs /><text text-anchor=\"middle\" x=\"50%\" y=\"1em\">VP</text></svg><svg width=\"17.2414%\" x=\"0%\" y=\"3em\"><defs /><svg width=\"100%\" x=\"0\" y=\"0em\"><defs /><text text-anchor=\"middle\" x=\"50%\" y=\"1em\">VBP</text></svg><svg width=\"100%\" x=\"0%\" y=\"3em\"><defs /><svg width=\"100%\" x=\"0\" y=\"0em\"><defs /><text text-anchor=\"middle\" x=\"50%\" y=\"1em\">pay</text></svg></svg><line stroke=\"black\" x1=\"50%\" x2=\"50%\" y1=\"1.2em\" y2=\"3em\" /></svg><line stroke=\"black\" x1=\"50%\" x2=\"8.62069%\" y1=\"1.2em\" y2=\"3em\" /><svg width=\"82.7586%\" x=\"17.2414%\" y=\"3em\"><defs /><svg width=\"100%\" x=\"0\" y=\"0em\"><defs /><text text-anchor=\"middle\" x=\"50%\" y=\"1em\">NP</text></svg><svg width=\"29.1667%\" x=\"0%\" y=\"3em\"><defs /><svg width=\"100%\" x=\"0\" y=\"0em\"><defs /><text text-anchor=\"middle\" x=\"50%\" y=\"1em\">JJR</text></svg><svg width=\"100%\" x=\"0%\" y=\"3em\"><defs /><svg width=\"100%\" x=\"0\" y=\"0em\"><defs /><text text-anchor=\"middle\" x=\"50%\" y=\"1em\">lower</text></svg></svg><line stroke=\"black\" x1=\"50%\" x2=\"50%\" y1=\"1.2em\" y2=\"3em\" /></svg><line stroke=\"black\" x1=\"50%\" x2=\"14.5833%\" y1=\"1.2em\" y2=\"3em\" /><svg width=\"41.6667%\" x=\"29.1667%\" y=\"3em\"><defs /><svg width=\"100%\" x=\"0\" y=\"0em\"><defs /><text text-anchor=\"middle\" x=\"50%\" y=\"1em\">NN</text></svg><svg width=\"100%\" x=\"0%\" y=\"3em\"><defs /><svg width=\"100%\" x=\"0\" y=\"0em\"><defs /><text text-anchor=\"middle\" x=\"50%\" y=\"1em\">interest</text></svg></svg><line stroke=\"black\" x1=\"50%\" x2=\"50%\" y1=\"1.2em\" y2=\"3em\" /></svg><line stroke=\"black\" x1=\"50%\" x2=\"50%\" y1=\"1.2em\" y2=\"3em\" /><svg width=\"29.1667%\" x=\"70.8333%\" y=\"3em\"><defs /><svg width=\"100%\" x=\"0\" y=\"0em\"><defs /><text text-anchor=\"middle\" x=\"50%\" y=\"1em\">NNS</text></svg><svg width=\"100%\" x=\"0%\" y=\"3em\"><defs /><svg width=\"100%\" x=\"0\" y=\"0em\"><defs /><text text-anchor=\"middle\" x=\"50%\" y=\"1em\">rates</text></svg></svg><line stroke=\"black\" x1=\"50%\" x2=\"50%\" y1=\"1.2em\" y2=\"3em\" /></svg><line stroke=\"black\" x1=\"50%\" x2=\"85.4167%\" y1=\"1.2em\" y2=\"3em\" /></svg><line stroke=\"black\" x1=\"50%\" x2=\"58.6207%\" y1=\"1.2em\" y2=\"3em\" /></svg><line stroke=\"black\" x1=\"50%\" x2=\"50%\" y1=\"1.2em\" y2=\"3em\" /></svg><line stroke=\"black\" x1=\"50%\" x2=\"59.7222%\" y1=\"1.2em\" y2=\"3em\" /></svg><line stroke=\"black\" x1=\"50%\" x2=\"67.8571%\" y1=\"1.2em\" y2=\"3em\" /></svg><line stroke=\"black\" x1=\"50%\" x2=\"56.9231%\" y1=\"1.2em\" y2=\"3em\" /></svg><line stroke=\"black\" x1=\"50%\" x2=\"55.4795%\" y1=\"1.2em\" y2=\"3em\" /></svg><line stroke=\"black\" x1=\"50%\" x2=\"52.5974%\" y1=\"1.2em\" y2=\"3em\" /></svg><line stroke=\"black\" x1=\"50%\" x2=\"54.1667%\" y1=\"1.2em\" y2=\"3em\" /></svg><line stroke=\"black\" x1=\"50%\" x2=\"59.8214%\" y1=\"1.2em\" y2=\"3em\" /><svg width=\"2.67857%\" x=\"97.3214%\" y=\"3em\"><defs /><svg width=\"100%\" x=\"0\" y=\"0em\"><defs /><text text-anchor=\"middle\" x=\"50%\" y=\"1em\">.</text></svg><svg width=\"100%\" x=\"0%\" y=\"3em\"><defs /><svg width=\"100%\" x=\"0\" y=\"0em\"><defs /><text text-anchor=\"middle\" x=\"50%\" y=\"1em\">.</text></svg></svg><line stroke=\"black\" x1=\"50%\" x2=\"50%\" y1=\"1.2em\" y2=\"3em\" /></svg><line stroke=\"black\" x1=\"50%\" x2=\"98.6607%\" y1=\"1.2em\" y2=\"3em\" /></svg>"
          },
          "metadata": {
            "tags": []
          },
          "execution_count": 55
        }
      ]
    },
    {
      "cell_type": "markdown",
      "metadata": {
        "id": "TFbnEobgQIWx",
        "colab_type": "text"
      },
      "source": [
        "## Final evaluation"
      ]
    },
    {
      "cell_type": "markdown",
      "metadata": {
        "id": "gb5gwdPjQ9gi",
        "colab_type": "text"
      },
      "source": [
        "The standard evaluation for parsing is typically performed using the EVALB software (https://nlp.cs.nyu.edu/evalb/). The F1 score it reports is slightly different than what we reported during training. For one, this score is computed over original spans, without collapsing unary chains. For a constituent to be considered correct, its label must match the ground-truth label. EVALB also ignores punctuation when determining whether spans are correct.\n",
        "\n",
        "The metrics reported by EVALB include:\n",
        "- *Bracketing Recall*: Number of correct constituents divided by the number of constituents in the ground-truth data\n",
        "- *Bracketing Precision*: Number of correct constituents divided by the number of constituents in the predicted trees\n",
        "- *Bracketing FMeasure*: The F1 score, which is the harmonic mean of the Bracketing Recall and Bracketing Precision\n",
        "- *Complete Match*: Percentage of sentences where recall and precision are both 100%\n",
        "- *Average crossing*: Number of constituents crossing a ground-truth constituent divided by the number of sentences\n",
        "- *No crossing*: Percentage of sentences which have 0 crossing brackets\n",
        "\n",
        "Metrics are reported both for the full dataset and for the subset of sentences that have length 40 or shorter.\n",
        "\n",
        "Your model should be able to achieve an F1 score (\"Bracketing FMeasure\") **above 89.0 for sentences of length 40 or shorter** (\"len<=40\"). **The autograder will check this number as part of grading.**\n",
        "\n",
        "In the interest of speed, the code in this project only trains on short sentences, and our recommended hyperparameters keep the model size small. Relaxing these restrictions and training for about a day can give better results, possibly as high as 92 F1 on sentences of all lengths."
      ]
    },
    {
      "cell_type": "code",
      "metadata": {
        "id": "gNePLbPGQkrk",
        "colab_type": "code",
        "outputId": "32440b39-f6e3-414f-ef81-6b7fc59d7a8f",
        "colab": {
          "base_uri": "https://localhost:8080/",
          "height": 52
        }
      },
      "source": [
        "# We first need to compile the EVALB program\n",
        "%cd EVALB\n",
        "!make &> /dev/null\n",
        "%cd .."
      ],
      "execution_count": 40,
      "outputs": [
        {
          "output_type": "stream",
          "text": [
            "/content/EVALB\n",
            "/content\n"
          ],
          "name": "stdout"
        }
      ]
    },
    {
      "cell_type": "code",
      "metadata": {
        "id": "m7vBflpYQKof",
        "colab_type": "code",
        "colab": {}
      },
      "source": [
        "with open('./dev_predictions_parser_only.txt', 'w') as f:\n",
        "  for tree in predicted_dev_trees:\n",
        "    f.write(' '.join(str(tree).split()) + '\\n')"
      ],
      "execution_count": 0,
      "outputs": []
    },
    {
      "cell_type": "code",
      "metadata": {
        "id": "G-DeuFtciydn",
        "colab_type": "code",
        "outputId": "b1dec217-b74a-4efa-c3cc-0fec91d2b707",
        "colab": {
          "base_uri": "https://localhost:8080/",
          "height": 521
        }
      },
      "source": [
        "!EVALB/evalb -p EVALB/nk.prm dev dev_predictions_parser_only.txt | tail -n 29"
      ],
      "execution_count": 57,
      "outputs": [
        {
          "output_type": "stream",
          "text": [
            "=== Summary ===\n",
            "\n",
            "-- All --\n",
            "Number of sentence        =   1700\n",
            "Number of Error sentence  =      0\n",
            "Number of Skip  sentence  =      0\n",
            "Number of Valid sentence  =   1700\n",
            "Bracketing Recall         =  87.88\n",
            "Bracketing Precision      =  90.75\n",
            "Bracketing FMeasure       =  89.29\n",
            "Complete match            =  32.41\n",
            "Average crossing          =   0.63\n",
            "No crossing               =  73.29\n",
            "2 or less crossing        =  92.35\n",
            "Tagging accuracy          = 100.00\n",
            "\n",
            "-- len<=40 --\n",
            "Number of sentence        =   1578\n",
            "Number of Error sentence  =      0\n",
            "Number of Skip  sentence  =      0\n",
            "Number of Valid sentence  =   1578\n",
            "Bracketing Recall         =  89.56\n",
            "Bracketing Precision      =  92.00\n",
            "Bracketing FMeasure       =  90.76\n",
            "Complete match            =  34.85\n",
            "Average crossing          =   0.44\n",
            "No crossing               =  77.19\n",
            "2 or less crossing        =  94.55\n",
            "Tagging accuracy          = 100.00\n"
          ],
          "name": "stdout"
        }
      ]
    },
    {
      "cell_type": "markdown",
      "metadata": {
        "id": "kotdLszxHWWJ",
        "colab_type": "text"
      },
      "source": [
        "## Submission"
      ]
    },
    {
      "cell_type": "markdown",
      "metadata": {
        "id": "-onu93vgG2-U",
        "colab_type": "text"
      },
      "source": [
        "Your submission should consist of your code, as well as parsing and tagging predictions for both validation and test data. Turn in the following files on Gradescope:\n",
        "* proj_3.ipynb (this file; please rename to match)\n",
        "* dev_predictions_tagger_only.txt\n",
        "* dev_spans.txt\n",
        "* dev_predictions_parser_only.txt\n",
        "* test_predictions.txt\n",
        "\n",
        "Here, the `predict` function runs both the tagger and the parser, combining their results into a single tree object. The predicted trees are saved as text files, with one line per tree.\n",
        "\n",
        "Be sure to check the output of the autograder after it runs.  It should confirm that no files are missing and that the output files have the correct format."
      ]
    },
    {
      "cell_type": "code",
      "metadata": {
        "id": "MEKX13O00oXI",
        "colab_type": "code",
        "colab": {}
      },
      "source": [
        "# Uncomment this code to restore models from a checkpoint.\n",
        "\n",
        "tagging_model = TransformerPOSTaggingModel().to(device)\n",
        "tagging_model.load_state_dict(torch.load('tagging_model.pt'))\n",
        "parsing_model = TransformerParsingModel().to(device)\n",
        "parsing_model.load_state_dict(torch.load('parsing_model.pt'))\n",
        "\n",
        "with open('./dev_predictions_tagger_only.txt', 'w') as f:\n",
        "  for tagged_sent in predict_tags(tagging_model, 'dev'):\n",
        "    leaves = [nltk.tree.Tree(tag, [word]) for word, tag in tagged_sent]\n",
        "    dummy_tree = nltk.tree.Tree('TOP', leaves)\n",
        "    f.write(' '.join(str(dummy_tree).split()) + '\\n')\n",
        "\n",
        "with open('./dev_spans.txt', 'w') as f:\n",
        "  for n, chart in enumerate(predict_span_label_scores(parsing_model, 'dev')):\n",
        "    chart = np.argmax(chart, -1)\n",
        "    for i in range(chart.shape[0]):\n",
        "      for j in range(i+1, chart.shape[1]):\n",
        "        if chart[i, j] > 0:\n",
        "          f.write(f'{n} {i} {j} {SPAN_LABELS[chart[i, j]]}\\n')\n",
        "\n",
        "with open('./dev_predictions_parser_only.txt', 'w') as f:\n",
        "  for tree in predict(parsing_model, 'dev'):\n",
        "    f.write(' '.join(str(tree).split()) + '\\n')\n",
        "\n",
        "with open('./test_predictions.txt', 'w') as f:\n",
        "  for tree in predict(parsing_model, 'test', tagging_model=tagging_model):\n",
        "    f.write(' '.join(str(tree).split()) + '\\n')"
      ],
      "execution_count": 0,
      "outputs": []
    }
  ]
}